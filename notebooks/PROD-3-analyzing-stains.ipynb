{
 "cells": [
  {
   "cell_type": "markdown",
   "metadata": {},
   "source": [
    "# Data Analysis\n",
    "\n",
    "This notebook analyses the results of the element categorization and area estimations from the last notebook."
   ]
  },
  {
   "cell_type": "code",
   "execution_count": 1,
   "metadata": {},
   "outputs": [],
   "source": [
    "%load_ext autoreload\n",
    "%autoreload 2\n",
    "%matplotlib inline"
   ]
  },
  {
   "cell_type": "code",
   "execution_count": 2,
   "metadata": {},
   "outputs": [
    {
     "data": {
      "application/javascript": [
       "MathJax.Hub.Config({\n",
       "    TeX: { equationNumbers: { autoNumber: \"AMS\" } }\n",
       "});\n"
      ],
      "text/plain": [
       "<IPython.core.display.Javascript object>"
      ]
     },
     "metadata": {},
     "output_type": "display_data"
    }
   ],
   "source": [
    "%%javascript\n",
    "MathJax.Hub.Config({\n",
    "    TeX: { equationNumbers: { autoNumber: \"AMS\" } }\n",
    "});"
   ]
  },
  {
   "cell_type": "code",
   "execution_count": 3,
   "metadata": {},
   "outputs": [],
   "source": [
    "import os\n",
    "import sys\n",
    "import json\n",
    "import time\n",
    "import glob\n",
    "import tempfile\n",
    "import warnings\n",
    "import inspect\n",
    "from collections import Counter\n",
    "from multiprocessing import Pool\n",
    "warnings.filterwarnings('ignore')\n",
    "\n",
    "import numpy as np\n",
    "import pandas as pd\n",
    "from scipy.stats import t\n",
    "import matplotlib.pyplot as plt\n",
    "from matplotlib.patches import Patch\n",
    "from matplotlib.lines import Line2D\n",
    "from bs4 import BeautifulSoup\n",
    "from tqdm import tqdm\n",
    "from IPython.display import display\n",
    "\n",
    "sys.path.append(\"..\")\n",
    "from utils.config import (\n",
    "    google_domains,\n",
    "    cat2color\n",
    ")"
   ]
  },
  {
   "cell_type": "code",
   "execution_count": 4,
   "metadata": {},
   "outputs": [],
   "source": [
    "# variables\n",
    "subsample = True\n",
    "data_dir = '../data' if not subsample else '../data_subsample'"
   ]
  },
  {
   "cell_type": "code",
   "execution_count": 5,
   "metadata": {},
   "outputs": [],
   "source": [
    "# input\n",
    "fn_metadata = f'{data_dir}/intermediary/element_metadata.jsonl.gz'\n",
    "\n",
    "# output\n",
    "output_dir = f'{data_dir}/output'\n",
    "tables_dir = os.path.join(output_dir, 'tables/')\n",
    "figure_dir = os.path.join(output_dir, 'figures/')\n",
    "appendix_dir = os.path.join(output_dir, 'appendix/')\n",
    "\n",
    "for d in [tables_dir, figure_dir, appendix_dir]:\n",
    "    os.makedirs(d, exist_ok=True)"
   ]
  },
  {
   "cell_type": "code",
   "execution_count": 6,
   "metadata": {},
   "outputs": [],
   "source": [
    "df = pd.read_json(fn_metadata, \n",
    "                  lines=True, \n",
    "                  compression='gzip')"
   ]
  },
  {
   "cell_type": "code",
   "execution_count": 7,
   "metadata": {},
   "outputs": [
    {
     "data": {
      "text/plain": [
       "7.4902109e+16"
      ]
     },
     "execution_count": 7,
     "metadata": {},
     "output_type": "execute_result"
    }
   ],
   "source": [
    "df.memory_usage(index=True, deep=True).sum() / 1e-9"
   ]
  },
  {
   "cell_type": "code",
   "execution_count": 8,
   "metadata": {},
   "outputs": [
    {
     "data": {
      "text/plain": [
       "{'text': 'frocktober poster',\n",
       " 'link': '/search?q=frocktober+poster&sa=X&ved=2ahUKEwiE4tPl-tPlAhUEUt8KHT2tDr8Q1QIwDnoECAsQAg',\n",
       " 'domain': 'google.com',\n",
       " 'xpath': '/html/body/div[10]/div/div[6]/div/div[4]/div/div/div[1]/div/div/a[1]',\n",
       " 'category': 'link-google',\n",
       " 'tag': 'a',\n",
       " 'attrs': {'class': ['F3dFTe'],\n",
       "  'href': '/search?q=frocktober+poster&sa=X&ved=2ahUKEwiE4tPl-tPlAhUEUt8KHT2tDr8Q1QIwDnoECAsQAg'},\n",
       " 'dimensions': {'height': 48.0, 'width': 315.0},\n",
       " 'location': {'x': 24, 'y': 2270},\n",
       " 'area_page': 15120.0,\n",
       " 'fn_input': '../data/input/google_search/iPhone-X/2019/11/05/Frocktober/html/webpage_raw.html',\n",
       " 'position_last_element': 2425,\n",
       " 'fn_metadata': '../data_subsample/intermediary/google_search/iPhone-X/2019/11/05/Frocktober/json/parsed_meta.jsonl',\n",
       " 'q1_area': 0.0,\n",
       " 'q2_area': 0.0,\n",
       " 'q3_area': 0.0,\n",
       " 'q4_area': 0.0,\n",
       " 'q5_area': 0.0,\n",
       " 'q6_area': 0.0,\n",
       " 'q7_area': 0.0,\n",
       " 'q8_area': 0.0,\n",
       " 'q9_area': 0.0,\n",
       " 'q10_area': 0.0,\n",
       " 'q11_area': 0.0,\n",
       " 'q12_area': 0.0,\n",
       " 'q13_area': 0.0,\n",
       " 'q14_area': 0.0,\n",
       " 'q15_area': 0.0,\n",
       " 'q16_area': 0.0,\n",
       " 'q17_area': 0.0,\n",
       " 'q18_area': 0.0,\n",
       " 'q19_area': 0.0,\n",
       " 'q20_area': 0.0,\n",
       " 'q21_area': 0.0,\n",
       " 'q22_area': 0.0,\n",
       " 'q23_area': 0.0,\n",
       " 'q24_area': 0.0,\n",
       " 'q25_area': 0.0,\n",
       " 'q26_area': 0.0,\n",
       " 'q27_area': 0.0,\n",
       " 'q28_area': 0.0,\n",
       " 'q29_area': 0.0,\n",
       " 'q30_area': 0.0,\n",
       " 'q31_area': 0.0,\n",
       " 'q32_area': 0.0,\n",
       " 'q33_area': 0.0,\n",
       " 'q34_area': 0.0,\n",
       " 'q35_area': 0.0,\n",
       " 'q36_area': 0.0,\n",
       " 'q37_area': 0.0,\n",
       " 'q38_area': 0.0,\n",
       " 'q39_area': 0.0,\n",
       " 'q40_area': 0.0,\n",
       " 'q41_area': 0.0,\n",
       " 'q42_area': 0.0,\n",
       " 'q43_area': 0.0,\n",
       " 'q44_area': 0.0,\n",
       " 'q45_area': 0.0,\n",
       " 'q46_area': 0.0,\n",
       " 'q47_area': 6016.499999999971,\n",
       " 'q48_area': 9103.50000000003,\n",
       " 'q49_area': 0.0,\n",
       " 'q50_area': 0.0,\n",
       " 'area_above_the_fold': 0.0,\n",
       " 'label': 'link',\n",
       " 'category_standard': 'google-search',\n",
       " 'date_parsed': '2020-06-13',\n",
       " 'date_collected': '2019-11-05'}"
      ]
     },
     "execution_count": 8,
     "metadata": {},
     "output_type": "execute_result"
    }
   ],
   "source": [
    "# recall a record looks like this\n",
    "df.sample(1).iloc[-1].to_dict()"
   ]
  },
  {
   "cell_type": "code",
   "execution_count": 9,
   "metadata": {},
   "outputs": [],
   "source": [
    "total_area = df.area_above_the_fold.sum()\n",
    "total_area_fp = df.area_page.sum()"
   ]
  },
  {
   "cell_type": "code",
   "execution_count": 10,
   "metadata": {},
   "outputs": [],
   "source": [
    "label2publabel = {\n",
    "    'link' : 'Google Product',\n",
    "    'answer' : 'Google Answer',\n",
    "    'organic' : 'Non-Google',\n",
    "    'amp' : 'AMP',\n",
    "    'ads' : 'Ads'\n",
    "}"
   ]
  },
  {
   "cell_type": "markdown",
   "metadata": {},
   "source": [
    "\\begin{equation}\n",
    "X_{g} = \\frac{g}{g + o + amp + ad}\n",
    "\\end{equation}\n",
    "\n",
    "\n",
    "\n",
    "Where <br>\n",
    "&nbsp;&nbsp;&nbsp;&nbsp; $X_{g}$: is the percentage of real estate that occupied by Google.<br>\n",
    "&nbsp;&nbsp;&nbsp;&nbsp; $g$: is the sum of real estate pixels occupied by Google products and answers.<br>\n",
    "&nbsp;&nbsp;&nbsp;&nbsp; $o$: is the sum of real estate pixels occupied by Non-Google.<br>\n",
    "&nbsp;&nbsp;&nbsp;&nbsp; $amp$: is the sum of real estate pixels occupied by AMP.<br>\n",
    "&nbsp;&nbsp;&nbsp;&nbsp; $ad$: is the sum of real estate pixels occupied by ads.<br>"
   ]
  },
  {
   "cell_type": "markdown",
   "metadata": {},
   "source": [
    "## Breakdown of area and frequency for each category\n",
    "For a more granular look at how much space is occupied by each search feature:"
   ]
  },
  {
   "cell_type": "code",
   "execution_count": 11,
   "metadata": {},
   "outputs": [],
   "source": [
    "# get area per standardized category\n",
    "cat_area_ = (df.groupby('category_standard')\n",
    "               .area_page.sum()\n",
    "               .divide(total_area)\n",
    "               .sort_values(ascending=False))\n",
    "\n",
    "cat_area =(df.groupby('category_standard')\n",
    "             .area_above_the_fold.sum()\n",
    "             .divide(total_area_fp)\n",
    "             .sort_values(ascending=False))"
   ]
  },
  {
   "cell_type": "code",
   "execution_count": 12,
   "metadata": {},
   "outputs": [
    {
     "data": {
      "text/plain": [
       "category_standard\n",
       "google-answer                   0.029801\n",
       "google-images                   0.017900\n",
       "organic-search_result           0.016142\n",
       "amp-card                        0.014511\n",
       "google-misc                     0.012673\n",
       "organic                         0.010479\n",
       "google-knowledge-panel-links    0.009731\n",
       "ads                             0.008339\n",
       "google-search                   0.004549\n",
       "google-expandable-answer        0.003522\n",
       "google-maps                     0.002558\n",
       "google-video                    0.001678\n",
       "amp-visual_stories              0.000457\n",
       "amp-search_result               0.000370\n",
       "Name: area_above_the_fold, dtype: float64"
      ]
     },
     "execution_count": 12,
     "metadata": {},
     "output_type": "execute_result"
    }
   ],
   "source": [
    "cat_area"
   ]
  },
  {
   "cell_type": "code",
   "execution_count": 13,
   "metadata": {},
   "outputs": [
    {
     "data": {
      "text/plain": [
       "400"
      ]
     },
     "execution_count": 13,
     "metadata": {},
     "output_type": "execute_result"
    }
   ],
   "source": [
    "# how many records are in our dataset, again?\n",
    "n_pages = df[df.area_page != 0].fn_input.nunique()\n",
    "n_pages"
   ]
  },
  {
   "cell_type": "code",
   "execution_count": 14,
   "metadata": {},
   "outputs": [],
   "source": [
    "# number of elements on the top of the page\n",
    "cat_count = Counter()\n",
    "for fn, _df in df[df.area_above_the_fold != 0].groupby('fn_input'):\n",
    "    cat_count.update(_df.category_standard.unique())\n",
    "df_wc = pd.DataFrame(cat_count.most_common(50),\n",
    "                     columns=['category_standard', 'count'])\n",
    "df_wc['freq'] = df_wc['count'] / n_pages \n",
    "\n",
    "# number of elements on full page\n",
    "cat_count_ = Counter()\n",
    "for fn, _df in df[df.area_page != 0].groupby('fn_input'):\n",
    "    cat_count_.update(_df.category_standard.unique())\n",
    "df_wc_ = pd.DataFrame(cat_count_.most_common(50),\n",
    "                     columns=['category_standard', 'count_page'])\n",
    "df_wc_['freq_page'] = df_wc_['count_page'] / n_pages "
   ]
  },
  {
   "cell_type": "code",
   "execution_count": 15,
   "metadata": {},
   "outputs": [],
   "source": [
    "# get all the names of things for each label (category).\n",
    "cat_amp = df[df.label == 'amp'].category_standard.unique()\n",
    "cat_sd = df[df.label == 'link'].category_standard.unique()\n",
    "cat_rt = df[df.label == 'answer'].category_standard.unique()\n",
    "cat_ad = df[df.label == 'ads'].category_standard.unique()\n",
    "cat_og = df[df.label == 'organic'].category_standard.unique()"
   ]
  },
  {
   "cell_type": "code",
   "execution_count": 16,
   "metadata": {},
   "outputs": [],
   "source": [
    "def format_number(x):\n",
    "    \"\"\"Makes it nice for printing\"\"\"\n",
    "    x = x * 100\n",
    "    x = round(x, 2)\n",
    "    return f\"{x}%\""
   ]
  },
  {
   "cell_type": "code",
   "execution_count": 17,
   "metadata": {},
   "outputs": [],
   "source": [
    "def breakdown(categories : list(), \n",
    "              col='category_standard',\n",
    "              area_col='area_above_the_fold'):\n",
    "    \"\"\"Shows the area coverage and page frequency for each category  \"\"\"\n",
    "    full_page =df_wc_[df_wc_[col].isin(categories)] \\\n",
    "            .join(cat_area_.to_frame(),\n",
    "                  on=col,\n",
    "                  how='left')\n",
    "\n",
    "    output = (df_wc[df_wc[col].isin(categories)]\n",
    "        .join(cat_area.to_frame(),\n",
    "              on=col,\n",
    "              how='left')\n",
    "        .sort_values(by=[area_col], \n",
    "                     ascending=False)\n",
    "        .reset_index(drop=True)\n",
    "        .merge(full_page)\n",
    "    )\n",
    "    \n",
    "    output = output[[c for c in output.columns if 'count' not in c]]\n",
    "        \n",
    "    fg_area = output[area_col].sum()\n",
    "    fp_area = output['area_page'].sum()\n",
    "    \n",
    "    output = output.append(\n",
    "        {'category_standard' : 'Total', \n",
    "         'freq' : np.nan, \n",
    "         area_col : fg_area, \n",
    "         'freq_page' : np.nan, \n",
    "         'area_page' : fp_area},\n",
    "        ignore_index=True\n",
    "    )\n",
    "    return output.set_index(col)\n"
   ]
  },
  {
   "cell_type": "markdown",
   "metadata": {},
   "source": [
    "## Breakdown of area and frequency for each category"
   ]
  },
  {
   "cell_type": "code",
   "execution_count": 21,
   "metadata": {},
   "outputs": [],
   "source": [
    "columns = [\n",
    "   ('Top of page', 'area'),\n",
    "   ('Top of page' , 'area'),\n",
    "   ('Full page', 'freq'),\n",
    "   ('Full page' , 'area'),\n",
    "]"
   ]
  },
  {
   "cell_type": "code",
   "execution_count": 22,
   "metadata": {},
   "outputs": [],
   "source": [
    "total_area = df.area_above_the_fold.sum()\n",
    "total_area_fp = df.area_page.sum()\n",
    "n_pages = df.fn_input.nunique()"
   ]
  },
  {
   "cell_type": "code",
   "execution_count": 23,
   "metadata": {},
   "outputs": [],
   "source": [
    "labels_in_order = [\n",
    "    'organic',\n",
    "    'amp',\n",
    "    'answer',\n",
    "    'link',\n",
    "    'ads'\n",
    "]"
   ]
  },
  {
   "cell_type": "code",
   "execution_count": 24,
   "metadata": {},
   "outputs": [
    {
     "data": {
      "text/html": [
       "<div>\n",
       "<style scoped>\n",
       "    .dataframe tbody tr th:only-of-type {\n",
       "        vertical-align: middle;\n",
       "    }\n",
       "\n",
       "    .dataframe tbody tr th {\n",
       "        vertical-align: top;\n",
       "    }\n",
       "\n",
       "    .dataframe thead tr th {\n",
       "        text-align: left;\n",
       "    }\n",
       "\n",
       "    .dataframe thead tr:last-of-type th {\n",
       "        text-align: right;\n",
       "    }\n",
       "</style>\n",
       "<table border=\"1\" class=\"dataframe\">\n",
       "  <thead>\n",
       "    <tr>\n",
       "      <th></th>\n",
       "      <th colspan=\"2\" halign=\"left\">Top of page</th>\n",
       "      <th colspan=\"2\" halign=\"left\">Full page</th>\n",
       "    </tr>\n",
       "    <tr>\n",
       "      <th></th>\n",
       "      <th>freq</th>\n",
       "      <th>area</th>\n",
       "      <th>freq</th>\n",
       "      <th>area</th>\n",
       "    </tr>\n",
       "    <tr>\n",
       "      <th>category_standard</th>\n",
       "      <th></th>\n",
       "      <th></th>\n",
       "      <th></th>\n",
       "      <th></th>\n",
       "    </tr>\n",
       "  </thead>\n",
       "  <tbody>\n",
       "    <tr>\n",
       "      <th>ads</th>\n",
       "      <td>8.0%</td>\n",
       "      <td>0.83%</td>\n",
       "      <td>9.25%</td>\n",
       "      <td>7.28%</td>\n",
       "    </tr>\n",
       "    <tr>\n",
       "      <th>Total</th>\n",
       "      <td>nan%</td>\n",
       "      <td>0.83%</td>\n",
       "      <td>nan%</td>\n",
       "      <td>7.28%</td>\n",
       "    </tr>\n",
       "  </tbody>\n",
       "</table>\n",
       "</div>"
      ],
      "text/plain": [
       "                  Top of page        Full page       \n",
       "                         freq   area      freq   area\n",
       "category_standard                                    \n",
       "ads                      8.0%  0.83%     9.25%  7.28%\n",
       "Total                    nan%  0.83%      nan%  7.28%"
      ]
     },
     "metadata": {},
     "output_type": "display_data"
    },
    {
     "data": {
      "text/html": [
       "<div>\n",
       "<style scoped>\n",
       "    .dataframe tbody tr th:only-of-type {\n",
       "        vertical-align: middle;\n",
       "    }\n",
       "\n",
       "    .dataframe tbody tr th {\n",
       "        vertical-align: top;\n",
       "    }\n",
       "\n",
       "    .dataframe thead tr th {\n",
       "        text-align: left;\n",
       "    }\n",
       "\n",
       "    .dataframe thead tr:last-of-type th {\n",
       "        text-align: right;\n",
       "    }\n",
       "</style>\n",
       "<table border=\"1\" class=\"dataframe\">\n",
       "  <thead>\n",
       "    <tr>\n",
       "      <th></th>\n",
       "      <th colspan=\"2\" halign=\"left\">Top of page</th>\n",
       "      <th colspan=\"2\" halign=\"left\">Full page</th>\n",
       "    </tr>\n",
       "    <tr>\n",
       "      <th></th>\n",
       "      <th>freq</th>\n",
       "      <th>area</th>\n",
       "      <th>freq</th>\n",
       "      <th>area</th>\n",
       "    </tr>\n",
       "    <tr>\n",
       "      <th>category_standard</th>\n",
       "      <th></th>\n",
       "      <th></th>\n",
       "      <th></th>\n",
       "      <th></th>\n",
       "    </tr>\n",
       "  </thead>\n",
       "  <tbody>\n",
       "    <tr>\n",
       "      <th>amp-card</th>\n",
       "      <td>17.75%</td>\n",
       "      <td>1.45%</td>\n",
       "      <td>53.0%</td>\n",
       "      <td>31.88%</td>\n",
       "    </tr>\n",
       "    <tr>\n",
       "      <th>amp-visual_stories</th>\n",
       "      <td>2.75%</td>\n",
       "      <td>0.05%</td>\n",
       "      <td>5.25%</td>\n",
       "      <td>0.66%</td>\n",
       "    </tr>\n",
       "    <tr>\n",
       "      <th>amp-search_result</th>\n",
       "      <td>0.75%</td>\n",
       "      <td>0.04%</td>\n",
       "      <td>62.25%</td>\n",
       "      <td>62.11%</td>\n",
       "    </tr>\n",
       "    <tr>\n",
       "      <th>Total</th>\n",
       "      <td>nan%</td>\n",
       "      <td>1.53%</td>\n",
       "      <td>nan%</td>\n",
       "      <td>94.64%</td>\n",
       "    </tr>\n",
       "  </tbody>\n",
       "</table>\n",
       "</div>"
      ],
      "text/plain": [
       "                   Top of page        Full page        \n",
       "                          freq   area      freq    area\n",
       "category_standard                                      \n",
       "amp-card                17.75%  1.45%     53.0%  31.88%\n",
       "amp-visual_stories       2.75%  0.05%     5.25%   0.66%\n",
       "amp-search_result        0.75%  0.04%    62.25%  62.11%\n",
       "Total                     nan%  1.53%      nan%  94.64%"
      ]
     },
     "metadata": {},
     "output_type": "display_data"
    },
    {
     "data": {
      "text/html": [
       "<div>\n",
       "<style scoped>\n",
       "    .dataframe tbody tr th:only-of-type {\n",
       "        vertical-align: middle;\n",
       "    }\n",
       "\n",
       "    .dataframe tbody tr th {\n",
       "        vertical-align: top;\n",
       "    }\n",
       "\n",
       "    .dataframe thead tr th {\n",
       "        text-align: left;\n",
       "    }\n",
       "\n",
       "    .dataframe thead tr:last-of-type th {\n",
       "        text-align: right;\n",
       "    }\n",
       "</style>\n",
       "<table border=\"1\" class=\"dataframe\">\n",
       "  <thead>\n",
       "    <tr>\n",
       "      <th></th>\n",
       "      <th colspan=\"2\" halign=\"left\">Top of page</th>\n",
       "      <th colspan=\"2\" halign=\"left\">Full page</th>\n",
       "    </tr>\n",
       "    <tr>\n",
       "      <th></th>\n",
       "      <th>freq</th>\n",
       "      <th>area</th>\n",
       "      <th>freq</th>\n",
       "      <th>area</th>\n",
       "    </tr>\n",
       "    <tr>\n",
       "      <th>category_standard</th>\n",
       "      <th></th>\n",
       "      <th></th>\n",
       "      <th></th>\n",
       "      <th></th>\n",
       "    </tr>\n",
       "  </thead>\n",
       "  <tbody>\n",
       "    <tr>\n",
       "      <th>google-answer</th>\n",
       "      <td>60.5%</td>\n",
       "      <td>2.98%</td>\n",
       "      <td>94.25%</td>\n",
       "      <td>47.63%</td>\n",
       "    </tr>\n",
       "    <tr>\n",
       "      <th>google-expandable-answer</th>\n",
       "      <td>17.25%</td>\n",
       "      <td>0.35%</td>\n",
       "      <td>87.75%</td>\n",
       "      <td>53.63%</td>\n",
       "    </tr>\n",
       "    <tr>\n",
       "      <th>Total</th>\n",
       "      <td>nan%</td>\n",
       "      <td>3.33%</td>\n",
       "      <td>nan%</td>\n",
       "      <td>101.26%</td>\n",
       "    </tr>\n",
       "  </tbody>\n",
       "</table>\n",
       "</div>"
      ],
      "text/plain": [
       "                         Top of page        Full page         \n",
       "                                freq   area      freq     area\n",
       "category_standard                                             \n",
       "google-answer                  60.5%  2.98%    94.25%   47.63%\n",
       "google-expandable-answer      17.25%  0.35%    87.75%   53.63%\n",
       "Total                           nan%  3.33%      nan%  101.26%"
      ]
     },
     "metadata": {},
     "output_type": "display_data"
    },
    {
     "data": {
      "text/html": [
       "<div>\n",
       "<style scoped>\n",
       "    .dataframe tbody tr th:only-of-type {\n",
       "        vertical-align: middle;\n",
       "    }\n",
       "\n",
       "    .dataframe tbody tr th {\n",
       "        vertical-align: top;\n",
       "    }\n",
       "\n",
       "    .dataframe thead tr th {\n",
       "        text-align: left;\n",
       "    }\n",
       "\n",
       "    .dataframe thead tr:last-of-type th {\n",
       "        text-align: right;\n",
       "    }\n",
       "</style>\n",
       "<table border=\"1\" class=\"dataframe\">\n",
       "  <thead>\n",
       "    <tr>\n",
       "      <th></th>\n",
       "      <th colspan=\"2\" halign=\"left\">Top of page</th>\n",
       "      <th colspan=\"2\" halign=\"left\">Full page</th>\n",
       "    </tr>\n",
       "    <tr>\n",
       "      <th></th>\n",
       "      <th>freq</th>\n",
       "      <th>area</th>\n",
       "      <th>freq</th>\n",
       "      <th>area</th>\n",
       "    </tr>\n",
       "    <tr>\n",
       "      <th>category_standard</th>\n",
       "      <th></th>\n",
       "      <th></th>\n",
       "      <th></th>\n",
       "      <th></th>\n",
       "    </tr>\n",
       "  </thead>\n",
       "  <tbody>\n",
       "    <tr>\n",
       "      <th>google-images</th>\n",
       "      <td>64.0%</td>\n",
       "      <td>1.79%</td>\n",
       "      <td>84.0%</td>\n",
       "      <td>19.31%</td>\n",
       "    </tr>\n",
       "    <tr>\n",
       "      <th>google-misc</th>\n",
       "      <td>85.5%</td>\n",
       "      <td>1.27%</td>\n",
       "      <td>99.0%</td>\n",
       "      <td>28.46%</td>\n",
       "    </tr>\n",
       "    <tr>\n",
       "      <th>google-knowledge-panel-links</th>\n",
       "      <td>70.75%</td>\n",
       "      <td>0.97%</td>\n",
       "      <td>77.75%</td>\n",
       "      <td>8.77%</td>\n",
       "    </tr>\n",
       "    <tr>\n",
       "      <th>google-search</th>\n",
       "      <td>25.5%</td>\n",
       "      <td>0.45%</td>\n",
       "      <td>100.0%</td>\n",
       "      <td>118.56%</td>\n",
       "    </tr>\n",
       "    <tr>\n",
       "      <th>google-maps</th>\n",
       "      <td>7.25%</td>\n",
       "      <td>0.26%</td>\n",
       "      <td>10.0%</td>\n",
       "      <td>3.13%</td>\n",
       "    </tr>\n",
       "    <tr>\n",
       "      <th>google-video</th>\n",
       "      <td>9.75%</td>\n",
       "      <td>0.17%</td>\n",
       "      <td>55.0%</td>\n",
       "      <td>26.41%</td>\n",
       "    </tr>\n",
       "    <tr>\n",
       "      <th>Total</th>\n",
       "      <td>nan%</td>\n",
       "      <td>4.91%</td>\n",
       "      <td>nan%</td>\n",
       "      <td>204.64%</td>\n",
       "    </tr>\n",
       "  </tbody>\n",
       "</table>\n",
       "</div>"
      ],
      "text/plain": [
       "                             Top of page        Full page         \n",
       "                                    freq   area      freq     area\n",
       "category_standard                                                 \n",
       "google-images                      64.0%  1.79%     84.0%   19.31%\n",
       "google-misc                        85.5%  1.27%     99.0%   28.46%\n",
       "google-knowledge-panel-links      70.75%  0.97%    77.75%    8.77%\n",
       "google-search                      25.5%  0.45%    100.0%  118.56%\n",
       "google-maps                        7.25%  0.26%     10.0%    3.13%\n",
       "google-video                       9.75%  0.17%     55.0%   26.41%\n",
       "Total                               nan%  4.91%      nan%  204.64%"
      ]
     },
     "metadata": {},
     "output_type": "display_data"
    },
    {
     "data": {
      "text/html": [
       "<div>\n",
       "<style scoped>\n",
       "    .dataframe tbody tr th:only-of-type {\n",
       "        vertical-align: middle;\n",
       "    }\n",
       "\n",
       "    .dataframe tbody tr th {\n",
       "        vertical-align: top;\n",
       "    }\n",
       "\n",
       "    .dataframe thead tr th {\n",
       "        text-align: left;\n",
       "    }\n",
       "\n",
       "    .dataframe thead tr:last-of-type th {\n",
       "        text-align: right;\n",
       "    }\n",
       "</style>\n",
       "<table border=\"1\" class=\"dataframe\">\n",
       "  <thead>\n",
       "    <tr>\n",
       "      <th></th>\n",
       "      <th colspan=\"2\" halign=\"left\">Top of page</th>\n",
       "      <th colspan=\"2\" halign=\"left\">Full page</th>\n",
       "    </tr>\n",
       "    <tr>\n",
       "      <th></th>\n",
       "      <th>freq</th>\n",
       "      <th>area</th>\n",
       "      <th>freq</th>\n",
       "      <th>area</th>\n",
       "    </tr>\n",
       "    <tr>\n",
       "      <th>category_standard</th>\n",
       "      <th></th>\n",
       "      <th></th>\n",
       "      <th></th>\n",
       "      <th></th>\n",
       "    </tr>\n",
       "  </thead>\n",
       "  <tbody>\n",
       "    <tr>\n",
       "      <th>organic-search_result</th>\n",
       "      <td>25.5%</td>\n",
       "      <td>1.61%</td>\n",
       "      <td>100.0%</td>\n",
       "      <td>298.74%</td>\n",
       "    </tr>\n",
       "    <tr>\n",
       "      <th>organic</th>\n",
       "      <td>67.5%</td>\n",
       "      <td>1.05%</td>\n",
       "      <td>96.5%</td>\n",
       "      <td>46.96%</td>\n",
       "    </tr>\n",
       "    <tr>\n",
       "      <th>Total</th>\n",
       "      <td>nan%</td>\n",
       "      <td>2.66%</td>\n",
       "      <td>nan%</td>\n",
       "      <td>345.7%</td>\n",
       "    </tr>\n",
       "  </tbody>\n",
       "</table>\n",
       "</div>"
      ],
      "text/plain": [
       "                      Top of page        Full page         \n",
       "                             freq   area      freq     area\n",
       "category_standard                                          \n",
       "organic-search_result       25.5%  1.61%    100.0%  298.74%\n",
       "organic                     67.5%  1.05%     96.5%   46.96%\n",
       "Total                        nan%  2.66%      nan%   345.7%"
      ]
     },
     "metadata": {},
     "output_type": "display_data"
    }
   ],
   "source": [
    "df_cat_agg = pd.DataFrame()\n",
    "for categories in [cat_ad, cat_amp, cat_rt, cat_sd, cat_og]:\n",
    "    output = breakdown(categories)\n",
    "    df_cat_agg = df_cat_agg.append(output)\n",
    "    \n",
    "    output.columns = pd.MultiIndex.from_tuples([\n",
    "       ('Top of page', 'freq'),\n",
    "       ('Top of page' , 'area'),\n",
    "       ('Full page', 'freq'),\n",
    "       ('Full page' , 'area'),\n",
    "    ])\n",
    "    for c, dtype in output.dtypes.items():\n",
    "        if pd.api.types.is_numeric_dtype(output[c]):\n",
    "            output[c] = output[c].apply(format_number)\n",
    "    \n",
    "    display(output)"
   ]
  },
  {
   "cell_type": "markdown",
   "metadata": {},
   "source": [
    "## Ratios"
   ]
  },
  {
   "cell_type": "markdown",
   "metadata": {},
   "source": [
    "## Table 1"
   ]
  },
  {
   "cell_type": "code",
   "execution_count": 18,
   "metadata": {},
   "outputs": [],
   "source": [
    "fn_cats = f'{data_dir}/output/tables/T1_area_freq_by_category.csv'"
   ]
  },
  {
   "cell_type": "code",
   "execution_count": 19,
   "metadata": {},
   "outputs": [
    {
     "name": "stdout",
     "output_type": "stream",
     "text": [
      "               Top of page        First page        \n",
      "                      area   freq       area    freq\n",
      "Ads                   6.3%   8.0%       1.0%    9.2%\n",
      "Google Product       37.0%  93.8%      27.2%  100.0%\n",
      "Google Answer        25.1%  70.8%      13.4%   98.8%\n",
      "AMP                  11.6%  21.2%      12.6%   74.5%\n",
      "Non-Google           20.1%  80.0%      45.9%  100.0%\n"
     ]
    }
   ],
   "source": [
    "data = {}\n",
    "for label in df.label.unique():\n",
    "    _df = df[df.label == label]\n",
    "    area = (_df['area_above_the_fold'].sum() / total_area)\n",
    "    freq = _df[_df['area_above_the_fold'] != 0].fn_input.nunique() / n_pages\n",
    "    \n",
    "    area_page = (_df['area_page'].sum() / total_area_fp)\n",
    "    freq_page = _df[_df['area_page'] != 0].fn_input.nunique() / n_pages\n",
    "    \n",
    "    data[label2publabel.get(label,label)] = {\n",
    "        ('Top of page', 'area') : area,\n",
    "        ('Top of page', 'freq') : freq,\n",
    "        ('First page', 'area') : area_page,\n",
    "        ('First page', 'freq') : freq_page,\n",
    "    }\n",
    "    \n",
    "cat_breakdown = pd.DataFrame(data).T\n",
    "cat_breakdown.columns = pd.MultiIndex.from_tuples([\n",
    "    ('Top of page', 'area'),\n",
    "    ('Top of page', 'freq'),\n",
    "    ('First page', 'area'),\n",
    "    ('First page', 'freq'),\n",
    "])\n",
    "\n",
    "print((cat_breakdown * 100).round(1).astype(str) + '%')"
   ]
  },
  {
   "cell_type": "code",
   "execution_count": 20,
   "metadata": {},
   "outputs": [],
   "source": [
    "cat_breakdown.to_csv(fn_cats)"
   ]
  },
  {
   "cell_type": "code",
   "execution_count": 21,
   "metadata": {},
   "outputs": [],
   "source": [
    "fn_pixels = f'{data_dir}/intermediary/pixels_above_the_fold.csv'\n",
    "fn_pixels_page = f'{data_dir}/intermediary/pixels_page.csv'"
   ]
  },
  {
   "cell_type": "code",
   "execution_count": 22,
   "metadata": {},
   "outputs": [],
   "source": [
    "labels_in_order = [\n",
    "    'organic',\n",
    "    'amp',\n",
    "    'answer',\n",
    "    'link',\n",
    "    'ads'\n",
    "]"
   ]
  },
  {
   "cell_type": "code",
   "execution_count": 28,
   "metadata": {},
   "outputs": [],
   "source": [
    "area_cols = ['area_above_the_fold', 'area_page']"
   ]
  },
  {
   "cell_type": "code",
   "execution_count": 52,
   "metadata": {},
   "outputs": [
    {
     "name": "stderr",
     "output_type": "stream",
     "text": [
      "100%|██████████| 400/400 [00:02<00:00, 182.52it/s]\n"
     ]
    }
   ],
   "source": [
    "pixels = {c : list() for c in area_cols}\n",
    "for search, df_ in tqdm(df.groupby('fn_input'), position=0, leave=True):\n",
    "    for col in area_cols:\n",
    "        # get sum of pixels for each label.\n",
    "        ad = df_[df_.label == 'ads'][col].sum()\n",
    "        o = df_[df_.label == 'organic'][col].sum()\n",
    "        g = df_[(df_.label == 'link') | (df_.label == 'answer')][col].sum()\n",
    "        a =  df_[df_.label == 'answer'][col].sum()\n",
    "        amp = df_[df_.label == 'amp'][col].sum()\n",
    "        \n",
    "        # equations\n",
    "        e1 =  o / (g + ad + o + amp)\n",
    "        e2 = g / (g + ad + o + amp)\n",
    "\n",
    "        row = {\n",
    "            'search_term' : search,\n",
    "            'ad' : ad,\n",
    "            'o' : o,\n",
    "            'g' : g,\n",
    "            'a' : a,\n",
    "            'amp' : amp,\n",
    "            'e1' : e1,\n",
    "            'e2' : e2,\n",
    "        }\n",
    "\n",
    "        pixels[col].append(row)\n",
    "    \n",
    "df_pixels = pd.DataFrame(pixels['area_above_the_fold'])\n",
    "df_pixels_fp = pd.DataFrame(pixels['area_page'])\n",
    "\n",
    "df_pixels.e1.fillna(0, inplace=True)\n",
    "df_pixels.e2.fillna(0, inplace=True)"
   ]
  },
  {
   "cell_type": "code",
   "execution_count": 30,
   "metadata": {},
   "outputs": [],
   "source": [
    "df_pixels.to_csv(fn_pixels, index=False)\n",
    "df_pixels_fp.to_csv(fn_pixels_page, index=False)"
   ]
  },
  {
   "cell_type": "markdown",
   "metadata": {},
   "source": [
    "## Histogram of Google-occupied pixels"
   ]
  },
  {
   "cell_type": "code",
   "execution_count": 53,
   "metadata": {},
   "outputs": [],
   "source": [
    "def hist(series, color='black', \n",
    "         title=None, \n",
    "         fn_out=None,\n",
    "         left_right_annotations = (None, None)):\n",
    "    ax = series.plot(kind='hist', \n",
    "                           figsize=(10,6),\n",
    "                           bins=10, \n",
    "                           rwidth=.95,\n",
    "                           color=color,\n",
    "                           alpha=.9,\n",
    "                           title=title)\n",
    "\n",
    "    ax.tick_params(axis=\"both\", which=\"both\", bottom=\"off\", \n",
    "                   top=\"off\", labelbottom=\"on\", left=\"off\", \n",
    "                   right=\"off\", labelleft=\"on\")\n",
    "\n",
    "    plt.annotate(left_right_annotations[0], \n",
    "                 (0.04, 0), (0, -21), \n",
    "                 xycoords='axes fraction', \n",
    "                 textcoords='offset points', \n",
    "                 va='top')\n",
    "    plt.annotate(left_right_annotations[-1], \n",
    "                 (.75, 0), (.75, -21), \n",
    "                 xycoords='axes fraction', \n",
    "                 textcoords='offset points', \n",
    "                 va='top')\n",
    "\n",
    "    ax.set_ylabel(\"Count of search pages\")\n",
    "\n",
    "    ax.set_axisbelow(True)\n",
    "    plt.gca().yaxis.grid(True)\n",
    "\n",
    "    # Hide the right and top spines\n",
    "    ax.spines['right'].set_visible(False)\n",
    "    ax.spines['top'].set_visible(False)\n",
    "\n",
    "    # Only show ticks on the left and bottom spines\n",
    "    ax.yaxis.set_ticks_position('left')\n",
    "    ax.xaxis.set_ticks_position('bottom')\n",
    "    \n",
    "    if fn_out:\n",
    "         plt.savefig(fn_out)\n",
    "    \n",
    "    return ax"
   ]
  },
  {
   "cell_type": "code",
   "execution_count": 54,
   "metadata": {},
   "outputs": [
    {
     "data": {
      "image/png": "[encoded data removed]",
      "text/plain": [
       "<Figure size 720x432 with 1 Axes>"
      ]
     },
     "metadata": {
      "needs_background": "light"
     },
     "output_type": "display_data"
    }
   ],
   "source": [
    "hist(df_pixels.e1,\n",
    "     left_right_annotations = ('Very little non-Google',\n",
    "                               'Almost entirely non-Google'),\n",
    "     color=cat2color['organic'],\n",
    "     title = f'Distibution of Non-Google real estate top of the page (N={len(df_pixels):,} searches)',\n",
    "     fn_out='../data/output/figures/eq1_abv.png');"
   ]
  },
  {
   "cell_type": "code",
   "execution_count": 55,
   "metadata": {},
   "outputs": [
    {
     "data": {
      "text/plain": [
       "58.25"
      ]
     },
     "execution_count": 55,
     "metadata": {},
     "output_type": "execute_result"
    }
   ],
   "source": [
    "# What percentage of pages have 10% or less of the page occupied by Non-Google?\n",
    "len(df_pixels[df_pixels.e1 <= .1]) / len(df_pixels) * 100"
   ]
  },
  {
   "cell_type": "code",
   "execution_count": 56,
   "metadata": {},
   "outputs": [
    {
     "data": {
      "text/plain": [
       "(0.20060110647001203, 0.044912356827879994)"
      ]
     },
     "execution_count": 56,
     "metadata": {},
     "output_type": "execute_result"
    }
   ],
   "source": [
    "df_pixels.e1.mean(), df_pixels.e1.median()"
   ]
  },
  {
   "cell_type": "code",
   "execution_count": 57,
   "metadata": {},
   "outputs": [
    {
     "data": {
      "text/plain": [
       "1.4312050779916208"
      ]
     },
     "execution_count": 57,
     "metadata": {},
     "output_type": "execute_result"
    }
   ],
   "source": [
    "# what is the standard error?\n",
    "(df_pixels.e1.sem()) * 100"
   ]
  },
  {
   "cell_type": "markdown",
   "metadata": {},
   "source": [
    "What about the full page?"
   ]
  },
  {
   "cell_type": "code",
   "execution_count": 58,
   "metadata": {},
   "outputs": [
    {
     "data": {
      "image/png": "[encoded data removed]",
      "text/plain": [
       "<Figure size 720x432 with 1 Axes>"
      ]
     },
     "metadata": {
      "needs_background": "light"
     },
     "output_type": "display_data"
    }
   ],
   "source": [
    "hist(df_pixels_fp.e1,\n",
    "     title=f'Non-Google real estate first page (N={len(df_pixels):,})',\n",
    "     left_right_annotations = ('least Google-occupied space',\n",
    "                               'most Google-occupied space'),\n",
    "     color=cat2color['organic'],\n",
    "     fn_out='../data/output/figures/eq1_page.png');"
   ]
  },
  {
   "cell_type": "code",
   "execution_count": 59,
   "metadata": {},
   "outputs": [
    {
     "data": {
      "text/plain": [
       "41.5"
      ]
     },
     "execution_count": 59,
     "metadata": {},
     "output_type": "execute_result"
    }
   ],
   "source": [
    "# What percentage of pages have 50% or more of the page occupied by non-Google?\n",
    "len(df_pixels_fp[df_pixels_fp.e1 >= .5]) / len(df_pixels) * 100"
   ]
  },
  {
   "cell_type": "code",
   "execution_count": 60,
   "metadata": {},
   "outputs": [
    {
     "data": {
      "text/plain": [
       "<matplotlib.axes._subplots.AxesSubplot at 0x7f23703bb0a0>"
      ]
     },
     "execution_count": 60,
     "metadata": {},
     "output_type": "execute_result"
    },
    {
     "data": {
      "image/png": "[encoded data removed]",
      "text/plain": [
       "<Figure size 720x432 with 1 Axes>"
      ]
     },
     "metadata": {
      "needs_background": "light"
     },
     "output_type": "display_data"
    }
   ],
   "source": [
    "hist(df_pixels.e2,\n",
    "     color='k',\n",
    "     title = f'Google occupied real estate top of the page(N={len(df_pixels):,})',\n",
    "     left_right_annotations=('Pages without Google',\n",
    "                             'Pages with only Google'),\n",
    "     fn_out='../data/output/figures/eq2_above.png')"
   ]
  },
  {
   "cell_type": "code",
   "execution_count": 61,
   "metadata": {},
   "outputs": [
    {
     "data": {
      "text/plain": [
       "41.75"
      ]
     },
     "execution_count": 61,
     "metadata": {},
     "output_type": "execute_result"
    }
   ],
   "source": [
    "# What percentage of pages have 90% or more of the page occupied by Google?\n",
    "len(df_pixels[df_pixels.e2 >= .9]) / len(df_pixels) * 100"
   ]
  },
  {
   "cell_type": "code",
   "execution_count": 62,
   "metadata": {},
   "outputs": [
    {
     "data": {
      "text/plain": [
       "72.25"
      ]
     },
     "execution_count": 62,
     "metadata": {},
     "output_type": "execute_result"
    }
   ],
   "source": [
    "len(df_pixels[df_pixels.e1 < .25]) / len(df_pixels) * 100"
   ]
  },
  {
   "cell_type": "markdown",
   "metadata": {},
   "source": [
    "## Figure 2\n",
    "Like the histogram above, lets bin the data to show the distribution of area coverage per category in our sample:"
   ]
  },
  {
   "cell_type": "code",
   "execution_count": 86,
   "metadata": {},
   "outputs": [],
   "source": [
    "fn_fig2 = os.path.join(figure_dir, '2-normalized-bar.png')"
   ]
  },
  {
   "cell_type": "code",
   "execution_count": 63,
   "metadata": {},
   "outputs": [
    {
     "data": {
      "text/plain": [
       "(-0.001, 0.25]    0.7225\n",
       "(0.25, 0.5]       0.1175\n",
       "(0.5, 0.75]       0.0750\n",
       "(0.75, 1.0]       0.0850\n",
       "Name: e1, dtype: float64"
      ]
     },
     "execution_count": 63,
     "metadata": {},
     "output_type": "execute_result"
    }
   ],
   "source": [
    "non_google_bins = (pd.cut(df_pixels.e1, bins=4).value_counts() / \n",
    "                   n_pages).sort_index()\n",
    "non_google_bins"
   ]
  },
  {
   "cell_type": "code",
   "execution_count": 64,
   "metadata": {},
   "outputs": [
    {
     "data": {
      "text/plain": [
       "(-0.001, 0.25]    0.2375\n",
       "(0.25, 0.5]       0.1200\n",
       "(0.5, 0.75]       0.0950\n",
       "(0.75, 1.0]       0.5475\n",
       "Name: e2, dtype: float64"
      ]
     },
     "execution_count": 64,
     "metadata": {},
     "output_type": "execute_result"
    }
   ],
   "source": [
    "google_bins = (pd.cut(df_pixels.e2, bins=4).value_counts() / \n",
    "               n_pages).sort_index()\n",
    "google_bins"
   ]
  },
  {
   "cell_type": "code",
   "execution_count": 65,
   "metadata": {},
   "outputs": [],
   "source": [
    "cmap = plt.cm.get_cmap('gray_r')\n",
    "colors = iter(cmap(np.linspace(0.2,.7,4)))\n",
    "labels = [\n",
    "    'Very little coverage',\n",
    "    'Some coverage',\n",
    "    'More coverage',\n",
    "    'Almost entirely covered'\n",
    "]\n",
    "legend_elements = [Line2D([0], [0], marker='s', color='w', \n",
    "                          label=labels[i],\n",
    "                          markerfacecolor=c, markersize=10)\n",
    "                   for i, c in enumerate(colors)][::-1]"
   ]
  },
  {
   "cell_type": "code",
   "execution_count": 87,
   "metadata": {},
   "outputs": [
    {
     "data": {
      "image/png": "[encoded data removed]",
      "text/plain": [
       "<Figure size 720x288 with 1 Axes>"
      ]
     },
     "metadata": {
      "needs_background": "light"
     },
     "output_type": "display_data"
    }
   ],
   "source": [
    "cmap = plt.cm.get_cmap('gray_r')\n",
    "colors = iter(cmap(np.linspace(0.2,.7,4)))\n",
    "\n",
    "colors_g = iter(cmap(np.linspace(0.2,.7,4)))\n",
    "\n",
    "# Create a figure with a single subplot\n",
    "f, ax = plt.subplots(1, figsize=(10,4))\n",
    "\n",
    "# Set bar width at 1\n",
    "bar_width = 1\n",
    "_google = google_bins.values\n",
    "_non_google = non_google_bins.values\n",
    "for i, data in enumerate(_google):\n",
    "    if i != 0:\n",
    "        ax.barh('Google', data, \n",
    "                left=sum(_google[:i]),\n",
    "                 linewidth=0,\n",
    "                 color=next(colors_g)\n",
    "               );\n",
    "    else:\n",
    "        ax.barh('Google', data,\n",
    "               color=next(colors_g)\n",
    "               );\n",
    "        \n",
    "for i, data in enumerate(_non_google):\n",
    "    if i != 0:\n",
    "        ax.barh('non-Google', data, color=next(colors), left=sum(_non_google[:i]));\n",
    "    else:\n",
    "        ax.barh('non-Google', data, color=next(colors))\n",
    "\n",
    "plt.title(\"Distribution of top of page coverage by category (N=15K)\",\n",
    "           x=0.48,\n",
    "         y=1.1,\n",
    "         size=15.5)\n",
    "        \n",
    "# Hide the right and top spines\n",
    "ax.spines['right'].set_visible(False)\n",
    "ax.spines['top'].set_visible(False)\n",
    "\n",
    "# Only show ticks on the left and bottom spines\n",
    "ax.yaxis.set_ticks_position('left')\n",
    "ax.xaxis.set_ticks_position('bottom')\n",
    "\n",
    "plt.xlabel('perecentage of samples in dataset')\n",
    "ax.legend(handles=legend_elements[::-1],\n",
    "          loc='lower left', \n",
    "          bbox_to_anchor= (-0.005, 1.015), ncol=5,\n",
    "          handletextpad=0.0,\n",
    "          labelspacing=0, \n",
    "          borderaxespad=.1, \n",
    "          borderpad=0.1,\n",
    "          frameon=False,\n",
    "          prop={'size': 9.2})\n",
    "\n",
    "plt.savefig(fn_fig2)\n",
    "plt.show();"
   ]
  },
  {
   "cell_type": "markdown",
   "metadata": {},
   "source": [
    "# Distance"
   ]
  },
  {
   "cell_type": "code",
   "execution_count": 88,
   "metadata": {},
   "outputs": [],
   "source": [
    "fn_fig3 = os.path.join(figure_dir, '3-distance_normalized.png')"
   ]
  },
  {
   "cell_type": "code",
   "execution_count": 72,
   "metadata": {},
   "outputs": [],
   "source": [
    "df.loc[:, 'y_dist'] = df.location.apply(lambda x: x['y'])"
   ]
  },
  {
   "cell_type": "code",
   "execution_count": 73,
   "metadata": {},
   "outputs": [],
   "source": [
    "df.loc[df['category'] == 'link-youtube', \n",
    "       \"category_standard\"] = 'youtube'\n",
    "df.loc[df['category'] == 'link-youtube_search_result', \n",
    "       \"category_standard\"] = 'youtube-search-result'"
   ]
  },
  {
   "cell_type": "code",
   "execution_count": 74,
   "metadata": {},
   "outputs": [],
   "source": [
    "blue_link_categories = [\n",
    "    'organic-search_result',\n",
    "    'amp-search_result',\n",
    "    \"youtube-search-result\"\n",
    "]"
   ]
  },
  {
   "cell_type": "code",
   "execution_count": 75,
   "metadata": {},
   "outputs": [],
   "source": [
    "standard_categories = [\n",
    "    \"organic-search_result\",\n",
    "    \"organic\",\n",
    "    \"ads\",\n",
    "    \"amp-card\",\n",
    "    \"amp-visual_stories\",\n",
    "    \"google-images\",\n",
    "    \"youtube\",\n",
    "    \"google-maps\",\n",
    "    'google-answer',\n",
    "    \"google-search\",\n",
    "    \"amp-search_result\",\n",
    "    \"youtube-search-result\",\n",
    "]"
   ]
  },
  {
   "cell_type": "code",
   "execution_count": 76,
   "metadata": {},
   "outputs": [],
   "source": [
    "cat2name = {\n",
    "    \"ads\" : 'Ad',\n",
    "    \"organic\" : 'non-\\nGoogle\\nLink',\n",
    "    \"amp-card\" : 'AMP\\nArticle',\n",
    "    \"amp-visual_stories\" : \"AMP\\nVisual\\nStory\",\n",
    "    \"google-images\" : 'Google\\nImages',\n",
    "    \"youtube\": 'YouTube',\n",
    "    \"google-maps\" : 'Google\\nMaps',\n",
    "    'google-answer' : 'Direct\\nAnswer',\n",
    "    'google-search' : 'Google\\nSearch',\n",
    "    \"organic-search_result\" : 'non-\\nGoogle\\nBlue\\nLink'\n",
    "}"
   ]
  },
  {
   "cell_type": "code",
   "execution_count": 77,
   "metadata": {},
   "outputs": [
    {
     "data": {
      "text/plain": [
       "google-search                   7496\n",
       "google-answer                   3450\n",
       "google-misc                     2968\n",
       "organic                         2903\n",
       "organic-search_result           2890\n",
       "google-images                   2580\n",
       "google-expandable-answer        2505\n",
       "youtube                         1892\n",
       "google-knowledge-panel-links    1553\n",
       "amp-card                        1264\n",
       "amp-search_result                935\n",
       "ads                              149\n",
       "google-maps                       55\n",
       "google-video                      32\n",
       "youtube-search-result             30\n",
       "amp-visual_stories                22\n",
       "Name: category_standard, dtype: int64"
      ]
     },
     "execution_count": 77,
     "metadata": {},
     "output_type": "execute_result"
    }
   ],
   "source": [
    "df.category_standard.value_counts()"
   ]
  },
  {
   "cell_type": "markdown",
   "metadata": {},
   "source": [
    "Here we get distance down the page we'd have to for before seeing specific search features (`standard_categories`).\n",
    "\n",
    "Note, we normalize the length down a page between 0 (below the search bar and headers) and 1 (below the \"More results\" button)."
   ]
  },
  {
   "cell_type": "code",
   "execution_count": 78,
   "metadata": {},
   "outputs": [],
   "source": [
    "header = 160\n",
    "normalize = True"
   ]
  },
  {
   "cell_type": "code",
   "execution_count": 79,
   "metadata": {},
   "outputs": [
    {
     "name": "stderr",
     "output_type": "stream",
     "text": [
      "100%|██████████| 400/400 [00:03<00:00, 107.46it/s]\n"
     ]
    }
   ],
   "source": [
    "dist = {k : [] for k in standard_categories}\n",
    "for site, _df in tqdm(df[df.area_page != 0].groupby('fn_input')):\n",
    "    end_of_page = _df['position_last_element'].iloc[0] - header\n",
    "    for cat in standard_categories:\n",
    "        # a tweak for blue links.\n",
    "        _df.category_standard = _df.category_standard.replace({'amp-search_result' :'organic-search_result',\n",
    "                                                               'youtube-search-result' : 'organic-search_result'})\n",
    "        __df = _df[_df.category_standard == cat]\n",
    "        if not __df.empty:\n",
    "            # normalized page\n",
    "            if normalize:\n",
    "                y_min = (__df.y_dist.min() - header) / end_of_page\n",
    "            else:\n",
    "                y_min =__df.y_dist.min()\n",
    "            dist[cat].append(y_min)"
   ]
  },
  {
   "cell_type": "code",
   "execution_count": 80,
   "metadata": {},
   "outputs": [],
   "source": [
    "for k in ['amp-search_result', 'youtube-search-result']:\n",
    "    dist.pop(k)"
   ]
  },
  {
   "cell_type": "code",
   "execution_count": 81,
   "metadata": {},
   "outputs": [],
   "source": [
    "data = []\n",
    "for cat, v in dist.items():\n",
    "    dato = pd.DataFrame({'dist_y' : v}).dist_y\n",
    "    mean = dato.mean()\n",
    "    median = dato.median()\n",
    "    err = dato.sem()\n",
    "    std = dato.std()\n",
    "    data.append({\n",
    "        'category' : cat,\n",
    "        'dist' : mean,\n",
    "        'dist_median' : median,\n",
    "        'min' : dato.describe()['min'],\n",
    "        '25' : dato.describe()['25%'],\n",
    "        '50' : dato.describe()['50%'],\n",
    "        '75' : dato.describe()['75%'],\n",
    "        'max' : dato.describe()['max'],\n",
    "        'std' : std,\n",
    "        'sem_error' : err,\n",
    "        'n' : len(v)\n",
    "    })\n",
    "df_dist = pd.DataFrame(data)\n",
    "del data"
   ]
  },
  {
   "cell_type": "code",
   "execution_count": 82,
   "metadata": {},
   "outputs": [
    {
     "name": "stdout",
     "output_type": "stream",
     "text": [
      "organic-search_result\n"
     ]
    },
    {
     "data": {
      "image/png": "[encoded data removed]",
      "text/plain": [
       "<Figure size 432x288 with 1 Axes>"
      ]
     },
     "metadata": {
      "needs_background": "light"
     },
     "output_type": "display_data"
    },
    {
     "name": "stdout",
     "output_type": "stream",
     "text": [
      "organic\n"
     ]
    },
    {
     "data": {
      "image/png": "[encoded data removed]",
      "text/plain": [
       "<Figure size 432x288 with 1 Axes>"
      ]
     },
     "metadata": {
      "needs_background": "light"
     },
     "output_type": "display_data"
    },
    {
     "name": "stdout",
     "output_type": "stream",
     "text": [
      "ads\n"
     ]
    },
    {
     "data": {
      "image/png": "[encoded data removed]",
      "text/plain": [
       "<Figure size 432x288 with 1 Axes>"
      ]
     },
     "metadata": {
      "needs_background": "light"
     },
     "output_type": "display_data"
    },
    {
     "name": "stdout",
     "output_type": "stream",
     "text": [
      "amp-card\n"
     ]
    },
    {
     "data": {
      "image/png": "[encoded data removed]",
      "text/plain": [
       "<Figure size 432x288 with 1 Axes>"
      ]
     },
     "metadata": {
      "needs_background": "light"
     },
     "output_type": "display_data"
    },
    {
     "name": "stdout",
     "output_type": "stream",
     "text": [
      "amp-visual_stories\n"
     ]
    },
    {
     "data": {
      "image/png": "[encoded data removed]",
      "text/plain": [
       "<Figure size 432x288 with 1 Axes>"
      ]
     },
     "metadata": {
      "needs_background": "light"
     },
     "output_type": "display_data"
    },
    {
     "name": "stdout",
     "output_type": "stream",
     "text": [
      "google-images\n"
     ]
    },
    {
     "data": {
      "image/png": "[encoded data removed]",
      "text/plain": [
       "<Figure size 432x288 with 1 Axes>"
      ]
     },
     "metadata": {
      "needs_background": "light"
     },
     "output_type": "display_data"
    },
    {
     "name": "stdout",
     "output_type": "stream",
     "text": [
      "youtube\n"
     ]
    },
    {
     "data": {
      "image/png": "[encoded data removed]",
      "text/plain": [
       "<Figure size 432x288 with 1 Axes>"
      ]
     },
     "metadata": {
      "needs_background": "light"
     },
     "output_type": "display_data"
    },
    {
     "name": "stdout",
     "output_type": "stream",
     "text": [
      "google-maps\n"
     ]
    },
    {
     "data": {
      "image/png": "[encoded data removed]",
      "text/plain": [
       "<Figure size 432x288 with 1 Axes>"
      ]
     },
     "metadata": {
      "needs_background": "light"
     },
     "output_type": "display_data"
    },
    {
     "name": "stdout",
     "output_type": "stream",
     "text": [
      "google-answer\n"
     ]
    },
    {
     "data": {
      "image/png": "[encoded data removed]",
      "text/plain": [
       "<Figure size 432x288 with 1 Axes>"
      ]
     },
     "metadata": {
      "needs_background": "light"
     },
     "output_type": "display_data"
    },
    {
     "name": "stdout",
     "output_type": "stream",
     "text": [
      "google-search\n"
     ]
    },
    {
     "data": {
      "image/png": "[encoded data removed]",
      "text/plain": [
       "<Figure size 432x288 with 1 Axes>"
      ]
     },
     "metadata": {
      "needs_background": "light"
     },
     "output_type": "display_data"
    }
   ],
   "source": [
    "data = []\n",
    "for cat, v in dist.items():\n",
    "    print(cat)\n",
    "    dato = pd.DataFrame({'dist_y' : v})\n",
    "    dato.plot(kind='hist', bins=50)\n",
    "    plt.show();"
   ]
  },
  {
   "cell_type": "code",
   "execution_count": 85,
   "metadata": {},
   "outputs": [
    {
     "data": {
      "text/html": [
       "<div>\n",
       "<style scoped>\n",
       "    .dataframe tbody tr th:only-of-type {\n",
       "        vertical-align: middle;\n",
       "    }\n",
       "\n",
       "    .dataframe tbody tr th {\n",
       "        vertical-align: top;\n",
       "    }\n",
       "\n",
       "    .dataframe thead th {\n",
       "        text-align: right;\n",
       "    }\n",
       "</style>\n",
       "<table border=\"1\" class=\"dataframe\">\n",
       "  <thead>\n",
       "    <tr style=\"text-align: right;\">\n",
       "      <th></th>\n",
       "      <th>category</th>\n",
       "      <th>dist</th>\n",
       "      <th>dist_median</th>\n",
       "      <th>min</th>\n",
       "      <th>25</th>\n",
       "      <th>50</th>\n",
       "      <th>75</th>\n",
       "      <th>max</th>\n",
       "      <th>std</th>\n",
       "      <th>sem_error</th>\n",
       "      <th>n</th>\n",
       "    </tr>\n",
       "  </thead>\n",
       "  <tbody>\n",
       "    <tr>\n",
       "      <th>0</th>\n",
       "      <td>organic-search_result</td>\n",
       "      <td>0.222717</td>\n",
       "      <td>0.237787</td>\n",
       "      <td>0.001052</td>\n",
       "      <td>0.146613</td>\n",
       "      <td>0.237787</td>\n",
       "      <td>0.309680</td>\n",
       "      <td>0.493003</td>\n",
       "      <td>0.127622</td>\n",
       "      <td>0.006381</td>\n",
       "      <td>400</td>\n",
       "    </tr>\n",
       "    <tr>\n",
       "      <th>1</th>\n",
       "      <td>organic</td>\n",
       "      <td>0.143706</td>\n",
       "      <td>0.097133</td>\n",
       "      <td>0.009008</td>\n",
       "      <td>0.070220</td>\n",
       "      <td>0.097133</td>\n",
       "      <td>0.171759</td>\n",
       "      <td>0.811024</td>\n",
       "      <td>0.121782</td>\n",
       "      <td>0.006199</td>\n",
       "      <td>386</td>\n",
       "    </tr>\n",
       "    <tr>\n",
       "      <th>2</th>\n",
       "      <td>ads</td>\n",
       "      <td>0.081285</td>\n",
       "      <td>0.001507</td>\n",
       "      <td>0.000864</td>\n",
       "      <td>0.001225</td>\n",
       "      <td>0.001507</td>\n",
       "      <td>0.005768</td>\n",
       "      <td>0.862385</td>\n",
       "      <td>0.229322</td>\n",
       "      <td>0.037700</td>\n",
       "      <td>37</td>\n",
       "    </tr>\n",
       "    <tr>\n",
       "      <th>3</th>\n",
       "      <td>amp-card</td>\n",
       "      <td>0.261532</td>\n",
       "      <td>0.258827</td>\n",
       "      <td>0.010838</td>\n",
       "      <td>0.058867</td>\n",
       "      <td>0.258827</td>\n",
       "      <td>0.405083</td>\n",
       "      <td>0.782848</td>\n",
       "      <td>0.181977</td>\n",
       "      <td>0.012498</td>\n",
       "      <td>212</td>\n",
       "    </tr>\n",
       "    <tr>\n",
       "      <th>4</th>\n",
       "      <td>amp-visual_stories</td>\n",
       "      <td>0.163761</td>\n",
       "      <td>0.129515</td>\n",
       "      <td>0.079671</td>\n",
       "      <td>0.089205</td>\n",
       "      <td>0.129515</td>\n",
       "      <td>0.231886</td>\n",
       "      <td>0.291788</td>\n",
       "      <td>0.078428</td>\n",
       "      <td>0.017114</td>\n",
       "      <td>21</td>\n",
       "    </tr>\n",
       "    <tr>\n",
       "      <th>5</th>\n",
       "      <td>google-images</td>\n",
       "      <td>0.093915</td>\n",
       "      <td>0.035353</td>\n",
       "      <td>0.001183</td>\n",
       "      <td>0.023633</td>\n",
       "      <td>0.035353</td>\n",
       "      <td>0.147644</td>\n",
       "      <td>0.831275</td>\n",
       "      <td>0.110765</td>\n",
       "      <td>0.006043</td>\n",
       "      <td>336</td>\n",
       "    </tr>\n",
       "    <tr>\n",
       "      <th>6</th>\n",
       "      <td>youtube</td>\n",
       "      <td>0.373460</td>\n",
       "      <td>0.426035</td>\n",
       "      <td>0.026871</td>\n",
       "      <td>0.209724</td>\n",
       "      <td>0.426035</td>\n",
       "      <td>0.511561</td>\n",
       "      <td>0.868764</td>\n",
       "      <td>0.181682</td>\n",
       "      <td>0.012249</td>\n",
       "      <td>220</td>\n",
       "    </tr>\n",
       "    <tr>\n",
       "      <th>7</th>\n",
       "      <td>google-maps</td>\n",
       "      <td>0.135072</td>\n",
       "      <td>0.106660</td>\n",
       "      <td>0.001183</td>\n",
       "      <td>0.035088</td>\n",
       "      <td>0.106660</td>\n",
       "      <td>0.158913</td>\n",
       "      <td>0.591658</td>\n",
       "      <td>0.147399</td>\n",
       "      <td>0.023306</td>\n",
       "      <td>40</td>\n",
       "    </tr>\n",
       "    <tr>\n",
       "      <th>8</th>\n",
       "      <td>google-answer</td>\n",
       "      <td>0.154712</td>\n",
       "      <td>0.085452</td>\n",
       "      <td>0.001010</td>\n",
       "      <td>0.061918</td>\n",
       "      <td>0.085452</td>\n",
       "      <td>0.199428</td>\n",
       "      <td>0.912221</td>\n",
       "      <td>0.168108</td>\n",
       "      <td>0.008658</td>\n",
       "      <td>377</td>\n",
       "    </tr>\n",
       "    <tr>\n",
       "      <th>9</th>\n",
       "      <td>google-search</td>\n",
       "      <td>0.331172</td>\n",
       "      <td>0.265855</td>\n",
       "      <td>0.000622</td>\n",
       "      <td>0.148211</td>\n",
       "      <td>0.265855</td>\n",
       "      <td>0.431175</td>\n",
       "      <td>0.992005</td>\n",
       "      <td>0.261697</td>\n",
       "      <td>0.013085</td>\n",
       "      <td>400</td>\n",
       "    </tr>\n",
       "  </tbody>\n",
       "</table>\n",
       "</div>"
      ],
      "text/plain": [
       "                category      dist  dist_median       min        25        50  \\\n",
       "0  organic-search_result  0.222717     0.237787  0.001052  0.146613  0.237787   \n",
       "1                organic  0.143706     0.097133  0.009008  0.070220  0.097133   \n",
       "2                    ads  0.081285     0.001507  0.000864  0.001225  0.001507   \n",
       "3               amp-card  0.261532     0.258827  0.010838  0.058867  0.258827   \n",
       "4     amp-visual_stories  0.163761     0.129515  0.079671  0.089205  0.129515   \n",
       "5          google-images  0.093915     0.035353  0.001183  0.023633  0.035353   \n",
       "6                youtube  0.373460     0.426035  0.026871  0.209724  0.426035   \n",
       "7            google-maps  0.135072     0.106660  0.001183  0.035088  0.106660   \n",
       "8          google-answer  0.154712     0.085452  0.001010  0.061918  0.085452   \n",
       "9          google-search  0.331172     0.265855  0.000622  0.148211  0.265855   \n",
       "\n",
       "         75       max       std  sem_error    n  \n",
       "0  0.309680  0.493003  0.127622   0.006381  400  \n",
       "1  0.171759  0.811024  0.121782   0.006199  386  \n",
       "2  0.005768  0.862385  0.229322   0.037700   37  \n",
       "3  0.405083  0.782848  0.181977   0.012498  212  \n",
       "4  0.231886  0.291788  0.078428   0.017114   21  \n",
       "5  0.147644  0.831275  0.110765   0.006043  336  \n",
       "6  0.511561  0.868764  0.181682   0.012249  220  \n",
       "7  0.158913  0.591658  0.147399   0.023306   40  \n",
       "8  0.199428  0.912221  0.168108   0.008658  377  \n",
       "9  0.431175  0.992005  0.261697   0.013085  400  "
      ]
     },
     "execution_count": 85,
     "metadata": {},
     "output_type": "execute_result"
    }
   ],
   "source": [
    "df_dist"
   ]
  },
  {
   "cell_type": "code",
   "execution_count": 89,
   "metadata": {},
   "outputs": [
    {
     "data": {
      "image/png": "[encoded data removed]",
      "text/plain": [
       "<Figure size 532.8x792 with 1 Axes>"
      ]
     },
     "metadata": {
      "needs_background": "light"
     },
     "output_type": "display_data"
    }
   ],
   "source": [
    "legend_elements = [Line2D([0], [0], marker='o', color='w', \n",
    "                          label=label2publabel.get(label),\n",
    "                          markerfacecolor=c, markersize=10)\n",
    "                   for label, c in cat2color.items()][::-1]\n",
    "\n",
    "fig, ax = plt.subplots(figsize=(7.4, 11))\n",
    "col = '50'\n",
    "data = df_dist.sort_values(by=col)\n",
    "labels = [cat.replace('google-answer', 'answer')\n",
    "                            .replace('google-expandable-answer', 'answer')\n",
    "                            .split('-')[0]\n",
    "                            .replace('google', 'link')\n",
    "                            .replace('youtube', 'link') for cat in data.category]\n",
    "\n",
    "colors = [cat2color.get(label) for label in labels]\n",
    "\n",
    "\n",
    "plt.scatter(data.category, data[col], \n",
    "            c=colors, zorder=100)\n",
    "\n",
    "plt.errorbar(data.category, col, \n",
    "             data=data,\n",
    "             yerr=[data[col] - data['25'], \n",
    "                   data['75']- data[col]], \n",
    "             ecolor='k', color='white',\n",
    "             capsize = 3,  fmt='o',\n",
    "             alpha=.7)\n",
    "\n",
    "plt.gca().invert_yaxis()\n",
    "plt.axhline(y=.15, color='black', linestyle='-.', alpha=.4)\n",
    "# plt.annotate('Top of Page', (8, .143))\n",
    "plt.annotate('Top of Page', (-.2, .163))\n",
    "\n",
    "\n",
    "plt.xticks(rotation=90)\n",
    "for i, (_, row) in enumerate(data.iterrows()):\n",
    "    txt = row['category']\n",
    "    x = i + .11\n",
    "    y = row[col]\n",
    "    plt.annotate(cat2name.get(txt, txt), \n",
    "                 (x, y), \n",
    "                 ha='left',\n",
    "                 zorder=200)\n",
    "\n",
    "\n",
    "ax.set_ylabel(\"Percentage down the page\")\n",
    "\n",
    "ax.legend(handles=legend_elements[::-1],\n",
    "          loc='lower left', \n",
    "          bbox_to_anchor= (-0.025, 1.015), ncol=5,\n",
    "          handletextpad=0.0,\n",
    "          labelspacing=0, \n",
    "          borderaxespad=.1, \n",
    "          borderpad=0.1,\n",
    "          frameon=False,\n",
    "          prop={'size': 9.2}\n",
    "         )\n",
    "\n",
    "plt.title('Median distance down page before first contact',\n",
    "         x=0.48,\n",
    "         y=1.05,\n",
    "         size=15.)\n",
    "\n",
    "# ax.yaxis.set_major_formatter(mtick.PercentFormatter())\n",
    "vals = ax.get_yticks()\n",
    "ax.set_yticklabels(['{:,.0%}'.format(x) for x in vals])\n",
    "\n",
    "ax.set_axisbelow(True)\n",
    "# plt.gca().yaxis.grid(True)\n",
    "\n",
    "# Hide the right and top spines\n",
    "ax.spines['right'].set_visible(False)\n",
    "ax.spines['top'].set_visible(False)\n",
    "\n",
    "# Only show ticks on the left and bottom spines\n",
    "ax.yaxis.set_ticks_position('left')\n",
    "ax.xaxis.set_ticks_position('bottom')\n",
    "ax.xaxis.set_visible(False)\n",
    "\n",
    "plt.savefig(fn_fig3)\n",
    "del data;\n",
    "plt.show();"
   ]
  }
 ],
 "metadata": {
  "kernelspec": {
   "display_name": "Python 3",
   "language": "python",
   "name": "python3"
  },
  "language_info": {
   "codemirror_mode": {
    "name": "ipython",
    "version": 3
   },
   "file_extension": ".py",
   "mimetype": "text/x-python",
   "name": "python",
   "nbconvert_exporter": "python",
   "pygments_lexer": "ipython3",
   "version": "3.8.1"
  }
 },
 "nbformat": 4,
 "nbformat_minor": 4
}
