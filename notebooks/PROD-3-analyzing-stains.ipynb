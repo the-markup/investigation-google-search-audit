{
 "cells": [
  {
   "cell_type": "markdown",
   "metadata": {},
   "source": [
    "# Data Analysis\n",
    "\n",
    "This notebook analyses the results of the element categorization and area estimations from the last notebook."
   ]
  },
  {
   "cell_type": "code",
   "execution_count": 1,
   "metadata": {},
   "outputs": [],
   "source": [
    "%load_ext autoreload\n",
    "%autoreload 2\n",
    "%matplotlib inline"
   ]
  },
  {
   "cell_type": "code",
   "execution_count": 2,
   "metadata": {},
   "outputs": [
    {
     "data": {
      "application/javascript": [
       "MathJax.Hub.Config({\n",
       "    TeX: { equationNumbers: { autoNumber: \"AMS\" } }\n",
       "});\n"
      ],
      "text/plain": [
       "<IPython.core.display.Javascript object>"
      ]
     },
     "metadata": {},
     "output_type": "display_data"
    }
   ],
   "source": [
    "%%javascript\n",
    "MathJax.Hub.Config({\n",
    "    TeX: { equationNumbers: { autoNumber: \"AMS\" } }\n",
    "});"
   ]
  },
  {
   "cell_type": "code",
   "execution_count": 3,
   "metadata": {},
   "outputs": [],
   "source": [
    "import os\n",
    "import sys\n",
    "import json\n",
    "import time\n",
    "import glob\n",
    "import tempfile\n",
    "import warnings\n",
    "import inspect\n",
    "from collections import Counter\n",
    "from multiprocessing import Pool\n",
    "warnings.filterwarnings('ignore')\n",
    "\n",
    "import numpy as np\n",
    "import pandas as pd\n",
    "from scipy.stats import t\n",
    "import matplotlib.pyplot as plt\n",
    "from matplotlib.patches import Patch\n",
    "from matplotlib.lines import Line2D\n",
    "from bs4 import BeautifulSoup\n",
    "from tqdm import tqdm\n",
    "from IPython.display import display\n",
    "\n",
    "sys.path.append(\"..\")\n",
    "from utils.config import (\n",
    "    google_domains,\n",
    "    cat2color\n",
    ")"
   ]
  },
  {
   "cell_type": "code",
   "execution_count": 4,
   "metadata": {},
   "outputs": [],
   "source": [
    "n_quantiles = 50"
   ]
  },
  {
   "cell_type": "code",
   "execution_count": 5,
   "metadata": {},
   "outputs": [],
   "source": [
    "# input\n",
    "fn_metadata = f'../data/intermediary/element_metadata_15k_{n_quantiles}_quantiles.jsonl.gz'\n",
    "\n",
    "# output\n",
    "output_dir = '../data/output'\n",
    "tables_dir = os.path.join(output_dir, 'tables/')\n",
    "figure_dir = os.path.join(output_dir, 'figures/')\n",
    "appendix_dir = os.path.join(output_dir, 'appendix/')\n",
    "\n",
    "for d in [tables_dir, figure_dir, appendix_dir]:\n",
    "    os.makedirs(d, exist_ok=True)"
   ]
  },
  {
   "cell_type": "code",
   "execution_count": 6,
   "metadata": {},
   "outputs": [],
   "source": [
    "df = pd.read_json(fn_metadata, lines=True, \n",
    "                  compression='gzip')"
   ]
  },
  {
   "cell_type": "code",
   "execution_count": 10,
   "metadata": {},
   "outputs": [
    {
     "data": {
      "text/plain": [
       "2.901245302e+18"
      ]
     },
     "execution_count": 10,
     "metadata": {},
     "output_type": "execute_result"
    }
   ],
   "source": [
    "df.memory_usage(index=True, deep=True).sum() / 1e-9"
   ]
  },
  {
   "cell_type": "code",
   "execution_count": null,
   "metadata": {},
   "outputs": [],
   "source": [
    "# recall a record looks like this\n",
    "print(json.dumps(df.sample(1).iloc[-1].to_dict(), \n",
    "                 indent=2))"
   ]
  },
  {
   "cell_type": "code",
   "execution_count": 11,
   "metadata": {},
   "outputs": [],
   "source": [
    "total_area = df.area_above_the_fold.sum()\n",
    "total_area_fp = df.area_page.sum()"
   ]
  },
  {
   "cell_type": "code",
   "execution_count": 12,
   "metadata": {},
   "outputs": [],
   "source": [
    "label2publabel = {\n",
    "    'link' : 'Google Product',\n",
    "    'answer' : 'Google Answer',\n",
    "    'organic' : 'Non-Google',\n",
    "    'amp' : 'AMP',\n",
    "    'ads' : 'Ads'\n",
    "}"
   ]
  },
  {
   "cell_type": "markdown",
   "metadata": {},
   "source": [
    "\\begin{equation}\n",
    "X_{g} = \\frac{g}{g + o + amp + ad}\n",
    "\\end{equation}\n",
    "\n",
    "\n",
    "\n",
    "Where <br>\n",
    "&nbsp;&nbsp;&nbsp;&nbsp; $X_{g}$: is the percentage of real estate that occupied by Google.<br>\n",
    "&nbsp;&nbsp;&nbsp;&nbsp; $g$: is the sum of real estate pixels occupied by Google products and answers.<br>\n",
    "&nbsp;&nbsp;&nbsp;&nbsp; $o$: is the sum of real estate pixels occupied by Non-Google.<br>\n",
    "&nbsp;&nbsp;&nbsp;&nbsp; $amp$: is the sum of real estate pixels occupied by AMP.<br>\n",
    "&nbsp;&nbsp;&nbsp;&nbsp; $ad$: is the sum of real estate pixels occupied by ads.<br>"
   ]
  },
  {
   "cell_type": "markdown",
   "metadata": {},
   "source": [
    "## Breakdown of area and frequency for each category\n",
    "For a more granular look at how much space is occupied by each search feature:"
   ]
  },
  {
   "cell_type": "code",
   "execution_count": 13,
   "metadata": {},
   "outputs": [],
   "source": [
    "# get area per standardized category\n",
    "cat_area_ = (df.groupby('category_standard')\n",
    "               .area_page.sum()\n",
    "               .divide(total_area)\n",
    "               .sort_values(ascending=False))\n",
    "\n",
    "cat_area =(df.groupby('category_standard')\n",
    "             .area_above_the_fold.sum()\n",
    "             .divide(total_area_fp)\n",
    "             .sort_values(ascending=False))"
   ]
  },
  {
   "cell_type": "code",
   "execution_count": 14,
   "metadata": {},
   "outputs": [
    {
     "data": {
      "text/plain": [
       "category_standard\n",
       "google-answer                   0.028491\n",
       "google-images                   0.018642\n",
       "amp-card                        0.015182\n",
       "organic-search_result           0.013923\n",
       "google-misc                     0.013723\n",
       "organic                         0.011552\n",
       "google-knowledge-panel-links    0.009462\n",
       "ads                             0.008033\n",
       "google-search                   0.004778\n",
       "google-expandable-answer        0.003542\n",
       "google-video                    0.002496\n",
       "google-maps                     0.001884\n",
       "amp-visual_stories              0.000423\n",
       "amp-search_result               0.000382\n",
       "Name: area_above_the_fold, dtype: float64"
      ]
     },
     "execution_count": 14,
     "metadata": {},
     "output_type": "execute_result"
    }
   ],
   "source": [
    "cat_area"
   ]
  },
  {
   "cell_type": "code",
   "execution_count": 15,
   "metadata": {},
   "outputs": [
    {
     "data": {
      "text/plain": [
       "15269"
      ]
     },
     "execution_count": 15,
     "metadata": {},
     "output_type": "execute_result"
    }
   ],
   "source": [
    "# how many records are in our dataset, again?\n",
    "n_pages = df[df.area_page != 0].fn_input.nunique()\n",
    "n_pages"
   ]
  },
  {
   "cell_type": "code",
   "execution_count": 16,
   "metadata": {},
   "outputs": [],
   "source": [
    "# number of elements on the top of the page\n",
    "cat_count = Counter()\n",
    "for fn, _df in df[df.area_above_the_fold != 0].groupby('fn_input'):\n",
    "    cat_count.update(_df.category_standard.unique())\n",
    "df_wc = pd.DataFrame(cat_count.most_common(50),\n",
    "                     columns=['category_standard', 'count'])\n",
    "df_wc['freq'] = df_wc['count'] / n_pages \n",
    "\n",
    "# number of elements on full page\n",
    "cat_count_ = Counter()\n",
    "for fn, _df in df[df.area_page != 0].groupby('fn_input'):\n",
    "    cat_count_.update(_df.category_standard.unique())\n",
    "df_wc_ = pd.DataFrame(cat_count_.most_common(50),\n",
    "                     columns=['category_standard', 'count_page'])\n",
    "df_wc_['freq_page'] = df_wc_['count_page'] / n_pages "
   ]
  },
  {
   "cell_type": "code",
   "execution_count": 17,
   "metadata": {},
   "outputs": [],
   "source": [
    "# get all the names of things for each label (category).\n",
    "cat_amp = df[df.label == 'amp'].category_standard.unique()\n",
    "cat_sd = df[df.label == 'link'].category_standard.unique()\n",
    "cat_rt = df[df.label == 'answer'].category_standard.unique()\n",
    "cat_ad = df[df.label == 'ads'].category_standard.unique()\n",
    "cat_og = df[df.label == 'organic'].category_standard.unique()"
   ]
  },
  {
   "cell_type": "code",
   "execution_count": 18,
   "metadata": {},
   "outputs": [],
   "source": [
    "def format_number(x):\n",
    "    \"\"\"Makes it nice for printing\"\"\"\n",
    "    x = x * 100\n",
    "    x = round(x, 2)\n",
    "    return f\"{x}%\""
   ]
  },
  {
   "cell_type": "code",
   "execution_count": 19,
   "metadata": {},
   "outputs": [],
   "source": [
    "def breakdown(categories : list(), \n",
    "              col='category_standard',\n",
    "              area_col='area_above_the_fold'):\n",
    "    \"\"\"Shows the area coverage and page frequency for each category  \"\"\"\n",
    "    full_page =df_wc_[df_wc_[col].isin(categories)] \\\n",
    "            .join(cat_area_.to_frame(),\n",
    "                  on=col,\n",
    "                  how='left')\n",
    "\n",
    "    output = (df_wc[df_wc[col].isin(categories)]\n",
    "        .join(cat_area.to_frame(),\n",
    "              on=col,\n",
    "              how='left')\n",
    "        .sort_values(by=[area_col], \n",
    "                     ascending=False)\n",
    "        .reset_index(drop=True)\n",
    "        .merge(full_page)\n",
    "    )\n",
    "    \n",
    "    output = output[[c for c in output.columns if 'count' not in c]]\n",
    "        \n",
    "    fg_area = output[area_col].sum()\n",
    "    fp_area = output['area_page'].sum()\n",
    "    \n",
    "    output = output.append(\n",
    "        {'category_standard' : 'Total', \n",
    "         'freq' : np.nan, \n",
    "         area_col : fg_area, \n",
    "         'freq_page' : np.nan, \n",
    "         'area_page' : fp_area},\n",
    "        ignore_index=True\n",
    "    )\n",
    "    return output.set_index(col)\n"
   ]
  },
  {
   "cell_type": "markdown",
   "metadata": {},
   "source": [
    "## Breakdown of area and frequency for each category"
   ]
  },
  {
   "cell_type": "code",
   "execution_count": 20,
   "metadata": {},
   "outputs": [],
   "source": [
    "columns = [\n",
    "   ('Top of page', 'area'),\n",
    "   ('Top of page' , 'area'),\n",
    "   ('Full page', 'freq'),\n",
    "   ('Full page' , 'area'),\n",
    "]"
   ]
  },
  {
   "cell_type": "code",
   "execution_count": 21,
   "metadata": {},
   "outputs": [],
   "source": [
    "total_area = df.area_above_the_fold.sum()\n",
    "total_area_fp = df.area_page.sum()\n",
    "n_pages = df.fn_input.nunique()"
   ]
  },
  {
   "cell_type": "code",
   "execution_count": 22,
   "metadata": {},
   "outputs": [],
   "source": [
    "labels_in_order = [\n",
    "    'organic',\n",
    "    'amp',\n",
    "    'answer',\n",
    "    'link',\n",
    "    'ads'\n",
    "]"
   ]
  },
  {
   "cell_type": "code",
   "execution_count": 23,
   "metadata": {},
   "outputs": [
    {
     "data": {
      "text/html": [
       "<div>\n",
       "<style scoped>\n",
       "    .dataframe tbody tr th:only-of-type {\n",
       "        vertical-align: middle;\n",
       "    }\n",
       "\n",
       "    .dataframe tbody tr th {\n",
       "        vertical-align: top;\n",
       "    }\n",
       "\n",
       "    .dataframe thead tr th {\n",
       "        text-align: left;\n",
       "    }\n",
       "\n",
       "    .dataframe thead tr:last-of-type th {\n",
       "        text-align: right;\n",
       "    }\n",
       "</style>\n",
       "<table border=\"1\" class=\"dataframe\">\n",
       "  <thead>\n",
       "    <tr>\n",
       "      <th></th>\n",
       "      <th colspan=\"2\" halign=\"left\">Top of page</th>\n",
       "      <th colspan=\"2\" halign=\"left\">Full page</th>\n",
       "    </tr>\n",
       "    <tr>\n",
       "      <th></th>\n",
       "      <th>freq</th>\n",
       "      <th>area</th>\n",
       "      <th>freq</th>\n",
       "      <th>area</th>\n",
       "    </tr>\n",
       "    <tr>\n",
       "      <th>category_standard</th>\n",
       "      <th></th>\n",
       "      <th></th>\n",
       "      <th></th>\n",
       "      <th></th>\n",
       "    </tr>\n",
       "  </thead>\n",
       "  <tbody>\n",
       "    <tr>\n",
       "      <th>ads</th>\n",
       "      <td>8.08%</td>\n",
       "      <td>0.8%</td>\n",
       "      <td>9.51%</td>\n",
       "      <td>7.26%</td>\n",
       "    </tr>\n",
       "    <tr>\n",
       "      <th>Total</th>\n",
       "      <td>nan%</td>\n",
       "      <td>0.8%</td>\n",
       "      <td>nan%</td>\n",
       "      <td>7.26%</td>\n",
       "    </tr>\n",
       "  </tbody>\n",
       "</table>\n",
       "</div>"
      ],
      "text/plain": [
       "                  Top of page       Full page       \n",
       "                         freq  area      freq   area\n",
       "category_standard                                   \n",
       "ads                     8.08%  0.8%     9.51%  7.26%\n",
       "Total                    nan%  0.8%      nan%  7.26%"
      ]
     },
     "metadata": {},
     "output_type": "display_data"
    },
    {
     "data": {
      "text/html": [
       "<div>\n",
       "<style scoped>\n",
       "    .dataframe tbody tr th:only-of-type {\n",
       "        vertical-align: middle;\n",
       "    }\n",
       "\n",
       "    .dataframe tbody tr th {\n",
       "        vertical-align: top;\n",
       "    }\n",
       "\n",
       "    .dataframe thead tr th {\n",
       "        text-align: left;\n",
       "    }\n",
       "\n",
       "    .dataframe thead tr:last-of-type th {\n",
       "        text-align: right;\n",
       "    }\n",
       "</style>\n",
       "<table border=\"1\" class=\"dataframe\">\n",
       "  <thead>\n",
       "    <tr>\n",
       "      <th></th>\n",
       "      <th colspan=\"2\" halign=\"left\">Top of page</th>\n",
       "      <th colspan=\"2\" halign=\"left\">Full page</th>\n",
       "    </tr>\n",
       "    <tr>\n",
       "      <th></th>\n",
       "      <th>freq</th>\n",
       "      <th>area</th>\n",
       "      <th>freq</th>\n",
       "      <th>area</th>\n",
       "    </tr>\n",
       "    <tr>\n",
       "      <th>category_standard</th>\n",
       "      <th></th>\n",
       "      <th></th>\n",
       "      <th></th>\n",
       "      <th></th>\n",
       "    </tr>\n",
       "  </thead>\n",
       "  <tbody>\n",
       "    <tr>\n",
       "      <th>amp-card</th>\n",
       "      <td>19.03%</td>\n",
       "      <td>1.52%</td>\n",
       "      <td>56.19%</td>\n",
       "      <td>32.28%</td>\n",
       "    </tr>\n",
       "    <tr>\n",
       "      <th>amp-visual_stories</th>\n",
       "      <td>2.61%</td>\n",
       "      <td>0.04%</td>\n",
       "      <td>5.51%</td>\n",
       "      <td>0.74%</td>\n",
       "    </tr>\n",
       "    <tr>\n",
       "      <th>amp-search_result</th>\n",
       "      <td>1.1%</td>\n",
       "      <td>0.04%</td>\n",
       "      <td>68.9%</td>\n",
       "      <td>67.43%</td>\n",
       "    </tr>\n",
       "    <tr>\n",
       "      <th>Total</th>\n",
       "      <td>nan%</td>\n",
       "      <td>1.6%</td>\n",
       "      <td>nan%</td>\n",
       "      <td>100.45%</td>\n",
       "    </tr>\n",
       "  </tbody>\n",
       "</table>\n",
       "</div>"
      ],
      "text/plain": [
       "                   Top of page        Full page         \n",
       "                          freq   area      freq     area\n",
       "category_standard                                       \n",
       "amp-card                19.03%  1.52%    56.19%   32.28%\n",
       "amp-visual_stories       2.61%  0.04%     5.51%    0.74%\n",
       "amp-search_result         1.1%  0.04%     68.9%   67.43%\n",
       "Total                     nan%   1.6%      nan%  100.45%"
      ]
     },
     "metadata": {},
     "output_type": "display_data"
    },
    {
     "data": {
      "text/html": [
       "<div>\n",
       "<style scoped>\n",
       "    .dataframe tbody tr th:only-of-type {\n",
       "        vertical-align: middle;\n",
       "    }\n",
       "\n",
       "    .dataframe tbody tr th {\n",
       "        vertical-align: top;\n",
       "    }\n",
       "\n",
       "    .dataframe thead tr th {\n",
       "        text-align: left;\n",
       "    }\n",
       "\n",
       "    .dataframe thead tr:last-of-type th {\n",
       "        text-align: right;\n",
       "    }\n",
       "</style>\n",
       "<table border=\"1\" class=\"dataframe\">\n",
       "  <thead>\n",
       "    <tr>\n",
       "      <th></th>\n",
       "      <th colspan=\"2\" halign=\"left\">Top of page</th>\n",
       "      <th colspan=\"2\" halign=\"left\">Full page</th>\n",
       "    </tr>\n",
       "    <tr>\n",
       "      <th></th>\n",
       "      <th>freq</th>\n",
       "      <th>area</th>\n",
       "      <th>freq</th>\n",
       "      <th>area</th>\n",
       "    </tr>\n",
       "    <tr>\n",
       "      <th>category_standard</th>\n",
       "      <th></th>\n",
       "      <th></th>\n",
       "      <th></th>\n",
       "      <th></th>\n",
       "    </tr>\n",
       "  </thead>\n",
       "  <tbody>\n",
       "    <tr>\n",
       "      <th>google-answer</th>\n",
       "      <td>61.21%</td>\n",
       "      <td>2.85%</td>\n",
       "      <td>93.68%</td>\n",
       "      <td>44.92%</td>\n",
       "    </tr>\n",
       "    <tr>\n",
       "      <th>google-expandable-answer</th>\n",
       "      <td>18.02%</td>\n",
       "      <td>0.35%</td>\n",
       "      <td>89.74%</td>\n",
       "      <td>56.59%</td>\n",
       "    </tr>\n",
       "    <tr>\n",
       "      <th>Total</th>\n",
       "      <td>nan%</td>\n",
       "      <td>3.2%</td>\n",
       "      <td>nan%</td>\n",
       "      <td>101.51%</td>\n",
       "    </tr>\n",
       "  </tbody>\n",
       "</table>\n",
       "</div>"
      ],
      "text/plain": [
       "                         Top of page        Full page         \n",
       "                                freq   area      freq     area\n",
       "category_standard                                             \n",
       "google-answer                 61.21%  2.85%    93.68%   44.92%\n",
       "google-expandable-answer      18.02%  0.35%    89.74%   56.59%\n",
       "Total                           nan%   3.2%      nan%  101.51%"
      ]
     },
     "metadata": {},
     "output_type": "display_data"
    },
    {
     "data": {
      "text/html": [
       "<div>\n",
       "<style scoped>\n",
       "    .dataframe tbody tr th:only-of-type {\n",
       "        vertical-align: middle;\n",
       "    }\n",
       "\n",
       "    .dataframe tbody tr th {\n",
       "        vertical-align: top;\n",
       "    }\n",
       "\n",
       "    .dataframe thead tr th {\n",
       "        text-align: left;\n",
       "    }\n",
       "\n",
       "    .dataframe thead tr:last-of-type th {\n",
       "        text-align: right;\n",
       "    }\n",
       "</style>\n",
       "<table border=\"1\" class=\"dataframe\">\n",
       "  <thead>\n",
       "    <tr>\n",
       "      <th></th>\n",
       "      <th colspan=\"2\" halign=\"left\">Top of page</th>\n",
       "      <th colspan=\"2\" halign=\"left\">Full page</th>\n",
       "    </tr>\n",
       "    <tr>\n",
       "      <th></th>\n",
       "      <th>freq</th>\n",
       "      <th>area</th>\n",
       "      <th>freq</th>\n",
       "      <th>area</th>\n",
       "    </tr>\n",
       "    <tr>\n",
       "      <th>category_standard</th>\n",
       "      <th></th>\n",
       "      <th></th>\n",
       "      <th></th>\n",
       "      <th></th>\n",
       "    </tr>\n",
       "  </thead>\n",
       "  <tbody>\n",
       "    <tr>\n",
       "      <th>google-images</th>\n",
       "      <td>64.01%</td>\n",
       "      <td>1.86%</td>\n",
       "      <td>85.8%</td>\n",
       "      <td>19.84%</td>\n",
       "    </tr>\n",
       "    <tr>\n",
       "      <th>google-misc</th>\n",
       "      <td>84.07%</td>\n",
       "      <td>1.37%</td>\n",
       "      <td>99.23%</td>\n",
       "      <td>29.5%</td>\n",
       "    </tr>\n",
       "    <tr>\n",
       "      <th>google-knowledge-panel-links</th>\n",
       "      <td>67.63%</td>\n",
       "      <td>0.95%</td>\n",
       "      <td>73.97%</td>\n",
       "      <td>8.32%</td>\n",
       "    </tr>\n",
       "    <tr>\n",
       "      <th>google-search</th>\n",
       "      <td>26.08%</td>\n",
       "      <td>0.48%</td>\n",
       "      <td>99.99%</td>\n",
       "      <td>118.26%</td>\n",
       "    </tr>\n",
       "    <tr>\n",
       "      <th>google-video</th>\n",
       "      <td>12.68%</td>\n",
       "      <td>0.25%</td>\n",
       "      <td>59.4%</td>\n",
       "      <td>28.92%</td>\n",
       "    </tr>\n",
       "    <tr>\n",
       "      <th>google-maps</th>\n",
       "      <td>5.81%</td>\n",
       "      <td>0.19%</td>\n",
       "      <td>9.6%</td>\n",
       "      <td>2.86%</td>\n",
       "    </tr>\n",
       "    <tr>\n",
       "      <th>Total</th>\n",
       "      <td>nan%</td>\n",
       "      <td>5.1%</td>\n",
       "      <td>nan%</td>\n",
       "      <td>207.69%</td>\n",
       "    </tr>\n",
       "  </tbody>\n",
       "</table>\n",
       "</div>"
      ],
      "text/plain": [
       "                             Top of page        Full page         \n",
       "                                    freq   area      freq     area\n",
       "category_standard                                                 \n",
       "google-images                     64.01%  1.86%     85.8%   19.84%\n",
       "google-misc                       84.07%  1.37%    99.23%    29.5%\n",
       "google-knowledge-panel-links      67.63%  0.95%    73.97%    8.32%\n",
       "google-search                     26.08%  0.48%    99.99%  118.26%\n",
       "google-video                      12.68%  0.25%     59.4%   28.92%\n",
       "google-maps                        5.81%  0.19%      9.6%    2.86%\n",
       "Total                               nan%   5.1%      nan%  207.69%"
      ]
     },
     "metadata": {},
     "output_type": "display_data"
    },
    {
     "data": {
      "text/html": [
       "<div>\n",
       "<style scoped>\n",
       "    .dataframe tbody tr th:only-of-type {\n",
       "        vertical-align: middle;\n",
       "    }\n",
       "\n",
       "    .dataframe tbody tr th {\n",
       "        vertical-align: top;\n",
       "    }\n",
       "\n",
       "    .dataframe thead tr th {\n",
       "        text-align: left;\n",
       "    }\n",
       "\n",
       "    .dataframe thead tr:last-of-type th {\n",
       "        text-align: right;\n",
       "    }\n",
       "</style>\n",
       "<table border=\"1\" class=\"dataframe\">\n",
       "  <thead>\n",
       "    <tr>\n",
       "      <th></th>\n",
       "      <th colspan=\"2\" halign=\"left\">Top of page</th>\n",
       "      <th colspan=\"2\" halign=\"left\">Full page</th>\n",
       "    </tr>\n",
       "    <tr>\n",
       "      <th></th>\n",
       "      <th>freq</th>\n",
       "      <th>area</th>\n",
       "      <th>freq</th>\n",
       "      <th>area</th>\n",
       "    </tr>\n",
       "    <tr>\n",
       "      <th>category_standard</th>\n",
       "      <th></th>\n",
       "      <th></th>\n",
       "      <th></th>\n",
       "      <th></th>\n",
       "    </tr>\n",
       "  </thead>\n",
       "  <tbody>\n",
       "    <tr>\n",
       "      <th>organic-search_result</th>\n",
       "      <td>24.13%</td>\n",
       "      <td>1.39%</td>\n",
       "      <td>99.97%</td>\n",
       "      <td>288.25%</td>\n",
       "    </tr>\n",
       "    <tr>\n",
       "      <th>organic</th>\n",
       "      <td>68.7%</td>\n",
       "      <td>1.16%</td>\n",
       "      <td>95.15%</td>\n",
       "      <td>49.48%</td>\n",
       "    </tr>\n",
       "    <tr>\n",
       "      <th>Total</th>\n",
       "      <td>nan%</td>\n",
       "      <td>2.55%</td>\n",
       "      <td>nan%</td>\n",
       "      <td>337.73%</td>\n",
       "    </tr>\n",
       "  </tbody>\n",
       "</table>\n",
       "</div>"
      ],
      "text/plain": [
       "                      Top of page        Full page         \n",
       "                             freq   area      freq     area\n",
       "category_standard                                          \n",
       "organic-search_result      24.13%  1.39%    99.97%  288.25%\n",
       "organic                     68.7%  1.16%    95.15%   49.48%\n",
       "Total                        nan%  2.55%      nan%  337.73%"
      ]
     },
     "metadata": {},
     "output_type": "display_data"
    }
   ],
   "source": [
    "df_cat_agg = pd.DataFrame()\n",
    "for categories in [cat_ad, cat_amp, cat_rt, cat_sd, cat_og]:\n",
    "    output = breakdown(categories)\n",
    "    df_cat_agg = df_cat_agg.append(output)\n",
    "    \n",
    "    output.columns = pd.MultiIndex.from_tuples([\n",
    "       ('Top of page', 'freq'),\n",
    "       ('Top of page' , 'area'),\n",
    "       ('Full page', 'freq'),\n",
    "       ('Full page' , 'area'),\n",
    "    ])\n",
    "    for c, dtype in output.dtypes.items():\n",
    "        if pd.api.types.is_numeric_dtype(output[c]):\n",
    "            output[c] = output[c].apply(format_number)\n",
    "    \n",
    "    display(output)"
   ]
  },
  {
   "cell_type": "markdown",
   "metadata": {},
   "source": [
    "## Ratios"
   ]
  },
  {
   "cell_type": "markdown",
   "metadata": {},
   "source": [
    "## Table 1"
   ]
  },
  {
   "cell_type": "code",
   "execution_count": 24,
   "metadata": {},
   "outputs": [
    {
     "name": "stdout",
     "output_type": "stream",
     "text": [
      "               Top of page        First page        \n",
      "                      area   freq       area    freq\n",
      "Google Answer        24.2%  70.5%      13.5%   99.4%\n",
      "Google Product       38.5%  92.4%      27.5%  100.0%\n",
      "Non-Google           19.2%  80.0%      44.8%  100.0%\n",
      "AMP                  12.1%  22.6%      13.3%   80.7%\n",
      "Ads                   6.1%   8.1%       1.0%    9.5%\n"
     ]
    }
   ],
   "source": [
    "data = {}\n",
    "for label in df.label.unique():\n",
    "    _df = df[df.label == label]\n",
    "    area = (_df['area_above_the_fold'].sum() / total_area)\n",
    "    freq = _df[_df['area_above_the_fold'] != 0].fn_input.nunique() / n_pages\n",
    "    \n",
    "    area_page = (_df['area_page'].sum() / total_area_fp)\n",
    "    freq_page = _df[_df['area_page'] != 0].fn_input.nunique() / n_pages\n",
    "    \n",
    "    data[label2publabel.get(label,label)] = {\n",
    "        ('Top of page', 'area') : area,\n",
    "        ('Top of page', 'freq') : freq,\n",
    "        ('First page', 'area') : area_page,\n",
    "        ('First page', 'freq') : freq_page,\n",
    "    }\n",
    "    \n",
    "cat_breakdown = pd.DataFrame(data).T\n",
    "cat_breakdown.columns = pd.MultiIndex.from_tuples([\n",
    "    ('Top of page', 'area'),\n",
    "    ('Top of page', 'freq'),\n",
    "    ('First page', 'area'),\n",
    "    ('First page', 'freq'),\n",
    "])\n",
    "\n",
    "print((cat_breakdown * 100).round(1).astype(str) + '%')"
   ]
  },
  {
   "cell_type": "code",
   "execution_count": 25,
   "metadata": {},
   "outputs": [],
   "source": [
    "fn_cats = '../data/output/tables/T1_area_freq_by_category.csv'\n",
    "cat_breakdown.to_csv(fn_cats)"
   ]
  },
  {
   "cell_type": "code",
   "execution_count": 26,
   "metadata": {},
   "outputs": [],
   "source": [
    "fn_pixels = '../data/intermediary/pixels_above_the_fold.csv'\n",
    "fn_pixels_page = '../data/intermediary/pixels_page.csv'"
   ]
  },
  {
   "cell_type": "code",
   "execution_count": 27,
   "metadata": {},
   "outputs": [],
   "source": [
    "labels_in_order = [\n",
    "    'organic',\n",
    "    'amp',\n",
    "    'answer',\n",
    "    'link',\n",
    "    'ads'\n",
    "]"
   ]
  },
  {
   "cell_type": "code",
   "execution_count": 28,
   "metadata": {},
   "outputs": [],
   "source": [
    "area_cols = ['area_above_the_fold', 'area_page']"
   ]
  },
  {
   "cell_type": "code",
   "execution_count": 29,
   "metadata": {},
   "outputs": [
    {
     "name": "stderr",
     "output_type": "stream",
     "text": [
      "100%|██████████| 15269/15269 [01:10<00:00, 215.14it/s]\n"
     ]
    }
   ],
   "source": [
    "pixels = {c : list() for c in area_cols}\n",
    "for search, df_ in tqdm(df.groupby('fn_input'), position=0, leave=True):\n",
    "    for col in area_cols:\n",
    "        # get sum of pixels for each label.\n",
    "        ad = df_[df_.label == 'ads'][col].sum()\n",
    "        o = df_[df_.label == 'organic'][col].sum()\n",
    "        g = df_[(df_.label == 'link') | (df_.label == 'answer')][col].sum()\n",
    "        a =  df_[df_.label == 'answer'][col].sum()\n",
    "        amp = df_[df_.label == 'amp'][col].sum()\n",
    "        \n",
    "        # equations\n",
    "        e1 =  o / (g + ad + o + amp)\n",
    "        e2 = g / (g + ad + o + amp)\n",
    "\n",
    "        row = {\n",
    "            'search_term' : search,\n",
    "            'ad' : ad,\n",
    "            'o' : o,\n",
    "            'g' : g,\n",
    "            'a' : a,\n",
    "            'amp' : amp,\n",
    "            'e1' : e1,\n",
    "            'e2' : e2,\n",
    "        }\n",
    "\n",
    "        pixels[col].append(row)\n",
    "    \n",
    "df_pixels = pd.DataFrame(pixels['area_above_the_fold'])\n",
    "df_pixels_fp = pd.DataFrame(pixels['area_page'])\n",
    "\n",
    "df_pixels.e1.fillna(0, inplace=True)\n",
    "df_pixels.e2.fillna(0, inplace=True)"
   ]
  },
  {
   "cell_type": "code",
   "execution_count": 30,
   "metadata": {},
   "outputs": [],
   "source": [
    "df_pixels.to_csv(fn_pixels, index=False)\n",
    "df_pixels_fp.to_csv(fn_pixels_page, index=False)"
   ]
  },
  {
   "cell_type": "markdown",
   "metadata": {},
   "source": [
    "## Histogram of Google-occupied pixels"
   ]
  },
  {
   "cell_type": "code",
   "execution_count": 49,
   "metadata": {},
   "outputs": [],
   "source": [
    "def hist(series, color='black', \n",
    "         title=None, \n",
    "         fn_out=None,\n",
    "         left_right_annotations = (None, None)):\n",
    "    ax = series.plot(kind='hist', \n",
    "                           figsize=(10,6),\n",
    "                           bins=10, \n",
    "                           rwidth=.95,\n",
    "                           color=color,\n",
    "                           alpha=.9,\n",
    "                           title=title)\n",
    "\n",
    "    ax.tick_params(axis=\"both\", which=\"both\", bottom=\"off\", \n",
    "                   top=\"off\", labelbottom=\"on\", left=\"off\", \n",
    "                   right=\"off\", labelleft=\"on\")\n",
    "\n",
    "    plt.annotate(left_right_annotations[0], \n",
    "                 (0.04, 0), (0, -21), \n",
    "                 xycoords='axes fraction', \n",
    "                 textcoords='offset points', \n",
    "                 va='top')\n",
    "    plt.annotate(left_right_annotations[-1], \n",
    "                 (.75, 0), (.75, -21), \n",
    "                 xycoords='axes fraction', \n",
    "                 textcoords='offset points', \n",
    "                 va='top')\n",
    "\n",
    "    ax.set_ylabel(\"Count of search pages\")\n",
    "\n",
    "    ax.set_axisbelow(True)\n",
    "    plt.gca().yaxis.grid(True)\n",
    "\n",
    "    # Hide the right and top spines\n",
    "    ax.spines['right'].set_visible(False)\n",
    "    ax.spines['top'].set_visible(False)\n",
    "\n",
    "    # Only show ticks on the left and bottom spines\n",
    "    ax.yaxis.set_ticks_position('left')\n",
    "    ax.xaxis.set_ticks_position('bottom')\n",
    "    \n",
    "    if fn_out:\n",
    "         plt.savefig(fn_out)\n",
    "    \n",
    "    return ax"
   ]
  },
  {
   "cell_type": "code",
   "execution_count": 50,
   "metadata": {},
   "outputs": [
    {
     "data": {
      "image/png": "[encoded data removed]",
      "text/plain": [
       "<Figure size 720x432 with 1 Axes>"
      ]
     },
     "metadata": {
      "needs_background": "light"
     },
     "output_type": "display_data"
    }
   ],
   "source": [
    "hist(df_pixels.e1,\n",
    "     left_right_annotations = ('Very little non-Google',\n",
    "                               'Almost entirely non-Google'),\n",
    "     color=cat2color['organic'],\n",
    "     title = f'Distibution of Non-Google real estate top of the page (N={len(df_pixels):,} searches)',\n",
    "     fn_out='../data/output/figures/eq1_abv.png');"
   ]
  },
  {
   "cell_type": "code",
   "execution_count": 51,
   "metadata": {},
   "outputs": [
    {
     "data": {
      "text/plain": [
       "55.97616084877857"
      ]
     },
     "execution_count": 51,
     "metadata": {},
     "output_type": "execute_result"
    }
   ],
   "source": [
    "# What percentage of pages have 10% or less of the page occupied by Non-Google?\n",
    "len(df_pixels[df_pixels.e1 <= .1]) / len(df_pixels) * 100"
   ]
  },
  {
   "cell_type": "code",
   "execution_count": 54,
   "metadata": {},
   "outputs": [
    {
     "data": {
      "text/plain": [
       "(0.19210043603525667, 0.05813189647370441)"
      ]
     },
     "execution_count": 54,
     "metadata": {},
     "output_type": "execute_result"
    }
   ],
   "source": [
    "df_pixels.e1.mean(), df_pixels.e1.median()"
   ]
  },
  {
   "cell_type": "code",
   "execution_count": 55,
   "metadata": {},
   "outputs": [
    {
     "data": {
      "text/plain": [
       "0.21861809090360051"
      ]
     },
     "execution_count": 55,
     "metadata": {},
     "output_type": "execute_result"
    }
   ],
   "source": [
    "# what is the standard error?\n",
    "(df_pixels.e1.sem()) * 100"
   ]
  },
  {
   "cell_type": "markdown",
   "metadata": {},
   "source": [
    "What about the full page?"
   ]
  },
  {
   "cell_type": "code",
   "execution_count": 56,
   "metadata": {},
   "outputs": [
    {
     "data": {
      "image/png": "[encoded data removed]",
      "text/plain": [
       "<Figure size 720x432 with 1 Axes>"
      ]
     },
     "metadata": {
      "needs_background": "light"
     },
     "output_type": "display_data"
    }
   ],
   "source": [
    "hist(df_pixels_fp.e1,\n",
    "     title=f'Non-Google real estate first page (N={len(df_pixels):,})',\n",
    "     left_right_annotations = ('least Google-occupied space',\n",
    "                               'most Google-occupied space'),\n",
    "     color=cat2color['organic'],\n",
    "     fn_out='../data/output/figures/eq1_page.png');"
   ]
  },
  {
   "cell_type": "code",
   "execution_count": 57,
   "metadata": {},
   "outputs": [
    {
     "data": {
      "text/plain": [
       "36.26956578688847"
      ]
     },
     "execution_count": 57,
     "metadata": {},
     "output_type": "execute_result"
    }
   ],
   "source": [
    "# What percentage of pages have 50% or more of the page occupied by non-Google?\n",
    "len(df_pixels_fp[df_pixels_fp.e1 >= .5]) / len(df_pixels) * 100"
   ]
  },
  {
   "cell_type": "code",
   "execution_count": 58,
   "metadata": {},
   "outputs": [
    {
     "data": {
      "text/plain": [
       "<matplotlib.axes._subplots.AxesSubplot at 0x7fa9522ff220>"
      ]
     },
     "execution_count": 58,
     "metadata": {},
     "output_type": "execute_result"
    },
    {
     "data": {
      "image/png": "[encoded data removed]",
      "text/plain": [
       "<Figure size 720x432 with 1 Axes>"
      ]
     },
     "metadata": {
      "needs_background": "light"
     },
     "output_type": "display_data"
    }
   ],
   "source": [
    "hist(df_pixels.e2,\n",
    "     color='k',\n",
    "     title = f'Google occupied real estate top of the page(N={len(df_pixels):,})',\n",
    "     left_right_annotations=('Pages without Google',\n",
    "                             'Pages with only Google'),\n",
    "     fn_out='../data/output/figures/eq2_above.png')"
   ]
  },
  {
   "cell_type": "code",
   "execution_count": 62,
   "metadata": {},
   "outputs": [
    {
     "data": {
      "text/plain": [
       "40.02881655642151"
      ]
     },
     "execution_count": 62,
     "metadata": {},
     "output_type": "execute_result"
    }
   ],
   "source": [
    "# What percentage of pages have 90% or more of the page occupied by Google?\n",
    "len(df_pixels[df_pixels.e2 >= .9]) / len(df_pixels) * 100"
   ]
  },
  {
   "cell_type": "code",
   "execution_count": 63,
   "metadata": {},
   "outputs": [
    {
     "data": {
      "text/plain": [
       "72.72250966009561"
      ]
     },
     "execution_count": 63,
     "metadata": {},
     "output_type": "execute_result"
    }
   ],
   "source": [
    "len(df_pixels[df_pixels.e1 < .25]) / len(df_pixels) * 100"
   ]
  },
  {
   "cell_type": "markdown",
   "metadata": {},
   "source": [
    "## Figure 2\n",
    "Like the histogram above, lets bin the data to show the distribution of area coverage per category in our sample:"
   ]
  },
  {
   "cell_type": "code",
   "execution_count": 77,
   "metadata": {},
   "outputs": [
    {
     "data": {
      "text/plain": [
       "(-0.001, 0.25]    0.727225\n",
       "(0.25, 0.5]       0.135896\n",
       "(0.5, 0.75]       0.061366\n",
       "(0.75, 1.0]       0.075512\n",
       "Name: e1, dtype: float64"
      ]
     },
     "execution_count": 77,
     "metadata": {},
     "output_type": "execute_result"
    }
   ],
   "source": [
    "non_google_bins = (pd.cut(df_pixels.e1, bins=4).value_counts() / \n",
    "                   n_pages).sort_index()\n",
    "non_google_bins"
   ]
  },
  {
   "cell_type": "code",
   "execution_count": 78,
   "metadata": {},
   "outputs": [
    {
     "data": {
      "text/plain": [
       "(-0.001, 0.25]    0.230205\n",
       "(0.25, 0.5]       0.112254\n",
       "(0.5, 0.75]       0.105115\n",
       "(0.75, 1.0]       0.552426\n",
       "Name: e2, dtype: float64"
      ]
     },
     "execution_count": 78,
     "metadata": {},
     "output_type": "execute_result"
    }
   ],
   "source": [
    "google_bins = (pd.cut(df_pixels.e2, bins=4).value_counts() / \n",
    "               n_pages).sort_index()\n",
    "google_bins"
   ]
  },
  {
   "cell_type": "code",
   "execution_count": 79,
   "metadata": {},
   "outputs": [],
   "source": [
    "cmap = plt.cm.get_cmap('Oranges_ddr')"
   ]
  },
  {
   "cell_type": "code",
   "execution_count": 80,
   "metadata": {},
   "outputs": [],
   "source": [
    "cmap = plt.cm.get_cmap('Oranges_r')\n",
    "colors = iter(cmap(np.linspace(0,1,4)))\n",
    "\n",
    "cmap = plt.cm.get_cmap('Purples')\n",
    "colors_g = iter(cmap(np.linspace(.2,1,4)))"
   ]
  },
  {
   "cell_type": "code",
   "execution_count": 81,
   "metadata": {},
   "outputs": [],
   "source": [
    "# google_colors = iter([\n",
    "#     '#34a853',\n",
    "#     '#30b631',\n",
    "#     '#f4d60b',\n",
    "#     '#fbbc05'\n",
    "# ])"
   ]
  },
  {
   "cell_type": "code",
   "execution_count": 82,
   "metadata": {},
   "outputs": [],
   "source": [
    "cmap = plt.cm.get_cmap('gray_r')\n",
    "colors = iter(cmap(np.linspace(0.2,.7,4)))\n",
    "labels = [\n",
    "    'Very little coverage',\n",
    "    'Some coverage',\n",
    "    'More coverage',\n",
    "    'Almost entirely covered'\n",
    "]\n",
    "legend_elements = [Line2D([0], [0], marker='s', color='w', \n",
    "                          label=labels[i],\n",
    "                          markerfacecolor=c, markersize=10)\n",
    "                   for i, c in enumerate(colors)][::-1]"
   ]
  },
  {
   "cell_type": "code",
   "execution_count": 89,
   "metadata": {},
   "outputs": [
    {
     "data": {
      "text/plain": [
       "Text(0.5, 0, 'perecentage of samples in dataset')"
      ]
     },
     "execution_count": 89,
     "metadata": {},
     "output_type": "execute_result"
    },
    {
     "data": {
      "image/png": "[encoded data removed]",
      "text/plain": [
       "<Figure size 720x288 with 1 Axes>"
      ]
     },
     "metadata": {
      "needs_background": "light"
     },
     "output_type": "display_data"
    }
   ],
   "source": [
    "cmap = plt.cm.get_cmap('gray_r')\n",
    "colors = iter(cmap(np.linspace(0.2,.7,4)))\n",
    "\n",
    "colors_g = iter(cmap(np.linspace(0.2,.7,4)))\n",
    "\n",
    "# Create a figure with a single subplot\n",
    "f, ax = plt.subplots(1, figsize=(10,4))\n",
    "\n",
    "# Set bar width at 1\n",
    "bar_width = 1\n",
    "_google = google_bins.values\n",
    "_non_google = non_google_bins.values\n",
    "for i, data in enumerate(_google):\n",
    "    if i != 0:\n",
    "        ax.barh('Google', data, \n",
    "                left=sum(_google[:i]),\n",
    "                 linewidth=0,\n",
    "                 color=next(colors_g)\n",
    "               );\n",
    "    else:\n",
    "        ax.barh('Google', data,\n",
    "               color=next(colors_g)\n",
    "               );\n",
    "        \n",
    "for i, data in enumerate(_non_google):\n",
    "    if i != 0:\n",
    "        ax.barh('non-Google', data, color=next(colors), left=sum(_non_google[:i]));\n",
    "    else:\n",
    "        ax.barh('non-Google', data, color=next(colors))\n",
    "\n",
    "plt.title(\"Distribution of top of page coverage by category (N=15K)\",\n",
    "           x=0.48,\n",
    "         y=1.1,\n",
    "         size=15.5)\n",
    "        \n",
    "# Hide the right and top spines\n",
    "ax.spines['right'].set_visible(False)\n",
    "ax.spines['top'].set_visible(False)\n",
    "\n",
    "# Only show ticks on the left and bottom spines\n",
    "ax.yaxis.set_ticks_position('left')\n",
    "ax.xaxis.set_ticks_position('bottom')\n",
    "\n",
    "ax.legend(handles=legend_elements[::-1],\n",
    "          loc='lower left', \n",
    "          bbox_to_anchor= (-0.005, 1.015), ncol=5,\n",
    "          handletextpad=0.0,\n",
    "          labelspacing=0, \n",
    "          borderaxespad=.1, \n",
    "          borderpad=0.1,\n",
    "          frameon=False,\n",
    "          prop={'size': 9.2}\n",
    "         )\n",
    "\n",
    "plt.xlabel('perecentage of samples in dataset')"
   ]
  },
  {
   "cell_type": "markdown",
   "metadata": {},
   "source": [
    "# Distance"
   ]
  },
  {
   "cell_type": "code",
   "execution_count": 31,
   "metadata": {},
   "outputs": [],
   "source": [
    "df.loc[:, 'y_dist'] = df.location.apply(lambda x: x['y'])"
   ]
  },
  {
   "cell_type": "code",
   "execution_count": 32,
   "metadata": {},
   "outputs": [],
   "source": [
    "df.loc[df['category'] == 'link-youtube', \n",
    "       \"category_standard\"] = 'youtube'\n",
    "df.loc[df['category'] == 'link-youtube_search_result', \n",
    "       \"category_standard\"] = 'youtube-search-result'"
   ]
  },
  {
   "cell_type": "code",
   "execution_count": 33,
   "metadata": {},
   "outputs": [],
   "source": [
    "blue_link_categories = [\n",
    "    'organic-search_result',\n",
    "    'amp-search_result',\n",
    "    \"youtube-search-result\"\n",
    "]"
   ]
  },
  {
   "cell_type": "code",
   "execution_count": 34,
   "metadata": {},
   "outputs": [],
   "source": [
    "standard_categories = [\n",
    "    \"organic-search_result\",\n",
    "    \"organic\",\n",
    "    \"ads\",\n",
    "    \"amp-card\",\n",
    "    \"amp-visual_stories\",\n",
    "    \"google-images\",\n",
    "    \"youtube\",\n",
    "    \"google-maps\",\n",
    "    'google-answer',\n",
    "    \"google-search\",\n",
    "    \"amp-search_result\",\n",
    "    \"youtube-search-result\",\n",
    "]"
   ]
  },
  {
   "cell_type": "code",
   "execution_count": 91,
   "metadata": {},
   "outputs": [],
   "source": [
    "cat2name = {\n",
    "    \"ads\" : 'Ad',\n",
    "    \"organic\" : 'non-\\nGoogle\\nLink',\n",
    "    \"amp-card\" : 'AMP\\nArticle',\n",
    "    \"amp-visual_stories\" : \"AMP\\nVisual\\nStory\",\n",
    "    \"google-images\" : 'Google\\nImages',\n",
    "    \"youtube\": 'YouTube',\n",
    "    \"google-maps\" : 'Google\\nMaps',\n",
    "    'google-answer' : 'Direct\\nAnswer',\n",
    "    'google-search' : 'Google\\nSearch',\n",
    "    \"organic-search_result\" : 'non-\\nGoogle\\nBlue\\nLink'\n",
    "}"
   ]
  },
  {
   "cell_type": "code",
   "execution_count": 36,
   "metadata": {},
   "outputs": [
    {
     "data": {
      "text/plain": [
       "google-search                   287535\n",
       "google-answer                   125675\n",
       "organic                         117161\n",
       "google-misc                     111103\n",
       "organic-search_result           106618\n",
       "google-images                   104599\n",
       "google-expandable-answer        102015\n",
       "youtube                          78547\n",
       "google-knowledge-panel-links     58957\n",
       "amp-card                         50978\n",
       "amp-search_result                40100\n",
       "ads                               4566\n",
       "google-maps                       1964\n",
       "youtube-search-result             1629\n",
       "google-video                      1090\n",
       "amp-visual_stories                 887\n",
       "Name: category_standard, dtype: int64"
      ]
     },
     "execution_count": 36,
     "metadata": {},
     "output_type": "execute_result"
    }
   ],
   "source": [
    "df.category_standard.value_counts()"
   ]
  },
  {
   "cell_type": "markdown",
   "metadata": {},
   "source": [
    "Here we get distance down the page we'd have to for before seeing specific search features (`standard_categories`).\n",
    "\n",
    "Note, we normalize the length down a page between 0 (below the search bar and headers) and 1 (below the \"More results\" button)."
   ]
  },
  {
   "cell_type": "code",
   "execution_count": 37,
   "metadata": {},
   "outputs": [],
   "source": [
    "header = 160\n",
    "normalize = True"
   ]
  },
  {
   "cell_type": "code",
   "execution_count": 38,
   "metadata": {},
   "outputs": [
    {
     "name": "stderr",
     "output_type": "stream",
     "text": [
      "100%|██████████| 15269/15269 [02:14<00:00, 113.78it/s]\n"
     ]
    }
   ],
   "source": [
    "dist = {k : [] for k in standard_categories}\n",
    "for site, _df in tqdm(df[df.area_page != 0].groupby('fn_input')):\n",
    "    end_of_page = _df['position_last_element'].iloc[0] - header\n",
    "    for cat in standard_categories:\n",
    "        # a tweak for blue links.\n",
    "        _df.category_standard = _df.category_standard.replace({'amp-search_result' :'organic-search_result',\n",
    "                                                               'youtube-search-result' : 'organic-search_result'})\n",
    "        __df = _df[_df.category_standard == cat]\n",
    "        if not __df.empty:\n",
    "            # normalized page\n",
    "            if normalize:\n",
    "                y_min = (__df.y_dist.min() - header) / end_of_page\n",
    "            else:\n",
    "                y_min =__df.y_dist.min()\n",
    "            dist[cat].append(y_min)"
   ]
  },
  {
   "cell_type": "code",
   "execution_count": 40,
   "metadata": {},
   "outputs": [],
   "source": [
    "for k in ['amp-search_result', 'youtube-search-result']:\n",
    "    dist.pop(k)"
   ]
  },
  {
   "cell_type": "code",
   "execution_count": 41,
   "metadata": {},
   "outputs": [],
   "source": [
    "data = []\n",
    "for cat, v in dist.items():\n",
    "    dato = pd.DataFrame({'dist_y' : v}).dist_y\n",
    "    mean = dato.mean()\n",
    "    median = dato.median()\n",
    "    err = dato.sem()\n",
    "    std = dato.std()\n",
    "    data.append({\n",
    "        'category' : cat,\n",
    "        'dist' : mean,\n",
    "        'dist_median' : median,\n",
    "        'min' : dato.describe()['min'],\n",
    "        '25' : dato.describe()['25%'],\n",
    "        '50' : dato.describe()['50%'],\n",
    "        '75' : dato.describe()['75%'],\n",
    "        'max' : dato.describe()['max'],\n",
    "        'std' : std,\n",
    "        'sem_error' : err,\n",
    "        'n' : len(v)\n",
    "    })\n",
    "df_dist = pd.DataFrame(data)\n",
    "del data"
   ]
  },
  {
   "cell_type": "code",
   "execution_count": 101,
   "metadata": {},
   "outputs": [],
   "source": [
    "# df_dist = df_dist[df_dist['category'] != 'organic]'].sort_values(by='dist')"
   ]
  },
  {
   "cell_type": "code",
   "execution_count": null,
   "metadata": {},
   "outputs": [],
   "source": [
    "# data = []\n",
    "# for cat, v in dist.items():\n",
    "#     print(cat)\n",
    "#     dato = pd.DataFrame({'dist_y' : v}).dist_y.clip(0, 6000)\n",
    "#     dato.plot(kind='hist', bins=50, xlim=(0, 6000))\n",
    "#     plt.show();"
   ]
  },
  {
   "cell_type": "code",
   "execution_count": 42,
   "metadata": {},
   "outputs": [
    {
     "name": "stdout",
     "output_type": "stream",
     "text": [
      "organic-search_result\n"
     ]
    },
    {
     "data": {
      "image/png": "[encoded data removed]",
      "text/plain": [
       "<Figure size 432x288 with 1 Axes>"
      ]
     },
     "metadata": {
      "needs_background": "light"
     },
     "output_type": "display_data"
    },
    {
     "name": "stdout",
     "output_type": "stream",
     "text": [
      "organic\n"
     ]
    },
    {
     "data": {
      "image/png": "[encoded data removed]",
      "text/plain": [
       "<Figure size 432x288 with 1 Axes>"
      ]
     },
     "metadata": {
      "needs_background": "light"
     },
     "output_type": "display_data"
    },
    {
     "name": "stdout",
     "output_type": "stream",
     "text": [
      "ads\n"
     ]
    },
    {
     "data": {
      "image/png": "[encoded data removed]",
      "text/plain": [
       "<Figure size 432x288 with 1 Axes>"
      ]
     },
     "metadata": {
      "needs_background": "light"
     },
     "output_type": "display_data"
    },
    {
     "name": "stdout",
     "output_type": "stream",
     "text": [
      "amp-card\n"
     ]
    },
    {
     "data": {
      "image/png": "[encoded data removed]",
      "text/plain": [
       "<Figure size 432x288 with 1 Axes>"
      ]
     },
     "metadata": {
      "needs_background": "light"
     },
     "output_type": "display_data"
    },
    {
     "name": "stdout",
     "output_type": "stream",
     "text": [
      "amp-visual_stories\n"
     ]
    },
    {
     "data": {
      "image/png": "[encoded data removed]",
      "text/plain": [
       "<Figure size 432x288 with 1 Axes>"
      ]
     },
     "metadata": {
      "needs_background": "light"
     },
     "output_type": "display_data"
    },
    {
     "name": "stdout",
     "output_type": "stream",
     "text": [
      "google-images\n"
     ]
    },
    {
     "data": {
      "image/png": "[encoded data removed]",
      "text/plain": [
       "<Figure size 432x288 with 1 Axes>"
      ]
     },
     "metadata": {
      "needs_background": "light"
     },
     "output_type": "display_data"
    },
    {
     "name": "stdout",
     "output_type": "stream",
     "text": [
      "youtube\n"
     ]
    },
    {
     "data": {
      "image/png": "[encoded data removed]",
      "text/plain": [
       "<Figure size 432x288 with 1 Axes>"
      ]
     },
     "metadata": {
      "needs_background": "light"
     },
     "output_type": "display_data"
    },
    {
     "name": "stdout",
     "output_type": "stream",
     "text": [
      "google-maps\n"
     ]
    },
    {
     "data": {
      "image/png": "[encoded data removed]",
      "text/plain": [
       "<Figure size 432x288 with 1 Axes>"
      ]
     },
     "metadata": {
      "needs_background": "light"
     },
     "output_type": "display_data"
    },
    {
     "name": "stdout",
     "output_type": "stream",
     "text": [
      "google-answer\n"
     ]
    },
    {
     "data": {
      "image/png": "[encoded data removed]",
      "text/plain": [
       "<Figure size 432x288 with 1 Axes>"
      ]
     },
     "metadata": {
      "needs_background": "light"
     },
     "output_type": "display_data"
    },
    {
     "name": "stdout",
     "output_type": "stream",
     "text": [
      "google-search\n"
     ]
    },
    {
     "data": {
      "image/png": "[encoded data removed]",
      "text/plain": [
       "<Figure size 432x288 with 1 Axes>"
      ]
     },
     "metadata": {
      "needs_background": "light"
     },
     "output_type": "display_data"
    }
   ],
   "source": [
    "data = []\n",
    "for cat, v in dist.items():\n",
    "    print(cat)\n",
    "    dato = pd.DataFrame({'dist_y' : v})\n",
    "    dato.plot(kind='hist', bins=50)\n",
    "    plt.show();"
   ]
  },
  {
   "cell_type": "code",
   "execution_count": 110,
   "metadata": {},
   "outputs": [
    {
     "data": {
      "text/html": [
       "<div>\n",
       "<style scoped>\n",
       "    .dataframe tbody tr th:only-of-type {\n",
       "        vertical-align: middle;\n",
       "    }\n",
       "\n",
       "    .dataframe tbody tr th {\n",
       "        vertical-align: top;\n",
       "    }\n",
       "\n",
       "    .dataframe thead th {\n",
       "        text-align: right;\n",
       "    }\n",
       "</style>\n",
       "<table border=\"1\" class=\"dataframe\">\n",
       "  <thead>\n",
       "    <tr style=\"text-align: right;\">\n",
       "      <th></th>\n",
       "      <th>category</th>\n",
       "      <th>dist</th>\n",
       "      <th>dist_median</th>\n",
       "      <th>min</th>\n",
       "      <th>25</th>\n",
       "      <th>50</th>\n",
       "      <th>75</th>\n",
       "      <th>max</th>\n",
       "      <th>std</th>\n",
       "      <th>sem_error</th>\n",
       "      <th>n</th>\n",
       "    </tr>\n",
       "  </thead>\n",
       "  <tbody>\n",
       "    <tr>\n",
       "      <th>2</th>\n",
       "      <td>ads</td>\n",
       "      <td>0.081143</td>\n",
       "      <td>0.001384</td>\n",
       "      <td>0.000693</td>\n",
       "      <td>0.001169</td>\n",
       "      <td>0.001384</td>\n",
       "      <td>0.005514</td>\n",
       "      <td>0.962945</td>\n",
       "      <td>0.215501</td>\n",
       "      <td>0.005655</td>\n",
       "      <td>1452</td>\n",
       "    </tr>\n",
       "    <tr>\n",
       "      <th>5</th>\n",
       "      <td>google-images</td>\n",
       "      <td>0.102568</td>\n",
       "      <td>0.034991</td>\n",
       "      <td>-0.002545</td>\n",
       "      <td>0.023465</td>\n",
       "      <td>0.034991</td>\n",
       "      <td>0.151825</td>\n",
       "      <td>0.943902</td>\n",
       "      <td>0.130733</td>\n",
       "      <td>0.001142</td>\n",
       "      <td>13101</td>\n",
       "    </tr>\n",
       "    <tr>\n",
       "      <th>8</th>\n",
       "      <td>google-answer</td>\n",
       "      <td>0.141200</td>\n",
       "      <td>0.086349</td>\n",
       "      <td>0.000911</td>\n",
       "      <td>0.061603</td>\n",
       "      <td>0.086349</td>\n",
       "      <td>0.193051</td>\n",
       "      <td>0.949056</td>\n",
       "      <td>0.136543</td>\n",
       "      <td>0.001142</td>\n",
       "      <td>14304</td>\n",
       "    </tr>\n",
       "    <tr>\n",
       "      <th>1</th>\n",
       "      <td>organic</td>\n",
       "      <td>0.135655</td>\n",
       "      <td>0.093083</td>\n",
       "      <td>0.001073</td>\n",
       "      <td>0.068069</td>\n",
       "      <td>0.093083</td>\n",
       "      <td>0.162355</td>\n",
       "      <td>0.924658</td>\n",
       "      <td>0.119669</td>\n",
       "      <td>0.000993</td>\n",
       "      <td>14528</td>\n",
       "    </tr>\n",
       "    <tr>\n",
       "      <th>7</th>\n",
       "      <td>google-maps</td>\n",
       "      <td>0.161039</td>\n",
       "      <td>0.107090</td>\n",
       "      <td>0.001011</td>\n",
       "      <td>0.016622</td>\n",
       "      <td>0.107090</td>\n",
       "      <td>0.259444</td>\n",
       "      <td>0.895338</td>\n",
       "      <td>0.176688</td>\n",
       "      <td>0.004615</td>\n",
       "      <td>1466</td>\n",
       "    </tr>\n",
       "    <tr>\n",
       "      <th>4</th>\n",
       "      <td>amp-visual_stories</td>\n",
       "      <td>0.171092</td>\n",
       "      <td>0.162385</td>\n",
       "      <td>0.050147</td>\n",
       "      <td>0.089756</td>\n",
       "      <td>0.162385</td>\n",
       "      <td>0.235778</td>\n",
       "      <td>0.892744</td>\n",
       "      <td>0.087356</td>\n",
       "      <td>0.003010</td>\n",
       "      <td>842</td>\n",
       "    </tr>\n",
       "    <tr>\n",
       "      <th>0</th>\n",
       "      <td>organic-search_result</td>\n",
       "      <td>0.231051</td>\n",
       "      <td>0.240543</td>\n",
       "      <td>0.000887</td>\n",
       "      <td>0.150587</td>\n",
       "      <td>0.240543</td>\n",
       "      <td>0.319429</td>\n",
       "      <td>0.707657</td>\n",
       "      <td>0.125358</td>\n",
       "      <td>0.001015</td>\n",
       "      <td>15267</td>\n",
       "    </tr>\n",
       "    <tr>\n",
       "      <th>9</th>\n",
       "      <td>google-search</td>\n",
       "      <td>0.316450</td>\n",
       "      <td>0.244252</td>\n",
       "      <td>-0.000259</td>\n",
       "      <td>0.146600</td>\n",
       "      <td>0.244252</td>\n",
       "      <td>0.406382</td>\n",
       "      <td>0.993326</td>\n",
       "      <td>0.254691</td>\n",
       "      <td>0.002061</td>\n",
       "      <td>15267</td>\n",
       "    </tr>\n",
       "    <tr>\n",
       "      <th>3</th>\n",
       "      <td>amp-card</td>\n",
       "      <td>0.274712</td>\n",
       "      <td>0.271743</td>\n",
       "      <td>0.001780</td>\n",
       "      <td>0.054366</td>\n",
       "      <td>0.271743</td>\n",
       "      <td>0.439113</td>\n",
       "      <td>0.908007</td>\n",
       "      <td>0.195428</td>\n",
       "      <td>0.002110</td>\n",
       "      <td>8580</td>\n",
       "    </tr>\n",
       "    <tr>\n",
       "      <th>6</th>\n",
       "      <td>youtube</td>\n",
       "      <td>0.355021</td>\n",
       "      <td>0.401147</td>\n",
       "      <td>0.015356</td>\n",
       "      <td>0.177965</td>\n",
       "      <td>0.401147</td>\n",
       "      <td>0.502900</td>\n",
       "      <td>0.893744</td>\n",
       "      <td>0.186086</td>\n",
       "      <td>0.001955</td>\n",
       "      <td>9064</td>\n",
       "    </tr>\n",
       "    <tr>\n",
       "      <th>10</th>\n",
       "      <td>amp-search_result</td>\n",
       "      <td>NaN</td>\n",
       "      <td>NaN</td>\n",
       "      <td>NaN</td>\n",
       "      <td>NaN</td>\n",
       "      <td>NaN</td>\n",
       "      <td>NaN</td>\n",
       "      <td>NaN</td>\n",
       "      <td>NaN</td>\n",
       "      <td>NaN</td>\n",
       "      <td>0</td>\n",
       "    </tr>\n",
       "    <tr>\n",
       "      <th>11</th>\n",
       "      <td>youtube-search-result</td>\n",
       "      <td>NaN</td>\n",
       "      <td>NaN</td>\n",
       "      <td>NaN</td>\n",
       "      <td>NaN</td>\n",
       "      <td>NaN</td>\n",
       "      <td>NaN</td>\n",
       "      <td>NaN</td>\n",
       "      <td>NaN</td>\n",
       "      <td>NaN</td>\n",
       "      <td>0</td>\n",
       "    </tr>\n",
       "  </tbody>\n",
       "</table>\n",
       "</div>"
      ],
      "text/plain": [
       "                 category      dist  dist_median       min        25  \\\n",
       "2                     ads  0.081143     0.001384  0.000693  0.001169   \n",
       "5           google-images  0.102568     0.034991 -0.002545  0.023465   \n",
       "8           google-answer  0.141200     0.086349  0.000911  0.061603   \n",
       "1                 organic  0.135655     0.093083  0.001073  0.068069   \n",
       "7             google-maps  0.161039     0.107090  0.001011  0.016622   \n",
       "4      amp-visual_stories  0.171092     0.162385  0.050147  0.089756   \n",
       "0   organic-search_result  0.231051     0.240543  0.000887  0.150587   \n",
       "9           google-search  0.316450     0.244252 -0.000259  0.146600   \n",
       "3                amp-card  0.274712     0.271743  0.001780  0.054366   \n",
       "6                 youtube  0.355021     0.401147  0.015356  0.177965   \n",
       "10      amp-search_result       NaN          NaN       NaN       NaN   \n",
       "11  youtube-search-result       NaN          NaN       NaN       NaN   \n",
       "\n",
       "          50        75       max       std  sem_error      n  \n",
       "2   0.001384  0.005514  0.962945  0.215501   0.005655   1452  \n",
       "5   0.034991  0.151825  0.943902  0.130733   0.001142  13101  \n",
       "8   0.086349  0.193051  0.949056  0.136543   0.001142  14304  \n",
       "1   0.093083  0.162355  0.924658  0.119669   0.000993  14528  \n",
       "7   0.107090  0.259444  0.895338  0.176688   0.004615   1466  \n",
       "4   0.162385  0.235778  0.892744  0.087356   0.003010    842  \n",
       "0   0.240543  0.319429  0.707657  0.125358   0.001015  15267  \n",
       "9   0.244252  0.406382  0.993326  0.254691   0.002061  15267  \n",
       "3   0.271743  0.439113  0.908007  0.195428   0.002110   8580  \n",
       "6   0.401147  0.502900  0.893744  0.186086   0.001955   9064  \n",
       "10       NaN       NaN       NaN       NaN        NaN      0  \n",
       "11       NaN       NaN       NaN       NaN        NaN      0  "
      ]
     },
     "execution_count": 110,
     "metadata": {},
     "output_type": "execute_result"
    }
   ],
   "source": [
    "df_dist.sort_values(by=col)"
   ]
  },
  {
   "cell_type": "code",
   "execution_count": 80,
   "metadata": {},
   "outputs": [
    {
     "ename": "TypeError",
     "evalue": "'Text' object is not subscriptable",
     "output_type": "error",
     "traceback": [
      "\u001b[0;31m---------------------------------------------------------------------------\u001b[0m",
      "\u001b[0;31mTypeError\u001b[0m                                 Traceback (most recent call last)",
      "\u001b[0;32m<ipython-input-80-b6868552d522>\u001b[0m in \u001b[0;36m<module>\u001b[0;34m\u001b[0m\n\u001b[0;32m----> 1\u001b[0;31m \u001b[0;34m[\u001b[0m\u001b[0mx\u001b[0m\u001b[0;34m[\u001b[0m\u001b[0;36m0\u001b[0m\u001b[0;34m]\u001b[0m\u001b[0;34m*\u001b[0m\u001b[0;36m100\u001b[0m \u001b[0;32mfor\u001b[0m \u001b[0mx\u001b[0m \u001b[0;32min\u001b[0m \u001b[0max\u001b[0m\u001b[0;34m.\u001b[0m\u001b[0mget_yticklabels\u001b[0m\u001b[0;34m(\u001b[0m\u001b[0;34m)\u001b[0m\u001b[0;34m]\u001b[0m\u001b[0;34m\u001b[0m\u001b[0;34m\u001b[0m\u001b[0m\n\u001b[0m",
      "\u001b[0;32m<ipython-input-80-b6868552d522>\u001b[0m in \u001b[0;36m<listcomp>\u001b[0;34m(.0)\u001b[0m\n\u001b[0;32m----> 1\u001b[0;31m \u001b[0;34m[\u001b[0m\u001b[0mx\u001b[0m\u001b[0;34m[\u001b[0m\u001b[0;36m0\u001b[0m\u001b[0;34m]\u001b[0m\u001b[0;34m*\u001b[0m\u001b[0;36m100\u001b[0m \u001b[0;32mfor\u001b[0m \u001b[0mx\u001b[0m \u001b[0;32min\u001b[0m \u001b[0max\u001b[0m\u001b[0;34m.\u001b[0m\u001b[0mget_yticklabels\u001b[0m\u001b[0;34m(\u001b[0m\u001b[0;34m)\u001b[0m\u001b[0;34m]\u001b[0m\u001b[0;34m\u001b[0m\u001b[0;34m\u001b[0m\u001b[0m\n\u001b[0m",
      "\u001b[0;31mTypeError\u001b[0m: 'Text' object is not subscriptable"
     ]
    }
   ],
   "source": [
    "[x[0]*100 for x in ax.get_yticklabels()]"
   ]
  },
  {
   "cell_type": "code",
   "execution_count": 92,
   "metadata": {},
   "outputs": [
    {
     "data": {
      "image/png": "[encoded data removed]",
      "text/plain": [
       "<Figure size 532.8x792 with 1 Axes>"
      ]
     },
     "metadata": {
      "needs_background": "light"
     },
     "output_type": "display_data"
    }
   ],
   "source": [
    "legend_elements = [Line2D([0], [0], marker='o', color='w', \n",
    "                          label=label2publabel.get(label),\n",
    "                          markerfacecolor=c, markersize=10)\n",
    "                   for label, c in cat2color.items()][::-1]\n",
    "\n",
    "fig, ax = plt.subplots(figsize=(7.4, 11))\n",
    "col = '50'\n",
    "data = df_dist.sort_values(by=col)\n",
    "labels = [cat.replace('google-answer', 'answer')\n",
    "                            .replace('google-expandable-answer', 'answer')\n",
    "                            .split('-')[0]\n",
    "                            .replace('google', 'link')\n",
    "                            .replace('youtube', 'link') for cat in data.category]\n",
    "\n",
    "colors = [cat2color.get(label) for label in labels]\n",
    "\n",
    "\n",
    "plt.scatter(data.category, data[col], \n",
    "            c=colors, zorder=100)\n",
    "\n",
    "plt.errorbar(data.category, col, \n",
    "             data=data,\n",
    "             yerr=[data[col] - data['25'], \n",
    "                   data['75']- data[col]], \n",
    "             ecolor='k', color='white',\n",
    "             capsize = 3,  fmt='o',\n",
    "             alpha=.7)\n",
    "\n",
    "plt.gca().invert_yaxis()\n",
    "plt.axhline(y=.15, color='black', linestyle='-.', alpha=.4)\n",
    "# plt.annotate('Top of Page', (8, .143))\n",
    "plt.annotate('Top of Page', (-.2, .163))\n",
    "\n",
    "\n",
    "plt.xticks(rotation=90)\n",
    "for i, (_, row) in enumerate(data.iterrows()):\n",
    "    txt = row['category']\n",
    "    x = i + .11\n",
    "    y = row[col]\n",
    "    plt.annotate(cat2name.get(txt, txt), \n",
    "                 (x, y), \n",
    "                 ha='left',\n",
    "                 zorder=200)\n",
    "\n",
    "\n",
    "ax.set_ylabel(\"Percentage down the page\")\n",
    "\n",
    "ax.legend(handles=legend_elements[::-1],\n",
    "          loc='lower left', \n",
    "          bbox_to_anchor= (-0.025, 1.015), ncol=5,\n",
    "          handletextpad=0.0,\n",
    "          labelspacing=0, \n",
    "          borderaxespad=.1, \n",
    "          borderpad=0.1,\n",
    "          frameon=False,\n",
    "          prop={'size': 9.2}\n",
    "         )\n",
    "\n",
    "plt.title('Median distance down page before first contact',\n",
    "         x=0.48,\n",
    "         y=1.05,\n",
    "         size=15.)\n",
    "\n",
    "# ax.yaxis.set_major_formatter(mtick.PercentFormatter())\n",
    "vals = ax.get_yticks()\n",
    "ax.set_yticklabels(['{:,.0%}'.format(x) for x in vals])\n",
    "\n",
    "ax.set_axisbelow(True)\n",
    "# plt.gca().yaxis.grid(True)\n",
    "\n",
    "# Hide the right and top spines\n",
    "ax.spines['right'].set_visible(False)\n",
    "ax.spines['top'].set_visible(False)\n",
    "\n",
    "# Only show ticks on the left and bottom spines\n",
    "ax.yaxis.set_ticks_position('left')\n",
    "ax.xaxis.set_ticks_position('bottom')\n",
    "\n",
    "ax.xaxis.set_visible(False)\n",
    "# ax.legend(handles=legend_elements, loc='lower left')\n",
    "plt.savefig('../data/output/figures/distance_normalized.png')\n",
    "del data;"
   ]
  },
  {
   "cell_type": "code",
   "execution_count": 82,
   "metadata": {},
   "outputs": [],
   "source": [
    "import matplotlib.ticker as mtick"
   ]
  },
  {
   "cell_type": "markdown",
   "metadata": {},
   "source": [
    "# END"
   ]
  },
  {
   "cell_type": "markdown",
   "metadata": {},
   "source": [
    "## How many Blue Links are in a page?"
   ]
  },
  {
   "cell_type": "code",
   "execution_count": 113,
   "metadata": {},
   "outputs": [
    {
     "data": {
      "text/plain": [
       "amp-card              50978\n",
       "amp-search_result     40100\n",
       "amp-visual_stories      887\n",
       "Name: category_standard, dtype: int64"
      ]
     },
     "execution_count": 113,
     "metadata": {},
     "output_type": "execute_result"
    }
   ],
   "source": [
    "df[df.label == 'amp'].category_standard.value_counts()"
   ]
  },
  {
   "cell_type": "code",
   "execution_count": 114,
   "metadata": {},
   "outputs": [
    {
     "data": {
      "text/plain": [
       "0.09086653400820388"
      ]
     },
     "execution_count": 114,
     "metadata": {},
     "output_type": "execute_result"
    }
   ],
   "source": [
    "df[(df.category_standard == 'amp-visual_stories') &\n",
    "   (df.domain == 'google.com')].area_page.sum() / df.area_page.sum() * 100"
   ]
  },
  {
   "cell_type": "code",
   "execution_count": 115,
   "metadata": {},
   "outputs": [
    {
     "data": {
      "text/plain": [
       "829"
      ]
     },
     "execution_count": 115,
     "metadata": {},
     "output_type": "execute_result"
    }
   ],
   "source": [
    "df[(df.category_standard == 'amp-visual_stories') &\n",
    "   (df.domain == 'google.com')].fn_input.nunique()"
   ]
  },
  {
   "cell_type": "code",
   "execution_count": 116,
   "metadata": {},
   "outputs": [
    {
     "data": {
      "text/plain": [
       "0.13311003336650493"
      ]
     },
     "execution_count": 116,
     "metadata": {},
     "output_type": "execute_result"
    }
   ],
   "source": [
    "df[df.label == 'amp'].area_page.sum() / df.area_page.sum()"
   ]
  },
  {
   "cell_type": "code",
   "execution_count": 117,
   "metadata": {},
   "outputs": [
    {
     "ename": "NameError",
     "evalue": "name 'area_col' is not defined",
     "output_type": "error",
     "traceback": [
      "\u001b[0;31m---------------------------------------------------------------------------\u001b[0m",
      "\u001b[0;31mNameError\u001b[0m                                 Traceback (most recent call last)",
      "\u001b[0;32m<ipython-input-117-bc5ed6dc0e45>\u001b[0m in \u001b[0;36m<module>\u001b[0;34m\u001b[0m\n\u001b[0;32m----> 1\u001b[0;31m \u001b[0;34m(\u001b[0m\u001b[0mdf\u001b[0m\u001b[0;34m[\u001b[0m\u001b[0mdf\u001b[0m\u001b[0;34m.\u001b[0m\u001b[0mlabel\u001b[0m \u001b[0;34m==\u001b[0m \u001b[0;34m'amp'\u001b[0m\u001b[0;34m]\u001b[0m\u001b[0;34m[\u001b[0m\u001b[0marea_col\u001b[0m\u001b[0;34m]\u001b[0m\u001b[0;34m.\u001b[0m\u001b[0msum\u001b[0m\u001b[0;34m(\u001b[0m\u001b[0;34m)\u001b[0m \u001b[0;34m/\u001b[0m \u001b[0mdf\u001b[0m\u001b[0;34m[\u001b[0m\u001b[0marea_col\u001b[0m\u001b[0;34m]\u001b[0m\u001b[0;34m.\u001b[0m\u001b[0msum\u001b[0m\u001b[0;34m(\u001b[0m\u001b[0;34m)\u001b[0m\u001b[0;34m)\u001b[0m \u001b[0;34m*\u001b[0m \u001b[0;36m100\u001b[0m\u001b[0;34m\u001b[0m\u001b[0;34m\u001b[0m\u001b[0m\n\u001b[0m",
      "\u001b[0;31mNameError\u001b[0m: name 'area_col' is not defined"
     ]
    }
   ],
   "source": [
    "(df[df.label == 'amp'][area_col].sum() / df[area_col].sum()) * 100"
   ]
  },
  {
   "cell_type": "code",
   "execution_count": 118,
   "metadata": {},
   "outputs": [
    {
     "data": {
      "text/plain": [
       "0.44753269674269064"
      ]
     },
     "execution_count": 118,
     "metadata": {},
     "output_type": "execute_result"
    }
   ],
   "source": [
    "df[df.label == 'organic'].area_page.sum() / df.area_page.sum()"
   ]
  },
  {
   "cell_type": "code",
   "execution_count": 119,
   "metadata": {},
   "outputs": [
    {
     "ename": "NameError",
     "evalue": "name 'area_col' is not defined",
     "output_type": "error",
     "traceback": [
      "\u001b[0;31m---------------------------------------------------------------------------\u001b[0m",
      "\u001b[0;31mNameError\u001b[0m                                 Traceback (most recent call last)",
      "\u001b[0;32m<ipython-input-119-da49f49e9e7e>\u001b[0m in \u001b[0;36m<module>\u001b[0;34m\u001b[0m\n\u001b[1;32m      2\u001b[0m     \u001b[0m_df\u001b[0m \u001b[0;34m=\u001b[0m \u001b[0mdf\u001b[0m\u001b[0;34m[\u001b[0m\u001b[0mdf\u001b[0m\u001b[0;34m.\u001b[0m\u001b[0mcategory_standard\u001b[0m\u001b[0;34m==\u001b[0m\u001b[0mcat\u001b[0m\u001b[0;34m]\u001b[0m\u001b[0;34m\u001b[0m\u001b[0;34m\u001b[0m\u001b[0m\n\u001b[1;32m      3\u001b[0m     \u001b[0mtotal_area\u001b[0m \u001b[0;34m=\u001b[0m \u001b[0m_df\u001b[0m\u001b[0;34m.\u001b[0m\u001b[0marea_page\u001b[0m\u001b[0;34m.\u001b[0m\u001b[0msum\u001b[0m\u001b[0;34m(\u001b[0m\u001b[0;34m)\u001b[0m \u001b[0;34m/\u001b[0m \u001b[0mdf\u001b[0m\u001b[0;34m.\u001b[0m\u001b[0marea_page\u001b[0m\u001b[0;34m.\u001b[0m\u001b[0msum\u001b[0m\u001b[0;34m(\u001b[0m\u001b[0;34m)\u001b[0m \u001b[0;34m*\u001b[0m \u001b[0;36m100\u001b[0m\u001b[0;34m\u001b[0m\u001b[0;34m\u001b[0m\u001b[0m\n\u001b[0;32m----> 4\u001b[0;31m     \u001b[0mtop_area\u001b[0m \u001b[0;34m=\u001b[0m \u001b[0m_df\u001b[0m\u001b[0;34m[\u001b[0m\u001b[0marea_col\u001b[0m\u001b[0;34m]\u001b[0m\u001b[0;34m.\u001b[0m\u001b[0msum\u001b[0m\u001b[0;34m(\u001b[0m\u001b[0;34m)\u001b[0m \u001b[0;34m/\u001b[0m \u001b[0mdf\u001b[0m\u001b[0;34m[\u001b[0m\u001b[0marea_col\u001b[0m\u001b[0;34m]\u001b[0m\u001b[0;34m.\u001b[0m\u001b[0msum\u001b[0m\u001b[0;34m(\u001b[0m\u001b[0;34m)\u001b[0m \u001b[0;34m*\u001b[0m \u001b[0;36m100\u001b[0m\u001b[0;34m\u001b[0m\u001b[0;34m\u001b[0m\u001b[0m\n\u001b[0m\u001b[1;32m      5\u001b[0m     \u001b[0mprint\u001b[0m\u001b[0;34m(\u001b[0m\u001b[0;34mf\"{cat} is {total_area:.3f}% of all area and {top_area:.3f}% top of the page\"\u001b[0m\u001b[0;34m)\u001b[0m\u001b[0;34m\u001b[0m\u001b[0;34m\u001b[0m\u001b[0m\n\u001b[1;32m      6\u001b[0m     \u001b[0mprint\u001b[0m\u001b[0;34m(\u001b[0m\u001b[0;34m)\u001b[0m\u001b[0;34m\u001b[0m\u001b[0;34m\u001b[0m\u001b[0m\n",
      "\u001b[0;31mNameError\u001b[0m: name 'area_col' is not defined"
     ]
    }
   ],
   "source": [
    "for cat in blue_link_categories + ['organic']:\n",
    "    _df = df[df.category_standard==cat]\n",
    "    total_area = _df.area_page.sum() / df.area_page.sum() * 100\n",
    "    top_area = _df[area_col].sum() / df[area_col].sum() * 100\n",
    "    print(f\"{cat} is {total_area:.3f}% of all area and {top_area:.3f}% top of the page\")\n",
    "    print()"
   ]
  },
  {
   "cell_type": "code",
   "execution_count": 94,
   "metadata": {},
   "outputs": [
    {
     "data": {
      "text/plain": [
       "5.2368421052631575"
      ]
     },
     "execution_count": 94,
     "metadata": {},
     "output_type": "execute_result"
    }
   ],
   "source": [
    "9 / 38 + 5"
   ]
  },
  {
   "cell_type": "code",
   "execution_count": 204,
   "metadata": {},
   "outputs": [],
   "source": [
    "bluelinks = df[(df.category_standard.isin(blue_link_categories))&\n",
    "              (df.area_page != 0)]"
   ]
  },
  {
   "cell_type": "code",
   "execution_count": 205,
   "metadata": {},
   "outputs": [
    {
     "data": {
      "text/plain": [
       "0.22601073345259393"
      ]
     },
     "execution_count": 205,
     "metadata": {},
     "output_type": "execute_result"
    }
   ],
   "source": [
    "31585 / len(bluelinks)"
   ]
  },
  {
   "cell_type": "code",
   "execution_count": 211,
   "metadata": {},
   "outputs": [
    {
     "data": {
      "text/plain": [
       "0.011069767441860464"
      ]
     },
     "execution_count": 211,
     "metadata": {},
     "output_type": "execute_result"
    }
   ],
   "source": [
    "1547  / len(bluelinks)"
   ]
  },
  {
   "cell_type": "code",
   "execution_count": 206,
   "metadata": {},
   "outputs": [
    {
     "data": {
      "text/plain": [
       "organic-search_result    106618\n",
       "amp-search_result         31585\n",
       "youtube-search-result      1547\n",
       "Name: category_standard, dtype: int64"
      ]
     },
     "execution_count": 206,
     "metadata": {},
     "output_type": "execute_result"
    }
   ],
   "source": [
    "bluelinks.category_standard.value_counts()"
   ]
  },
  {
   "cell_type": "code",
   "execution_count": 234,
   "metadata": {},
   "outputs": [
    {
     "ename": "NameError",
     "evalue": "name 'area_col' is not defined",
     "output_type": "error",
     "traceback": [
      "\u001b[0;31m---------------------------------------------------------------------------\u001b[0m",
      "\u001b[0;31mNameError\u001b[0m                                 Traceback (most recent call last)",
      "\u001b[0;32m<ipython-input-234-40cecd853fbf>\u001b[0m in \u001b[0;36m<module>\u001b[0;34m\u001b[0m\n\u001b[0;32m----> 1\u001b[0;31m \u001b[0mbluelinks\u001b[0m\u001b[0;34m[\u001b[0m\u001b[0marea_col\u001b[0m\u001b[0;34m]\u001b[0m\u001b[0;34m.\u001b[0m\u001b[0msum\u001b[0m\u001b[0;34m(\u001b[0m\u001b[0;34m)\u001b[0m \u001b[0;34m/\u001b[0m \u001b[0mdf\u001b[0m\u001b[0;34m[\u001b[0m\u001b[0marea_col\u001b[0m\u001b[0;34m]\u001b[0m\u001b[0;34m.\u001b[0m\u001b[0msum\u001b[0m\u001b[0;34m(\u001b[0m\u001b[0;34m)\u001b[0m\u001b[0;34m\u001b[0m\u001b[0;34m\u001b[0m\u001b[0m\n\u001b[0m",
      "\u001b[0;31mNameError\u001b[0m: name 'area_col' is not defined"
     ]
    }
   ],
   "source": [
    "bluelinks[area_col].sum() / df[area_col].sum()"
   ]
  },
  {
   "cell_type": "code",
   "execution_count": 235,
   "metadata": {},
   "outputs": [
    {
     "data": {
      "text/plain": [
       "0.4756958602586847"
      ]
     },
     "execution_count": 235,
     "metadata": {},
     "output_type": "execute_result"
    }
   ],
   "source": [
    "bluelinks.area_page.sum() / df.area_page.sum()"
   ]
  },
  {
   "cell_type": "code",
   "execution_count": 236,
   "metadata": {},
   "outputs": [
    {
     "data": {
      "text/plain": [
       "wikipedia.org         15516\n",
       "facebook.com           3131\n",
       "twitter.com            3124\n",
       "imdb.com               2786\n",
       "espn.com               2047\n",
       "amazon.com             1623\n",
       "youtube.com            1547\n",
       "instagram.com          1517\n",
       "britannica.com         1146\n",
       "yahoo.com              1132\n",
       "fandom.com             1076\n",
       "cbssports.com           967\n",
       "linkedin.com            966\n",
       "nytimes.com             949\n",
       "nih.gov                 920\n",
       "theguardian.com         887\n",
       "usatoday.com            841\n",
       "bleacherreport.com      827\n",
       "webmd.com               801\n",
       "rottentomatoes.com      795\n",
       "Name: domain, dtype: int64"
      ]
     },
     "execution_count": 236,
     "metadata": {},
     "output_type": "execute_result"
    }
   ],
   "source": [
    "bluelinks.domain.value_counts().head(20)"
   ]
  },
  {
   "cell_type": "code",
   "execution_count": 237,
   "metadata": {},
   "outputs": [
    {
     "data": {
      "text/plain": [
       "20936"
      ]
     },
     "execution_count": 237,
     "metadata": {},
     "output_type": "execute_result"
    }
   ],
   "source": [
    "bluelinks.domain.nunique()"
   ]
  },
  {
   "cell_type": "code",
   "execution_count": 238,
   "metadata": {},
   "outputs": [
    {
     "data": {
      "text/plain": [
       "25886"
      ]
     },
     "execution_count": 238,
     "metadata": {},
     "output_type": "execute_result"
    }
   ],
   "source": [
    "31585"
   ]
  },
  {
   "cell_type": "code",
   "execution_count": 266,
   "metadata": {},
   "outputs": [],
   "source": [
    "blue_link_categories = ['youtube-search-result']"
   ]
  },
  {
   "cell_type": "code",
   "execution_count": 267,
   "metadata": {},
   "outputs": [
    {
     "name": "stderr",
     "output_type": "stream",
     "text": [
      "100%|██████████| 15269/15269 [00:12<00:00, 1228.75it/s]\n"
     ]
    }
   ],
   "source": [
    "blue_links = []\n",
    "for search, _df in tqdm(df.groupby('fn_input'), position=0):\n",
    "    n_blue = len(_df[_df['category_standard'].isin(blue_link_categories)])\n",
    "\n",
    "    blue_links.append({\n",
    "        'fn_input' : search,\n",
    "        'n_blue_links' : n_blue\n",
    "        \n",
    "    })\n",
    "df_bl = pd.DataFrame(blue_links)"
   ]
  },
  {
   "cell_type": "code",
   "execution_count": 268,
   "metadata": {},
   "outputs": [
    {
     "data": {
      "text/plain": [
       "0.10668675093326348"
      ]
     },
     "execution_count": 268,
     "metadata": {},
     "output_type": "execute_result"
    }
   ],
   "source": [
    "df_bl.n_blue_links.mean()"
   ]
  },
  {
   "cell_type": "code",
   "execution_count": 269,
   "metadata": {},
   "outputs": [
    {
     "data": {
      "text/plain": [
       "0.002867729354372767"
      ]
     },
     "execution_count": 269,
     "metadata": {},
     "output_type": "execute_result"
    }
   ],
   "source": [
    "df_bl.n_blue_links.sem()"
   ]
  },
  {
   "cell_type": "code",
   "execution_count": 270,
   "metadata": {},
   "outputs": [
    {
     "data": {
      "text/html": [
       "<div>\n",
       "<style scoped>\n",
       "    .dataframe tbody tr th:only-of-type {\n",
       "        vertical-align: middle;\n",
       "    }\n",
       "\n",
       "    .dataframe tbody tr th {\n",
       "        vertical-align: top;\n",
       "    }\n",
       "\n",
       "    .dataframe thead th {\n",
       "        text-align: right;\n",
       "    }\n",
       "</style>\n",
       "<table border=\"1\" class=\"dataframe\">\n",
       "  <thead>\n",
       "    <tr style=\"text-align: right;\">\n",
       "      <th></th>\n",
       "      <th>n_blue_links</th>\n",
       "    </tr>\n",
       "  </thead>\n",
       "  <tbody>\n",
       "    <tr>\n",
       "      <th>count</th>\n",
       "      <td>15269.000000</td>\n",
       "    </tr>\n",
       "    <tr>\n",
       "      <th>mean</th>\n",
       "      <td>0.106687</td>\n",
       "    </tr>\n",
       "    <tr>\n",
       "      <th>std</th>\n",
       "      <td>0.354359</td>\n",
       "    </tr>\n",
       "    <tr>\n",
       "      <th>min</th>\n",
       "      <td>0.000000</td>\n",
       "    </tr>\n",
       "    <tr>\n",
       "      <th>25%</th>\n",
       "      <td>0.000000</td>\n",
       "    </tr>\n",
       "    <tr>\n",
       "      <th>50%</th>\n",
       "      <td>0.000000</td>\n",
       "    </tr>\n",
       "    <tr>\n",
       "      <th>75%</th>\n",
       "      <td>0.000000</td>\n",
       "    </tr>\n",
       "    <tr>\n",
       "      <th>max</th>\n",
       "      <td>5.000000</td>\n",
       "    </tr>\n",
       "  </tbody>\n",
       "</table>\n",
       "</div>"
      ],
      "text/plain": [
       "       n_blue_links\n",
       "count  15269.000000\n",
       "mean       0.106687\n",
       "std        0.354359\n",
       "min        0.000000\n",
       "25%        0.000000\n",
       "50%        0.000000\n",
       "75%        0.000000\n",
       "max        5.000000"
      ]
     },
     "execution_count": 270,
     "metadata": {},
     "output_type": "execute_result"
    }
   ],
   "source": [
    "df_bl.describe()"
   ]
  },
  {
   "cell_type": "code",
   "execution_count": 276,
   "metadata": {},
   "outputs": [
    {
     "data": {
      "text/plain": [
       "0.09646666666666667"
      ]
     },
     "execution_count": 276,
     "metadata": {},
     "output_type": "execute_result"
    }
   ],
   "source": [
    "len(df[df.category_standard == 'youtube-search-result'].fn_input.unique()) / 15000"
   ]
  },
  {
   "cell_type": "code",
   "execution_count": null,
   "metadata": {},
   "outputs": [],
   "source": []
  },
  {
   "cell_type": "code",
   "execution_count": 257,
   "metadata": {},
   "outputs": [
    {
     "data": {
      "text/plain": [
       "<matplotlib.axes._subplots.AxesSubplot at 0x7f12b6256580>"
      ]
     },
     "execution_count": 257,
     "metadata": {},
     "output_type": "execute_result"
    },
    {
     "data": {
      "image/png": "[encoded data removed]",
      "text/plain": [
       "<Figure size 432x288 with 1 Axes>"
      ]
     },
     "metadata": {
      "needs_background": "light"
     },
     "output_type": "display_data"
    }
   ],
   "source": [
    "df_bl.n_blue_links.plot(kind='hist', bins=10)"
   ]
  },
  {
   "cell_type": "code",
   "execution_count": 263,
   "metadata": {},
   "outputs": [
    {
     "data": {
      "text/plain": [
       "['../data/input/google_search/iPhone-X/2019/11/14/2018-SAFF-Championship-Final/html/webpage_raw.html',\n",
       " '../data/input/google_search/iPhone-X/2019/12/06/Naval-Air-Station-Pensacola/html/webpage_raw.html',\n",
       " '../data/input/google_search/iPhone-X/2019/12/09/Google-Sheets/html/webpage_raw.html',\n",
       " '../data/input/google_search/iPhone-X/2019/12/22/My-Sad-Christmas-Song/html/webpage_raw.html',\n",
       " '../data/input/google_search/iPhone-X/2020/01/02/Nick-Gordon/html/webpage_raw.html']"
      ]
     },
     "execution_count": 263,
     "metadata": {},
     "output_type": "execute_result"
    }
   ],
   "source": [
    "df_bl[df_bl.n_blue_links == 0].fn_input.tolist()"
   ]
  },
  {
   "cell_type": "markdown",
   "metadata": {},
   "source": [
    "# AMP\n",
    "How many sites are using AMP compared to how many sites we have?"
   ]
  },
  {
   "cell_type": "code",
   "execution_count": 220,
   "metadata": {},
   "outputs": [],
   "source": [
    "from urlexpander import get_domain\n",
    "\n",
    "domains_amp = (df[df.label == 'amp']\n",
    "                    .link.apply(get_domain)\n",
    "                    .value_counts())"
   ]
  },
  {
   "cell_type": "code",
   "execution_count": 221,
   "metadata": {},
   "outputs": [
    {
     "data": {
      "text/plain": [
       "yahoo.com          3333\n",
       "usatoday.com       2377\n",
       "people.com         1931\n",
       "cbssports.com      1757\n",
       "cnbc.com           1592\n",
       "theguardian.com    1454\n",
       "nytimes.com        1429\n",
       "foxnews.com        1371\n",
       "cnn.com            1323\n",
       "espn.com           1247\n",
       "Name: link, dtype: int64"
      ]
     },
     "execution_count": 221,
     "metadata": {},
     "output_type": "execute_result"
    }
   ],
   "source": [
    "domains_amp.head(10)"
   ]
  },
  {
   "cell_type": "code",
   "execution_count": 143,
   "metadata": {},
   "outputs": [],
   "source": [
    "domains_og = df[df.label == 'organic'].domain.unique()"
   ]
  },
  {
   "cell_type": "code",
   "execution_count": 144,
   "metadata": {},
   "outputs": [
    {
     "data": {
      "text/plain": [
       "(3122, 25884)"
      ]
     },
     "execution_count": 144,
     "metadata": {},
     "output_type": "execute_result"
    }
   ],
   "source": [
    "n_domains_amp = len(domains_amp)\n",
    "n_domains = len(set(domains_amp.index) | set(domains_og))\n",
    "n_domains_amp, n_domains"
   ]
  },
  {
   "cell_type": "code",
   "execution_count": null,
   "metadata": {},
   "outputs": [],
   "source": [
    "domains_org.domain.value_counts()"
   ]
  },
  {
   "cell_type": "code",
   "execution_count": null,
   "metadata": {},
   "outputs": [],
   "source": [
    "n_domains_amp / n_domains"
   ]
  },
  {
   "cell_type": "code",
   "execution_count": null,
   "metadata": {},
   "outputs": [],
   "source": [
    "(df[(df.label == 'amp') &\n",
    "    (df.q1_area != 0)]\n",
    "    .link.apply(get_domain)\n",
    "    .value_counts()\n",
    "    .head(10))"
   ]
  },
  {
   "cell_type": "code",
   "execution_count": null,
   "metadata": {},
   "outputs": [],
   "source": []
  },
  {
   "cell_type": "code",
   "execution_count": 17,
   "metadata": {},
   "outputs": [
    {
     "data": {
      "text/plain": [
       "0.09086653400820388"
      ]
     },
     "execution_count": 17,
     "metadata": {},
     "output_type": "execute_result"
    }
   ],
   "source": [
    "(df[(df.label == 'amp') &\n",
    "   (df.domain == 'google.com')].area_page.sum() / df.area_page.sum()) * 100"
   ]
  },
  {
   "cell_type": "code",
   "execution_count": 19,
   "metadata": {},
   "outputs": [
    {
     "data": {
      "text/plain": [
       "0.054293011985067786"
      ]
     },
     "execution_count": 19,
     "metadata": {},
     "output_type": "execute_result"
    }
   ],
   "source": [
    "df[(df.label == 'amp') &\n",
    "   (df.domain == 'google.com')].fn_input.nunique() / df.fn_input.nunique()"
   ]
  },
  {
   "cell_type": "code",
   "execution_count": null,
   "metadata": {},
   "outputs": [],
   "source": [
    "res = df[df['fn_input'] == '../data/input/google_search/iPhone-X/2020/01/02/John-Cho/html/webpage_raw.html']\n",
    "\n",
    "res.groupby('label').area_page.sum() / res.area_page.sum()"
   ]
  },
  {
   "cell_type": "code",
   "execution_count": null,
   "metadata": {},
   "outputs": [],
   "source": [
    "ads        0.072899\n",
    "amp        0.122538\n",
    "answer     0.105134\n",
    "link       0.308350\n",
    "organic    0.391079"
   ]
  },
  {
   "cell_type": "code",
   "execution_count": 155,
   "metadata": {},
   "outputs": [],
   "source": [
    "no_org = df_pixels[df_pixels.o== 0].set_index('search_term')"
   ]
  },
  {
   "cell_type": "code",
   "execution_count": 137,
   "metadata": {},
   "outputs": [
    {
     "data": {
      "text/plain": [
       "<matplotlib.axes._subplots.AxesSubplot at 0x7f12b6967d60>"
      ]
     },
     "execution_count": 137,
     "metadata": {},
     "output_type": "execute_result"
    },
    {
     "data": {
      "image/png": "[encoded data removed]",
      "text/plain": [
       "<Figure size 432x288 with 1 Axes>"
      ]
     },
     "metadata": {
      "needs_background": "light"
     },
     "output_type": "display_data"
    }
   ],
   "source": [
    "no_org.divide(no_org.sum(axis=1), axis=0).amp.plot(kind='hist', bins=10, rwidth=.9)"
   ]
  },
  {
   "cell_type": "code",
   "execution_count": 110,
   "metadata": {},
   "outputs": [
    {
     "data": {
      "text/plain": [
       "<matplotlib.axes._subplots.AxesSubplot at 0x7f12b733d1f0>"
      ]
     },
     "execution_count": 110,
     "metadata": {},
     "output_type": "execute_result"
    },
    {
     "data": {
      "image/png": "[encoded data removed]",
      "text/plain": [
       "<Figure size 432x288 with 1 Axes>"
      ]
     },
     "metadata": {
      "needs_background": "light"
     },
     "output_type": "display_data"
    }
   ],
   "source": [
    "no_org.divide(no_org.sum(axis=1), axis=0).ad.plot(kind='hist', bins=10, rwidth=.9)"
   ]
  },
  {
   "cell_type": "code",
   "execution_count": 111,
   "metadata": {},
   "outputs": [
    {
     "data": {
      "text/plain": [
       "<matplotlib.axes._subplots.AxesSubplot at 0x7f12b730a880>"
      ]
     },
     "execution_count": 111,
     "metadata": {},
     "output_type": "execute_result"
    },
    {
     "data": {
      "image/png": "[encoded data removed]",
      "text/plain": [
       "<Figure size 432x288 with 1 Axes>"
      ]
     },
     "metadata": {
      "needs_background": "light"
     },
     "output_type": "display_data"
    }
   ],
   "source": [
    "no_org.divide(no_org.sum(axis=1), axis=0).g.plot(kind='hist', bins=10, rwidth=.9)"
   ]
  },
  {
   "cell_type": "code",
   "execution_count": 113,
   "metadata": {},
   "outputs": [
    {
     "data": {
      "text/plain": [
       "ad      407.835119\n",
       "o         0.000000\n",
       "g      1978.184049\n",
       "amp     665.980722\n",
       "e1        0.000000\n",
       "e2        0.000111\n",
       "dtype: float64"
      ]
     },
     "execution_count": 113,
     "metadata": {},
     "output_type": "execute_result"
    }
   ],
   "source": [
    "no_org.divide(no_org.sum(axis=1), axis=0).sum() / no_org.divide(no_org.sum(axis=1), axis=0)"
   ]
  },
  {
   "cell_type": "code",
   "execution_count": 156,
   "metadata": {},
   "outputs": [
    {
     "data": {
      "text/plain": [
       "ad     13.362881\n",
       "o       0.000000\n",
       "g      48.521833\n",
       "a      16.294158\n",
       "amp    21.821124\n",
       "e1      0.000000\n",
       "e2      0.000004\n",
       "dtype: float64"
      ]
     },
     "execution_count": 156,
     "metadata": {},
     "output_type": "execute_result"
    }
   ],
   "source": [
    "(no_org.divide(no_org.sum(axis=1), axis=0).sum() / len(no_org)) * 100"
   ]
  },
  {
   "cell_type": "code",
   "execution_count": 160,
   "metadata": {},
   "outputs": [
    {
     "data": {
      "text/plain": [
       "1.7038007863695939"
      ]
     },
     "execution_count": 160,
     "metadata": {},
     "output_type": "execute_result"
    }
   ],
   "source": [
    "(len(no_org[no_org.e2 != 0].index) / len(no_org)) * 100"
   ]
  },
  {
   "cell_type": "code",
   "execution_count": 147,
   "metadata": {},
   "outputs": [
    {
     "data": {
      "text/plain": [
       "Index(['../data/input/google_search/iPhone-X/2019/11/05/Agingassociated-diseases/html/webpage_raw.html',\n",
       "       '../data/input/google_search/iPhone-X/2019/11/05/Baja-1000/html/webpage_raw.html',\n",
       "       '../data/input/google_search/iPhone-X/2019/11/05/Champions-Classic/html/webpage_raw.html',\n",
       "       '../data/input/google_search/iPhone-X/2019/11/05/Chevrolet-Camaro/html/webpage_raw.html',\n",
       "       '../data/input/google_search/iPhone-X/2019/11/05/Colchicine/html/webpage_raw.html',\n",
       "       '../data/input/google_search/iPhone-X/2019/11/05/Doughnut/html/webpage_raw.html',\n",
       "       '../data/input/google_search/iPhone-X/2019/11/05/Ford-Bronco/html/webpage_raw.html',\n",
       "       '../data/input/google_search/iPhone-X/2019/11/05/Frances-Tiafoe/html/webpage_raw.html',\n",
       "       '../data/input/google_search/iPhone-X/2019/11/05/Naproxen/html/webpage_raw.html',\n",
       "       '../data/input/google_search/iPhone-X/2019/11/05/National-Doughnut-Day/html/webpage_raw.html',\n",
       "       ...\n",
       "       '../data/input/google_search/iPhone-X/2020/01/07/Finding-MOMO-LAND/html/webpage_raw.html',\n",
       "       '../data/input/google_search/iPhone-X/2020/01/07/Hypogonadism/html/webpage_raw.html',\n",
       "       '../data/input/google_search/iPhone-X/2020/01/07/January-7/html/webpage_raw.html',\n",
       "       '../data/input/google_search/iPhone-X/2020/01/07/Jeļena-Ostapenko/html/webpage_raw.html',\n",
       "       '../data/input/google_search/iPhone-X/2020/01/07/Kristian-Haggerty/html/webpage_raw.html',\n",
       "       '../data/input/google_search/iPhone-X/2020/01/07/LONFUM/html/webpage_raw.html',\n",
       "       '../data/input/google_search/iPhone-X/2020/01/07/Magnificent-Mile/html/webpage_raw.html',\n",
       "       '../data/input/google_search/iPhone-X/2020/01/07/Myocarditis/html/webpage_raw.html',\n",
       "       '../data/input/google_search/iPhone-X/2020/01/07/NASDAQAAXN/html/webpage_raw.html',\n",
       "       '../data/input/google_search/iPhone-X/2020/01/07/Naomi-Osaka/html/webpage_raw.html'],\n",
       "      dtype='object', name='search_term', length=1255)"
      ]
     },
     "execution_count": 147,
     "metadata": {},
     "output_type": "execute_result"
    }
   ],
   "source": [
    "no_org[no_org.a != 0].index"
   ]
  },
  {
   "cell_type": "code",
   "execution_count": 148,
   "metadata": {},
   "outputs": [
    {
     "data": {
      "text/html": [
       "<div>\n",
       "<style scoped>\n",
       "    .dataframe tbody tr th:only-of-type {\n",
       "        vertical-align: middle;\n",
       "    }\n",
       "\n",
       "    .dataframe tbody tr th {\n",
       "        vertical-align: top;\n",
       "    }\n",
       "\n",
       "    .dataframe thead th {\n",
       "        text-align: right;\n",
       "    }\n",
       "</style>\n",
       "<table border=\"1\" class=\"dataframe\">\n",
       "  <thead>\n",
       "    <tr style=\"text-align: right;\">\n",
       "      <th></th>\n",
       "      <th>text</th>\n",
       "      <th>link</th>\n",
       "      <th>domain</th>\n",
       "      <th>xpath</th>\n",
       "      <th>category</th>\n",
       "      <th>tag</th>\n",
       "      <th>attrs</th>\n",
       "      <th>dimensions</th>\n",
       "      <th>location</th>\n",
       "      <th>area_page</th>\n",
       "      <th>...</th>\n",
       "      <th>q47_area</th>\n",
       "      <th>q48_area</th>\n",
       "      <th>q49_area</th>\n",
       "      <th>q50_area</th>\n",
       "      <th>area_above_the_fold</th>\n",
       "      <th>label</th>\n",
       "      <th>category_standard</th>\n",
       "      <th>date_parsed</th>\n",
       "      <th>date_collected</th>\n",
       "      <th>y_dist</th>\n",
       "    </tr>\n",
       "  </thead>\n",
       "  <tbody>\n",
       "    <tr>\n",
       "      <th>0</th>\n",
       "      <td>testicular cancer</td>\n",
       "      <td>None</td>\n",
       "      <td>google.com</td>\n",
       "      <td>/html/body/div[10]/div/div[6]/div/div[4]/div/d...</td>\n",
       "      <td>answer-expand</td>\n",
       "      <td>div</td>\n",
       "      <td>{'jsname': 'bVEB4e', 'class': ['QRY00e'], 'rol...</td>\n",
       "      <td>{'height': 48.0, 'width': 315.0}</td>\n",
       "      <td>{'x': 24, 'y': 3220}</td>\n",
       "      <td>15120.0</td>\n",
       "      <td>...</td>\n",
       "      <td>0.0</td>\n",
       "      <td>0.0</td>\n",
       "      <td>0.0</td>\n",
       "      <td>0.0</td>\n",
       "      <td>0.00</td>\n",
       "      <td>answer</td>\n",
       "      <td>google-expandable-answer</td>\n",
       "      <td>2020-05-14</td>\n",
       "      <td>2019-11-28</td>\n",
       "      <td>3220</td>\n",
       "    </tr>\n",
       "    <tr>\n",
       "      <th>1</th>\n",
       "      <td>testicular torsion</td>\n",
       "      <td>None</td>\n",
       "      <td>google.com</td>\n",
       "      <td>/html/body/div[10]/div/div[6]/div/div[4]/div/d...</td>\n",
       "      <td>answer-expand</td>\n",
       "      <td>div</td>\n",
       "      <td>{'jsname': 'bVEB4e', 'class': ['QRY00e'], 'rol...</td>\n",
       "      <td>{'height': 48.0, 'width': 315.0}</td>\n",
       "      <td>{'x': 24, 'y': 3269}</td>\n",
       "      <td>15120.0</td>\n",
       "      <td>...</td>\n",
       "      <td>0.0</td>\n",
       "      <td>0.0</td>\n",
       "      <td>0.0</td>\n",
       "      <td>0.0</td>\n",
       "      <td>0.00</td>\n",
       "      <td>answer</td>\n",
       "      <td>google-expandable-answer</td>\n",
       "      <td>2020-05-14</td>\n",
       "      <td>2019-11-28</td>\n",
       "      <td>3269</td>\n",
       "    </tr>\n",
       "    <tr>\n",
       "      <th>2</th>\n",
       "      <td>hydrocele testis</td>\n",
       "      <td>None</td>\n",
       "      <td>google.com</td>\n",
       "      <td>/html/body/div[10]/div/div[6]/div/div[4]/div/d...</td>\n",
       "      <td>answer-expand</td>\n",
       "      <td>div</td>\n",
       "      <td>{'jsname': 'bVEB4e', 'class': ['QRY00e'], 'rol...</td>\n",
       "      <td>{'height': 48.0, 'width': 315.0}</td>\n",
       "      <td>{'x': 24, 'y': 3318}</td>\n",
       "      <td>15120.0</td>\n",
       "      <td>...</td>\n",
       "      <td>0.0</td>\n",
       "      <td>0.0</td>\n",
       "      <td>0.0</td>\n",
       "      <td>0.0</td>\n",
       "      <td>0.00</td>\n",
       "      <td>answer</td>\n",
       "      <td>google-expandable-answer</td>\n",
       "      <td>2020-05-14</td>\n",
       "      <td>2019-11-28</td>\n",
       "      <td>3318</td>\n",
       "    </tr>\n",
       "    <tr>\n",
       "      <th>3</th>\n",
       "      <td>What causes a man's balls to swell up?</td>\n",
       "      <td>None</td>\n",
       "      <td>google.com</td>\n",
       "      <td>/html/body/div[10]/div/div[6]/div/div[3]/div/d...</td>\n",
       "      <td>answer-expand</td>\n",
       "      <td>div</td>\n",
       "      <td>{'jsname': 'ARU61', 'class': ['mWyH1d', 'kno-a...</td>\n",
       "      <td>{'height': 48.0, 'width': 347.0}</td>\n",
       "      <td>{'x': 8, 'y': 672}</td>\n",
       "      <td>16656.0</td>\n",
       "      <td>...</td>\n",
       "      <td>0.0</td>\n",
       "      <td>0.0</td>\n",
       "      <td>0.0</td>\n",
       "      <td>0.0</td>\n",
       "      <td>6853.25</td>\n",
       "      <td>answer</td>\n",
       "      <td>google-expandable-answer</td>\n",
       "      <td>2020-05-14</td>\n",
       "      <td>2019-11-28</td>\n",
       "      <td>672</td>\n",
       "    </tr>\n",
       "    <tr>\n",
       "      <th>4</th>\n",
       "      <td>Will swollen testicle go away?</td>\n",
       "      <td>None</td>\n",
       "      <td>google.com</td>\n",
       "      <td>/html/body/div[10]/div/div[6]/div/div[3]/div/d...</td>\n",
       "      <td>answer-expand</td>\n",
       "      <td>div</td>\n",
       "      <td>{'jsname': 'ARU61', 'class': ['mWyH1d', 'kno-a...</td>\n",
       "      <td>{'height': 48.0, 'width': 347.0}</td>\n",
       "      <td>{'x': 8, 'y': 720}</td>\n",
       "      <td>16656.0</td>\n",
       "      <td>...</td>\n",
       "      <td>0.0</td>\n",
       "      <td>0.0</td>\n",
       "      <td>0.0</td>\n",
       "      <td>0.0</td>\n",
       "      <td>0.00</td>\n",
       "      <td>answer</td>\n",
       "      <td>google-expandable-answer</td>\n",
       "      <td>2020-05-14</td>\n",
       "      <td>2019-11-28</td>\n",
       "      <td>720</td>\n",
       "    </tr>\n",
       "    <tr>\n",
       "      <th>...</th>\n",
       "      <td>...</td>\n",
       "      <td>...</td>\n",
       "      <td>...</td>\n",
       "      <td>...</td>\n",
       "      <td>...</td>\n",
       "      <td>...</td>\n",
       "      <td>...</td>\n",
       "      <td>...</td>\n",
       "      <td>...</td>\n",
       "      <td>...</td>\n",
       "      <td>...</td>\n",
       "      <td>...</td>\n",
       "      <td>...</td>\n",
       "      <td>...</td>\n",
       "      <td>...</td>\n",
       "      <td>...</td>\n",
       "      <td>...</td>\n",
       "      <td>...</td>\n",
       "      <td>...</td>\n",
       "      <td>...</td>\n",
       "      <td>...</td>\n",
       "    </tr>\n",
       "    <tr>\n",
       "      <th>1192361</th>\n",
       "      <td>MarketWatch › investing › hsiHSI | Hang Seng I...</td>\n",
       "      <td>https://www.marketwatch.com/investing/index/hs...</td>\n",
       "      <td>marketwatch.com</td>\n",
       "      <td>/html/body/div[10]/div/div[6]/div/div[3]/div/d...</td>\n",
       "      <td>organic-search_result</td>\n",
       "      <td>div</td>\n",
       "      <td>{'class': ['mnr-c', 'xpd', 'O9g5cc', 'uUPGi']}</td>\n",
       "      <td>{'height': 145.0, 'width': 347.0}</td>\n",
       "      <td>{'x': 8, 'y': 3018}</td>\n",
       "      <td>50315.0</td>\n",
       "      <td>...</td>\n",
       "      <td>0.0</td>\n",
       "      <td>0.0</td>\n",
       "      <td>0.0</td>\n",
       "      <td>0.0</td>\n",
       "      <td>0.00</td>\n",
       "      <td>organic</td>\n",
       "      <td>organic-search_result</td>\n",
       "      <td>2020-05-14</td>\n",
       "      <td>2020-01-02</td>\n",
       "      <td>3018</td>\n",
       "    </tr>\n",
       "    <tr>\n",
       "      <th>1192362</th>\n",
       "      <td>CNBC › quotes.HSI: Hang Seng Index - Stock Pri...</td>\n",
       "      <td>https://www.cnbc.com/quotes/?symbol=.HSI</td>\n",
       "      <td>cnbc.com</td>\n",
       "      <td>/html/body/div[10]/div/div[6]/div/div[3]/div/d...</td>\n",
       "      <td>organic-search_result</td>\n",
       "      <td>div</td>\n",
       "      <td>{'class': ['mnr-c', 'xpd', 'O9g5cc', 'uUPGi']}</td>\n",
       "      <td>{'height': 213.0, 'width': 347.0}</td>\n",
       "      <td>{'x': 8, 'y': 3173}</td>\n",
       "      <td>73911.0</td>\n",
       "      <td>...</td>\n",
       "      <td>0.0</td>\n",
       "      <td>0.0</td>\n",
       "      <td>0.0</td>\n",
       "      <td>0.0</td>\n",
       "      <td>0.00</td>\n",
       "      <td>organic</td>\n",
       "      <td>organic-search_result</td>\n",
       "      <td>2020-05-14</td>\n",
       "      <td>2020-01-02</td>\n",
       "      <td>3173</td>\n",
       "    </tr>\n",
       "    <tr>\n",
       "      <th>1192363</th>\n",
       "      <td>Yahoo › finance › quote › ^HSI › p...HANG SENG...</td>\n",
       "      <td>https://finance.yahoo.com/quote/%5EHSI?p=%5EHSI</td>\n",
       "      <td>yahoo.com</td>\n",
       "      <td>/html/body/div[10]/div/div[6]/div/div[3]/div/d...</td>\n",
       "      <td>organic-search_result</td>\n",
       "      <td>div</td>\n",
       "      <td>{'class': ['mnr-c', 'xpd', 'O9g5cc', 'uUPGi']}</td>\n",
       "      <td>{'height': 165.0, 'width': 347.0}</td>\n",
       "      <td>{'x': 8, 'y': 3396}</td>\n",
       "      <td>57255.0</td>\n",
       "      <td>...</td>\n",
       "      <td>0.0</td>\n",
       "      <td>0.0</td>\n",
       "      <td>0.0</td>\n",
       "      <td>0.0</td>\n",
       "      <td>0.00</td>\n",
       "      <td>organic</td>\n",
       "      <td>organic-search_result</td>\n",
       "      <td>2020-05-14</td>\n",
       "      <td>2020-01-02</td>\n",
       "      <td>3396</td>\n",
       "    </tr>\n",
       "    <tr>\n",
       "      <th>1192364</th>\n",
       "      <td>Yahoo › finance › s=^hsiHANG SENG INDEX (^HSI)...</td>\n",
       "      <td>https://finance.yahoo.com/q/hp?s=%5Ehsi</td>\n",
       "      <td>yahoo.com</td>\n",
       "      <td>/html/body/div[10]/div/div[6]/div/div[3]/div/d...</td>\n",
       "      <td>organic-search_result</td>\n",
       "      <td>div</td>\n",
       "      <td>{'class': ['mnr-c', 'xpd', 'O9g5cc', 'uUPGi']}</td>\n",
       "      <td>{'height': 185.0, 'width': 347.0}</td>\n",
       "      <td>{'x': 8, 'y': 3571}</td>\n",
       "      <td>64195.0</td>\n",
       "      <td>...</td>\n",
       "      <td>0.0</td>\n",
       "      <td>0.0</td>\n",
       "      <td>0.0</td>\n",
       "      <td>0.0</td>\n",
       "      <td>0.00</td>\n",
       "      <td>organic</td>\n",
       "      <td>organic-search_result</td>\n",
       "      <td>2020-05-14</td>\n",
       "      <td>2020-01-02</td>\n",
       "      <td>3571</td>\n",
       "    </tr>\n",
       "    <tr>\n",
       "      <th>1192365</th>\n",
       "      <td>Investing.com › hang-sen-40Hang Seng Index (HS...</td>\n",
       "      <td>https://m.investing.com/indices/hang-sen-40</td>\n",
       "      <td>investing.com</td>\n",
       "      <td>/html/body/div[10]/div/div[6]/div/div[3]/div/d...</td>\n",
       "      <td>organic-search_result</td>\n",
       "      <td>div</td>\n",
       "      <td>{'class': ['mnr-c', 'xpd', 'O9g5cc', 'uUPGi']}</td>\n",
       "      <td>{'height': 145.0, 'width': 347.0}</td>\n",
       "      <td>{'x': 8, 'y': 3766}</td>\n",
       "      <td>50315.0</td>\n",
       "      <td>...</td>\n",
       "      <td>0.0</td>\n",
       "      <td>0.0</td>\n",
       "      <td>0.0</td>\n",
       "      <td>0.0</td>\n",
       "      <td>0.00</td>\n",
       "      <td>organic</td>\n",
       "      <td>organic-search_result</td>\n",
       "      <td>2020-05-14</td>\n",
       "      <td>2020-01-02</td>\n",
       "      <td>3766</td>\n",
       "    </tr>\n",
       "  </tbody>\n",
       "</table>\n",
       "<p>84472 rows × 69 columns</p>\n",
       "</div>"
      ],
      "text/plain": [
       "                                                      text  \\\n",
       "0                                        testicular cancer   \n",
       "1                                       testicular torsion   \n",
       "2                                         hydrocele testis   \n",
       "3                   What causes a man's balls to swell up?   \n",
       "4                           Will swollen testicle go away?   \n",
       "...                                                    ...   \n",
       "1192361  MarketWatch › investing › hsiHSI | Hang Seng I...   \n",
       "1192362  CNBC › quotes.HSI: Hang Seng Index - Stock Pri...   \n",
       "1192363  Yahoo › finance › quote › ^HSI › p...HANG SENG...   \n",
       "1192364  Yahoo › finance › s=^hsiHANG SENG INDEX (^HSI)...   \n",
       "1192365  Investing.com › hang-sen-40Hang Seng Index (HS...   \n",
       "\n",
       "                                                      link           domain  \\\n",
       "0                                                     None       google.com   \n",
       "1                                                     None       google.com   \n",
       "2                                                     None       google.com   \n",
       "3                                                     None       google.com   \n",
       "4                                                     None       google.com   \n",
       "...                                                    ...              ...   \n",
       "1192361  https://www.marketwatch.com/investing/index/hs...  marketwatch.com   \n",
       "1192362           https://www.cnbc.com/quotes/?symbol=.HSI         cnbc.com   \n",
       "1192363    https://finance.yahoo.com/quote/%5EHSI?p=%5EHSI        yahoo.com   \n",
       "1192364            https://finance.yahoo.com/q/hp?s=%5Ehsi        yahoo.com   \n",
       "1192365        https://m.investing.com/indices/hang-sen-40    investing.com   \n",
       "\n",
       "                                                     xpath  \\\n",
       "0        /html/body/div[10]/div/div[6]/div/div[4]/div/d...   \n",
       "1        /html/body/div[10]/div/div[6]/div/div[4]/div/d...   \n",
       "2        /html/body/div[10]/div/div[6]/div/div[4]/div/d...   \n",
       "3        /html/body/div[10]/div/div[6]/div/div[3]/div/d...   \n",
       "4        /html/body/div[10]/div/div[6]/div/div[3]/div/d...   \n",
       "...                                                    ...   \n",
       "1192361  /html/body/div[10]/div/div[6]/div/div[3]/div/d...   \n",
       "1192362  /html/body/div[10]/div/div[6]/div/div[3]/div/d...   \n",
       "1192363  /html/body/div[10]/div/div[6]/div/div[3]/div/d...   \n",
       "1192364  /html/body/div[10]/div/div[6]/div/div[3]/div/d...   \n",
       "1192365  /html/body/div[10]/div/div[6]/div/div[3]/div/d...   \n",
       "\n",
       "                      category  tag  \\\n",
       "0                answer-expand  div   \n",
       "1                answer-expand  div   \n",
       "2                answer-expand  div   \n",
       "3                answer-expand  div   \n",
       "4                answer-expand  div   \n",
       "...                        ...  ...   \n",
       "1192361  organic-search_result  div   \n",
       "1192362  organic-search_result  div   \n",
       "1192363  organic-search_result  div   \n",
       "1192364  organic-search_result  div   \n",
       "1192365  organic-search_result  div   \n",
       "\n",
       "                                                     attrs  \\\n",
       "0        {'jsname': 'bVEB4e', 'class': ['QRY00e'], 'rol...   \n",
       "1        {'jsname': 'bVEB4e', 'class': ['QRY00e'], 'rol...   \n",
       "2        {'jsname': 'bVEB4e', 'class': ['QRY00e'], 'rol...   \n",
       "3        {'jsname': 'ARU61', 'class': ['mWyH1d', 'kno-a...   \n",
       "4        {'jsname': 'ARU61', 'class': ['mWyH1d', 'kno-a...   \n",
       "...                                                    ...   \n",
       "1192361     {'class': ['mnr-c', 'xpd', 'O9g5cc', 'uUPGi']}   \n",
       "1192362     {'class': ['mnr-c', 'xpd', 'O9g5cc', 'uUPGi']}   \n",
       "1192363     {'class': ['mnr-c', 'xpd', 'O9g5cc', 'uUPGi']}   \n",
       "1192364     {'class': ['mnr-c', 'xpd', 'O9g5cc', 'uUPGi']}   \n",
       "1192365     {'class': ['mnr-c', 'xpd', 'O9g5cc', 'uUPGi']}   \n",
       "\n",
       "                                dimensions              location  area_page  \\\n",
       "0         {'height': 48.0, 'width': 315.0}  {'x': 24, 'y': 3220}    15120.0   \n",
       "1         {'height': 48.0, 'width': 315.0}  {'x': 24, 'y': 3269}    15120.0   \n",
       "2         {'height': 48.0, 'width': 315.0}  {'x': 24, 'y': 3318}    15120.0   \n",
       "3         {'height': 48.0, 'width': 347.0}    {'x': 8, 'y': 672}    16656.0   \n",
       "4         {'height': 48.0, 'width': 347.0}    {'x': 8, 'y': 720}    16656.0   \n",
       "...                                    ...                   ...        ...   \n",
       "1192361  {'height': 145.0, 'width': 347.0}   {'x': 8, 'y': 3018}    50315.0   \n",
       "1192362  {'height': 213.0, 'width': 347.0}   {'x': 8, 'y': 3173}    73911.0   \n",
       "1192363  {'height': 165.0, 'width': 347.0}   {'x': 8, 'y': 3396}    57255.0   \n",
       "1192364  {'height': 185.0, 'width': 347.0}   {'x': 8, 'y': 3571}    64195.0   \n",
       "1192365  {'height': 145.0, 'width': 347.0}   {'x': 8, 'y': 3766}    50315.0   \n",
       "\n",
       "         ... q47_area  q48_area q49_area  q50_area  area_above_the_fold  \\\n",
       "0        ...      0.0       0.0      0.0       0.0                 0.00   \n",
       "1        ...      0.0       0.0      0.0       0.0                 0.00   \n",
       "2        ...      0.0       0.0      0.0       0.0                 0.00   \n",
       "3        ...      0.0       0.0      0.0       0.0              6853.25   \n",
       "4        ...      0.0       0.0      0.0       0.0                 0.00   \n",
       "...      ...      ...       ...      ...       ...                  ...   \n",
       "1192361  ...      0.0       0.0      0.0       0.0                 0.00   \n",
       "1192362  ...      0.0       0.0      0.0       0.0                 0.00   \n",
       "1192363  ...      0.0       0.0      0.0       0.0                 0.00   \n",
       "1192364  ...      0.0       0.0      0.0       0.0                 0.00   \n",
       "1192365  ...      0.0       0.0      0.0       0.0                 0.00   \n",
       "\n",
       "           label         category_standard  date_parsed  date_collected  \\\n",
       "0         answer  google-expandable-answer   2020-05-14      2019-11-28   \n",
       "1         answer  google-expandable-answer   2020-05-14      2019-11-28   \n",
       "2         answer  google-expandable-answer   2020-05-14      2019-11-28   \n",
       "3         answer  google-expandable-answer   2020-05-14      2019-11-28   \n",
       "4         answer  google-expandable-answer   2020-05-14      2019-11-28   \n",
       "...          ...                       ...          ...             ...   \n",
       "1192361  organic     organic-search_result   2020-05-14      2020-01-02   \n",
       "1192362  organic     organic-search_result   2020-05-14      2020-01-02   \n",
       "1192363  organic     organic-search_result   2020-05-14      2020-01-02   \n",
       "1192364  organic     organic-search_result   2020-05-14      2020-01-02   \n",
       "1192365  organic     organic-search_result   2020-05-14      2020-01-02   \n",
       "\n",
       "         y_dist  \n",
       "0          3220  \n",
       "1          3269  \n",
       "2          3318  \n",
       "3           672  \n",
       "4           720  \n",
       "...         ...  \n",
       "1192361    3018  \n",
       "1192362    3173  \n",
       "1192363    3396  \n",
       "1192364    3571  \n",
       "1192365    3766  \n",
       "\n",
       "[84472 rows x 69 columns]"
      ]
     },
     "execution_count": 148,
     "metadata": {},
     "output_type": "execute_result"
    }
   ],
   "source": [
    "df[df.fn_input.isin(no_org[no_org.a != 0].index)]"
   ]
  },
  {
   "cell_type": "code",
   "execution_count": 180,
   "metadata": {},
   "outputs": [
    {
     "data": {
      "text/plain": [
       "['organic-search_result', 'amp-search_result', 'youtube-search-result']"
      ]
     },
     "execution_count": 180,
     "metadata": {},
     "output_type": "execute_result"
    }
   ],
   "source": [
    "blue_link_categories"
   ]
  },
  {
   "cell_type": "code",
   "execution_count": 203,
   "metadata": {},
   "outputs": [
    {
     "data": {
      "text/plain": [
       "9.476717532254895"
      ]
     },
     "execution_count": 203,
     "metadata": {},
     "output_type": "execute_result"
    }
   ],
   "source": [
    "(df[df.category_standard == 'youtube-search-result'].fn_input.nunique() / df.fn_input.nunique()) * 100"
   ]
  },
  {
   "cell_type": "code",
   "execution_count": 188,
   "metadata": {},
   "outputs": [
    {
     "name": "stderr",
     "output_type": "stream",
     "text": [
      "100%|██████████| 15269/15269 [01:43<00:00, 148.05it/s]\n"
     ]
    }
   ],
   "source": [
    "pixels_v1 = {c : list() for c in area_cols}\n",
    "for search, df_ in tqdm(df.groupby('fn_input'), position=0, leave=True):\n",
    "    for col in area_cols:\n",
    "        # get sum of pixels for each label.\n",
    "        ad = df_[df_.label == 'ads'][col].sum()\n",
    "        o = df_[(df_.label == 'organic') & (~df_.category_standard.isin(blue_link_categories))][col].sum()\n",
    "        o_sr =  df_[\n",
    "            df_.category_standard.isin(blue_link_categories)\n",
    "        ][col].sum()\n",
    "        g = df_[(df_.label == 'link') | (df_.label == 'answer') & \n",
    "                (~df_.category_standard.isin(blue_link_categories))][col].sum()\n",
    "        amp = df_[(df_.label == 'amp') & \n",
    "                  (~df_.category_standard.isin(blue_link_categories))][col].sum()\n",
    "        \n",
    "        # equations\n",
    "        e1 =  o / (g + ad + o + amp)\n",
    "        e2 = g / (g + ad + o + amp)\n",
    "                \n",
    "        e3 = o_sr / (o_sr + g + ad + o + amp)\n",
    "        e4 = g + o + amp / (o_sr + ad + g + o + amp)\n",
    "        \n",
    "        \n",
    "        \n",
    "        row = {\n",
    "            'search_term' : search,\n",
    "            'ad' : ad,\n",
    "            'o' : o,\n",
    "            'g' : g,\n",
    "            'amp' : amp,\n",
    "            'blue' : o_sr,\n",
    "            'e1' : e1,\n",
    "            'e2' : e2,\n",
    "            'e3' : e3,\n",
    "            'e4' : e4\n",
    "        }\n",
    "\n",
    "        pixels_v1[col].append(row)\n",
    "    \n",
    "df_pixels = pd.DataFrame(pixels_v1['area_above_the_fold'])\n",
    "df_pixels_fp = pd.DataFrame(pixels_v1['area_page'])"
   ]
  },
  {
   "cell_type": "code",
   "execution_count": 189,
   "metadata": {},
   "outputs": [],
   "source": [
    "df_pixels.e1.fillna(0, inplace=True)\n",
    "df_pixels.e2.fillna(0, inplace=True)\n",
    "df_pixels.e3.fillna(0, inplace=True)"
   ]
  },
  {
   "cell_type": "code",
   "execution_count": 79,
   "metadata": {},
   "outputs": [
    {
     "data": {
      "text/plain": [
       "8.71777096450824"
      ]
     },
     "execution_count": 79,
     "metadata": {},
     "output_type": "execute_result"
    }
   ],
   "source": [
    "(df_pixels.o.sum() / df_pixels[['ad', 'o', 'blue', 'amp', 'g']].sum(axis=1).sum()) * 100"
   ]
  },
  {
   "cell_type": "code",
   "execution_count": 90,
   "metadata": {},
   "outputs": [],
   "source": [
    "ng = 19.2\n",
    "go = 62.6\n",
    "\n",
    "ng_f = 44.8\n",
    "go_f = 41"
   ]
  },
  {
   "cell_type": "code",
   "execution_count": 107,
   "metadata": {},
   "outputs": [],
   "source": [
    "# Scenario 7"
   ]
  },
  {
   "cell_type": "code",
   "execution_count": 199,
   "metadata": {},
   "outputs": [
    {
     "data": {
      "text/plain": [
       "83.1431081998933"
      ]
     },
     "execution_count": 199,
     "metadata": {},
     "output_type": "execute_result"
    }
   ],
   "source": [
    "(((df_pixels[['g', 'o', 'amp']].sum(axis=1).sum())/ df['area_above_the_fold'].sum()) * 100)"
   ]
  },
  {
   "cell_type": "code",
   "execution_count": 200,
   "metadata": {},
   "outputs": [
    {
     "data": {
      "text/plain": [
       "51.905436260172344"
      ]
     },
     "execution_count": 200,
     "metadata": {},
     "output_type": "execute_result"
    }
   ],
   "source": [
    "(((df_pixels_fp[['g', 'o', 'amp']].sum(axis=1).sum())/ df['area_page'].sum()) * 100)"
   ]
  },
  {
   "cell_type": "code",
   "execution_count": 191,
   "metadata": {},
   "outputs": [
    {
     "data": {
      "text/plain": [
       "10.81912032517276"
      ]
     },
     "execution_count": 191,
     "metadata": {},
     "output_type": "execute_result"
    }
   ],
   "source": [
    "(((df_pixels[['blue']].sum(axis=1).sum())/ df['area_above_the_fold'].sum()) * 100)"
   ]
  },
  {
   "cell_type": "code",
   "execution_count": 192,
   "metadata": {},
   "outputs": [
    {
     "data": {
      "text/plain": [
       "47.569586025868475"
      ]
     },
     "execution_count": 192,
     "metadata": {},
     "output_type": "execute_result"
    }
   ],
   "source": [
    "(((df_pixels_fp[['blue']].sum(axis=1).sum())/ df['area_page'].sum()) * 100)"
   ]
  },
  {
   "cell_type": "markdown",
   "metadata": {},
   "source": [
    "Scenario 6"
   ]
  },
  {
   "cell_type": "code",
   "execution_count": 193,
   "metadata": {},
   "outputs": [
    {
     "data": {
      "text/plain": [
       "19.536891289680998"
      ]
     },
     "execution_count": 193,
     "metadata": {},
     "output_type": "execute_result"
    }
   ],
   "source": [
    "(((df_pixels[['blue', 'o']].sum(axis=1).sum())/ df['area_above_the_fold'].sum()) * 100)"
   ]
  },
  {
   "cell_type": "code",
   "execution_count": 195,
   "metadata": {},
   "outputs": [
    {
     "data": {
      "text/plain": [
       "54.12640483979874"
      ]
     },
     "execution_count": 195,
     "metadata": {},
     "output_type": "execute_result"
    }
   ],
   "source": [
    "(((df_pixels_fp[['blue', 'o']].sum(axis=1).sum())/ df['area_page'].sum()) * 100)"
   ]
  },
  {
   "cell_type": "code",
   "execution_count": 198,
   "metadata": {},
   "outputs": [
    {
     "data": {
      "text/plain": [
       "62.64918258336852"
      ]
     },
     "execution_count": 198,
     "metadata": {},
     "output_type": "execute_result"
    }
   ],
   "source": [
    "(((df_pixels[['g']].sum(axis=1).sum())/ df['area_above_the_fold'].sum()) * 100)"
   ]
  },
  {
   "cell_type": "code",
   "execution_count": 197,
   "metadata": {},
   "outputs": [
    {
     "data": {
      "text/plain": [
       "-0.026908325140098555"
      ]
     },
     "execution_count": 197,
     "metadata": {},
     "output_type": "execute_result"
    }
   ],
   "source": [
    "(((df_pixels_fp[['g']].sum(axis=1).sum())/ df['area_page'].sum()) * 100) - go_f"
   ]
  },
  {
   "cell_type": "code",
   "execution_count": 57,
   "metadata": {},
   "outputs": [],
   "source": [
    "attributed_answers = [\n",
    "    'answer-richtext',\n",
    "    'answer-feature_snippet_answer_short',\n",
    "    'answer-knowledge_panel_answer',\n",
    "    'answer-medical',\n",
    "    'answer-knowledge_health',\n",
    "    'answer-dictionary',\n",
    "]"
   ]
  },
  {
   "cell_type": "code",
   "execution_count": 58,
   "metadata": {},
   "outputs": [],
   "source": [
    "abv_answer = (df[df.category.isin(attributed_answers)].area_above_the_fold.sum() / df.area_above_the_fold.sum()) * 100"
   ]
  },
  {
   "cell_type": "code",
   "execution_count": 59,
   "metadata": {},
   "outputs": [
    {
     "data": {
      "text/plain": [
       "13.965193199580103"
      ]
     },
     "execution_count": 59,
     "metadata": {},
     "output_type": "execute_result"
    }
   ],
   "source": [
    "abv_answer"
   ]
  },
  {
   "cell_type": "code",
   "execution_count": 338,
   "metadata": {},
   "outputs": [
    {
     "data": {
      "text/plain": [
       "48.7348068004199"
      ]
     },
     "execution_count": 338,
     "metadata": {},
     "output_type": "execute_result"
    }
   ],
   "source": [
    "62.7 - abv_answer"
   ]
  },
  {
   "cell_type": "code",
   "execution_count": 342,
   "metadata": {},
   "outputs": [
    {
     "data": {
      "text/plain": [
       "33.1651931995801"
      ]
     },
     "execution_count": 342,
     "metadata": {},
     "output_type": "execute_result"
    }
   ],
   "source": [
    "19.2 + abv_answer"
   ]
  },
  {
   "cell_type": "code",
   "execution_count": 340,
   "metadata": {},
   "outputs": [],
   "source": [
    "abv_answer_fp = (df[df.category.isin(attributed_answers)].area_page.sum() / df.area_page.sum()) * 100"
   ]
  },
  {
   "cell_type": "code",
   "execution_count": 341,
   "metadata": {},
   "outputs": [
    {
     "data": {
      "text/plain": [
       "3.12644742649528"
      ]
     },
     "execution_count": 341,
     "metadata": {},
     "output_type": "execute_result"
    }
   ],
   "source": [
    "abv_answer_fp"
   ]
  },
  {
   "cell_type": "code",
   "execution_count": 349,
   "metadata": {},
   "outputs": [
    {
     "data": {
      "text/html": [
       "<div>\n",
       "<style scoped>\n",
       "    .dataframe tbody tr th:only-of-type {\n",
       "        vertical-align: middle;\n",
       "    }\n",
       "\n",
       "    .dataframe tbody tr th {\n",
       "        vertical-align: top;\n",
       "    }\n",
       "\n",
       "    .dataframe thead th {\n",
       "        text-align: right;\n",
       "    }\n",
       "</style>\n",
       "<table border=\"1\" class=\"dataframe\">\n",
       "  <thead>\n",
       "    <tr style=\"text-align: right;\">\n",
       "      <th></th>\n",
       "      <th>search_term</th>\n",
       "      <th>ad</th>\n",
       "      <th>o</th>\n",
       "      <th>g</th>\n",
       "      <th>amp</th>\n",
       "      <th>blue</th>\n",
       "      <th>e1</th>\n",
       "      <th>e2</th>\n",
       "      <th>e3</th>\n",
       "      <th>e4</th>\n",
       "    </tr>\n",
       "  </thead>\n",
       "  <tbody>\n",
       "    <tr>\n",
       "      <th>0</th>\n",
       "      <td>../data/input/google_search/iPhone-X/2019/11/0...</td>\n",
       "      <td>0.0</td>\n",
       "      <td>971.199951</td>\n",
       "      <td>161422.783975</td>\n",
       "      <td>0.00</td>\n",
       "      <td>0.0</td>\n",
       "      <td>0.005981</td>\n",
       "      <td>0.994019</td>\n",
       "      <td>0.000000</td>\n",
       "      <td>162393.983926</td>\n",
       "    </tr>\n",
       "    <tr>\n",
       "      <th>1</th>\n",
       "      <td>../data/input/google_search/iPhone-X/2019/11/0...</td>\n",
       "      <td>0.0</td>\n",
       "      <td>24290.000000</td>\n",
       "      <td>115277.333282</td>\n",
       "      <td>0.00</td>\n",
       "      <td>0.0</td>\n",
       "      <td>0.174038</td>\n",
       "      <td>0.825962</td>\n",
       "      <td>0.000000</td>\n",
       "      <td>139567.333282</td>\n",
       "    </tr>\n",
       "    <tr>\n",
       "      <th>2</th>\n",
       "      <td>../data/input/google_search/iPhone-X/2019/11/0...</td>\n",
       "      <td>114857.0</td>\n",
       "      <td>0.000000</td>\n",
       "      <td>0.000000</td>\n",
       "      <td>94004.00</td>\n",
       "      <td>17211.2</td>\n",
       "      <td>0.000000</td>\n",
       "      <td>0.000000</td>\n",
       "      <td>0.076131</td>\n",
       "      <td>0.415814</td>\n",
       "    </tr>\n",
       "    <tr>\n",
       "      <th>3</th>\n",
       "      <td>../data/input/google_search/iPhone-X/2019/11/0...</td>\n",
       "      <td>0.0</td>\n",
       "      <td>0.000000</td>\n",
       "      <td>190972.600098</td>\n",
       "      <td>45512.50</td>\n",
       "      <td>0.0</td>\n",
       "      <td>0.000000</td>\n",
       "      <td>0.807546</td>\n",
       "      <td>0.000000</td>\n",
       "      <td>190972.792552</td>\n",
       "    </tr>\n",
       "    <tr>\n",
       "      <th>4</th>\n",
       "      <td>../data/input/google_search/iPhone-X/2019/11/0...</td>\n",
       "      <td>0.0</td>\n",
       "      <td>37182.599951</td>\n",
       "      <td>165486.465210</td>\n",
       "      <td>0.00</td>\n",
       "      <td>0.0</td>\n",
       "      <td>0.183465</td>\n",
       "      <td>0.816535</td>\n",
       "      <td>0.000000</td>\n",
       "      <td>202669.065161</td>\n",
       "    </tr>\n",
       "    <tr>\n",
       "      <th>...</th>\n",
       "      <td>...</td>\n",
       "      <td>...</td>\n",
       "      <td>...</td>\n",
       "      <td>...</td>\n",
       "      <td>...</td>\n",
       "      <td>...</td>\n",
       "      <td>...</td>\n",
       "      <td>...</td>\n",
       "      <td>...</td>\n",
       "      <td>...</td>\n",
       "    </tr>\n",
       "    <tr>\n",
       "      <th>15264</th>\n",
       "      <td>../data/input/google_search/iPhone-X/2020/01/0...</td>\n",
       "      <td>0.0</td>\n",
       "      <td>42611.199951</td>\n",
       "      <td>72261.000000</td>\n",
       "      <td>0.00</td>\n",
       "      <td>0.0</td>\n",
       "      <td>0.370944</td>\n",
       "      <td>0.629056</td>\n",
       "      <td>0.000000</td>\n",
       "      <td>114872.199951</td>\n",
       "    </tr>\n",
       "    <tr>\n",
       "      <th>15265</th>\n",
       "      <td>../data/input/google_search/iPhone-X/2020/01/0...</td>\n",
       "      <td>0.0</td>\n",
       "      <td>29598.699951</td>\n",
       "      <td>176896.867676</td>\n",
       "      <td>0.00</td>\n",
       "      <td>0.0</td>\n",
       "      <td>0.143338</td>\n",
       "      <td>0.856662</td>\n",
       "      <td>0.000000</td>\n",
       "      <td>206495.567627</td>\n",
       "    </tr>\n",
       "    <tr>\n",
       "      <th>15266</th>\n",
       "      <td>../data/input/google_search/iPhone-X/2020/01/0...</td>\n",
       "      <td>0.0</td>\n",
       "      <td>0.000000</td>\n",
       "      <td>33242.745705</td>\n",
       "      <td>134386.00</td>\n",
       "      <td>0.0</td>\n",
       "      <td>0.000000</td>\n",
       "      <td>0.198312</td>\n",
       "      <td>0.000000</td>\n",
       "      <td>33243.547393</td>\n",
       "    </tr>\n",
       "    <tr>\n",
       "      <th>15267</th>\n",
       "      <td>../data/input/google_search/iPhone-X/2020/01/0...</td>\n",
       "      <td>0.0</td>\n",
       "      <td>17627.199951</td>\n",
       "      <td>105247.201416</td>\n",
       "      <td>0.00</td>\n",
       "      <td>0.0</td>\n",
       "      <td>0.143457</td>\n",
       "      <td>0.856543</td>\n",
       "      <td>0.000000</td>\n",
       "      <td>122874.401367</td>\n",
       "    </tr>\n",
       "    <tr>\n",
       "      <th>15268</th>\n",
       "      <td>../data/input/google_search/iPhone-X/2020/01/0...</td>\n",
       "      <td>0.0</td>\n",
       "      <td>16656.000000</td>\n",
       "      <td>110991.466309</td>\n",
       "      <td>52347.65</td>\n",
       "      <td>0.0</td>\n",
       "      <td>0.092536</td>\n",
       "      <td>0.616636</td>\n",
       "      <td>0.000000</td>\n",
       "      <td>127647.757137</td>\n",
       "    </tr>\n",
       "  </tbody>\n",
       "</table>\n",
       "<p>15269 rows × 10 columns</p>\n",
       "</div>"
      ],
      "text/plain": [
       "                                             search_term        ad  \\\n",
       "0      ../data/input/google_search/iPhone-X/2019/11/0...       0.0   \n",
       "1      ../data/input/google_search/iPhone-X/2019/11/0...       0.0   \n",
       "2      ../data/input/google_search/iPhone-X/2019/11/0...  114857.0   \n",
       "3      ../data/input/google_search/iPhone-X/2019/11/0...       0.0   \n",
       "4      ../data/input/google_search/iPhone-X/2019/11/0...       0.0   \n",
       "...                                                  ...       ...   \n",
       "15264  ../data/input/google_search/iPhone-X/2020/01/0...       0.0   \n",
       "15265  ../data/input/google_search/iPhone-X/2020/01/0...       0.0   \n",
       "15266  ../data/input/google_search/iPhone-X/2020/01/0...       0.0   \n",
       "15267  ../data/input/google_search/iPhone-X/2020/01/0...       0.0   \n",
       "15268  ../data/input/google_search/iPhone-X/2020/01/0...       0.0   \n",
       "\n",
       "                  o              g        amp     blue        e1        e2  \\\n",
       "0        971.199951  161422.783975       0.00      0.0  0.005981  0.994019   \n",
       "1      24290.000000  115277.333282       0.00      0.0  0.174038  0.825962   \n",
       "2          0.000000       0.000000   94004.00  17211.2  0.000000  0.000000   \n",
       "3          0.000000  190972.600098   45512.50      0.0  0.000000  0.807546   \n",
       "4      37182.599951  165486.465210       0.00      0.0  0.183465  0.816535   \n",
       "...             ...            ...        ...      ...       ...       ...   \n",
       "15264  42611.199951   72261.000000       0.00      0.0  0.370944  0.629056   \n",
       "15265  29598.699951  176896.867676       0.00      0.0  0.143338  0.856662   \n",
       "15266      0.000000   33242.745705  134386.00      0.0  0.000000  0.198312   \n",
       "15267  17627.199951  105247.201416       0.00      0.0  0.143457  0.856543   \n",
       "15268  16656.000000  110991.466309   52347.65      0.0  0.092536  0.616636   \n",
       "\n",
       "             e3             e4  \n",
       "0      0.000000  162393.983926  \n",
       "1      0.000000  139567.333282  \n",
       "2      0.076131       0.415814  \n",
       "3      0.000000  190972.792552  \n",
       "4      0.000000  202669.065161  \n",
       "...         ...            ...  \n",
       "15264  0.000000  114872.199951  \n",
       "15265  0.000000  206495.567627  \n",
       "15266  0.000000   33243.547393  \n",
       "15267  0.000000  122874.401367  \n",
       "15268  0.000000  127647.757137  \n",
       "\n",
       "[15269 rows x 10 columns]"
      ]
     },
     "execution_count": 349,
     "metadata": {},
     "output_type": "execute_result"
    }
   ],
   "source": [
    "df_pixels[df_pixels.o]"
   ]
  },
  {
   "cell_type": "code",
   "execution_count": null,
   "metadata": {},
   "outputs": [],
   "source": []
  }
 ],
 "metadata": {
  "kernelspec": {
   "display_name": "Python 3",
   "language": "python",
   "name": "python3"
  },
  "language_info": {
   "codemirror_mode": {
    "name": "ipython",
    "version": 3
   },
   "file_extension": ".py",
   "mimetype": "text/x-python",
   "name": "python",
   "nbconvert_exporter": "python",
   "pygments_lexer": "ipython3",
   "version": "3.8.1"
  }
 },
 "nbformat": 4,
 "nbformat_minor": 4
}
