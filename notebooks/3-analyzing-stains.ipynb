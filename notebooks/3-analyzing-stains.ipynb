{
 "cells": [
  {
   "cell_type": "markdown",
   "metadata": {},
   "source": [
    "# Data Analysis\n",
    "Author: Leon Yin<br>\n",
    "Date: 2020-2-03<br>\n",
    "\n",
    "This notebook analyses the results of the element categorization and area estimations from the last notebook."
   ]
  },
  {
   "cell_type": "code",
   "execution_count": 1,
   "metadata": {},
   "outputs": [],
   "source": [
    "%load_ext autoreload\n",
    "%autoreload 2\n",
    "%matplotlib inline"
   ]
  },
  {
   "cell_type": "code",
   "execution_count": 2,
   "metadata": {},
   "outputs": [
    {
     "data": {
      "application/javascript": [
       "MathJax.Hub.Config({\n",
       "    TeX: { equationNumbers: { autoNumber: \"AMS\" } }\n",
       "});\n"
      ],
      "text/plain": [
       "<IPython.core.display.Javascript object>"
      ]
     },
     "metadata": {},
     "output_type": "display_data"
    }
   ],
   "source": [
    "%%javascript\n",
    "MathJax.Hub.Config({\n",
    "    TeX: { equationNumbers: { autoNumber: \"AMS\" } }\n",
    "});"
   ]
  },
  {
   "cell_type": "code",
   "execution_count": 3,
   "metadata": {},
   "outputs": [],
   "source": [
    "import os\n",
    "import sys\n",
    "import json\n",
    "import time\n",
    "import glob\n",
    "import tempfile\n",
    "import warnings\n",
    "import inspect\n",
    "from collections import Counter\n",
    "from multiprocessing import Pool\n",
    "warnings.filterwarnings('ignore')\n",
    "\n",
    "import numpy as np\n",
    "import pandas as pd\n",
    "from scipy.stats import t\n",
    "import matplotlib.pyplot as plt\n",
    "from matplotlib.patches import Patch\n",
    "from bs4 import BeautifulSoup\n",
    "from tqdm import tqdm\n",
    "from IPython.display import display\n",
    "\n",
    "sys.path.append(\"..\")\n",
    "from utils.config import (\n",
    "    google_domains,\n",
    "    cat2color\n",
    ")"
   ]
  },
  {
   "cell_type": "code",
   "execution_count": 4,
   "metadata": {},
   "outputs": [],
   "source": [
    "# input\n",
    "fn_metadata = '../data/intermediary/element_metadata_15k.jsonl.gz'\n",
    "# fn_metadata = '/mnt/n1p1/data/platforms/google/experiment/intermediary__V1/element_metadata_15k.jsonl.gz'\n",
    "# output\n",
    "output_dir = '../data/output'\n",
    "tables_dir = os.path.join(output_dir, 'tables/')\n",
    "figure_dir = os.path.join(output_dir, 'figures/')\n",
    "appendix_dir = os.path.join(output_dir, 'appendix/')\n",
    "\n",
    "for d in [tables_dir, figure_dir, appendix_dir]:\n",
    "    os.makedirs(d, exist_ok=True)"
   ]
  },
  {
   "cell_type": "code",
   "execution_count": 5,
   "metadata": {},
   "outputs": [],
   "source": [
    "df = pd.read_json(fn_metadata, lines=True, \n",
    "                  compression='gzip')"
   ]
  },
  {
   "cell_type": "code",
   "execution_count": 6,
   "metadata": {},
   "outputs": [
    {
     "data": {
      "text/plain": [
       "15281"
      ]
     },
     "execution_count": 6,
     "metadata": {},
     "output_type": "execute_result"
    }
   ],
   "source": [
    "df.fn_input.nunique()"
   ]
  },
  {
   "cell_type": "code",
   "execution_count": 7,
   "metadata": {},
   "outputs": [
    {
     "name": "stdout",
     "output_type": "stream",
     "text": [
      "{\n",
      "  \"text\": \"\",\n",
      "  \"link\": null,\n",
      "  \"domain\": \"google.com\",\n",
      "  \"xpath\": \"/html/body/div[10]/div/div[6]/div/div[3]/div/div/div/sticky-header/div[2]/div/g-flippy-carousel/div/div/ol/li[1]/span/div/div/div[1]/div[3]/div[1]/div/div/div/div/div/div/div/image-viewer-group/div/div[1]/div/g-scrolling-carousel/div/div[1]/div/div[10]/div/a/g-inner-card/g-img/img\",\n",
      "  \"category\": \"link-img_reverse\",\n",
      "  \"tag\": \"img\",\n",
      "  \"attrs\": {\n",
      "    \"data-src\": \"https://encrypted-tbn0.gstatic.com/images?q=tbn:ANd9GcTVLrgX-sC4UO0nZNp4YKMnUXUMYneIcRLEA4tVAs7hxlIxAa0qeqkcXvIyNg&s\",\n",
      "    \"src\": \"data:image/gif;base64,R0lGODlhAQABAIAAAP///////yH5BAEKAAEALAAAAAABAAEAAAICTAEAOw==\",\n",
      "    \"jscontroller\": \"SvnKM\",\n",
      "    \"jsaction\": \"load:K1e2pe;lzy_img:eNYuKb;pr_lzy_img:KpWyKc;rcuQ6b:npT2md\",\n",
      "    \"class\": [\n",
      "      \"rISBZc\",\n",
      "      \"M4dUYb\"\n",
      "    ],\n",
      "    \"style\": \"margin-left:-51px;margin-right:-45px\",\n",
      "    \"alt\": \"Image result for Lizzy Caplan\",\n",
      "    \"data-atf\": \"4\",\n",
      "    \"width\": \"288\",\n",
      "    \"height\": \"144\"\n",
      "  },\n",
      "  \"dimensions\": {\n",
      "    \"height\": 144.0,\n",
      "    \"width\": 288.0\n",
      "  },\n",
      "  \"location\": {\n",
      "    \"x\": 1286,\n",
      "    \"y\": 311\n",
      "  },\n",
      "  \"area\": 0.0,\n",
      "  \"area_page\": 0.0,\n",
      "  \"fn_input\": \"../data/input/google_search/iPhone-X/2019/12/12/Lizzy-Caplan/html/webpage_raw.html\",\n",
      "  \"position_last_element\": 5685.0,\n",
      "  \"q1_area\": 0.0,\n",
      "  \"q2_area\": 0.0,\n",
      "  \"q3_area\": 0.0,\n",
      "  \"q4_area\": 0.0,\n",
      "  \"q5_area\": 0.0,\n",
      "  \"label\": \"link\",\n",
      "  \"category_standard\": \"google-images\"\n",
      "}\n"
     ]
    }
   ],
   "source": [
    "print(json.dumps(df.sample(1).iloc[-1].to_dict(), \n",
    "                 indent=2))"
   ]
  },
  {
   "cell_type": "code",
   "execution_count": 8,
   "metadata": {},
   "outputs": [
    {
     "data": {
      "text/plain": [
       "label\n",
       "link       0.388062\n",
       "answer     0.230052\n",
       "organic    0.192419\n",
       "amp        0.123685\n",
       "ads        0.065782\n",
       "Name: area, dtype: float64"
      ]
     },
     "execution_count": 8,
     "metadata": {},
     "output_type": "execute_result"
    }
   ],
   "source": [
    "# first glance\n",
    "df.groupby('label') \\\n",
    "  .area.sum() \\\n",
    "  .sort_values(ascending=False) / df.area.sum()"
   ]
  },
  {
   "cell_type": "code",
   "execution_count": 9,
   "metadata": {},
   "outputs": [
    {
     "data": {
      "text/plain": [
       "label\n",
       "organic    0.438363\n",
       "link       0.279153\n",
       "amp        0.137285\n",
       "answer     0.135438\n",
       "ads        0.009762\n",
       "Name: area_page, dtype: float64"
      ]
     },
     "execution_count": 9,
     "metadata": {},
     "output_type": "execute_result"
    }
   ],
   "source": [
    "# full page\n",
    "df.groupby('label') \\\n",
    "  .area_page.sum() \\\n",
    "  .sort_values(ascending=False)/ df.area_page.sum()"
   ]
  },
  {
   "cell_type": "markdown",
   "metadata": {},
   "source": [
    "## Breakdown of area and frequency for each category"
   ]
  },
  {
   "cell_type": "code",
   "execution_count": 10,
   "metadata": {},
   "outputs": [],
   "source": [
    "# get area per standardized category\n",
    "cat_area_ = (df.groupby('category_standard')\n",
    "               .area_page.sum()\n",
    "               .divide(df.area_page.sum()))\n",
    "\n",
    "cat_area =(df.groupby('category_standard')\n",
    "             .area.sum()\n",
    "             .divide(df.area.sum()))"
   ]
  },
  {
   "cell_type": "code",
   "execution_count": 11,
   "metadata": {},
   "outputs": [
    {
     "data": {
      "text/plain": [
       "category_standard\n",
       "ads                             0.065782\n",
       "amp-card                        0.117027\n",
       "amp-search_result               0.003847\n",
       "amp-visual_stories              0.002811\n",
       "google-answer                   0.198391\n",
       "google-expandable-answer        0.031661\n",
       "google-images                   0.142077\n",
       "google-knowledge-panel-links    0.080113\n",
       "google-maps                     0.015499\n",
       "google-misc                     0.097243\n",
       "google-search                   0.031657\n",
       "google-video                    0.021474\n",
       "organic                         0.072854\n",
       "organic-search_result           0.119564\n",
       "Name: area, dtype: float64"
      ]
     },
     "execution_count": 11,
     "metadata": {},
     "output_type": "execute_result"
    }
   ],
   "source": [
    "(df.groupby('category_standard')\n",
    "             .area.sum()\n",
    "             .divide(df.area.sum()))"
   ]
  },
  {
   "cell_type": "code",
   "execution_count": 12,
   "metadata": {},
   "outputs": [],
   "source": [
    "n_pages = df[df.area != 0].fn_input.nunique()"
   ]
  },
  {
   "cell_type": "code",
   "execution_count": 13,
   "metadata": {},
   "outputs": [],
   "source": [
    "# number of elements on first glance\n",
    "cat_count = Counter()\n",
    "for fn, _df in df[df.area != 0].groupby('fn_input'):\n",
    "    cat_count.update(_df.category_standard.unique())\n",
    "df_wc = pd.DataFrame(cat_count.most_common(50),\n",
    "                     columns=['category_standard', 'count'])\n",
    "df_wc['freq'] = df_wc['count'] / n_pages \n",
    "\n",
    "# number of elements on full page\n",
    "cat_count_ = Counter()\n",
    "for fn, _df in df[df.area_page != 0].groupby('fn_input'):\n",
    "    cat_count_.update(_df.category_standard.unique())\n",
    "df_wc_ = pd.DataFrame(cat_count_.most_common(50),\n",
    "                     columns=['category_standard', 'count_page'])\n",
    "df_wc_['freq_page'] = df_wc_['count_page'] / n_pages "
   ]
  },
  {
   "cell_type": "code",
   "execution_count": 14,
   "metadata": {},
   "outputs": [],
   "source": [
    "cat_amp = df[df.label == 'amp'].category_standard.unique()\n",
    "cat_sd = df[df.label == 'link'].category_standard.unique()\n",
    "cat_rt = df[df.label == 'answer'].category_standard.unique()\n",
    "cat_ad = df[df.label == 'ads'].category_standard.unique()\n",
    "cat_og = df[df.label == 'organic'].category_standard.unique()"
   ]
  },
  {
   "cell_type": "code",
   "execution_count": 15,
   "metadata": {},
   "outputs": [
    {
     "data": {
      "text/plain": [
       "array(['organic-search_result', 'organic'], dtype=object)"
      ]
     },
     "execution_count": 15,
     "metadata": {},
     "output_type": "execute_result"
    }
   ],
   "source": [
    "cat_og"
   ]
  },
  {
   "cell_type": "code",
   "execution_count": 16,
   "metadata": {},
   "outputs": [],
   "source": [
    "def format_number(x):\n",
    "    \"\"\"Makes it nice for printing\"\"\"\n",
    "    x = x * 100\n",
    "    x = round(x, 2)\n",
    "    return f\"{x}%\""
   ]
  },
  {
   "cell_type": "code",
   "execution_count": 17,
   "metadata": {},
   "outputs": [],
   "source": [
    "def breakdown(categories : list(), \n",
    "              col='category_standard'):\n",
    "    \"\"\"Shows the area coverage and page frequency for each category  \"\"\"\n",
    "    full_page =df_wc_[df_wc_[col].isin(categories)] \\\n",
    "            .join(cat_area_.to_frame(),\n",
    "                  on=col,\n",
    "                  how='left')\n",
    "\n",
    "    output = (df_wc[df_wc[col].isin(categories)]\n",
    "        .join(cat_area.to_frame(),\n",
    "              on=col,\n",
    "              how='left')\n",
    "        .sort_values(by=['area'], \n",
    "                     ascending=False)\n",
    "        .reset_index(drop=True)\n",
    "        .merge(full_page)\n",
    "    )\n",
    "    \n",
    "    output = output[[c for c in output.columns if 'count' not in c]]\n",
    "        \n",
    "    fg_area = output['area'].sum()\n",
    "    fp_area = output['area_page'].sum()\n",
    "    \n",
    "    output = output.append(\n",
    "        {'category_standard' : 'Total', \n",
    "         'freq' : np.nan, \n",
    "         'area' : fg_area, \n",
    "         'freq_page' : np.nan, \n",
    "         'area_page' : fp_area},\n",
    "        ignore_index=True\n",
    "    )\n",
    "    return output.set_index(col)\n"
   ]
  },
  {
   "cell_type": "markdown",
   "metadata": {},
   "source": [
    "## Breakdown of area and frequency for each category"
   ]
  },
  {
   "cell_type": "code",
   "execution_count": 18,
   "metadata": {},
   "outputs": [],
   "source": [
    "columns = [\n",
    "   ('Above the fold', 'area'),\n",
    "   ('Above the fold' , 'area'),\n",
    "   ('Full page', 'freq'),\n",
    "   ('Full page' , 'area'),\n",
    "]"
   ]
  },
  {
   "cell_type": "code",
   "execution_count": 19,
   "metadata": {},
   "outputs": [],
   "source": [
    "total_area = df['area'].sum()\n",
    "total_area_fp = df['area_page'].sum()\n",
    "n_pages = df.fn_input.nunique()"
   ]
  },
  {
   "cell_type": "code",
   "execution_count": 20,
   "metadata": {},
   "outputs": [],
   "source": [
    "label2publabel = {\n",
    "    'link' : 'Google Product',\n",
    "    'answer' : 'Google Answer',\n",
    "    'organic' : 'Organic',\n",
    "    'amp' : 'AMP',\n",
    "    'ads' : 'Ads'\n",
    "}"
   ]
  },
  {
   "cell_type": "code",
   "execution_count": 21,
   "metadata": {},
   "outputs": [],
   "source": [
    "labels = [\n",
    "    'organic',\n",
    "    'amp',\n",
    "    'link',\n",
    "    'answer',\n",
    "    'ads'\n",
    "]"
   ]
  },
  {
   "cell_type": "code",
   "execution_count": 22,
   "metadata": {},
   "outputs": [
    {
     "data": {
      "text/html": [
       "<div>\n",
       "<style scoped>\n",
       "    .dataframe tbody tr th:only-of-type {\n",
       "        vertical-align: middle;\n",
       "    }\n",
       "\n",
       "    .dataframe tbody tr th {\n",
       "        vertical-align: top;\n",
       "    }\n",
       "\n",
       "    .dataframe thead tr th {\n",
       "        text-align: left;\n",
       "    }\n",
       "\n",
       "    .dataframe thead tr:last-of-type th {\n",
       "        text-align: right;\n",
       "    }\n",
       "</style>\n",
       "<table border=\"1\" class=\"dataframe\">\n",
       "  <thead>\n",
       "    <tr>\n",
       "      <th></th>\n",
       "      <th colspan=\"2\" halign=\"left\">Above the fold</th>\n",
       "      <th colspan=\"2\" halign=\"left\">Full page</th>\n",
       "    </tr>\n",
       "    <tr>\n",
       "      <th></th>\n",
       "      <th>freq</th>\n",
       "      <th>area</th>\n",
       "      <th>freq</th>\n",
       "      <th>area</th>\n",
       "    </tr>\n",
       "    <tr>\n",
       "      <th>category_standard</th>\n",
       "      <th></th>\n",
       "      <th></th>\n",
       "      <th></th>\n",
       "      <th></th>\n",
       "    </tr>\n",
       "  </thead>\n",
       "  <tbody>\n",
       "    <tr>\n",
       "      <th>ads</th>\n",
       "      <td>7.87%</td>\n",
       "      <td>6.58%</td>\n",
       "      <td>9.52%</td>\n",
       "      <td>0.98%</td>\n",
       "    </tr>\n",
       "    <tr>\n",
       "      <th>Total</th>\n",
       "      <td>nan%</td>\n",
       "      <td>6.58%</td>\n",
       "      <td>nan%</td>\n",
       "      <td>0.98%</td>\n",
       "    </tr>\n",
       "  </tbody>\n",
       "</table>\n",
       "</div>"
      ],
      "text/plain": [
       "                  Above the fold        Full page       \n",
       "                            freq   area      freq   area\n",
       "category_standard                                       \n",
       "ads                        7.87%  6.58%     9.52%  0.98%\n",
       "Total                       nan%  6.58%      nan%  0.98%"
      ]
     },
     "metadata": {},
     "output_type": "display_data"
    },
    {
     "data": {
      "text/html": [
       "<div>\n",
       "<style scoped>\n",
       "    .dataframe tbody tr th:only-of-type {\n",
       "        vertical-align: middle;\n",
       "    }\n",
       "\n",
       "    .dataframe tbody tr th {\n",
       "        vertical-align: top;\n",
       "    }\n",
       "\n",
       "    .dataframe thead tr th {\n",
       "        text-align: left;\n",
       "    }\n",
       "\n",
       "    .dataframe thead tr:last-of-type th {\n",
       "        text-align: right;\n",
       "    }\n",
       "</style>\n",
       "<table border=\"1\" class=\"dataframe\">\n",
       "  <thead>\n",
       "    <tr>\n",
       "      <th></th>\n",
       "      <th colspan=\"2\" halign=\"left\">Above the fold</th>\n",
       "      <th colspan=\"2\" halign=\"left\">Full page</th>\n",
       "    </tr>\n",
       "    <tr>\n",
       "      <th></th>\n",
       "      <th>freq</th>\n",
       "      <th>area</th>\n",
       "      <th>freq</th>\n",
       "      <th>area</th>\n",
       "    </tr>\n",
       "    <tr>\n",
       "      <th>category_standard</th>\n",
       "      <th></th>\n",
       "      <th></th>\n",
       "      <th></th>\n",
       "      <th></th>\n",
       "    </tr>\n",
       "  </thead>\n",
       "  <tbody>\n",
       "    <tr>\n",
       "      <th>amp-card</th>\n",
       "      <td>17.61%</td>\n",
       "      <td>11.7%</td>\n",
       "      <td>60.96%</td>\n",
       "      <td>4.82%</td>\n",
       "    </tr>\n",
       "    <tr>\n",
       "      <th>amp-search_result</th>\n",
       "      <td>1.13%</td>\n",
       "      <td>0.38%</td>\n",
       "      <td>65.56%</td>\n",
       "      <td>8.8%</td>\n",
       "    </tr>\n",
       "    <tr>\n",
       "      <th>amp-visual_stories</th>\n",
       "      <td>1.88%</td>\n",
       "      <td>0.28%</td>\n",
       "      <td>5.51%</td>\n",
       "      <td>0.11%</td>\n",
       "    </tr>\n",
       "    <tr>\n",
       "      <th>Total</th>\n",
       "      <td>nan%</td>\n",
       "      <td>12.37%</td>\n",
       "      <td>nan%</td>\n",
       "      <td>13.73%</td>\n",
       "    </tr>\n",
       "  </tbody>\n",
       "</table>\n",
       "</div>"
      ],
      "text/plain": [
       "                   Above the fold         Full page        \n",
       "                             freq    area      freq    area\n",
       "category_standard                                          \n",
       "amp-card                   17.61%   11.7%    60.96%   4.82%\n",
       "amp-search_result           1.13%   0.38%    65.56%    8.8%\n",
       "amp-visual_stories          1.88%   0.28%     5.51%   0.11%\n",
       "Total                        nan%  12.37%      nan%  13.73%"
      ]
     },
     "metadata": {},
     "output_type": "display_data"
    },
    {
     "data": {
      "text/html": [
       "<div>\n",
       "<style scoped>\n",
       "    .dataframe tbody tr th:only-of-type {\n",
       "        vertical-align: middle;\n",
       "    }\n",
       "\n",
       "    .dataframe tbody tr th {\n",
       "        vertical-align: top;\n",
       "    }\n",
       "\n",
       "    .dataframe thead tr th {\n",
       "        text-align: left;\n",
       "    }\n",
       "\n",
       "    .dataframe thead tr:last-of-type th {\n",
       "        text-align: right;\n",
       "    }\n",
       "</style>\n",
       "<table border=\"1\" class=\"dataframe\">\n",
       "  <thead>\n",
       "    <tr>\n",
       "      <th></th>\n",
       "      <th colspan=\"2\" halign=\"left\">Above the fold</th>\n",
       "      <th colspan=\"2\" halign=\"left\">Full page</th>\n",
       "    </tr>\n",
       "    <tr>\n",
       "      <th></th>\n",
       "      <th>freq</th>\n",
       "      <th>area</th>\n",
       "      <th>freq</th>\n",
       "      <th>area</th>\n",
       "    </tr>\n",
       "    <tr>\n",
       "      <th>category_standard</th>\n",
       "      <th></th>\n",
       "      <th></th>\n",
       "      <th></th>\n",
       "      <th></th>\n",
       "    </tr>\n",
       "  </thead>\n",
       "  <tbody>\n",
       "    <tr>\n",
       "      <th>google-answer</th>\n",
       "      <td>59.7%</td>\n",
       "      <td>19.84%</td>\n",
       "      <td>93.89%</td>\n",
       "      <td>5.68%</td>\n",
       "    </tr>\n",
       "    <tr>\n",
       "      <th>google-expandable-answer</th>\n",
       "      <td>12.42%</td>\n",
       "      <td>3.17%</td>\n",
       "      <td>89.16%</td>\n",
       "      <td>7.86%</td>\n",
       "    </tr>\n",
       "    <tr>\n",
       "      <th>Total</th>\n",
       "      <td>nan%</td>\n",
       "      <td>23.01%</td>\n",
       "      <td>nan%</td>\n",
       "      <td>13.54%</td>\n",
       "    </tr>\n",
       "  </tbody>\n",
       "</table>\n",
       "</div>"
      ],
      "text/plain": [
       "                         Above the fold         Full page        \n",
       "                                   freq    area      freq    area\n",
       "category_standard                                                \n",
       "google-answer                     59.7%  19.84%    93.89%   5.68%\n",
       "google-expandable-answer         12.42%   3.17%    89.16%   7.86%\n",
       "Total                              nan%  23.01%      nan%  13.54%"
      ]
     },
     "metadata": {},
     "output_type": "display_data"
    },
    {
     "data": {
      "text/html": [
       "<div>\n",
       "<style scoped>\n",
       "    .dataframe tbody tr th:only-of-type {\n",
       "        vertical-align: middle;\n",
       "    }\n",
       "\n",
       "    .dataframe tbody tr th {\n",
       "        vertical-align: top;\n",
       "    }\n",
       "\n",
       "    .dataframe thead tr th {\n",
       "        text-align: left;\n",
       "    }\n",
       "\n",
       "    .dataframe thead tr:last-of-type th {\n",
       "        text-align: right;\n",
       "    }\n",
       "</style>\n",
       "<table border=\"1\" class=\"dataframe\">\n",
       "  <thead>\n",
       "    <tr>\n",
       "      <th></th>\n",
       "      <th colspan=\"2\" halign=\"left\">Above the fold</th>\n",
       "      <th colspan=\"2\" halign=\"left\">Full page</th>\n",
       "    </tr>\n",
       "    <tr>\n",
       "      <th></th>\n",
       "      <th>freq</th>\n",
       "      <th>area</th>\n",
       "      <th>freq</th>\n",
       "      <th>area</th>\n",
       "    </tr>\n",
       "    <tr>\n",
       "      <th>category_standard</th>\n",
       "      <th></th>\n",
       "      <th></th>\n",
       "      <th></th>\n",
       "      <th></th>\n",
       "    </tr>\n",
       "  </thead>\n",
       "  <tbody>\n",
       "    <tr>\n",
       "      <th>google-images</th>\n",
       "      <td>57.5%</td>\n",
       "      <td>14.21%</td>\n",
       "      <td>83.21%</td>\n",
       "      <td>2.63%</td>\n",
       "    </tr>\n",
       "    <tr>\n",
       "      <th>google-misc</th>\n",
       "      <td>62.02%</td>\n",
       "      <td>9.72%</td>\n",
       "      <td>98.78%</td>\n",
       "      <td>3.48%</td>\n",
       "    </tr>\n",
       "    <tr>\n",
       "      <th>google-knowledge-panel-links</th>\n",
       "      <td>66.98%</td>\n",
       "      <td>8.01%</td>\n",
       "      <td>73.93%</td>\n",
       "      <td>1.13%</td>\n",
       "    </tr>\n",
       "    <tr>\n",
       "      <th>google-search</th>\n",
       "      <td>21.45%</td>\n",
       "      <td>3.17%</td>\n",
       "      <td>99.97%</td>\n",
       "      <td>16.42%</td>\n",
       "    </tr>\n",
       "    <tr>\n",
       "      <th>google-video</th>\n",
       "      <td>11.48%</td>\n",
       "      <td>2.15%</td>\n",
       "      <td>59.38%</td>\n",
       "      <td>3.87%</td>\n",
       "    </tr>\n",
       "    <tr>\n",
       "      <th>google-maps</th>\n",
       "      <td>5.73%</td>\n",
       "      <td>1.55%</td>\n",
       "      <td>9.61%</td>\n",
       "      <td>0.39%</td>\n",
       "    </tr>\n",
       "    <tr>\n",
       "      <th>Total</th>\n",
       "      <td>nan%</td>\n",
       "      <td>38.81%</td>\n",
       "      <td>nan%</td>\n",
       "      <td>27.92%</td>\n",
       "    </tr>\n",
       "  </tbody>\n",
       "</table>\n",
       "</div>"
      ],
      "text/plain": [
       "                             Above the fold         Full page        \n",
       "                                       freq    area      freq    area\n",
       "category_standard                                                    \n",
       "google-images                         57.5%  14.21%    83.21%   2.63%\n",
       "google-misc                          62.02%   9.72%    98.78%   3.48%\n",
       "google-knowledge-panel-links         66.98%   8.01%    73.93%   1.13%\n",
       "google-search                        21.45%   3.17%    99.97%  16.42%\n",
       "google-video                         11.48%   2.15%    59.38%   3.87%\n",
       "google-maps                           5.73%   1.55%     9.61%   0.39%\n",
       "Total                                  nan%  38.81%      nan%  27.92%"
      ]
     },
     "metadata": {},
     "output_type": "display_data"
    },
    {
     "data": {
      "text/html": [
       "<div>\n",
       "<style scoped>\n",
       "    .dataframe tbody tr th:only-of-type {\n",
       "        vertical-align: middle;\n",
       "    }\n",
       "\n",
       "    .dataframe tbody tr th {\n",
       "        vertical-align: top;\n",
       "    }\n",
       "\n",
       "    .dataframe thead tr th {\n",
       "        text-align: left;\n",
       "    }\n",
       "\n",
       "    .dataframe thead tr:last-of-type th {\n",
       "        text-align: right;\n",
       "    }\n",
       "</style>\n",
       "<table border=\"1\" class=\"dataframe\">\n",
       "  <thead>\n",
       "    <tr>\n",
       "      <th></th>\n",
       "      <th colspan=\"2\" halign=\"left\">Above the fold</th>\n",
       "      <th colspan=\"2\" halign=\"left\">Full page</th>\n",
       "    </tr>\n",
       "    <tr>\n",
       "      <th></th>\n",
       "      <th>freq</th>\n",
       "      <th>area</th>\n",
       "      <th>freq</th>\n",
       "      <th>area</th>\n",
       "    </tr>\n",
       "    <tr>\n",
       "      <th>category_standard</th>\n",
       "      <th></th>\n",
       "      <th></th>\n",
       "      <th></th>\n",
       "      <th></th>\n",
       "    </tr>\n",
       "  </thead>\n",
       "  <tbody>\n",
       "    <tr>\n",
       "      <th>organic-search_result</th>\n",
       "      <td>23.49%</td>\n",
       "      <td>11.96%</td>\n",
       "      <td>99.94%</td>\n",
       "      <td>37.23%</td>\n",
       "    </tr>\n",
       "    <tr>\n",
       "      <th>organic</th>\n",
       "      <td>64.2%</td>\n",
       "      <td>7.29%</td>\n",
       "      <td>94.97%</td>\n",
       "      <td>6.61%</td>\n",
       "    </tr>\n",
       "    <tr>\n",
       "      <th>Total</th>\n",
       "      <td>nan%</td>\n",
       "      <td>19.24%</td>\n",
       "      <td>nan%</td>\n",
       "      <td>43.84%</td>\n",
       "    </tr>\n",
       "  </tbody>\n",
       "</table>\n",
       "</div>"
      ],
      "text/plain": [
       "                      Above the fold         Full page        \n",
       "                                freq    area      freq    area\n",
       "category_standard                                             \n",
       "organic-search_result         23.49%  11.96%    99.94%  37.23%\n",
       "organic                        64.2%   7.29%    94.97%   6.61%\n",
       "Total                           nan%  19.24%      nan%  43.84%"
      ]
     },
     "metadata": {},
     "output_type": "display_data"
    }
   ],
   "source": [
    "df_cat_agg = pd.DataFrame()\n",
    "for categories in [cat_ad, cat_amp, cat_rt, cat_sd, cat_og]:\n",
    "    output = breakdown(categories)\n",
    "    df_cat_agg = df_cat_agg.append(output)\n",
    "    \n",
    "    output.columns = pd.MultiIndex.from_tuples([\n",
    "       ('Above the fold', 'freq'),\n",
    "       ('Above the fold' , 'area'),\n",
    "       ('Full page', 'freq'),\n",
    "       ('Full page' , 'area'),\n",
    "    ])\n",
    "    for c, dtype in output.dtypes.items():\n",
    "        if pd.api.types.is_numeric_dtype(output[c]):\n",
    "            output[c] = output[c].apply(format_number)\n",
    "    \n",
    "    display(output)"
   ]
  },
  {
   "cell_type": "code",
   "execution_count": 23,
   "metadata": {},
   "outputs": [],
   "source": [
    "total_area = df['q1_area'].sum()"
   ]
  },
  {
   "cell_type": "code",
   "execution_count": 24,
   "metadata": {},
   "outputs": [
    {
     "name": "stdout",
     "output_type": "stream",
     "text": [
      "               Above the fold        First page        \n",
      "                         area   freq       area    freq\n",
      "Organic                 24.2%  89.8%      43.8%  100.0%\n",
      "AMP                     10.9%  27.0%      13.7%   80.7%\n",
      "Google Product          37.7%  95.3%      27.9%  100.0%\n",
      "Google Answer           22.4%  78.1%      13.5%   99.3%\n",
      "Ads                      4.9%   8.5%       1.0%    9.5%\n"
     ]
    }
   ],
   "source": [
    "data = {}\n",
    "for label in labels:\n",
    "    _df = df[df.label == label]\n",
    "    area = (_df['q1_area'].sum() / total_area)\n",
    "    freq = _df[_df['q1_area'] != 0].fn_input.nunique() / n_pages\n",
    "    \n",
    "    area_page = (_df['area_page'].sum() / total_area_fp)\n",
    "    freq_page = _df[_df['area_page'] != 0].fn_input.nunique() / n_pages\n",
    "    \n",
    "    data[label2publabel.get(label,label)] = {\n",
    "        ('Above the fold', 'area') : area,\n",
    "        ('Above the fold', 'freq') : freq,\n",
    "        ('First page', 'area') : area_page,\n",
    "        ('First page', 'freq') : freq_page,\n",
    "    }\n",
    "    \n",
    "cat_breakdown = pd.DataFrame(data).T\n",
    "cat_breakdown.columns = pd.MultiIndex.from_tuples([\n",
    "    ('Above the fold', 'area'),\n",
    "    ('Above the fold', 'freq'),\n",
    "    ('First page', 'area'),\n",
    "    ('First page', 'freq'),\n",
    "])\n",
    "print((cat_breakdown * 100).round(1).astype(str) + '%')"
   ]
  },
  {
   "cell_type": "code",
   "execution_count": 25,
   "metadata": {},
   "outputs": [],
   "source": [
    "fn_cats = '../data/output/tables/T1_area_freq_by_category.csv'\n",
    "cat_breakdown.to_csv(fn_cats)"
   ]
  },
  {
   "cell_type": "markdown",
   "metadata": {},
   "source": [
    "## Ratios"
   ]
  },
  {
   "cell_type": "code",
   "execution_count": 26,
   "metadata": {},
   "outputs": [],
   "source": [
    "labels = [\n",
    "    'organic',\n",
    "    'amp',\n",
    "    'answer',\n",
    "    'link',\n",
    "    'ads'\n",
    "]"
   ]
  },
  {
   "cell_type": "code",
   "execution_count": 28,
   "metadata": {},
   "outputs": [],
   "source": [
    "area_cols = ['q1_area', 'q2_area', \n",
    "             'q3_area', 'q4_area',\n",
    "             'q5_area', 'area_page']"
   ]
  },
  {
   "cell_type": "code",
   "execution_count": 123,
   "metadata": {},
   "outputs": [],
   "source": [
    "new_index = [\n",
    "    'Top fifth',\n",
    "    'Second place',\n",
    "    'Middle',\n",
    "    'Fourth',\n",
    "    'The last bit',\n",
    "    'The whole page'\n",
    "]\n",
    "\n",
    "label2label = {\n",
    "    'organic' : 'Non-Google',\n",
    "    'amp' : 'AMP',\n",
    "    'answer' : 'Google Answer',\n",
    "    'link' : 'Google Product',\n",
    "    'ads' : \"Ads\",\n",
    "}"
   ]
  },
  {
   "cell_type": "code",
   "execution_count": 37,
   "metadata": {},
   "outputs": [],
   "source": [
    "from matplotlib.lines import Line2D\n",
    "\n",
    "legend_elements = [Line2D([0], [0], marker='o', color='w', \n",
    "                          label=label2label.get(label),\n",
    "                          markerfacecolor=c, markersize=10)\n",
    "                   for label, c in cat2color.items()]"
   ]
  },
  {
   "cell_type": "code",
   "execution_count": 29,
   "metadata": {},
   "outputs": [
    {
     "name": "stderr",
     "output_type": "stream",
     "text": [
      "100%|██████████| 6/6 [00:04<00:00,  1.35it/s]\n"
     ]
    }
   ],
   "source": [
    "data = []\n",
    "for q in tqdm(area_cols):\n",
    "    _df = df[df[q] > 0]\n",
    "    total_area = _df[q].sum()\n",
    "    row = {'quantile' : q.replace('_area', '')}\n",
    "    for label in labels:\n",
    "        __df = _df[_df.label == label]\n",
    "        area = (__df[q].sum() / total_area)\n",
    "        freq = __df.fn_input.nunique() / n_pages\n",
    "        row['area', label2publabel.get(label,label)] = area\n",
    "        row['freq', label2publabel.get(label,label)] = freq\n",
    "    data.append(row)"
   ]
  },
  {
   "cell_type": "code",
   "execution_count": 30,
   "metadata": {},
   "outputs": [],
   "source": [
    "quantiles = pd.DataFrame(data)\n",
    "quantiles.set_index('quantile', inplace=True)\n",
    "quantiles.columns = pd.MultiIndex.from_tuples(quantiles.columns)"
   ]
  },
  {
   "cell_type": "code",
   "execution_count": null,
   "metadata": {},
   "outputs": [],
   "source": [
    "# quantiles = quantiles.reindex(sorted(quantiles.columns), axis=1)"
   ]
  },
  {
   "cell_type": "code",
   "execution_count": 31,
   "metadata": {},
   "outputs": [
    {
     "data": {
      "text/html": [
       "<div>\n",
       "<style scoped>\n",
       "    .dataframe tbody tr th:only-of-type {\n",
       "        vertical-align: middle;\n",
       "    }\n",
       "\n",
       "    .dataframe tbody tr th {\n",
       "        vertical-align: top;\n",
       "    }\n",
       "\n",
       "    .dataframe thead tr th {\n",
       "        text-align: left;\n",
       "    }\n",
       "\n",
       "    .dataframe thead tr:last-of-type th {\n",
       "        text-align: right;\n",
       "    }\n",
       "</style>\n",
       "<table border=\"1\" class=\"dataframe\">\n",
       "  <thead>\n",
       "    <tr>\n",
       "      <th></th>\n",
       "      <th colspan=\"5\" halign=\"left\">area</th>\n",
       "    </tr>\n",
       "    <tr>\n",
       "      <th></th>\n",
       "      <th>Organic</th>\n",
       "      <th>AMP</th>\n",
       "      <th>Google Product</th>\n",
       "      <th>Google Answer</th>\n",
       "      <th>Ads</th>\n",
       "    </tr>\n",
       "    <tr>\n",
       "      <th>quantile</th>\n",
       "      <th></th>\n",
       "      <th></th>\n",
       "      <th></th>\n",
       "      <th></th>\n",
       "      <th></th>\n",
       "    </tr>\n",
       "  </thead>\n",
       "  <tbody>\n",
       "    <tr>\n",
       "      <th>q1</th>\n",
       "      <td>0.241650</td>\n",
       "      <td>0.108878</td>\n",
       "      <td>0.376617</td>\n",
       "      <td>0.224274</td>\n",
       "      <td>0.048582</td>\n",
       "    </tr>\n",
       "    <tr>\n",
       "      <th>q2</th>\n",
       "      <td>0.500270</td>\n",
       "      <td>0.109206</td>\n",
       "      <td>0.249562</td>\n",
       "      <td>0.140138</td>\n",
       "      <td>0.000824</td>\n",
       "    </tr>\n",
       "    <tr>\n",
       "      <th>q3</th>\n",
       "      <td>0.508818</td>\n",
       "      <td>0.130691</td>\n",
       "      <td>0.233076</td>\n",
       "      <td>0.127393</td>\n",
       "      <td>0.000021</td>\n",
       "    </tr>\n",
       "    <tr>\n",
       "      <th>q4</th>\n",
       "      <td>0.667625</td>\n",
       "      <td>0.228955</td>\n",
       "      <td>0.070214</td>\n",
       "      <td>0.032174</td>\n",
       "      <td>0.001032</td>\n",
       "    </tr>\n",
       "    <tr>\n",
       "      <th>q5</th>\n",
       "      <td>0.234595</td>\n",
       "      <td>0.095674</td>\n",
       "      <td>0.491268</td>\n",
       "      <td>0.174454</td>\n",
       "      <td>0.004009</td>\n",
       "    </tr>\n",
       "    <tr>\n",
       "      <th>area_page</th>\n",
       "      <td>0.438363</td>\n",
       "      <td>0.137285</td>\n",
       "      <td>0.279153</td>\n",
       "      <td>0.135438</td>\n",
       "      <td>0.009762</td>\n",
       "    </tr>\n",
       "  </tbody>\n",
       "</table>\n",
       "</div>"
      ],
      "text/plain": [
       "               area                                                 \n",
       "            Organic       AMP Google Product Google Answer       Ads\n",
       "quantile                                                            \n",
       "q1         0.241650  0.108878       0.376617      0.224274  0.048582\n",
       "q2         0.500270  0.109206       0.249562      0.140138  0.000824\n",
       "q3         0.508818  0.130691       0.233076      0.127393  0.000021\n",
       "q4         0.667625  0.228955       0.070214      0.032174  0.001032\n",
       "q5         0.234595  0.095674       0.491268      0.174454  0.004009\n",
       "area_page  0.438363  0.137285       0.279153      0.135438  0.009762"
      ]
     },
     "execution_count": 31,
     "metadata": {},
     "output_type": "execute_result"
    }
   ],
   "source": [
    "quantiles.loc[:,quantiles.columns.get_level_values(0) == 'area']"
   ]
  },
  {
   "cell_type": "code",
   "execution_count": 38,
   "metadata": {},
   "outputs": [
    {
     "data": {
      "text/plain": [
       "<matplotlib.legend.Legend at 0x7fcc3ff4e3a0>"
      ]
     },
     "execution_count": 38,
     "metadata": {},
     "output_type": "execute_result"
    },
    {
     "data": {
      "image/png": "[encoded data removed]",
      "text/plain": [
       "<Figure size 432x792 with 1 Axes>"
      ]
     },
     "metadata": {
      "needs_background": "light"
     },
     "output_type": "display_data"
    }
   ],
   "source": [
    "viz = quantiles.loc[:,quantiles.columns.get_level_values(0) == 'area']\n",
    "viz.index = new_index\n",
    "ax = viz[::-1].plot(\n",
    "    kind='barh', \n",
    "    stacked=True,\n",
    "    legend=False,\n",
    "    figsize=(6, 11),\n",
    "    width=.93,\n",
    "    color = [cat2color.get(c) for c in labels],\n",
    "    title=\"What's on a Google search page as you go down?\"\n",
    ")\n",
    "\n",
    "ax.set_xlabel(\"Percentage of section covered by module\")\n",
    "# plt.gca().yaxis.grid(True)\n",
    "\n",
    "# Hide the right and top spines\n",
    "ax.spines['right'].set_visible(False)\n",
    "ax.spines['top'].set_visible(False)\n",
    "\n",
    "# Only show ticks on the left and bottom spines\n",
    "ax.yaxis.set_ticks_position('left')\n",
    "ax.xaxis.set_ticks_position('bottom')\n",
    "\n",
    "# ax.xaxis.set_visible(False)\n",
    "ax.legend(handles=legend_elements, bbox_to_anchor=(1.0, 0.5))"
   ]
  },
  {
   "cell_type": "markdown",
   "metadata": {},
   "source": [
    "## Histogram of Google-occupied pixels"
   ]
  },
  {
   "cell_type": "markdown",
   "metadata": {},
   "source": [
    "\\begin{equation}\n",
    "X_{o} = \\frac{o}{o + g + amp + ad}\n",
    "\\end{equation}\n",
    "\n",
    "\\begin{equation}\n",
    "X_{o} = \\frac{tsl}{o + g + amp + ad}\n",
    "\\end{equation}\n",
    "\n",
    "Where <br>\n",
    "&nbsp;&nbsp;&nbsp;&nbsp; $X_{o}$: is the percentage of real estate that occupy non-Google elements.<br>\n",
    "&nbsp;&nbsp;&nbsp;&nbsp; $g$: is the total sum of variable real estate pixels occupied by Google links and answers.<br>\n",
    "&nbsp;&nbsp;&nbsp;&nbsp; $o$: is the total sum of variable real estate pixels occupied by Organic links.<br>\n",
    "&nbsp;&nbsp;&nbsp;&nbsp; $ad$: is the total sum of variable real estate pixels occupied by ads.<br>\n",
    "&nbsp;&nbsp;&nbsp;&nbsp; $amp$: is the total sum of variable real estate pixels occupied by AMP.<br>\n",
    "&nbsp;&nbsp;&nbsp;&nbsp; $tsl$: is the total sum of variable real estate pixels occupied by traditional organic, amp and YouTube search listings.<br>"
   ]
  },
  {
   "cell_type": "code",
   "execution_count": 125,
   "metadata": {},
   "outputs": [],
   "source": [
    "blue_link_categories = [\n",
    "    'organic-search_result',\n",
    "    'amp-search_result',\n",
    "    'link-youtube_search_result'\n",
    "]"
   ]
  },
  {
   "cell_type": "code",
   "execution_count": 56,
   "metadata": {},
   "outputs": [
    {
     "name": "stderr",
     "output_type": "stream",
     "text": [
      "100%|██████████| 15281/15281 [04:00<00:00, 63.54it/s]\n"
     ]
    }
   ],
   "source": [
    "pixels = {c : list() for c in area_cols}\n",
    "for search, df_ in tqdm(df.groupby('fn_input')):\n",
    "    for col in area_cols:\n",
    "        ad = df_[df_.label == 'ads'][col].sum()\n",
    "        o = df_[df_.label == 'organic'][col].sum()\n",
    "        o_sr =  df_[\n",
    "            df_.category_standard.isin(blue_link_categories)\n",
    "        ][col].sum()\n",
    "        g = df_[(df_.label == 'link') | \n",
    "                (df_.label == 'answer')][col].sum()\n",
    "        amp = df_[df_.label == 'amp'][col].sum()\n",
    "\n",
    "        e1 =  o / (g + ad + o + amp)\n",
    "        e2 = o_sr / (g + ad + o + amp)\n",
    "\n",
    "        row = {\n",
    "            'search_term' : search,\n",
    "            'ad' : ad,\n",
    "            'o' : o,\n",
    "            'g' : g,\n",
    "            'amp' : amp,\n",
    "            'e1' : e1,\n",
    "            'e2' : e2,\n",
    "        }\n",
    "\n",
    "        pixels[col].append(row)\n",
    "    \n",
    "df_pixels = pd.DataFrame(pixels['q1_area'])\n",
    "df_pixels_fp = pd.DataFrame(pixels['area_page'])"
   ]
  },
  {
   "cell_type": "code",
   "execution_count": 57,
   "metadata": {},
   "outputs": [],
   "source": [
    "df_pixels = pd.DataFrame(pixels['q1_area'])\n",
    "df_pixels_fp = pd.DataFrame(pixels['area_page'])"
   ]
  },
  {
   "cell_type": "code",
   "execution_count": 58,
   "metadata": {},
   "outputs": [],
   "source": [
    "df_pixels.e1.fillna(0, inplace=True)\n",
    "df_pixels.e2.fillna(0, inplace=True)"
   ]
  },
  {
   "cell_type": "code",
   "execution_count": 59,
   "metadata": {},
   "outputs": [],
   "source": [
    "fn_pixels = '../data/intermediary/pixels_above_the_fold.csv'\n",
    "fn_pixels_page = '../data/intermediary/pixels_page.csv'"
   ]
  },
  {
   "cell_type": "code",
   "execution_count": 60,
   "metadata": {},
   "outputs": [],
   "source": [
    "df_pixels.to_csv(fn_pixels, index=False)\n",
    "df_pixels_fp.to_csv(fn_pixels_page, index=False)"
   ]
  },
  {
   "cell_type": "code",
   "execution_count": 48,
   "metadata": {},
   "outputs": [],
   "source": [
    "# df_pixels[\n",
    "#     (df_pixels.ad > 1) &\n",
    "#     (df_pixels.o > 1) &\n",
    "#     (df_pixels.g > 1) &\n",
    "#     (df_pixels.amp > 1)\n",
    "# ].search_term.head(20).tolist()"
   ]
  },
  {
   "cell_type": "code",
   "execution_count": 61,
   "metadata": {},
   "outputs": [],
   "source": [
    "def hist(series, color='black', \n",
    "         title=None, \n",
    "         fn_out=None,\n",
    "         left_right_annotations = (None, None)):\n",
    "    ax = series.plot(kind='hist', \n",
    "                           figsize=(10,6),\n",
    "                           bins=10, \n",
    "                           rwidth=.95,\n",
    "                           color=color,\n",
    "                           alpha=.9,\n",
    "                           title=title)\n",
    "\n",
    "    ax.tick_params(axis=\"both\", which=\"both\", bottom=\"off\", \n",
    "                   top=\"off\", labelbottom=\"on\", left=\"off\", \n",
    "                   right=\"off\", labelleft=\"on\")\n",
    "\n",
    "    plt.annotate(left_right_annotations[0], \n",
    "                 (0.04, 0), (0, -21), \n",
    "                 xycoords='axes fraction', \n",
    "                 textcoords='offset points', \n",
    "                 va='top')\n",
    "    plt.annotate(left_right_annotations[-1], \n",
    "                 (.75, 0), (.75, -21), \n",
    "                 xycoords='axes fraction', \n",
    "                 textcoords='offset points', \n",
    "                 va='top')\n",
    "\n",
    "    ax.set_ylabel(\"Count of search pages\")\n",
    "\n",
    "    ax.set_axisbelow(True)\n",
    "    plt.gca().yaxis.grid(True)\n",
    "\n",
    "    # Hide the right and top spines\n",
    "    ax.spines['right'].set_visible(False)\n",
    "    ax.spines['top'].set_visible(False)\n",
    "\n",
    "    # Only show ticks on the left and bottom spines\n",
    "    ax.yaxis.set_ticks_position('left')\n",
    "    ax.xaxis.set_ticks_position('bottom')\n",
    "    \n",
    "    if fn_out:\n",
    "         plt.savefig(fn_out)\n",
    "    \n",
    "    return ax"
   ]
  },
  {
   "cell_type": "code",
   "execution_count": 80,
   "metadata": {},
   "outputs": [
    {
     "data": {
      "image/png": "[encoded data removed]",
      "text/plain": [
       "<Figure size 720x432 with 1 Axes>"
      ]
     },
     "metadata": {
      "needs_background": "light"
     },
     "output_type": "display_data"
    }
   ],
   "source": [
    "hist(df_pixels.e1,\n",
    "     left_right_annotations = ('least non-Google-occupied space',\n",
    "                               'most non-Google-occupied space'),\n",
    "     color=cat2color['organic'],\n",
    "     title = f'Non-Google real estate top fifth of page (N={len(df_pixels):,})',\n",
    "     fn_out='../data/output/figures/eq1_abv.png');"
   ]
  },
  {
   "cell_type": "code",
   "execution_count": 66,
   "metadata": {},
   "outputs": [
    {
     "data": {
      "text/plain": [
       "42.96184804659381"
      ]
     },
     "execution_count": 66,
     "metadata": {},
     "output_type": "execute_result"
    }
   ],
   "source": [
    "# What percentage of pages have 10% or less of the page occupied by Google?\n",
    "len(df_pixels[df_pixels.e1 <= .1]) / len(df_pixels) * 100"
   ]
  },
  {
   "cell_type": "code",
   "execution_count": 67,
   "metadata": {},
   "outputs": [
    {
     "data": {
      "text/plain": [
       "10.16949152542373"
      ]
     },
     "execution_count": 67,
     "metadata": {},
     "output_type": "execute_result"
    }
   ],
   "source": [
    "# what percentage of pages have no organic?\n",
    "len(df_pixels[df_pixels.e1 == 0]) / len(df_pixels) * 100"
   ]
  },
  {
   "cell_type": "code",
   "execution_count": 68,
   "metadata": {},
   "outputs": [
    {
     "data": {
      "text/plain": [
       "(0.240937778447796, 0.1413100230593995)"
      ]
     },
     "execution_count": 68,
     "metadata": {},
     "output_type": "execute_result"
    }
   ],
   "source": [
    "df_pixels.e1.mean(), df_pixels.e1.median()"
   ]
  },
  {
   "cell_type": "code",
   "execution_count": 79,
   "metadata": {},
   "outputs": [
    {
     "data": {
      "image/png": "[encoded data removed]",
      "text/plain": [
       "<Figure size 720x432 with 1 Axes>"
      ]
     },
     "metadata": {
      "needs_background": "light"
     },
     "output_type": "display_data"
    }
   ],
   "source": [
    "hist(df_pixels_fp.e1,\n",
    "     title=f'Non-Google real estate first page (N={len(df_pixels):,})',\n",
    "     left_right_annotations = ('least Google-occupied space',\n",
    "                               'most Google-occupied space'),\n",
    "     color=cat2color['organic'],\n",
    "     fn_out='../data/output/figures/eq1_page.png');"
   ]
  },
  {
   "cell_type": "code",
   "execution_count": 76,
   "metadata": {},
   "outputs": [
    {
     "data": {
      "text/plain": [
       "33.4598521039199"
      ]
     },
     "execution_count": 76,
     "metadata": {},
     "output_type": "execute_result"
    }
   ],
   "source": [
    "# What percentage of pages have 50% or more of the page occupied by Google?\n",
    "len(df_pixels_fp[df_pixels_fp.e1 >= .5]) / len(df_pixels) * 100"
   ]
  },
  {
   "cell_type": "code",
   "execution_count": 81,
   "metadata": {},
   "outputs": [
    {
     "data": {
      "text/plain": [
       "<matplotlib.axes._subplots.AxesSubplot at 0x7fcc212c2d30>"
      ]
     },
     "execution_count": 81,
     "metadata": {},
     "output_type": "execute_result"
    },
    {
     "data": {
      "image/png": "[encoded data removed]",
      "text/plain": [
       "<Figure size 720x432 with 1 Axes>"
      ]
     },
     "metadata": {
      "needs_background": "light"
     },
     "output_type": "display_data"
    }
   ],
   "source": [
    "hist(df_pixels.e2,\n",
    "     color=cat2color['organic'],\n",
    "     title = f'Traditional search result (TSR) real estate top fifth of page(N={len(df_pixels):,})',\n",
    "     left_right_annotations=('least TSR-occupied space',\n",
    "                             'most TSR-occupied space'),\n",
    "     fn_out='../data/output/figures/eq2_above.png')"
   ]
  },
  {
   "cell_type": "code",
   "execution_count": 82,
   "metadata": {},
   "outputs": [
    {
     "data": {
      "text/plain": [
       "66.15404750997972"
      ]
     },
     "execution_count": 82,
     "metadata": {},
     "output_type": "execute_result"
    }
   ],
   "source": [
    "# What percentage of pages have 95% or more of the page occupied by self-dealing?\n",
    "len(df_pixels[df_pixels.e2 <= .1]) / len(df_pixels) * 100"
   ]
  },
  {
   "cell_type": "code",
   "execution_count": 83,
   "metadata": {},
   "outputs": [
    {
     "data": {
      "text/plain": [
       "10109"
      ]
     },
     "execution_count": 83,
     "metadata": {},
     "output_type": "execute_result"
    }
   ],
   "source": [
    "len(df_pixels[df_pixels.e2 <= .1])"
   ]
  },
  {
   "cell_type": "code",
   "execution_count": 85,
   "metadata": {},
   "outputs": [
    {
     "data": {
      "text/plain": [
       "(0.240937778447796, 0.1413100230593995)"
      ]
     },
     "execution_count": 85,
     "metadata": {},
     "output_type": "execute_result"
    }
   ],
   "source": [
    "df_pixels.e1.mean(), df_pixels.e1.median()"
   ]
  },
  {
   "cell_type": "code",
   "execution_count": 87,
   "metadata": {},
   "outputs": [
    {
     "data": {
      "text/plain": [
       "<matplotlib.axes._subplots.AxesSubplot at 0x7fcc2121d7f0>"
      ]
     },
     "execution_count": 87,
     "metadata": {},
     "output_type": "execute_result"
    },
    {
     "data": {
      "image/png": "[encoded data removed]",
      "text/plain": [
       "<Figure size 720x432 with 1 Axes>"
      ]
     },
     "metadata": {
      "needs_background": "light"
     },
     "output_type": "display_data"
    }
   ],
   "source": [
    "hist(df_pixels_fp.e2,\n",
    "     color=cat2color['organic'],\n",
    "     title = f'Traditional search result real estate on first page (N={len(df_pixels_fp):,})',\n",
    "     left_right_annotations=('least Organic-occupied space',\n",
    "                             'most Organic-occupied space'),\n",
    "     fn_out='../data/output/figures/eq2_page.png')"
   ]
  },
  {
   "cell_type": "code",
   "execution_count": 88,
   "metadata": {},
   "outputs": [
    {
     "data": {
      "text/plain": [
       "0.3648975852365683"
      ]
     },
     "execution_count": 88,
     "metadata": {},
     "output_type": "execute_result"
    }
   ],
   "source": [
    "len(df_pixels_fp[df_pixels_fp.e2 >= .5]) / len(df_pixels)"
   ]
  },
  {
   "cell_type": "markdown",
   "metadata": {},
   "source": [
    "## Computing confidence interval"
   ]
  },
  {
   "cell_type": "code",
   "execution_count": 90,
   "metadata": {},
   "outputs": [],
   "source": [
    "def SEM(data : pd.DataFrame, \n",
    "        confidence : float = 0.95 , \n",
    "        scale : int = 100,\n",
    "        return_tuple = False) -> str:\n",
    "    \"\"\"Calculates standard error of the mean.\"\"\"\n",
    "    n = len(data)\n",
    "    m = data.mean()\n",
    "    std_err = data.sem()\n",
    "    h = std_err * t.ppf((1 + confidence) / 2, n - 1)\n",
    "    s = f\"{scale * m:.1f} ± {h * scale :.1f}\"\n",
    "    if return_tuple:\n",
    "        s = (m, h)\n",
    "    return s"
   ]
  },
  {
   "cell_type": "code",
   "execution_count": 93,
   "metadata": {},
   "outputs": [],
   "source": [
    "# index2human = {\n",
    "#     'e1' : 'R1: g / (o + g)',\n",
    "#     'e2' : 'R2: (g + ad) / (o + g + ad)',\n",
    "# }"
   ]
  },
  {
   "cell_type": "code",
   "execution_count": 94,
   "metadata": {},
   "outputs": [],
   "source": [
    "# results = {}\n",
    "# for e in [f'e{i}' for i in range(1, 7)]:\n",
    "#     x_goog = SEM(df_pixels[e])\n",
    "#     x_goog_fp = SEM(df_pixels_fp[e])\n",
    "#     results[index2human.get(e)] = {\n",
    "#         'above the fold' : x_goog + '%',\n",
    "#         'first page' : x_goog_fp+ '%'\n",
    "#     }\n",
    "# ratios = pd.DataFrame(results).T\n",
    "# ratios.to_csv('../data/output/tables/ratios.csv')\n",
    "# ratios"
   ]
  },
  {
   "cell_type": "markdown",
   "metadata": {},
   "source": [
    "No matter what you might consider to be \"Google\"...\n",
    "Above the fold is covered with Google properties between 64.6% and 83.2%.\n",
    "For the first page it is between 40.3% and 54.7%."
   ]
  },
  {
   "cell_type": "markdown",
   "metadata": {},
   "source": [
    "# Distance"
   ]
  },
  {
   "cell_type": "code",
   "execution_count": 95,
   "metadata": {},
   "outputs": [],
   "source": [
    "df.loc[:, 'y_dist'] = df.location.apply(lambda x: x['y'])"
   ]
  },
  {
   "cell_type": "code",
   "execution_count": 96,
   "metadata": {},
   "outputs": [],
   "source": [
    "df.loc[df['category'] == 'link-youtube', \n",
    "       \"category_standard\"] = 'youtube'\n",
    "df.loc[df['category'] == 'link-youtube_search_result', \n",
    "       \"category_standard\"] = 'youtube-search-result'"
   ]
  },
  {
   "cell_type": "code",
   "execution_count": 99,
   "metadata": {},
   "outputs": [],
   "source": [
    "standard_categories = [\n",
    "    \"organic-search_result\",\n",
    "    \"organic\",\n",
    "    \"ads\",\n",
    "    \"amp-card\",\n",
    "    \"amp-visual_stories\",\n",
    "    \"google-images\",\n",
    "    \"youtube\",\n",
    "    \"google-maps\",\n",
    "    'google-answer',\n",
    "    \"google-search\",\n",
    "    \"google-expandable-answer\",\n",
    "    \"amp-search_result\",\n",
    "    \"youtube-search-result\",\n",
    "]"
   ]
  },
  {
   "cell_type": "code",
   "execution_count": 100,
   "metadata": {},
   "outputs": [
    {
     "data": {
      "text/plain": [
       "google-search                   287597\n",
       "google-answer                   126456\n",
       "organic                         116546\n",
       "google-misc                     111136\n",
       "organic-search_result           106693\n",
       "google-images                   104747\n",
       "google-expandable-answer        102134\n",
       "youtube                          78551\n",
       "google-knowledge-panel-links     58962\n",
       "amp-card                         56042\n",
       "amp-search_result                24523\n",
       "ads                               4568\n",
       "google-maps                       1966\n",
       "youtube-search-result             1630\n",
       "google-video                      1090\n",
       "amp-visual_stories                 885\n",
       "Name: category_standard, dtype: int64"
      ]
     },
     "execution_count": 100,
     "metadata": {},
     "output_type": "execute_result"
    }
   ],
   "source": [
    "df.category_standard.value_counts()"
   ]
  },
  {
   "cell_type": "code",
   "execution_count": 101,
   "metadata": {},
   "outputs": [],
   "source": [
    "header = 160"
   ]
  },
  {
   "cell_type": "code",
   "execution_count": 102,
   "metadata": {},
   "outputs": [
    {
     "name": "stderr",
     "output_type": "stream",
     "text": [
      "100%|██████████| 15281/15281 [01:43<00:00, 147.79it/s]\n"
     ]
    }
   ],
   "source": [
    "dist = {k : [] for k in standard_categories}\n",
    "for site, _df in tqdm(df[df.area_page != 0].groupby('fn_input')):\n",
    "    for cat in standard_categories:\n",
    "        __df = _df[_df.category_standard == cat]\n",
    "        if not __df.empty:\n",
    "            # standardized\n",
    "            y_min = ((__df.y_dist.min() - header) \n",
    "                / (__df['position_last_element'].iloc[0] - header))\n",
    "            dist[cat].append(y_min)"
   ]
  },
  {
   "cell_type": "code",
   "execution_count": 103,
   "metadata": {},
   "outputs": [
    {
     "name": "stdout",
     "output_type": "stream",
     "text": [
      "organic-search_result\n",
      "15271\n",
      "organic\n",
      "14511\n",
      "ads\n",
      "1454\n",
      "amp-card\n",
      "9315\n",
      "amp-visual_stories\n",
      "842\n",
      "google-images\n",
      "12714\n",
      "youtube\n",
      "9067\n",
      "google-maps\n",
      "1468\n",
      "google-answer\n",
      "14346\n",
      "google-search\n",
      "15276\n",
      "google-expandable-answer\n",
      "13624\n",
      "amp-search_result\n",
      "10018\n",
      "youtube-search-result\n",
      "1400\n"
     ]
    }
   ],
   "source": [
    "for k, v in dist.items():\n",
    "    print(k)\n",
    "    print(len([_ for _ in v if _]))"
   ]
  },
  {
   "cell_type": "code",
   "execution_count": 104,
   "metadata": {},
   "outputs": [],
   "source": [
    "for k, v in dist.items():\n",
    "    fn_out = f'../data/intermediary/{k}_category_distance_raw.csv'\n",
    "    pd.DataFrame({'dist_y' : v, 'category' : k}).to_csv(fn_out, index=False)"
   ]
  },
  {
   "cell_type": "code",
   "execution_count": 105,
   "metadata": {},
   "outputs": [],
   "source": [
    "data = []\n",
    "for cat, v in dist.items():\n",
    "    dato = pd.DataFrame({'dist_y' : v}).dist_y\n",
    "    mean = dato.mean()\n",
    "    median = dato.median()\n",
    "    err = dato.sem()\n",
    "    std = dato.std()\n",
    "    data.append({\n",
    "        'category' : cat,\n",
    "        'dist' : mean,\n",
    "        'dist_median' : median,\n",
    "        'min' : dato.describe()['min'],\n",
    "        '25' : dato.describe()['25%'],\n",
    "        '50' : dato.describe()['50%'],\n",
    "        '75' : dato.describe()['75%'],\n",
    "        'max' : dato.describe()['max'],\n",
    "        'std' : std,\n",
    "        'sem_error' : err,\n",
    "        'n' : len(v)\n",
    "    })\n",
    "df_dist = pd.DataFrame(data)\n",
    "del data"
   ]
  },
  {
   "cell_type": "code",
   "execution_count": 113,
   "metadata": {},
   "outputs": [],
   "source": [
    "df_dist = df_dist[df_dist['category'] != 'organic]'].sort_values(by='dist')#.to_csv('are_these_outliers.csv', index=False)"
   ]
  },
  {
   "cell_type": "code",
   "execution_count": null,
   "metadata": {},
   "outputs": [],
   "source": [
    "# data = []\n",
    "# for cat, v in dist.items():\n",
    "#     print(cat)\n",
    "#     dato = pd.DataFrame({'dist_y' : v}).dist_y.clip(0, 6000)\n",
    "#     dato.plot(kind='hist', bins=50, xlim=(0, 6000))\n",
    "#     plt.show();"
   ]
  },
  {
   "cell_type": "code",
   "execution_count": 107,
   "metadata": {},
   "outputs": [
    {
     "name": "stdout",
     "output_type": "stream",
     "text": [
      "organic-search_result\n"
     ]
    },
    {
     "data": {
      "image/png": "[encoded data removed]",
      "text/plain": [
       "<Figure size 432x288 with 1 Axes>"
      ]
     },
     "metadata": {
      "needs_background": "light"
     },
     "output_type": "display_data"
    },
    {
     "name": "stdout",
     "output_type": "stream",
     "text": [
      "organic\n"
     ]
    },
    {
     "data": {
      "image/png": "[encoded data removed]",
      "text/plain": [
       "<Figure size 432x288 with 1 Axes>"
      ]
     },
     "metadata": {
      "needs_background": "light"
     },
     "output_type": "display_data"
    },
    {
     "name": "stdout",
     "output_type": "stream",
     "text": [
      "ads\n"
     ]
    },
    {
     "data": {
      "image/png": "[encoded data removed]",
      "text/plain": [
       "<Figure size 432x288 with 1 Axes>"
      ]
     },
     "metadata": {
      "needs_background": "light"
     },
     "output_type": "display_data"
    },
    {
     "name": "stdout",
     "output_type": "stream",
     "text": [
      "amp-card\n"
     ]
    },
    {
     "data": {
      "image/png": "[encoded data removed]",
      "text/plain": [
       "<Figure size 432x288 with 1 Axes>"
      ]
     },
     "metadata": {
      "needs_background": "light"
     },
     "output_type": "display_data"
    },
    {
     "name": "stdout",
     "output_type": "stream",
     "text": [
      "amp-visual_stories\n"
     ]
    },
    {
     "data": {
      "image/png": "[encoded data removed]",
      "text/plain": [
       "<Figure size 432x288 with 1 Axes>"
      ]
     },
     "metadata": {
      "needs_background": "light"
     },
     "output_type": "display_data"
    },
    {
     "name": "stdout",
     "output_type": "stream",
     "text": [
      "google-images\n"
     ]
    },
    {
     "data": {
      "image/png": "[encoded data removed]",
      "text/plain": [
       "<Figure size 432x288 with 1 Axes>"
      ]
     },
     "metadata": {
      "needs_background": "light"
     },
     "output_type": "display_data"
    },
    {
     "name": "stdout",
     "output_type": "stream",
     "text": [
      "youtube\n"
     ]
    },
    {
     "data": {
      "image/png": "[encoded data removed]",
      "text/plain": [
       "<Figure size 432x288 with 1 Axes>"
      ]
     },
     "metadata": {
      "needs_background": "light"
     },
     "output_type": "display_data"
    },
    {
     "name": "stdout",
     "output_type": "stream",
     "text": [
      "google-maps\n"
     ]
    },
    {
     "data": {
      "image/png": "[encoded data removed]",
      "text/plain": [
       "<Figure size 432x288 with 1 Axes>"
      ]
     },
     "metadata": {
      "needs_background": "light"
     },
     "output_type": "display_data"
    },
    {
     "name": "stdout",
     "output_type": "stream",
     "text": [
      "google-answer\n"
     ]
    },
    {
     "data": {
      "image/png": "[encoded data removed]",
      "text/plain": [
       "<Figure size 432x288 with 1 Axes>"
      ]
     },
     "metadata": {
      "needs_background": "light"
     },
     "output_type": "display_data"
    },
    {
     "name": "stdout",
     "output_type": "stream",
     "text": [
      "google-search\n"
     ]
    },
    {
     "data": {
      "image/png": "[encoded data removed]",
      "text/plain": [
       "<Figure size 432x288 with 1 Axes>"
      ]
     },
     "metadata": {
      "needs_background": "light"
     },
     "output_type": "display_data"
    },
    {
     "name": "stdout",
     "output_type": "stream",
     "text": [
      "google-expandable-answer\n"
     ]
    },
    {
     "data": {
      "image/png": "[encoded data removed]",
      "text/plain": [
       "<Figure size 432x288 with 1 Axes>"
      ]
     },
     "metadata": {
      "needs_background": "light"
     },
     "output_type": "display_data"
    },
    {
     "name": "stdout",
     "output_type": "stream",
     "text": [
      "amp-search_result\n"
     ]
    },
    {
     "data": {
      "image/png": "[encoded data removed]",
      "text/plain": [
       "<Figure size 432x288 with 1 Axes>"
      ]
     },
     "metadata": {
      "needs_background": "light"
     },
     "output_type": "display_data"
    },
    {
     "name": "stdout",
     "output_type": "stream",
     "text": [
      "youtube-search-result\n"
     ]
    },
    {
     "data": {
      "image/png": "[encoded data removed]",
      "text/plain": [
       "<Figure size 432x288 with 1 Axes>"
      ]
     },
     "metadata": {
      "needs_background": "light"
     },
     "output_type": "display_data"
    }
   ],
   "source": [
    "data = []\n",
    "for cat, v in dist.items():\n",
    "    print(cat)\n",
    "    dato = pd.DataFrame({'dist_y' : v})\n",
    "    dato.plot(kind='hist', bins=50)\n",
    "    plt.show();"
   ]
  },
  {
   "cell_type": "code",
   "execution_count": 108,
   "metadata": {},
   "outputs": [
    {
     "name": "stdout",
     "output_type": "stream",
     "text": [
      "organic-search_result\n",
      "organic\n",
      "ads\n",
      "amp-card\n",
      "amp-visual_stories\n",
      "google-images\n",
      "youtube\n",
      "google-maps\n",
      "google-answer\n",
      "google-search\n",
      "google-expandable-answer\n",
      "amp-search_result\n",
      "youtube-search-result\n"
     ]
    }
   ],
   "source": [
    "distro = pd.DataFrame()\n",
    "for cat, v in dist.items():\n",
    "    print(cat)\n",
    "    dato = pd.DataFrame({'dist_y' : v, 'category' : cat})\n",
    "    distro = distro.append(dato, sort=False)"
   ]
  },
  {
   "cell_type": "code",
   "execution_count": 111,
   "metadata": {},
   "outputs": [],
   "source": [
    "# ax = distro.boxplot(column=['dist_y'], \n",
    "#                   by='category',\n",
    "#                   rot=90,\n",
    "#                   figsize=(6, 12),\n",
    "#                   )\n",
    "\n",
    "# plt.gca().invert_yaxis()"
   ]
  },
  {
   "cell_type": "code",
   "execution_count": null,
   "metadata": {},
   "outputs": [],
   "source": [
    "# ax = distro.plot(kind='scatter',\n",
    "#                  y='dist_y', \n",
    "#                  x='category',\n",
    "#                  rot=90,\n",
    "#                  s=3,\n",
    "#                  color='black',\n",
    "#                  alpha=.005,\n",
    "#                  figsize=(6, 12))\n",
    "# plt.gca().invert_yaxis()"
   ]
  },
  {
   "cell_type": "code",
   "execution_count": 112,
   "metadata": {},
   "outputs": [
    {
     "data": {
      "text/html": [
       "<div>\n",
       "<style scoped>\n",
       "    .dataframe tbody tr th:only-of-type {\n",
       "        vertical-align: middle;\n",
       "    }\n",
       "\n",
       "    .dataframe tbody tr th {\n",
       "        vertical-align: top;\n",
       "    }\n",
       "\n",
       "    .dataframe thead th {\n",
       "        text-align: right;\n",
       "    }\n",
       "</style>\n",
       "<table border=\"1\" class=\"dataframe\">\n",
       "  <thead>\n",
       "    <tr style=\"text-align: right;\">\n",
       "      <th></th>\n",
       "      <th>category</th>\n",
       "      <th>dist</th>\n",
       "      <th>dist_median</th>\n",
       "      <th>min</th>\n",
       "      <th>25</th>\n",
       "      <th>50</th>\n",
       "      <th>75</th>\n",
       "      <th>max</th>\n",
       "      <th>std</th>\n",
       "      <th>sem_error</th>\n",
       "      <th>n</th>\n",
       "    </tr>\n",
       "  </thead>\n",
       "  <tbody>\n",
       "    <tr>\n",
       "      <th>2</th>\n",
       "      <td>ads</td>\n",
       "      <td>0.082753</td>\n",
       "      <td>0.001436</td>\n",
       "      <td>0.000720</td>\n",
       "      <td>0.001210</td>\n",
       "      <td>0.001436</td>\n",
       "      <td>0.021300</td>\n",
       "      <td>0.962086</td>\n",
       "      <td>0.214956</td>\n",
       "      <td>0.005637</td>\n",
       "      <td>1454</td>\n",
       "    </tr>\n",
       "    <tr>\n",
       "      <th>5</th>\n",
       "      <td>google-images</td>\n",
       "      <td>0.104948</td>\n",
       "      <td>0.035711</td>\n",
       "      <td>-0.002661</td>\n",
       "      <td>0.024625</td>\n",
       "      <td>0.035711</td>\n",
       "      <td>0.154953</td>\n",
       "      <td>0.942658</td>\n",
       "      <td>0.132630</td>\n",
       "      <td>0.001176</td>\n",
       "      <td>12714</td>\n",
       "    </tr>\n",
       "    <tr>\n",
       "      <th>1</th>\n",
       "      <td>organic</td>\n",
       "      <td>0.135439</td>\n",
       "      <td>0.091375</td>\n",
       "      <td>0.001093</td>\n",
       "      <td>0.067814</td>\n",
       "      <td>0.091375</td>\n",
       "      <td>0.162975</td>\n",
       "      <td>0.917805</td>\n",
       "      <td>0.120409</td>\n",
       "      <td>0.001000</td>\n",
       "      <td>14511</td>\n",
       "    </tr>\n",
       "    <tr>\n",
       "      <th>8</th>\n",
       "      <td>google-answer</td>\n",
       "      <td>0.138870</td>\n",
       "      <td>0.083989</td>\n",
       "      <td>0.000947</td>\n",
       "      <td>0.060933</td>\n",
       "      <td>0.083989</td>\n",
       "      <td>0.189030</td>\n",
       "      <td>0.945214</td>\n",
       "      <td>0.136212</td>\n",
       "      <td>0.001137</td>\n",
       "      <td>14346</td>\n",
       "    </tr>\n",
       "    <tr>\n",
       "      <th>7</th>\n",
       "      <td>google-maps</td>\n",
       "      <td>0.162010</td>\n",
       "      <td>0.108858</td>\n",
       "      <td>0.001041</td>\n",
       "      <td>0.017204</td>\n",
       "      <td>0.108858</td>\n",
       "      <td>0.261398</td>\n",
       "      <td>0.892525</td>\n",
       "      <td>0.176467</td>\n",
       "      <td>0.004606</td>\n",
       "      <td>1468</td>\n",
       "    </tr>\n",
       "    <tr>\n",
       "      <th>4</th>\n",
       "      <td>amp-visual_stories</td>\n",
       "      <td>0.170949</td>\n",
       "      <td>0.163516</td>\n",
       "      <td>0.051620</td>\n",
       "      <td>0.088713</td>\n",
       "      <td>0.163516</td>\n",
       "      <td>0.238050</td>\n",
       "      <td>0.889504</td>\n",
       "      <td>0.087774</td>\n",
       "      <td>0.003025</td>\n",
       "      <td>842</td>\n",
       "    </tr>\n",
       "    <tr>\n",
       "      <th>0</th>\n",
       "      <td>organic-search_result</td>\n",
       "      <td>0.239410</td>\n",
       "      <td>0.245286</td>\n",
       "      <td>0.000905</td>\n",
       "      <td>0.153083</td>\n",
       "      <td>0.245286</td>\n",
       "      <td>0.328750</td>\n",
       "      <td>0.932852</td>\n",
       "      <td>0.133759</td>\n",
       "      <td>0.001082</td>\n",
       "      <td>15271</td>\n",
       "    </tr>\n",
       "    <tr>\n",
       "      <th>3</th>\n",
       "      <td>amp-card</td>\n",
       "      <td>0.298625</td>\n",
       "      <td>0.301699</td>\n",
       "      <td>0.001880</td>\n",
       "      <td>0.077812</td>\n",
       "      <td>0.301699</td>\n",
       "      <td>0.463468</td>\n",
       "      <td>0.952471</td>\n",
       "      <td>0.208659</td>\n",
       "      <td>0.002162</td>\n",
       "      <td>9315</td>\n",
       "    </tr>\n",
       "    <tr>\n",
       "      <th>9</th>\n",
       "      <td>google-search</td>\n",
       "      <td>0.314999</td>\n",
       "      <td>0.244405</td>\n",
       "      <td>-0.000278</td>\n",
       "      <td>0.144622</td>\n",
       "      <td>0.244405</td>\n",
       "      <td>0.403290</td>\n",
       "      <td>0.992985</td>\n",
       "      <td>0.253721</td>\n",
       "      <td>0.002053</td>\n",
       "      <td>15276</td>\n",
       "    </tr>\n",
       "    <tr>\n",
       "      <th>6</th>\n",
       "      <td>youtube</td>\n",
       "      <td>0.352812</td>\n",
       "      <td>0.397146</td>\n",
       "      <td>0.018953</td>\n",
       "      <td>0.177677</td>\n",
       "      <td>0.397146</td>\n",
       "      <td>0.499619</td>\n",
       "      <td>0.892185</td>\n",
       "      <td>0.184601</td>\n",
       "      <td>0.001939</td>\n",
       "      <td>9067</td>\n",
       "    </tr>\n",
       "    <tr>\n",
       "      <th>10</th>\n",
       "      <td>google-expandable-answer</td>\n",
       "      <td>0.412266</td>\n",
       "      <td>0.402442</td>\n",
       "      <td>0.009344</td>\n",
       "      <td>0.217368</td>\n",
       "      <td>0.402442</td>\n",
       "      <td>0.536218</td>\n",
       "      <td>0.971733</td>\n",
       "      <td>0.231856</td>\n",
       "      <td>0.001986</td>\n",
       "      <td>13624</td>\n",
       "    </tr>\n",
       "    <tr>\n",
       "      <th>11</th>\n",
       "      <td>amp-search_result</td>\n",
       "      <td>0.566844</td>\n",
       "      <td>0.615769</td>\n",
       "      <td>0.001311</td>\n",
       "      <td>0.416420</td>\n",
       "      <td>0.615769</td>\n",
       "      <td>0.712435</td>\n",
       "      <td>0.939994</td>\n",
       "      <td>0.184051</td>\n",
       "      <td>0.001839</td>\n",
       "      <td>10018</td>\n",
       "    </tr>\n",
       "    <tr>\n",
       "      <th>12</th>\n",
       "      <td>youtube-search-result</td>\n",
       "      <td>0.642253</td>\n",
       "      <td>0.683606</td>\n",
       "      <td>0.001736</td>\n",
       "      <td>0.590440</td>\n",
       "      <td>0.683606</td>\n",
       "      <td>0.758748</td>\n",
       "      <td>0.946984</td>\n",
       "      <td>0.168137</td>\n",
       "      <td>0.004494</td>\n",
       "      <td>1400</td>\n",
       "    </tr>\n",
       "  </tbody>\n",
       "</table>\n",
       "</div>"
      ],
      "text/plain": [
       "                    category      dist  dist_median       min        25  \\\n",
       "2                        ads  0.082753     0.001436  0.000720  0.001210   \n",
       "5              google-images  0.104948     0.035711 -0.002661  0.024625   \n",
       "1                    organic  0.135439     0.091375  0.001093  0.067814   \n",
       "8              google-answer  0.138870     0.083989  0.000947  0.060933   \n",
       "7                google-maps  0.162010     0.108858  0.001041  0.017204   \n",
       "4         amp-visual_stories  0.170949     0.163516  0.051620  0.088713   \n",
       "0      organic-search_result  0.239410     0.245286  0.000905  0.153083   \n",
       "3                   amp-card  0.298625     0.301699  0.001880  0.077812   \n",
       "9              google-search  0.314999     0.244405 -0.000278  0.144622   \n",
       "6                    youtube  0.352812     0.397146  0.018953  0.177677   \n",
       "10  google-expandable-answer  0.412266     0.402442  0.009344  0.217368   \n",
       "11         amp-search_result  0.566844     0.615769  0.001311  0.416420   \n",
       "12     youtube-search-result  0.642253     0.683606  0.001736  0.590440   \n",
       "\n",
       "          50        75       max       std  sem_error      n  \n",
       "2   0.001436  0.021300  0.962086  0.214956   0.005637   1454  \n",
       "5   0.035711  0.154953  0.942658  0.132630   0.001176  12714  \n",
       "1   0.091375  0.162975  0.917805  0.120409   0.001000  14511  \n",
       "8   0.083989  0.189030  0.945214  0.136212   0.001137  14346  \n",
       "7   0.108858  0.261398  0.892525  0.176467   0.004606   1468  \n",
       "4   0.163516  0.238050  0.889504  0.087774   0.003025    842  \n",
       "0   0.245286  0.328750  0.932852  0.133759   0.001082  15271  \n",
       "3   0.301699  0.463468  0.952471  0.208659   0.002162   9315  \n",
       "9   0.244405  0.403290  0.992985  0.253721   0.002053  15276  \n",
       "6   0.397146  0.499619  0.892185  0.184601   0.001939   9067  \n",
       "10  0.402442  0.536218  0.971733  0.231856   0.001986  13624  \n",
       "11  0.615769  0.712435  0.939994  0.184051   0.001839  10018  \n",
       "12  0.683606  0.758748  0.946984  0.168137   0.004494   1400  "
      ]
     },
     "execution_count": 112,
     "metadata": {},
     "output_type": "execute_result"
    }
   ],
   "source": [
    "df_dist"
   ]
  },
  {
   "cell_type": "code",
   "execution_count": 114,
   "metadata": {},
   "outputs": [],
   "source": [
    "label2label = {\n",
    "    'link' : 'Google Product',\n",
    "    'answer' : 'Google Answer',\n",
    "    'ads' : \"Ads\",\n",
    "    'amp' : 'AMP',\n",
    "    'organic' : 'Non-Google'\n",
    "}"
   ]
  },
  {
   "cell_type": "code",
   "execution_count": 115,
   "metadata": {},
   "outputs": [
    {
     "data": {
      "image/png": "[encoded data removed]",
      "text/plain": [
       "<Figure size 432x864 with 1 Axes>"
      ]
     },
     "metadata": {
      "needs_background": "light"
     },
     "output_type": "display_data"
    }
   ],
   "source": [
    "fig, ax = plt.subplots(figsize=(6, 12))\n",
    "col = 'dist_median'\n",
    "data = df_dist[df_dist.category != 'organic'].sort_values(by=col)\n",
    "labels = [cat.replace('google-answer', 'answer')\n",
    "                            .replace('google-expandable-answer', 'answer')\n",
    "                            .split('-')[0]\n",
    "                            .replace('google', 'link')\n",
    "                            .replace('youtube', 'link') for cat in data.category]\n",
    "\n",
    "colors = [cat2color.get(label) for label in labels]\n",
    "\n",
    "\n",
    "plt.scatter(data.category, data[col], \n",
    "            c=colors, zorder=100)\n",
    "\n",
    "plt.errorbar(data.category, col, \n",
    "             data=data,\n",
    "             yerr=[data[col] - data['25'], \n",
    "                   data['75']- data[col]], \n",
    "             ecolor='dimgrey', color='white',\n",
    "             capsize = 3,  fmt='o',\n",
    "             alpha=.7)\n",
    "\n",
    "plt.gca().invert_yaxis()\n",
    "# plt.axhline(y=812, color='black', linestyle='--', alpha=.4)\n",
    "# plt.annotate('Above the fold', (7.3, 800))\n",
    "\n",
    "\n",
    "plt.xticks(rotation=90)\n",
    "for i, (_, row) in enumerate(data.iterrows()):\n",
    "#     txt = f\"{row['category']} (N={row['n']:,})\"\n",
    "    txt = row['category']\n",
    "    if i % 2 == 0:\n",
    "        y = row[col] -.008\n",
    "    else:\n",
    "         y = row[col] +.012\n",
    "    x = (1 * i)  + .03\n",
    "    plt.annotate(txt, (x, y), zorder=200)\n",
    "\n",
    "# for i, (_, row) in enumerate(data.iterrows()):\n",
    "# #     txt = f\"{row['category']} (N={row['n']:,})\"\n",
    "#     txt = row['category']\n",
    "#     y = row[col] - 2\n",
    "#     x = (1 * i) + .15\n",
    "#     if txt == 'google-expandable_answer':\n",
    "#         x = (1 * i) - 2\n",
    "#     plt.annotate(txt, (x, y), zorder=200)\n",
    "\n",
    "ax.set_ylabel(\"Percentage down the page\")\n",
    "plt.title('Median distance down page before first contact')\n",
    "ax.set_axisbelow(True)\n",
    "# plt.gca().yaxis.grid(True)\n",
    "\n",
    "# Hide the right and top spines\n",
    "ax.spines['right'].set_visible(False)\n",
    "ax.spines['top'].set_visible(False)\n",
    "\n",
    "# Only show ticks on the left and bottom spines\n",
    "ax.yaxis.set_ticks_position('left')\n",
    "ax.xaxis.set_ticks_position('bottom')\n",
    "\n",
    "ax.xaxis.set_visible(False)\n",
    "ax.legend(handles=legend_elements, loc='lower left')\n",
    "plt.savefig('../data/output/figures/distance_normalized.png')\n",
    "del data;"
   ]
  },
  {
   "cell_type": "code",
   "execution_count": 116,
   "metadata": {},
   "outputs": [
    {
     "data": {
      "image/png": "[encoded data removed]",
      "text/plain": [
       "<Figure size 432x1008 with 1 Axes>"
      ]
     },
     "metadata": {
      "needs_background": "light"
     },
     "output_type": "display_data"
    }
   ],
   "source": [
    "fig, ax = plt.subplots(figsize=(6, 14))\n",
    "col = 'dist'\n",
    "data = df_dist[df_dist.category != 'organic'].sort_values(by=col)\n",
    "labels = [cat.replace('google-answer', 'answer')\n",
    "                            .replace('google-expandable-answer', 'answer')\n",
    "                            .split('-')[0]\n",
    "                            .replace('google', 'link')\n",
    "                            .replace('youtube', 'link') for cat in data.category]\n",
    "\n",
    "colors = [cat2color.get(label) for label in labels]\n",
    "\n",
    "legend_elements = [Line2D([0], [0], marker='o', color='w', \n",
    "                          label=label2label.get(label),\n",
    "                          markerfacecolor=c, markersize=10)\n",
    "                   for label, c in cat2color.items()]\n",
    "\n",
    "plt.scatter(data.category, data[col], \n",
    "            c=colors, zorder=100)\n",
    "\n",
    "plt.errorbar(data.category, col, \n",
    "             data=data,\n",
    "             yerr='sem_error', \n",
    "             ecolor='black', color='white',\n",
    "             capsize = 3,  fmt='o')\n",
    "\n",
    "plt.gca().invert_yaxis()\n",
    "# plt.axhline(y=812, color='black', linestyle='--', alpha=.4)\n",
    "# plt.annotate('Above the fold', (7.3, 800))\n",
    "\n",
    "\n",
    "plt.xticks(rotation=90)\n",
    "for i, (_, row) in enumerate(data.iterrows()):\n",
    "#     txt = f\"{row['category']} (N={row['n']:,})\"\n",
    "    txt = row['category']\n",
    "    y = row[col] -.005\n",
    "    x = (1 * i)  + .005\n",
    "    plt.annotate(txt, (x, y), zorder=200)\n",
    "\n",
    "# for i, (_, row) in enumerate(data.iterrows()):\n",
    "# #     txt = f\"{row['category']} (N={row['n']:,})\"\n",
    "#     txt = row['category']\n",
    "#     y = row[col] - 2\n",
    "#     x = (1 * i) + .15\n",
    "#     if txt == 'google-expandable_answer':\n",
    "#         x = (1 * i) - 2\n",
    "#     plt.annotate(txt, (x, y), zorder=200)\n",
    "\n",
    "ax.set_ylabel(\"Percentage of search result scrolled\")\n",
    "plt.title('Average distance down page before first contact')\n",
    "ax.set_axisbelow(True)\n",
    "# plt.gca().yaxis.grid(True)\n",
    "\n",
    "# Hide the right and top spines\n",
    "ax.spines['right'].set_visible(False)\n",
    "ax.spines['top'].set_visible(False)\n",
    "\n",
    "# Only show ticks on the left and bottom spines\n",
    "ax.yaxis.set_ticks_position('left')\n",
    "ax.xaxis.set_ticks_position('bottom')\n",
    "\n",
    "ax.xaxis.set_visible(False)\n",
    "ax.legend(handles=legend_elements, loc='lower left')\n",
    "plt.savefig('../data/output/figures/distance.png')\n",
    "del data;"
   ]
  },
  {
   "cell_type": "markdown",
   "metadata": {},
   "source": [
    "## How many Blue Links are in a page?"
   ]
  },
  {
   "cell_type": "code",
   "execution_count": 126,
   "metadata": {},
   "outputs": [],
   "source": [
    "blue_links = []\n",
    "for search, _df in df[df.area_page != 0].groupby('fn_input'):\n",
    "    n_blue = len(_df[_df['category_standard'].isin(blue_link_categories)])\n",
    "\n",
    "    blue_links.append({\n",
    "        'fn_input' : search,\n",
    "        'n_blue_links' : n_blue\n",
    "        \n",
    "    })\n",
    "df_bl = pd.DataFrame(blue_links)"
   ]
  },
  {
   "cell_type": "code",
   "execution_count": 127,
   "metadata": {},
   "outputs": [
    {
     "data": {
      "text/plain": [
       "8.586872586872587"
      ]
     },
     "execution_count": 127,
     "metadata": {},
     "output_type": "execute_result"
    }
   ],
   "source": [
    "df_bl.n_blue_links.mean()"
   ]
  },
  {
   "cell_type": "code",
   "execution_count": 128,
   "metadata": {},
   "outputs": [
    {
     "data": {
      "text/plain": [
       "0.011126238643624343"
      ]
     },
     "execution_count": 128,
     "metadata": {},
     "output_type": "execute_result"
    }
   ],
   "source": [
    "df_bl.n_blue_links.sem()"
   ]
  },
  {
   "cell_type": "code",
   "execution_count": 129,
   "metadata": {},
   "outputs": [
    {
     "data": {
      "text/html": [
       "<div>\n",
       "<style scoped>\n",
       "    .dataframe tbody tr th:only-of-type {\n",
       "        vertical-align: middle;\n",
       "    }\n",
       "\n",
       "    .dataframe tbody tr th {\n",
       "        vertical-align: top;\n",
       "    }\n",
       "\n",
       "    .dataframe thead th {\n",
       "        text-align: right;\n",
       "    }\n",
       "</style>\n",
       "<table border=\"1\" class=\"dataframe\">\n",
       "  <thead>\n",
       "    <tr style=\"text-align: right;\">\n",
       "      <th></th>\n",
       "      <th>n_blue_links</th>\n",
       "    </tr>\n",
       "  </thead>\n",
       "  <tbody>\n",
       "    <tr>\n",
       "      <th>count</th>\n",
       "      <td>15281.000000</td>\n",
       "    </tr>\n",
       "    <tr>\n",
       "      <th>mean</th>\n",
       "      <td>8.586873</td>\n",
       "    </tr>\n",
       "    <tr>\n",
       "      <th>std</th>\n",
       "      <td>1.375385</td>\n",
       "    </tr>\n",
       "    <tr>\n",
       "      <th>min</th>\n",
       "      <td>0.000000</td>\n",
       "    </tr>\n",
       "    <tr>\n",
       "      <th>25%</th>\n",
       "      <td>8.000000</td>\n",
       "    </tr>\n",
       "    <tr>\n",
       "      <th>50%</th>\n",
       "      <td>9.000000</td>\n",
       "    </tr>\n",
       "    <tr>\n",
       "      <th>75%</th>\n",
       "      <td>10.000000</td>\n",
       "    </tr>\n",
       "    <tr>\n",
       "      <th>max</th>\n",
       "      <td>12.000000</td>\n",
       "    </tr>\n",
       "  </tbody>\n",
       "</table>\n",
       "</div>"
      ],
      "text/plain": [
       "       n_blue_links\n",
       "count  15281.000000\n",
       "mean       8.586873\n",
       "std        1.375385\n",
       "min        0.000000\n",
       "25%        8.000000\n",
       "50%        9.000000\n",
       "75%       10.000000\n",
       "max       12.000000"
      ]
     },
     "execution_count": 129,
     "metadata": {},
     "output_type": "execute_result"
    }
   ],
   "source": [
    "df_bl.describe()"
   ]
  },
  {
   "cell_type": "code",
   "execution_count": 130,
   "metadata": {},
   "outputs": [
    {
     "data": {
      "text/plain": [
       "<matplotlib.axes._subplots.AxesSubplot at 0x7fcc2030b130>"
      ]
     },
     "execution_count": 130,
     "metadata": {},
     "output_type": "execute_result"
    },
    {
     "data": {
      "image/png": "[encoded data removed]",
      "text/plain": [
       "<Figure size 432x288 with 1 Axes>"
      ]
     },
     "metadata": {
      "needs_background": "light"
     },
     "output_type": "display_data"
    }
   ],
   "source": [
    "df_bl.n_blue_links.plot(kind='hist', bins=10)"
   ]
  },
  {
   "cell_type": "code",
   "execution_count": 131,
   "metadata": {},
   "outputs": [
    {
     "data": {
      "text/plain": [
       "['../data/input/google_search/iPhone-X/2019/11/14/Yujin-Robot-iClebo-Alpha-YCRM0590/html/webpage_raw.html',\n",
       " '../data/input/google_search/iPhone-X/2019/11/17/California-Golden-Bears/html/webpage_raw.html',\n",
       " '../data/input/google_search/iPhone-X/2019/11/17/Sri-Lanka/html/webpage_raw.html',\n",
       " '../data/input/google_search/iPhone-X/2019/11/20/Copa-Libertadores/html/webpage_raw.html',\n",
       " '../data/input/google_search/iPhone-X/2019/11/29/Protonpump-inhibitor/html/webpage_raw.html',\n",
       " '../data/input/google_search/iPhone-X/2019/12/07/Bath-Body-Works/html/webpage_raw.html',\n",
       " '../data/input/google_search/iPhone-X/2019/12/09/Google-Sheets/html/webpage_raw.html',\n",
       " '../data/input/google_search/iPhone-X/2019/12/13/Livia-Giuggioli/html/webpage_raw.html']"
      ]
     },
     "execution_count": 131,
     "metadata": {},
     "output_type": "execute_result"
    }
   ],
   "source": [
    "df_bl[df_bl.n_blue_links == 0].fn_input.tolist()"
   ]
  },
  {
   "cell_type": "markdown",
   "metadata": {},
   "source": [
    "# AMP\n",
    "How many sites are using AMP compared to how many sites we have?"
   ]
  },
  {
   "cell_type": "code",
   "execution_count": 152,
   "metadata": {},
   "outputs": [],
   "source": [
    "from urlexpander import get_domain\n",
    "\n",
    "domains_amp = (df[df.label == 'amp']\n",
    "                    .link.apply(get_domain)\n",
    "                    .value_counts())"
   ]
  },
  {
   "cell_type": "code",
   "execution_count": 153,
   "metadata": {},
   "outputs": [
    {
     "data": {
      "text/plain": [
       "yahoo.com          3235\n",
       "usatoday.com       1872\n",
       "people.com         1505\n",
       "cnbc.com           1458\n",
       "cbssports.com      1370\n",
       "nytimes.com        1295\n",
       "foxnews.com        1231\n",
       "theguardian.com    1228\n",
       "espn.com           1200\n",
       "cnn.com            1149\n",
       "Name: link, dtype: int64"
      ]
     },
     "execution_count": 153,
     "metadata": {},
     "output_type": "execute_result"
    }
   ],
   "source": [
    "domains_amp.head(10)"
   ]
  },
  {
   "cell_type": "code",
   "execution_count": 142,
   "metadata": {},
   "outputs": [],
   "source": [
    "domains_og = df[df.label == 'organic'].domain.unique()"
   ]
  },
  {
   "cell_type": "code",
   "execution_count": 157,
   "metadata": {},
   "outputs": [
    {
     "data": {
      "text/plain": [
       "(3114, 25829)"
      ]
     },
     "execution_count": 157,
     "metadata": {},
     "output_type": "execute_result"
    }
   ],
   "source": [
    "n_domains_amp = len(domains_amp)\n",
    "n_domains = len(set(domains_amp.index) | set(domains_og))\n",
    "n_domains_amp, n_domains"
   ]
  },
  {
   "cell_type": "code",
   "execution_count": 158,
   "metadata": {},
   "outputs": [
    {
     "data": {
      "text/plain": [
       "0.1205621588137365"
      ]
     },
     "execution_count": 158,
     "metadata": {},
     "output_type": "execute_result"
    }
   ],
   "source": [
    "n_domains_amp / n_domains"
   ]
  },
  {
   "cell_type": "code",
   "execution_count": 138,
   "metadata": {},
   "outputs": [
    {
     "data": {
      "text/plain": [
       "google.com         509\n",
       "yahoo.com          493\n",
       "usatoday.com       285\n",
       "people.com         266\n",
       "cbssports.com      230\n",
       "espn.com           230\n",
       "foxnews.com        227\n",
       "cnn.com            181\n",
       "nypost.com         134\n",
       "theguardian.com    132\n",
       "Name: link, dtype: int64"
      ]
     },
     "execution_count": 138,
     "metadata": {},
     "output_type": "execute_result"
    }
   ],
   "source": [
    "(df[(df.label == 'amp') &\n",
    "    (df.q1_area != 0)]\n",
    "    .link.apply(get_domain)\n",
    "    .value_counts()\n",
    "    .head(10))"
   ]
  },
  {
   "cell_type": "code",
   "execution_count": null,
   "metadata": {},
   "outputs": [],
   "source": []
  }
 ],
 "metadata": {
  "kernelspec": {
   "display_name": "Python 3",
   "language": "python",
   "name": "python3"
  },
  "language_info": {
   "codemirror_mode": {
    "name": "ipython",
    "version": 3
   },
   "file_extension": ".py",
   "mimetype": "text/x-python",
   "name": "python",
   "nbconvert_exporter": "python",
   "pygments_lexer": "ipython3",
   "version": "3.8.1"
  }
 },
 "nbformat": 4,
 "nbformat_minor": 4
}
