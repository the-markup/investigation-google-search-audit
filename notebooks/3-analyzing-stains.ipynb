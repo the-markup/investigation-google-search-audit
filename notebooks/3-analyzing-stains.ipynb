{
 "cells": [
  {
   "cell_type": "markdown",
   "metadata": {},
   "source": [
    "# Data Analysis\n",
    "Author: Leon Yin<br>\n",
    "Date: 2020-2-03<br>\n",
    "\n",
    "This notebook analyses the results of the element categorization and area estimations from the last notebook."
   ]
  },
  {
   "cell_type": "code",
   "execution_count": 1,
   "metadata": {},
   "outputs": [],
   "source": [
    "%load_ext autoreload\n",
    "%autoreload 2\n",
    "%matplotlib inline"
   ]
  },
  {
   "cell_type": "code",
   "execution_count": 2,
   "metadata": {},
   "outputs": [
    {
     "data": {
      "application/javascript": [
       "MathJax.Hub.Config({\n",
       "    TeX: { equationNumbers: { autoNumber: \"AMS\" } }\n",
       "});\n"
      ],
      "text/plain": [
       "<IPython.core.display.Javascript object>"
      ]
     },
     "metadata": {},
     "output_type": "display_data"
    }
   ],
   "source": [
    "%%javascript\n",
    "MathJax.Hub.Config({\n",
    "    TeX: { equationNumbers: { autoNumber: \"AMS\" } }\n",
    "});"
   ]
  },
  {
   "cell_type": "code",
   "execution_count": 3,
   "metadata": {},
   "outputs": [],
   "source": [
    "import os\n",
    "import sys\n",
    "import json\n",
    "import time\n",
    "import glob\n",
    "import tempfile\n",
    "import warnings\n",
    "import inspect\n",
    "from collections import Counter\n",
    "from multiprocessing import Pool\n",
    "warnings.filterwarnings('ignore')\n",
    "\n",
    "import numpy as np\n",
    "import pandas as pd\n",
    "from scipy.stats import t\n",
    "import matplotlib.pyplot as plt\n",
    "from matplotlib.patches import Patch\n",
    "from bs4 import BeautifulSoup\n",
    "from tqdm import tqdm\n",
    "from IPython.display import display\n",
    "\n",
    "sys.path.append(\"..\")\n",
    "from utils.config import (\n",
    "    google_domains,\n",
    "    cat2color\n",
    ")"
   ]
  },
  {
   "cell_type": "code",
   "execution_count": 4,
   "metadata": {},
   "outputs": [],
   "source": [
    "# input\n",
    "fn_metadata = '../data/intermediary/element_metadata_15k.jsonl.gz'\n",
    "# fn_metadata = '/mnt/n1p1/data/platforms/google/experiment/intermediary__V1/element_metadata_15k.jsonl.gz'\n",
    "# output\n",
    "output_dir = '../data/output'\n",
    "tables_dir = os.path.join(output_dir, 'tables/')\n",
    "figure_dir = os.path.join(output_dir, 'figures/')\n",
    "appendix_dir = os.path.join(output_dir, 'appendix/')\n",
    "\n",
    "for d in [tables_dir, figure_dir, appendix_dir]:\n",
    "    os.makedirs(d, exist_ok=True)"
   ]
  },
  {
   "cell_type": "code",
   "execution_count": 5,
   "metadata": {},
   "outputs": [],
   "source": [
    "df = pd.read_json(fn_metadata, lines=True, \n",
    "                  compression='gzip')"
   ]
  },
  {
   "cell_type": "code",
   "execution_count": 6,
   "metadata": {},
   "outputs": [
    {
     "data": {
      "text/plain": [
       "15269"
      ]
     },
     "execution_count": 6,
     "metadata": {},
     "output_type": "execute_result"
    }
   ],
   "source": [
    "df.fn_input.nunique()"
   ]
  },
  {
   "cell_type": "code",
   "execution_count": 7,
   "metadata": {},
   "outputs": [
    {
     "name": "stdout",
     "output_type": "stream",
     "text": [
      "{\n",
      "  \"text\": \"Total Wine \\u203a beer \\u203a white-claw-har...White Claw Hard Seltzer Lime | Total Wine & MoreShop White Claw Hard Seltzer Lime at the best prices. Explore thousands of wines, spirits and beers, and shop online for delivery or pickup in a\\u00a0... 4.0  (3)  \\u00b7 $8.49 \\u00b7 In stock\",\n",
      "  \"link\": \"https://www.totalwine.com/beer/seltzers-flavored-beverages/hard-seltzer/white-claw-hard-seltzer-lime/p/163273126\",\n",
      "  \"domain\": \"totalwine.com\",\n",
      "  \"xpath\": \"/html/body/div[10]/div/div[6]/div/div[3]/div/div[4]/div[2]\",\n",
      "  \"category\": \"organic-search_result\",\n",
      "  \"tag\": \"div\",\n",
      "  \"attrs\": {\n",
      "    \"data-hveid\": \"CAgQCQ\"\n",
      "  },\n",
      "  \"dimensions\": {\n",
      "    \"height\": 173.0,\n",
      "    \"width\": 347.0\n",
      "  },\n",
      "  \"location\": {\n",
      "    \"x\": 8,\n",
      "    \"y\": 3289\n",
      "  },\n",
      "  \"area_page\": 60031.0,\n",
      "  \"fn_input\": \"../data/input/google_search/iPhone-X/2019/12/06/White-Claw-Hard-Seltzer/html/webpage_raw.html\",\n",
      "  \"position_last_element\": 4200.0,\n",
      "  \"fn_metadata\": \"../data/intermediary/google_search/iPhone-X/2019/12/06/White-Claw-Hard-Seltzer/json/parsed_meta.jsonl\",\n",
      "  \"q1_area\": 0.0,\n",
      "  \"q2_area\": 0.0,\n",
      "  \"q3_area\": 0.0,\n",
      "  \"q4_area\": 35741.0,\n",
      "  \"q5_area\": 24290.0,\n",
      "  \"label\": \"organic\",\n",
      "  \"category_standard\": \"organic-search_result\",\n",
      "  \"date_parsed\": \"2020-03-21\",\n",
      "  \"date_collected\": \"2019-12-06\"\n",
      "}\n"
     ]
    }
   ],
   "source": [
    "print(json.dumps(df.sample(1).iloc[-1].to_dict(), \n",
    "                 indent=2))"
   ]
  },
  {
   "cell_type": "code",
   "execution_count": 8,
   "metadata": {},
   "outputs": [
    {
     "data": {
      "text/plain": [
       "label\n",
       "link       0.377268\n",
       "organic    0.236767\n",
       "answer     0.231890\n",
       "amp        0.106581\n",
       "ads        0.047493\n",
       "Name: q1_area, dtype: float64"
      ]
     },
     "execution_count": 8,
     "metadata": {},
     "output_type": "execute_result"
    }
   ],
   "source": [
    "# first glance\n",
    "df.groupby('label') \\\n",
    "  .q1_area.sum() \\\n",
    "  .sort_values(ascending=False) / df.q1_area.sum()"
   ]
  },
  {
   "cell_type": "code",
   "execution_count": 9,
   "metadata": {},
   "outputs": [
    {
     "data": {
      "text/plain": [
       "label\n",
       "organic    0.447602\n",
       "link       0.275109\n",
       "answer     0.134530\n",
       "amp        0.133131\n",
       "ads        0.009628\n",
       "Name: area_page, dtype: float64"
      ]
     },
     "execution_count": 9,
     "metadata": {},
     "output_type": "execute_result"
    }
   ],
   "source": [
    "# full page\n",
    "df.groupby('label') \\\n",
    "  .area_page.sum() \\\n",
    "  .sort_values(ascending=False)/ df.area_page.sum()"
   ]
  },
  {
   "cell_type": "markdown",
   "metadata": {},
   "source": [
    "## Breakdown of area and frequency for each category"
   ]
  },
  {
   "cell_type": "code",
   "execution_count": 10,
   "metadata": {},
   "outputs": [],
   "source": [
    "# get area per standardized category\n",
    "cat_area_ = (df.groupby('category_standard')\n",
    "               .area_page.sum()\n",
    "               .divide(df.area_page.sum()))\n",
    "\n",
    "cat_area =(df.groupby('category_standard')\n",
    "             .q1_area.sum()\n",
    "             .divide(df.q1_area.sum()))"
   ]
  },
  {
   "cell_type": "code",
   "execution_count": 11,
   "metadata": {},
   "outputs": [
    {
     "data": {
      "text/plain": [
       "category_standard\n",
       "ads                             0.047493\n",
       "amp-card                        0.099080\n",
       "amp-search_result               0.000176\n",
       "amp-search_result_3             0.004296\n",
       "amp-visual_stories              0.003029\n",
       "google-answer                   0.196754\n",
       "google-expandable-answer        0.035136\n",
       "google-images                   0.121809\n",
       "google-knowledge-panel-links    0.054374\n",
       "google-maps                     0.012783\n",
       "google-misc                     0.090981\n",
       "google-search                   0.067852\n",
       "google-video                    0.029470\n",
       "organic                         0.105165\n",
       "organic-search_result           0.131602\n",
       "Name: q1_area, dtype: float64"
      ]
     },
     "execution_count": 11,
     "metadata": {},
     "output_type": "execute_result"
    }
   ],
   "source": [
    "(df.groupby('category_standard')\n",
    "             .q1_area.sum()\n",
    "             .divide(df.q1_area.sum()))"
   ]
  },
  {
   "cell_type": "code",
   "execution_count": 12,
   "metadata": {},
   "outputs": [],
   "source": [
    "n_pages = df[df.q1_area != 0].fn_input.nunique()"
   ]
  },
  {
   "cell_type": "code",
   "execution_count": 13,
   "metadata": {},
   "outputs": [],
   "source": [
    "# number of elements on first glance\n",
    "cat_count = Counter()\n",
    "for fn, _df in df[df.q1_area != 0].groupby('fn_input'):\n",
    "    cat_count.update(_df.category_standard.unique())\n",
    "df_wc = pd.DataFrame(cat_count.most_common(50),\n",
    "                     columns=['category_standard', 'count'])\n",
    "df_wc['freq'] = df_wc['count'] / n_pages \n",
    "\n",
    "# number of elements on full page\n",
    "cat_count_ = Counter()\n",
    "for fn, _df in df[df.area_page != 0].groupby('fn_input'):\n",
    "    cat_count_.update(_df.category_standard.unique())\n",
    "df_wc_ = pd.DataFrame(cat_count_.most_common(50),\n",
    "                     columns=['category_standard', 'count_page'])\n",
    "df_wc_['freq_page'] = df_wc_['count_page'] / n_pages "
   ]
  },
  {
   "cell_type": "code",
   "execution_count": 14,
   "metadata": {},
   "outputs": [],
   "source": [
    "cat_amp = df[df.label == 'amp'].category_standard.unique()\n",
    "cat_sd = df[df.label == 'link'].category_standard.unique()\n",
    "cat_rt = df[df.label == 'answer'].category_standard.unique()\n",
    "cat_ad = df[df.label == 'ads'].category_standard.unique()\n",
    "cat_og = df[df.label == 'organic'].category_standard.unique()"
   ]
  },
  {
   "cell_type": "code",
   "execution_count": 15,
   "metadata": {},
   "outputs": [],
   "source": [
    "def format_number(x):\n",
    "    \"\"\"Makes it nice for printing\"\"\"\n",
    "    x = x * 100\n",
    "    x = round(x, 2)\n",
    "    return f\"{x}%\""
   ]
  },
  {
   "cell_type": "code",
   "execution_count": 16,
   "metadata": {},
   "outputs": [],
   "source": [
    "def breakdown(categories : list(), \n",
    "              col='category_standard'):\n",
    "    \"\"\"Shows the area coverage and page frequency for each category  \"\"\"\n",
    "    full_page =df_wc_[df_wc_[col].isin(categories)] \\\n",
    "            .join(cat_area_.to_frame(),\n",
    "                  on=col,\n",
    "                  how='left')\n",
    "\n",
    "    output = (df_wc[df_wc[col].isin(categories)]\n",
    "        .join(cat_area.to_frame(),\n",
    "              on=col,\n",
    "              how='left')\n",
    "        .sort_values(by=['q1_area'], \n",
    "                     ascending=False)\n",
    "        .reset_index(drop=True)\n",
    "        .merge(full_page)\n",
    "    )\n",
    "    \n",
    "    output = output[[c for c in output.columns if 'count' not in c]]\n",
    "        \n",
    "    fg_area = output['q1_area'].sum()\n",
    "    fp_area = output['area_page'].sum()\n",
    "    \n",
    "    output = output.append(\n",
    "        {'category_standard' : 'Total', \n",
    "         'freq' : np.nan, \n",
    "         'q1_area' : fg_area, \n",
    "         'freq_page' : np.nan, \n",
    "         'area_page' : fp_area},\n",
    "        ignore_index=True\n",
    "    )\n",
    "    return output.set_index(col)\n"
   ]
  },
  {
   "cell_type": "markdown",
   "metadata": {},
   "source": [
    "## Breakdown of area and frequency for each category"
   ]
  },
  {
   "cell_type": "code",
   "execution_count": 17,
   "metadata": {},
   "outputs": [],
   "source": [
    "columns = [\n",
    "   ('Above the fold', 'area'),\n",
    "   ('Above the fold' , 'area'),\n",
    "   ('Full page', 'freq'),\n",
    "   ('Full page' , 'area'),\n",
    "]"
   ]
  },
  {
   "cell_type": "code",
   "execution_count": 18,
   "metadata": {},
   "outputs": [],
   "source": [
    "total_area = df['q1_area'].sum()\n",
    "total_area_fp = df['area_page'].sum()\n",
    "n_pages = df.fn_input.nunique()"
   ]
  },
  {
   "cell_type": "code",
   "execution_count": 19,
   "metadata": {},
   "outputs": [],
   "source": [
    "label2publabel = {\n",
    "    'link' : 'Google Product',\n",
    "    'answer' : 'Google Answer',\n",
    "    'organic' : 'Organic',\n",
    "    'amp' : 'AMP',\n",
    "    'ads' : 'Ads'\n",
    "}"
   ]
  },
  {
   "cell_type": "code",
   "execution_count": 20,
   "metadata": {},
   "outputs": [],
   "source": [
    "labels_in_order = [\n",
    "    'organic',\n",
    "    'amp',\n",
    "    'answer',\n",
    "    'link',\n",
    "    'ads'\n",
    "]"
   ]
  },
  {
   "cell_type": "code",
   "execution_count": 21,
   "metadata": {},
   "outputs": [
    {
     "data": {
      "text/html": [
       "<div>\n",
       "<style scoped>\n",
       "    .dataframe tbody tr th:only-of-type {\n",
       "        vertical-align: middle;\n",
       "    }\n",
       "\n",
       "    .dataframe tbody tr th {\n",
       "        vertical-align: top;\n",
       "    }\n",
       "\n",
       "    .dataframe thead tr th {\n",
       "        text-align: left;\n",
       "    }\n",
       "\n",
       "    .dataframe thead tr:last-of-type th {\n",
       "        text-align: right;\n",
       "    }\n",
       "</style>\n",
       "<table border=\"1\" class=\"dataframe\">\n",
       "  <thead>\n",
       "    <tr>\n",
       "      <th></th>\n",
       "      <th colspan=\"2\" halign=\"left\">Above the fold</th>\n",
       "      <th colspan=\"2\" halign=\"left\">Full page</th>\n",
       "    </tr>\n",
       "    <tr>\n",
       "      <th></th>\n",
       "      <th>freq</th>\n",
       "      <th>area</th>\n",
       "      <th>freq</th>\n",
       "      <th>area</th>\n",
       "    </tr>\n",
       "    <tr>\n",
       "      <th>category_standard</th>\n",
       "      <th></th>\n",
       "      <th></th>\n",
       "      <th></th>\n",
       "      <th></th>\n",
       "    </tr>\n",
       "  </thead>\n",
       "  <tbody>\n",
       "    <tr>\n",
       "      <th>ads</th>\n",
       "      <td>8.53%</td>\n",
       "      <td>4.75%</td>\n",
       "      <td>9.51%</td>\n",
       "      <td>0.96%</td>\n",
       "    </tr>\n",
       "    <tr>\n",
       "      <th>Total</th>\n",
       "      <td>nan%</td>\n",
       "      <td>4.75%</td>\n",
       "      <td>nan%</td>\n",
       "      <td>0.96%</td>\n",
       "    </tr>\n",
       "  </tbody>\n",
       "</table>\n",
       "</div>"
      ],
      "text/plain": [
       "                  Above the fold        Full page       \n",
       "                            freq   area      freq   area\n",
       "category_standard                                       \n",
       "ads                        8.53%  4.75%     9.51%  0.96%\n",
       "Total                       nan%  4.75%      nan%  0.96%"
      ]
     },
     "metadata": {},
     "output_type": "display_data"
    },
    {
     "data": {
      "text/html": [
       "<div>\n",
       "<style scoped>\n",
       "    .dataframe tbody tr th:only-of-type {\n",
       "        vertical-align: middle;\n",
       "    }\n",
       "\n",
       "    .dataframe tbody tr th {\n",
       "        vertical-align: top;\n",
       "    }\n",
       "\n",
       "    .dataframe thead tr th {\n",
       "        text-align: left;\n",
       "    }\n",
       "\n",
       "    .dataframe thead tr:last-of-type th {\n",
       "        text-align: right;\n",
       "    }\n",
       "</style>\n",
       "<table border=\"1\" class=\"dataframe\">\n",
       "  <thead>\n",
       "    <tr>\n",
       "      <th></th>\n",
       "      <th colspan=\"2\" halign=\"left\">Above the fold</th>\n",
       "      <th colspan=\"2\" halign=\"left\">Full page</th>\n",
       "    </tr>\n",
       "    <tr>\n",
       "      <th></th>\n",
       "      <th>freq</th>\n",
       "      <th>area</th>\n",
       "      <th>freq</th>\n",
       "      <th>area</th>\n",
       "    </tr>\n",
       "    <tr>\n",
       "      <th>category_standard</th>\n",
       "      <th></th>\n",
       "      <th></th>\n",
       "      <th></th>\n",
       "      <th></th>\n",
       "    </tr>\n",
       "  </thead>\n",
       "  <tbody>\n",
       "    <tr>\n",
       "      <th>amp-card</th>\n",
       "      <td>22.71%</td>\n",
       "      <td>9.91%</td>\n",
       "      <td>56.19%</td>\n",
       "      <td>4.28%</td>\n",
       "    </tr>\n",
       "    <tr>\n",
       "      <th>amp-search_result_3</th>\n",
       "      <td>1.93%</td>\n",
       "      <td>0.43%</td>\n",
       "      <td>66.61%</td>\n",
       "      <td>8.6%</td>\n",
       "    </tr>\n",
       "    <tr>\n",
       "      <th>amp-visual_stories</th>\n",
       "      <td>3.38%</td>\n",
       "      <td>0.3%</td>\n",
       "      <td>5.51%</td>\n",
       "      <td>0.1%</td>\n",
       "    </tr>\n",
       "    <tr>\n",
       "      <th>amp-search_result</th>\n",
       "      <td>0.18%</td>\n",
       "      <td>0.02%</td>\n",
       "      <td>4.92%</td>\n",
       "      <td>0.34%</td>\n",
       "    </tr>\n",
       "    <tr>\n",
       "      <th>Total</th>\n",
       "      <td>nan%</td>\n",
       "      <td>10.66%</td>\n",
       "      <td>nan%</td>\n",
       "      <td>13.31%</td>\n",
       "    </tr>\n",
       "  </tbody>\n",
       "</table>\n",
       "</div>"
      ],
      "text/plain": [
       "                    Above the fold         Full page        \n",
       "                              freq    area      freq    area\n",
       "category_standard                                           \n",
       "amp-card                    22.71%   9.91%    56.19%   4.28%\n",
       "amp-search_result_3          1.93%   0.43%    66.61%    8.6%\n",
       "amp-visual_stories           3.38%    0.3%     5.51%    0.1%\n",
       "amp-search_result            0.18%   0.02%     4.92%   0.34%\n",
       "Total                         nan%  10.66%      nan%  13.31%"
      ]
     },
     "metadata": {},
     "output_type": "display_data"
    },
    {
     "data": {
      "text/html": [
       "<div>\n",
       "<style scoped>\n",
       "    .dataframe tbody tr th:only-of-type {\n",
       "        vertical-align: middle;\n",
       "    }\n",
       "\n",
       "    .dataframe tbody tr th {\n",
       "        vertical-align: top;\n",
       "    }\n",
       "\n",
       "    .dataframe thead tr th {\n",
       "        text-align: left;\n",
       "    }\n",
       "\n",
       "    .dataframe thead tr:last-of-type th {\n",
       "        text-align: right;\n",
       "    }\n",
       "</style>\n",
       "<table border=\"1\" class=\"dataframe\">\n",
       "  <thead>\n",
       "    <tr>\n",
       "      <th></th>\n",
       "      <th colspan=\"2\" halign=\"left\">Above the fold</th>\n",
       "      <th colspan=\"2\" halign=\"left\">Full page</th>\n",
       "    </tr>\n",
       "    <tr>\n",
       "      <th></th>\n",
       "      <th>freq</th>\n",
       "      <th>area</th>\n",
       "      <th>freq</th>\n",
       "      <th>area</th>\n",
       "    </tr>\n",
       "    <tr>\n",
       "      <th>category_standard</th>\n",
       "      <th></th>\n",
       "      <th></th>\n",
       "      <th></th>\n",
       "      <th></th>\n",
       "    </tr>\n",
       "  </thead>\n",
       "  <tbody>\n",
       "    <tr>\n",
       "      <th>google-answer</th>\n",
       "      <td>71.64%</td>\n",
       "      <td>19.68%</td>\n",
       "      <td>93.68%</td>\n",
       "      <td>5.95%</td>\n",
       "    </tr>\n",
       "    <tr>\n",
       "      <th>google-expandable-answer</th>\n",
       "      <td>24.53%</td>\n",
       "      <td>3.51%</td>\n",
       "      <td>89.74%</td>\n",
       "      <td>7.5%</td>\n",
       "    </tr>\n",
       "    <tr>\n",
       "      <th>Total</th>\n",
       "      <td>nan%</td>\n",
       "      <td>23.19%</td>\n",
       "      <td>nan%</td>\n",
       "      <td>13.45%</td>\n",
       "    </tr>\n",
       "  </tbody>\n",
       "</table>\n",
       "</div>"
      ],
      "text/plain": [
       "                         Above the fold         Full page        \n",
       "                                   freq    area      freq    area\n",
       "category_standard                                                \n",
       "google-answer                    71.64%  19.68%    93.68%   5.95%\n",
       "google-expandable-answer         24.53%   3.51%    89.74%    7.5%\n",
       "Total                              nan%  23.19%      nan%  13.45%"
      ]
     },
     "metadata": {},
     "output_type": "display_data"
    },
    {
     "data": {
      "text/html": [
       "<div>\n",
       "<style scoped>\n",
       "    .dataframe tbody tr th:only-of-type {\n",
       "        vertical-align: middle;\n",
       "    }\n",
       "\n",
       "    .dataframe tbody tr th {\n",
       "        vertical-align: top;\n",
       "    }\n",
       "\n",
       "    .dataframe thead tr th {\n",
       "        text-align: left;\n",
       "    }\n",
       "\n",
       "    .dataframe thead tr:last-of-type th {\n",
       "        text-align: right;\n",
       "    }\n",
       "</style>\n",
       "<table border=\"1\" class=\"dataframe\">\n",
       "  <thead>\n",
       "    <tr>\n",
       "      <th></th>\n",
       "      <th colspan=\"2\" halign=\"left\">Above the fold</th>\n",
       "      <th colspan=\"2\" halign=\"left\">Full page</th>\n",
       "    </tr>\n",
       "    <tr>\n",
       "      <th></th>\n",
       "      <th>freq</th>\n",
       "      <th>area</th>\n",
       "      <th>freq</th>\n",
       "      <th>area</th>\n",
       "    </tr>\n",
       "    <tr>\n",
       "      <th>category_standard</th>\n",
       "      <th></th>\n",
       "      <th></th>\n",
       "      <th></th>\n",
       "      <th></th>\n",
       "    </tr>\n",
       "  </thead>\n",
       "  <tbody>\n",
       "    <tr>\n",
       "      <th>google-images</th>\n",
       "      <td>72.38%</td>\n",
       "      <td>12.18%</td>\n",
       "      <td>85.8%</td>\n",
       "      <td>2.63%</td>\n",
       "    </tr>\n",
       "    <tr>\n",
       "      <th>google-misc</th>\n",
       "      <td>88.96%</td>\n",
       "      <td>9.1%</td>\n",
       "      <td>99.23%</td>\n",
       "      <td>3.91%</td>\n",
       "    </tr>\n",
       "    <tr>\n",
       "      <th>google-search</th>\n",
       "      <td>39.33%</td>\n",
       "      <td>6.79%</td>\n",
       "      <td>99.99%</td>\n",
       "      <td>15.67%</td>\n",
       "    </tr>\n",
       "    <tr>\n",
       "      <th>google-knowledge-panel-links</th>\n",
       "      <td>68.19%</td>\n",
       "      <td>5.44%</td>\n",
       "      <td>72.7%</td>\n",
       "      <td>1.09%</td>\n",
       "    </tr>\n",
       "    <tr>\n",
       "      <th>google-video</th>\n",
       "      <td>17.12%</td>\n",
       "      <td>2.95%</td>\n",
       "      <td>59.4%</td>\n",
       "      <td>3.83%</td>\n",
       "    </tr>\n",
       "    <tr>\n",
       "      <th>google-maps</th>\n",
       "      <td>6.61%</td>\n",
       "      <td>1.28%</td>\n",
       "      <td>9.6%</td>\n",
       "      <td>0.38%</td>\n",
       "    </tr>\n",
       "    <tr>\n",
       "      <th>Total</th>\n",
       "      <td>nan%</td>\n",
       "      <td>37.73%</td>\n",
       "      <td>nan%</td>\n",
       "      <td>27.51%</td>\n",
       "    </tr>\n",
       "  </tbody>\n",
       "</table>\n",
       "</div>"
      ],
      "text/plain": [
       "                             Above the fold         Full page        \n",
       "                                       freq    area      freq    area\n",
       "category_standard                                                    \n",
       "google-images                        72.38%  12.18%     85.8%   2.63%\n",
       "google-misc                          88.96%    9.1%    99.23%   3.91%\n",
       "google-search                        39.33%   6.79%    99.99%  15.67%\n",
       "google-knowledge-panel-links         68.19%   5.44%     72.7%   1.09%\n",
       "google-video                         17.12%   2.95%     59.4%   3.83%\n",
       "google-maps                           6.61%   1.28%      9.6%   0.38%\n",
       "Total                                  nan%  37.73%      nan%  27.51%"
      ]
     },
     "metadata": {},
     "output_type": "display_data"
    },
    {
     "data": {
      "text/html": [
       "<div>\n",
       "<style scoped>\n",
       "    .dataframe tbody tr th:only-of-type {\n",
       "        vertical-align: middle;\n",
       "    }\n",
       "\n",
       "    .dataframe tbody tr th {\n",
       "        vertical-align: top;\n",
       "    }\n",
       "\n",
       "    .dataframe thead tr th {\n",
       "        text-align: left;\n",
       "    }\n",
       "\n",
       "    .dataframe thead tr:last-of-type th {\n",
       "        text-align: right;\n",
       "    }\n",
       "</style>\n",
       "<table border=\"1\" class=\"dataframe\">\n",
       "  <thead>\n",
       "    <tr>\n",
       "      <th></th>\n",
       "      <th colspan=\"2\" halign=\"left\">Above the fold</th>\n",
       "      <th colspan=\"2\" halign=\"left\">Full page</th>\n",
       "    </tr>\n",
       "    <tr>\n",
       "      <th></th>\n",
       "      <th>freq</th>\n",
       "      <th>area</th>\n",
       "      <th>freq</th>\n",
       "      <th>area</th>\n",
       "    </tr>\n",
       "    <tr>\n",
       "      <th>category_standard</th>\n",
       "      <th></th>\n",
       "      <th></th>\n",
       "      <th></th>\n",
       "      <th></th>\n",
       "    </tr>\n",
       "  </thead>\n",
       "  <tbody>\n",
       "    <tr>\n",
       "      <th>organic-search_result</th>\n",
       "      <td>36.6%</td>\n",
       "      <td>13.16%</td>\n",
       "      <td>99.97%</td>\n",
       "      <td>38.2%</td>\n",
       "    </tr>\n",
       "    <tr>\n",
       "      <th>organic</th>\n",
       "      <td>78.33%</td>\n",
       "      <td>10.52%</td>\n",
       "      <td>95.15%</td>\n",
       "      <td>6.56%</td>\n",
       "    </tr>\n",
       "    <tr>\n",
       "      <th>Total</th>\n",
       "      <td>nan%</td>\n",
       "      <td>23.68%</td>\n",
       "      <td>nan%</td>\n",
       "      <td>44.76%</td>\n",
       "    </tr>\n",
       "  </tbody>\n",
       "</table>\n",
       "</div>"
      ],
      "text/plain": [
       "                      Above the fold         Full page        \n",
       "                                freq    area      freq    area\n",
       "category_standard                                             \n",
       "organic-search_result          36.6%  13.16%    99.97%   38.2%\n",
       "organic                       78.33%  10.52%    95.15%   6.56%\n",
       "Total                           nan%  23.68%      nan%  44.76%"
      ]
     },
     "metadata": {},
     "output_type": "display_data"
    }
   ],
   "source": [
    "df_cat_agg = pd.DataFrame()\n",
    "for categories in [cat_ad, cat_amp, cat_rt, cat_sd, cat_og]:\n",
    "    output = breakdown(categories)\n",
    "    df_cat_agg = df_cat_agg.append(output)\n",
    "    \n",
    "    output.columns = pd.MultiIndex.from_tuples([\n",
    "       ('Above the fold', 'freq'),\n",
    "       ('Above the fold' , 'area'),\n",
    "       ('Full page', 'freq'),\n",
    "       ('Full page' , 'area'),\n",
    "    ])\n",
    "    for c, dtype in output.dtypes.items():\n",
    "        if pd.api.types.is_numeric_dtype(output[c]):\n",
    "            output[c] = output[c].apply(format_number)\n",
    "    \n",
    "    display(output)"
   ]
  },
  {
   "cell_type": "code",
   "execution_count": 22,
   "metadata": {},
   "outputs": [],
   "source": [
    "total_area = df['q1_area'].sum()"
   ]
  },
  {
   "cell_type": "code",
   "execution_count": 23,
   "metadata": {},
   "outputs": [
    {
     "name": "stdout",
     "output_type": "stream",
     "text": [
      "               Above the fold        First page        \n",
      "                         area   freq       area    freq\n",
      "Organic                 23.7%  90.3%      44.8%  100.0%\n",
      "AMP                     10.7%  27.0%      13.3%   80.7%\n",
      "Google Answer           23.2%  81.8%      13.5%   99.4%\n",
      "Google Product          37.7%  95.9%      27.5%  100.0%\n",
      "Ads                      4.7%   8.5%       1.0%    9.5%\n"
     ]
    }
   ],
   "source": [
    "data = {}\n",
    "for label in labels_in_order:\n",
    "    _df = df[df.label == label]\n",
    "    area = (_df['q1_area'].sum() / total_area)\n",
    "    freq = _df[_df['q1_area'] != 0].fn_input.nunique() / n_pages\n",
    "    \n",
    "    area_page = (_df['area_page'].sum() / total_area_fp)\n",
    "    freq_page = _df[_df['area_page'] != 0].fn_input.nunique() / n_pages\n",
    "    \n",
    "    data[label2publabel.get(label,label)] = {\n",
    "        ('Above the fold', 'area') : area,\n",
    "        ('Above the fold', 'freq') : freq,\n",
    "        ('First page', 'area') : area_page,\n",
    "        ('First page', 'freq') : freq_page,\n",
    "    }\n",
    "    \n",
    "cat_breakdown = pd.DataFrame(data).T\n",
    "cat_breakdown.columns = pd.MultiIndex.from_tuples([\n",
    "    ('Above the fold', 'area'),\n",
    "    ('Above the fold', 'freq'),\n",
    "    ('First page', 'area'),\n",
    "    ('First page', 'freq'),\n",
    "])\n",
    "print((cat_breakdown * 100).round(1).astype(str) + '%')"
   ]
  },
  {
   "cell_type": "code",
   "execution_count": 24,
   "metadata": {},
   "outputs": [],
   "source": [
    "fn_cats = '../data/output/tables/T1_area_freq_by_category.csv'\n",
    "cat_breakdown.to_csv(fn_cats)"
   ]
  },
  {
   "cell_type": "markdown",
   "metadata": {},
   "source": [
    "## Ratios"
   ]
  },
  {
   "cell_type": "code",
   "execution_count": 25,
   "metadata": {},
   "outputs": [],
   "source": [
    "labels_in_order = [\n",
    "    'organic',\n",
    "    'amp',\n",
    "    'answer',\n",
    "    'link',\n",
    "    'ads'\n",
    "]"
   ]
  },
  {
   "cell_type": "code",
   "execution_count": 26,
   "metadata": {},
   "outputs": [],
   "source": [
    "area_cols = ['q1_area', 'q2_area', \n",
    "             'q3_area', 'q4_area',\n",
    "             'q5_area', 'area_page']"
   ]
  },
  {
   "cell_type": "code",
   "execution_count": 27,
   "metadata": {},
   "outputs": [],
   "source": [
    "new_index = [\n",
    "    'Top of page',\n",
    "    'Second fifth',\n",
    "    'Middle of Page',\n",
    "    'Fourth fifth',\n",
    "    'Bottom of page',\n",
    "]\n",
    "\n",
    "label2label = {\n",
    "    'organic' : 'Non-Google',\n",
    "    'amp' : 'AMP',\n",
    "    'answer' : 'Google Answer',\n",
    "    'link' : 'Google Product',\n",
    "    'ads' : \"Ads\",\n",
    "}"
   ]
  },
  {
   "cell_type": "code",
   "execution_count": 28,
   "metadata": {},
   "outputs": [
    {
     "data": {
      "text/plain": [
       "dict_items([('organic', '#b2b2b2'), ('amp', '#6cb1ee'), ('answer', '#34a853'), ('link', '#fbbc05'), ('ads', '#ea4335')])"
      ]
     },
     "execution_count": 28,
     "metadata": {},
     "output_type": "execute_result"
    }
   ],
   "source": [
    "cat2color.items()"
   ]
  },
  {
   "cell_type": "code",
   "execution_count": 29,
   "metadata": {},
   "outputs": [],
   "source": [
    "from matplotlib.lines import Line2D\n",
    "\n",
    "legend_elements = [Line2D([0], [0], marker='o', color='w', \n",
    "                          label=label2label.get(label),\n",
    "                          markerfacecolor=c, markersize=10)\n",
    "                   for label, c in cat2color.items()][::-1]"
   ]
  },
  {
   "cell_type": "code",
   "execution_count": 30,
   "metadata": {},
   "outputs": [
    {
     "name": "stderr",
     "output_type": "stream",
     "text": [
      "100%|██████████| 6/6 [00:04<00:00,  1.28it/s]\n"
     ]
    }
   ],
   "source": [
    "data = []\n",
    "for q in tqdm(area_cols):\n",
    "    _df = df[df[q] > 0]\n",
    "    total_area = _df[q].sum()\n",
    "    row = {'quantile' : q.replace('_area', '')}\n",
    "    for label in labels_in_order:\n",
    "        __df = _df[_df.label == label]\n",
    "        area = (__df[q].sum() / total_area)\n",
    "        freq = __df.fn_input.nunique() / n_pages\n",
    "        row['area', label2publabel.get(label,label)] = area\n",
    "        row['freq', label2publabel.get(label,label)] = freq\n",
    "    data.append(row)"
   ]
  },
  {
   "cell_type": "code",
   "execution_count": 31,
   "metadata": {},
   "outputs": [],
   "source": [
    "quantiles = pd.DataFrame(data)\n",
    "quantiles.set_index('quantile', inplace=True)\n",
    "quantiles.columns = pd.MultiIndex.from_tuples(quantiles.columns)"
   ]
  },
  {
   "cell_type": "code",
   "execution_count": 32,
   "metadata": {},
   "outputs": [
    {
     "data": {
      "text/html": [
       "<div>\n",
       "<style scoped>\n",
       "    .dataframe tbody tr th:only-of-type {\n",
       "        vertical-align: middle;\n",
       "    }\n",
       "\n",
       "    .dataframe tbody tr th {\n",
       "        vertical-align: top;\n",
       "    }\n",
       "\n",
       "    .dataframe thead tr th {\n",
       "        text-align: left;\n",
       "    }\n",
       "\n",
       "    .dataframe thead tr:last-of-type th {\n",
       "        text-align: right;\n",
       "    }\n",
       "</style>\n",
       "<table border=\"1\" class=\"dataframe\">\n",
       "  <thead>\n",
       "    <tr>\n",
       "      <th></th>\n",
       "      <th colspan=\"5\" halign=\"left\">area</th>\n",
       "    </tr>\n",
       "    <tr>\n",
       "      <th></th>\n",
       "      <th>Organic</th>\n",
       "      <th>AMP</th>\n",
       "      <th>Google Answer</th>\n",
       "      <th>Google Product</th>\n",
       "      <th>Ads</th>\n",
       "    </tr>\n",
       "    <tr>\n",
       "      <th>quantile</th>\n",
       "      <th></th>\n",
       "      <th></th>\n",
       "      <th></th>\n",
       "      <th></th>\n",
       "      <th></th>\n",
       "    </tr>\n",
       "  </thead>\n",
       "  <tbody>\n",
       "    <tr>\n",
       "      <th>q1</th>\n",
       "      <td>0.236767</td>\n",
       "      <td>0.106581</td>\n",
       "      <td>0.231890</td>\n",
       "      <td>0.377268</td>\n",
       "      <td>0.047493</td>\n",
       "    </tr>\n",
       "    <tr>\n",
       "      <th>q2</th>\n",
       "      <td>0.508164</td>\n",
       "      <td>0.102970</td>\n",
       "      <td>0.140354</td>\n",
       "      <td>0.247772</td>\n",
       "      <td>0.000740</td>\n",
       "    </tr>\n",
       "    <tr>\n",
       "      <th>q3</th>\n",
       "      <td>0.513991</td>\n",
       "      <td>0.125007</td>\n",
       "      <td>0.126538</td>\n",
       "      <td>0.234445</td>\n",
       "      <td>0.000019</td>\n",
       "    </tr>\n",
       "    <tr>\n",
       "      <th>q4</th>\n",
       "      <td>0.677709</td>\n",
       "      <td>0.219281</td>\n",
       "      <td>0.032135</td>\n",
       "      <td>0.069943</td>\n",
       "      <td>0.000932</td>\n",
       "    </tr>\n",
       "    <tr>\n",
       "      <th>q5</th>\n",
       "      <td>0.255834</td>\n",
       "      <td>0.099288</td>\n",
       "      <td>0.163704</td>\n",
       "      <td>0.477046</td>\n",
       "      <td>0.004128</td>\n",
       "    </tr>\n",
       "  </tbody>\n",
       "</table>\n",
       "</div>"
      ],
      "text/plain": [
       "              area                                                 \n",
       "           Organic       AMP Google Answer Google Product       Ads\n",
       "quantile                                                           \n",
       "q1        0.236767  0.106581      0.231890       0.377268  0.047493\n",
       "q2        0.508164  0.102970      0.140354       0.247772  0.000740\n",
       "q3        0.513991  0.125007      0.126538       0.234445  0.000019\n",
       "q4        0.677709  0.219281      0.032135       0.069943  0.000932\n",
       "q5        0.255834  0.099288      0.163704       0.477046  0.004128"
      ]
     },
     "execution_count": 32,
     "metadata": {},
     "output_type": "execute_result"
    }
   ],
   "source": [
    "quantiles.loc[:,quantiles.columns.get_level_values(0) == 'area'].iloc[:-1]"
   ]
  },
  {
   "cell_type": "code",
   "execution_count": 33,
   "metadata": {},
   "outputs": [
    {
     "data": {
      "text/plain": [
       "['#b2b2b2', '#6cb1ee', '#34a853', '#fbbc05', '#ea4335']"
      ]
     },
     "execution_count": 33,
     "metadata": {},
     "output_type": "execute_result"
    }
   ],
   "source": [
    "[cat2color.get(c) for c in labels_in_order]"
   ]
  },
  {
   "cell_type": "code",
   "execution_count": 36,
   "metadata": {},
   "outputs": [
    {
     "data": {
      "text/plain": [
       "<matplotlib.legend.Legend at 0x7f284f53c970>"
      ]
     },
     "execution_count": 36,
     "metadata": {},
     "output_type": "execute_result"
    },
    {
     "data": {
      "image/png": "[encoded data removed]",
      "text/plain": [
       "<Figure size 432x576 with 1 Axes>"
      ]
     },
     "metadata": {
      "needs_background": "light"
     },
     "output_type": "display_data"
    }
   ],
   "source": [
    "viz = quantiles.loc[:,quantiles.columns.get_level_values(0) == 'area'].iloc[:-1]\n",
    "viz.index = new_index\n",
    "ax = viz[::-1].plot(\n",
    "    kind='barh', \n",
    "    stacked=True,\n",
    "    legend=False,\n",
    "    figsize=(6, 8),\n",
    "    width=.9,\n",
    "    color = [cat2color.get(c) for c in labels_in_order],\n",
    "    title=\"What's on a Google search page as you go down?\"\n",
    ")\n",
    "\n",
    "ax.set_xlabel(\"Percentage of section covered by module\")\n",
    "# plt.gca().yaxis.grid(True)\n",
    "\n",
    "# Hide the right and top spines\n",
    "ax.spines['right'].set_visible(False)\n",
    "ax.spines['top'].set_visible(False)\n",
    "\n",
    "# Only show ticks on the left and bottom spines\n",
    "ax.yaxis.set_ticks_position('left')\n",
    "ax.xaxis.set_ticks_position('bottom')\n",
    "\n",
    "# ax.xaxis.set_visible(False)\n",
    "ax.legend(handles=legend_elements[::-1],\n",
    "          bbox_to_anchor=(1.0, 0.5))\n",
    "# ax.legend(loc='upper center',\n",
    "#           handles=legend_elements,\n",
    "#           ncol=5, handletextpad=0.0)"
   ]
  },
  {
   "cell_type": "markdown",
   "metadata": {},
   "source": [
    "## Histogram of Google-occupied pixels"
   ]
  },
  {
   "cell_type": "markdown",
   "metadata": {},
   "source": [
    "\\begin{equation}\n",
    "X_{o} = \\frac{o}{o + g + amp + ad}\n",
    "\\end{equation}\n",
    "\n",
    "\\begin{equation}\n",
    "X_{o} = \\frac{tsl}{o + g + amp + ad}\n",
    "\\end{equation}\n",
    "\n",
    "Where <br>\n",
    "&nbsp;&nbsp;&nbsp;&nbsp; $X_{o}$: is the percentage of real estate that occupy non-Google elements.<br>\n",
    "&nbsp;&nbsp;&nbsp;&nbsp; $g$: is the total sum of variable real estate pixels occupied by Google links and answers.<br>\n",
    "&nbsp;&nbsp;&nbsp;&nbsp; $o$: is the total sum of variable real estate pixels occupied by Organic links.<br>\n",
    "&nbsp;&nbsp;&nbsp;&nbsp; $ad$: is the total sum of variable real estate pixels occupied by ads.<br>\n",
    "&nbsp;&nbsp;&nbsp;&nbsp; $amp$: is the total sum of variable real estate pixels occupied by AMP.<br>\n",
    "&nbsp;&nbsp;&nbsp;&nbsp; $tsl$: is the total sum of variable real estate pixels occupied by traditional organic, amp and YouTube search listings.<br>"
   ]
  },
  {
   "cell_type": "code",
   "execution_count": 37,
   "metadata": {},
   "outputs": [],
   "source": [
    "blue_link_categories = [\n",
    "    'organic-search_result',\n",
    "    'amp-search_result',\n",
    "    'link-youtube_search_result'\n",
    "]"
   ]
  },
  {
   "cell_type": "code",
   "execution_count": 38,
   "metadata": {},
   "outputs": [
    {
     "name": "stderr",
     "output_type": "stream",
     "text": [
      "100%|██████████| 15269/15269 [03:41<00:00, 68.90it/s]\n"
     ]
    }
   ],
   "source": [
    "pixels = {c : list() for c in area_cols}\n",
    "for search, df_ in tqdm(df.groupby('fn_input')):\n",
    "    for col in area_cols:\n",
    "        # get sum of pixels for each label.\n",
    "        ad = df_[df_.label == 'ads'][col].sum()\n",
    "        o = df_[df_.label == 'organic'][col].sum()\n",
    "        o_sr =  df_[\n",
    "            df_.category_standard.isin(blue_link_categories)\n",
    "        ][col].sum()\n",
    "        g = df_[(df_.label == 'link') | \n",
    "                (df_.label == 'answer')][col].sum()\n",
    "        amp = df_[df_.label == 'amp'][col].sum()\n",
    "        \n",
    "        # equations\n",
    "        e1 =  o / (g + ad + o + amp)\n",
    "        e2 = o_sr / (g + ad + o + amp)\n",
    "\n",
    "        row = {\n",
    "            'search_term' : search,\n",
    "            'ad' : ad,\n",
    "            'o' : o,\n",
    "            'g' : g,\n",
    "            'amp' : amp,\n",
    "            'e1' : e1,\n",
    "            'e2' : e2,\n",
    "        }\n",
    "\n",
    "        pixels[col].append(row)\n",
    "    \n",
    "df_pixels = pd.DataFrame(pixels['q1_area'])\n",
    "df_pixels_fp = pd.DataFrame(pixels['area_page'])"
   ]
  },
  {
   "cell_type": "code",
   "execution_count": 39,
   "metadata": {},
   "outputs": [],
   "source": [
    "df_pixels = pd.DataFrame(pixels['q1_area'])\n",
    "df_pixels_fp = pd.DataFrame(pixels['area_page'])"
   ]
  },
  {
   "cell_type": "code",
   "execution_count": 40,
   "metadata": {},
   "outputs": [],
   "source": [
    "df_pixels.e1.fillna(0, inplace=True)\n",
    "df_pixels.e2.fillna(0, inplace=True)"
   ]
  },
  {
   "cell_type": "code",
   "execution_count": 41,
   "metadata": {},
   "outputs": [],
   "source": [
    "fn_pixels = '../data/intermediary/pixels_above_the_fold.csv'\n",
    "fn_pixels_page = '../data/intermediary/pixels_page.csv'"
   ]
  },
  {
   "cell_type": "code",
   "execution_count": 42,
   "metadata": {},
   "outputs": [],
   "source": [
    "df_pixels.to_csv(fn_pixels, index=False)\n",
    "df_pixels_fp.to_csv(fn_pixels_page, index=False)"
   ]
  },
  {
   "cell_type": "code",
   "execution_count": 43,
   "metadata": {},
   "outputs": [],
   "source": [
    "# df_pixels[\n",
    "#     (df_pixels.ad > 1) &\n",
    "#     (df_pixels.o > 1) &\n",
    "#     (df_pixels.g > 1) &\n",
    "#     (df_pixels.amp > 1)\n",
    "# ].search_term.head(20).tolist()"
   ]
  },
  {
   "cell_type": "code",
   "execution_count": 44,
   "metadata": {},
   "outputs": [],
   "source": [
    "def hist(series, color='black', \n",
    "         title=None, \n",
    "         fn_out=None,\n",
    "         left_right_annotations = (None, None)):\n",
    "    ax = series.plot(kind='hist', \n",
    "                           figsize=(10,6),\n",
    "                           bins=10, \n",
    "                           rwidth=.95,\n",
    "                           color=color,\n",
    "                           alpha=.9,\n",
    "                           title=title)\n",
    "\n",
    "    ax.tick_params(axis=\"both\", which=\"both\", bottom=\"off\", \n",
    "                   top=\"off\", labelbottom=\"on\", left=\"off\", \n",
    "                   right=\"off\", labelleft=\"on\")\n",
    "\n",
    "    plt.annotate(left_right_annotations[0], \n",
    "                 (0.04, 0), (0, -21), \n",
    "                 xycoords='axes fraction', \n",
    "                 textcoords='offset points', \n",
    "                 va='top')\n",
    "    plt.annotate(left_right_annotations[-1], \n",
    "                 (.75, 0), (.75, -21), \n",
    "                 xycoords='axes fraction', \n",
    "                 textcoords='offset points', \n",
    "                 va='top')\n",
    "\n",
    "    ax.set_ylabel(\"Count of search pages\")\n",
    "\n",
    "    ax.set_axisbelow(True)\n",
    "    plt.gca().yaxis.grid(True)\n",
    "\n",
    "    # Hide the right and top spines\n",
    "    ax.spines['right'].set_visible(False)\n",
    "    ax.spines['top'].set_visible(False)\n",
    "\n",
    "    # Only show ticks on the left and bottom spines\n",
    "    ax.yaxis.set_ticks_position('left')\n",
    "    ax.xaxis.set_ticks_position('bottom')\n",
    "    \n",
    "    if fn_out:\n",
    "         plt.savefig(fn_out)\n",
    "    \n",
    "    return ax"
   ]
  },
  {
   "cell_type": "code",
   "execution_count": 45,
   "metadata": {},
   "outputs": [
    {
     "data": {
      "image/png": "[encoded data removed]",
      "text/plain": [
       "<Figure size 720x432 with 1 Axes>"
      ]
     },
     "metadata": {
      "needs_background": "light"
     },
     "output_type": "display_data"
    }
   ],
   "source": [
    "hist(df_pixels.e1,\n",
    "     left_right_annotations = ('least non-Google-occupied space',\n",
    "                               'most non-Google-occupied space'),\n",
    "     color=cat2color['organic'],\n",
    "     title = f'Non-Google real estate top fifth of page (N={len(df_pixels):,})',\n",
    "     fn_out='../data/output/figures/eq1_abv.png');"
   ]
  },
  {
   "cell_type": "code",
   "execution_count": 46,
   "metadata": {},
   "outputs": [
    {
     "data": {
      "text/plain": [
       "43.388565066474555"
      ]
     },
     "execution_count": 46,
     "metadata": {},
     "output_type": "execute_result"
    }
   ],
   "source": [
    "# What percentage of pages have 10% or less of the page occupied by Google?\n",
    "len(df_pixels[df_pixels.e1 <= .1]) / len(df_pixels) * 100"
   ]
  },
  {
   "cell_type": "code",
   "execution_count": 47,
   "metadata": {},
   "outputs": [
    {
     "data": {
      "text/plain": [
       "9.725587792258825"
      ]
     },
     "execution_count": 47,
     "metadata": {},
     "output_type": "execute_result"
    }
   ],
   "source": [
    "# what percentage of pages have no organic?\n",
    "len(df_pixels[df_pixels.e1 == 0]) / len(df_pixels) * 100"
   ]
  },
  {
   "cell_type": "code",
   "execution_count": 48,
   "metadata": {},
   "outputs": [
    {
     "data": {
      "text/plain": [
       "(0.23707522075591436, 0.13787139389213388)"
      ]
     },
     "execution_count": 48,
     "metadata": {},
     "output_type": "execute_result"
    }
   ],
   "source": [
    "df_pixels.e1.mean(), df_pixels.e1.median()"
   ]
  },
  {
   "cell_type": "code",
   "execution_count": 49,
   "metadata": {},
   "outputs": [
    {
     "data": {
      "image/png": "[encoded data removed]",
      "text/plain": [
       "<Figure size 720x432 with 1 Axes>"
      ]
     },
     "metadata": {
      "needs_background": "light"
     },
     "output_type": "display_data"
    }
   ],
   "source": [
    "hist(df_pixels_fp.e1,\n",
    "     title=f'Non-Google real estate first page (N={len(df_pixels):,})',\n",
    "     left_right_annotations = ('least Google-occupied space',\n",
    "                               'most Google-occupied space'),\n",
    "     color=cat2color['organic'],\n",
    "     fn_out='../data/output/figures/eq1_page.png');"
   ]
  },
  {
   "cell_type": "code",
   "execution_count": 50,
   "metadata": {},
   "outputs": [
    {
     "data": {
      "text/plain": [
       "36.29576265636256"
      ]
     },
     "execution_count": 50,
     "metadata": {},
     "output_type": "execute_result"
    }
   ],
   "source": [
    "# What percentage of pages have 50% or more of the page occupied by Google?\n",
    "len(df_pixels_fp[df_pixels_fp.e1 >= .5]) / len(df_pixels) * 100"
   ]
  },
  {
   "cell_type": "code",
   "execution_count": 51,
   "metadata": {},
   "outputs": [
    {
     "data": {
      "text/plain": [
       "<matplotlib.axes._subplots.AxesSubplot at 0x7f284c9bc940>"
      ]
     },
     "execution_count": 51,
     "metadata": {},
     "output_type": "execute_result"
    },
    {
     "data": {
      "image/png": "[encoded data removed]",
      "text/plain": [
       "<Figure size 720x432 with 1 Axes>"
      ]
     },
     "metadata": {
      "needs_background": "light"
     },
     "output_type": "display_data"
    }
   ],
   "source": [
    "hist(df_pixels.e2,\n",
    "     color=cat2color['organic'],\n",
    "     title = f'Traditional search result (TSR) real estate top fifth of page(N={len(df_pixels):,})',\n",
    "     left_right_annotations=('least TSR-occupied space',\n",
    "                             'most TSR-occupied space'),\n",
    "     fn_out='../data/output/figures/eq2_above.png')"
   ]
  },
  {
   "cell_type": "code",
   "execution_count": 52,
   "metadata": {},
   "outputs": [
    {
     "data": {
      "text/plain": [
       "66.97229681053113"
      ]
     },
     "execution_count": 52,
     "metadata": {},
     "output_type": "execute_result"
    }
   ],
   "source": [
    "# What percentage of pages have 95% or more of the page occupied by self-dealing?\n",
    "len(df_pixels[df_pixels.e2 <= .1]) / len(df_pixels) * 100"
   ]
  },
  {
   "cell_type": "code",
   "execution_count": 53,
   "metadata": {},
   "outputs": [
    {
     "data": {
      "text/plain": [
       "10226"
      ]
     },
     "execution_count": 53,
     "metadata": {},
     "output_type": "execute_result"
    }
   ],
   "source": [
    "len(df_pixels[df_pixels.e2 <= .1])"
   ]
  },
  {
   "cell_type": "code",
   "execution_count": 54,
   "metadata": {},
   "outputs": [
    {
     "data": {
      "text/plain": [
       "(0.23707522075591436, 0.13787139389213388)"
      ]
     },
     "execution_count": 54,
     "metadata": {},
     "output_type": "execute_result"
    }
   ],
   "source": [
    "df_pixels.e1.mean(), df_pixels.e1.median()"
   ]
  },
  {
   "cell_type": "code",
   "execution_count": 55,
   "metadata": {},
   "outputs": [
    {
     "data": {
      "text/plain": [
       "<matplotlib.axes._subplots.AxesSubplot at 0x7f284e555c40>"
      ]
     },
     "execution_count": 55,
     "metadata": {},
     "output_type": "execute_result"
    },
    {
     "data": {
      "image/png": "[encoded data removed]",
      "text/plain": [
       "<Figure size 720x432 with 1 Axes>"
      ]
     },
     "metadata": {
      "needs_background": "light"
     },
     "output_type": "display_data"
    }
   ],
   "source": [
    "hist(df_pixels_fp.e2,\n",
    "     color=cat2color['organic'],\n",
    "     title = f'Traditional search result real estate on first page (N={len(df_pixels_fp):,})',\n",
    "     left_right_annotations=('least Organic-occupied space',\n",
    "                             'most Organic-occupied space'),\n",
    "     fn_out='../data/output/figures/eq2_page.png')"
   ]
  },
  {
   "cell_type": "code",
   "execution_count": 56,
   "metadata": {},
   "outputs": [
    {
     "data": {
      "text/plain": [
       "0.20662780797694674"
      ]
     },
     "execution_count": 56,
     "metadata": {},
     "output_type": "execute_result"
    }
   ],
   "source": [
    "len(df_pixels_fp[df_pixels_fp.e2 >= .5]) / len(df_pixels)"
   ]
  },
  {
   "cell_type": "markdown",
   "metadata": {},
   "source": [
    "## Computing confidence interval"
   ]
  },
  {
   "cell_type": "code",
   "execution_count": 57,
   "metadata": {},
   "outputs": [],
   "source": [
    "def SEM(data : pd.DataFrame, \n",
    "        confidence : float = 0.95 , \n",
    "        scale : int = 100,\n",
    "        return_tuple = False) -> str:\n",
    "    \"\"\"Calculates standard error of the mean.\"\"\"\n",
    "    n = len(data)\n",
    "    m = data.mean()\n",
    "    std_err = data.sem()\n",
    "    h = std_err * t.ppf((1 + confidence) / 2, n - 1)\n",
    "    s = f\"{scale * m:.1f} ± {h * scale :.1f}\"\n",
    "    if return_tuple:\n",
    "        s = (m, h)\n",
    "    return s"
   ]
  },
  {
   "cell_type": "code",
   "execution_count": 58,
   "metadata": {},
   "outputs": [],
   "source": [
    "# index2human = {\n",
    "#     'e1' : 'R1: g / (o + g)',\n",
    "#     'e2' : 'R2: (g + ad) / (o + g + ad)',\n",
    "# }"
   ]
  },
  {
   "cell_type": "code",
   "execution_count": 59,
   "metadata": {},
   "outputs": [],
   "source": [
    "# results = {}\n",
    "# for e in [f'e{i}' for i in range(1, 7)]:\n",
    "#     x_goog = SEM(df_pixels[e])\n",
    "#     x_goog_fp = SEM(df_pixels_fp[e])\n",
    "#     results[index2human.get(e)] = {\n",
    "#         'above the fold' : x_goog + '%',\n",
    "#         'first page' : x_goog_fp+ '%'\n",
    "#     }\n",
    "# ratios = pd.DataFrame(results).T\n",
    "# ratios.to_csv('../data/output/tables/ratios.csv')\n",
    "# ratios"
   ]
  },
  {
   "cell_type": "markdown",
   "metadata": {},
   "source": [
    "No matter what you might consider to be \"Google\"...\n",
    "Above the fold is covered with Google properties between 64.6% and 83.2%.\n",
    "For the first page it is between 40.3% and 54.7%."
   ]
  },
  {
   "cell_type": "markdown",
   "metadata": {},
   "source": [
    "# Distance"
   ]
  },
  {
   "cell_type": "code",
   "execution_count": 60,
   "metadata": {},
   "outputs": [],
   "source": [
    "df.loc[:, 'y_dist'] = df.location.apply(lambda x: x['y'])"
   ]
  },
  {
   "cell_type": "code",
   "execution_count": 61,
   "metadata": {},
   "outputs": [],
   "source": [
    "df.loc[df['category'] == 'link-youtube', \n",
    "       \"category_standard\"] = 'youtube'\n",
    "df.loc[df['category'] == 'link-youtube_search_result', \n",
    "       \"category_standard\"] = 'youtube-search-result'"
   ]
  },
  {
   "cell_type": "code",
   "execution_count": 62,
   "metadata": {},
   "outputs": [],
   "source": [
    "standard_categories = [\n",
    "    \"organic-search_result\",\n",
    "    \"organic\",\n",
    "    \"ads\",\n",
    "    \"amp-card\",\n",
    "    \"amp-visual_stories\",\n",
    "    \"google-images\",\n",
    "    \"youtube\",\n",
    "    \"google-maps\",\n",
    "    'google-answer',\n",
    "    \"google-search\",\n",
    "    \"google-expandable-answer\",\n",
    "    \"amp-search_result\",\n",
    "    \"youtube-search-result\",\n",
    "]"
   ]
  },
  {
   "cell_type": "code",
   "execution_count": 63,
   "metadata": {},
   "outputs": [
    {
     "data": {
      "text/plain": [
       "google-search                   287535\n",
       "google-answer                   125675\n",
       "organic                         117161\n",
       "google-misc                     111103\n",
       "organic-search_result           106618\n",
       "google-images                   104599\n",
       "google-expandable-answer        102015\n",
       "youtube                          78547\n",
       "google-knowledge-panel-links     58957\n",
       "amp-card                         50978\n",
       "amp-search_result_3              39096\n",
       "ads                               4566\n",
       "google-maps                       1964\n",
       "youtube-search-result             1629\n",
       "google-video                      1090\n",
       "amp-search_result                 1004\n",
       "amp-visual_stories                 887\n",
       "Name: category_standard, dtype: int64"
      ]
     },
     "execution_count": 63,
     "metadata": {},
     "output_type": "execute_result"
    }
   ],
   "source": [
    "df.category_standard.value_counts()"
   ]
  },
  {
   "cell_type": "code",
   "execution_count": 64,
   "metadata": {},
   "outputs": [],
   "source": [
    "header = 160\n",
    "normalize = True"
   ]
  },
  {
   "cell_type": "code",
   "execution_count": 65,
   "metadata": {},
   "outputs": [
    {
     "name": "stderr",
     "output_type": "stream",
     "text": [
      "100%|██████████| 15269/15269 [01:35<00:00, 160.07it/s]\n"
     ]
    }
   ],
   "source": [
    "dist = {k : [] for k in standard_categories}\n",
    "for site, _df in tqdm(df[df.area_page != 0].groupby('fn_input')):\n",
    "    end_of_page = __df['position_last_element'].iloc[0] - header\n",
    "    for cat in standard_categories:\n",
    "        __df = _df[_df.category_standard == cat]\n",
    "        if not __df.empty:\n",
    "            # normalized page\n",
    "            if normalize:\n",
    "                y_min = ((__df.y_dist.min() - header) / end_of_page\n",
    "            else:\n",
    "            y_min =__df.y_dist.min()\n",
    "            dist[cat].append(y_min)"
   ]
  },
  {
   "cell_type": "code",
   "execution_count": 66,
   "metadata": {},
   "outputs": [
    {
     "name": "stdout",
     "output_type": "stream",
     "text": [
      "organic-search_result\n",
      "15264\n",
      "organic\n",
      "14528\n",
      "ads\n",
      "1452\n",
      "amp-card\n",
      "8580\n",
      "amp-visual_stories\n",
      "842\n",
      "google-images\n",
      "13101\n",
      "youtube\n",
      "9064\n",
      "google-maps\n",
      "1466\n",
      "google-answer\n",
      "14304\n",
      "google-search\n",
      "15267\n",
      "google-expandable-answer\n",
      "13703\n",
      "amp-search_result\n",
      "751\n",
      "youtube-search-result\n",
      "1399\n"
     ]
    }
   ],
   "source": [
    "for k, v in dist.items():\n",
    "    print(k)\n",
    "    print(len([_ for _ in v if _]))"
   ]
  },
  {
   "cell_type": "code",
   "execution_count": 67,
   "metadata": {},
   "outputs": [],
   "source": [
    "for k, v in dist.items():\n",
    "    fn_out = f'../data/intermediary/{k}_category_distance_raw.csv'\n",
    "    pd.DataFrame({'dist_y' : v, 'category' : k}).to_csv(fn_out, index=False)"
   ]
  },
  {
   "cell_type": "code",
   "execution_count": 68,
   "metadata": {},
   "outputs": [],
   "source": [
    "data = []\n",
    "for cat, v in dist.items():\n",
    "    dato = pd.DataFrame({'dist_y' : v}).dist_y\n",
    "    mean = dato.mean()\n",
    "    median = dato.median()\n",
    "    err = dato.sem()\n",
    "    std = dato.std()\n",
    "    data.append({\n",
    "        'category' : cat,\n",
    "        'dist' : mean,\n",
    "        'dist_median' : median,\n",
    "        'min' : dato.describe()['min'],\n",
    "        '25' : dato.describe()['25%'],\n",
    "        '50' : dato.describe()['50%'],\n",
    "        '75' : dato.describe()['75%'],\n",
    "        'max' : dato.describe()['max'],\n",
    "        'std' : std,\n",
    "        'sem_error' : err,\n",
    "        'n' : len(v)\n",
    "    })\n",
    "df_dist = pd.DataFrame(data)\n",
    "del data"
   ]
  },
  {
   "cell_type": "code",
   "execution_count": 69,
   "metadata": {},
   "outputs": [],
   "source": [
    "df_dist = df_dist[df_dist['category'] != 'organic]'].sort_values(by='dist')#.to_csv('are_these_outliers.csv', index=False)"
   ]
  },
  {
   "cell_type": "code",
   "execution_count": 70,
   "metadata": {},
   "outputs": [],
   "source": [
    "# data = []\n",
    "# for cat, v in dist.items():\n",
    "#     print(cat)\n",
    "#     dato = pd.DataFrame({'dist_y' : v}).dist_y.clip(0, 6000)\n",
    "#     dato.plot(kind='hist', bins=50, xlim=(0, 6000))\n",
    "#     plt.show();"
   ]
  },
  {
   "cell_type": "code",
   "execution_count": 71,
   "metadata": {},
   "outputs": [
    {
     "name": "stdout",
     "output_type": "stream",
     "text": [
      "organic-search_result\n"
     ]
    },
    {
     "data": {
      "image/png": "[encoded data removed]",
      "text/plain": [
       "<Figure size 432x288 with 1 Axes>"
      ]
     },
     "metadata": {
      "needs_background": "light"
     },
     "output_type": "display_data"
    },
    {
     "name": "stdout",
     "output_type": "stream",
     "text": [
      "organic\n"
     ]
    },
    {
     "data": {
      "image/png": "[encoded data removed]",
      "text/plain": [
       "<Figure size 432x288 with 1 Axes>"
      ]
     },
     "metadata": {
      "needs_background": "light"
     },
     "output_type": "display_data"
    },
    {
     "name": "stdout",
     "output_type": "stream",
     "text": [
      "ads\n"
     ]
    },
    {
     "data": {
      "image/png": "[encoded data removed]",
      "text/plain": [
       "<Figure size 432x288 with 1 Axes>"
      ]
     },
     "metadata": {
      "needs_background": "light"
     },
     "output_type": "display_data"
    },
    {
     "name": "stdout",
     "output_type": "stream",
     "text": [
      "amp-card\n"
     ]
    },
    {
     "data": {
      "image/png": "[encoded data removed]",
      "text/plain": [
       "<Figure size 432x288 with 1 Axes>"
      ]
     },
     "metadata": {
      "needs_background": "light"
     },
     "output_type": "display_data"
    },
    {
     "name": "stdout",
     "output_type": "stream",
     "text": [
      "amp-visual_stories\n"
     ]
    },
    {
     "data": {
      "image/png": "[encoded data removed]",
      "text/plain": [
       "<Figure size 432x288 with 1 Axes>"
      ]
     },
     "metadata": {
      "needs_background": "light"
     },
     "output_type": "display_data"
    },
    {
     "name": "stdout",
     "output_type": "stream",
     "text": [
      "google-images\n"
     ]
    },
    {
     "data": {
      "image/png": "[encoded data removed]",
      "text/plain": [
       "<Figure size 432x288 with 1 Axes>"
      ]
     },
     "metadata": {
      "needs_background": "light"
     },
     "output_type": "display_data"
    },
    {
     "name": "stdout",
     "output_type": "stream",
     "text": [
      "youtube\n"
     ]
    },
    {
     "data": {
      "image/png": "[encoded data removed]",
      "text/plain": [
       "<Figure size 432x288 with 1 Axes>"
      ]
     },
     "metadata": {
      "needs_background": "light"
     },
     "output_type": "display_data"
    },
    {
     "name": "stdout",
     "output_type": "stream",
     "text": [
      "google-maps\n"
     ]
    },
    {
     "data": {
      "image/png": "[encoded data removed]",
      "text/plain": [
       "<Figure size 432x288 with 1 Axes>"
      ]
     },
     "metadata": {
      "needs_background": "light"
     },
     "output_type": "display_data"
    },
    {
     "name": "stdout",
     "output_type": "stream",
     "text": [
      "google-answer\n"
     ]
    },
    {
     "data": {
      "image/png": "[encoded data removed]",
      "text/plain": [
       "<Figure size 432x288 with 1 Axes>"
      ]
     },
     "metadata": {
      "needs_background": "light"
     },
     "output_type": "display_data"
    },
    {
     "name": "stdout",
     "output_type": "stream",
     "text": [
      "google-search\n"
     ]
    },
    {
     "data": {
      "image/png": "[encoded data removed]",
      "text/plain": [
       "<Figure size 432x288 with 1 Axes>"
      ]
     },
     "metadata": {
      "needs_background": "light"
     },
     "output_type": "display_data"
    },
    {
     "name": "stdout",
     "output_type": "stream",
     "text": [
      "google-expandable-answer\n"
     ]
    },
    {
     "data": {
      "image/png": "[encoded data removed]",
      "text/plain": [
       "<Figure size 432x288 with 1 Axes>"
      ]
     },
     "metadata": {
      "needs_background": "light"
     },
     "output_type": "display_data"
    },
    {
     "name": "stdout",
     "output_type": "stream",
     "text": [
      "amp-search_result\n"
     ]
    },
    {
     "data": {
      "image/png": "[encoded data removed]",
      "text/plain": [
       "<Figure size 432x288 with 1 Axes>"
      ]
     },
     "metadata": {
      "needs_background": "light"
     },
     "output_type": "display_data"
    },
    {
     "name": "stdout",
     "output_type": "stream",
     "text": [
      "youtube-search-result\n"
     ]
    },
    {
     "data": {
      "image/png": "[encoded data removed]",
      "text/plain": [
       "<Figure size 432x288 with 1 Axes>"
      ]
     },
     "metadata": {
      "needs_background": "light"
     },
     "output_type": "display_data"
    }
   ],
   "source": [
    "data = []\n",
    "for cat, v in dist.items():\n",
    "    print(cat)\n",
    "    dato = pd.DataFrame({'dist_y' : v})\n",
    "    dato.plot(kind='hist', bins=50)\n",
    "    plt.show();"
   ]
  },
  {
   "cell_type": "code",
   "execution_count": 72,
   "metadata": {},
   "outputs": [
    {
     "name": "stdout",
     "output_type": "stream",
     "text": [
      "organic-search_result\n",
      "organic\n",
      "ads\n",
      "amp-card\n",
      "amp-visual_stories\n",
      "google-images\n",
      "youtube\n",
      "google-maps\n",
      "google-answer\n",
      "google-search\n",
      "google-expandable-answer\n",
      "amp-search_result\n",
      "youtube-search-result\n"
     ]
    }
   ],
   "source": [
    "distro = pd.DataFrame()\n",
    "for cat, v in dist.items():\n",
    "    print(cat)\n",
    "    dato = pd.DataFrame({'dist_y' : v, 'category' : cat})\n",
    "    distro = distro.append(dato, sort=False)"
   ]
  },
  {
   "cell_type": "code",
   "execution_count": 73,
   "metadata": {},
   "outputs": [],
   "source": [
    "# ax = distro.boxplot(column=['dist_y'], \n",
    "#                   by='category',\n",
    "#                   rot=90,\n",
    "#                   figsize=(6, 12),\n",
    "#                   )\n",
    "\n",
    "# plt.gca().invert_yaxis()"
   ]
  },
  {
   "cell_type": "code",
   "execution_count": 74,
   "metadata": {},
   "outputs": [],
   "source": [
    "# ax = distro.plot(kind='scatter',\n",
    "#                  y='dist_y', \n",
    "#                  x='category',\n",
    "#                  rot=90,\n",
    "#                  s=3,\n",
    "#                  color='black',\n",
    "#                  alpha=.005,\n",
    "#                  figsize=(6, 12))\n",
    "# plt.gca().invert_yaxis()"
   ]
  },
  {
   "cell_type": "code",
   "execution_count": 75,
   "metadata": {},
   "outputs": [
    {
     "data": {
      "text/html": [
       "<div>\n",
       "<style scoped>\n",
       "    .dataframe tbody tr th:only-of-type {\n",
       "        vertical-align: middle;\n",
       "    }\n",
       "\n",
       "    .dataframe tbody tr th {\n",
       "        vertical-align: top;\n",
       "    }\n",
       "\n",
       "    .dataframe thead th {\n",
       "        text-align: right;\n",
       "    }\n",
       "</style>\n",
       "<table border=\"1\" class=\"dataframe\">\n",
       "  <thead>\n",
       "    <tr style=\"text-align: right;\">\n",
       "      <th></th>\n",
       "      <th>category</th>\n",
       "      <th>dist</th>\n",
       "      <th>dist_median</th>\n",
       "      <th>min</th>\n",
       "      <th>25</th>\n",
       "      <th>50</th>\n",
       "      <th>75</th>\n",
       "      <th>max</th>\n",
       "      <th>std</th>\n",
       "      <th>sem_error</th>\n",
       "      <th>n</th>\n",
       "    </tr>\n",
       "  </thead>\n",
       "  <tbody>\n",
       "    <tr>\n",
       "      <th>2</th>\n",
       "      <td>ads</td>\n",
       "      <td>0.081143</td>\n",
       "      <td>0.001384</td>\n",
       "      <td>0.000693</td>\n",
       "      <td>0.001169</td>\n",
       "      <td>0.001384</td>\n",
       "      <td>0.005514</td>\n",
       "      <td>0.962945</td>\n",
       "      <td>0.215501</td>\n",
       "      <td>0.005655</td>\n",
       "      <td>1452</td>\n",
       "    </tr>\n",
       "    <tr>\n",
       "      <th>5</th>\n",
       "      <td>google-images</td>\n",
       "      <td>0.102568</td>\n",
       "      <td>0.034991</td>\n",
       "      <td>-0.002545</td>\n",
       "      <td>0.023465</td>\n",
       "      <td>0.034991</td>\n",
       "      <td>0.151825</td>\n",
       "      <td>0.943902</td>\n",
       "      <td>0.130733</td>\n",
       "      <td>0.001142</td>\n",
       "      <td>13101</td>\n",
       "    </tr>\n",
       "    <tr>\n",
       "      <th>1</th>\n",
       "      <td>organic</td>\n",
       "      <td>0.135655</td>\n",
       "      <td>0.093083</td>\n",
       "      <td>0.001073</td>\n",
       "      <td>0.068069</td>\n",
       "      <td>0.093083</td>\n",
       "      <td>0.162355</td>\n",
       "      <td>0.924658</td>\n",
       "      <td>0.119669</td>\n",
       "      <td>0.000993</td>\n",
       "      <td>14528</td>\n",
       "    </tr>\n",
       "    <tr>\n",
       "      <th>8</th>\n",
       "      <td>google-answer</td>\n",
       "      <td>0.141200</td>\n",
       "      <td>0.086349</td>\n",
       "      <td>0.000911</td>\n",
       "      <td>0.061603</td>\n",
       "      <td>0.086349</td>\n",
       "      <td>0.193051</td>\n",
       "      <td>0.949056</td>\n",
       "      <td>0.136543</td>\n",
       "      <td>0.001142</td>\n",
       "      <td>14304</td>\n",
       "    </tr>\n",
       "    <tr>\n",
       "      <th>7</th>\n",
       "      <td>google-maps</td>\n",
       "      <td>0.161039</td>\n",
       "      <td>0.107090</td>\n",
       "      <td>0.001011</td>\n",
       "      <td>0.016622</td>\n",
       "      <td>0.107090</td>\n",
       "      <td>0.259444</td>\n",
       "      <td>0.895338</td>\n",
       "      <td>0.176688</td>\n",
       "      <td>0.004615</td>\n",
       "      <td>1466</td>\n",
       "    </tr>\n",
       "    <tr>\n",
       "      <th>4</th>\n",
       "      <td>amp-visual_stories</td>\n",
       "      <td>0.171092</td>\n",
       "      <td>0.162385</td>\n",
       "      <td>0.050147</td>\n",
       "      <td>0.089756</td>\n",
       "      <td>0.162385</td>\n",
       "      <td>0.235778</td>\n",
       "      <td>0.892744</td>\n",
       "      <td>0.087356</td>\n",
       "      <td>0.003010</td>\n",
       "      <td>842</td>\n",
       "    </tr>\n",
       "    <tr>\n",
       "      <th>0</th>\n",
       "      <td>organic-search_result</td>\n",
       "      <td>0.237905</td>\n",
       "      <td>0.243869</td>\n",
       "      <td>0.000887</td>\n",
       "      <td>0.154000</td>\n",
       "      <td>0.243869</td>\n",
       "      <td>0.326350</td>\n",
       "      <td>0.934814</td>\n",
       "      <td>0.132276</td>\n",
       "      <td>0.001071</td>\n",
       "      <td>15264</td>\n",
       "    </tr>\n",
       "    <tr>\n",
       "      <th>3</th>\n",
       "      <td>amp-card</td>\n",
       "      <td>0.274712</td>\n",
       "      <td>0.271743</td>\n",
       "      <td>0.001780</td>\n",
       "      <td>0.054366</td>\n",
       "      <td>0.271743</td>\n",
       "      <td>0.439113</td>\n",
       "      <td>0.908007</td>\n",
       "      <td>0.195428</td>\n",
       "      <td>0.002110</td>\n",
       "      <td>8580</td>\n",
       "    </tr>\n",
       "    <tr>\n",
       "      <th>9</th>\n",
       "      <td>google-search</td>\n",
       "      <td>0.316450</td>\n",
       "      <td>0.244252</td>\n",
       "      <td>-0.000259</td>\n",
       "      <td>0.146600</td>\n",
       "      <td>0.244252</td>\n",
       "      <td>0.406382</td>\n",
       "      <td>0.993326</td>\n",
       "      <td>0.254691</td>\n",
       "      <td>0.002061</td>\n",
       "      <td>15267</td>\n",
       "    </tr>\n",
       "    <tr>\n",
       "      <th>6</th>\n",
       "      <td>youtube</td>\n",
       "      <td>0.355021</td>\n",
       "      <td>0.401147</td>\n",
       "      <td>0.015356</td>\n",
       "      <td>0.177965</td>\n",
       "      <td>0.401147</td>\n",
       "      <td>0.502900</td>\n",
       "      <td>0.893744</td>\n",
       "      <td>0.186086</td>\n",
       "      <td>0.001955</td>\n",
       "      <td>9064</td>\n",
       "    </tr>\n",
       "    <tr>\n",
       "      <th>10</th>\n",
       "      <td>google-expandable-answer</td>\n",
       "      <td>0.389507</td>\n",
       "      <td>0.377545</td>\n",
       "      <td>0.009206</td>\n",
       "      <td>0.185201</td>\n",
       "      <td>0.377545</td>\n",
       "      <td>0.522859</td>\n",
       "      <td>0.972751</td>\n",
       "      <td>0.239855</td>\n",
       "      <td>0.002049</td>\n",
       "      <td>13703</td>\n",
       "    </tr>\n",
       "    <tr>\n",
       "      <th>11</th>\n",
       "      <td>amp-search_result</td>\n",
       "      <td>0.635408</td>\n",
       "      <td>0.671863</td>\n",
       "      <td>0.030020</td>\n",
       "      <td>0.567066</td>\n",
       "      <td>0.671863</td>\n",
       "      <td>0.748325</td>\n",
       "      <td>0.929209</td>\n",
       "      <td>0.163075</td>\n",
       "      <td>0.005951</td>\n",
       "      <td>751</td>\n",
       "    </tr>\n",
       "    <tr>\n",
       "      <th>12</th>\n",
       "      <td>youtube-search-result</td>\n",
       "      <td>0.643905</td>\n",
       "      <td>0.685121</td>\n",
       "      <td>0.001677</td>\n",
       "      <td>0.590125</td>\n",
       "      <td>0.685121</td>\n",
       "      <td>0.761459</td>\n",
       "      <td>0.948438</td>\n",
       "      <td>0.168847</td>\n",
       "      <td>0.004514</td>\n",
       "      <td>1399</td>\n",
       "    </tr>\n",
       "  </tbody>\n",
       "</table>\n",
       "</div>"
      ],
      "text/plain": [
       "                    category      dist  dist_median       min        25  \\\n",
       "2                        ads  0.081143     0.001384  0.000693  0.001169   \n",
       "5              google-images  0.102568     0.034991 -0.002545  0.023465   \n",
       "1                    organic  0.135655     0.093083  0.001073  0.068069   \n",
       "8              google-answer  0.141200     0.086349  0.000911  0.061603   \n",
       "7                google-maps  0.161039     0.107090  0.001011  0.016622   \n",
       "4         amp-visual_stories  0.171092     0.162385  0.050147  0.089756   \n",
       "0      organic-search_result  0.237905     0.243869  0.000887  0.154000   \n",
       "3                   amp-card  0.274712     0.271743  0.001780  0.054366   \n",
       "9              google-search  0.316450     0.244252 -0.000259  0.146600   \n",
       "6                    youtube  0.355021     0.401147  0.015356  0.177965   \n",
       "10  google-expandable-answer  0.389507     0.377545  0.009206  0.185201   \n",
       "11         amp-search_result  0.635408     0.671863  0.030020  0.567066   \n",
       "12     youtube-search-result  0.643905     0.685121  0.001677  0.590125   \n",
       "\n",
       "          50        75       max       std  sem_error      n  \n",
       "2   0.001384  0.005514  0.962945  0.215501   0.005655   1452  \n",
       "5   0.034991  0.151825  0.943902  0.130733   0.001142  13101  \n",
       "1   0.093083  0.162355  0.924658  0.119669   0.000993  14528  \n",
       "8   0.086349  0.193051  0.949056  0.136543   0.001142  14304  \n",
       "7   0.107090  0.259444  0.895338  0.176688   0.004615   1466  \n",
       "4   0.162385  0.235778  0.892744  0.087356   0.003010    842  \n",
       "0   0.243869  0.326350  0.934814  0.132276   0.001071  15264  \n",
       "3   0.271743  0.439113  0.908007  0.195428   0.002110   8580  \n",
       "9   0.244252  0.406382  0.993326  0.254691   0.002061  15267  \n",
       "6   0.401147  0.502900  0.893744  0.186086   0.001955   9064  \n",
       "10  0.377545  0.522859  0.972751  0.239855   0.002049  13703  \n",
       "11  0.671863  0.748325  0.929209  0.163075   0.005951    751  \n",
       "12  0.685121  0.761459  0.948438  0.168847   0.004514   1399  "
      ]
     },
     "execution_count": 75,
     "metadata": {},
     "output_type": "execute_result"
    }
   ],
   "source": [
    "df_dist"
   ]
  },
  {
   "cell_type": "code",
   "execution_count": 76,
   "metadata": {},
   "outputs": [],
   "source": [
    "label2label = {\n",
    "    'link' : 'Google Product',\n",
    "    'answer' : 'Google Answer',\n",
    "    'ads' : \"Ads\",\n",
    "    'amp' : 'AMP',\n",
    "    'organic' : 'Non-Google'\n",
    "}"
   ]
  },
  {
   "cell_type": "code",
   "execution_count": 95,
   "metadata": {},
   "outputs": [
    {
     "data": {
      "image/png": "[encoded data removed]",
      "text/plain": [
       "<Figure size 576x864 with 1 Axes>"
      ]
     },
     "metadata": {
      "needs_background": "light"
     },
     "output_type": "display_data"
    }
   ],
   "source": [
    "fig, ax = plt.subplots(figsize=(8, 12))\n",
    "col = 'dist_median'\n",
    "data = df_dist[df_dist.category != 'organic'].sort_values(by=col)\n",
    "labels = [cat.replace('google-answer', 'answer')\n",
    "                            .replace('google-expandable-answer', 'answer')\n",
    "                            .split('-')[0]\n",
    "                            .replace('google', 'link')\n",
    "                            .replace('youtube', 'link') for cat in data.category]\n",
    "\n",
    "colors = [cat2color.get(label) for label in labels]\n",
    "\n",
    "\n",
    "plt.scatter(data.category, data[col], \n",
    "            c=colors, zorder=100)\n",
    "\n",
    "plt.errorbar(data.category, col, \n",
    "             data=data,\n",
    "             yerr=[data[col] - data['25'], \n",
    "                   data['75']- data[col]], \n",
    "             ecolor='dimgrey', color='white',\n",
    "             capsize = 3,  fmt='o',\n",
    "             alpha=.7)\n",
    "\n",
    "plt.gca().invert_yaxis()\n",
    "# plt.axhline(y=812, color='black', linestyle='--', alpha=.4)\n",
    "# plt.annotate('Above the fold', (7.3, 800))\n",
    "\n",
    "\n",
    "plt.xticks(rotation=90)\n",
    "for i, (_, row) in enumerate(data.iterrows()):\n",
    "#     txt = f\"{row['category']} (N={row['n']:,})\"\n",
    "    txt = row['category']\n",
    "    if i % 2 == 0:\n",
    "        y = row[col] -.008\n",
    "    else:\n",
    "         y = row[col] +.012\n",
    "    x = (1 * i)  + .03\n",
    "    plt.annotate(txt, (x, y), zorder=200)\n",
    "\n",
    "# for i, (_, row) in enumerate(data.iterrows()):\n",
    "# #     txt = f\"{row['category']} (N={row['n']:,})\"\n",
    "#     txt = row['category']\n",
    "#     y = row[col] - 2\n",
    "#     x = (1 * i) + .15\n",
    "#     if txt == 'google-expandable_answer':\n",
    "#         x = (1 * i) - 2\n",
    "#     plt.annotate(txt, (x, y), zorder=200)\n",
    "\n",
    "ax.set_ylabel(\"Percentage down the page\")\n",
    "plt.title('Median distance down page before first contact')\n",
    "ax.set_axisbelow(True)\n",
    "# plt.gca().yaxis.grid(True)\n",
    "\n",
    "# Hide the right and top spines\n",
    "ax.spines['right'].set_visible(False)\n",
    "ax.spines['top'].set_visible(False)\n",
    "\n",
    "# Only show ticks on the left and bottom spines\n",
    "ax.yaxis.set_ticks_position('left')\n",
    "ax.xaxis.set_ticks_position('bottom')\n",
    "\n",
    "ax.xaxis.set_visible(False)\n",
    "ax.legend(handles=legend_elements, loc='lower left')\n",
    "plt.savefig('../data/output/figures/distance_normalized.png')\n",
    "del data;"
   ]
  },
  {
   "cell_type": "code",
   "execution_count": 78,
   "metadata": {},
   "outputs": [
    {
     "data": {
      "image/png": "[encoded data removed]",
      "text/plain": [
       "<Figure size 432x1008 with 1 Axes>"
      ]
     },
     "metadata": {
      "needs_background": "light"
     },
     "output_type": "display_data"
    }
   ],
   "source": [
    "fig, ax = plt.subplots(figsize=(6, 14))\n",
    "col = 'dist'\n",
    "data = df_dist[df_dist.category != 'organic'].sort_values(by=col)\n",
    "labels = [cat.replace('google-answer', 'answer')\n",
    "                            .replace('google-expandable-answer', 'answer')\n",
    "                            .split('-')[0]\n",
    "                            .replace('google', 'link')\n",
    "                            .replace('youtube', 'link') for cat in data.category]\n",
    "\n",
    "colors = [cat2color.get(label) for label in labels]\n",
    "\n",
    "legend_elements = [Line2D([0], [0], marker='o', color='w', \n",
    "                          label=label2label.get(label),\n",
    "                          markerfacecolor=c, markersize=10)\n",
    "                   for label, c in cat2color.items()]\n",
    "\n",
    "plt.scatter(data.category, data[col], \n",
    "            c=colors, zorder=100)\n",
    "\n",
    "plt.errorbar(data.category, col, \n",
    "             data=data,\n",
    "             yerr='sem_error', \n",
    "             ecolor='black', color='white',\n",
    "             capsize = 3,  fmt='o')\n",
    "\n",
    "plt.gca().invert_yaxis()\n",
    "# plt.axhline(y=812, color='black', linestyle='--', alpha=.4)\n",
    "# plt.annotate('Above the fold', (7.3, 800))\n",
    "\n",
    "\n",
    "plt.xticks(rotation=90)\n",
    "for i, (_, row) in enumerate(data.iterrows()):\n",
    "#     txt = f\"{row['category']} (N={row['n']:,})\"\n",
    "    txt = row['category']\n",
    "    y = row[col] -.005\n",
    "    x = (1 * i)  + .005\n",
    "    plt.annotate(txt, (x, y), zorder=200)\n",
    "\n",
    "# for i, (_, row) in enumerate(data.iterrows()):\n",
    "# #     txt = f\"{row['category']} (N={row['n']:,})\"\n",
    "#     txt = row['category']\n",
    "#     y = row[col] - 2\n",
    "#     x = (1 * i) + .15\n",
    "#     if txt == 'google-expandable_answer':\n",
    "#         x = (1 * i) - 2\n",
    "#     plt.annotate(txt, (x, y), zorder=200)\n",
    "\n",
    "ax.set_ylabel(\"Percentage of search result scrolled\")\n",
    "plt.title('Average distance down page before first contact')\n",
    "ax.set_axisbelow(True)\n",
    "# plt.gca().yaxis.grid(True)\n",
    "\n",
    "# Hide the right and top spines\n",
    "ax.spines['right'].set_visible(False)\n",
    "ax.spines['top'].set_visible(False)\n",
    "\n",
    "# Only show ticks on the left and bottom spines\n",
    "ax.yaxis.set_ticks_position('left')\n",
    "ax.xaxis.set_ticks_position('bottom')\n",
    "\n",
    "ax.xaxis.set_visible(False)\n",
    "ax.legend(handles=legend_elements, loc='lower left')\n",
    "plt.savefig('../data/output/figures/distance.png')\n",
    "del data;"
   ]
  },
  {
   "cell_type": "markdown",
   "metadata": {},
   "source": [
    "## How many Blue Links are in a page?"
   ]
  },
  {
   "cell_type": "code",
   "execution_count": 79,
   "metadata": {},
   "outputs": [],
   "source": [
    "blue_links = []\n",
    "for search, _df in df[df.area_page != 0].groupby('fn_input'):\n",
    "    n_blue = len(_df[_df['category_standard'].isin(blue_link_categories)])\n",
    "\n",
    "    blue_links.append({\n",
    "        'fn_input' : search,\n",
    "        'n_blue_links' : n_blue\n",
    "        \n",
    "    })\n",
    "df_bl = pd.DataFrame(blue_links)"
   ]
  },
  {
   "cell_type": "code",
   "execution_count": 80,
   "metadata": {},
   "outputs": [
    {
     "data": {
      "text/plain": [
       "7.048398716353396"
      ]
     },
     "execution_count": 80,
     "metadata": {},
     "output_type": "execute_result"
    }
   ],
   "source": [
    "df_bl.n_blue_links.mean()"
   ]
  },
  {
   "cell_type": "code",
   "execution_count": 81,
   "metadata": {},
   "outputs": [
    {
     "data": {
      "text/plain": [
       "0.015516934227310377"
      ]
     },
     "execution_count": 81,
     "metadata": {},
     "output_type": "execute_result"
    }
   ],
   "source": [
    "df_bl.n_blue_links.sem()"
   ]
  },
  {
   "cell_type": "code",
   "execution_count": 82,
   "metadata": {},
   "outputs": [
    {
     "data": {
      "text/html": [
       "<div>\n",
       "<style scoped>\n",
       "    .dataframe tbody tr th:only-of-type {\n",
       "        vertical-align: middle;\n",
       "    }\n",
       "\n",
       "    .dataframe tbody tr th {\n",
       "        vertical-align: top;\n",
       "    }\n",
       "\n",
       "    .dataframe thead th {\n",
       "        text-align: right;\n",
       "    }\n",
       "</style>\n",
       "<table border=\"1\" class=\"dataframe\">\n",
       "  <thead>\n",
       "    <tr style=\"text-align: right;\">\n",
       "      <th></th>\n",
       "      <th>n_blue_links</th>\n",
       "    </tr>\n",
       "  </thead>\n",
       "  <tbody>\n",
       "    <tr>\n",
       "      <th>count</th>\n",
       "      <td>15269.000000</td>\n",
       "    </tr>\n",
       "    <tr>\n",
       "      <th>mean</th>\n",
       "      <td>7.048399</td>\n",
       "    </tr>\n",
       "    <tr>\n",
       "      <th>std</th>\n",
       "      <td>1.917393</td>\n",
       "    </tr>\n",
       "    <tr>\n",
       "      <th>min</th>\n",
       "      <td>0.000000</td>\n",
       "    </tr>\n",
       "    <tr>\n",
       "      <th>25%</th>\n",
       "      <td>6.000000</td>\n",
       "    </tr>\n",
       "    <tr>\n",
       "      <th>50%</th>\n",
       "      <td>7.000000</td>\n",
       "    </tr>\n",
       "    <tr>\n",
       "      <th>75%</th>\n",
       "      <td>9.000000</td>\n",
       "    </tr>\n",
       "    <tr>\n",
       "      <th>max</th>\n",
       "      <td>12.000000</td>\n",
       "    </tr>\n",
       "  </tbody>\n",
       "</table>\n",
       "</div>"
      ],
      "text/plain": [
       "       n_blue_links\n",
       "count  15269.000000\n",
       "mean       7.048399\n",
       "std        1.917393\n",
       "min        0.000000\n",
       "25%        6.000000\n",
       "50%        7.000000\n",
       "75%        9.000000\n",
       "max       12.000000"
      ]
     },
     "execution_count": 82,
     "metadata": {},
     "output_type": "execute_result"
    }
   ],
   "source": [
    "df_bl.describe()"
   ]
  },
  {
   "cell_type": "code",
   "execution_count": 83,
   "metadata": {},
   "outputs": [
    {
     "data": {
      "text/plain": [
       "<matplotlib.axes._subplots.AxesSubplot at 0x7f284c6bf490>"
      ]
     },
     "execution_count": 83,
     "metadata": {},
     "output_type": "execute_result"
    },
    {
     "data": {
      "image/png": "[encoded data removed]",
      "text/plain": [
       "<Figure size 432x288 with 1 Axes>"
      ]
     },
     "metadata": {
      "needs_background": "light"
     },
     "output_type": "display_data"
    }
   ],
   "source": [
    "df_bl.n_blue_links.plot(kind='hist', bins=10)"
   ]
  },
  {
   "cell_type": "code",
   "execution_count": 84,
   "metadata": {},
   "outputs": [
    {
     "data": {
      "text/plain": [
       "['../data/input/google_search/iPhone-X/2019/11/14/2018-SAFF-Championship-Final/html/webpage_raw.html',\n",
       " '../data/input/google_search/iPhone-X/2019/12/06/Naval-Air-Station-Pensacola/html/webpage_raw.html',\n",
       " '../data/input/google_search/iPhone-X/2019/12/09/Google-Sheets/html/webpage_raw.html',\n",
       " '../data/input/google_search/iPhone-X/2019/12/22/My-Sad-Christmas-Song/html/webpage_raw.html',\n",
       " '../data/input/google_search/iPhone-X/2020/01/02/Nick-Gordon/html/webpage_raw.html']"
      ]
     },
     "execution_count": 84,
     "metadata": {},
     "output_type": "execute_result"
    }
   ],
   "source": [
    "df_bl[df_bl.n_blue_links == 0].fn_input.tolist()"
   ]
  },
  {
   "cell_type": "markdown",
   "metadata": {},
   "source": [
    "# AMP\n",
    "How many sites are using AMP compared to how many sites we have?"
   ]
  },
  {
   "cell_type": "code",
   "execution_count": 85,
   "metadata": {},
   "outputs": [],
   "source": [
    "from urlexpander import get_domain\n",
    "\n",
    "domains_amp = (df[df.label == 'amp']\n",
    "                    .link.apply(get_domain)\n",
    "                    .value_counts())"
   ]
  },
  {
   "cell_type": "code",
   "execution_count": 86,
   "metadata": {},
   "outputs": [
    {
     "data": {
      "text/plain": [
       "yahoo.com          3333\n",
       "usatoday.com       2377\n",
       "people.com         1931\n",
       "cbssports.com      1757\n",
       "cnbc.com           1592\n",
       "theguardian.com    1454\n",
       "nytimes.com        1429\n",
       "foxnews.com        1371\n",
       "cnn.com            1323\n",
       "espn.com           1247\n",
       "Name: link, dtype: int64"
      ]
     },
     "execution_count": 86,
     "metadata": {},
     "output_type": "execute_result"
    }
   ],
   "source": [
    "domains_amp.head(10)"
   ]
  },
  {
   "cell_type": "code",
   "execution_count": 87,
   "metadata": {},
   "outputs": [],
   "source": [
    "domains_og = df[df.label == 'organic'].domain.unique()"
   ]
  },
  {
   "cell_type": "code",
   "execution_count": 88,
   "metadata": {},
   "outputs": [
    {
     "data": {
      "text/plain": [
       "(3122, 25884)"
      ]
     },
     "execution_count": 88,
     "metadata": {},
     "output_type": "execute_result"
    }
   ],
   "source": [
    "n_domains_amp = len(domains_amp)\n",
    "n_domains = len(set(domains_amp.index) | set(domains_og))\n",
    "n_domains_amp, n_domains"
   ]
  },
  {
   "cell_type": "code",
   "execution_count": 89,
   "metadata": {},
   "outputs": [
    {
     "data": {
      "text/plain": [
       "0.12061505176943285"
      ]
     },
     "execution_count": 89,
     "metadata": {},
     "output_type": "execute_result"
    }
   ],
   "source": [
    "n_domains_amp / n_domains"
   ]
  },
  {
   "cell_type": "code",
   "execution_count": 90,
   "metadata": {},
   "outputs": [
    {
     "data": {
      "text/plain": [
       "google.com         515\n",
       "yahoo.com          492\n",
       "usatoday.com       284\n",
       "people.com         265\n",
       "cbssports.com      235\n",
       "espn.com           230\n",
       "foxnews.com        227\n",
       "cnn.com            181\n",
       "nypost.com         133\n",
       "theguardian.com    132\n",
       "Name: link, dtype: int64"
      ]
     },
     "execution_count": 90,
     "metadata": {},
     "output_type": "execute_result"
    }
   ],
   "source": [
    "(df[(df.label == 'amp') &\n",
    "    (df.q1_area != 0)]\n",
    "    .link.apply(get_domain)\n",
    "    .value_counts()\n",
    "    .head(10))"
   ]
  },
  {
   "cell_type": "code",
   "execution_count": 91,
   "metadata": {},
   "outputs": [
    {
     "data": {
      "text/html": [
       "<div>\n",
       "<style scoped>\n",
       "    .dataframe tbody tr th:only-of-type {\n",
       "        vertical-align: middle;\n",
       "    }\n",
       "\n",
       "    .dataframe tbody tr th {\n",
       "        vertical-align: top;\n",
       "    }\n",
       "\n",
       "    .dataframe thead th {\n",
       "        text-align: right;\n",
       "    }\n",
       "</style>\n",
       "<table border=\"1\" class=\"dataframe\">\n",
       "  <thead>\n",
       "    <tr style=\"text-align: right;\">\n",
       "      <th></th>\n",
       "      <th>text</th>\n",
       "      <th>link</th>\n",
       "      <th>domain</th>\n",
       "      <th>xpath</th>\n",
       "      <th>category</th>\n",
       "      <th>tag</th>\n",
       "      <th>attrs</th>\n",
       "      <th>dimensions</th>\n",
       "      <th>location</th>\n",
       "      <th>area_page</th>\n",
       "      <th>...</th>\n",
       "      <th>q1_area</th>\n",
       "      <th>q2_area</th>\n",
       "      <th>q3_area</th>\n",
       "      <th>q4_area</th>\n",
       "      <th>q5_area</th>\n",
       "      <th>label</th>\n",
       "      <th>category_standard</th>\n",
       "      <th>date_parsed</th>\n",
       "      <th>date_collected</th>\n",
       "      <th>y_dist</th>\n",
       "    </tr>\n",
       "  </thead>\n",
       "  <tbody>\n",
       "    <tr>\n",
       "      <th>0</th>\n",
       "      <td>testicular cancer</td>\n",
       "      <td>None</td>\n",
       "      <td>google.com</td>\n",
       "      <td>/html/body/div[10]/div/div[6]/div/div[4]/div/d...</td>\n",
       "      <td>answer-expand</td>\n",
       "      <td>div</td>\n",
       "      <td>{'jsname': 'bVEB4e', 'class': ['QRY00e'], 'rol...</td>\n",
       "      <td>{'height': 48.0, 'width': 315.0}</td>\n",
       "      <td>{'x': 24, 'y': 3220}</td>\n",
       "      <td>15120.0</td>\n",
       "      <td>...</td>\n",
       "      <td>0.0</td>\n",
       "      <td>0.0</td>\n",
       "      <td>0.0</td>\n",
       "      <td>0.0</td>\n",
       "      <td>15120.0</td>\n",
       "      <td>answer</td>\n",
       "      <td>google-expandable-answer</td>\n",
       "      <td>2020-03-21</td>\n",
       "      <td>2019-11-28</td>\n",
       "      <td>3220</td>\n",
       "    </tr>\n",
       "    <tr>\n",
       "      <th>1</th>\n",
       "      <td>testicular torsion</td>\n",
       "      <td>None</td>\n",
       "      <td>google.com</td>\n",
       "      <td>/html/body/div[10]/div/div[6]/div/div[4]/div/d...</td>\n",
       "      <td>answer-expand</td>\n",
       "      <td>div</td>\n",
       "      <td>{'jsname': 'bVEB4e', 'class': ['QRY00e'], 'rol...</td>\n",
       "      <td>{'height': 48.0, 'width': 315.0}</td>\n",
       "      <td>{'x': 24, 'y': 3269}</td>\n",
       "      <td>15120.0</td>\n",
       "      <td>...</td>\n",
       "      <td>0.0</td>\n",
       "      <td>0.0</td>\n",
       "      <td>0.0</td>\n",
       "      <td>0.0</td>\n",
       "      <td>15120.0</td>\n",
       "      <td>answer</td>\n",
       "      <td>google-expandable-answer</td>\n",
       "      <td>2020-03-21</td>\n",
       "      <td>2019-11-28</td>\n",
       "      <td>3269</td>\n",
       "    </tr>\n",
       "    <tr>\n",
       "      <th>2</th>\n",
       "      <td>hydrocele testis</td>\n",
       "      <td>None</td>\n",
       "      <td>google.com</td>\n",
       "      <td>/html/body/div[10]/div/div[6]/div/div[4]/div/d...</td>\n",
       "      <td>answer-expand</td>\n",
       "      <td>div</td>\n",
       "      <td>{'jsname': 'bVEB4e', 'class': ['QRY00e'], 'rol...</td>\n",
       "      <td>{'height': 48.0, 'width': 315.0}</td>\n",
       "      <td>{'x': 24, 'y': 3318}</td>\n",
       "      <td>15120.0</td>\n",
       "      <td>...</td>\n",
       "      <td>0.0</td>\n",
       "      <td>0.0</td>\n",
       "      <td>0.0</td>\n",
       "      <td>0.0</td>\n",
       "      <td>15120.0</td>\n",
       "      <td>answer</td>\n",
       "      <td>google-expandable-answer</td>\n",
       "      <td>2020-03-21</td>\n",
       "      <td>2019-11-28</td>\n",
       "      <td>3318</td>\n",
       "    </tr>\n",
       "    <tr>\n",
       "      <th>3</th>\n",
       "      <td>What causes a man's balls to swell up?</td>\n",
       "      <td>None</td>\n",
       "      <td>google.com</td>\n",
       "      <td>/html/body/div[10]/div/div[6]/div/div[3]/div/d...</td>\n",
       "      <td>answer-expand</td>\n",
       "      <td>div</td>\n",
       "      <td>{'jsname': 'ARU61', 'class': ['mWyH1d', 'kno-a...</td>\n",
       "      <td>{'height': 48.0, 'width': 347.0}</td>\n",
       "      <td>{'x': 8, 'y': 672}</td>\n",
       "      <td>16656.0</td>\n",
       "      <td>...</td>\n",
       "      <td>16656.0</td>\n",
       "      <td>0.0</td>\n",
       "      <td>0.0</td>\n",
       "      <td>0.0</td>\n",
       "      <td>0.0</td>\n",
       "      <td>answer</td>\n",
       "      <td>google-expandable-answer</td>\n",
       "      <td>2020-03-21</td>\n",
       "      <td>2019-11-28</td>\n",
       "      <td>672</td>\n",
       "    </tr>\n",
       "    <tr>\n",
       "      <th>4</th>\n",
       "      <td>Will swollen testicle go away?</td>\n",
       "      <td>None</td>\n",
       "      <td>google.com</td>\n",
       "      <td>/html/body/div[10]/div/div[6]/div/div[3]/div/d...</td>\n",
       "      <td>answer-expand</td>\n",
       "      <td>div</td>\n",
       "      <td>{'jsname': 'ARU61', 'class': ['mWyH1d', 'kno-a...</td>\n",
       "      <td>{'height': 48.0, 'width': 347.0}</td>\n",
       "      <td>{'x': 8, 'y': 720}</td>\n",
       "      <td>16656.0</td>\n",
       "      <td>...</td>\n",
       "      <td>16656.0</td>\n",
       "      <td>0.0</td>\n",
       "      <td>0.0</td>\n",
       "      <td>0.0</td>\n",
       "      <td>0.0</td>\n",
       "      <td>answer</td>\n",
       "      <td>google-expandable-answer</td>\n",
       "      <td>2020-03-21</td>\n",
       "      <td>2019-11-28</td>\n",
       "      <td>720</td>\n",
       "    </tr>\n",
       "    <tr>\n",
       "      <th>...</th>\n",
       "      <td>...</td>\n",
       "      <td>...</td>\n",
       "      <td>...</td>\n",
       "      <td>...</td>\n",
       "      <td>...</td>\n",
       "      <td>...</td>\n",
       "      <td>...</td>\n",
       "      <td>...</td>\n",
       "      <td>...</td>\n",
       "      <td>...</td>\n",
       "      <td>...</td>\n",
       "      <td>...</td>\n",
       "      <td>...</td>\n",
       "      <td>...</td>\n",
       "      <td>...</td>\n",
       "      <td>...</td>\n",
       "      <td>...</td>\n",
       "      <td>...</td>\n",
       "      <td>...</td>\n",
       "      <td>...</td>\n",
       "      <td>...</td>\n",
       "    </tr>\n",
       "    <tr>\n",
       "      <th>1193419</th>\n",
       "      <td>Britannica.com › technology › Majo...Web resul...</td>\n",
       "      <td>https://www.britannica.com/technology/diesel-e...</td>\n",
       "      <td>britannica.com</td>\n",
       "      <td>/html/body/div[10]/div/div[6]/div/div[3]/div/d...</td>\n",
       "      <td>organic-search_result</td>\n",
       "      <td>div</td>\n",
       "      <td>{'class': ['mnr-c', 'xpd', 'O9g5cc', 'uUPGi']}</td>\n",
       "      <td>{'height': 185.0, 'width': 347.0}</td>\n",
       "      <td>{'x': 8, 'y': 2908}</td>\n",
       "      <td>64195.0</td>\n",
       "      <td>...</td>\n",
       "      <td>0.0</td>\n",
       "      <td>0.0</td>\n",
       "      <td>64195.0</td>\n",
       "      <td>0.0</td>\n",
       "      <td>0.0</td>\n",
       "      <td>organic</td>\n",
       "      <td>organic-search_result</td>\n",
       "      <td>2020-03-21</td>\n",
       "      <td>2020-01-02</td>\n",
       "      <td>2908</td>\n",
       "    </tr>\n",
       "    <tr>\n",
       "      <th>1193420</th>\n",
       "      <td>HowStuffWorks › autoHow Diesel Engines Work | ...</td>\n",
       "      <td>https://auto.howstuffworks.com/diesel.htm</td>\n",
       "      <td>howstuffworks.com</td>\n",
       "      <td>/html/body/div[10]/div/div[6]/div/div[3]/div/d...</td>\n",
       "      <td>organic-search_result</td>\n",
       "      <td>div</td>\n",
       "      <td>{'class': ['mnr-c', 'xpd', 'O9g5cc', 'uUPGi']}</td>\n",
       "      <td>{'height': 225.0, 'width': 347.0}</td>\n",
       "      <td>{'x': 8, 'y': 3103}</td>\n",
       "      <td>78075.0</td>\n",
       "      <td>...</td>\n",
       "      <td>0.0</td>\n",
       "      <td>0.0</td>\n",
       "      <td>78075.0</td>\n",
       "      <td>0.0</td>\n",
       "      <td>0.0</td>\n",
       "      <td>organic</td>\n",
       "      <td>organic-search_result</td>\n",
       "      <td>2020-03-21</td>\n",
       "      <td>2020-01-02</td>\n",
       "      <td>3103</td>\n",
       "    </tr>\n",
       "    <tr>\n",
       "      <th>1193421</th>\n",
       "      <td>DieselNet › tech › diesel_enginesWeb resultsDi...</td>\n",
       "      <td>https://www.dieselnet.com/tech/diesel_engines.php</td>\n",
       "      <td>dieselnet.com</td>\n",
       "      <td>/html/body/div[10]/div/div[6]/div/div[3]/div/d...</td>\n",
       "      <td>organic-search_result</td>\n",
       "      <td>div</td>\n",
       "      <td>{'data-hveid': 'CAMQAQ'}</td>\n",
       "      <td>{'height': 197.0, 'width': 347.0}</td>\n",
       "      <td>{'x': 8, 'y': 3941}</td>\n",
       "      <td>68359.0</td>\n",
       "      <td>...</td>\n",
       "      <td>0.0</td>\n",
       "      <td>0.0</td>\n",
       "      <td>0.0</td>\n",
       "      <td>68359.0</td>\n",
       "      <td>0.0</td>\n",
       "      <td>organic</td>\n",
       "      <td>organic-search_result</td>\n",
       "      <td>2020-03-21</td>\n",
       "      <td>2020-01-02</td>\n",
       "      <td>3941</td>\n",
       "    </tr>\n",
       "    <tr>\n",
       "      <th>1193422</th>\n",
       "      <td>DieselNet › tech › diesel_historyEarly History...</td>\n",
       "      <td>https://www.dieselnet.com/tech/diesel_history.php</td>\n",
       "      <td>dieselnet.com</td>\n",
       "      <td>/html/body/div[10]/div/div[6]/div/div[3]/div/d...</td>\n",
       "      <td>organic-search_result</td>\n",
       "      <td>div</td>\n",
       "      <td>{'data-hveid': 'CAMQBw'}</td>\n",
       "      <td>{'height': 169.0, 'width': 347.0}</td>\n",
       "      <td>{'x': 8, 'y': 4139}</td>\n",
       "      <td>58643.0</td>\n",
       "      <td>...</td>\n",
       "      <td>0.0</td>\n",
       "      <td>0.0</td>\n",
       "      <td>0.0</td>\n",
       "      <td>58643.0</td>\n",
       "      <td>0.0</td>\n",
       "      <td>organic</td>\n",
       "      <td>organic-search_result</td>\n",
       "      <td>2020-03-21</td>\n",
       "      <td>2020-01-02</td>\n",
       "      <td>4139</td>\n",
       "    </tr>\n",
       "    <tr>\n",
       "      <th>1193423</th>\n",
       "      <td>How a Car Works › basics › how-a-...How a dies...</td>\n",
       "      <td>https://www.howacarworks.com/basics/how-a-dies...</td>\n",
       "      <td>howacarworks.com</td>\n",
       "      <td>/html/body/div[10]/div/div[6]/div/div[3]/div/d...</td>\n",
       "      <td>organic-search_result</td>\n",
       "      <td>div</td>\n",
       "      <td>{'class': ['mnr-c', 'xpd', 'O9g5cc', 'uUPGi']}</td>\n",
       "      <td>{'height': 225.0, 'width': 347.0}</td>\n",
       "      <td>{'x': 8, 'y': 4545}</td>\n",
       "      <td>78075.0</td>\n",
       "      <td>...</td>\n",
       "      <td>0.0</td>\n",
       "      <td>0.0</td>\n",
       "      <td>0.0</td>\n",
       "      <td>0.0</td>\n",
       "      <td>78075.0</td>\n",
       "      <td>organic</td>\n",
       "      <td>organic-search_result</td>\n",
       "      <td>2020-03-21</td>\n",
       "      <td>2020-01-02</td>\n",
       "      <td>4545</td>\n",
       "    </tr>\n",
       "  </tbody>\n",
       "</table>\n",
       "<p>1193424 rows × 23 columns</p>\n",
       "</div>"
      ],
      "text/plain": [
       "                                                      text  \\\n",
       "0                                        testicular cancer   \n",
       "1                                       testicular torsion   \n",
       "2                                         hydrocele testis   \n",
       "3                   What causes a man's balls to swell up?   \n",
       "4                           Will swollen testicle go away?   \n",
       "...                                                    ...   \n",
       "1193419  Britannica.com › technology › Majo...Web resul...   \n",
       "1193420  HowStuffWorks › autoHow Diesel Engines Work | ...   \n",
       "1193421  DieselNet › tech › diesel_enginesWeb resultsDi...   \n",
       "1193422  DieselNet › tech › diesel_historyEarly History...   \n",
       "1193423  How a Car Works › basics › how-a-...How a dies...   \n",
       "\n",
       "                                                      link             domain  \\\n",
       "0                                                     None         google.com   \n",
       "1                                                     None         google.com   \n",
       "2                                                     None         google.com   \n",
       "3                                                     None         google.com   \n",
       "4                                                     None         google.com   \n",
       "...                                                    ...                ...   \n",
       "1193419  https://www.britannica.com/technology/diesel-e...     britannica.com   \n",
       "1193420          https://auto.howstuffworks.com/diesel.htm  howstuffworks.com   \n",
       "1193421  https://www.dieselnet.com/tech/diesel_engines.php      dieselnet.com   \n",
       "1193422  https://www.dieselnet.com/tech/diesel_history.php      dieselnet.com   \n",
       "1193423  https://www.howacarworks.com/basics/how-a-dies...   howacarworks.com   \n",
       "\n",
       "                                                     xpath  \\\n",
       "0        /html/body/div[10]/div/div[6]/div/div[4]/div/d...   \n",
       "1        /html/body/div[10]/div/div[6]/div/div[4]/div/d...   \n",
       "2        /html/body/div[10]/div/div[6]/div/div[4]/div/d...   \n",
       "3        /html/body/div[10]/div/div[6]/div/div[3]/div/d...   \n",
       "4        /html/body/div[10]/div/div[6]/div/div[3]/div/d...   \n",
       "...                                                    ...   \n",
       "1193419  /html/body/div[10]/div/div[6]/div/div[3]/div/d...   \n",
       "1193420  /html/body/div[10]/div/div[6]/div/div[3]/div/d...   \n",
       "1193421  /html/body/div[10]/div/div[6]/div/div[3]/div/d...   \n",
       "1193422  /html/body/div[10]/div/div[6]/div/div[3]/div/d...   \n",
       "1193423  /html/body/div[10]/div/div[6]/div/div[3]/div/d...   \n",
       "\n",
       "                      category  tag  \\\n",
       "0                answer-expand  div   \n",
       "1                answer-expand  div   \n",
       "2                answer-expand  div   \n",
       "3                answer-expand  div   \n",
       "4                answer-expand  div   \n",
       "...                        ...  ...   \n",
       "1193419  organic-search_result  div   \n",
       "1193420  organic-search_result  div   \n",
       "1193421  organic-search_result  div   \n",
       "1193422  organic-search_result  div   \n",
       "1193423  organic-search_result  div   \n",
       "\n",
       "                                                     attrs  \\\n",
       "0        {'jsname': 'bVEB4e', 'class': ['QRY00e'], 'rol...   \n",
       "1        {'jsname': 'bVEB4e', 'class': ['QRY00e'], 'rol...   \n",
       "2        {'jsname': 'bVEB4e', 'class': ['QRY00e'], 'rol...   \n",
       "3        {'jsname': 'ARU61', 'class': ['mWyH1d', 'kno-a...   \n",
       "4        {'jsname': 'ARU61', 'class': ['mWyH1d', 'kno-a...   \n",
       "...                                                    ...   \n",
       "1193419     {'class': ['mnr-c', 'xpd', 'O9g5cc', 'uUPGi']}   \n",
       "1193420     {'class': ['mnr-c', 'xpd', 'O9g5cc', 'uUPGi']}   \n",
       "1193421                           {'data-hveid': 'CAMQAQ'}   \n",
       "1193422                           {'data-hveid': 'CAMQBw'}   \n",
       "1193423     {'class': ['mnr-c', 'xpd', 'O9g5cc', 'uUPGi']}   \n",
       "\n",
       "                                dimensions              location  area_page  \\\n",
       "0         {'height': 48.0, 'width': 315.0}  {'x': 24, 'y': 3220}    15120.0   \n",
       "1         {'height': 48.0, 'width': 315.0}  {'x': 24, 'y': 3269}    15120.0   \n",
       "2         {'height': 48.0, 'width': 315.0}  {'x': 24, 'y': 3318}    15120.0   \n",
       "3         {'height': 48.0, 'width': 347.0}    {'x': 8, 'y': 672}    16656.0   \n",
       "4         {'height': 48.0, 'width': 347.0}    {'x': 8, 'y': 720}    16656.0   \n",
       "...                                    ...                   ...        ...   \n",
       "1193419  {'height': 185.0, 'width': 347.0}   {'x': 8, 'y': 2908}    64195.0   \n",
       "1193420  {'height': 225.0, 'width': 347.0}   {'x': 8, 'y': 3103}    78075.0   \n",
       "1193421  {'height': 197.0, 'width': 347.0}   {'x': 8, 'y': 3941}    68359.0   \n",
       "1193422  {'height': 169.0, 'width': 347.0}   {'x': 8, 'y': 4139}    58643.0   \n",
       "1193423  {'height': 225.0, 'width': 347.0}   {'x': 8, 'y': 4545}    78075.0   \n",
       "\n",
       "         ...  q1_area  q2_area  q3_area  q4_area  q5_area    label  \\\n",
       "0        ...      0.0      0.0      0.0      0.0  15120.0   answer   \n",
       "1        ...      0.0      0.0      0.0      0.0  15120.0   answer   \n",
       "2        ...      0.0      0.0      0.0      0.0  15120.0   answer   \n",
       "3        ...  16656.0      0.0      0.0      0.0      0.0   answer   \n",
       "4        ...  16656.0      0.0      0.0      0.0      0.0   answer   \n",
       "...      ...      ...      ...      ...      ...      ...      ...   \n",
       "1193419  ...      0.0      0.0  64195.0      0.0      0.0  organic   \n",
       "1193420  ...      0.0      0.0  78075.0      0.0      0.0  organic   \n",
       "1193421  ...      0.0      0.0      0.0  68359.0      0.0  organic   \n",
       "1193422  ...      0.0      0.0      0.0  58643.0      0.0  organic   \n",
       "1193423  ...      0.0      0.0      0.0      0.0  78075.0  organic   \n",
       "\n",
       "                category_standard  date_parsed date_collected y_dist  \n",
       "0        google-expandable-answer   2020-03-21     2019-11-28   3220  \n",
       "1        google-expandable-answer   2020-03-21     2019-11-28   3269  \n",
       "2        google-expandable-answer   2020-03-21     2019-11-28   3318  \n",
       "3        google-expandable-answer   2020-03-21     2019-11-28    672  \n",
       "4        google-expandable-answer   2020-03-21     2019-11-28    720  \n",
       "...                           ...          ...            ...    ...  \n",
       "1193419     organic-search_result   2020-03-21     2020-01-02   2908  \n",
       "1193420     organic-search_result   2020-03-21     2020-01-02   3103  \n",
       "1193421     organic-search_result   2020-03-21     2020-01-02   3941  \n",
       "1193422     organic-search_result   2020-03-21     2020-01-02   4139  \n",
       "1193423     organic-search_result   2020-03-21     2020-01-02   4545  \n",
       "\n",
       "[1193424 rows x 23 columns]"
      ]
     },
     "execution_count": 91,
     "metadata": {},
     "output_type": "execute_result"
    }
   ],
   "source": [
    "df"
   ]
  },
  {
   "cell_type": "code",
   "execution_count": 92,
   "metadata": {},
   "outputs": [
    {
     "data": {
      "text/plain": [
       "label\n",
       "ads        0.072899\n",
       "amp        0.122538\n",
       "answer     0.105134\n",
       "link       0.308350\n",
       "organic    0.391079\n",
       "Name: area_page, dtype: float64"
      ]
     },
     "execution_count": 92,
     "metadata": {},
     "output_type": "execute_result"
    }
   ],
   "source": [
    "res = df[df['fn_input'] == '../data/input/google_search/iPhone-X/2020/01/02/John-Cho/html/webpage_raw.html']\n",
    "\n",
    "res.groupby('label').area_page.sum() / res.area_page.sum()"
   ]
  },
  {
   "cell_type": "code",
   "execution_count": 93,
   "metadata": {},
   "outputs": [
    {
     "ename": "SyntaxError",
     "evalue": "invalid syntax (<ipython-input-93-24ea128b55fd>, line 1)",
     "output_type": "error",
     "traceback": [
      "\u001b[0;36m  File \u001b[0;32m\"<ipython-input-93-24ea128b55fd>\"\u001b[0;36m, line \u001b[0;32m1\u001b[0m\n\u001b[0;31m    ads        0.072899\u001b[0m\n\u001b[0m               ^\u001b[0m\n\u001b[0;31mSyntaxError\u001b[0m\u001b[0;31m:\u001b[0m invalid syntax\n"
     ]
    }
   ],
   "source": [
    "ads        0.072899\n",
    "amp        0.122538\n",
    "answer     0.105134\n",
    "link       0.308350\n",
    "organic    0.391079"
   ]
  }
 ],
 "metadata": {
  "kernelspec": {
   "display_name": "Python 3",
   "language": "python",
   "name": "python3"
  },
  "language_info": {
   "codemirror_mode": {
    "name": "ipython",
    "version": 3
   },
   "file_extension": ".py",
   "mimetype": "text/x-python",
   "name": "python",
   "nbconvert_exporter": "python",
   "pygments_lexer": "ipython3",
   "version": "3.8.1"
  }
 },
 "nbformat": 4,
 "nbformat_minor": 4
}
