{
 "cells": [
  {
   "cell_type": "markdown",
   "metadata": {},
   "source": [
    "# Data Analysis\n",
    "Author: Leon Yin<br>\n",
    "Date: 2020-2-03<br>\n",
    "\n",
    "This notebook analyses the results of the element categorization and area estimations from the last notebook."
   ]
  },
  {
   "cell_type": "code",
   "execution_count": 1,
   "metadata": {},
   "outputs": [],
   "source": [
    "%load_ext autoreload\n",
    "%autoreload 2\n",
    "%matplotlib inline"
   ]
  },
  {
   "cell_type": "code",
   "execution_count": 139,
   "metadata": {},
   "outputs": [
    {
     "data": {
      "application/javascript": [
       "MathJax.Hub.Config({\n",
       "    TeX: { equationNumbers: { autoNumber: \"AMS\" } }\n",
       "});\n"
      ],
      "text/plain": [
       "<IPython.core.display.Javascript object>"
      ]
     },
     "metadata": {},
     "output_type": "display_data"
    }
   ],
   "source": [
    "%%javascript\n",
    "MathJax.Hub.Config({\n",
    "    TeX: { equationNumbers: { autoNumber: \"AMS\" } }\n",
    "});"
   ]
  },
  {
   "cell_type": "code",
   "execution_count": 3,
   "metadata": {},
   "outputs": [],
   "source": [
    "import os\n",
    "import sys\n",
    "import json\n",
    "import time\n",
    "import glob\n",
    "import tempfile\n",
    "import warnings\n",
    "import inspect\n",
    "from collections import Counter\n",
    "from multiprocessing import Pool\n",
    "warnings.filterwarnings('ignore')\n",
    "\n",
    "import numpy as np\n",
    "import pandas as pd\n",
    "from scipy.stats import t\n",
    "import matplotlib.pyplot as plt\n",
    "from matplotlib.patches import Patch\n",
    "from bs4 import BeautifulSoup\n",
    "from tqdm import tqdm\n",
    "from IPython.display import display\n",
    "\n",
    "sys.path.append(\"..\")\n",
    "from utils.config import (\n",
    "    google_domains,\n",
    "    cat2color\n",
    ")"
   ]
  },
  {
   "cell_type": "code",
   "execution_count": 4,
   "metadata": {},
   "outputs": [],
   "source": [
    "# input\n",
    "fn_metadata = '../data/intermediary/element_metadata_15k.jsonl.gz'\n",
    "\n",
    "# output\n",
    "output_dir = '../data/output'\n",
    "tables_dir = os.path.join(output_dir, 'tables/')\n",
    "figure_dir = os.path.join(output_dir, 'figures/')\n",
    "appendix_dir = os.path.join(output_dir, 'appendix/')\n",
    "\n",
    "for d in [tables_dir, figure_dir, appendix_dir]:\n",
    "    os.makedirs(d, exist_ok=True)"
   ]
  },
  {
   "cell_type": "code",
   "execution_count": 5,
   "metadata": {},
   "outputs": [],
   "source": [
    "df = pd.read_json(fn_metadata, lines=True, \n",
    "                  compression='gzip')"
   ]
  },
  {
   "cell_type": "code",
   "execution_count": 66,
   "metadata": {},
   "outputs": [
    {
     "data": {
      "text/plain": [
       "15268"
      ]
     },
     "execution_count": 66,
     "metadata": {},
     "output_type": "execute_result"
    }
   ],
   "source": [
    "df.fn_input.nunique()"
   ]
  },
  {
   "cell_type": "code",
   "execution_count": 78,
   "metadata": {},
   "outputs": [
    {
     "name": "stdout",
     "output_type": "stream",
     "text": [
      "{\n",
      "  \"text\": \"Videos\",\n",
      "  \"link\": null,\n",
      "  \"domain\": \"google.com\",\n",
      "  \"xpath\": \"/html/body/div[10]/div/div[6]/div/div[3]/div/div/div/sticky-header/div[1]/div/g-tabs/div/div[1]/a[4]\",\n",
      "  \"element_class\": \"KYeOtb|ih2ainT7gdI__unselected|M51USb\",\n",
      "  \"category\": \"link-knowledge_panel_tab\",\n",
      "  \"tag\": \"a\",\n",
      "  \"attrs\": {\n",
      "    \"jsname\": \"AznF2e\",\n",
      "    \"class\": [\n",
      "      \"KYeOtb\",\n",
      "      \"ih2ainT7gdI__unselected\",\n",
      "      \"M51USb\"\n",
      "    ],\n",
      "    \"aria-selected\": \"false\",\n",
      "    \"data-index\": \"3\",\n",
      "    \"style\": \"height:48px;color:#802929;border-color:#D24040;padding:0 12px\",\n",
      "    \"tabindex\": \"-1\",\n",
      "    \"role\": \"tab\",\n",
      "    \"jsaction\": \"h5M12e\"\n",
      "  },\n",
      "  \"dimensions\": {\n",
      "    \"height\": 48.0,\n",
      "    \"width\": 71.1333312988\n",
      "  },\n",
      "  \"location\": {\n",
      "    \"x\": 287,\n",
      "    \"y\": 234\n",
      "  },\n",
      "  \"area\": 3414.3999023438,\n",
      "  \"area_page\": 3414.3999023438,\n",
      "  \"fn_input\": \"../data/input/google_search/iPhone-X/2019/12/23/Yuji-Horii/html/webpage_raw.html\",\n",
      "  \"label\": \"link\",\n",
      "  \"category_standard\": \"google-knowledge-panel-links\"\n",
      "}\n"
     ]
    }
   ],
   "source": [
    "print(json.dumps(df.sample(1).iloc[-1].to_dict(), \n",
    "                 indent=2))"
   ]
  },
  {
   "cell_type": "code",
   "execution_count": 6,
   "metadata": {},
   "outputs": [
    {
     "data": {
      "text/plain": [
       "label\n",
       "link       0.395101\n",
       "answer     0.230873\n",
       "organic    0.184833\n",
       "amp        0.124067\n",
       "ads        0.065125\n",
       "Name: area, dtype: float64"
      ]
     },
     "execution_count": 6,
     "metadata": {},
     "output_type": "execute_result"
    }
   ],
   "source": [
    "# first glance\n",
    "df.groupby('label') \\\n",
    "  .area.sum() \\\n",
    "  .sort_values(ascending=False) / df.area.sum()"
   ]
  },
  {
   "cell_type": "code",
   "execution_count": 7,
   "metadata": {},
   "outputs": [
    {
     "data": {
      "text/plain": [
       "label\n",
       "organic    0.443422\n",
       "link       0.277567\n",
       "amp        0.136076\n",
       "answer     0.133365\n",
       "ads        0.009570\n",
       "Name: area_page, dtype: float64"
      ]
     },
     "execution_count": 7,
     "metadata": {},
     "output_type": "execute_result"
    }
   ],
   "source": [
    "# full page\n",
    "df.groupby('label') \\\n",
    "  .area_page.sum() \\\n",
    "  .sort_values(ascending=False)/ df.area_page.sum()"
   ]
  },
  {
   "cell_type": "markdown",
   "metadata": {},
   "source": [
    "## Breakdown of area and frequency for each category"
   ]
  },
  {
   "cell_type": "code",
   "execution_count": 8,
   "metadata": {},
   "outputs": [],
   "source": [
    "# get area per standardized category\n",
    "cat_area_ = (df.groupby('category_standard')\n",
    "               .area_page.sum()\n",
    "               .divide(df.area_page.sum()))\n",
    "\n",
    "cat_area =(df.groupby('category_standard')\n",
    "             .area.sum()\n",
    "             .divide(df.area.sum()))"
   ]
  },
  {
   "cell_type": "code",
   "execution_count": 9,
   "metadata": {},
   "outputs": [
    {
     "data": {
      "text/plain": [
       "category_standard\n",
       "ads                             0.065125\n",
       "amp-card                        0.118022\n",
       "amp-search_result               0.003497\n",
       "amp-visual_stories              0.002548\n",
       "google-answer                   0.202433\n",
       "google-expandable-answer        0.028440\n",
       "google-images                   0.146953\n",
       "google-knowledge-panel-links    0.080761\n",
       "google-maps                     0.015258\n",
       "google-misc                     0.102599\n",
       "google-search                   0.029488\n",
       "google-video                    0.020043\n",
       "organic                         0.069843\n",
       "organic-search_result           0.114990\n",
       "Name: area, dtype: float64"
      ]
     },
     "execution_count": 9,
     "metadata": {},
     "output_type": "execute_result"
    }
   ],
   "source": [
    "(df.groupby('category_standard')\n",
    "             .area.sum()\n",
    "             .divide(df.area.sum()))"
   ]
  },
  {
   "cell_type": "code",
   "execution_count": 10,
   "metadata": {},
   "outputs": [],
   "source": [
    "n_pages = df[df.area != 0].fn_input.nunique()"
   ]
  },
  {
   "cell_type": "code",
   "execution_count": 11,
   "metadata": {},
   "outputs": [],
   "source": [
    "# number of elements on first glance\n",
    "cat_count = Counter()\n",
    "for fn, _df in df[df.area != 0].groupby('fn_input'):\n",
    "    cat_count.update(_df.category_standard.unique())\n",
    "df_wc = pd.DataFrame(cat_count.most_common(50),\n",
    "                     columns=['category_standard', 'count'])\n",
    "df_wc['freq'] = df_wc['count'] / n_pages \n",
    "\n",
    "# number of elements on full page\n",
    "cat_count_ = Counter()\n",
    "for fn, _df in df[df.area_page != 0].groupby('fn_input'):\n",
    "    cat_count_.update(_df.category_standard.unique())\n",
    "df_wc_ = pd.DataFrame(cat_count_.most_common(50),\n",
    "                     columns=['category_standard', 'count_page'])\n",
    "df_wc_['freq_page'] = df_wc_['count_page'] / n_pages "
   ]
  },
  {
   "cell_type": "code",
   "execution_count": 12,
   "metadata": {},
   "outputs": [],
   "source": [
    "cat_amp = df[df.label == 'amp'].category_standard.unique()\n",
    "cat_sd = df[df.label == 'link'].category_standard.unique()\n",
    "cat_rt = df[df.label == 'answer'].category_standard.unique()\n",
    "cat_ad = df[df.label == 'ads'].category_standard.unique()\n",
    "cat_og = df[df.label == 'organic'].category_standard.unique()"
   ]
  },
  {
   "cell_type": "code",
   "execution_count": 13,
   "metadata": {},
   "outputs": [
    {
     "data": {
      "text/plain": [
       "array(['organic-search_result', 'organic'], dtype=object)"
      ]
     },
     "execution_count": 13,
     "metadata": {},
     "output_type": "execute_result"
    }
   ],
   "source": [
    "cat_og"
   ]
  },
  {
   "cell_type": "code",
   "execution_count": 14,
   "metadata": {},
   "outputs": [],
   "source": [
    "def format_number(x):\n",
    "    \"\"\"Makes it nice for printing\"\"\"\n",
    "    x = x * 100\n",
    "    x = round(x, 2)\n",
    "    return f\"{x}%\""
   ]
  },
  {
   "cell_type": "code",
   "execution_count": 15,
   "metadata": {},
   "outputs": [],
   "source": [
    "def breakdown(categories : list(), \n",
    "              col='category_standard'):\n",
    "    \"\"\"Shows the area coverage and page frequency for each category  \"\"\"\n",
    "    full_page =df_wc_[df_wc_[col].isin(categories)] \\\n",
    "            .join(cat_area_.to_frame(),\n",
    "                  on=col,\n",
    "                  how='left')\n",
    "\n",
    "    output = (df_wc[df_wc[col].isin(categories)]\n",
    "        .join(cat_area.to_frame(),\n",
    "              on=col,\n",
    "              how='left')\n",
    "        .sort_values(by=['area'], \n",
    "                     ascending=False)\n",
    "        .reset_index(drop=True)\n",
    "        .merge(full_page)\n",
    "    )\n",
    "    \n",
    "    output = output[[c for c in output.columns if 'count' not in c]]\n",
    "        \n",
    "    fg_area = output['area'].sum()\n",
    "    fp_area = output['area_page'].sum()\n",
    "    \n",
    "    output = output.append(\n",
    "        {'category_standard' : 'Total', \n",
    "         'freq' : np.nan, \n",
    "         'area' : fg_area, \n",
    "         'freq_page' : np.nan, \n",
    "         'area_page' : fp_area},\n",
    "        ignore_index=True\n",
    "    )\n",
    "    return output.set_index(col)\n"
   ]
  },
  {
   "cell_type": "markdown",
   "metadata": {},
   "source": [
    "## Breakdown of area and frequency for each category"
   ]
  },
  {
   "cell_type": "code",
   "execution_count": 16,
   "metadata": {},
   "outputs": [],
   "source": [
    "columns = [\n",
    "   ('Above the fold', 'area'),\n",
    "   ('Above the fold' , 'area'),\n",
    "   ('Full page', 'freq'),\n",
    "   ('Full page' , 'area'),\n",
    "]"
   ]
  },
  {
   "cell_type": "code",
   "execution_count": 17,
   "metadata": {},
   "outputs": [],
   "source": [
    "total_area = df['area'].sum()\n",
    "total_area_fp = df['area_page'].sum()\n",
    "n_pages = df.fn_input.nunique()"
   ]
  },
  {
   "cell_type": "code",
   "execution_count": 18,
   "metadata": {},
   "outputs": [],
   "source": [
    "label2publabel = {\n",
    "    'link' : 'Google Product',\n",
    "    'answer' : 'Google Answer',\n",
    "    'organic' : 'Organic',\n",
    "    'amp' : 'AMP',\n",
    "    'ads' : 'Ads'\n",
    "}"
   ]
  },
  {
   "cell_type": "code",
   "execution_count": 19,
   "metadata": {},
   "outputs": [],
   "source": [
    "labels = [\n",
    "    'organic',\n",
    "    'amp',\n",
    "    'link',\n",
    "    'answer',\n",
    "    'ads'\n",
    "]"
   ]
  },
  {
   "cell_type": "code",
   "execution_count": 20,
   "metadata": {},
   "outputs": [
    {
     "data": {
      "text/html": [
       "<div>\n",
       "<style scoped>\n",
       "    .dataframe tbody tr th:only-of-type {\n",
       "        vertical-align: middle;\n",
       "    }\n",
       "\n",
       "    .dataframe tbody tr th {\n",
       "        vertical-align: top;\n",
       "    }\n",
       "\n",
       "    .dataframe thead tr th {\n",
       "        text-align: left;\n",
       "    }\n",
       "\n",
       "    .dataframe thead tr:last-of-type th {\n",
       "        text-align: right;\n",
       "    }\n",
       "</style>\n",
       "<table border=\"1\" class=\"dataframe\">\n",
       "  <thead>\n",
       "    <tr>\n",
       "      <th></th>\n",
       "      <th colspan=\"2\" halign=\"left\">Above the fold</th>\n",
       "      <th colspan=\"2\" halign=\"left\">Full page</th>\n",
       "    </tr>\n",
       "    <tr>\n",
       "      <th></th>\n",
       "      <th>freq</th>\n",
       "      <th>area</th>\n",
       "      <th>freq</th>\n",
       "      <th>area</th>\n",
       "    </tr>\n",
       "    <tr>\n",
       "      <th>category_standard</th>\n",
       "      <th></th>\n",
       "      <th></th>\n",
       "      <th></th>\n",
       "      <th></th>\n",
       "    </tr>\n",
       "  </thead>\n",
       "  <tbody>\n",
       "    <tr>\n",
       "      <th>ads</th>\n",
       "      <td>7.87%</td>\n",
       "      <td>6.51%</td>\n",
       "      <td>9.51%</td>\n",
       "      <td>0.96%</td>\n",
       "    </tr>\n",
       "    <tr>\n",
       "      <th>Total</th>\n",
       "      <td>nan%</td>\n",
       "      <td>6.51%</td>\n",
       "      <td>nan%</td>\n",
       "      <td>0.96%</td>\n",
       "    </tr>\n",
       "  </tbody>\n",
       "</table>\n",
       "</div>"
      ],
      "text/plain": [
       "                  Above the fold        Full page       \n",
       "                            freq   area      freq   area\n",
       "category_standard                                       \n",
       "ads                        7.87%  6.51%     9.51%  0.96%\n",
       "Total                       nan%  6.51%      nan%  0.96%"
      ]
     },
     "metadata": {},
     "output_type": "display_data"
    },
    {
     "data": {
      "text/html": [
       "<div>\n",
       "<style scoped>\n",
       "    .dataframe tbody tr th:only-of-type {\n",
       "        vertical-align: middle;\n",
       "    }\n",
       "\n",
       "    .dataframe tbody tr th {\n",
       "        vertical-align: top;\n",
       "    }\n",
       "\n",
       "    .dataframe thead tr th {\n",
       "        text-align: left;\n",
       "    }\n",
       "\n",
       "    .dataframe thead tr:last-of-type th {\n",
       "        text-align: right;\n",
       "    }\n",
       "</style>\n",
       "<table border=\"1\" class=\"dataframe\">\n",
       "  <thead>\n",
       "    <tr>\n",
       "      <th></th>\n",
       "      <th colspan=\"2\" halign=\"left\">Above the fold</th>\n",
       "      <th colspan=\"2\" halign=\"left\">Full page</th>\n",
       "    </tr>\n",
       "    <tr>\n",
       "      <th></th>\n",
       "      <th>freq</th>\n",
       "      <th>area</th>\n",
       "      <th>freq</th>\n",
       "      <th>area</th>\n",
       "    </tr>\n",
       "    <tr>\n",
       "      <th>category_standard</th>\n",
       "      <th></th>\n",
       "      <th></th>\n",
       "      <th></th>\n",
       "      <th></th>\n",
       "    </tr>\n",
       "  </thead>\n",
       "  <tbody>\n",
       "    <tr>\n",
       "      <th>amp-card</th>\n",
       "      <td>17.5%</td>\n",
       "      <td>11.8%</td>\n",
       "      <td>61.01%</td>\n",
       "      <td>4.84%</td>\n",
       "    </tr>\n",
       "    <tr>\n",
       "      <th>amp-search_result</th>\n",
       "      <td>1.04%</td>\n",
       "      <td>0.35%</td>\n",
       "      <td>65.57%</td>\n",
       "      <td>8.67%</td>\n",
       "    </tr>\n",
       "    <tr>\n",
       "      <th>amp-visual_stories</th>\n",
       "      <td>1.85%</td>\n",
       "      <td>0.25%</td>\n",
       "      <td>5.52%</td>\n",
       "      <td>0.1%</td>\n",
       "    </tr>\n",
       "    <tr>\n",
       "      <th>Total</th>\n",
       "      <td>nan%</td>\n",
       "      <td>12.41%</td>\n",
       "      <td>nan%</td>\n",
       "      <td>13.61%</td>\n",
       "    </tr>\n",
       "  </tbody>\n",
       "</table>\n",
       "</div>"
      ],
      "text/plain": [
       "                   Above the fold         Full page        \n",
       "                             freq    area      freq    area\n",
       "category_standard                                          \n",
       "amp-card                    17.5%   11.8%    61.01%   4.84%\n",
       "amp-search_result           1.04%   0.35%    65.57%   8.67%\n",
       "amp-visual_stories          1.85%   0.25%     5.52%    0.1%\n",
       "Total                        nan%  12.41%      nan%  13.61%"
      ]
     },
     "metadata": {},
     "output_type": "display_data"
    },
    {
     "data": {
      "text/html": [
       "<div>\n",
       "<style scoped>\n",
       "    .dataframe tbody tr th:only-of-type {\n",
       "        vertical-align: middle;\n",
       "    }\n",
       "\n",
       "    .dataframe tbody tr th {\n",
       "        vertical-align: top;\n",
       "    }\n",
       "\n",
       "    .dataframe thead tr th {\n",
       "        text-align: left;\n",
       "    }\n",
       "\n",
       "    .dataframe thead tr:last-of-type th {\n",
       "        text-align: right;\n",
       "    }\n",
       "</style>\n",
       "<table border=\"1\" class=\"dataframe\">\n",
       "  <thead>\n",
       "    <tr>\n",
       "      <th></th>\n",
       "      <th colspan=\"2\" halign=\"left\">Above the fold</th>\n",
       "      <th colspan=\"2\" halign=\"left\">Full page</th>\n",
       "    </tr>\n",
       "    <tr>\n",
       "      <th></th>\n",
       "      <th>freq</th>\n",
       "      <th>area</th>\n",
       "      <th>freq</th>\n",
       "      <th>area</th>\n",
       "    </tr>\n",
       "    <tr>\n",
       "      <th>category_standard</th>\n",
       "      <th></th>\n",
       "      <th></th>\n",
       "      <th></th>\n",
       "      <th></th>\n",
       "    </tr>\n",
       "  </thead>\n",
       "  <tbody>\n",
       "    <tr>\n",
       "      <th>google-answer</th>\n",
       "      <td>59.39%</td>\n",
       "      <td>20.24%</td>\n",
       "      <td>93.9%</td>\n",
       "      <td>5.91%</td>\n",
       "    </tr>\n",
       "    <tr>\n",
       "      <th>google-expandable-answer</th>\n",
       "      <td>16.15%</td>\n",
       "      <td>2.84%</td>\n",
       "      <td>89.75%</td>\n",
       "      <td>7.43%</td>\n",
       "    </tr>\n",
       "    <tr>\n",
       "      <th>Total</th>\n",
       "      <td>nan%</td>\n",
       "      <td>23.09%</td>\n",
       "      <td>nan%</td>\n",
       "      <td>13.34%</td>\n",
       "    </tr>\n",
       "  </tbody>\n",
       "</table>\n",
       "</div>"
      ],
      "text/plain": [
       "                         Above the fold         Full page        \n",
       "                                   freq    area      freq    area\n",
       "category_standard                                                \n",
       "google-answer                    59.39%  20.24%     93.9%   5.91%\n",
       "google-expandable-answer         16.15%   2.84%    89.75%   7.43%\n",
       "Total                              nan%  23.09%      nan%  13.34%"
      ]
     },
     "metadata": {},
     "output_type": "display_data"
    },
    {
     "data": {
      "text/html": [
       "<div>\n",
       "<style scoped>\n",
       "    .dataframe tbody tr th:only-of-type {\n",
       "        vertical-align: middle;\n",
       "    }\n",
       "\n",
       "    .dataframe tbody tr th {\n",
       "        vertical-align: top;\n",
       "    }\n",
       "\n",
       "    .dataframe thead tr th {\n",
       "        text-align: left;\n",
       "    }\n",
       "\n",
       "    .dataframe thead tr:last-of-type th {\n",
       "        text-align: right;\n",
       "    }\n",
       "</style>\n",
       "<table border=\"1\" class=\"dataframe\">\n",
       "  <thead>\n",
       "    <tr>\n",
       "      <th></th>\n",
       "      <th colspan=\"2\" halign=\"left\">Above the fold</th>\n",
       "      <th colspan=\"2\" halign=\"left\">Full page</th>\n",
       "    </tr>\n",
       "    <tr>\n",
       "      <th></th>\n",
       "      <th>freq</th>\n",
       "      <th>area</th>\n",
       "      <th>freq</th>\n",
       "      <th>area</th>\n",
       "    </tr>\n",
       "    <tr>\n",
       "      <th>category_standard</th>\n",
       "      <th></th>\n",
       "      <th></th>\n",
       "      <th></th>\n",
       "      <th></th>\n",
       "    </tr>\n",
       "  </thead>\n",
       "  <tbody>\n",
       "    <tr>\n",
       "      <th>google-images</th>\n",
       "      <td>59.08%</td>\n",
       "      <td>14.7%</td>\n",
       "      <td>85.81%</td>\n",
       "      <td>2.69%</td>\n",
       "    </tr>\n",
       "    <tr>\n",
       "      <th>google-misc</th>\n",
       "      <td>84.21%</td>\n",
       "      <td>10.26%</td>\n",
       "      <td>99.17%</td>\n",
       "      <td>3.46%</td>\n",
       "    </tr>\n",
       "    <tr>\n",
       "      <th>google-knowledge-panel-links</th>\n",
       "      <td>66.96%</td>\n",
       "      <td>8.08%</td>\n",
       "      <td>73.96%</td>\n",
       "      <td>1.12%</td>\n",
       "    </tr>\n",
       "    <tr>\n",
       "      <th>google-search</th>\n",
       "      <td>20.46%</td>\n",
       "      <td>2.95%</td>\n",
       "      <td>99.99%</td>\n",
       "      <td>15.77%</td>\n",
       "    </tr>\n",
       "    <tr>\n",
       "      <th>google-video</th>\n",
       "      <td>11.15%</td>\n",
       "      <td>2.0%</td>\n",
       "      <td>63.06%</td>\n",
       "      <td>4.35%</td>\n",
       "    </tr>\n",
       "    <tr>\n",
       "      <th>google-maps</th>\n",
       "      <td>5.6%</td>\n",
       "      <td>1.53%</td>\n",
       "      <td>9.46%</td>\n",
       "      <td>0.37%</td>\n",
       "    </tr>\n",
       "    <tr>\n",
       "      <th>Total</th>\n",
       "      <td>nan%</td>\n",
       "      <td>39.51%</td>\n",
       "      <td>nan%</td>\n",
       "      <td>27.76%</td>\n",
       "    </tr>\n",
       "  </tbody>\n",
       "</table>\n",
       "</div>"
      ],
      "text/plain": [
       "                             Above the fold         Full page        \n",
       "                                       freq    area      freq    area\n",
       "category_standard                                                    \n",
       "google-images                        59.08%   14.7%    85.81%   2.69%\n",
       "google-misc                          84.21%  10.26%    99.17%   3.46%\n",
       "google-knowledge-panel-links         66.96%   8.08%    73.96%   1.12%\n",
       "google-search                        20.46%   2.95%    99.99%  15.77%\n",
       "google-video                         11.15%    2.0%    63.06%   4.35%\n",
       "google-maps                            5.6%   1.53%     9.46%   0.37%\n",
       "Total                                  nan%  39.51%      nan%  27.76%"
      ]
     },
     "metadata": {},
     "output_type": "display_data"
    },
    {
     "data": {
      "text/html": [
       "<div>\n",
       "<style scoped>\n",
       "    .dataframe tbody tr th:only-of-type {\n",
       "        vertical-align: middle;\n",
       "    }\n",
       "\n",
       "    .dataframe tbody tr th {\n",
       "        vertical-align: top;\n",
       "    }\n",
       "\n",
       "    .dataframe thead tr th {\n",
       "        text-align: left;\n",
       "    }\n",
       "\n",
       "    .dataframe thead tr:last-of-type th {\n",
       "        text-align: right;\n",
       "    }\n",
       "</style>\n",
       "<table border=\"1\" class=\"dataframe\">\n",
       "  <thead>\n",
       "    <tr>\n",
       "      <th></th>\n",
       "      <th colspan=\"2\" halign=\"left\">Above the fold</th>\n",
       "      <th colspan=\"2\" halign=\"left\">Full page</th>\n",
       "    </tr>\n",
       "    <tr>\n",
       "      <th></th>\n",
       "      <th>freq</th>\n",
       "      <th>area</th>\n",
       "      <th>freq</th>\n",
       "      <th>area</th>\n",
       "    </tr>\n",
       "    <tr>\n",
       "      <th>category_standard</th>\n",
       "      <th></th>\n",
       "      <th></th>\n",
       "      <th></th>\n",
       "      <th></th>\n",
       "    </tr>\n",
       "  </thead>\n",
       "  <tbody>\n",
       "    <tr>\n",
       "      <th>organic-search_result</th>\n",
       "      <td>22.66%</td>\n",
       "      <td>11.5%</td>\n",
       "      <td>99.96%</td>\n",
       "      <td>37.81%</td>\n",
       "    </tr>\n",
       "    <tr>\n",
       "      <th>organic</th>\n",
       "      <td>63.66%</td>\n",
       "      <td>6.98%</td>\n",
       "      <td>94.98%</td>\n",
       "      <td>6.53%</td>\n",
       "    </tr>\n",
       "    <tr>\n",
       "      <th>Total</th>\n",
       "      <td>nan%</td>\n",
       "      <td>18.48%</td>\n",
       "      <td>nan%</td>\n",
       "      <td>44.34%</td>\n",
       "    </tr>\n",
       "  </tbody>\n",
       "</table>\n",
       "</div>"
      ],
      "text/plain": [
       "                      Above the fold         Full page        \n",
       "                                freq    area      freq    area\n",
       "category_standard                                             \n",
       "organic-search_result         22.66%   11.5%    99.96%  37.81%\n",
       "organic                       63.66%   6.98%    94.98%   6.53%\n",
       "Total                           nan%  18.48%      nan%  44.34%"
      ]
     },
     "metadata": {},
     "output_type": "display_data"
    }
   ],
   "source": [
    "df_cat_agg = pd.DataFrame()\n",
    "for categories in [cat_ad, cat_amp, cat_rt, cat_sd, cat_og]:\n",
    "    output = breakdown(categories)\n",
    "    df_cat_agg = df_cat_agg.append(output)\n",
    "    \n",
    "    output.columns = pd.MultiIndex.from_tuples([\n",
    "       ('Above the fold', 'freq'),\n",
    "       ('Above the fold' , 'area'),\n",
    "       ('Full page', 'freq'),\n",
    "       ('Full page' , 'area'),\n",
    "    ])\n",
    "    for c, dtype in output.dtypes.items():\n",
    "        if pd.api.types.is_numeric_dtype(output[c]):\n",
    "            output[c] = output[c].apply(format_number)\n",
    "    \n",
    "    display(output)"
   ]
  },
  {
   "cell_type": "code",
   "execution_count": 29,
   "metadata": {},
   "outputs": [
    {
     "name": "stdout",
     "output_type": "stream",
     "text": [
      "               Above the fold        First page       \n",
      "                    frequency   area  Frequency   area\n",
      "Organic                 74.3%  18.5%     100.0%  44.3%\n",
      "AMP                     20.2%  12.4%      80.7%  13.6%\n",
      "Google Product          92.4%  39.5%     100.0%  27.8%\n",
      "Google Answer           66.3%  23.1%      99.4%  13.3%\n",
      "Ads                      7.9%   6.5%       9.5%   1.0%\n"
     ]
    }
   ],
   "source": [
    "data = {}\n",
    "for label in labels:\n",
    "    _df = df[df.label == label]\n",
    "    area = (_df['area'].sum() / total_area)\n",
    "    area_page = (_df['area_page'].sum() / total_area_fp)\n",
    "    freq = _df[_df['area'] != 0].fn_input.nunique() / n_pages\n",
    "    freq_page = _df[_df['area_page'] != 0].fn_input.nunique() /n_pages\n",
    "    data[label2publabel.get(label,label)] = {\n",
    "        ('Above the fold', 'frequency') : freq,\n",
    "        ('Above the fold', 'area') : area,\n",
    "        ('First page', 'Frequency') : freq_page,\n",
    "        ('First page', 'area') : area_page,\n",
    "    }\n",
    "    \n",
    "cat_breakdown = pd.DataFrame(data).T\n",
    "cat_breakdown.columns = pd.MultiIndex.from_tuples([\n",
    "    ('Above the fold', 'frequency'),\n",
    "    ('Above the fold', 'area'),\n",
    "    ('First page', 'Frequency'),\n",
    "    ('First page', 'area'),\n",
    "])\n",
    "print((cat_breakdown * 100).round(1).astype(str) + '%')"
   ]
  },
  {
   "cell_type": "code",
   "execution_count": 40,
   "metadata": {},
   "outputs": [
    {
     "data": {
      "text/plain": [
       "62.6"
      ]
     },
     "execution_count": 40,
     "metadata": {},
     "output_type": "execute_result"
    }
   ],
   "source": [
    "39.5 + 23.1"
   ]
  },
  {
   "cell_type": "code",
   "execution_count": 41,
   "metadata": {},
   "outputs": [
    {
     "data": {
      "text/plain": [
       "41.1"
      ]
     },
     "execution_count": 41,
     "metadata": {},
     "output_type": "execute_result"
    }
   ],
   "source": [
    "27.8 + 13.3"
   ]
  },
  {
   "cell_type": "code",
   "execution_count": 22,
   "metadata": {},
   "outputs": [],
   "source": [
    "fn_cats = '../data/output/tables/T1_area_freq_by_category.csv'\n",
    "cat_breakdown.to_csv(fn_cats)"
   ]
  },
  {
   "cell_type": "markdown",
   "metadata": {},
   "source": [
    "## Changes in Category between full page of first glance"
   ]
  },
  {
   "cell_type": "code",
   "execution_count": 23,
   "metadata": {},
   "outputs": [],
   "source": [
    "legend_elements = [Patch(facecolor=cat2color['link'], \n",
    "                         label='Google link'),\n",
    "                   Patch(facecolor=cat2color['answer'], \n",
    "                         label='Google answer'),\n",
    "                   Patch(facecolor=cat2color['amp'], \n",
    "                         label='AMP'),\n",
    "                   Patch(facecolor=cat2color['ads'], \n",
    "                         label='Ads'),\n",
    "                   Patch(facecolor=cat2color['organic'], \n",
    "                         label='Organic')]"
   ]
  },
  {
   "cell_type": "code",
   "execution_count": 24,
   "metadata": {},
   "outputs": [
    {
     "data": {
      "image/png": "[encoded data removed]",
      "text/plain": [
       "<Figure size 720x432 with 1 Axes>"
      ]
     },
     "metadata": {
      "needs_background": "light"
     },
     "output_type": "display_data"
    }
   ],
   "source": [
    "df_cat_agg = df_cat_agg[df_cat_agg.index != 'Total']\n",
    "df_cat_agg['area_delta'] = df_cat_agg['area'] - df_cat_agg['area_page']\n",
    "df_plot = df_cat_agg['area_delta'].sort_values(ascending=True)\n",
    "df_plot = df_plot[abs(df_plot) > .002]\n",
    "colors = []\n",
    "for c in df_plot.index:\n",
    "    if c in cat_ad:\n",
    "        colors.append(cat2color['ads'])\n",
    "    elif c in cat_amp:\n",
    "        colors.append(cat2color['amp'])\n",
    "    elif c in cat_og:\n",
    "        colors.append(cat2color['organic'])\n",
    "    elif c in cat_rt:\n",
    "        colors.append(cat2color['answer'])\n",
    "    elif c in cat_sd:\n",
    "        colors.append(cat2color['link'])\n",
    "    else:\n",
    "        colors.append('black')\n",
    "        \n",
    "ax = df_plot.plot(kind='barh', \n",
    "                  figsize=[10,6],\n",
    "                  width=.8,\n",
    "                  color=colors,\n",
    "                  title='Change in area percentage from first-glance to full page')\n",
    "\n",
    "plt.axvline(x=0, color='k', linestyle='--', zorder=-1, alpha = .3)\n",
    "\n",
    "ax.set_axisbelow(True)\n",
    "plt.gca().xaxis.grid(True)\n",
    "# plt.gca().yaxis.grid(True)\n",
    "ax.set_ylabel(\"\")\n",
    "\n",
    "ax.legend(handles=legend_elements, \n",
    "          loc=(.75,.1))\n",
    "\n",
    "plt.annotate('More present beyond first-glance', \n",
    "             (0.04, 0), (0, -21), \n",
    "             xycoords='axes fraction', \n",
    "             textcoords='offset points', \n",
    "             va='top')\n",
    "plt.annotate('More present at first-glance', \n",
    "             (.75, 0), (.75, -21), \n",
    "             xycoords='axes fraction', \n",
    "             textcoords='offset points', \n",
    "             va='top')\n",
    "\n",
    "# Hide the right and top spines\n",
    "ax.spines['right'].set_visible(False)\n",
    "ax.spines['top'].set_visible(False)\n",
    "ax.spines['left'].set_visible(False)\n",
    "\n",
    "# Only show ticks on the left and bottom spines\n",
    "ax.yaxis.set_ticks_position('left')\n",
    "ax.xaxis.set_ticks_position('bottom');"
   ]
  },
  {
   "cell_type": "markdown",
   "metadata": {},
   "source": [
    "## Histogram of Google-occupied pixels"
   ]
  },
  {
   "cell_type": "markdown",
   "metadata": {},
   "source": [
    "\\begin{equation}\n",
    "X_{goog} = \\frac{g}{g + o}\n",
    "\\end{equation}\n",
    "\n",
    "\\begin{equation}\n",
    "X_{goog} = \\frac{g + ad}{o + g + ad}\n",
    "\\end{equation}\n",
    "\n",
    "\\begin{equation}\n",
    "X_{goog} = \\frac{g + amp}{o + g + amp}\n",
    "\\end{equation}\n",
    "\n",
    "\\begin{equation}\n",
    "X_{goog} = \\frac{g + amp + ad}{o + g + amp + ad}\n",
    "\\end{equation}\n",
    "\n",
    "\\begin{equation}\n",
    "X_{goog} = \\frac{g}{o + g + amp + ad}\n",
    "\\end{equation}\n",
    "\n",
    "\\begin{equation}\n",
    "X_{o} = \\frac{o}{o + g + amp + ad}\n",
    "\\end{equation}\n",
    "\n",
    "\n",
    "Where <br>\n",
    "&nbsp;&nbsp;&nbsp;&nbsp; $X_{goog}$: is the percentage of real estate that occupy Google elements.<br>\n",
    "&nbsp;&nbsp;&nbsp;&nbsp; $g$: is the total sum of variable real estate pixels occupied by Google links and answers.<br>\n",
    "&nbsp;&nbsp;&nbsp;&nbsp; $o$: is the total sum of variable real estate pixels occupied by Organic links.<br>\n",
    "&nbsp;&nbsp;&nbsp;&nbsp; $ad$: is the total sum of variable real estate pixels occupied by ads.<br>\n",
    "&nbsp;&nbsp;&nbsp;&nbsp; $amp$: is the total sum of variable real estate pixels occupied by AMP.<br>"
   ]
  },
  {
   "cell_type": "code",
   "execution_count": 25,
   "metadata": {},
   "outputs": [
    {
     "name": "stderr",
     "output_type": "stream",
     "text": [
      "100%|██████████| 15268/15268 [01:15<00:00, 202.68it/s]\n"
     ]
    }
   ],
   "source": [
    "pixels = {\n",
    "    'area' : [],\n",
    "    'area_page' : []\n",
    "}\n",
    "for search, df_ in tqdm(df.groupby('fn_input')):\n",
    "    for col in ['area', 'area_page']:\n",
    "        ad = df_[df_.label == 'ads'][col].sum()\n",
    "        o = df_[df_.label == 'organic'][col].sum()\n",
    "        g = df_[(df_.label == 'link') | \n",
    "                (df_.label == 'answer')][col].sum()\n",
    "        amp = df_[df_.label == 'amp'][col].sum()\n",
    "\n",
    "        e1 = g / (g + o)\n",
    "        \n",
    "        e2 = (g + ad) / (g + o + ad )\n",
    "        e3 = (g + amp) / (g + o + amp)\n",
    "        e4 = (g + amp + ad) / (g + o + amp + ad)\n",
    "        e5 = g / (g + ad + o + amp)\n",
    "        \n",
    "        e6 =  o / (g + ad + o + amp)\n",
    "        \n",
    "\n",
    "        row = {\n",
    "            'search_term' : search,\n",
    "            'ad' : ad,\n",
    "            'o' : o,\n",
    "            'g' : g,\n",
    "            'amp' : amp,\n",
    "            'e1' : e1,\n",
    "            'e2' : e2,\n",
    "            'e3' : e3,\n",
    "            'e4' : e4,\n",
    "            'e5' : e5,\n",
    "            'e6' : e6\n",
    "        }\n",
    "\n",
    "        pixels[col].append(row)\n",
    "    \n",
    "df_pixels = pd.DataFrame(pixels['area'])\n",
    "df_pixels_fp = pd.DataFrame(pixels['area_page'])"
   ]
  },
  {
   "cell_type": "code",
   "execution_count": 30,
   "metadata": {},
   "outputs": [],
   "source": [
    "df_pixels.e1.fillna(0, inplace=True)"
   ]
  },
  {
   "cell_type": "code",
   "execution_count": 31,
   "metadata": {},
   "outputs": [],
   "source": [
    "def hist(series, color='black', \n",
    "         title=None, \n",
    "         fn_out=None,\n",
    "         left_right_annotations = (None, None)):\n",
    "    ax = series.plot(kind='hist', \n",
    "                           figsize=(10,6),\n",
    "                           bins=10, \n",
    "                           rwidth=.95,\n",
    "                           color=color,\n",
    "                           alpha=.9,\n",
    "                           title=title)\n",
    "\n",
    "    ax.tick_params(axis=\"both\", which=\"both\", bottom=\"off\", \n",
    "                   top=\"off\", labelbottom=\"on\", left=\"off\", \n",
    "                   right=\"off\", labelleft=\"on\")\n",
    "\n",
    "    plt.annotate(left_right_annotations[0], \n",
    "                 (0.04, 0), (0, -21), \n",
    "                 xycoords='axes fraction', \n",
    "                 textcoords='offset points', \n",
    "                 va='top')\n",
    "    plt.annotate(left_right_annotations[-1], \n",
    "                 (.75, 0), (.75, -21), \n",
    "                 xycoords='axes fraction', \n",
    "                 textcoords='offset points', \n",
    "                 va='top')\n",
    "\n",
    "    ax.set_ylabel(\"Count of search pages\")\n",
    "\n",
    "    ax.set_axisbelow(True)\n",
    "    plt.gca().yaxis.grid(True)\n",
    "\n",
    "    # Hide the right and top spines\n",
    "    ax.spines['right'].set_visible(False)\n",
    "    ax.spines['top'].set_visible(False)\n",
    "\n",
    "    # Only show ticks on the left and bottom spines\n",
    "    ax.yaxis.set_ticks_position('left')\n",
    "    ax.xaxis.set_ticks_position('bottom')\n",
    "    \n",
    "    if fn_out:\n",
    "         plt.savefig(fn_out)\n",
    "    \n",
    "    return ax"
   ]
  },
  {
   "cell_type": "code",
   "execution_count": 32,
   "metadata": {},
   "outputs": [
    {
     "data": {
      "image/png": "[encoded data removed]",
      "text/plain": [
       "<Figure size 720x432 with 1 Axes>"
      ]
     },
     "metadata": {
      "needs_background": "light"
     },
     "output_type": "display_data"
    }
   ],
   "source": [
    "hist(df_pixels.e1,\n",
    "     left_right_annotations = ('least Google-occupied space',\n",
    "                             'most Google-occupied space'),\n",
    "     title = f'Google real estate (EQ1) above the fold (N={len(df_pixels):,})',\n",
    "     fn_out='../data/output/figures/eq1_abv.png');"
   ]
  },
  {
   "cell_type": "code",
   "execution_count": 55,
   "metadata": {},
   "outputs": [
    {
     "data": {
      "text/plain": [
       "57.61068902279277"
      ]
     },
     "execution_count": 55,
     "metadata": {},
     "output_type": "execute_result"
    }
   ],
   "source": [
    "# What percentage of pages have 90% or more of the page occupied by Google?\n",
    "len(df_pixels[df_pixels.e1 >= .9]) / len(df_pixels) * 100"
   ]
  },
  {
   "cell_type": "code",
   "execution_count": 54,
   "metadata": {},
   "outputs": [
    {
     "data": {
      "text/plain": [
       "4.276919046371496"
      ]
     },
     "execution_count": 54,
     "metadata": {},
     "output_type": "execute_result"
    }
   ],
   "source": [
    "# what percentage of pages have less than 10% google\n",
    "len(df_pixels[df_pixels.e1 == 0]) / len(df_pixels) * 100"
   ]
  },
  {
   "cell_type": "code",
   "execution_count": 112,
   "metadata": {},
   "outputs": [
    {
     "data": {
      "text/plain": [
       "(0.772679777588408, 0.9851683929156346)"
      ]
     },
     "execution_count": 112,
     "metadata": {},
     "output_type": "execute_result"
    }
   ],
   "source": [
    "df_pixels.e1.mean(), df_pixels.e1.median()"
   ]
  },
  {
   "cell_type": "code",
   "execution_count": 33,
   "metadata": {},
   "outputs": [
    {
     "data": {
      "image/png": "[encoded data removed]",
      "text/plain": [
       "<Figure size 720x432 with 1 Axes>"
      ]
     },
     "metadata": {
      "needs_background": "light"
     },
     "output_type": "display_data"
    }
   ],
   "source": [
    "hist(df_pixels_fp.e1,\n",
    "     title = f'Google real estate (EQ1) on first page (N={len(df_pixels_fp):,})',\n",
    "     left_right_annotations = ('least Google-occupied space',\n",
    "                               'most Google-occupied space'),\n",
    "     fn_out='../data/output/figures/eq1_page.png');"
   ]
  },
  {
   "cell_type": "code",
   "execution_count": 58,
   "metadata": {},
   "outputs": [
    {
     "data": {
      "text/plain": [
       "41.18417605449306"
      ]
     },
     "execution_count": 58,
     "metadata": {},
     "output_type": "execute_result"
    }
   ],
   "source": [
    "# What percentage of pages have 50% or more of the page occupied by Google?\n",
    "len(df_pixels_fp[df_pixels_fp.e1 >= .5]) / len(df_pixels) * 100"
   ]
  },
  {
   "cell_type": "code",
   "execution_count": 34,
   "metadata": {},
   "outputs": [
    {
     "data": {
      "text/plain": [
       "<matplotlib.axes._subplots.AxesSubplot at 0x7f57bb868d00>"
      ]
     },
     "execution_count": 34,
     "metadata": {},
     "output_type": "execute_result"
    },
    {
     "data": {
      "image/png": "[encoded data removed]",
      "text/plain": [
       "<Figure size 720x432 with 1 Axes>"
      ]
     },
     "metadata": {
      "needs_background": "light"
     },
     "output_type": "display_data"
    }
   ],
   "source": [
    "hist(df_pixels.e6,\n",
    "     color=cat2color['organic'],\n",
    "     title=f'Organic real estate (EQ6) above the fold (N={len(df_pixels):,})',\n",
    "     left_right_annotations=('least Organic-occupied space',\n",
    "                             'most Organic-occupied space'),\n",
    "     fn_out='../data/output/figures/eq6_above.png')"
   ]
  },
  {
   "cell_type": "code",
   "execution_count": 53,
   "metadata": {},
   "outputs": [
    {
     "data": {
      "text/plain": [
       "60.1061042703694"
      ]
     },
     "execution_count": 53,
     "metadata": {},
     "output_type": "execute_result"
    }
   ],
   "source": [
    "# What percentage of pages have 95% or more of the page occupied by self-dealing?\n",
    "len(df_pixels[df_pixels.e6 <= .1]) / len(df_pixels) * 100"
   ]
  },
  {
   "cell_type": "markdown",
   "metadata": {},
   "source": [
    "## Computing confidence interval"
   ]
  },
  {
   "cell_type": "code",
   "execution_count": 35,
   "metadata": {},
   "outputs": [],
   "source": [
    "def SEM(data : pd.DataFrame, \n",
    "        confidence : float = 0.95 , \n",
    "        scale : int = 100,\n",
    "        return_tuple = False) -> str:\n",
    "    \"\"\"Calculates standard error of the mean.\"\"\"\n",
    "    n = len(data)\n",
    "    m = data.mean()\n",
    "    std_err = data.sem()\n",
    "    h = std_err * t.ppf((1 + confidence) / 2, n - 1)\n",
    "    s = f\"{scale * m:.1f} ± {h * scale :.1f}\"\n",
    "    if return_tuple:\n",
    "        s = (m, h)\n",
    "    return s"
   ]
  },
  {
   "cell_type": "code",
   "execution_count": 137,
   "metadata": {},
   "outputs": [],
   "source": [
    "index2human = {\n",
    "    'e1' : 'R1: g / (o + g)',\n",
    "    'e2' : 'R2: (g + ad) / (o + g + ad)',\n",
    "    'e3' : 'R3: (g + amp) / (o + g + amp)',\n",
    "    'e4' : 'R4: (g + amp + ad) / (o + g + amp + ad)',\n",
    "    'e5' : 'R5: g / (o + g + ads + amp)',\n",
    "    'e6' : 'R6: o / (o + g+ ads + amp)',\n",
    "}"
   ]
  },
  {
   "cell_type": "code",
   "execution_count": 138,
   "metadata": {},
   "outputs": [
    {
     "data": {
      "text/html": [
       "<div>\n",
       "<style scoped>\n",
       "    .dataframe tbody tr th:only-of-type {\n",
       "        vertical-align: middle;\n",
       "    }\n",
       "\n",
       "    .dataframe tbody tr th {\n",
       "        vertical-align: top;\n",
       "    }\n",
       "\n",
       "    .dataframe thead th {\n",
       "        text-align: right;\n",
       "    }\n",
       "</style>\n",
       "<table border=\"1\" class=\"dataframe\">\n",
       "  <thead>\n",
       "    <tr style=\"text-align: right;\">\n",
       "      <th></th>\n",
       "      <th>above the fold</th>\n",
       "      <th>first page</th>\n",
       "    </tr>\n",
       "  </thead>\n",
       "  <tbody>\n",
       "    <tr>\n",
       "      <th>R1: g / (o + g)</th>\n",
       "      <td>77.3 ± 0.5%</td>\n",
       "      <td>47.6 ± 0.2%</td>\n",
       "    </tr>\n",
       "    <tr>\n",
       "      <th>R2: (g + ad) / (o + g + ad)</th>\n",
       "      <td>80.3 ± 0.5%</td>\n",
       "      <td>48.2 ± 0.2%</td>\n",
       "    </tr>\n",
       "    <tr>\n",
       "      <th>R3: (g + amp) / (o + g + amp)</th>\n",
       "      <td>81.1 ± 0.5%</td>\n",
       "      <td>54.1 ± 0.2%</td>\n",
       "    </tr>\n",
       "    <tr>\n",
       "      <th>R4: (g + amp + ad) / (o + g + amp + ad)</th>\n",
       "      <td>82.8 ± 0.4%</td>\n",
       "      <td>54.5 ± 0.2%</td>\n",
       "    </tr>\n",
       "    <tr>\n",
       "      <th>R5: g / (o + g + ads + amp)</th>\n",
       "      <td>65.2 ± 0.6%</td>\n",
       "      <td>40.4 ± 0.1%</td>\n",
       "    </tr>\n",
       "    <tr>\n",
       "      <th>R6: o / (o + g+ ads + amp)</th>\n",
       "      <td>17.2 ± 0.4%</td>\n",
       "      <td>45.5 ± 0.2%</td>\n",
       "    </tr>\n",
       "  </tbody>\n",
       "</table>\n",
       "</div>"
      ],
      "text/plain": [
       "                                        above the fold   first page\n",
       "R1: g / (o + g)                            77.3 ± 0.5%  47.6 ± 0.2%\n",
       "R2: (g + ad) / (o + g + ad)                80.3 ± 0.5%  48.2 ± 0.2%\n",
       "R3: (g + amp) / (o + g + amp)              81.1 ± 0.5%  54.1 ± 0.2%\n",
       "R4: (g + amp + ad) / (o + g + amp + ad)    82.8 ± 0.4%  54.5 ± 0.2%\n",
       "R5: g / (o + g + ads + amp)                65.2 ± 0.6%  40.4 ± 0.1%\n",
       "R6: o / (o + g+ ads + amp)                 17.2 ± 0.4%  45.5 ± 0.2%"
      ]
     },
     "execution_count": 138,
     "metadata": {},
     "output_type": "execute_result"
    }
   ],
   "source": [
    "results = {}\n",
    "for e in [f'e{i}' for i in range(1, 7)]:\n",
    "    x_goog = SEM(df_pixels[e])\n",
    "    x_goog_fp = SEM(df_pixels_fp[e])\n",
    "    results[index2human.get(e)] = {\n",
    "        'above the fold' : x_goog + '%',\n",
    "        'first page' : x_goog_fp+ '%'\n",
    "    }\n",
    "ratios = pd.DataFrame(results).T\n",
    "ratios.to_csv('../data/output/tables/ratios.csv')\n",
    "ratios"
   ]
  },
  {
   "cell_type": "markdown",
   "metadata": {},
   "source": [
    "No matter what you might consider to be \"Google\"...\n",
    "Above the fold is covered with Google properties between 64.6% and 83.2%.\n",
    "For the first page it is between 40.3% and 54.7%."
   ]
  },
  {
   "cell_type": "markdown",
   "metadata": {},
   "source": [
    "# Distance"
   ]
  },
  {
   "cell_type": "code",
   "execution_count": 81,
   "metadata": {},
   "outputs": [],
   "source": [
    "df.loc[:, 'y_dist'] = df.location.apply(lambda x: x['y'])"
   ]
  },
  {
   "cell_type": "code",
   "execution_count": 82,
   "metadata": {},
   "outputs": [],
   "source": [
    "df.loc[df['category'] == 'link-youtube', \n",
    "       \"category_standard\"] = 'youtube'"
   ]
  },
  {
   "cell_type": "code",
   "execution_count": 83,
   "metadata": {},
   "outputs": [],
   "source": [
    "standard_categories = [\n",
    "    \"organic-search_result\",\n",
    "    \"organic\",\n",
    "    \"ads\",\n",
    "    \"amp-card\",\n",
    "    \"amp-visual_stories\",\n",
    "    \"google-images\",\n",
    "    \"youtube\",\n",
    "    \"google-maps\",\n",
    "    'google-answer',\n",
    "    \"google-search\",\n",
    "    \"google-expandable-answer\",\n",
    "]"
   ]
  },
  {
   "cell_type": "code",
   "execution_count": 85,
   "metadata": {},
   "outputs": [
    {
     "data": {
      "text/plain": [
       "google-search                   287491\n",
       "google-answer                   126432\n",
       "organic                         116455\n",
       "google-misc                     111118\n",
       "organic-search_result           106591\n",
       "google-images                   104599\n",
       "google-expandable-answer        102004\n",
       "youtube                          80144\n",
       "google-knowledge-panel-links     58940\n",
       "amp-card                         56022\n",
       "amp-search_result                24518\n",
       "ads                               4566\n",
       "google-maps                       1942\n",
       "google-video                      1090\n",
       "amp-visual_stories                 885\n",
       "Name: category_standard, dtype: int64"
      ]
     },
     "execution_count": 85,
     "metadata": {},
     "output_type": "execute_result"
    }
   ],
   "source": [
    "df.category_standard.value_counts()"
   ]
  },
  {
   "cell_type": "code",
   "execution_count": 86,
   "metadata": {},
   "outputs": [],
   "source": [
    "dist = {k : [] for k in standard_categories}\n",
    "for site, _df in df[df.area_page != 0].groupby('fn_input'):\n",
    "    for cat in standard_categories:\n",
    "        __df = _df[_df.category_standard == cat]\n",
    "        if not __df.empty:\n",
    "            y_min = __df.y_dist.min()\n",
    "            dist[cat].append(y_min)"
   ]
  },
  {
   "cell_type": "code",
   "execution_count": 87,
   "metadata": {},
   "outputs": [
    {
     "name": "stdout",
     "output_type": "stream",
     "text": [
      "organic-search_result\n",
      "15261\n",
      "organic\n",
      "14500\n",
      "ads\n",
      "1452\n",
      "amp-card\n",
      "9314\n",
      "amp-visual_stories\n",
      "842\n",
      "google-images\n",
      "13101\n",
      "youtube\n",
      "9624\n",
      "google-maps\n",
      "1444\n",
      "google-answer\n",
      "14336\n",
      "google-search\n",
      "15266\n",
      "google-expandable-answer\n",
      "13702\n"
     ]
    }
   ],
   "source": [
    "for k, v in dist.items():\n",
    "    print(k)\n",
    "    print(len([_ for _ in v if _]))"
   ]
  },
  {
   "cell_type": "code",
   "execution_count": 119,
   "metadata": {},
   "outputs": [
    {
     "data": {
      "text/plain": [
       "1004.25"
      ]
     },
     "execution_count": 119,
     "metadata": {},
     "output_type": "execute_result"
    }
   ],
   "source": [
    "dato.describe()['25%']"
   ]
  },
  {
   "cell_type": "code",
   "execution_count": 122,
   "metadata": {},
   "outputs": [],
   "source": [
    "data = []\n",
    "for cat, v in dist.items():\n",
    "    dato = pd.DataFrame({'dist_y' : v}).dist_y\n",
    "    mean = dato.mean()\n",
    "    median = dato.median()\n",
    "    err = dato.sem()\n",
    "    std = dato.std()\n",
    "    data.append({\n",
    "        'category' : cat,\n",
    "        'dist' : mean,\n",
    "        'dist_median' : median,\n",
    "        'min' : dato.describe()['min'],\n",
    "        '25' : dato.describe()['25%'],\n",
    "        '50' : dato.describe()['50%'],\n",
    "        '75' : dato.describe()['75%'],\n",
    "        'max' : dato.describe()['max'],\n",
    "        'std' : std,\n",
    "        'sem_error' : err,\n",
    "        'n' : len(v)\n",
    "    })\n",
    "df_dist = pd.DataFrame(data)\n",
    "del data"
   ]
  },
  {
   "cell_type": "code",
   "execution_count": 131,
   "metadata": {},
   "outputs": [],
   "source": [
    "df_dist = df_dist[df_dist['category'] != 'organic]'].sort_values(by='dist')#.to_csv('are_these_outliers.csv', index=False)"
   ]
  },
  {
   "cell_type": "code",
   "execution_count": null,
   "metadata": {},
   "outputs": [],
   "source": []
  },
  {
   "cell_type": "code",
   "execution_count": 135,
   "metadata": {},
   "outputs": [
    {
     "data": {
      "text/html": [
       "<div>\n",
       "<style scoped>\n",
       "    .dataframe tbody tr th:only-of-type {\n",
       "        vertical-align: middle;\n",
       "    }\n",
       "\n",
       "    .dataframe tbody tr th {\n",
       "        vertical-align: top;\n",
       "    }\n",
       "\n",
       "    .dataframe thead th {\n",
       "        text-align: right;\n",
       "    }\n",
       "</style>\n",
       "<table border=\"1\" class=\"dataframe\">\n",
       "  <thead>\n",
       "    <tr style=\"text-align: right;\">\n",
       "      <th></th>\n",
       "      <th>category</th>\n",
       "      <th>dist</th>\n",
       "      <th>dist_median</th>\n",
       "      <th>min</th>\n",
       "      <th>25</th>\n",
       "      <th>50</th>\n",
       "      <th>75</th>\n",
       "      <th>max</th>\n",
       "      <th>std</th>\n",
       "      <th>sem_error</th>\n",
       "      <th>n</th>\n",
       "    </tr>\n",
       "  </thead>\n",
       "  <tbody>\n",
       "    <tr>\n",
       "      <th>0</th>\n",
       "      <td>ads</td>\n",
       "      <td>593.873278</td>\n",
       "      <td>166.0</td>\n",
       "      <td>166.0</td>\n",
       "      <td>166.00</td>\n",
       "      <td>166.0</td>\n",
       "      <td>185.00</td>\n",
       "      <td>8190.0</td>\n",
       "      <td>1159.411776</td>\n",
       "      <td>30.426668</td>\n",
       "      <td>1452</td>\n",
       "    </tr>\n",
       "    <tr>\n",
       "      <th>1</th>\n",
       "      <td>google-images</td>\n",
       "      <td>676.225250</td>\n",
       "      <td>355.0</td>\n",
       "      <td>148.0</td>\n",
       "      <td>287.00</td>\n",
       "      <td>355.0</td>\n",
       "      <td>944.00</td>\n",
       "      <td>5995.0</td>\n",
       "      <td>631.584432</td>\n",
       "      <td>5.517968</td>\n",
       "      <td>13101</td>\n",
       "    </tr>\n",
       "    <tr>\n",
       "      <th>2</th>\n",
       "      <td>organic</td>\n",
       "      <td>823.689172</td>\n",
       "      <td>616.0</td>\n",
       "      <td>166.0</td>\n",
       "      <td>518.00</td>\n",
       "      <td>616.0</td>\n",
       "      <td>1002.25</td>\n",
       "      <td>5120.0</td>\n",
       "      <td>546.820352</td>\n",
       "      <td>4.541096</td>\n",
       "      <td>14500</td>\n",
       "    </tr>\n",
       "    <tr>\n",
       "      <th>3</th>\n",
       "      <td>google-answer</td>\n",
       "      <td>846.192732</td>\n",
       "      <td>565.5</td>\n",
       "      <td>166.0</td>\n",
       "      <td>426.00</td>\n",
       "      <td>565.5</td>\n",
       "      <td>1129.00</td>\n",
       "      <td>5391.0</td>\n",
       "      <td>635.682588</td>\n",
       "      <td>5.309166</td>\n",
       "      <td>14336</td>\n",
       "    </tr>\n",
       "    <tr>\n",
       "      <th>4</th>\n",
       "      <td>google-maps</td>\n",
       "      <td>973.165512</td>\n",
       "      <td>649.5</td>\n",
       "      <td>166.0</td>\n",
       "      <td>230.00</td>\n",
       "      <td>649.5</td>\n",
       "      <td>1391.25</td>\n",
       "      <td>4997.0</td>\n",
       "      <td>936.144433</td>\n",
       "      <td>24.635380</td>\n",
       "      <td>1444</td>\n",
       "    </tr>\n",
       "    <tr>\n",
       "      <th>5</th>\n",
       "      <td>amp-visual_stories</td>\n",
       "      <td>1189.165083</td>\n",
       "      <td>1092.0</td>\n",
       "      <td>399.0</td>\n",
       "      <td>689.00</td>\n",
       "      <td>1092.0</td>\n",
       "      <td>1624.50</td>\n",
       "      <td>4085.0</td>\n",
       "      <td>527.568005</td>\n",
       "      <td>18.181194</td>\n",
       "      <td>842</td>\n",
       "    </tr>\n",
       "    <tr>\n",
       "      <th>6</th>\n",
       "      <td>organic-search_result</td>\n",
       "      <td>1400.407575</td>\n",
       "      <td>1343.0</td>\n",
       "      <td>166.0</td>\n",
       "      <td>873.00</td>\n",
       "      <td>1343.0</td>\n",
       "      <td>1939.00</td>\n",
       "      <td>4944.0</td>\n",
       "      <td>765.712552</td>\n",
       "      <td>6.198324</td>\n",
       "      <td>15261</td>\n",
       "    </tr>\n",
       "    <tr>\n",
       "      <th>7</th>\n",
       "      <td>google-search</td>\n",
       "      <td>1654.120726</td>\n",
       "      <td>1416.0</td>\n",
       "      <td>159.0</td>\n",
       "      <td>917.00</td>\n",
       "      <td>1416.0</td>\n",
       "      <td>2201.00</td>\n",
       "      <td>6560.0</td>\n",
       "      <td>1085.801620</td>\n",
       "      <td>8.787956</td>\n",
       "      <td>15266</td>\n",
       "    </tr>\n",
       "    <tr>\n",
       "      <th>8</th>\n",
       "      <td>amp-card</td>\n",
       "      <td>1723.634636</td>\n",
       "      <td>1669.5</td>\n",
       "      <td>166.0</td>\n",
       "      <td>545.25</td>\n",
       "      <td>1669.5</td>\n",
       "      <td>2575.75</td>\n",
       "      <td>6616.0</td>\n",
       "      <td>1117.770257</td>\n",
       "      <td>11.582023</td>\n",
       "      <td>9314</td>\n",
       "    </tr>\n",
       "    <tr>\n",
       "      <th>9</th>\n",
       "      <td>youtube</td>\n",
       "      <td>2136.228699</td>\n",
       "      <td>2209.0</td>\n",
       "      <td>166.0</td>\n",
       "      <td>1137.75</td>\n",
       "      <td>2209.0</td>\n",
       "      <td>3017.25</td>\n",
       "      <td>5846.0</td>\n",
       "      <td>1113.115299</td>\n",
       "      <td>11.346511</td>\n",
       "      <td>9624</td>\n",
       "    </tr>\n",
       "    <tr>\n",
       "      <th>10</th>\n",
       "      <td>google-expandable-answer</td>\n",
       "      <td>2214.542184</td>\n",
       "      <td>2032.0</td>\n",
       "      <td>210.0</td>\n",
       "      <td>1004.25</td>\n",
       "      <td>2032.0</td>\n",
       "      <td>3166.75</td>\n",
       "      <td>7537.0</td>\n",
       "      <td>1377.714779</td>\n",
       "      <td>11.769753</td>\n",
       "      <td>13702</td>\n",
       "    </tr>\n",
       "  </tbody>\n",
       "</table>\n",
       "</div>"
      ],
      "text/plain": [
       "                    category         dist  dist_median    min       25  \\\n",
       "0                        ads   593.873278        166.0  166.0   166.00   \n",
       "1              google-images   676.225250        355.0  148.0   287.00   \n",
       "2                    organic   823.689172        616.0  166.0   518.00   \n",
       "3              google-answer   846.192732        565.5  166.0   426.00   \n",
       "4                google-maps   973.165512        649.5  166.0   230.00   \n",
       "5         amp-visual_stories  1189.165083       1092.0  399.0   689.00   \n",
       "6      organic-search_result  1400.407575       1343.0  166.0   873.00   \n",
       "7              google-search  1654.120726       1416.0  159.0   917.00   \n",
       "8                   amp-card  1723.634636       1669.5  166.0   545.25   \n",
       "9                    youtube  2136.228699       2209.0  166.0  1137.75   \n",
       "10  google-expandable-answer  2214.542184       2032.0  210.0  1004.25   \n",
       "\n",
       "        50       75     max          std  sem_error      n  \n",
       "0    166.0   185.00  8190.0  1159.411776  30.426668   1452  \n",
       "1    355.0   944.00  5995.0   631.584432   5.517968  13101  \n",
       "2    616.0  1002.25  5120.0   546.820352   4.541096  14500  \n",
       "3    565.5  1129.00  5391.0   635.682588   5.309166  14336  \n",
       "4    649.5  1391.25  4997.0   936.144433  24.635380   1444  \n",
       "5   1092.0  1624.50  4085.0   527.568005  18.181194    842  \n",
       "6   1343.0  1939.00  4944.0   765.712552   6.198324  15261  \n",
       "7   1416.0  2201.00  6560.0  1085.801620   8.787956  15266  \n",
       "8   1669.5  2575.75  6616.0  1117.770257  11.582023   9314  \n",
       "9   2209.0  3017.25  5846.0  1113.115299  11.346511   9624  \n",
       "10  2032.0  3166.75  7537.0  1377.714779  11.769753  13702  "
      ]
     },
     "execution_count": 135,
     "metadata": {},
     "output_type": "execute_result"
    }
   ],
   "source": [
    "data"
   ]
  },
  {
   "cell_type": "code",
   "execution_count": 136,
   "metadata": {},
   "outputs": [
    {
     "data": {
      "image/png": "[encoded data removed]",
      "text/plain": [
       "<Figure size 432x864 with 1 Axes>"
      ]
     },
     "metadata": {
      "needs_background": "light"
     },
     "output_type": "display_data"
    }
   ],
   "source": [
    "fig, ax = plt.subplots(figsize=(6, 12))\n",
    "data = df_dist\n",
    "col = 'dist'\n",
    "plt.errorbar(data.category, col, yerr='sem_error', \n",
    "             ecolor='grey', color='black',\n",
    "             data=data, fmt='o')\n",
    "plt.gca().invert_yaxis()\n",
    "plt.axhline(y=812, color='black', linestyle='--', alpha=.4)\n",
    "plt.annotate('Above the fold', (7, 800))\n",
    "\n",
    "\n",
    "plt.xticks(rotation=90)\n",
    "\n",
    "for i, (_, row) in enumerate(data.iterrows()):\n",
    "#     txt = f\"{row['category']} (N={row['n']:,})\"\n",
    "    txt = row['category']\n",
    "    y = row[col] - 2\n",
    "    x = (1 * i) + .15\n",
    "    if txt == 'google-expandable_answer':\n",
    "        x = (1 * i) - 2\n",
    "    plt.annotate(txt, (x, y))\n",
    "    \n",
    "ax.set_ylabel(\"Pixels before first instance of element\")\n",
    "plt.title('Average distance down page before first instance')\n",
    "ax.set_axisbelow(True)\n",
    "# plt.gca().yaxis.grid(True)\n",
    "\n",
    "# Hide the right and top spines\n",
    "ax.spines['right'].set_visible(False)\n",
    "ax.spines['top'].set_visible(False)\n",
    "\n",
    "# Only show ticks on the left and bottom spines\n",
    "ax.yaxis.set_ticks_position('left')\n",
    "ax.xaxis.set_ticks_position('bottom')\n",
    "\n",
    "ax.xaxis.set_visible(False)\n",
    "plt.savefig('../data/output/figures/distance.png')\n",
    "del data;"
   ]
  },
  {
   "cell_type": "markdown",
   "metadata": {},
   "source": [
    "## How many Blue Links are in a page?"
   ]
  },
  {
   "cell_type": "code",
   "execution_count": 57,
   "metadata": {},
   "outputs": [],
   "source": [
    "blue_links = []\n",
    "for search, _df in df[df.area_page != 0].groupby('fn_input'):\n",
    "    n_blue = len(_df[_df['category_standard'] == 'organic-search_result'])\n",
    "\n",
    "    blue_links.append({\n",
    "        'fn_input' : search,\n",
    "        'n_blue_links' : n_blue\n",
    "        \n",
    "    })\n",
    "df_bl = pd.DataFrame(blue_links)"
   ]
  },
  {
   "cell_type": "code",
   "execution_count": 58,
   "metadata": {},
   "outputs": [
    {
     "data": {
      "text/plain": [
       "6.981333507990568"
      ]
     },
     "execution_count": 58,
     "metadata": {},
     "output_type": "execute_result"
    }
   ],
   "source": [
    "df_bl.n_blue_links.mean()"
   ]
  },
  {
   "cell_type": "code",
   "execution_count": 60,
   "metadata": {},
   "outputs": [
    {
     "data": {
      "text/plain": [
       "0.015463731748338518"
      ]
     },
     "execution_count": 60,
     "metadata": {},
     "output_type": "execute_result"
    }
   ],
   "source": [
    "df_bl.n_blue_links.sem()"
   ]
  },
  {
   "cell_type": "code",
   "execution_count": 64,
   "metadata": {},
   "outputs": [
    {
     "data": {
      "text/html": [
       "<div>\n",
       "<style scoped>\n",
       "    .dataframe tbody tr th:only-of-type {\n",
       "        vertical-align: middle;\n",
       "    }\n",
       "\n",
       "    .dataframe tbody tr th {\n",
       "        vertical-align: top;\n",
       "    }\n",
       "\n",
       "    .dataframe thead th {\n",
       "        text-align: right;\n",
       "    }\n",
       "</style>\n",
       "<table border=\"1\" class=\"dataframe\">\n",
       "  <thead>\n",
       "    <tr style=\"text-align: right;\">\n",
       "      <th></th>\n",
       "      <th>n_blue_links</th>\n",
       "    </tr>\n",
       "  </thead>\n",
       "  <tbody>\n",
       "    <tr>\n",
       "      <th>count</th>\n",
       "      <td>15268.000000</td>\n",
       "    </tr>\n",
       "    <tr>\n",
       "      <th>mean</th>\n",
       "      <td>6.981334</td>\n",
       "    </tr>\n",
       "    <tr>\n",
       "      <th>std</th>\n",
       "      <td>1.910757</td>\n",
       "    </tr>\n",
       "    <tr>\n",
       "      <th>min</th>\n",
       "      <td>0.000000</td>\n",
       "    </tr>\n",
       "    <tr>\n",
       "      <th>25%</th>\n",
       "      <td>6.000000</td>\n",
       "    </tr>\n",
       "    <tr>\n",
       "      <th>50%</th>\n",
       "      <td>7.000000</td>\n",
       "    </tr>\n",
       "    <tr>\n",
       "      <th>75%</th>\n",
       "      <td>8.000000</td>\n",
       "    </tr>\n",
       "    <tr>\n",
       "      <th>max</th>\n",
       "      <td>12.000000</td>\n",
       "    </tr>\n",
       "  </tbody>\n",
       "</table>\n",
       "</div>"
      ],
      "text/plain": [
       "       n_blue_links\n",
       "count  15268.000000\n",
       "mean       6.981334\n",
       "std        1.910757\n",
       "min        0.000000\n",
       "25%        6.000000\n",
       "50%        7.000000\n",
       "75%        8.000000\n",
       "max       12.000000"
      ]
     },
     "execution_count": 64,
     "metadata": {},
     "output_type": "execute_result"
    }
   ],
   "source": [
    "df_bl.describe()"
   ]
  },
  {
   "cell_type": "code",
   "execution_count": 63,
   "metadata": {},
   "outputs": [
    {
     "data": {
      "text/plain": [
       "['../data/input/google_search/iPhone-X/2019/11/07/ENGIE/html/webpage_raw.html',\n",
       " '../data/input/google_search/iPhone-X/2019/12/06/Naval-Air-Station-Pensacola/html/webpage_raw.html',\n",
       " '../data/input/google_search/iPhone-X/2019/12/09/Google-Sheets/html/webpage_raw.html',\n",
       " '../data/input/google_search/iPhone-X/2019/12/25/Guelph/html/webpage_raw.html',\n",
       " '../data/input/google_search/iPhone-X/2019/12/26/Game-of-Thrones/html/webpage_raw.html',\n",
       " '../data/input/google_search/iPhone-X/2020/01/01/Hiro-Mashima/html/webpage_raw.html',\n",
       " '../data/input/google_search/iPhone-X/2020/01/02/Nick-Gordon/html/webpage_raw.html']"
      ]
     },
     "execution_count": 63,
     "metadata": {},
     "output_type": "execute_result"
    }
   ],
   "source": [
    "df_bl[df_bl.n_blue_links == 0].fn_input.tolist()"
   ]
  },
  {
   "cell_type": "markdown",
   "metadata": {},
   "source": [
    "# AMP\n",
    "How many sites are using AMP compared to how many sites we have?"
   ]
  },
  {
   "cell_type": "code",
   "execution_count": null,
   "metadata": {},
   "outputs": [],
   "source": [
    "from urlexpander import get_domain\n",
    "\n",
    "n_domains_amp = (df[df.label == 'amp']\n",
    "                    .link.apply(get_domain)\n",
    "                    .nunique())"
   ]
  },
  {
   "cell_type": "code",
   "execution_count": null,
   "metadata": {},
   "outputs": [],
   "source": [
    "n_domains_og = df[df.label == 'organic'].domain.nunique()"
   ]
  },
  {
   "cell_type": "code",
   "execution_count": null,
   "metadata": {},
   "outputs": [],
   "source": [
    "n_domains_amp / (n_domains_amp + n_domains_og)"
   ]
  },
  {
   "cell_type": "code",
   "execution_count": null,
   "metadata": {},
   "outputs": [],
   "source": [
    "(df[df.label == 'amp']\n",
    "    .link.apply(get_domain)\n",
    "    .value_counts()\n",
    "    .head(10))"
   ]
  },
  {
   "cell_type": "code",
   "execution_count": null,
   "metadata": {},
   "outputs": [],
   "source": [
    "(df[(df.label == 'amp') &\n",
    "    (df.area != 0)]\n",
    "    .link.astype(str).apply(get_domain)\n",
    "    .value_counts()\n",
    "    .head(10))"
   ]
  },
  {
   "cell_type": "markdown",
   "metadata": {},
   "source": [
    "## Organic\n",
    "How far do you have to go to get an organic link?"
   ]
  },
  {
   "cell_type": "code",
   "execution_count": null,
   "metadata": {},
   "outputs": [],
   "source": [
    "blue_link_count = Counter()\n",
    "for site, _df in tqdm(df[df.area_page != 0].groupby('fn_input')):\n",
    "    blue_link_count.update([len(_df[_df.label == 'organic'])])"
   ]
  },
  {
   "cell_type": "code",
   "execution_count": null,
   "metadata": {},
   "outputs": [],
   "source": [
    "blue_link_count.most_common()"
   ]
  },
  {
   "cell_type": "code",
   "execution_count": null,
   "metadata": {},
   "outputs": [],
   "source": [
    "df[df.label == 'organic'].category.value_counts()"
   ]
  },
  {
   "cell_type": "code",
   "execution_count": 72,
   "metadata": {},
   "outputs": [],
   "source": [
    "df.loc[:, 'y_dist'] = df.location.apply(lambda x: x['y'])"
   ]
  },
  {
   "cell_type": "code",
   "execution_count": null,
   "metadata": {},
   "outputs": [],
   "source": [
    "dist = {}\n",
    "for site, _df in tqdm(df[df.area_page != 0].groupby('fn_input')):\n",
    "    y_min = _df[_df.category == 'organic-search_result'].y_dist.min()\n",
    "    if y_min:\n",
    "        dist[site] = y_min\n",
    "        \n",
    "df_dist = pd.DataFrame([{'page' : k, 'y_dist' : v} for k,v in dist.items()])\n",
    "t_student_confidence_interval(df_dist.y_dist,\n",
    "                              scale=1)"
   ]
  },
  {
   "cell_type": "code",
   "execution_count": null,
   "metadata": {},
   "outputs": [],
   "source": [
    "df_dist = df_dist[~df_dist.y_dist.isnull()]"
   ]
  },
  {
   "cell_type": "code",
   "execution_count": null,
   "metadata": {},
   "outputs": [],
   "source": [
    "ax = df_dist.groupby(pd.cut(df_dist.y_dist.clip(0, 3000), 40)).size().iloc[::-1].plot(\n",
    "    kind='barh',\n",
    "    figsize=(10, 10),\n",
    "    color='black',\n",
    "    alpha=.9,\n",
    "    title='Pixels until first organic search result')\n",
    "\n",
    "\n",
    "ax.set_axisbelow(True)\n",
    "plt.gca().yaxis.grid(True)\n",
    "\n",
    "# Hide the right and top spines\n",
    "ax.spines['right'].set_visible(False)\n",
    "ax.spines['top'].set_visible(False)\n",
    "\n",
    "# Only show ticks on the left and bottom spines\n",
    "ax.yaxis.set_ticks_position('left')\n",
    "ax.xaxis.set_ticks_position('bottom');"
   ]
  },
  {
   "cell_type": "code",
   "execution_count": null,
   "metadata": {},
   "outputs": [],
   "source": [
    "result = df_dist.y_dist.value_counts().reset_index()\n",
    "result.columns = ['y_dist', 'count']\n",
    "# result['y_dist'] = result['y_dist'].clip(0, 1000)"
   ]
  },
  {
   "cell_type": "markdown",
   "metadata": {},
   "source": [
    "What percentages of pages have first organic link past the first glance?"
   ]
  },
  {
   "cell_type": "markdown",
   "metadata": {},
   "source": [
    "What percentages of pages have first organic link past the first glance"
   ]
  },
  {
   "cell_type": "code",
   "execution_count": null,
   "metadata": {},
   "outputs": [],
   "source": [
    "df_dist[df_dist['y_dist'] > 812].page.nunique() / df.fn_input.nunique()"
   ]
  },
  {
   "cell_type": "markdown",
   "metadata": {},
   "source": [
    "Average distance before first organic link"
   ]
  },
  {
   "cell_type": "code",
   "execution_count": null,
   "metadata": {},
   "outputs": [],
   "source": [
    "t_student_confidence_interval(df_dist.y_dist,\n",
    "                              scale=1)"
   ]
  },
  {
   "cell_type": "code",
   "execution_count": null,
   "metadata": {},
   "outputs": [],
   "source": [
    "dist = {}\n",
    "for site, _df in tqdm(df[df.area_page != 0].groupby('fn_input')):\n",
    "    y_min = _df[_df.label == 'organic'].y_dist.min()\n",
    "    if y_min:\n",
    "        dist[site] = y_min\n",
    "        \n",
    "df_dist = pd.DataFrame([{'page' : k, 'y_dist' : v} for k,v in dist.items()])\n",
    "t_student_confidence_interval(df_dist.y_dist,\n",
    "                              scale=1)"
   ]
  },
  {
   "cell_type": "code",
   "execution_count": null,
   "metadata": {},
   "outputs": [],
   "source": [
    "df_dist[df_dist['y_dist'] > 812].page.nunique() / df.fn_input.nunique()"
   ]
  },
  {
   "cell_type": "code",
   "execution_count": null,
   "metadata": {},
   "outputs": [],
   "source": [
    "organic_down_under = df_dist[df_dist.y_dist > 2500].page"
   ]
  },
  {
   "cell_type": "code",
   "execution_count": null,
   "metadata": {},
   "outputs": [],
   "source": [
    "sample = df[(df.fn_input.isin(organic_down_under))\n",
    "          & (df.category == 'organic-search_result')]"
   ]
  },
  {
   "cell_type": "code",
   "execution_count": null,
   "metadata": {},
   "outputs": [],
   "source": [
    "cols = [\n",
    "    'link',\n",
    "    'domain',\n",
    "    'fn_input',\n",
    "    'y_dist'\n",
    "]"
   ]
  },
  {
   "cell_type": "code",
   "execution_count": null,
   "metadata": {},
   "outputs": [],
   "source": [
    "sample = sample[cols].sort_values(by='y_dist').drop_duplicates(subset=['fn_input'])"
   ]
  },
  {
   "cell_type": "code",
   "execution_count": null,
   "metadata": {},
   "outputs": [],
   "source": [
    "sample['search terms'] = sample.fn_input.apply(lambda x: x.split('/')[-3].replace('-', ' '))"
   ]
  },
  {
   "cell_type": "code",
   "execution_count": null,
   "metadata": {},
   "outputs": [],
   "source": [
    "sample.to_csv('organic_down_under.csv', index=False)"
   ]
  },
  {
   "cell_type": "code",
   "execution_count": null,
   "metadata": {},
   "outputs": [],
   "source": [
    "org = Counter()"
   ]
  },
  {
   "cell_type": "code",
   "execution_count": null,
   "metadata": {},
   "outputs": [],
   "source": [
    "for page, _df in sample.groupby('fn_input'):\n",
    "    _df.sort_values('y_dist', inplace=True)\n",
    "    org.update([_df.iloc[0].domain])"
   ]
  },
  {
   "cell_type": "code",
   "execution_count": null,
   "metadata": {},
   "outputs": [],
   "source": [
    "org.most_common(40)"
   ]
  },
  {
   "cell_type": "code",
   "execution_count": null,
   "metadata": {},
   "outputs": [],
   "source": [
    "df[df['category'] == 'organic-search_result'].domain.value_counts().head(20)"
   ]
  },
  {
   "cell_type": "code",
   "execution_count": null,
   "metadata": {},
   "outputs": [],
   "source": [
    "df[df['category'] == 'organic'].domain.value_counts().head(20)"
   ]
  },
  {
   "cell_type": "code",
   "execution_count": null,
   "metadata": {},
   "outputs": [],
   "source": [
    "len(df[df['category'] == 'link-youtube'])"
   ]
  },
  {
   "cell_type": "code",
   "execution_count": null,
   "metadata": {},
   "outputs": [],
   "source": [
    "df[df['category'] == 'link-youtube'].fn_input.nunique() / df.fn_input.nunique()"
   ]
  },
  {
   "cell_type": "code",
   "execution_count": null,
   "metadata": {},
   "outputs": [],
   "source": [
    "len(df[df['category'] == 'link-youtube']) / df[df['category'] == 'link-youtube'].fn_input.nunique()"
   ]
  },
  {
   "cell_type": "code",
   "execution_count": null,
   "metadata": {},
   "outputs": [],
   "source": [
    "other_videos = [\n",
    "    'dailymotion.com',\n",
    "    'vimeo.com',\n",
    "    'joyofbaking.com'\n",
    "]"
   ]
  }
 ],
 "metadata": {
  "kernelspec": {
   "display_name": "Python 3",
   "language": "python",
   "name": "python3"
  },
  "language_info": {
   "codemirror_mode": {
    "name": "ipython",
    "version": 3
   },
   "file_extension": ".py",
   "mimetype": "text/x-python",
   "name": "python",
   "nbconvert_exporter": "python",
   "pygments_lexer": "ipython3",
   "version": "3.8.1"
  }
 },
 "nbformat": 4,
 "nbformat_minor": 4
}
