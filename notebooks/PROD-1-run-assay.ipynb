{
 "cells": [
  {
   "cell_type": "markdown",
   "metadata": {},
   "source": [
    "# Data Parsing\n",
    "This notebooks uses the WebAssay to parse HTML pages of mobile Google searches.\n",
    "The parsed webpage is saved as a new-line delimited JSON file in the `data_dir_out`,"
   ]
  },
  {
   "cell_type": "code",
   "execution_count": 1,
   "metadata": {},
   "outputs": [],
   "source": [
    "%load_ext autoreload\n",
    "%autoreload 2"
   ]
  },
  {
   "cell_type": "code",
   "execution_count": 2,
   "metadata": {},
   "outputs": [],
   "source": [
    "import os\n",
    "import sys\n",
    "import time\n",
    "import glob\n",
    "import inspect\n",
    "import random\n",
    "\n",
    "import pandas as pd\n",
    "from tqdm import tqdm\n",
    "\n",
    "sys.path.append('..')\n",
    "import utils.parsers as P\n",
    "from utils.config import cat2color, window_size, user_agent\n",
    "from utils.web_assay import GoogleWebAssay, paint_abstract_representation"
   ]
  },
  {
   "cell_type": "code",
   "execution_count": 5,
   "metadata": {},
   "outputs": [],
   "source": [
    "# inputs\n",
    "data_dir_in  = '../data/input/google_search/'\n",
    "\n",
    "# outputs\n",
    "data_dir_out = '../data/intermediary/google_search/'\n",
    "fn_errors = '../data/intermediary/assay_errors.csv'"
   ]
  },
  {
   "cell_type": "code",
   "execution_count": 3,
   "metadata": {},
   "outputs": [
    {
     "data": {
      "text/plain": [
       "67"
      ]
     },
     "execution_count": 3,
     "metadata": {},
     "output_type": "execute_result"
    }
   ],
   "source": [
    "# this imports each parser function into a list.\n",
    "parser_functions = [\n",
    "    o[1] for o in inspect.getmembers(P)\n",
    "    if inspect.isfunction(o[1]) and\n",
    "    '_parser' in o[0]\n",
    "]\n",
    "len(parser_functions)"
   ]
  },
  {
   "cell_type": "code",
   "execution_count": 4,
   "metadata": {},
   "outputs": [],
   "source": [
    "# initalize the Web Assay\n",
    "assay = GoogleWebAssay(user_agent = user_agent,\n",
    "                       window_size = window_size,\n",
    "                       parser_functions = parser_functions,\n",
    "                       color_palette = cat2color,\n",
    "                       headless = True)"
   ]
  },
  {
   "cell_type": "code",
   "execution_count": 6,
   "metadata": {},
   "outputs": [
    {
     "data": {
      "text/plain": [
       "16808"
      ]
     },
     "execution_count": 6,
     "metadata": {},
     "output_type": "execute_result"
    }
   ],
   "source": [
    "# What files do we want to run through the assay?\n",
    "files_input = glob.glob(os.path.join(\n",
    "    data_dir_in, 'iPhone-X/*/*/*/*/html/webpage_raw.html'))\n",
    "len(files_input)"
   ]
  },
  {
   "cell_type": "code",
   "execution_count": 7,
   "metadata": {},
   "outputs": [
    {
     "data": {
      "text/plain": [
       "16808"
      ]
     },
     "execution_count": 7,
     "metadata": {},
     "output_type": "execute_result"
    }
   ],
   "source": [
    "# Filter out error files from past runs.\n",
    "if os.path.exists(fn_errors):\n",
    "    errors = pd.read_csv(fn_errors)\n",
    "    files_input = [f for f in files_input if f not in errors.fn.tolist()]\n",
    "len(files_input)"
   ]
  },
  {
   "cell_type": "code",
   "execution_count": 8,
   "metadata": {},
   "outputs": [],
   "source": [
    "random.seed(303)\n",
    "random.shuffle(files_input)"
   ]
  },
  {
   "cell_type": "markdown",
   "metadata": {},
   "source": [
    "This is a handy function to use when you want to output a bunch of files:"
   ]
  },
  {
   "cell_type": "code",
   "execution_count": 9,
   "metadata": {},
   "outputs": [],
   "source": [
    "def get_context(fn):\n",
    "    '''\n",
    "    Get file paths for output files\n",
    "    '''\n",
    "    fn_metadata = fn.replace(data_dir_in, data_dir_out) \\\n",
    "                    .replace('.html', '.ndjson') \\\n",
    "                    .replace('webpage_raw', 'parsed_meta') \\\n",
    "                    .replace('html/', 'json/')\n",
    "    \n",
    "    fn_stained_html = fn.replace(data_dir_in, data_dir_out) \\\n",
    "                        .replace('webpage_raw', 'webpage_stained')\n",
    "    \n",
    "    fn_screenshot = fn.replace(data_dir_in, data_dir_out) \\\n",
    "                      .replace('.html', '.png') \\\n",
    "                      .replace('webpage_raw', 'screenshot') \\\n",
    "                      .replace('html/', 'png/')\n",
    "    \n",
    "    fn_abstract_img = fn_screenshot.replace('screenshot', \n",
    "                                            'abstract_painting')\n",
    "    \n",
    "    return fn_metadata, fn_stained_html, fn_screenshot, fn_abstract_img"
   ]
  },
  {
   "cell_type": "markdown",
   "metadata": {},
   "source": [
    "We know exactly where things are going to live:"
   ]
  },
  {
   "cell_type": "code",
   "execution_count": 10,
   "metadata": {},
   "outputs": [
    {
     "data": {
      "text/plain": [
       "('../data/intermediary/google_search/iPhone-X/2019/11/30/Water-pollution/json/parsed_meta.ndjson',\n",
       " '../data/intermediary/google_search/iPhone-X/2019/11/30/Water-pollution/html/webpage_stained.html',\n",
       " '../data/intermediary/google_search/iPhone-X/2019/11/30/Water-pollution/png/screenshot.png',\n",
       " '../data/intermediary/google_search/iPhone-X/2019/11/30/Water-pollution/png/abstract_painting.png')"
      ]
     },
     "execution_count": 10,
     "metadata": {},
     "output_type": "execute_result"
    }
   ],
   "source": [
    "get_context(files_input[0])"
   ]
  },
  {
   "cell_type": "markdown",
   "metadata": {},
   "source": [
    "Now we will process each file. "
   ]
  },
  {
   "cell_type": "code",
   "execution_count": null,
   "metadata": {
    "collapsed": true,
    "jupyter": {
     "outputs_hidden": true
    }
   },
   "outputs": [],
   "source": [
    "for fn in tqdm(files_input):\n",
    "    fn_metadata, _, fn_screenshot, fn_abstract_img = get_context(fn)\n",
    "    if os.path.exists(fn_abstract_img):\n",
    "        continue\n",
    "    for output in [fn_metadata, _, fn_screenshot]:\n",
    "        _dir = os.path.dirname(output)\n",
    "        os.makedirs(_dir, exist_ok=True)\n",
    "    \n",
    "    # If the file has not been processed, open it in the webassay emulator.\n",
    "    assay.open_local_html(fn)\n",
    "    \n",
    "    # full-page screenshots scroll to the bottom\n",
    "    assay.screenshot_full(fn_screenshot)\n",
    "    assay.driver.execute_script(\"window.scrollTo(0, 0);\")\n",
    "    time.sleep(.2)\n",
    "    \n",
    "    # this is when the HTML is parsed.\n",
    "    assay.run(fn, fn_metadata=fn_metadata, stain=False)\n",
    "    if assay.element_metadata.empty:\n",
    "        continue\n",
    "    os.environ[\"DISPLAY\"] = \":1\"\n",
    "    \n",
    "    # These functions are for error analysis and sanity checks.\n",
    "    # paint on screenshot\n",
    "    paint_abstract_representation(fn_metadata=fn_metadata,\n",
    "                                  fn_out=fn_abstract_img.replace('.png', '_img.png'),\n",
    "                                  fn_img=fn_screenshot)\n",
    "    \n",
    "    # get abstract representation\n",
    "    paint_abstract_representation(fn_metadata=fn_metadata,\n",
    "                                  fn_out=fn_abstract_img)\n"
   ]
  },
  {
   "cell_type": "code",
   "execution_count": null,
   "metadata": {},
   "outputs": [],
   "source": [
    "# record error files.\n",
    "if os.path.exists(fn_errors):\n",
    "    errors = pd.read_csv(fn_errors)\n",
    "    errors_ = pd.DataFrame(assay.error_files)\n",
    "    print(len(errors_))\n",
    "    errors.append(errors_).to_csv(fn_errors, index=False)\n",
    "else:\n",
    "    pd.DataFrame(assay.error_files).to_csv(fn_errors, index=False)"
   ]
  },
  {
   "cell_type": "code",
   "execution_count": null,
   "metadata": {},
   "outputs": [],
   "source": [
    "len(errors)"
   ]
  }
 ],
 "metadata": {
  "kernelspec": {
   "display_name": "Python 3",
   "language": "python",
   "name": "python3"
  },
  "language_info": {
   "codemirror_mode": {
    "name": "ipython",
    "version": 3
   },
   "file_extension": ".py",
   "mimetype": "text/x-python",
   "name": "python",
   "nbconvert_exporter": "python",
   "pygments_lexer": "ipython3",
   "version": "3.8.1"
  }
 },
 "nbformat": 4,
 "nbformat_minor": 4
}
