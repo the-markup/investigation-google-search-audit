{
 "cells": [
  {
   "cell_type": "code",
   "execution_count": 1,
   "metadata": {},
   "outputs": [],
   "source": [
    "import pandas as pd\n",
    "from tqdm import tqdm"
   ]
  },
  {
   "cell_type": "code",
   "execution_count": 2,
   "metadata": {},
   "outputs": [],
   "source": [
    "# inputs\n",
    "fn_metadata = '../data/intermediary/element_metadata_15k.jsonl'\n",
    "fn_real = '../data/intermediary/element_metadata_real_1k.jsonl'\n",
    "fn_trends = '../data/intermediary/trending_searches_by_category.csv'"
   ]
  },
  {
   "cell_type": "code",
   "execution_count": 3,
   "metadata": {},
   "outputs": [],
   "source": [
    "df = pd.read_json(fn_metadata, \n",
    "                  lines=True)\n",
    "trends = pd.read_csv(fn_trends)"
   ]
  },
  {
   "cell_type": "code",
   "execution_count": 4,
   "metadata": {},
   "outputs": [],
   "source": [
    "real = pd.read_json(fn_real, lines=True)"
   ]
  },
  {
   "cell_type": "code",
   "execution_count": 5,
   "metadata": {},
   "outputs": [
    {
     "data": {
      "text/html": [
       "<div>\n",
       "<style scoped>\n",
       "    .dataframe tbody tr th:only-of-type {\n",
       "        vertical-align: middle;\n",
       "    }\n",
       "\n",
       "    .dataframe tbody tr th {\n",
       "        vertical-align: top;\n",
       "    }\n",
       "\n",
       "    .dataframe thead th {\n",
       "        text-align: right;\n",
       "    }\n",
       "</style>\n",
       "<table border=\"1\" class=\"dataframe\">\n",
       "  <thead>\n",
       "    <tr style=\"text-align: right;\">\n",
       "      <th></th>\n",
       "      <th>text</th>\n",
       "      <th>link</th>\n",
       "      <th>domain</th>\n",
       "      <th>xpath</th>\n",
       "      <th>element_class</th>\n",
       "      <th>category</th>\n",
       "      <th>element</th>\n",
       "      <th>tag</th>\n",
       "      <th>attrs</th>\n",
       "      <th>dimensions</th>\n",
       "      <th>location</th>\n",
       "      <th>area</th>\n",
       "      <th>area_page</th>\n",
       "      <th>fn_input</th>\n",
       "      <th>label</th>\n",
       "      <th>category_standard</th>\n",
       "    </tr>\n",
       "  </thead>\n",
       "  <tbody>\n",
       "    <tr>\n",
       "      <th>0</th>\n",
       "      <td>Why these ads?</td>\n",
       "      <td>None</td>\n",
       "      <td>google.com</td>\n",
       "      <td>/html/body/div[10]/div/div[6]/div/div[1]/div[2...</td>\n",
       "      <td>kxWPvc</td>\n",
       "      <td>ads-general</td>\n",
       "      <td>NaN</td>\n",
       "      <td>div</td>\n",
       "      <td>{'class': ['kxWPvc']}</td>\n",
       "      <td>{'height': 14.0, 'width': 15.0}</td>\n",
       "      <td>{'x': 324, 'y': 185}</td>\n",
       "      <td>210.0</td>\n",
       "      <td>210.0</td>\n",
       "      <td>../data/input/google_search/iPhone-X/2019/11/2...</td>\n",
       "      <td>ads</td>\n",
       "      <td>ads</td>\n",
       "    </tr>\n",
       "    <tr>\n",
       "      <th>1</th>\n",
       "      <td>Suggested RefinementsSaleHair Loss Treatments ...</td>\n",
       "      <td>None</td>\n",
       "      <td>google.com</td>\n",
       "      <td>/html/body/div[10]/div/div[6]/div/div[1]/div[2...</td>\n",
       "      <td>rcwta</td>\n",
       "      <td>link-filter_product_refinement</td>\n",
       "      <td>NaN</td>\n",
       "      <td>div</td>\n",
       "      <td>{'data-wta-ad-reasons': 'wtad:CkAIARABGAAgAZoB...</td>\n",
       "      <td>{'height': 52.0, 'width': 347.0}</td>\n",
       "      <td>{'x': 8, 'y': 224}</td>\n",
       "      <td>18044.0</td>\n",
       "      <td>18044.0</td>\n",
       "      <td>../data/input/google_search/iPhone-X/2019/11/2...</td>\n",
       "      <td>link</td>\n",
       "      <td>google-misc</td>\n",
       "    </tr>\n",
       "  </tbody>\n",
       "</table>\n",
       "</div>"
      ],
      "text/plain": [
       "                                                text  link      domain  \\\n",
       "0                                     Why these ads?  None  google.com   \n",
       "1  Suggested RefinementsSaleHair Loss Treatments ...  None  google.com   \n",
       "\n",
       "                                               xpath element_class  \\\n",
       "0  /html/body/div[10]/div/div[6]/div/div[1]/div[2...        kxWPvc   \n",
       "1  /html/body/div[10]/div/div[6]/div/div[1]/div[2...         rcwta   \n",
       "\n",
       "                         category  element  tag  \\\n",
       "0                     ads-general      NaN  div   \n",
       "1  link-filter_product_refinement      NaN  div   \n",
       "\n",
       "                                               attrs  \\\n",
       "0                              {'class': ['kxWPvc']}   \n",
       "1  {'data-wta-ad-reasons': 'wtad:CkAIARABGAAgAZoB...   \n",
       "\n",
       "                         dimensions              location     area  area_page  \\\n",
       "0   {'height': 14.0, 'width': 15.0}  {'x': 324, 'y': 185}    210.0      210.0   \n",
       "1  {'height': 52.0, 'width': 347.0}    {'x': 8, 'y': 224}  18044.0    18044.0   \n",
       "\n",
       "                                            fn_input label category_standard  \n",
       "0  ../data/input/google_search/iPhone-X/2019/11/2...   ads               ads  \n",
       "1  ../data/input/google_search/iPhone-X/2019/11/2...  link       google-misc  "
      ]
     },
     "execution_count": 5,
     "metadata": {},
     "output_type": "execute_result"
    }
   ],
   "source": [
    "df.head(2)"
   ]
  },
  {
   "cell_type": "code",
   "execution_count": 6,
   "metadata": {},
   "outputs": [],
   "source": [
    "real.loc[:, 'search'] = real.fn_input.apply(lambda x : ('').join(x.split('/html')[0].split('/')[8:]))"
   ]
  },
  {
   "cell_type": "code",
   "execution_count": 41,
   "metadata": {},
   "outputs": [
    {
     "data": {
      "text/plain": [
       "3.5964360587002098"
      ]
     },
     "execution_count": 41,
     "metadata": {},
     "output_type": "execute_result"
    }
   ],
   "source": [
    "sum([len(row.split('-')) for row in real.search.unique()]) / real.search.nunique()"
   ]
  },
  {
   "cell_type": "code",
   "execution_count": 43,
   "metadata": {},
   "outputs": [
    {
     "data": {
      "text/plain": [
       "23.19496855345912"
      ]
     },
     "execution_count": 43,
     "metadata": {},
     "output_type": "execute_result"
    }
   ],
   "source": [
    "sum([len(row) for row in real.search.unique()]) / real.search.nunique()"
   ]
  },
  {
   "cell_type": "code",
   "execution_count": 7,
   "metadata": {},
   "outputs": [],
   "source": [
    "df.loc[:, 'search'] = df.fn_input.apply(lambda x : ('').join(x.split('/html')[0].split('/')[8:]))"
   ]
  },
  {
   "cell_type": "code",
   "execution_count": 8,
   "metadata": {},
   "outputs": [],
   "source": [
    "trends.loc[:, 'search'] = trends['search'].str.replace(' ', '-')"
   ]
  },
  {
   "cell_type": "code",
   "execution_count": 9,
   "metadata": {},
   "outputs": [
    {
     "data": {
      "text/plain": [
       "11648"
      ]
     },
     "execution_count": 9,
     "metadata": {},
     "output_type": "execute_result"
    }
   ],
   "source": [
    "trends.search.nunique()"
   ]
  },
  {
   "cell_type": "code",
   "execution_count": 10,
   "metadata": {},
   "outputs": [
    {
     "data": {
      "text/plain": [
       "'Pattern-hair-loss'"
      ]
     },
     "execution_count": 10,
     "metadata": {},
     "output_type": "execute_result"
    }
   ],
   "source": [
    "df['search'].iloc[0]"
   ]
  },
  {
   "cell_type": "code",
   "execution_count": 11,
   "metadata": {},
   "outputs": [],
   "source": [
    "cat2searches = {}\n",
    "for cat in trends.category.unique():\n",
    "    searches = (trends[trends.category == cat].search.tolist())\n",
    "    cat2searches[cat] = searches"
   ]
  },
  {
   "cell_type": "raw",
   "metadata": {},
   "source": []
  },
  {
   "cell_type": "code",
   "execution_count": 26,
   "metadata": {},
   "outputs": [],
   "source": [
    "cat2desc = {\n",
    "    'b' : 'Business',\n",
    "    'e' : 'Entertainment',\n",
    "    'm' : 'Health',\n",
    "    't' : 'Science and Tech',\n",
    "    's' : 'Sports',\n",
    "    'h' : 'Top Stories',\n",
    "    'real' : 'User Searches',\n",
    "    'mix' : 'Multiple Categories'\n",
    "}"
   ]
  },
  {
   "cell_type": "code",
   "execution_count": 13,
   "metadata": {},
   "outputs": [],
   "source": [
    "import random\n",
    "from scipy.stats import t"
   ]
  },
  {
   "cell_type": "code",
   "execution_count": 33,
   "metadata": {},
   "outputs": [],
   "source": [
    "cat2df = {}\n",
    "for k, v in cat2searches.items():\n",
    "    _df = df[df.search.isin(v)]\n",
    "    random.seed(303)\n",
    "    sample = _df.fn_input.unique()\n",
    "    random.shuffle(sample)\n",
    "    sample = sample[:700]\n",
    "\n",
    "    cat2df[k] = _df[_df.fn_input.isin(sample)]\n",
    "\n",
    "# _df = df[~df.search.isin(trends.search)]\n",
    "# random.seed(303)\n",
    "# sample = _df.fn_input.unique()\n",
    "# random.shuffle(sample)\n",
    "# sample = sample[:700]\n",
    "# cat2df['mix'] = _df[_df.fn_input.isin(sample)]\n",
    "    \n",
    "cat2df['All'] = pd.concat(_df for _df in cat2df.values())\n",
    "\n",
    "_df = real\n",
    "random.seed(303)\n",
    "sample = _df.search.unique()\n",
    "random.shuffle(sample)\n",
    "sample = sample[:700]\n",
    "cat2df['real'] = _df[_df.search.isin(sample)]"
   ]
  },
  {
   "cell_type": "code",
   "execution_count": 15,
   "metadata": {},
   "outputs": [
    {
     "name": "stderr",
     "output_type": "stream",
     "text": [
      "  2%|▏         | 15/700 [00:00<00:04, 149.73it/s]<ipython-input-15-f4de6ff22287>:16: RuntimeWarning: invalid value encountered in double_scalars\n",
      "  e1 = g / (g + o)\n",
      "<ipython-input-15-f4de6ff22287>:19: RuntimeWarning: invalid value encountered in double_scalars\n",
      "  e3 = (g + amp) / (g + o + amp)\n",
      "100%|██████████| 700/700 [00:03<00:00, 209.77it/s]\n",
      " 81%|████████  | 566/700 [00:02<00:00, 215.94it/s]<ipython-input-15-f4de6ff22287>:18: RuntimeWarning: invalid value encountered in double_scalars\n",
      "  e2 = (g + ad) / (g + o + ad )\n",
      "<ipython-input-15-f4de6ff22287>:20: RuntimeWarning: invalid value encountered in double_scalars\n",
      "  e4 = (g + amp + ad) / (g + o + amp + ad)\n",
      "<ipython-input-15-f4de6ff22287>:21: RuntimeWarning: invalid value encountered in double_scalars\n",
      "  e5 = g / (g + ad + o + amp)\n",
      "<ipython-input-15-f4de6ff22287>:23: RuntimeWarning: invalid value encountered in double_scalars\n",
      "  e6 =  o / (g + ad + o + amp)\n",
      "100%|██████████| 700/700 [00:03<00:00, 208.89it/s]\n",
      "100%|██████████| 700/700 [00:03<00:00, 205.21it/s]\n",
      "100%|██████████| 700/700 [00:03<00:00, 208.69it/s]\n",
      "100%|██████████| 700/700 [00:03<00:00, 204.37it/s]\n",
      "100%|██████████| 700/700 [00:03<00:00, 209.64it/s]\n",
      "100%|██████████| 700/700 [00:03<00:00, 210.14it/s]\n",
      "100%|██████████| 4900/4900 [00:24<00:00, 203.38it/s]\n"
     ]
    }
   ],
   "source": [
    "cat2pixels = {}\n",
    "for cat, _df in cat2df.items():\n",
    "\n",
    "    pixels = {\n",
    "        'area' : [],\n",
    "        'area_page' : []\n",
    "    }\n",
    "    for search, df_ in tqdm(_df.groupby('fn_input')):\n",
    "        for col in ['area', 'area_page']:\n",
    "            ad = df_[df_.label == 'ads'][col].sum()\n",
    "            o = df_[df_.label == 'organic'][col].sum()\n",
    "            g = df_[(df_.label == 'link') | \n",
    "                    (df_.label == 'answer')][col].sum()\n",
    "            amp = df_[df_.label == 'amp'][col].sum()\n",
    "\n",
    "            e1 = g / (g + o)\n",
    "            e2 = (g + ad) / (g + o + ad )\n",
    "            e3 = (g + amp) / (g + o + amp)\n",
    "            e4 = (g + amp + ad) / (g + o + amp + ad)\n",
    "            e5 = g / (g + ad + o + amp)\n",
    "\n",
    "            e6 =  o / (g + ad + o + amp)\n",
    "\n",
    "\n",
    "            row = {\n",
    "                'search_term' : search,\n",
    "                'ad' : ad,\n",
    "                'o' : o,\n",
    "                'g' : g,\n",
    "                'amp' : amp,\n",
    "                'e1' : e1,\n",
    "                'e2' : e2,\n",
    "                'e3' : e3,\n",
    "                'e4' : e4,\n",
    "                'e5' : e5,\n",
    "                'e6' : e6\n",
    "            }\n",
    "\n",
    "            pixels[col].append(row)\n",
    "\n",
    "    df_pixels = pd.DataFrame(pixels['area'])\n",
    "    df_pixels_fp = pd.DataFrame(pixels['area_page'])\n",
    "    \n",
    "    cat2pixels[cat] = {\n",
    "        'df_pixels' : df_pixels,\n",
    "        'df_pixels_fp' : df_pixels_fp\n",
    "    }"
   ]
  },
  {
   "cell_type": "code",
   "execution_count": 16,
   "metadata": {},
   "outputs": [
    {
     "data": {
      "text/html": [
       "<div>\n",
       "<style scoped>\n",
       "    .dataframe tbody tr th:only-of-type {\n",
       "        vertical-align: middle;\n",
       "    }\n",
       "\n",
       "    .dataframe tbody tr th {\n",
       "        vertical-align: top;\n",
       "    }\n",
       "\n",
       "    .dataframe thead th {\n",
       "        text-align: right;\n",
       "    }\n",
       "</style>\n",
       "<table border=\"1\" class=\"dataframe\">\n",
       "  <thead>\n",
       "    <tr style=\"text-align: right;\">\n",
       "      <th></th>\n",
       "      <th>search_term</th>\n",
       "      <th>ad</th>\n",
       "      <th>o</th>\n",
       "      <th>g</th>\n",
       "      <th>amp</th>\n",
       "      <th>e1</th>\n",
       "      <th>e2</th>\n",
       "      <th>e3</th>\n",
       "      <th>e4</th>\n",
       "      <th>e5</th>\n",
       "      <th>e6</th>\n",
       "    </tr>\n",
       "  </thead>\n",
       "  <tbody>\n",
       "    <tr>\n",
       "      <th>0</th>\n",
       "      <td>../data/input/google_search/iPhone-X/2019/11/0...</td>\n",
       "      <td>0.0</td>\n",
       "      <td>208496.000000</td>\n",
       "      <td>1728.000000</td>\n",
       "      <td>0.0</td>\n",
       "      <td>0.008220</td>\n",
       "      <td>0.008220</td>\n",
       "      <td>0.008220</td>\n",
       "      <td>0.008220</td>\n",
       "      <td>0.008220</td>\n",
       "      <td>0.991780</td>\n",
       "    </tr>\n",
       "    <tr>\n",
       "      <th>1</th>\n",
       "      <td>../data/input/google_search/iPhone-X/2019/11/0...</td>\n",
       "      <td>0.0</td>\n",
       "      <td>0.000000</td>\n",
       "      <td>178271.000000</td>\n",
       "      <td>0.0</td>\n",
       "      <td>1.000000</td>\n",
       "      <td>1.000000</td>\n",
       "      <td>1.000000</td>\n",
       "      <td>1.000000</td>\n",
       "      <td>1.000000</td>\n",
       "      <td>0.000000</td>\n",
       "    </tr>\n",
       "    <tr>\n",
       "      <th>2</th>\n",
       "      <td>../data/input/google_search/iPhone-X/2019/11/0...</td>\n",
       "      <td>0.0</td>\n",
       "      <td>971.199951</td>\n",
       "      <td>149412.065063</td>\n",
       "      <td>0.0</td>\n",
       "      <td>0.993542</td>\n",
       "      <td>0.993542</td>\n",
       "      <td>0.993542</td>\n",
       "      <td>0.993542</td>\n",
       "      <td>0.993542</td>\n",
       "      <td>0.006458</td>\n",
       "    </tr>\n",
       "    <tr>\n",
       "      <th>3</th>\n",
       "      <td>../data/input/google_search/iPhone-X/2019/11/0...</td>\n",
       "      <td>0.0</td>\n",
       "      <td>146383.000000</td>\n",
       "      <td>30960.966980</td>\n",
       "      <td>0.0</td>\n",
       "      <td>0.174581</td>\n",
       "      <td>0.174581</td>\n",
       "      <td>0.174581</td>\n",
       "      <td>0.174581</td>\n",
       "      <td>0.174581</td>\n",
       "      <td>0.825419</td>\n",
       "    </tr>\n",
       "    <tr>\n",
       "      <th>4</th>\n",
       "      <td>../data/input/google_search/iPhone-X/2019/11/0...</td>\n",
       "      <td>0.0</td>\n",
       "      <td>17974.199951</td>\n",
       "      <td>112090.484650</td>\n",
       "      <td>0.0</td>\n",
       "      <td>0.861806</td>\n",
       "      <td>0.861806</td>\n",
       "      <td>0.861806</td>\n",
       "      <td>0.861806</td>\n",
       "      <td>0.861806</td>\n",
       "      <td>0.138194</td>\n",
       "    </tr>\n",
       "    <tr>\n",
       "      <th>...</th>\n",
       "      <td>...</td>\n",
       "      <td>...</td>\n",
       "      <td>...</td>\n",
       "      <td>...</td>\n",
       "      <td>...</td>\n",
       "      <td>...</td>\n",
       "      <td>...</td>\n",
       "      <td>...</td>\n",
       "      <td>...</td>\n",
       "      <td>...</td>\n",
       "      <td>...</td>\n",
       "    </tr>\n",
       "    <tr>\n",
       "      <th>695</th>\n",
       "      <td>../data/input/google_search/iPhone-X/2020/01/0...</td>\n",
       "      <td>0.0</td>\n",
       "      <td>180093.000000</td>\n",
       "      <td>19807.999268</td>\n",
       "      <td>0.0</td>\n",
       "      <td>0.099089</td>\n",
       "      <td>0.099089</td>\n",
       "      <td>0.099089</td>\n",
       "      <td>0.099089</td>\n",
       "      <td>0.099089</td>\n",
       "      <td>0.900911</td>\n",
       "    </tr>\n",
       "    <tr>\n",
       "      <th>696</th>\n",
       "      <td>../data/input/google_search/iPhone-X/2020/01/0...</td>\n",
       "      <td>0.0</td>\n",
       "      <td>0.000000</td>\n",
       "      <td>159496.800293</td>\n",
       "      <td>0.0</td>\n",
       "      <td>1.000000</td>\n",
       "      <td>1.000000</td>\n",
       "      <td>1.000000</td>\n",
       "      <td>1.000000</td>\n",
       "      <td>1.000000</td>\n",
       "      <td>0.000000</td>\n",
       "    </tr>\n",
       "    <tr>\n",
       "      <th>697</th>\n",
       "      <td>../data/input/google_search/iPhone-X/2020/01/0...</td>\n",
       "      <td>0.0</td>\n",
       "      <td>72523.000000</td>\n",
       "      <td>82180.000000</td>\n",
       "      <td>0.0</td>\n",
       "      <td>0.531211</td>\n",
       "      <td>0.531211</td>\n",
       "      <td>0.531211</td>\n",
       "      <td>0.531211</td>\n",
       "      <td>0.531211</td>\n",
       "      <td>0.468789</td>\n",
       "    </tr>\n",
       "    <tr>\n",
       "      <th>698</th>\n",
       "      <td>../data/input/google_search/iPhone-X/2020/01/0...</td>\n",
       "      <td>0.0</td>\n",
       "      <td>139145.000000</td>\n",
       "      <td>45562.000000</td>\n",
       "      <td>0.0</td>\n",
       "      <td>0.246672</td>\n",
       "      <td>0.246672</td>\n",
       "      <td>0.246672</td>\n",
       "      <td>0.246672</td>\n",
       "      <td>0.246672</td>\n",
       "      <td>0.753328</td>\n",
       "    </tr>\n",
       "    <tr>\n",
       "      <th>699</th>\n",
       "      <td>../data/input/google_search/iPhone-X/2020/01/0...</td>\n",
       "      <td>122144.0</td>\n",
       "      <td>0.000000</td>\n",
       "      <td>19807.999268</td>\n",
       "      <td>41503.0</td>\n",
       "      <td>1.000000</td>\n",
       "      <td>1.000000</td>\n",
       "      <td>1.000000</td>\n",
       "      <td>1.000000</td>\n",
       "      <td>0.107972</td>\n",
       "      <td>0.000000</td>\n",
       "    </tr>\n",
       "  </tbody>\n",
       "</table>\n",
       "<p>700 rows × 11 columns</p>\n",
       "</div>"
      ],
      "text/plain": [
       "                                           search_term        ad  \\\n",
       "0    ../data/input/google_search/iPhone-X/2019/11/0...       0.0   \n",
       "1    ../data/input/google_search/iPhone-X/2019/11/0...       0.0   \n",
       "2    ../data/input/google_search/iPhone-X/2019/11/0...       0.0   \n",
       "3    ../data/input/google_search/iPhone-X/2019/11/0...       0.0   \n",
       "4    ../data/input/google_search/iPhone-X/2019/11/0...       0.0   \n",
       "..                                                 ...       ...   \n",
       "695  ../data/input/google_search/iPhone-X/2020/01/0...       0.0   \n",
       "696  ../data/input/google_search/iPhone-X/2020/01/0...       0.0   \n",
       "697  ../data/input/google_search/iPhone-X/2020/01/0...       0.0   \n",
       "698  ../data/input/google_search/iPhone-X/2020/01/0...       0.0   \n",
       "699  ../data/input/google_search/iPhone-X/2020/01/0...  122144.0   \n",
       "\n",
       "                 o              g      amp        e1        e2        e3  \\\n",
       "0    208496.000000    1728.000000      0.0  0.008220  0.008220  0.008220   \n",
       "1         0.000000  178271.000000      0.0  1.000000  1.000000  1.000000   \n",
       "2       971.199951  149412.065063      0.0  0.993542  0.993542  0.993542   \n",
       "3    146383.000000   30960.966980      0.0  0.174581  0.174581  0.174581   \n",
       "4     17974.199951  112090.484650      0.0  0.861806  0.861806  0.861806   \n",
       "..             ...            ...      ...       ...       ...       ...   \n",
       "695  180093.000000   19807.999268      0.0  0.099089  0.099089  0.099089   \n",
       "696       0.000000  159496.800293      0.0  1.000000  1.000000  1.000000   \n",
       "697   72523.000000   82180.000000      0.0  0.531211  0.531211  0.531211   \n",
       "698  139145.000000   45562.000000      0.0  0.246672  0.246672  0.246672   \n",
       "699       0.000000   19807.999268  41503.0  1.000000  1.000000  1.000000   \n",
       "\n",
       "           e4        e5        e6  \n",
       "0    0.008220  0.008220  0.991780  \n",
       "1    1.000000  1.000000  0.000000  \n",
       "2    0.993542  0.993542  0.006458  \n",
       "3    0.174581  0.174581  0.825419  \n",
       "4    0.861806  0.861806  0.138194  \n",
       "..        ...       ...       ...  \n",
       "695  0.099089  0.099089  0.900911  \n",
       "696  1.000000  1.000000  0.000000  \n",
       "697  0.531211  0.531211  0.468789  \n",
       "698  0.246672  0.246672  0.753328  \n",
       "699  1.000000  0.107972  0.000000  \n",
       "\n",
       "[700 rows x 11 columns]"
      ]
     },
     "execution_count": 16,
     "metadata": {},
     "output_type": "execute_result"
    }
   ],
   "source": [
    "cat2pixels['b']['df_pixels']"
   ]
  },
  {
   "cell_type": "code",
   "execution_count": 17,
   "metadata": {},
   "outputs": [],
   "source": [
    "def t_student_confidence_interval(data, \n",
    "                                  confidence = 0.95,\n",
    "                                  scale = 100):\n",
    "    n = len(data)\n",
    "    m = data.mean()\n",
    "    std_err = data.sem()\n",
    "    h = std_err * t.ppf((1 + confidence) / 2, n - 1)\n",
    "    \n",
    "    s = f\"{scale * m:.1f} ± {h * scale :.1f}\"\n",
    "    return s"
   ]
  },
  {
   "cell_type": "code",
   "execution_count": 18,
   "metadata": {},
   "outputs": [],
   "source": [
    "index2human = {\n",
    "    'e1' : 'EQ1: g / (g + o)',\n",
    "    'e2' : 'EQ2: (g + ad) / (g + o + ad)',\n",
    "    'e3' : 'EQ3: (g + amp) / (g + o + amp)',\n",
    "    'e4' : 'EQ4: (g + amp + ad) / (g + o + amp + ad)',\n",
    "    'e5' : 'EQ5: g / (g + o + ads + amp)',\n",
    "    \n",
    "    'e6' : 'EQ6: o / (g + o + ads + amp)',\n",
    "}"
   ]
  },
  {
   "cell_type": "code",
   "execution_count": 19,
   "metadata": {},
   "outputs": [],
   "source": [
    "from IPython.display import display, HTML"
   ]
  },
  {
   "cell_type": "code",
   "execution_count": 20,
   "metadata": {},
   "outputs": [
    {
     "name": "stdout",
     "output_type": "stream",
     "text": [
      "b\n"
     ]
    },
    {
     "data": {
      "text/html": [
       "<table border=\"1\" class=\"dataframe\">\n",
       "  <thead>\n",
       "    <tr style=\"text-align: right;\">\n",
       "      <th></th>\n",
       "      <th>above the fold</th>\n",
       "      <th>first page</th>\n",
       "    </tr>\n",
       "  </thead>\n",
       "  <tbody>\n",
       "    <tr>\n",
       "      <th>EQ1: g / (g + o)</th>\n",
       "      <td>61.7 ± 2.9%</td>\n",
       "      <td>44.5 ± 0.3%</td>\n",
       "    </tr>\n",
       "    <tr>\n",
       "      <th>EQ2: (g + ad) / (g + o + ad)</th>\n",
       "      <td>66.4 ± 2.7%</td>\n",
       "      <td>45.1 ± 0.3%</td>\n",
       "    </tr>\n",
       "    <tr>\n",
       "      <th>EQ3: (g + amp) / (g + o + amp)</th>\n",
       "      <td>63.7 ± 2.8%</td>\n",
       "      <td>51.2 ± 0.4%</td>\n",
       "    </tr>\n",
       "    <tr>\n",
       "      <th>EQ4: (g + amp + ad) / (g + o + amp + ad)</th>\n",
       "      <td>68.3 ± 2.6%</td>\n",
       "      <td>51.7 ± 0.4%</td>\n",
       "    </tr>\n",
       "    <tr>\n",
       "      <th>EQ5: g / (g + o + ads + amp)</th>\n",
       "      <td>50.6 ± 2.9%</td>\n",
       "      <td>38.1 ± 0.3%</td>\n",
       "    </tr>\n",
       "    <tr>\n",
       "      <th>EQ6: o / (g + o + ads + amp)</th>\n",
       "      <td>31.7 ± 2.6%</td>\n",
       "      <td>48.3 ± 0.4%</td>\n",
       "    </tr>\n",
       "  </tbody>\n",
       "</table>"
      ],
      "text/plain": [
       "<IPython.core.display.HTML object>"
      ]
     },
     "metadata": {},
     "output_type": "display_data"
    },
    {
     "name": "stdout",
     "output_type": "stream",
     "text": [
      "m\n"
     ]
    },
    {
     "data": {
      "text/html": [
       "<table border=\"1\" class=\"dataframe\">\n",
       "  <thead>\n",
       "    <tr style=\"text-align: right;\">\n",
       "      <th></th>\n",
       "      <th>above the fold</th>\n",
       "      <th>first page</th>\n",
       "    </tr>\n",
       "  </thead>\n",
       "  <tbody>\n",
       "    <tr>\n",
       "      <th>EQ1: g / (g + o)</th>\n",
       "      <td>80.4 ± 2.1%</td>\n",
       "      <td>44.5 ± 0.3%</td>\n",
       "    </tr>\n",
       "    <tr>\n",
       "      <th>EQ2: (g + ad) / (g + o + ad)</th>\n",
       "      <td>81.5 ± 2.0%</td>\n",
       "      <td>45.1 ± 0.3%</td>\n",
       "    </tr>\n",
       "    <tr>\n",
       "      <th>EQ3: (g + amp) / (g + o + amp)</th>\n",
       "      <td>81.1 ± 2.0%</td>\n",
       "      <td>51.2 ± 0.4%</td>\n",
       "    </tr>\n",
       "    <tr>\n",
       "      <th>EQ4: (g + amp + ad) / (g + o + amp + ad)</th>\n",
       "      <td>82.2 ± 1.9%</td>\n",
       "      <td>51.7 ± 0.4%</td>\n",
       "    </tr>\n",
       "    <tr>\n",
       "      <th>EQ5: g / (g + o + ads + amp)</th>\n",
       "      <td>74.4 ± 2.4%</td>\n",
       "      <td>38.1 ± 0.3%</td>\n",
       "    </tr>\n",
       "    <tr>\n",
       "      <th>EQ6: o / (g + o + ads + amp)</th>\n",
       "      <td>17.8 ± 1.9%</td>\n",
       "      <td>48.3 ± 0.4%</td>\n",
       "    </tr>\n",
       "  </tbody>\n",
       "</table>"
      ],
      "text/plain": [
       "<IPython.core.display.HTML object>"
      ]
     },
     "metadata": {},
     "output_type": "display_data"
    },
    {
     "name": "stdout",
     "output_type": "stream",
     "text": [
      "e\n"
     ]
    },
    {
     "data": {
      "text/html": [
       "<table border=\"1\" class=\"dataframe\">\n",
       "  <thead>\n",
       "    <tr style=\"text-align: right;\">\n",
       "      <th></th>\n",
       "      <th>above the fold</th>\n",
       "      <th>first page</th>\n",
       "    </tr>\n",
       "  </thead>\n",
       "  <tbody>\n",
       "    <tr>\n",
       "      <th>EQ1: g / (g + o)</th>\n",
       "      <td>84.2 ± 1.8%</td>\n",
       "      <td>44.5 ± 0.3%</td>\n",
       "    </tr>\n",
       "    <tr>\n",
       "      <th>EQ2: (g + ad) / (g + o + ad)</th>\n",
       "      <td>84.6 ± 1.7%</td>\n",
       "      <td>45.1 ± 0.3%</td>\n",
       "    </tr>\n",
       "    <tr>\n",
       "      <th>EQ3: (g + amp) / (g + o + amp)</th>\n",
       "      <td>86.6 ± 1.5%</td>\n",
       "      <td>51.2 ± 0.4%</td>\n",
       "    </tr>\n",
       "    <tr>\n",
       "      <th>EQ4: (g + amp + ad) / (g + o + amp + ad)</th>\n",
       "      <td>87.1 ± 1.5%</td>\n",
       "      <td>51.7 ± 0.4%</td>\n",
       "    </tr>\n",
       "    <tr>\n",
       "      <th>EQ5: g / (g + o + ads + amp)</th>\n",
       "      <td>72.3 ± 2.4%</td>\n",
       "      <td>38.1 ± 0.3%</td>\n",
       "    </tr>\n",
       "    <tr>\n",
       "      <th>EQ6: o / (g + o + ads + amp)</th>\n",
       "      <td>12.9 ± 1.5%</td>\n",
       "      <td>48.3 ± 0.4%</td>\n",
       "    </tr>\n",
       "  </tbody>\n",
       "</table>"
      ],
      "text/plain": [
       "<IPython.core.display.HTML object>"
      ]
     },
     "metadata": {},
     "output_type": "display_data"
    },
    {
     "name": "stdout",
     "output_type": "stream",
     "text": [
      "t\n"
     ]
    },
    {
     "data": {
      "text/html": [
       "<table border=\"1\" class=\"dataframe\">\n",
       "  <thead>\n",
       "    <tr style=\"text-align: right;\">\n",
       "      <th></th>\n",
       "      <th>above the fold</th>\n",
       "      <th>first page</th>\n",
       "    </tr>\n",
       "  </thead>\n",
       "  <tbody>\n",
       "    <tr>\n",
       "      <th>EQ1: g / (g + o)</th>\n",
       "      <td>72.1 ± 2.7%</td>\n",
       "      <td>44.5 ± 0.3%</td>\n",
       "    </tr>\n",
       "    <tr>\n",
       "      <th>EQ2: (g + ad) / (g + o + ad)</th>\n",
       "      <td>76.1 ± 2.4%</td>\n",
       "      <td>45.1 ± 0.3%</td>\n",
       "    </tr>\n",
       "    <tr>\n",
       "      <th>EQ3: (g + amp) / (g + o + amp)</th>\n",
       "      <td>73.7 ± 2.6%</td>\n",
       "      <td>51.2 ± 0.4%</td>\n",
       "    </tr>\n",
       "    <tr>\n",
       "      <th>EQ4: (g + amp + ad) / (g + o + amp + ad)</th>\n",
       "      <td>77.5 ± 2.3%</td>\n",
       "      <td>51.7 ± 0.4%</td>\n",
       "    </tr>\n",
       "    <tr>\n",
       "      <th>EQ5: g / (g + o + ads + amp)</th>\n",
       "      <td>61.9 ± 2.9%</td>\n",
       "      <td>38.1 ± 0.3%</td>\n",
       "    </tr>\n",
       "    <tr>\n",
       "      <th>EQ6: o / (g + o + ads + amp)</th>\n",
       "      <td>22.5 ± 2.3%</td>\n",
       "      <td>48.3 ± 0.4%</td>\n",
       "    </tr>\n",
       "  </tbody>\n",
       "</table>"
      ],
      "text/plain": [
       "<IPython.core.display.HTML object>"
      ]
     },
     "metadata": {},
     "output_type": "display_data"
    },
    {
     "name": "stdout",
     "output_type": "stream",
     "text": [
      "s\n"
     ]
    },
    {
     "data": {
      "text/html": [
       "<table border=\"1\" class=\"dataframe\">\n",
       "  <thead>\n",
       "    <tr style=\"text-align: right;\">\n",
       "      <th></th>\n",
       "      <th>above the fold</th>\n",
       "      <th>first page</th>\n",
       "    </tr>\n",
       "  </thead>\n",
       "  <tbody>\n",
       "    <tr>\n",
       "      <th>EQ1: g / (g + o)</th>\n",
       "      <td>85.0 ± 2.0%</td>\n",
       "      <td>44.5 ± 0.3%</td>\n",
       "    </tr>\n",
       "    <tr>\n",
       "      <th>EQ2: (g + ad) / (g + o + ad)</th>\n",
       "      <td>85.3 ± 2.0%</td>\n",
       "      <td>45.1 ± 0.3%</td>\n",
       "    </tr>\n",
       "    <tr>\n",
       "      <th>EQ3: (g + amp) / (g + o + amp)</th>\n",
       "      <td>88.6 ± 1.6%</td>\n",
       "      <td>51.2 ± 0.4%</td>\n",
       "    </tr>\n",
       "    <tr>\n",
       "      <th>EQ4: (g + amp + ad) / (g + o + amp + ad)</th>\n",
       "      <td>88.8 ± 1.6%</td>\n",
       "      <td>51.7 ± 0.4%</td>\n",
       "    </tr>\n",
       "    <tr>\n",
       "      <th>EQ5: g / (g + o + ads + amp)</th>\n",
       "      <td>69.4 ± 2.7%</td>\n",
       "      <td>38.1 ± 0.3%</td>\n",
       "    </tr>\n",
       "    <tr>\n",
       "      <th>EQ6: o / (g + o + ads + amp)</th>\n",
       "      <td>11.2 ± 1.6%</td>\n",
       "      <td>48.3 ± 0.4%</td>\n",
       "    </tr>\n",
       "  </tbody>\n",
       "</table>"
      ],
      "text/plain": [
       "<IPython.core.display.HTML object>"
      ]
     },
     "metadata": {},
     "output_type": "display_data"
    },
    {
     "name": "stdout",
     "output_type": "stream",
     "text": [
      "h\n"
     ]
    },
    {
     "data": {
      "text/html": [
       "<table border=\"1\" class=\"dataframe\">\n",
       "  <thead>\n",
       "    <tr style=\"text-align: right;\">\n",
       "      <th></th>\n",
       "      <th>above the fold</th>\n",
       "      <th>first page</th>\n",
       "    </tr>\n",
       "  </thead>\n",
       "  <tbody>\n",
       "    <tr>\n",
       "      <th>EQ1: g / (g + o)</th>\n",
       "      <td>79.4 ± 2.3%</td>\n",
       "      <td>44.5 ± 0.3%</td>\n",
       "    </tr>\n",
       "    <tr>\n",
       "      <th>EQ2: (g + ad) / (g + o + ad)</th>\n",
       "      <td>79.9 ± 2.3%</td>\n",
       "      <td>45.1 ± 0.3%</td>\n",
       "    </tr>\n",
       "    <tr>\n",
       "      <th>EQ3: (g + amp) / (g + o + amp)</th>\n",
       "      <td>83.6 ± 2.0%</td>\n",
       "      <td>51.2 ± 0.4%</td>\n",
       "    </tr>\n",
       "    <tr>\n",
       "      <th>EQ4: (g + amp + ad) / (g + o + amp + ad)</th>\n",
       "      <td>84.0 ± 1.9%</td>\n",
       "      <td>51.7 ± 0.4%</td>\n",
       "    </tr>\n",
       "    <tr>\n",
       "      <th>EQ5: g / (g + o + ads + amp)</th>\n",
       "      <td>63.3 ± 2.8%</td>\n",
       "      <td>38.1 ± 0.3%</td>\n",
       "    </tr>\n",
       "    <tr>\n",
       "      <th>EQ6: o / (g + o + ads + amp)</th>\n",
       "      <td>16.0 ± 1.9%</td>\n",
       "      <td>48.3 ± 0.4%</td>\n",
       "    </tr>\n",
       "  </tbody>\n",
       "</table>"
      ],
      "text/plain": [
       "<IPython.core.display.HTML object>"
      ]
     },
     "metadata": {},
     "output_type": "display_data"
    },
    {
     "name": "stdout",
     "output_type": "stream",
     "text": [
      "real\n"
     ]
    },
    {
     "data": {
      "text/html": [
       "<table border=\"1\" class=\"dataframe\">\n",
       "  <thead>\n",
       "    <tr style=\"text-align: right;\">\n",
       "      <th></th>\n",
       "      <th>above the fold</th>\n",
       "      <th>first page</th>\n",
       "    </tr>\n",
       "  </thead>\n",
       "  <tbody>\n",
       "    <tr>\n",
       "      <th>EQ1: g / (g + o)</th>\n",
       "      <td>47.1 ± 3.0%</td>\n",
       "      <td>44.5 ± 0.3%</td>\n",
       "    </tr>\n",
       "    <tr>\n",
       "      <th>EQ2: (g + ad) / (g + o + ad)</th>\n",
       "      <td>47.8 ± 3.0%</td>\n",
       "      <td>45.1 ± 0.3%</td>\n",
       "    </tr>\n",
       "    <tr>\n",
       "      <th>EQ3: (g + amp) / (g + o + amp)</th>\n",
       "      <td>54.7 ± 2.8%</td>\n",
       "      <td>51.2 ± 0.4%</td>\n",
       "    </tr>\n",
       "    <tr>\n",
       "      <th>EQ4: (g + amp + ad) / (g + o + amp + ad)</th>\n",
       "      <td>55.4 ± 2.7%</td>\n",
       "      <td>51.7 ± 0.4%</td>\n",
       "    </tr>\n",
       "    <tr>\n",
       "      <th>EQ5: g / (g + o + ads + amp)</th>\n",
       "      <td>40.4 ± 2.8%</td>\n",
       "      <td>38.1 ± 0.3%</td>\n",
       "    </tr>\n",
       "    <tr>\n",
       "      <th>EQ6: o / (g + o + ads + amp)</th>\n",
       "      <td>44.6 ± 2.7%</td>\n",
       "      <td>48.3 ± 0.4%</td>\n",
       "    </tr>\n",
       "  </tbody>\n",
       "</table>"
      ],
      "text/plain": [
       "<IPython.core.display.HTML object>"
      ]
     },
     "metadata": {},
     "output_type": "display_data"
    },
    {
     "name": "stdout",
     "output_type": "stream",
     "text": [
      "All\n"
     ]
    },
    {
     "data": {
      "text/html": [
       "<table border=\"1\" class=\"dataframe\">\n",
       "  <thead>\n",
       "    <tr style=\"text-align: right;\">\n",
       "      <th></th>\n",
       "      <th>above the fold</th>\n",
       "      <th>first page</th>\n",
       "    </tr>\n",
       "  </thead>\n",
       "  <tbody>\n",
       "    <tr>\n",
       "      <th>EQ1: g / (g + o)</th>\n",
       "      <td>72.9 ± 1.0%</td>\n",
       "      <td>44.5 ± 0.3%</td>\n",
       "    </tr>\n",
       "    <tr>\n",
       "      <th>EQ2: (g + ad) / (g + o + ad)</th>\n",
       "      <td>74.6 ± 0.9%</td>\n",
       "      <td>45.1 ± 0.3%</td>\n",
       "    </tr>\n",
       "    <tr>\n",
       "      <th>EQ3: (g + amp) / (g + o + amp)</th>\n",
       "      <td>76.1 ± 0.9%</td>\n",
       "      <td>51.2 ± 0.4%</td>\n",
       "    </tr>\n",
       "    <tr>\n",
       "      <th>EQ4: (g + amp + ad) / (g + o + amp + ad)</th>\n",
       "      <td>77.6 ± 0.9%</td>\n",
       "      <td>51.7 ± 0.4%</td>\n",
       "    </tr>\n",
       "    <tr>\n",
       "      <th>EQ5: g / (g + o + ads + amp)</th>\n",
       "      <td>61.8 ± 1.1%</td>\n",
       "      <td>38.1 ± 0.3%</td>\n",
       "    </tr>\n",
       "    <tr>\n",
       "      <th>EQ6: o / (g + o + ads + amp)</th>\n",
       "      <td>22.4 ± 0.9%</td>\n",
       "      <td>48.3 ± 0.4%</td>\n",
       "    </tr>\n",
       "  </tbody>\n",
       "</table>"
      ],
      "text/plain": [
       "<IPython.core.display.HTML object>"
      ]
     },
     "metadata": {},
     "output_type": "display_data"
    }
   ],
   "source": [
    "for cat, v in cat2pixels.items():\n",
    "    print(cat)\n",
    "    df_pixels = v['df_pixels']\n",
    "    results = {}\n",
    "    for e in [f'e{i}' for i in range(1, 7)]:\n",
    "        x_goog = t_student_confidence_interval(df_pixels[e])\n",
    "        x_goog_fp = t_student_confidence_interval(df_pixels_fp[e])\n",
    "        results[index2human.get(e)] = {\n",
    "            'above the fold' : x_goog + '%',\n",
    "            'first page' : x_goog_fp+ '%'\n",
    "        }\n",
    "        \n",
    "    display(HTML(pd.DataFrame(results).T.to_html()))"
   ]
  },
  {
   "cell_type": "code",
   "execution_count": 21,
   "metadata": {},
   "outputs": [],
   "source": [
    "label2publabel = {\n",
    "    'link' : 'Google Product',\n",
    "    'answer' : 'Google Answer',\n",
    "    'organic' : 'Non-Google',\n",
    "    'amp' : 'AMP',\n",
    "    'ads' : 'Ads',\n",
    "}"
   ]
  },
  {
   "cell_type": "code",
   "execution_count": 22,
   "metadata": {},
   "outputs": [],
   "source": [
    "labels = [\n",
    "    'organic',\n",
    "    'amp',\n",
    "    'link',\n",
    "    'answer',\n",
    "    'ads'\n",
    "]"
   ]
  },
  {
   "cell_type": "code",
   "execution_count": 34,
   "metadata": {},
   "outputs": [
    {
     "name": "stdout",
     "output_type": "stream",
     "text": [
      "Business (N=700)\n",
      "               Above the fold        First page        \n",
      "                         area   freq       area    freq\n",
      "Non-Google              33.4%  79.0%      49.6%  100.0%\n",
      "AMP                      4.8%  10.0%       8.8%   64.1%\n",
      "Google Product          28.4%  84.0%      26.0%  100.0%\n",
      "Google Answer           18.3%  62.9%      12.9%   99.3%\n",
      "Ads                     15.1%  18.0%       2.6%   19.3%\n",
      "*******************************************************************************\n",
      "Health (N=700)\n",
      "               Above the fold        First page       \n",
      "                         area   freq       area   freq\n",
      "Non-Google              19.0%  77.0%      54.2%  99.9%\n",
      "AMP                      1.6%   3.6%       5.1%  50.1%\n",
      "Google Product          28.0%  88.3%      20.5%  99.9%\n",
      "Google Answer           44.2%  86.0%      19.0%  98.6%\n",
      "Ads                      7.2%   8.3%       1.2%   8.9%\n",
      "*******************************************************************************\n",
      "Entertainment (N=700)\n",
      "               Above the fold        First page        \n",
      "                         area   freq       area    freq\n",
      "Non-Google              13.8%  84.1%      41.1%  100.0%\n",
      "AMP                     15.3%  23.6%      15.8%   90.3%\n",
      "Google Product          46.7%  97.3%      31.5%  100.0%\n",
      "Google Answer           22.9%  75.6%      11.5%   99.6%\n",
      "Ads                      1.4%   1.9%       0.2%    2.6%\n",
      "*******************************************************************************\n",
      "Science and Tech (N=700)\n",
      "               Above the fold        First page        \n",
      "                         area   freq       area    freq\n",
      "Non-Google              24.4%  86.4%      46.9%   99.9%\n",
      "AMP                      5.9%  12.0%      10.9%   79.9%\n",
      "Google Product          34.7%  87.9%      27.3%  100.0%\n",
      "Google Answer           23.7%  69.6%      13.0%   99.7%\n",
      "Ads                     11.4%  13.6%       1.9%   19.0%\n",
      "*******************************************************************************\n",
      "Sports (N=700)\n",
      "               Above the fold        First page        \n",
      "                         area   freq       area    freq\n",
      "Non-Google              12.1%  73.0%      44.6%  100.0%\n",
      "AMP                     19.2%  30.4%      15.8%   85.9%\n",
      "Google Product          48.1%  98.0%      27.8%  100.0%\n",
      "Google Answer           19.5%  61.0%      11.7%   99.6%\n",
      "Ads                      1.2%   2.0%       0.1%    2.3%\n",
      "*******************************************************************************\n",
      "Top Stories (N=700)\n",
      "               Above the fold        First page        \n",
      "                         area   freq       area    freq\n",
      "Non-Google              17.5%  75.3%      44.9%  100.0%\n",
      "AMP                     19.4%  29.0%      16.9%   87.1%\n",
      "Google Product          37.0%  93.3%      25.4%  100.0%\n",
      "Google Answer           23.7%  65.1%      12.3%   98.1%\n",
      "Ads                      2.5%   3.1%       0.4%    3.3%\n",
      "*******************************************************************************\n",
      "All (N=4,200)\n",
      "               Above the fold        First page        \n",
      "                         area   freq       area    freq\n",
      "Non-Google              20.3%  79.1%      46.6%  100.0%\n",
      "AMP                     10.7%  18.1%      12.4%   76.2%\n",
      "Google Product          36.8%  91.5%      26.6%  100.0%\n",
      "Google Answer           25.5%  70.0%      13.3%   99.1%\n",
      "Ads                      6.7%   7.8%       1.0%    9.2%\n",
      "*******************************************************************************\n",
      "User Searches (N=700)\n",
      "               Above the fold        First page       \n",
      "                         area   freq       area   freq\n",
      "Non-Google              49.0%  85.7%      50.6%  97.4%\n",
      "AMP                     14.2%  29.4%      15.7%  70.7%\n",
      "Google Product          19.7%  72.9%      24.5%  99.6%\n",
      "Google Answer           15.2%  47.4%       8.6%  68.3%\n",
      "Ads                      1.8%   3.6%       0.5%   5.3%\n",
      "*******************************************************************************\n"
     ]
    }
   ],
   "source": [
    "for cat, _df in cat2df.items():\n",
    "    print(f\"{cat2desc.get(cat, cat)} (N={_df.fn_input.nunique():,})\")\n",
    "    total_area = _df['area'].sum()\n",
    "    total_area_fp = _df['area_page'].sum()\n",
    "    n_pages = _df.fn_input.nunique()\n",
    "    data = {}\n",
    "    for label in labels:\n",
    "        __df = _df[_df.label == label]\n",
    "        area = (__df['area'].sum() / total_area)\n",
    "        area_page = (__df['area_page'].sum() / total_area_fp)\n",
    "        freq = __df[__df['area'] != 0].fn_input.nunique() / n_pages\n",
    "        freq_page = __df[__df['area_page'] != 0].fn_input.nunique() /n_pages\n",
    "        data[label2publabel.get(label,label)] = {\n",
    "            ('Above the fold', 'area') : area,\n",
    "            ('Above the fold', 'freq') : freq,\n",
    "            ('First page', 'area') : area_page,\n",
    "            ('First page', 'freq') : freq_page,\n",
    "        }\n",
    "\n",
    "    breakdown = pd.DataFrame(data).T\n",
    "    breakdown.columns = pd.MultiIndex.from_tuples([   \n",
    "        ('Above the fold', 'area'),\n",
    "        ('Above the fold', 'freq'),\n",
    "        ('First page', 'area'),\n",
    "        ('First page', 'freq')\n",
    "    ])\n",
    "    \n",
    "    print(((breakdown * 100).round(1).astype(str) + '%'))\n",
    "    print(\"*\" * 79)"
   ]
  },
  {
   "cell_type": "code",
   "execution_count": null,
   "metadata": {},
   "outputs": [],
   "source": []
  }
 ],
 "metadata": {
  "kernelspec": {
   "display_name": "Python 3",
   "language": "python",
   "name": "python3"
  },
  "language_info": {
   "codemirror_mode": {
    "name": "ipython",
    "version": 3
   },
   "file_extension": ".py",
   "mimetype": "text/x-python",
   "name": "python",
   "nbconvert_exporter": "python",
   "pygments_lexer": "ipython3",
   "version": "3.8.1"
  }
 },
 "nbformat": 4,
 "nbformat_minor": 4
}
