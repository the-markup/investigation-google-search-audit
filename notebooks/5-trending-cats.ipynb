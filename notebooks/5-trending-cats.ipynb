{
 "cells": [
  {
   "cell_type": "markdown",
   "metadata": {},
   "source": [
    "# Google Trends\n",
    "Leon Yin\n",
    "\n",
    "This notebook walks through the Google trends data we collected, by giving examples of searches for each of the available categories of real time trends we collected.\n",
    "\n",
    "We also create samples of search terms that are unique to each category."
   ]
  },
  {
   "cell_type": "code",
   "execution_count": 1,
   "metadata": {},
   "outputs": [
    {
     "name": "stderr",
     "output_type": "stream",
     "text": [
      "/home/chino/miniconda3/lib/python3.8/site-packages/sklearn/externals/joblib/__init__.py:15: FutureWarning: sklearn.externals.joblib is deprecated in 0.21 and will be removed in 0.23. Please import this functionality directly from joblib, which can be installed with: pip install joblib. If this warning is raised when loading pickled models, you may need to re-serialize those models with scikit-learn 0.21+.\n",
      "  warnings.warn(msg, category=FutureWarning)\n"
     ]
    }
   ],
   "source": [
    "import pandas as pd\n",
    "import s3\n",
    "from tqdm import tqdm"
   ]
  },
  {
   "cell_type": "code",
   "execution_count": 2,
   "metadata": {},
   "outputs": [],
   "source": [
    "# inputs\n",
    "s3_pattern = 's3://markup-investigations-google/trends/combined_trends/*/*/*/*/combined_trends.json'\n",
    "\n",
    "# outputs\n",
    "fn_out = '../data/input/trending_searches_by_category.csv'"
   ]
  },
  {
   "cell_type": "markdown",
   "metadata": {},
   "source": [
    "Here is a dictionay for each Google trends category that is available. It maps the shortcode to the name of each tegory."
   ]
  },
  {
   "cell_type": "code",
   "execution_count": 3,
   "metadata": {},
   "outputs": [],
   "source": [
    "cat2desc = {\n",
    "    'b' : 'Business',\n",
    "    'e' : 'Entertainment',\n",
    "    'm' : 'Health',\n",
    "    't' : 'Science and Tech',\n",
    "    's' : 'Sports',\n",
    "    'h' : 'Top Stories'\n",
    "}"
   ]
  },
  {
   "cell_type": "code",
   "execution_count": 4,
   "metadata": {},
   "outputs": [],
   "source": [
    "files = s3.ls(s3_pattern)"
   ]
  },
  {
   "cell_type": "code",
   "execution_count": 5,
   "metadata": {},
   "outputs": [
    {
     "data": {
      "text/plain": [
       "404"
      ]
     },
     "execution_count": 5,
     "metadata": {},
     "output_type": "execute_result"
    }
   ],
   "source": [
    "len(files)"
   ]
  },
  {
   "cell_type": "code",
   "execution_count": 6,
   "metadata": {},
   "outputs": [
    {
     "name": "stderr",
     "output_type": "stream",
     "text": [
      "100%|██████████| 404/404 [01:03<00:00,  6.38it/s]\n"
     ]
    }
   ],
   "source": [
    "data = []\n",
    "for fn in tqdm(files):\n",
    "    df = s3.read_json(fn, lines=True)\n",
    "    data.extend(df.to_dict(orient='records'))"
   ]
  },
  {
   "cell_type": "code",
   "execution_count": 7,
   "metadata": {},
   "outputs": [],
   "source": [
    "df = pd.DataFrame(data)"
   ]
  },
  {
   "cell_type": "code",
   "execution_count": 8,
   "metadata": {},
   "outputs": [],
   "source": [
    "df['collection_datetime'] = pd.to_datetime(df['collection_datetime'], unit='s')"
   ]
  },
  {
   "cell_type": "code",
   "execution_count": 9,
   "metadata": {},
   "outputs": [],
   "source": [
    "df_sample = df[df['collection_datetime'] <= '2020-01-07']"
   ]
  },
  {
   "cell_type": "code",
   "execution_count": 10,
   "metadata": {},
   "outputs": [
    {
     "data": {
      "text/html": [
       "<div>\n",
       "<style scoped>\n",
       "    .dataframe tbody tr th:only-of-type {\n",
       "        vertical-align: middle;\n",
       "    }\n",
       "\n",
       "    .dataframe tbody tr th {\n",
       "        vertical-align: top;\n",
       "    }\n",
       "\n",
       "    .dataframe thead th {\n",
       "        text-align: right;\n",
       "    }\n",
       "</style>\n",
       "<table border=\"1\" class=\"dataframe\">\n",
       "  <thead>\n",
       "    <tr style=\"text-align: right;\">\n",
       "      <th></th>\n",
       "      <th>image</th>\n",
       "      <th>shareUrl</th>\n",
       "      <th>articles</th>\n",
       "      <th>idsForDedup</th>\n",
       "      <th>id</th>\n",
       "      <th>title</th>\n",
       "      <th>entityNames</th>\n",
       "      <th>collection_datetime</th>\n",
       "      <th>category</th>\n",
       "      <th>session_id</th>\n",
       "    </tr>\n",
       "  </thead>\n",
       "  <tbody>\n",
       "    <tr>\n",
       "      <th>0</th>\n",
       "      <td>{'newsUrl': 'https://www.reuters.com/article/u...</td>\n",
       "      <td>https://trends.google.com/trends/trendingsearc...</td>\n",
       "      <td>[{'articleTitle': 'McDonald&amp;#39;s ousts CEO ov...</td>\n",
       "      <td>[/m/012r4l7l /m/07gyp7, /m/012r4l7l /m/0dq_5, ...</td>\n",
       "      <td>US_lnk_A0qQ5gAwAACTHM_en</td>\n",
       "      <td>McDonald's, Chief Executive, Steve Easterbrook</td>\n",
       "      <td>[McDonald's, Chief Executive, Steve Easterbrook]</td>\n",
       "      <td>2019-11-04 04:49:03</td>\n",
       "      <td>b</td>\n",
       "      <td>1572842942</td>\n",
       "    </tr>\n",
       "    <tr>\n",
       "      <th>1</th>\n",
       "      <td>{'newsUrl': 'https://www.bbc.com/news/business...</td>\n",
       "      <td>https://trends.google.com/trends/trendingsearc...</td>\n",
       "      <td>[{'articleTitle': 'No-one understood our idea,...</td>\n",
       "      <td>[/g/11c3ypc1q3]</td>\n",
       "      <td>US_lnk_uAGS5gAwAAAqVM_en</td>\n",
       "      <td>Airtable</td>\n",
       "      <td>[Airtable]</td>\n",
       "      <td>2019-11-04 04:49:03</td>\n",
       "      <td>b</td>\n",
       "      <td>1572842942</td>\n",
       "    </tr>\n",
       "    <tr>\n",
       "      <th>2</th>\n",
       "      <td>{}</td>\n",
       "      <td>https://trends.google.com/trends/trendingsearc...</td>\n",
       "      <td>[{'articleTitle': 'Oregon Public Employees Ret...</td>\n",
       "      <td>[/m/01xm4b /m/02_7t, /m/01xm4b /m/03jzl9, /m/0...</td>\n",
       "      <td>US_lnk_Tr-O5gAwAADA6M_en</td>\n",
       "      <td>NYSE:MAN, Share, Share price, Finance, Manpowe...</td>\n",
       "      <td>[NYSE:MAN, Share, Share price, Finance, Manpow...</td>\n",
       "      <td>2019-11-04 04:49:03</td>\n",
       "      <td>b</td>\n",
       "      <td>1572842942</td>\n",
       "    </tr>\n",
       "    <tr>\n",
       "      <th>3</th>\n",
       "      <td>{'newsUrl': 'https://rivertonroll.com/news/201...</td>\n",
       "      <td>https://trends.google.com/trends/trendingsearc...</td>\n",
       "      <td>[{'articleTitle': 'SFE Investment Counsel Buys...</td>\n",
       "      <td>[/m/01prdc /m/03jzl9, /m/01prdc /m/05drh, /m/0...</td>\n",
       "      <td>US_lnk_KYtm5gAwAABP3M_en</td>\n",
       "      <td>NYSE:PFE, Pfizer, New York Stock Exchange, Sha...</td>\n",
       "      <td>[NYSE:PFE, Pfizer, New York Stock Exchange, Sh...</td>\n",
       "      <td>2019-11-04 04:49:03</td>\n",
       "      <td>b</td>\n",
       "      <td>1572842942</td>\n",
       "    </tr>\n",
       "    <tr>\n",
       "      <th>4</th>\n",
       "      <td>{}</td>\n",
       "      <td>https://trends.google.com/trends/trendingsearc...</td>\n",
       "      <td>[{'articleTitle': 'How Does ITD Cementation In...</td>\n",
       "      <td>[/g/1dv25c4d /m/015nwb, /g/1dv25c4d /m/01xm4b,...</td>\n",
       "      <td>US_lnk_6z2S5gAwAAB5aM_en</td>\n",
       "      <td>Share price, NSE:ITDCEM, Price–earnings ratio,...</td>\n",
       "      <td>[Share price, NSE:ITDCEM, Price–earnings ratio...</td>\n",
       "      <td>2019-11-04 04:49:03</td>\n",
       "      <td>b</td>\n",
       "      <td>1572842942</td>\n",
       "    </tr>\n",
       "  </tbody>\n",
       "</table>\n",
       "</div>"
      ],
      "text/plain": [
       "                                               image  \\\n",
       "0  {'newsUrl': 'https://www.reuters.com/article/u...   \n",
       "1  {'newsUrl': 'https://www.bbc.com/news/business...   \n",
       "2                                                 {}   \n",
       "3  {'newsUrl': 'https://rivertonroll.com/news/201...   \n",
       "4                                                 {}   \n",
       "\n",
       "                                            shareUrl  \\\n",
       "0  https://trends.google.com/trends/trendingsearc...   \n",
       "1  https://trends.google.com/trends/trendingsearc...   \n",
       "2  https://trends.google.com/trends/trendingsearc...   \n",
       "3  https://trends.google.com/trends/trendingsearc...   \n",
       "4  https://trends.google.com/trends/trendingsearc...   \n",
       "\n",
       "                                            articles  \\\n",
       "0  [{'articleTitle': 'McDonald&#39;s ousts CEO ov...   \n",
       "1  [{'articleTitle': 'No-one understood our idea,...   \n",
       "2  [{'articleTitle': 'Oregon Public Employees Ret...   \n",
       "3  [{'articleTitle': 'SFE Investment Counsel Buys...   \n",
       "4  [{'articleTitle': 'How Does ITD Cementation In...   \n",
       "\n",
       "                                         idsForDedup  \\\n",
       "0  [/m/012r4l7l /m/07gyp7, /m/012r4l7l /m/0dq_5, ...   \n",
       "1                                    [/g/11c3ypc1q3]   \n",
       "2  [/m/01xm4b /m/02_7t, /m/01xm4b /m/03jzl9, /m/0...   \n",
       "3  [/m/01prdc /m/03jzl9, /m/01prdc /m/05drh, /m/0...   \n",
       "4  [/g/1dv25c4d /m/015nwb, /g/1dv25c4d /m/01xm4b,...   \n",
       "\n",
       "                         id  \\\n",
       "0  US_lnk_A0qQ5gAwAACTHM_en   \n",
       "1  US_lnk_uAGS5gAwAAAqVM_en   \n",
       "2  US_lnk_Tr-O5gAwAADA6M_en   \n",
       "3  US_lnk_KYtm5gAwAABP3M_en   \n",
       "4  US_lnk_6z2S5gAwAAB5aM_en   \n",
       "\n",
       "                                               title  \\\n",
       "0     McDonald's, Chief Executive, Steve Easterbrook   \n",
       "1                                           Airtable   \n",
       "2  NYSE:MAN, Share, Share price, Finance, Manpowe...   \n",
       "3  NYSE:PFE, Pfizer, New York Stock Exchange, Sha...   \n",
       "4  Share price, NSE:ITDCEM, Price–earnings ratio,...   \n",
       "\n",
       "                                         entityNames collection_datetime  \\\n",
       "0   [McDonald's, Chief Executive, Steve Easterbrook] 2019-11-04 04:49:03   \n",
       "1                                         [Airtable] 2019-11-04 04:49:03   \n",
       "2  [NYSE:MAN, Share, Share price, Finance, Manpow... 2019-11-04 04:49:03   \n",
       "3  [NYSE:PFE, Pfizer, New York Stock Exchange, Sh... 2019-11-04 04:49:03   \n",
       "4  [Share price, NSE:ITDCEM, Price–earnings ratio... 2019-11-04 04:49:03   \n",
       "\n",
       "  category  session_id  \n",
       "0        b  1572842942  \n",
       "1        b  1572842942  \n",
       "2        b  1572842942  \n",
       "3        b  1572842942  \n",
       "4        b  1572842942  "
      ]
     },
     "execution_count": 10,
     "metadata": {},
     "output_type": "execute_result"
    }
   ],
   "source": [
    "df_sample.head()"
   ]
  },
  {
   "cell_type": "code",
   "execution_count": 11,
   "metadata": {},
   "outputs": [
    {
     "name": "stderr",
     "output_type": "stream",
     "text": [
      "20787it [00:02, 8984.67it/s]\n"
     ]
    }
   ],
   "source": [
    "data = []\n",
    "for _, row in tqdm(df_sample.iterrows()):\n",
    "    category = row['category']\n",
    "    for (_id, _ent) in zip(row['idsForDedup'], row['entityNames']):\n",
    "        data.append({\n",
    "            'category' : category,\n",
    "            'id' : _id,\n",
    "            'search' : _ent\n",
    "        })"
   ]
  },
  {
   "cell_type": "code",
   "execution_count": 12,
   "metadata": {},
   "outputs": [
    {
     "data": {
      "text/plain": [
       "74886"
      ]
     },
     "execution_count": 12,
     "metadata": {},
     "output_type": "execute_result"
    }
   ],
   "source": [
    "entitys = pd.DataFrame(data)\n",
    "len(entitys)"
   ]
  },
  {
   "cell_type": "code",
   "execution_count": 13,
   "metadata": {},
   "outputs": [
    {
     "data": {
      "text/plain": [
       "16723"
      ]
     },
     "execution_count": 13,
     "metadata": {},
     "output_type": "execute_result"
    }
   ],
   "source": [
    "entitys.search.nunique()"
   ]
  },
  {
   "cell_type": "markdown",
   "metadata": {},
   "source": [
    "There is certainly overlap between the 16K unique searches and the almost 75K rows of entity and category data."
   ]
  },
  {
   "cell_type": "code",
   "execution_count": 14,
   "metadata": {},
   "outputs": [
    {
     "data": {
      "text/plain": [
       "array(['b', 'm', 'e', 't', 's', 'h'], dtype=object)"
      ]
     },
     "execution_count": 14,
     "metadata": {},
     "output_type": "execute_result"
    }
   ],
   "source": [
    "entitys.category.unique()"
   ]
  },
  {
   "cell_type": "code",
   "execution_count": 15,
   "metadata": {},
   "outputs": [
    {
     "data": {
      "text/plain": [
       "h    14830\n",
       "e    13847\n",
       "s    11857\n",
       "m    11854\n",
       "t    11568\n",
       "b    10930\n",
       "Name: category, dtype: int64"
      ]
     },
     "execution_count": 15,
     "metadata": {},
     "output_type": "execute_result"
    }
   ],
   "source": [
    "entitys.category.value_counts()"
   ]
  },
  {
   "cell_type": "markdown",
   "metadata": {},
   "source": [
    "All search terms in unique categories."
   ]
  },
  {
   "cell_type": "code",
   "execution_count": 16,
   "metadata": {},
   "outputs": [],
   "source": [
    "entitys.drop_duplicates(subset=['category', 'search'],\n",
    "                        inplace=True)"
   ]
  },
  {
   "cell_type": "code",
   "execution_count": 17,
   "metadata": {},
   "outputs": [],
   "source": [
    "search2count = entitys.search.value_counts()"
   ]
  },
  {
   "cell_type": "code",
   "execution_count": 18,
   "metadata": {},
   "outputs": [
    {
     "data": {
      "text/plain": [
       "'SIE San Diego Studio'"
      ]
     },
     "execution_count": 18,
     "metadata": {},
     "output_type": "execute_result"
    }
   ],
   "source": [
    "unique_searches = search2count[search2count == 1].index.tolist()\n",
    "unique_searches[0]"
   ]
  },
  {
   "cell_type": "code",
   "execution_count": 19,
   "metadata": {},
   "outputs": [
    {
     "data": {
      "text/plain": [
       "14.369490790899242"
      ]
     },
     "execution_count": 19,
     "metadata": {},
     "output_type": "execute_result"
    }
   ],
   "source": [
    "entitys.search.str.len().mean()"
   ]
  },
  {
   "cell_type": "code",
   "execution_count": 20,
   "metadata": {},
   "outputs": [
    {
     "data": {
      "text/plain": [
       "2.141018418201517"
      ]
     },
     "execution_count": 20,
     "metadata": {},
     "output_type": "execute_result"
    }
   ],
   "source": [
    "entitys.search.str.split(' ').str.len().mean()"
   ]
  },
  {
   "cell_type": "code",
   "execution_count": 21,
   "metadata": {},
   "outputs": [],
   "source": [
    "cat_search = entitys[entitys.search.isin(unique_searches)]"
   ]
  },
  {
   "cell_type": "markdown",
   "metadata": {},
   "source": [
    "What is the breakdown of unique searches per category?"
   ]
  },
  {
   "cell_type": "code",
   "execution_count": 22,
   "metadata": {},
   "outputs": [
    {
     "data": {
      "text/plain": [
       "e    3284\n",
       "b    2653\n",
       "t    1964\n",
       "m    1515\n",
       "s    1141\n",
       "h    1092\n",
       "Name: category, dtype: int64"
      ]
     },
     "execution_count": 22,
     "metadata": {},
     "output_type": "execute_result"
    }
   ],
   "source": [
    "cat_search.category.value_counts()"
   ]
  },
  {
   "cell_type": "code",
   "execution_count": 23,
   "metadata": {},
   "outputs": [
    {
     "name": "stdout",
     "output_type": "stream",
     "text": [
      "b - Business\n",
      "['Autoliv', 'Hang Seng Index', 'NASDAQ:EYPT', 'Non-stop flight']\n",
      "*****************************************************************************\n",
      "m - Health\n",
      "['Cervical cancer', 'Alcoholic hepatitis', 'Kaiser Family Foundation', 'Shelby County']\n",
      "*****************************************************************************\n",
      "e - Entertainment\n",
      "['WWE Live from Madison Square Garden', 'Gus Fring', 'Priscilla Presley', 'Jennifer Syme']\n",
      "*****************************************************************************\n",
      "t - Science and Tech\n",
      "['Workplace by Facebook', 'Sindel', 'Phoenix Point', 'Shinra']\n",
      "*****************************************************************************\n",
      "s - Sports\n",
      "['Cam Reddish', 'Taylor Townsend', 'Face mask', 'Ralf Rangnick']\n",
      "*****************************************************************************\n",
      "h - Top Stories\n",
      "['York County', 'Houston Police Department', 'Mail carrier', 'Surfers Paradise']\n",
      "*****************************************************************************\n"
     ]
    }
   ],
   "source": [
    "# examples per category\n",
    "for cat in cat_search.category.unique():\n",
    "    print(f\"{cat} - {cat2desc.get(cat)}\")\n",
    "    print(\n",
    "        cat_search[cat_search.category == cat]\n",
    "            .sample(4, random_state=303)\n",
    "            .search.tolist()\n",
    "    )\n",
    "    print('*' * 77)"
   ]
  },
  {
   "cell_type": "code",
   "execution_count": 24,
   "metadata": {},
   "outputs": [],
   "source": [
    "cat_search.to_csv(fn_out, index=False)"
   ]
  },
  {
   "cell_type": "code",
   "execution_count": 25,
   "metadata": {},
   "outputs": [
    {
     "data": {
      "text/plain": [
       "14.62202764185767"
      ]
     },
     "execution_count": 25,
     "metadata": {},
     "output_type": "execute_result"
    }
   ],
   "source": [
    "cat_search.search.str.len().mean()"
   ]
  },
  {
   "cell_type": "code",
   "execution_count": 26,
   "metadata": {},
   "outputs": [
    {
     "data": {
      "text/plain": [
       "1.036913039745901"
      ]
     },
     "execution_count": 26,
     "metadata": {},
     "output_type": "execute_result"
    }
   ],
   "source": [
    "cat_search.search.str.split('-').str.len().mean()"
   ]
  },
  {
   "cell_type": "code",
   "execution_count": null,
   "metadata": {},
   "outputs": [],
   "source": []
  }
 ],
 "metadata": {
  "kernelspec": {
   "display_name": "Python 3",
   "language": "python",
   "name": "python3"
  },
  "language_info": {
   "codemirror_mode": {
    "name": "ipython",
    "version": 3
   },
   "file_extension": ".py",
   "mimetype": "text/x-python",
   "name": "python",
   "nbconvert_exporter": "python",
   "pygments_lexer": "ipython3",
   "version": "3.8.1"
  }
 },
 "nbformat": 4,
 "nbformat_minor": 4
}
