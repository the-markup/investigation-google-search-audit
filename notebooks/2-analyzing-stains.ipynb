{
 "cells": [
  {
   "cell_type": "markdown",
   "metadata": {},
   "source": [
    "# Analysis\n",
    "Author: Leon Yin<br>\n",
    "Date: 2020-2-03<br>\n",
    "\n",
    "This notebook analyses the results of the element categorization and area estimations from the last notebook."
   ]
  },
  {
   "cell_type": "code",
   "execution_count": 1,
   "metadata": {},
   "outputs": [],
   "source": [
    "%load_ext autoreload\n",
    "%autoreload 2\n",
    "%matplotlib inline"
   ]
  },
  {
   "cell_type": "code",
   "execution_count": 2,
   "metadata": {},
   "outputs": [],
   "source": [
    "import os\n",
    "import sys\n",
    "import time\n",
    "import glob\n",
    "import tempfile\n",
    "import warnings\n",
    "import inspect\n",
    "from collections import Counter\n",
    "from multiprocessing import Pool\n",
    "warnings.filterwarnings('ignore')\n",
    "\n",
    "import numpy as np\n",
    "import pandas as pd\n",
    "import matplotlib.pyplot as plt\n",
    "from matplotlib.patches import Patch\n",
    "from bs4 import BeautifulSoup\n",
    "from tqdm import tqdm\n",
    "import s3\n",
    "from IPython.display import display\n",
    "\n",
    "sys.path.append(\"..\")\n",
    "from utils.config import (\n",
    "    google_domains,\n",
    "    cat2color\n",
    ")"
   ]
  },
  {
   "cell_type": "markdown",
   "metadata": {},
   "source": [
    "## Read the intermediates"
   ]
  },
  {
   "cell_type": "code",
   "execution_count": 3,
   "metadata": {},
   "outputs": [],
   "source": [
    "data_dir_metadata = '../data/intermediary/google_search/'"
   ]
  },
  {
   "cell_type": "code",
   "execution_count": 4,
   "metadata": {},
   "outputs": [
    {
     "data": {
      "text/plain": [
       "14976"
      ]
     },
     "execution_count": 4,
     "metadata": {},
     "output_type": "execute_result"
    }
   ],
   "source": [
    "metadata_files = glob.glob(\n",
    "    os.path.join(data_dir_metadata, 'iPhone-X/*/*/*/*/json/parsed_meta.ndjson')\n",
    ")\n",
    "len(metadata_files)"
   ]
  },
  {
   "cell_type": "markdown",
   "metadata": {},
   "source": [
    "## Calculations"
   ]
  },
  {
   "cell_type": "code",
   "execution_count": 5,
   "metadata": {},
   "outputs": [
    {
     "data": {
      "application/javascript": [
       "MathJax.Hub.Config({\n",
       "    TeX: { equationNumbers: { autoNumber: \"AMS\" } }\n",
       "});\n"
      ],
      "text/plain": [
       "<IPython.core.display.Javascript object>"
      ]
     },
     "metadata": {},
     "output_type": "display_data"
    }
   ],
   "source": [
    "%%javascript\n",
    "MathJax.Hub.Config({\n",
    "    TeX: { equationNumbers: { autoNumber: \"AMS\" } }\n",
    "});"
   ]
  },
  {
   "cell_type": "markdown",
   "metadata": {},
   "source": [
    "\\begin{equation}\n",
    "X_{goog} = \\frac{g}{g + o}\n",
    "\\end{equation}\n",
    "\n",
    "\\begin{equation}\n",
    "X_{goog} = \\frac{g + ad}{g + o + ad}\n",
    "\\end{equation}\n",
    "\n",
    "\\begin{equation}\n",
    "X_{goog} = \\frac{g + amp}{g + o + amp}\n",
    "\\end{equation}\n",
    "\n",
    "\\begin{equation}\n",
    "X_{goog} = \\frac{g + amp + ad}{g + o + amp + ad}\n",
    "\\end{equation}\n",
    "\n",
    "\\begin{equation}\n",
    "X_{goog} = \\frac{g}{g + o + amp + ad}\n",
    "\\end{equation}\n",
    "\n",
    "\\begin{equation}\n",
    "X_{o} = \\frac{o}{g + o + amp + ad}\n",
    "\\end{equation}\n",
    "\n",
    "\n",
    "Where <br>\n",
    "&nbsp;&nbsp;&nbsp;&nbsp; $X_{goog}$: is the percentage of pixels that occupy Google elements.<br>\n",
    "&nbsp;&nbsp;&nbsp;&nbsp; $g$: is the total sum of visable pixels occupied by Google links and answers.<br>\n",
    "&nbsp;&nbsp;&nbsp;&nbsp; $o$: is the total sum of visable pixels occupied by Organic links.<br>\n",
    "&nbsp;&nbsp;&nbsp;&nbsp; $ad$: is the total sum of visable pixels occupied by ads.<br>\n",
    "&nbsp;&nbsp;&nbsp;&nbsp; $amp$: is the total sum of visable pixels occupied by AMP.<br>"
   ]
  },
  {
   "cell_type": "code",
   "execution_count": 6,
   "metadata": {},
   "outputs": [],
   "source": [
    "def read_file(fn):\n",
    "    \"\"\"A json reader, this function allows parallelization\"\"\"\n",
    "    df_merged = pd.read_json(fn, lines=True, orient='records')\n",
    "    return df_merged.to_dict(orient='records')"
   ]
  },
  {
   "cell_type": "code",
   "execution_count": 7,
   "metadata": {},
   "outputs": [
    {
     "name": "stderr",
     "output_type": "stream",
     "text": [
      "100%|██████████| 14976/14976 [00:28<00:00, 533.29it/s]\n"
     ]
    }
   ],
   "source": [
    "n_processes = 12\n",
    "\n",
    "data = []\n",
    "with Pool(n_processes) as pool:\n",
    "    for record in tqdm(pool.imap_unordered(read_file, \n",
    "                                           metadata_files), \n",
    "                       total=len(metadata_files)):\n",
    "        data.extend(record)"
   ]
  },
  {
   "cell_type": "code",
   "execution_count": 8,
   "metadata": {},
   "outputs": [
    {
     "data": {
      "text/plain": [
       "text                                  Is Avastin available on NHS?\n",
       "link                                                          None\n",
       "domain                                                  google.com\n",
       "xpath            /html/body/div[10]/div/div[6]/div/div[3]/div/d...\n",
       "element_class                                       mWyH1d|kno-atc\n",
       "category                                           answer-expand_2\n",
       "element                                                        NaN\n",
       "tag                                                            div\n",
       "attrs            {'jsname': 'ARU61', 'class': ['mWyH1d', 'kno-a...\n",
       "dimensions                        {'height': 48.0, 'width': 347.0}\n",
       "location                                       {'x': 8, 'y': 2857}\n",
       "area                                                             0\n",
       "area_page                                                    16656\n",
       "fn_input         ../data/input/google_search/iPhone-X/2019/11/2...\n",
       "Name: 0, dtype: object"
      ]
     },
     "execution_count": 8,
     "metadata": {},
     "output_type": "execute_result"
    }
   ],
   "source": [
    "df = pd.DataFrame(data)\n"
   ]
  },
  {
   "cell_type": "code",
   "execution_count": 115,
   "metadata": {},
   "outputs": [],
   "source": [
    "import json"
   ]
  },
  {
   "cell_type": "code",
   "execution_count": 153,
   "metadata": {},
   "outputs": [
    {
     "data": {
      "text/plain": [
       "0"
      ]
     },
     "execution_count": 153,
     "metadata": {},
     "output_type": "execute_result"
    }
   ],
   "source": [
    "len(df[~df.element.isnull()])"
   ]
  },
  {
   "cell_type": "code",
   "execution_count": 150,
   "metadata": {},
   "outputs": [
    {
     "name": "stdout",
     "output_type": "stream",
     "text": [
      "{\n",
      "  \"text\": \"How a Car Works \\u203a basics \\u203a how-a-...How a diesel engine works | How a Car WorksTraditionally, diesel engines have always been seen as noisy, smelly and underpowered engines of little use other than in trucks, taxis and\\u00a0...\",\n",
      "  \"link\": \"https://www.howacarworks.com/basics/how-a-diesel-engine-works\",\n",
      "  \"domain\": \"howacarworks.com\",\n",
      "  \"xpath\": \"/html/body/div[10]/div/div[6]/div/div[3]/div/div[7]/div[2]/div\",\n",
      "  \"element_class\": \"mnr-c|xpd|O9g5cc|uUPGi\",\n",
      "  \"category\": \"organic-search_result\",\n",
      "  \"element\": NaN,\n",
      "  \"tag\": \"div\",\n",
      "  \"attrs\": {\n",
      "    \"class\": [\n",
      "      \"mnr-c\",\n",
      "      \"xpd\",\n",
      "      \"O9g5cc\",\n",
      "      \"uUPGi\"\n",
      "    ]\n",
      "  },\n",
      "  \"dimensions\": {\n",
      "    \"height\": 225.0,\n",
      "    \"width\": 347.0\n",
      "  },\n",
      "  \"location\": {\n",
      "    \"x\": 8,\n",
      "    \"y\": 4545\n",
      "  },\n",
      "  \"area\": 0.0,\n",
      "  \"area_page\": 78075.0,\n",
      "  \"fn_input\": \"../data/input/google_search/iPhone-X/2020/01/02/Diesel-engine/html/webpage_raw.html\",\n",
      "  \"label\": \"organic\",\n",
      "  \"category_standard\": \"organic\"\n",
      "}\n"
     ]
    }
   ],
   "source": [
    "print(json.dumps(df.iloc[-1].to_dict(), indent=2))"
   ]
  },
  {
   "cell_type": "code",
   "execution_count": 9,
   "metadata": {},
   "outputs": [],
   "source": [
    "def label_data(category : str):\n",
    "    \"\"\"The label is the first word of each category\"\"\"\n",
    "    label = category.split('-')[0]\n",
    "    return label"
   ]
  },
  {
   "cell_type": "code",
   "execution_count": 10,
   "metadata": {},
   "outputs": [],
   "source": [
    "df['label'] = df.category.apply(label_data)"
   ]
  },
  {
   "cell_type": "code",
   "execution_count": 11,
   "metadata": {},
   "outputs": [
    {
     "data": {
      "text/plain": [
       "link       634773\n",
       "answer     224020\n",
       "organic    219328\n",
       "amp         79395\n",
       "ads          4468\n",
       "Name: label, dtype: int64"
      ]
     },
     "execution_count": 11,
     "metadata": {},
     "output_type": "execute_result"
    }
   ],
   "source": [
    "df.label.value_counts()"
   ]
  },
  {
   "cell_type": "code",
   "execution_count": 12,
   "metadata": {},
   "outputs": [
    {
     "data": {
      "text/plain": [
       "1161984"
      ]
     },
     "execution_count": 12,
     "metadata": {},
     "output_type": "execute_result"
    }
   ],
   "source": [
    "len(df)"
   ]
  },
  {
   "cell_type": "markdown",
   "metadata": {},
   "source": [
    "## Standardizing categories to be more human readible"
   ]
  },
  {
   "cell_type": "code",
   "execution_count": 13,
   "metadata": {},
   "outputs": [],
   "source": [
    "cat2catstd = {\n",
    "    'organic-search_result_1a' : 'organic-search_result',\n",
    "     'organic-search_result_2a' : 'organic-search_result',\n",
    "    'organic-search_result_2c': 'organic-search_result',\n",
    "    'organic-search_result_1b' : 'organic-search_result',\n",
    "    'organic-search_result_2b': 'organic-search_result',\n",
    "    'amp-search_result_2' : 'amp-search_result',\n",
    "    'amp-search_result_1' : 'amp-search_result',\n",
    "    'organic-tweet_2 ': 'organic-tweet',\n",
    "    'answer-expand_1' : 'answer-expand',\n",
    "    'answer-expand_2' :'answer-expand',\n",
    "    'answer-expand_3' :'answer-expand',\n",
    "    'link-google_2' : 'link-google',\n",
    "    'organic-tweet_2' : 'organic-tweet',\n",
    "    'link-button_2' : 'link-button',\n",
    "    'answer-knowledge_panel_answer_1' : 'answer-knowledge_panel_answer',\n",
    "    'answer-knowledge_panel_answer_2' : 'answer-knowledge_panel_answer',\n",
    "    'answer-date_2' : 'answer-date'\n",
    "    \n",
    "}"
   ]
  },
  {
   "cell_type": "code",
   "execution_count": 14,
   "metadata": {},
   "outputs": [],
   "source": [
    "df.category.replace(cat2catstd, inplace=True)"
   ]
  },
  {
   "cell_type": "code",
   "execution_count": 15,
   "metadata": {},
   "outputs": [
    {
     "data": {
      "text/plain": [
       "link-google                       308385\n",
       "answer-knowledge_graph_factoid    105157\n",
       "organic-search_result             104532\n",
       "link-img_reverse                  103539\n",
       "answer-expand                      99095\n",
       "organic                            93779\n",
       "link-youtube                       79345\n",
       "link-button                        60930\n",
       "link-knowledge_panel_tab           56270\n",
       "amp-card                           54413\n",
       "amp-search_result                  24121\n",
       "organic-tweet                      21017\n",
       "answer-knowledge_panel_answer      12974\n",
       "link-load_more                     12528\n",
       "link-local_people_also_search       2565\n",
       "link-knowledge_panel_title          1766\n",
       "ads-google_ad_services              1710\n",
       "link-topic                          1505\n",
       "link-google_map                     1361\n",
       "answer-ugc                          1107\n",
       "link-video_top_answer               1068\n",
       "answer-finance_stocks               1008\n",
       "link-filter                          954\n",
       "answer-medical                       941\n",
       "amp-visual_stories                   861\n",
       "link-watchlist                       768\n",
       "answer-sport_stats                   755\n",
       "ads-text                             712\n",
       "answer-courses                       710\n",
       "ads-general                          670\n",
       "link-filter_product_refinement       667\n",
       "answer-dictionary                    644\n",
       "ads-aria                             550\n",
       "link-local_google_maps_results       485\n",
       "link-knowlege_panel_owner_post       480\n",
       "link-site_search                     433\n",
       "link-filter_refinement               422\n",
       "link-local_questions                 402\n",
       "link-google_alt                      399\n",
       "ads-merchant                         387\n",
       "ads-product                          377\n",
       "answer-local_hours_expand            345\n",
       "link-movie_showtimes                 318\n",
       "answer-knowledge_health              295\n",
       "answer-quote                         219\n",
       "answer-tv_episodes                   194\n",
       "answer-local_popular_times           149\n",
       "answer-sports_table                  137\n",
       "answer-date                           97\n",
       "answer-food_nutrients                 92\n",
       "Name: category, dtype: int64"
      ]
     },
     "execution_count": 15,
     "metadata": {},
     "output_type": "execute_result"
    }
   ],
   "source": [
    "df.category.value_counts().head(50)"
   ]
  },
  {
   "cell_type": "code",
   "execution_count": 16,
   "metadata": {},
   "outputs": [],
   "source": [
    "link2subcat = {\n",
    "    'link-site_search' : 'google-search',\n",
    "    'link-movie_trailer' : 'google-video',\n",
    "    'link-video_top_answer' : 'google-video',\n",
    "    'link-local_google_maps_results' : 'google-maps',\n",
    "    'link-google_map' : 'google-maps',\n",
    "    'link-img_reverse' : 'google-images',\n",
    "    'link-knowledge_panel_tab' : 'google-knowledge-panel-links',\n",
    "    'link-knowledge_panel_title' : 'google-knowledge-panel-links',\n",
    "    'link-youtube' : 'google-video'\n",
    "}"
   ]
  },
  {
   "cell_type": "code",
   "execution_count": 17,
   "metadata": {},
   "outputs": [],
   "source": [
    "def standardize_category(row):\n",
    "    '''Logic to assign a standardized category'''\n",
    "    category = row['category']\n",
    "    label = row['label']\n",
    "    \n",
    "    if label == 'amp':\n",
    "        subcat = category\n",
    "    elif label == 'link':\n",
    "        subcat = link2subcat.get(category, 'google-misc')\n",
    "    elif label == 'answer':\n",
    "        if 'expand' in category:\n",
    "            subcat = 'google-exapandable-answer'\n",
    "        else:\n",
    "            subcat = 'google-answer'\n",
    "    if label in ['organic', 'ads']:\n",
    "        subcat = label\n",
    "    return subcat"
   ]
  },
  {
   "cell_type": "code",
   "execution_count": 18,
   "metadata": {},
   "outputs": [],
   "source": [
    "df['category_standard'] = df.apply(standardize_category, axis=1)"
   ]
  },
  {
   "cell_type": "code",
   "execution_count": 19,
   "metadata": {},
   "outputs": [],
   "source": [
    "# makethese google search\n",
    "df.loc[(df.link.str[:9] == '/search?q') &\n",
    "       (df.label == 'link'), 'category_standard'] = 'google-search'"
   ]
  },
  {
   "cell_type": "code",
   "execution_count": 20,
   "metadata": {},
   "outputs": [],
   "source": [
    "index2human = {\n",
    "    'g_over_g_org' : 'E1: g / (g + o)',\n",
    "    'g_a_over_g_org_a' : 'E2: (g + ad) / (g + o + ad)',\n",
    "    'g_amp_over_g_org_amp' : 'E3: (g + amp) / (g + o + amp)',\n",
    "    'g_amp_ad_over_g_org_amp_ad' : 'E4: (g + amp + ad) / (g + o + amp + ad)',\n",
    "    'g_over_all' : 'E5: g / (g + o + ads + amp)',\n",
    "}\n",
    "\n",
    "def various_equations(df, col='area'):\n",
    "    ad = df[df.label == 'ads'][col].sum()\n",
    "    amp = df[df.label == 'amp'][col].sum()\n",
    "    o = df[df.label == 'organic'][col].sum()\n",
    "    g = df[(df.label == 'link') | \n",
    "           (df.label == 'answer')][col].sum()\n",
    "    data = dict(\n",
    "        g_over_g_org = g / (g + o),\n",
    "        g_a_over_g_org_a = (g + ad) / (g + ad + o),\n",
    "        g_amp_over_g_org_amp = (g + amp) / (g + o + amp + ad),\n",
    "        g_amp_ad_over_g_org_amp_ad = (g + amp + ad) / (g + o + amp + ad),\n",
    "        g_over_all = g / (g + ad + o + amp),\n",
    "    )\n",
    "    \n",
    "    data= {index2human.get(k) : v for  k, v in data.items()}\n",
    "    \n",
    "    return data"
   ]
  },
  {
   "cell_type": "code",
   "execution_count": 21,
   "metadata": {},
   "outputs": [
    {
     "data": {
      "text/plain": [
       "{'E1: g / (g + o)': 0.7720123783904628,\n",
       " 'E2: (g + ad) / (g + o + ad)': 0.7889870911636907,\n",
       " 'E3: (g + amp) / (g + o + amp)': 0.7499842898891196,\n",
       " 'E4: (g + amp + ad) / (g + o + amp + ad)': 0.8151924394760849,\n",
       " 'E5: g / (g + o + ads + amp)': 0.6257959240829184}"
      ]
     },
     "execution_count": 21,
     "metadata": {},
     "output_type": "execute_result"
    }
   ],
   "source": [
    "# first-glance\n",
    "first_glance_perc= various_equations(df, 'area')\n",
    "first_glance_perc"
   ]
  },
  {
   "cell_type": "code",
   "execution_count": 22,
   "metadata": {},
   "outputs": [
    {
     "data": {
      "text/plain": [
       "{'E1: g / (g + o)': 0.48096883618089004,\n",
       " 'E2: (g + ad) / (g + o + ad)': 0.4867257975463684,\n",
       " 'E3: (g + amp) / (g + o + amp)': 0.5469824750248341,\n",
       " 'E4: (g + amp + ad) / (g + o + amp + ad)': 0.5565650097682001,\n",
       " 'E5: g / (g + o + ads + amp)': 0.4109163881496792}"
      ]
     },
     "execution_count": 22,
     "metadata": {},
     "output_type": "execute_result"
    }
   ],
   "source": [
    "# full page\n",
    "full_page_perc = various_equations(df, 'area_page')\n",
    "full_page_perc"
   ]
  },
  {
   "cell_type": "code",
   "execution_count": 23,
   "metadata": {},
   "outputs": [
    {
     "data": {
      "text/html": [
       "<div>\n",
       "<style scoped>\n",
       "    .dataframe tbody tr th:only-of-type {\n",
       "        vertical-align: middle;\n",
       "    }\n",
       "\n",
       "    .dataframe tbody tr th {\n",
       "        vertical-align: top;\n",
       "    }\n",
       "\n",
       "    .dataframe thead th {\n",
       "        text-align: right;\n",
       "    }\n",
       "</style>\n",
       "<table border=\"1\" class=\"dataframe\">\n",
       "  <thead>\n",
       "    <tr style=\"text-align: right;\">\n",
       "      <th></th>\n",
       "      <th>area_fg</th>\n",
       "      <th>area_full</th>\n",
       "    </tr>\n",
       "  </thead>\n",
       "  <tbody>\n",
       "    <tr>\n",
       "      <th>E1: g / (g + o)</th>\n",
       "      <td>0.772012</td>\n",
       "      <td>0.480969</td>\n",
       "    </tr>\n",
       "    <tr>\n",
       "      <th>E2: (g + ad) / (g + o + ad)</th>\n",
       "      <td>0.788987</td>\n",
       "      <td>0.486726</td>\n",
       "    </tr>\n",
       "    <tr>\n",
       "      <th>E3: (g + amp) / (g + o + amp)</th>\n",
       "      <td>0.749984</td>\n",
       "      <td>0.546982</td>\n",
       "    </tr>\n",
       "    <tr>\n",
       "      <th>E4: (g + amp + ad) / (g + o + amp + ad)</th>\n",
       "      <td>0.815192</td>\n",
       "      <td>0.556565</td>\n",
       "    </tr>\n",
       "    <tr>\n",
       "      <th>E5: g / (g + o + ads + amp)</th>\n",
       "      <td>0.625796</td>\n",
       "      <td>0.410916</td>\n",
       "    </tr>\n",
       "  </tbody>\n",
       "</table>\n",
       "</div>"
      ],
      "text/plain": [
       "                                          area_fg  area_full\n",
       "E1: g / (g + o)                          0.772012   0.480969\n",
       "E2: (g + ad) / (g + o + ad)              0.788987   0.486726\n",
       "E3: (g + amp) / (g + o + amp)            0.749984   0.546982\n",
       "E4: (g + amp + ad) / (g + o + amp + ad)  0.815192   0.556565\n",
       "E5: g / (g + o + ads + amp)              0.625796   0.410916"
      ]
     },
     "execution_count": 23,
     "metadata": {},
     "output_type": "execute_result"
    }
   ],
   "source": [
    "results = pd.DataFrame.from_dict(first_glance_perc, \n",
    "                       orient='index', \n",
    "                       columns=['area_fg']).join(\n",
    "    pd.DataFrame.from_dict(full_page_perc, \n",
    "                       orient='index', \n",
    "                       columns=['area_full']))\n",
    "results"
   ]
  },
  {
   "cell_type": "code",
   "execution_count": 24,
   "metadata": {},
   "outputs": [
    {
     "data": {
      "text/plain": [
       "area_fg      0.750394\n",
       "area_full    0.496432\n",
       "dtype: float64"
      ]
     },
     "execution_count": 24,
     "metadata": {},
     "output_type": "execute_result"
    }
   ],
   "source": [
    "results.mean()"
   ]
  },
  {
   "cell_type": "code",
   "execution_count": 25,
   "metadata": {},
   "outputs": [
    {
     "data": {
      "text/plain": [
       "label\n",
       "link       0.394926\n",
       "answer     0.230870\n",
       "organic    0.184808\n",
       "amp        0.124188\n",
       "ads        0.065208\n",
       "Name: area, dtype: float64"
      ]
     },
     "execution_count": 25,
     "metadata": {},
     "output_type": "execute_result"
    }
   ],
   "source": [
    "# first glance\n",
    "df.groupby('label') \\\n",
    "  .area.sum() \\\n",
    "  .sort_values(ascending=False) / df.area.sum()"
   ]
  },
  {
   "cell_type": "code",
   "execution_count": 26,
   "metadata": {},
   "outputs": [
    {
     "data": {
      "text/plain": [
       "label\n",
       "organic    0.443435\n",
       "link       0.277751\n",
       "amp        0.136066\n",
       "answer     0.133166\n",
       "ads        0.009583\n",
       "Name: area_page, dtype: float64"
      ]
     },
     "execution_count": 26,
     "metadata": {},
     "output_type": "execute_result"
    }
   ],
   "source": [
    "# full page\n",
    "df.groupby('label') \\\n",
    "  .area_page.sum() \\\n",
    "  .sort_values(ascending=False)/ df.area_page.sum()"
   ]
  },
  {
   "cell_type": "markdown",
   "metadata": {},
   "source": [
    "## Breakdown of area and frequency for each category"
   ]
  },
  {
   "cell_type": "code",
   "execution_count": 27,
   "metadata": {},
   "outputs": [],
   "source": [
    "# get area per standardized category\n",
    "cat_area_ = (df.groupby('category_standard')\n",
    "               .area_page.sum()\n",
    "               .divide(df.area_page.sum()))\n",
    "\n",
    "cat_area =(df.groupby('category_standard')\n",
    "             .area.sum()\n",
    "             .divide(df.area.sum()))"
   ]
  },
  {
   "cell_type": "code",
   "execution_count": 28,
   "metadata": {},
   "outputs": [
    {
     "data": {
      "text/plain": [
       "category_standard\n",
       "ads                             0.065208\n",
       "amp-card                        0.118222\n",
       "amp-search_result               0.003404\n",
       "amp-visual_stories              0.002563\n",
       "google-answer                   0.203040\n",
       "google-exapandable-answer       0.027830\n",
       "google-images                   0.148503\n",
       "google-knowledge-panel-links    0.081091\n",
       "google-maps                     0.014582\n",
       "google-misc                     0.101553\n",
       "google-search                   0.029128\n",
       "google-video                    0.020068\n",
       "organic                         0.184808\n",
       "Name: area, dtype: float64"
      ]
     },
     "execution_count": 28,
     "metadata": {},
     "output_type": "execute_result"
    }
   ],
   "source": [
    "(df.groupby('category_standard')\n",
    "             .area.sum()\n",
    "             .divide(df.area.sum()))"
   ]
  },
  {
   "cell_type": "code",
   "execution_count": 31,
   "metadata": {},
   "outputs": [],
   "source": [
    "n_pages = df[df.area != 0].fn_input.nunique()"
   ]
  },
  {
   "cell_type": "code",
   "execution_count": 32,
   "metadata": {},
   "outputs": [],
   "source": [
    "# number of elements on first glance\n",
    "cat_count = Counter()\n",
    "for fn, _df in df[df.area != 0].groupby('fn_input'):\n",
    "    cat_count.update(_df.category_standard.unique())\n",
    "df_wc = pd.DataFrame(cat_count.most_common(50),\n",
    "                     columns=['category_standard', 'count'])\n",
    "df_wc['freq'] = df_wc['count'] / n_pages \n",
    "\n",
    "# number of elements on full page\n",
    "cat_count_ = Counter()\n",
    "for fn, _df in df[df.area_page != 0].groupby('fn_input'):\n",
    "    cat_count_.update(_df.category_standard.unique())\n",
    "df_wc_ = pd.DataFrame(cat_count_.most_common(50),\n",
    "                     columns=['category_standard', 'count_page'])\n",
    "df_wc_['freq_page'] = df_wc_['count_page'] / n_pages "
   ]
  },
  {
   "cell_type": "code",
   "execution_count": 33,
   "metadata": {},
   "outputs": [],
   "source": [
    "cat_amp = df[df.label == 'amp'].category_standard.unique()\n",
    "cat_sd = df[df.label == 'link'].category_standard.unique()\n",
    "cat_rt = df[df.label == 'answer'].category_standard.unique()\n",
    "cat_ad = df[df.label == 'ads'].category_standard.unique()\n",
    "cat_og = df[df.label == 'organic'].category_standard.unique()"
   ]
  },
  {
   "cell_type": "code",
   "execution_count": 34,
   "metadata": {},
   "outputs": [],
   "source": [
    "def format_number(x):\n",
    "    \"\"\"Makes it nice for printing\"\"\"\n",
    "    x = x * 100\n",
    "    x = round(x, 2)\n",
    "    return f\"{x}%\""
   ]
  },
  {
   "cell_type": "code",
   "execution_count": 35,
   "metadata": {},
   "outputs": [],
   "source": [
    "def breakdown(categories : list(), \n",
    "              col='category_standard'):\n",
    "    \"\"\"Shows the area coverage and page frequency for each category  \"\"\"\n",
    "    full_page =df_wc_[df_wc_[col].isin(categories)] \\\n",
    "            .join(cat_area_.to_frame(),\n",
    "                  on=col,\n",
    "                  how='left')\n",
    "\n",
    "    output = (df_wc[df_wc[col].isin(categories)]\n",
    "        .join(cat_area.to_frame(),\n",
    "              on=col,\n",
    "              how='left')\n",
    "        .sort_values(by=['area'], \n",
    "                     ascending=False)\n",
    "        .reset_index(drop=True)\n",
    "        .merge(full_page)\n",
    "    )\n",
    "    \n",
    "    output = output[[c for c in output.columns if 'count' not in c]]\n",
    "        \n",
    "    fg_area = output['area'].sum()\n",
    "    fp_area = output['area_page'].sum()\n",
    "    \n",
    "    output = output.append(\n",
    "        {'category_standard' : 'Total', \n",
    "         'freq' : np.nan, \n",
    "         'area' : fg_area, \n",
    "         'freq_page' : np.nan, \n",
    "         'area_page' : fp_area},\n",
    "        ignore_index=True\n",
    "    )\n",
    "    return output.set_index(col)\n"
   ]
  },
  {
   "cell_type": "markdown",
   "metadata": {},
   "source": [
    "## Breakdown of area and frequency for each category"
   ]
  },
  {
   "cell_type": "code",
   "execution_count": 36,
   "metadata": {},
   "outputs": [],
   "source": [
    "columns = [\n",
    "('Above the fold', 'area')\n",
    "   ('First glance' , 'area'),\n",
    "   ('Full page', 'freq'),\n",
    "   ('Full page' , 'area'),\n",
    "]"
   ]
  },
  {
   "cell_type": "code",
   "execution_count": 38,
   "metadata": {},
   "outputs": [],
   "source": [
    "total_area = df['area'].sum()\n",
    "total_area_fp = df['area_page'].sum()\n",
    "n_pages = df.fn_input.nunique()"
   ]
  },
  {
   "cell_type": "code",
   "execution_count": 93,
   "metadata": {},
   "outputs": [],
   "source": [
    "label2publabel = {\n",
    "    'link' : 'Google Product',\n",
    "    'answer' : 'Google Answer',\n",
    "    'organic' : 'Organic',\n",
    "    'amp' : 'AMP',\n",
    "    'ads' : 'Ads'\n",
    "}"
   ]
  },
  {
   "cell_type": "code",
   "execution_count": 94,
   "metadata": {},
   "outputs": [],
   "source": [
    "data = {}\n",
    "for label in df.label.unique():\n",
    "    _df = df[df.label == label]\n",
    "    area = (_df['area'].sum() / total_area)\n",
    "    area_page = (_df['area_page'].sum() / total_area_fp)\n",
    "    freq = _df[_df['area'] != 0].fn_input.nunique() / n_pages\n",
    "    freq_page = _df[_df['area_page'] != 0].fn_input.nunique() /n_pages\n",
    "    data[label2publabel.get(label,label)] = {\n",
    "        ('Above the fold', 'area') : area,\n",
    "        ('Above the fold', 'frequency') : freq,\n",
    "        ('First page', 'area') : area_page,\n",
    "        ('First page', 'Frequency') : freq_page,\n",
    "        \n",
    "    }"
   ]
  },
  {
   "cell_type": "code",
   "execution_count": 123,
   "metadata": {},
   "outputs": [
    {
     "data": {
      "text/html": [
       "<div>\n",
       "<style scoped>\n",
       "    .dataframe tbody tr th:only-of-type {\n",
       "        vertical-align: middle;\n",
       "    }\n",
       "\n",
       "    .dataframe tbody tr th {\n",
       "        vertical-align: top;\n",
       "    }\n",
       "\n",
       "    .dataframe thead tr th {\n",
       "        text-align: left;\n",
       "    }\n",
       "</style>\n",
       "<table border=\"1\" class=\"dataframe\">\n",
       "  <thead>\n",
       "    <tr>\n",
       "      <th></th>\n",
       "      <th colspan=\"2\" halign=\"left\">Above the fold</th>\n",
       "      <th colspan=\"2\" halign=\"left\">First page</th>\n",
       "    </tr>\n",
       "    <tr>\n",
       "      <th></th>\n",
       "      <th>area</th>\n",
       "      <th>frequency</th>\n",
       "      <th>area</th>\n",
       "      <th>Frequency</th>\n",
       "    </tr>\n",
       "  </thead>\n",
       "  <tbody>\n",
       "    <tr>\n",
       "      <th>Google Answer</th>\n",
       "      <td>23.1%</td>\n",
       "      <td>66.4%</td>\n",
       "      <td>13.3%</td>\n",
       "      <td>99.4%</td>\n",
       "    </tr>\n",
       "    <tr>\n",
       "      <th>Google Product</th>\n",
       "      <td>39.5%</td>\n",
       "      <td>92.4%</td>\n",
       "      <td>27.8%</td>\n",
       "      <td>100.0%</td>\n",
       "    </tr>\n",
       "    <tr>\n",
       "      <th>AMP</th>\n",
       "      <td>12.4%</td>\n",
       "      <td>20.3%</td>\n",
       "      <td>13.6%</td>\n",
       "      <td>80.7%</td>\n",
       "    </tr>\n",
       "    <tr>\n",
       "      <th>Organic</th>\n",
       "      <td>18.5%</td>\n",
       "      <td>74.5%</td>\n",
       "      <td>44.3%</td>\n",
       "      <td>100.0%</td>\n",
       "    </tr>\n",
       "    <tr>\n",
       "      <th>Ads</th>\n",
       "      <td>6.5%</td>\n",
       "      <td>7.9%</td>\n",
       "      <td>1.0%</td>\n",
       "      <td>9.5%</td>\n",
       "    </tr>\n",
       "  </tbody>\n",
       "</table>\n",
       "</div>"
      ],
      "text/plain": [
       "               Above the fold           First page          \n",
       "                         area frequency       area Frequency\n",
       "Google Answer           23.1%     66.4%      13.3%     99.4%\n",
       "Google Product          39.5%     92.4%      27.8%    100.0%\n",
       "AMP                     12.4%     20.3%      13.6%     80.7%\n",
       "Organic                 18.5%     74.5%      44.3%    100.0%\n",
       "Ads                      6.5%      7.9%       1.0%      9.5%"
      ]
     },
     "execution_count": 123,
     "metadata": {},
     "output_type": "execute_result"
    }
   ],
   "source": [
    "breakdown = pd.DataFrame(data).T\n",
    "breakdown.columns = pd.MultiIndex.from_tuples([   \n",
    "    ('Above the fold', 'area'),\n",
    "    ('Above the fold', 'frequency'),\n",
    "    ('First page', 'area'),\n",
    "    ('First page', 'Frequency')\n",
    "])\n",
    "(breakdown * 100).round(1).astype(str) + '%'"
   ]
  },
  {
   "cell_type": "code",
   "execution_count": 147,
   "metadata": {},
   "outputs": [],
   "source": [
    "fn_cats = '../data/outputs/T1_area_freq_by_category.csv'\n",
    "breakdown.to_csv(fn_cats)"
   ]
  },
  {
   "cell_type": "code",
   "execution_count": 120,
   "metadata": {},
   "outputs": [],
   "source": [
    "# df_cat_agg = pd.DataFrame()\n",
    "# for categories in [cat_ad, cat_amp, cat_rt, cat_sd, cat_og]:\n",
    "#     output = breakdown(categories)\n",
    "#     df_cat_agg = df_cat_agg.append(output)\n",
    "    \n",
    "#     output.columns = pd.MultiIndex.from_tuples(columns)\n",
    "#     for c, dtype in output.dtypes.items():\n",
    "#         if pd.api.types.is_numeric_dtype(output[c]):\n",
    "#             output[c] = output[c].apply(format_number)\n",
    "    \n",
    "#     display(output)"
   ]
  },
  {
   "cell_type": "markdown",
   "metadata": {},
   "source": [
    "## Changes in Category between full page of first glance"
   ]
  },
  {
   "cell_type": "code",
   "execution_count": 40,
   "metadata": {},
   "outputs": [],
   "source": [
    "legend_elements = [Patch(facecolor=cat2color['link'], \n",
    "                         label='Google link'),\n",
    "                   Patch(facecolor=cat2color['answer'], \n",
    "                         label='Google answer'),\n",
    "                   Patch(facecolor=cat2color['amp'], \n",
    "                         label='AMP'),\n",
    "                   Patch(facecolor=cat2color['ads'], \n",
    "                         label='Ads'),\n",
    "                   Patch(facecolor=cat2color['organic'], \n",
    "                         label='Organic')]"
   ]
  },
  {
   "cell_type": "code",
   "execution_count": 42,
   "metadata": {},
   "outputs": [
    {
     "data": {
      "image/png": "[encoded data removed]",
      "text/plain": [
       "<Figure size 720x432 with 1 Axes>"
      ]
     },
     "metadata": {
      "needs_background": "light"
     },
     "output_type": "display_data"
    }
   ],
   "source": [
    "df_cat_agg = df_cat_agg[df_cat_agg.index != 'Total']\n",
    "df_cat_agg['area_delta'] = df_cat_agg['area'] - df_cat_agg['area_page']\n",
    "df_plot = df_cat_agg['area_delta'].sort_values(ascending=True)\n",
    "df_plot = df_plot[abs(df_plot) > .002]\n",
    "colors = []\n",
    "for c in df_plot.index:\n",
    "    if c in cat_ad:\n",
    "        colors.append(cat2color['ads'])\n",
    "    elif c in cat_amp:\n",
    "        colors.append(cat2color['amp'])\n",
    "    elif c in cat_og:\n",
    "        colors.append(cat2color['organic'])\n",
    "    elif c in cat_rt:\n",
    "        colors.append(cat2color['answer'])\n",
    "    elif c in cat_sd:\n",
    "        colors.append(cat2color['link'])\n",
    "    else:\n",
    "        colors.append('black')\n",
    "        \n",
    "ax = df_plot.plot(kind='barh', \n",
    "                  figsize=[10,6],\n",
    "                  width=.8,\n",
    "                  color=colors,\n",
    "                  title='Change in area percentage from first-glance to full page')\n",
    "\n",
    "plt.axvline(x=0, color='k', linestyle='--', zorder=-1, alpha = .3)\n",
    "\n",
    "ax.set_axisbelow(True)\n",
    "plt.gca().xaxis.grid(True)\n",
    "# plt.gca().yaxis.grid(True)\n",
    "ax.set_ylabel(\"\")\n",
    "\n",
    "ax.legend(handles=legend_elements, \n",
    "          loc=(.75,.1))\n",
    "\n",
    "plt.annotate('More present beyond first-glance', \n",
    "             (0.04, 0), (0, -21), \n",
    "             xycoords='axes fraction', \n",
    "             textcoords='offset points', \n",
    "             va='top')\n",
    "plt.annotate('More present at first-glance', \n",
    "             (.75, 0), (.75, -21), \n",
    "             xycoords='axes fraction', \n",
    "             textcoords='offset points', \n",
    "             va='top')\n",
    "\n",
    "# Hide the right and top spines\n",
    "ax.spines['right'].set_visible(False)\n",
    "ax.spines['top'].set_visible(False)\n",
    "ax.spines['left'].set_visible(False)\n",
    "\n",
    "# Only show ticks on the left and bottom spines\n",
    "ax.yaxis.set_ticks_position('left')\n",
    "ax.xaxis.set_ticks_position('bottom');"
   ]
  },
  {
   "cell_type": "markdown",
   "metadata": {},
   "source": [
    "## Histogram of Google-occupied pixels"
   ]
  },
  {
   "cell_type": "code",
   "execution_count": 154,
   "metadata": {},
   "outputs": [
    {
     "name": "stderr",
     "output_type": "stream",
     "text": [
      "100%|██████████| 14976/14976 [01:04<00:00, 232.37it/s]\n"
     ]
    }
   ],
   "source": [
    "pixels = {\n",
    "    'area' : [],\n",
    "    'area_page' : []\n",
    "}\n",
    "for search, df_ in tqdm(df.groupby('fn_input')):\n",
    "    for col in ['area', 'area_page']:\n",
    "        ad = df_[df_.label == 'ads'][col].sum()\n",
    "        o = df_[df_.label == 'organic'][col].sum()\n",
    "        g = df_[(df_.label == 'link') | \n",
    "                (df_.label == 'answer')][col].sum()\n",
    "        amp = df_[df_.label == 'amp'][col].sum()\n",
    "\n",
    "        e1 = g / (g + o)\n",
    "        \n",
    "        e2 = (g + ad) / (g + o + ad )\n",
    "        e3 = (g + amp) / (g + o + amp)\n",
    "        e4 = (g + amp + ad) / (g + o + amp + ad)\n",
    "        e5 = g / (g + ad + o + amp)\n",
    "        \n",
    "        e6 =  o / (g + ad + o + amp)\n",
    "        \n",
    "\n",
    "        row = {\n",
    "            'search_term' : search,\n",
    "            'ad' : ad,\n",
    "            'o' : o,\n",
    "            'g' : g,\n",
    "            'amp' : amp,\n",
    "            'e1' : e1,\n",
    "            'e2' : e2,\n",
    "            'e3' : e3,\n",
    "            'e4' : e4,\n",
    "            'e5' : e5,\n",
    "            'e6' : e6\n",
    "        }\n",
    "\n",
    "        pixels[col].append(row)\n",
    "    \n",
    "df_pixels = pd.DataFrame(pixels['area'])\n",
    "df_pixels_fp = pd.DataFrame(pixels['area_page'])"
   ]
  },
  {
   "cell_type": "code",
   "execution_count": 155,
   "metadata": {},
   "outputs": [],
   "source": [
    "df_pixels.e1.fillna(0, inplace=True)"
   ]
  },
  {
   "cell_type": "code",
   "execution_count": 125,
   "metadata": {},
   "outputs": [
    {
     "data": {
      "image/png": "[encoded data removed]",
      "text/plain": [
       "<Figure size 720x432 with 1 Axes>"
      ]
     },
     "metadata": {
      "needs_background": "light"
     },
     "output_type": "display_data"
    }
   ],
   "source": [
    "ax = df_pixels.e1.plot(kind='hist', \n",
    "                       figsize=(10,6),\n",
    "                       bins=10, \n",
    "                       rwidth=.95,\n",
    "                       color='black',\n",
    "                       alpha=.9,\n",
    "#                        logy=True,\n",
    "                       title=f'Google real estate (EQ1) above the fold (N={len(df_pixels):,})')\n",
    "\n",
    "ax.tick_params(axis=\"both\", which=\"both\", bottom=\"off\", \n",
    "               top=\"off\", labelbottom=\"on\", left=\"off\", \n",
    "               right=\"off\", labelleft=\"on\")\n",
    "\n",
    "plt.annotate('least Google-occupied space', \n",
    "             (0.04, 0), (0, -21), \n",
    "             xycoords='axes fraction', \n",
    "             textcoords='offset points', \n",
    "             va='top')\n",
    "plt.annotate('most Google-occupied space', \n",
    "             (.75, 0), (.75, -21), \n",
    "             xycoords='axes fraction', \n",
    "             textcoords='offset points', \n",
    "             va='top')\n",
    "\n",
    "ax.set_ylabel(\"Count of search pages\")\n",
    "\n",
    "ax.set_axisbelow(True)\n",
    "plt.gca().yaxis.grid(True)\n",
    "\n",
    "# Hide the right and top spines\n",
    "ax.spines['right'].set_visible(False)\n",
    "ax.spines['top'].set_visible(False)\n",
    "\n",
    "# Only show ticks on the left and bottom spines\n",
    "ax.yaxis.set_ticks_position('left')\n",
    "ax.xaxis.set_ticks_position('bottom')\n",
    "\n",
    "plt.savefig('../data/e1_above_the_fold.png');"
   ]
  },
  {
   "cell_type": "code",
   "execution_count": 126,
   "metadata": {},
   "outputs": [
    {
     "data": {
      "image/png": "[encoded data removed]",
      "text/plain": [
       "<Figure size 720x432 with 1 Axes>"
      ]
     },
     "metadata": {
      "needs_background": "light"
     },
     "output_type": "display_data"
    }
   ],
   "source": [
    "ax = df_pixels_fp.e1.plot(kind='hist', \n",
    "                       figsize=(10,6),\n",
    "                       bins=10, \n",
    "                       rwidth=.95,\n",
    "                       color='black',\n",
    "                       alpha=.9,\n",
    "#                        logy=True,\n",
    "                       title=f'Google real estate (EQ1) on first page (N={len(df_pixels_fp):,})')\n",
    "\n",
    "ax.tick_params(axis=\"both\", which=\"both\", bottom=\"off\", \n",
    "               top=\"off\", labelbottom=\"on\", left=\"off\", \n",
    "               right=\"off\", labelleft=\"on\")\n",
    "\n",
    "plt.annotate('least Google-occupied space', \n",
    "             (0.04, 0), (0, -21), \n",
    "             xycoords='axes fraction', \n",
    "             textcoords='offset points', \n",
    "             va='top')\n",
    "plt.annotate('most Google-occupied space', \n",
    "             (.75, 0), (.75, -21), \n",
    "             xycoords='axes fraction', \n",
    "             textcoords='offset points', \n",
    "             va='top')\n",
    "\n",
    "ax.set_ylabel(\"Count of search pages\")\n",
    "\n",
    "ax.set_axisbelow(True)\n",
    "plt.gca().yaxis.grid(True)\n",
    "\n",
    "# Hide the right and top spines\n",
    "ax.spines['right'].set_visible(False)\n",
    "ax.spines['top'].set_visible(False)\n",
    "\n",
    "# Only show ticks on the left and bottom spines\n",
    "ax.yaxis.set_ticks_position('left')\n",
    "ax.xaxis.set_ticks_position('bottom')\n",
    "\n",
    "plt.savefig('../data/e1_first_page.png');"
   ]
  },
  {
   "cell_type": "code",
   "execution_count": 143,
   "metadata": {},
   "outputs": [
    {
     "data": {
      "text/plain": [
       "57.47195512820513"
      ]
     },
     "execution_count": 143,
     "metadata": {},
     "output_type": "execute_result"
    }
   ],
   "source": [
    "# What percentage of pages have 90% or more of the page occupied by self-dealing?\n",
    "len(df_pixels[df_pixels.e1 >= .9]) / len(df_pixels) * 100"
   ]
  },
  {
   "cell_type": "code",
   "execution_count": 129,
   "metadata": {},
   "outputs": [
    {
     "data": {
      "text/plain": [
       "4.273504273504273"
      ]
     },
     "execution_count": 129,
     "metadata": {},
     "output_type": "execute_result"
    }
   ],
   "source": [
    "# what percentage of pages have less than 10% google\n",
    "len(df_pixels[df_pixels.e1 == 0]) / len(df_pixels) * 100"
   ]
  },
  {
   "cell_type": "code",
   "execution_count": 130,
   "metadata": {},
   "outputs": [
    {
     "data": {
      "text/plain": [
       "14976"
      ]
     },
     "execution_count": 130,
     "metadata": {},
     "output_type": "execute_result"
    }
   ],
   "source": [
    "len(df_pixels)"
   ]
  },
  {
   "cell_type": "code",
   "execution_count": 140,
   "metadata": {},
   "outputs": [
    {
     "data": {
      "image/png": "[encoded data removed]",
      "text/plain": [
       "<Figure size 720x432 with 1 Axes>"
      ]
     },
     "metadata": {
      "needs_background": "light"
     },
     "output_type": "display_data"
    }
   ],
   "source": [
    "ax = df_pixels.e6.plot(kind='hist', \n",
    "                       figsize=(10,6),\n",
    "                       bins=10, \n",
    "                       rwidth=.95,\n",
    "                       color='black',\n",
    "                       alpha=.9,\n",
    "#                        logy=True,\n",
    "                       title=f'Organic real estate (EQ1) above the fold (N={len(df_pixels):,})')\n",
    "\n",
    "ax.tick_params(axis=\"both\", which=\"both\", bottom=\"off\", \n",
    "               top=\"off\", labelbottom=\"on\", left=\"off\", \n",
    "               right=\"off\", labelleft=\"on\")\n",
    "\n",
    "plt.annotate('least Google-occupied space', \n",
    "             (0.04, 0), (0, -21), \n",
    "             xycoords='axes fraction', \n",
    "             textcoords='offset points', \n",
    "             va='top')\n",
    "plt.annotate('most Google-occupied space', \n",
    "             (.75, 0), (.75, -21), \n",
    "             xycoords='axes fraction', \n",
    "             textcoords='offset points', \n",
    "             va='top')\n",
    "\n",
    "ax.set_ylabel(\"Count of search pages\")\n",
    "\n",
    "ax.set_axisbelow(True)\n",
    "plt.gca().yaxis.grid(True)\n",
    "\n",
    "# Hide the right and top spines\n",
    "ax.spines['right'].set_visible(False)\n",
    "ax.spines['top'].set_visible(False)\n",
    "\n",
    "# Only show ticks on the left and bottom spines\n",
    "ax.yaxis.set_ticks_position('left')\n",
    "ax.xaxis.set_ticks_position('bottom')\n",
    "\n",
    "# plt.savefig('../data/e1_above_the_fold.png');"
   ]
  },
  {
   "cell_type": "code",
   "execution_count": 142,
   "metadata": {},
   "outputs": [
    {
     "data": {
      "text/plain": [
       "59.99599358974359"
      ]
     },
     "execution_count": 142,
     "metadata": {},
     "output_type": "execute_result"
    }
   ],
   "source": [
    "# What percentage of pages have 95% or more of the page occupied by self-dealing?\n",
    "len(df_pixels[df_pixels.e6 <= .1]) / len(df_pixels) * 100"
   ]
  },
  {
   "cell_type": "markdown",
   "metadata": {},
   "source": [
    "## Computing confidence interval"
   ]
  },
  {
   "cell_type": "code",
   "execution_count": 131,
   "metadata": {},
   "outputs": [],
   "source": [
    "from scipy.stats import t"
   ]
  },
  {
   "cell_type": "code",
   "execution_count": 132,
   "metadata": {},
   "outputs": [],
   "source": [
    "def t_student_confidence_interval(data, \n",
    "                                  confidence = 0.95,\n",
    "                                  scale = 100):\n",
    "    n = len(data)\n",
    "    m = data.mean()\n",
    "    std_err = data.sem()\n",
    "    h = std_err * t.ppf((1 + confidence) / 2, n - 1)\n",
    "    \n",
    "    s = f\"{scale * m:.2f} ± {h * scale :.2f}\"\n",
    "    return s"
   ]
  },
  {
   "cell_type": "code",
   "execution_count": 156,
   "metadata": {},
   "outputs": [],
   "source": [
    "index2human = {\n",
    "    'e1' : 'EQ1: g / (g + o)',\n",
    "    'e2' : 'EQ2: (g + ad) / (g + o + ad)',\n",
    "    'e3' : 'EQ3: (g + amp) / (g + o + amp)',\n",
    "    'e4' : 'EQ4: (g + amp + ad) / (g + o + amp + ad)',\n",
    "    'e5' : 'EQ5: g / (g + o + ads + amp)',\n",
    "    \n",
    "    'e6' : 'EQ6: o / (g + o + ads + amp)',\n",
    "}"
   ]
  },
  {
   "cell_type": "code",
   "execution_count": 157,
   "metadata": {},
   "outputs": [],
   "source": [
    "results = {}\n",
    "for e in [f'e{i}' for i in range(1, 7)]:\n",
    "    x_goog = t_student_confidence_interval(df_pixels[e])\n",
    "    x_goog_fp = t_student_confidence_interval(df_pixels_fp[e])\n",
    "    results[index2human.get(e)] = {\n",
    "        'above the fold' : x_goog + '%',\n",
    "        'first page' : x_goog_fp+ '%'\n",
    "    }"
   ]
  },
  {
   "cell_type": "code",
   "execution_count": 158,
   "metadata": {},
   "outputs": [
    {
     "name": "stdout",
     "output_type": "stream",
     "text": [
      "<table border=\"1\" class=\"dataframe\">\n",
      "  <thead>\n",
      "    <tr style=\"text-align: right;\">\n",
      "      <th></th>\n",
      "      <th>above the fold</th>\n",
      "      <th>first page</th>\n",
      "    </tr>\n",
      "  </thead>\n",
      "  <tbody>\n",
      "    <tr>\n",
      "      <th>EQ1: g / (g + o)</th>\n",
      "      <td>77.27 ± 0.52%</td>\n",
      "      <td>47.60 ± 0.16%</td>\n",
      "    </tr>\n",
      "    <tr>\n",
      "      <th>EQ2: (g + ad) / (g + o + ad)</th>\n",
      "      <td>80.33 ± 0.47%</td>\n",
      "      <td>48.17 ± 0.16%</td>\n",
      "    </tr>\n",
      "    <tr>\n",
      "      <th>EQ3: (g + amp) / (g + o + amp)</th>\n",
      "      <td>81.08 ± 0.47%</td>\n",
      "      <td>54.05 ± 0.20%</td>\n",
      "    </tr>\n",
      "    <tr>\n",
      "      <th>EQ4: (g + amp + ad) / (g + o + amp + ad)</th>\n",
      "      <td>82.78 ± 0.43%</td>\n",
      "      <td>54.53 ± 0.19%</td>\n",
      "    </tr>\n",
      "    <tr>\n",
      "      <th>EQ5: g / (g + o + ads + amp)</th>\n",
      "      <td>65.22 ± 0.60%</td>\n",
      "      <td>40.43 ± 0.13%</td>\n",
      "    </tr>\n",
      "    <tr>\n",
      "      <th>EQ6: o / (g + o + ads + amp)</th>\n",
      "      <td>17.22 ± 0.43%</td>\n",
      "      <td>45.47 ± 0.19%</td>\n",
      "    </tr>\n",
      "  </tbody>\n",
      "</table>\n"
     ]
    }
   ],
   "source": [
    "print(pd.DataFrame(results).T.to_html())"
   ]
  },
  {
   "cell_type": "markdown",
   "metadata": {},
   "source": [
    "SD over EVERYTHING:<br>\n",
    "65.85%\n",
    "\n",
    "Just SD over SD + Org:<br>\n",
    "78%\n",
    "\n",
    "SD over SD + org + amp:<br>\n",
    "69.24%\n",
    "\n",
    "SD + ad over SD + ad +org + amp:<br>\n",
    "71.31\n",
    "\n",
    "SD + amp over SD + ad +org + amp:<br>\n",
    "77.13\n",
    "\n",
    "O over everything:<br>\n",
    "17.4"
   ]
  },
  {
   "cell_type": "markdown",
   "metadata": {},
   "source": [
    "adding or subtracking AMP changes the averfrom from 72% to 81.2% of the page on average. 54% of pages are 95% or more SD (without AMP) and 44% when with AMP."
   ]
  },
  {
   "cell_type": "markdown",
   "metadata": {},
   "source": [
    "# AMP\n",
    "How many sites are using AMP compared to how many sites we have?"
   ]
  },
  {
   "cell_type": "code",
   "execution_count": 40,
   "metadata": {},
   "outputs": [],
   "source": [
    "from urlexpander import get_domain\n",
    "\n",
    "n_domains_amp = (df[df.label == 'amp']\n",
    "                    .link.apply(get_domain)\n",
    "                    .nunique())"
   ]
  },
  {
   "cell_type": "code",
   "execution_count": 41,
   "metadata": {},
   "outputs": [],
   "source": [
    "n_domains_og = df[df.label == 'organic'].domain.nunique()"
   ]
  },
  {
   "cell_type": "code",
   "execution_count": 42,
   "metadata": {},
   "outputs": [
    {
     "data": {
      "text/plain": [
       "0.12538671519563238"
      ]
     },
     "execution_count": 42,
     "metadata": {},
     "output_type": "execute_result"
    }
   ],
   "source": [
    "n_domains_amp / (n_domains_amp + n_domains_og)"
   ]
  },
  {
   "cell_type": "code",
   "execution_count": 43,
   "metadata": {},
   "outputs": [
    {
     "data": {
      "text/plain": [
       "yahoo.com          2330\n",
       "usatoday.com       1592\n",
       "people.com         1346\n",
       "cnbc.com           1137\n",
       "cbssports.com      1043\n",
       "theguardian.com     867\n",
       "foxnews.com         859\n",
       "nytimes.com         835\n",
       "cnn.com             804\n",
       "forbes.com          769\n",
       "Name: link, dtype: int64"
      ]
     },
     "execution_count": 43,
     "metadata": {},
     "output_type": "execute_result"
    }
   ],
   "source": [
    "(df[df.label == 'amp']\n",
    "    .link.apply(get_domain)\n",
    "    .value_counts()\n",
    "    .head(10))"
   ]
  },
  {
   "cell_type": "code",
   "execution_count": 44,
   "metadata": {},
   "outputs": [
    {
     "data": {
      "text/plain": [
       "yahoo.com        278\n",
       "google.com       214\n",
       "people.com       184\n",
       "usatoday.com     152\n",
       "espn.com         140\n",
       "foxnews.com      123\n",
       "cbssports.com     96\n",
       "cnn.com           95\n",
       "nypost.com        69\n",
       "tmz.com           66\n",
       "Name: link, dtype: int64"
      ]
     },
     "execution_count": 44,
     "metadata": {},
     "output_type": "execute_result"
    }
   ],
   "source": [
    "(df[(df.label == 'amp') &\n",
    "    (df.area != 0)]\n",
    "    .link.astype(str).apply(get_domain)\n",
    "    .value_counts()\n",
    "    .head(10))"
   ]
  },
  {
   "cell_type": "markdown",
   "metadata": {},
   "source": [
    "## Organic\n",
    "How far do you have to go to get an organic link?"
   ]
  },
  {
   "cell_type": "code",
   "execution_count": 96,
   "metadata": {},
   "outputs": [
    {
     "name": "stderr",
     "output_type": "stream",
     "text": [
      "100%|██████████| 14976/14976 [00:08<00:00, 1859.27it/s]\n"
     ]
    }
   ],
   "source": [
    "blue_link_count = Counter()\n",
    "for site, _df in tqdm(df[df.area_page != 0].groupby('fn_input')):\n",
    "    blue_link_count.update([len(_df[_df.label == 'organic'])])"
   ]
  },
  {
   "cell_type": "code",
   "execution_count": 129,
   "metadata": {},
   "outputs": [
    {
     "data": {
      "text/plain": [
       "[(11, 1312),\n",
       " (10, 1225),\n",
       " (12, 1115),\n",
       " (9, 933),\n",
       " (13, 902),\n",
       " (14, 694),\n",
       " (8, 659),\n",
       " (15, 519),\n",
       " (7, 434),\n",
       " (16, 382),\n",
       " (6, 268),\n",
       " (17, 260),\n",
       " (18, 200),\n",
       " (5, 138),\n",
       " (19, 138),\n",
       " (20, 88),\n",
       " (4, 67),\n",
       " (21, 61),\n",
       " (22, 51),\n",
       " (3, 23),\n",
       " (23, 18),\n",
       " (2, 13),\n",
       " (24, 10),\n",
       " (25, 8),\n",
       " (1, 2),\n",
       " (26, 1),\n",
       " (27, 1),\n",
       " (0, 1)]"
      ]
     },
     "execution_count": 129,
     "metadata": {},
     "output_type": "execute_result"
    }
   ],
   "source": [
    "blue_link_count.most_common()"
   ]
  },
  {
   "cell_type": "code",
   "execution_count": 97,
   "metadata": {},
   "outputs": [
    {
     "data": {
      "text/plain": [
       "organic-search_result    104532\n",
       "organic                   93779\n",
       "organic-tweet             21017\n",
       "Name: category, dtype: int64"
      ]
     },
     "execution_count": 97,
     "metadata": {},
     "output_type": "execute_result"
    }
   ],
   "source": [
    "df[df.label == 'organic'].category.value_counts()"
   ]
  },
  {
   "cell_type": "code",
   "execution_count": 98,
   "metadata": {},
   "outputs": [],
   "source": [
    "df.loc[:, 'y_dist'] = df.location.apply(lambda x: x['y'])"
   ]
  },
  {
   "cell_type": "code",
   "execution_count": 99,
   "metadata": {},
   "outputs": [
    {
     "name": "stderr",
     "output_type": "stream",
     "text": [
      "100%|██████████| 14976/14976 [00:10<00:00, 1375.42it/s]\n"
     ]
    },
    {
     "data": {
      "text/plain": [
       "'1400.87 ± 12.26'"
      ]
     },
     "execution_count": 99,
     "metadata": {},
     "output_type": "execute_result"
    }
   ],
   "source": [
    "dist = {}\n",
    "for site, _df in tqdm(df[df.area_page != 0].groupby('fn_input')):\n",
    "    y_min = _df[_df.category == 'organic-search_result'].y_dist.min()\n",
    "    if y_min:\n",
    "        dist[site] = y_min\n",
    "        \n",
    "df_dist = pd.DataFrame([{'page' : k, 'y_dist' : v} for k,v in dist.items()])\n",
    "t_student_confidence_interval(df_dist.y_dist,\n",
    "                              scale=1)"
   ]
  },
  {
   "cell_type": "code",
   "execution_count": 104,
   "metadata": {},
   "outputs": [
    {
     "data": {
      "text/plain": [
       "twitter.com            34822\n",
       "wikipedia.org          29517\n",
       "facebook.com            7111\n",
       "instagram.com           5123\n",
       "imdb.com                4012\n",
       "                       ...  \n",
       "urgentteam.com             1\n",
       "sactownmag.com             1\n",
       "the-connaught.co.uk        1\n",
       "milkstudios.com            1\n",
       "engagevr.io                1\n",
       "Name: domain, Length: 23936, dtype: int64"
      ]
     },
     "execution_count": 104,
     "metadata": {},
     "output_type": "execute_result"
    }
   ],
   "source": [
    "df[df.label == 'organic'].domain.value_counts()"
   ]
  },
  {
   "cell_type": "code",
   "execution_count": 105,
   "metadata": {},
   "outputs": [
    {
     "data": {
      "text/plain": [
       "yahoo.com               3199\n",
       "usatoday.com            1825\n",
       "people.com              1501\n",
       "cnbc.com                1415\n",
       "cbssports.com           1352\n",
       "                        ... \n",
       "peepingmoon.com            1\n",
       "zikanews.com               1\n",
       "traveldailymedia.com       1\n",
       "marketbeat.com             1\n",
       "dailygalaxy.com            1\n",
       "Name: domain, Length: 3087, dtype: int64"
      ]
     },
     "execution_count": 105,
     "metadata": {},
     "output_type": "execute_result"
    }
   ],
   "source": [
    "df[df.label == 'amp'].domain.value_counts()"
   ]
  },
  {
   "cell_type": "code",
   "execution_count": 86,
   "metadata": {},
   "outputs": [
    {
     "data": {
      "text/plain": [
       "0       1940.0\n",
       "1        956.0\n",
       "2        891.0\n",
       "3       1599.0\n",
       "4        918.0\n",
       "         ...  \n",
       "9518    2000.0\n",
       "9519     919.0\n",
       "9520    2000.0\n",
       "9521    1495.0\n",
       "9522    2000.0\n",
       "Name: y_dist, Length: 9523, dtype: float64"
      ]
     },
     "execution_count": 86,
     "metadata": {},
     "output_type": "execute_result"
    }
   ],
   "source": [
    "df_dist.y_dist.clip(0, 2000)"
   ]
  },
  {
   "cell_type": "code",
   "execution_count": 90,
   "metadata": {},
   "outputs": [],
   "source": [
    "df_dist = df_dist[~df_dist.y_dist.isnull()]"
   ]
  },
  {
   "cell_type": "code",
   "execution_count": 92,
   "metadata": {},
   "outputs": [],
   "source": [
    "import math"
   ]
  },
  {
   "cell_type": "code",
   "execution_count": 100,
   "metadata": {},
   "outputs": [
    {
     "data": {
      "text/plain": [
       "<BarContainer object of 30 artists>"
      ]
     },
     "execution_count": 100,
     "metadata": {},
     "output_type": "execute_result"
    },
    {
     "data": {
      "image/png": "[encoded data removed]",
      "text/plain": [
       "<Figure size 720x432 with 1 Axes>"
      ]
     },
     "metadata": {
      "needs_background": "light"
     },
     "output_type": "display_data"
    }
   ],
   "source": [
    "vert_hist=np.histogram(df_dist.y_dist.clip(0, 2000), bins=30)\n",
    "\n",
    "# Compute height of plot.\n",
    "height = math.ceil(max(vert_hist[1])) - math.floor(min(vert_hist[1]))\n",
    "\n",
    "# Compute height of each horizontal bar.\n",
    "height = height/len(vert_hist[0])\n",
    "\n",
    "plt.rcParams[\"figure.figsize\"] = (10,6)\n",
    "plt.barh(vert_hist[1][:-1],vert_hist[0], \n",
    "         height=height,\n",
    "         color='black',\n",
    "         alpha=.9,)"
   ]
  },
  {
   "cell_type": "code",
   "execution_count": 115,
   "metadata": {},
   "outputs": [
    {
     "data": {
      "text/plain": [
       "<matplotlib.axes._subplots.AxesSubplot at 0x7f0f548da310>"
      ]
     },
     "execution_count": 115,
     "metadata": {},
     "output_type": "execute_result"
    },
    {
     "data": {
      "image/png": "[encoded data removed]",
      "text/plain": [
       "<Figure size 720x432 with 1 Axes>"
      ]
     },
     "metadata": {
      "needs_background": "light"
     },
     "output_type": "display_data"
    }
   ],
   "source": [
    "df_dist.groupby(pd.cut(df_dist.y_dist.clip(0, 2000), 20)).size().iloc[::-1].plot(kind='barh')"
   ]
  },
  {
   "cell_type": "code",
   "execution_count": 124,
   "metadata": {},
   "outputs": [
    {
     "data": {
      "image/png": "[encoded data removed]",
      "text/plain": [
       "<Figure size 720x720 with 1 Axes>"
      ]
     },
     "metadata": {
      "needs_background": "light"
     },
     "output_type": "display_data"
    }
   ],
   "source": [
    "ax = df_dist.groupby(pd.cut(df_dist.y_dist.clip(0, 2000), 40)).size().iloc[::-1].plot(\n",
    "    kind='barh',\n",
    "    figsize=(10, 10),\n",
    "    color='black',\n",
    "    alpha=.9,\n",
    "    title='Pixels until first organic search result')\n",
    "\n",
    "\n",
    "ax.set_axisbelow(True)\n",
    "plt.gca().yaxis.grid(True)\n",
    "\n",
    "# Hide the right and top spines\n",
    "ax.spines['right'].set_visible(False)\n",
    "ax.spines['top'].set_visible(False)\n",
    "\n",
    "# Only show ticks on the left and bottom spines\n",
    "ax.yaxis.set_ticks_position('left')\n",
    "ax.xaxis.set_ticks_position('bottom');"
   ]
  },
  {
   "cell_type": "code",
   "execution_count": 135,
   "metadata": {},
   "outputs": [],
   "source": [
    "result = df_dist.y_dist.value_counts().reset_index()\n",
    "result.columns = ['y_dist', 'count']\n",
    "# result['y_dist'] = result['y_dist'].clip(0, 1000)"
   ]
  },
  {
   "cell_type": "markdown",
   "metadata": {},
   "source": [
    "What percentages of pages have first organic link past the first glance?"
   ]
  },
  {
   "cell_type": "markdown",
   "metadata": {},
   "source": [
    "What percentages of pages have first organic link past the first glance"
   ]
  },
  {
   "cell_type": "code",
   "execution_count": 61,
   "metadata": {},
   "outputs": [
    {
     "data": {
      "text/plain": [
       "0.7715005775490916"
      ]
     },
     "execution_count": 61,
     "metadata": {},
     "output_type": "execute_result"
    }
   ],
   "source": [
    "df_dist[df_dist['y_dist'] > 812].page.nunique() / n_sample"
   ]
  },
  {
   "cell_type": "markdown",
   "metadata": {},
   "source": [
    "Average distance before first organic link"
   ]
  },
  {
   "cell_type": "code",
   "execution_count": 62,
   "metadata": {},
   "outputs": [
    {
     "data": {
      "text/plain": [
       "1399.8468648251235"
      ]
     },
     "execution_count": 62,
     "metadata": {},
     "output_type": "execute_result"
    }
   ],
   "source": [
    "df_dist.y_dist.mean()"
   ]
  },
  {
   "cell_type": "code",
   "execution_count": 65,
   "metadata": {},
   "outputs": [
    {
     "data": {
      "text/plain": [
       "'1399.85 ± 15.42'"
      ]
     },
     "execution_count": 65,
     "metadata": {},
     "output_type": "execute_result"
    }
   ],
   "source": [
    "t_student_confidence_interval(df_dist.y_dist,\n",
    "                              scale=1)"
   ]
  },
  {
   "cell_type": "code",
   "execution_count": 68,
   "metadata": {},
   "outputs": [
    {
     "name": "stderr",
     "output_type": "stream",
     "text": [
      "100%|██████████| 9523/9523 [00:09<00:00, 1045.85it/s]\n"
     ]
    },
    {
     "data": {
      "text/plain": [
       "'662.73 ± 7.32'"
      ]
     },
     "execution_count": 68,
     "metadata": {},
     "output_type": "execute_result"
    }
   ],
   "source": [
    "dist = {}\n",
    "for site, _df in tqdm(df[df.area_page != 0].groupby('fn_input')):\n",
    "    y_min = _df[_df.label == 'organic'].y_dist.min()\n",
    "    if y_min:\n",
    "        dist[site] = y_min\n",
    "        \n",
    "df_dist = pd.DataFrame([{'page' : k, 'y_dist' : v} for k,v in dist.items()])\n",
    "t_student_confidence_interval(df_dist.y_dist,\n",
    "                              scale=1)"
   ]
  },
  {
   "cell_type": "code",
   "execution_count": 58,
   "metadata": {},
   "outputs": [],
   "source": [
    "organic_down_under = df_dist[df_dist.y_dist > 2500].page"
   ]
  },
  {
   "cell_type": "code",
   "execution_count": 59,
   "metadata": {},
   "outputs": [],
   "source": [
    "sample = df[(df.fn_input.isin(organic_down_under))\n",
    "          & (df.category == 'organic-search_result')]"
   ]
  },
  {
   "cell_type": "code",
   "execution_count": 60,
   "metadata": {},
   "outputs": [],
   "source": [
    "cols = [\n",
    "    'link',\n",
    "    'domain',\n",
    "    'fn_input',\n",
    "    'y_dist'\n",
    "]"
   ]
  },
  {
   "cell_type": "code",
   "execution_count": 61,
   "metadata": {},
   "outputs": [],
   "source": [
    "sample = sample[cols].sort_values(by='y_dist').drop_duplicates(subset=['fn_input'])"
   ]
  },
  {
   "cell_type": "code",
   "execution_count": 62,
   "metadata": {},
   "outputs": [],
   "source": [
    "sample['search terms'] = sample.fn_input.apply(lambda x: x.split('/')[-3].replace('-', ' '))"
   ]
  },
  {
   "cell_type": "code",
   "execution_count": 63,
   "metadata": {},
   "outputs": [],
   "source": [
    "sample.to_csv('organic_down_under.csv', index=False)"
   ]
  },
  {
   "cell_type": "code",
   "execution_count": 102,
   "metadata": {},
   "outputs": [],
   "source": [
    "org = Counter()"
   ]
  },
  {
   "cell_type": "code",
   "execution_count": 65,
   "metadata": {},
   "outputs": [],
   "source": [
    "for page, _df in sample.groupby('fn_input'):\n",
    "    _df.sort_values('y_dist', inplace=True)\n",
    "    org.update([_df.iloc[0].domain])"
   ]
  },
  {
   "cell_type": "code",
   "execution_count": 66,
   "metadata": {},
   "outputs": [
    {
     "data": {
      "text/plain": [
       "[('wikipedia.org', 395),\n",
       " ('espn.com', 26),\n",
       " ('imdb.com', 16),\n",
       " ('instagram.com', 11),\n",
       " ('basketball-reference.com', 10),\n",
       " ('pro-football-reference.com', 8),\n",
       " ('nba.com', 6),\n",
       " ('mlb.com', 4),\n",
       " ('twitter.com', 4),\n",
       " ('cdc.gov', 4),\n",
       " ('nfl.com', 4),\n",
       " ('webmd.com', 4),\n",
       " ('fandom.com', 3),\n",
       " ('mayoclinic.org', 3),\n",
       " ('nih.gov', 3),\n",
       " ('goduke.com', 2),\n",
       " ('goducks.com', 2),\n",
       " ('manchestereveningnews.co.uk', 2),\n",
       " ('amazon.com', 2),\n",
       " ('nhl.com', 2),\n",
       " ('investopedia.com', 2),\n",
       " ('cbs.com', 2),\n",
       " ('auburntigers.com', 2),\n",
       " ('cnet.com', 2),\n",
       " ('standard.co.uk', 2),\n",
       " ('people.com', 2),\n",
       " ('nascar.com', 2),\n",
       " ('eliteprospects.com', 2),\n",
       " ('hokiesports.com', 2),\n",
       " ('pcmag.com', 2),\n",
       " ('medlineplus.gov', 2),\n",
       " ('ohiostatebuckeyes.com', 2),\n",
       " ('rotoworld.com', 2),\n",
       " ('microsoft.com', 2),\n",
       " ('medicinenet.com', 2),\n",
       " ('nasa.gov', 2),\n",
       " ('ajax.nl', 1),\n",
       " ('dccomics.com', 1),\n",
       " ('blakeshelton.com', 1),\n",
       " ('gimmedelicious.com', 1)]"
      ]
     },
     "execution_count": 66,
     "metadata": {},
     "output_type": "execute_result"
    }
   ],
   "source": [
    "org.most_common(40)"
   ]
  },
  {
   "cell_type": "code",
   "execution_count": 38,
   "metadata": {},
   "outputs": [
    {
     "data": {
      "text/plain": [
       "wikipedia.org          5198\n",
       "twitter.com            1097\n",
       "facebook.com           1033\n",
       "imdb.com                996\n",
       "amazon.com              611\n",
       "instagram.com           571\n",
       "espn.com                482\n",
       "britannica.com          363\n",
       "fandom.com              359\n",
       "nih.gov                 333\n",
       "linkedin.com            316\n",
       "yahoo.com               268\n",
       "rottentomatoes.com      251\n",
       "webmd.com               244\n",
       "bloomberg.com           222\n",
       "merriam-webster.com     205\n",
       "rotoworld.com           202\n",
       "healthline.com          192\n",
       "sciencedirect.com       184\n",
       "mayoclinic.org          166\n",
       "Name: domain, dtype: int64"
      ]
     },
     "execution_count": 38,
     "metadata": {},
     "output_type": "execute_result"
    }
   ],
   "source": [
    "df[df['category'] == 'organic-search_result'].domain.value_counts().head(20)"
   ]
  },
  {
   "cell_type": "code",
   "execution_count": 39,
   "metadata": {},
   "outputs": [
    {
     "data": {
      "text/plain": [
       "wikipedia.org             5009\n",
       "twitter.com               3543\n",
       "facebook.com              1418\n",
       "instagram.com             1275\n",
       "apple.com                  556\n",
       "imdb.com                   450\n",
       "nba.com                    308\n",
       "spotify.com                291\n",
       "deezer.com                 284\n",
       "nbcsports.com              270\n",
       "iheart.com                 261\n",
       "pandora.com                247\n",
       "tunein.com                 223\n",
       "oxforddictionaries.com     205\n",
       "nhl.com                    189\n",
       "cnbc.com                   168\n",
       "rottentomatoes.com         157\n",
       "mayoclinic.org             156\n",
       "linkedin.com               155\n",
       "cnn.com                    154\n",
       "Name: domain, dtype: int64"
      ]
     },
     "execution_count": 39,
     "metadata": {},
     "output_type": "execute_result"
    }
   ],
   "source": [
    "df[df['category'] == 'organic'].domain.value_counts().head(20)"
   ]
  },
  {
   "cell_type": "code",
   "execution_count": 41,
   "metadata": {},
   "outputs": [
    {
     "data": {
      "text/plain": [
       "27120"
      ]
     },
     "execution_count": 41,
     "metadata": {},
     "output_type": "execute_result"
    }
   ],
   "source": [
    "len(df[df['category'] == 'link-youtube'])"
   ]
  },
  {
   "cell_type": "code",
   "execution_count": 45,
   "metadata": {},
   "outputs": [
    {
     "data": {
      "text/plain": [
       "0.6614643545279384"
      ]
     },
     "execution_count": 45,
     "metadata": {},
     "output_type": "execute_result"
    }
   ],
   "source": [
    "df[df['category'] == 'link-youtube'].fn_input.nunique() / df.fn_input.nunique()"
   ]
  },
  {
   "cell_type": "code",
   "execution_count": 47,
   "metadata": {},
   "outputs": [
    {
     "data": {
      "text/plain": [
       "7.899796096708418"
      ]
     },
     "execution_count": 47,
     "metadata": {},
     "output_type": "execute_result"
    }
   ],
   "source": [
    "len(df[df['category'] == 'link-youtube']) / df[df['category'] == 'link-youtube'].fn_input.nunique()"
   ]
  },
  {
   "cell_type": "code",
   "execution_count": null,
   "metadata": {},
   "outputs": [],
   "source": [
    "other_videos = [\n",
    "    'dailymotion.com',\n",
    "    'vimeo.com',\n",
    "    'joyofbaking.com'\n",
    "]"
   ]
  }
 ],
 "metadata": {
  "kernelspec": {
   "display_name": "Python 3",
   "language": "python",
   "name": "python3"
  },
  "language_info": {
   "codemirror_mode": {
    "name": "ipython",
    "version": 3
   },
   "file_extension": ".py",
   "mimetype": "text/x-python",
   "name": "python",
   "nbconvert_exporter": "python",
   "pygments_lexer": "ipython3",
   "version": "3.8.1"
  }
 },
 "nbformat": 4,
 "nbformat_minor": 4
}
