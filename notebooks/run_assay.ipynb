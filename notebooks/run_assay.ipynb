{
 "cells": [
  {
   "cell_type": "code",
   "execution_count": 1,
   "metadata": {},
   "outputs": [],
   "source": [
    "%load_ext autoreload\n",
    "%autoreload 2"
   ]
  },
  {
   "cell_type": "code",
   "execution_count": 2,
   "metadata": {},
   "outputs": [],
   "source": [
    "import os\n",
    "import sys\n",
    "import time\n",
    "import glob\n",
    "import inspect\n",
    "sys.path.append('..')\n",
    "\n",
    "from tqdm import tqdm"
   ]
  },
  {
   "cell_type": "code",
   "execution_count": 3,
   "metadata": {},
   "outputs": [],
   "source": [
    "import utils.parsers as P\n",
    "from utils.config import cat2color, window_size, user_agent\n",
    "from utils.analysis import GoogleWebAssay, paint_abstract_representation"
   ]
  },
  {
   "cell_type": "code",
   "execution_count": 4,
   "metadata": {},
   "outputs": [
    {
     "data": {
      "text/plain": [
       "55"
      ]
     },
     "execution_count": 4,
     "metadata": {},
     "output_type": "execute_result"
    }
   ],
   "source": [
    "parser_functions = [\n",
    "    o[1] for o in inspect.getmembers(P)\n",
    "    if inspect.isfunction(o[1]) and\n",
    "    '_parser' in o[0]\n",
    "]\n",
    "len(parser_functions)"
   ]
  },
  {
   "cell_type": "code",
   "execution_count": 5,
   "metadata": {},
   "outputs": [],
   "source": [
    "assay = GoogleWebAssay(user_agent = user_agent,\n",
    "                       window_size = window_size,\n",
    "                       parser_functions = parser_functions,\n",
    "                       color_palette = cat2color,\n",
    "                       headless = False)"
   ]
  },
  {
   "cell_type": "code",
   "execution_count": 6,
   "metadata": {},
   "outputs": [],
   "source": [
    "data_dir_in  = '../data/input/google_searches/'\n",
    "data_dir_out = '../data/intermediary/google_searches/'"
   ]
  },
  {
   "cell_type": "code",
   "execution_count": 7,
   "metadata": {},
   "outputs": [
    {
     "data": {
      "text/plain": [
       "16808"
      ]
     },
     "execution_count": 7,
     "metadata": {},
     "output_type": "execute_result"
    }
   ],
   "source": [
    "files_input = glob.glob(os.path.join(\n",
    "    data_dir_in, 'iPhone-X/*/*/*/*/html/webpage_raw.html'))\n",
    "len(files_input)"
   ]
  },
  {
   "cell_type": "code",
   "execution_count": 8,
   "metadata": {},
   "outputs": [],
   "source": [
    "import random\n",
    "import time"
   ]
  },
  {
   "cell_type": "code",
   "execution_count": 9,
   "metadata": {},
   "outputs": [],
   "source": [
    "random.seed(303)\n",
    "random.shuffle(files_input)"
   ]
  },
  {
   "cell_type": "code",
   "execution_count": 10,
   "metadata": {},
   "outputs": [],
   "source": [
    "def get_context(fn):\n",
    "    '''\n",
    "    Get file paths for output files\n",
    "    '''\n",
    "    fn_metadata = fn.replace(data_dir_in, data_dir_out) \\\n",
    "                    .replace('.html', '.ndjson') \\\n",
    "                    .replace('webpage_raw', 'parsed_meta') \\\n",
    "                    .replace('html/', 'json/')\n",
    "    \n",
    "    fn_stained_html = fn.replace(data_dir_in, data_dir_out) \\\n",
    "                        .replace('webpage_raw', 'webpage_stained')\n",
    "    \n",
    "    fn_screenshot = fn.replace(data_dir_in, data_dir_out) \\\n",
    "                      .replace('.html', '.png') \\\n",
    "                      .replace('webpage_raw', 'screenshot') \\\n",
    "                      .replace('html/', 'png/')\n",
    "    \n",
    "    fn_abstract_img = fn_screenshot.replace('screenshot', \n",
    "                                            'abstract_painting')\n",
    "    \n",
    "    return fn_metadata, fn_stained_html, fn_screenshot, fn_abstract_img"
   ]
  },
  {
   "cell_type": "code",
   "execution_count": 11,
   "metadata": {},
   "outputs": [
    {
     "data": {
      "text/plain": [
       "2217"
      ]
     },
     "execution_count": 11,
     "metadata": {},
     "output_type": "execute_result"
    }
   ],
   "source": [
    "len(glob.glob(data_dir_out + 'iPhone-X/*/*/*/*/html/*.html'))"
   ]
  },
  {
   "cell_type": "code",
   "execution_count": null,
   "metadata": {},
   "outputs": [
    {
     "name": "stderr",
     "output_type": "stream",
     "text": [
      "  2%|▏         | 306/16735 [02:03<2:27:48,  1.85it/s]"
     ]
    }
   ],
   "source": [
    "for fn in tqdm(files_input[12 + 61:]):\n",
    "    fn_metadata, _, fn_screenshot, fn_abstract_img = get_context(fn)\n",
    "    for output in [fn_metadata, _, fn_screenshot]:\n",
    "        _dir = os.path.dirname(output)\n",
    "        os.makedirs(_dir, exist_ok=True)\n",
    "    if os.path.exists(fn_abstract_img):\n",
    "        continue\n",
    "    assay.open_local_html(fn)\n",
    "    assay.screenshot_full(fn_screenshot)\n",
    "    assay.driver.execute_script(\"window.scrollTo(0, 0);\")\n",
    "    time.sleep(.2)\n",
    "    assay.run(fn, fn_metadata=fn_metadata, stain=False)\n",
    "    if assay.element_metadata.empty:\n",
    "        continue\n",
    "    paint_abstract_representation(fn_metadata=fn_metadata,\n",
    "                                  fn_out=fn_abstract_img.replace('.png', '_img.png'),\n",
    "                                  fn_img=fn_screenshot)\n",
    "    paint_abstract_representation(fn_metadata=fn_metadata,\n",
    "                                  fn_out=fn_abstract_img)"
   ]
  },
  {
   "cell_type": "code",
   "execution_count": 16,
   "metadata": {},
   "outputs": [],
   "source": [
    "fn = files_input[93 + 289 + 16]"
   ]
  },
  {
   "cell_type": "code",
   "execution_count": 19,
   "metadata": {},
   "outputs": [],
   "source": [
    "fn_metadata, fn_stained_html, fn_screenshot, fn_abstract_img = get_context(fn)"
   ]
  },
  {
   "cell_type": "code",
   "execution_count": 20,
   "metadata": {},
   "outputs": [],
   "source": [
    "assay.open_local_html(fn)"
   ]
  },
  {
   "cell_type": "code",
   "execution_count": 21,
   "metadata": {},
   "outputs": [],
   "source": [
    "assay.run(fn_metadata=fn_metadata, stain=True)"
   ]
  },
  {
   "cell_type": "code",
   "execution_count": 16,
   "metadata": {},
   "outputs": [],
   "source": [
    "df = assay.element_metadata"
   ]
  },
  {
   "cell_type": "code",
   "execution_count": 17,
   "metadata": {},
   "outputs": [
    {
     "data": {
      "text/html": [
       "<div>\n",
       "<style scoped>\n",
       "    .dataframe tbody tr th:only-of-type {\n",
       "        vertical-align: middle;\n",
       "    }\n",
       "\n",
       "    .dataframe tbody tr th {\n",
       "        vertical-align: top;\n",
       "    }\n",
       "\n",
       "    .dataframe thead th {\n",
       "        text-align: right;\n",
       "    }\n",
       "</style>\n",
       "<table border=\"1\" class=\"dataframe\">\n",
       "  <thead>\n",
       "    <tr style=\"text-align: right;\">\n",
       "      <th></th>\n",
       "      <th>text</th>\n",
       "      <th>link</th>\n",
       "      <th>domain</th>\n",
       "      <th>xpath</th>\n",
       "      <th>element_class</th>\n",
       "      <th>category</th>\n",
       "      <th>element</th>\n",
       "      <th>tag</th>\n",
       "      <th>attrs</th>\n",
       "      <th>dimensions</th>\n",
       "      <th>location</th>\n",
       "      <th>area</th>\n",
       "      <th>area_page</th>\n",
       "      <th>fn_input</th>\n",
       "    </tr>\n",
       "  </thead>\n",
       "  <tbody>\n",
       "    <tr>\n",
       "      <td>0</td>\n",
       "      <td>AdAd·manhattanmotorcarsporsche.com/Porsche/Spe...</td>\n",
       "      <td>None</td>\n",
       "      <td>google.com</td>\n",
       "      <td>/html/body/div[10]/div/div[6]/div/div[1]/div[2...</td>\n",
       "      <td>C4eCVc|c</td>\n",
       "      <td>ads-aria</td>\n",
       "      <td>[[Ad], [[&lt;div class=\"U3THc\" jsaction=\"rcuQ6b:n...</td>\n",
       "      <td>div</td>\n",
       "      <td>{'class': ['C4eCVc', 'c'], 'id': 'tads', 'aria...</td>\n",
       "      <td>{'height': 391.0, 'width': 344.0}</td>\n",
       "      <td>{'x': 8, 'y': 166}</td>\n",
       "      <td>134504.0</td>\n",
       "      <td>134504.0</td>\n",
       "      <td>None</td>\n",
       "    </tr>\n",
       "  </tbody>\n",
       "</table>\n",
       "</div>"
      ],
      "text/plain": [
       "                                                text  link      domain  \\\n",
       "0  AdAd·manhattanmotorcarsporsche.com/Porsche/Spe...  None  google.com   \n",
       "\n",
       "                                               xpath element_class  category  \\\n",
       "0  /html/body/div[10]/div/div[6]/div/div[1]/div[2...      C4eCVc|c  ads-aria   \n",
       "\n",
       "                                             element  tag  \\\n",
       "0  [[Ad], [[<div class=\"U3THc\" jsaction=\"rcuQ6b:n...  div   \n",
       "\n",
       "                                               attrs  \\\n",
       "0  {'class': ['C4eCVc', 'c'], 'id': 'tads', 'aria...   \n",
       "\n",
       "                          dimensions            location      area  area_page  \\\n",
       "0  {'height': 391.0, 'width': 344.0}  {'x': 8, 'y': 166}  134504.0   134504.0   \n",
       "\n",
       "  fn_input  \n",
       "0     None  "
      ]
     },
     "execution_count": 17,
     "metadata": {},
     "output_type": "execute_result"
    }
   ],
   "source": [
    "df[df['category'] == 'ads-aria']"
   ]
  },
  {
   "cell_type": "code",
   "execution_count": 18,
   "metadata": {},
   "outputs": [
    {
     "name": "stdout",
     "output_type": "stream",
     "text": [
      "python ../utils/draw_img.py --input ../data/intermediary/google_searches/iPhone-X/2019/11/05/Porsche/json/parsed_meta.ndjson --output ../data/intermediary/google_searches/iPhone-X/2019/11/05/Porsche/png/abstract_painting_img.png --img ../data/intermediary/google_searches/iPhone-X/2019/11/05/Porsche/png/screenshot.png\n"
     ]
    },
    {
     "data": {
      "text/plain": [
       "b'87\\n'"
      ]
     },
     "execution_count": 18,
     "metadata": {},
     "output_type": "execute_result"
    }
   ],
   "source": [
    "paint_abstract_representation(fn_metadata=fn_metadata,\n",
    "                              fn_out=fn_abstract_img,\n",
    "                              fn_img=fn_screenshot,\n",
    "                              verbose=1)"
   ]
  },
  {
   "cell_type": "code",
   "execution_count": 21,
   "metadata": {},
   "outputs": [],
   "source": [
    "from bs4 import BeautifulSoup\n",
    "import pandas as pd"
   ]
  },
  {
   "cell_type": "code",
   "execution_count": 16,
   "metadata": {},
   "outputs": [],
   "source": [
    "from utils.parsers import element_to_dict"
   ]
  },
  {
   "cell_type": "code",
   "execution_count": 45,
   "metadata": {},
   "outputs": [],
   "source": [
    "def ads_aria_parser(body):\n",
    "    \"\"\"Catches ADs with a accessibility features\"\"\"\n",
    "    data = []\n",
    "    for elm in body.find_all(attrs={'aria-label' : 'Ad'}):\n",
    "        row = element_to_dict(elm, category='ads-aria')\n",
    "        data.append(row)\n",
    "    return data"
   ]
  },
  {
   "cell_type": "code",
   "execution_count": 17,
   "metadata": {},
   "outputs": [],
   "source": [
    "soup = BeautifulSoup(assay.driver.page_source)"
   ]
  },
  {
   "cell_type": "code",
   "execution_count": 26,
   "metadata": {},
   "outputs": [],
   "source": [
    "for div in soup.find_all(\"div\", {'id' : 'sfooter'}): \n",
    "    div.decompose()\n",
    "body = soup.find(\"div\", attrs={'id' : 'cnt'})"
   ]
  },
  {
   "cell_type": "code",
   "execution_count": 29,
   "metadata": {},
   "outputs": [],
   "source": [
    "data = []\n",
    "for parser in parser_functions:\n",
    "    resp = parser(body)\n",
    "    data.extend(resp)"
   ]
  },
  {
   "cell_type": "code",
   "execution_count": 30,
   "metadata": {},
   "outputs": [
    {
     "data": {
      "text/plain": [
       "198"
      ]
     },
     "execution_count": 30,
     "metadata": {},
     "output_type": "execute_result"
    }
   ],
   "source": [
    "len(data)"
   ]
  },
  {
   "cell_type": "code",
   "execution_count": 333,
   "metadata": {},
   "outputs": [
    {
     "data": {
      "text/plain": [
       "'../data/input/google_searches/iPhone-X/2019/12/05/Minnesota-National-Guard/html/webpage_raw.html'"
      ]
     },
     "execution_count": 333,
     "metadata": {},
     "output_type": "execute_result"
    }
   ],
   "source": [
    "fn"
   ]
  },
  {
   "cell_type": "code",
   "execution_count": 112,
   "metadata": {},
   "outputs": [],
   "source": [
    "error_check = [\n",
    "    '../data/input/google_searches/iPhone-X/2019/12/02/Parry-Shen/html/webpage_raw.html',\n",
    "    '../data/input/google_searches/iPhone-X/2019/11/12/Hermès/html/webpage_raw.html',\n",
    "    '../data/input/google_searches/iPhone-X/2019/12/14/Jonathan-Gresham/html/webpage_raw.html',\n",
    "    '../data/input/google_searches/iPhone-X/2019/11/09/The-Flash/html/webpage_raw.html',\n",
    "    '../data/input/google_searches/iPhone-X/2019/11/05/Petya/html/webpage_raw.html',\n",
    "    '../data/input/google_searches/iPhone-X/2019/12/23/NYSEAPA/html/webpage_raw.html',\n",
    "    '../data/input/google_searches/iPhone-X/2019/12/05/Minnesota-National-Guard/html/webpage_raw.html',\n",
    "    '../data/input/google_searches/iPhone-X/2019/12/21/Posture/html/webpage_raw.html',\n",
    "    '../data/input/google_searches/iPhone-X/2019/12/19/Credential-stuffing/html/webpage_raw.html', # weird organic link\n",
    "    '../data/input/google_searches/iPhone-X/2019/11/11/Apixaban/html/webpage_raw.html', # search organic pain in the ass\n",
    "]\n",
    "\n",
    "good_examples = [\n",
    "    '../data/input/google_searches/iPhone-X/2019/12/09/Patrick-Stewart/html/webpage_raw.html'\n",
    "]"
   ]
  },
  {
   "cell_type": "code",
   "execution_count": null,
   "metadata": {},
   "outputs": [],
   "source": [
    "df[]"
   ]
  },
  {
   "cell_type": "code",
   "execution_count": 211,
   "metadata": {},
   "outputs": [],
   "source": [
    "assay.driver.refresh()"
   ]
  },
  {
   "cell_type": "code",
   "execution_count": 354,
   "metadata": {},
   "outputs": [],
   "source": [
    "assay.parser_functions = parser_functions"
   ]
  },
  {
   "cell_type": "code",
   "execution_count": 208,
   "metadata": {},
   "outputs": [
    {
     "name": "stdout",
     "output_type": "stream",
     "text": [
      "../data/input/google_searches/iPhone-X/2019/12/06/Columbia-Sportswear/html/webpage_raw.html\n"
     ]
    }
   ],
   "source": [
    "fn = files_input[89]\n",
    "# fn = error_check[-1]\n",
    "print(fn)"
   ]
  },
  {
   "cell_type": "code",
   "execution_count": 209,
   "metadata": {},
   "outputs": [],
   "source": [
    "assay.open_local_html(fn)"
   ]
  },
  {
   "cell_type": "code",
   "execution_count": 213,
   "metadata": {},
   "outputs": [],
   "source": [
    "assay.run(stain=True)"
   ]
  },
  {
   "cell_type": "code",
   "execution_count": 180,
   "metadata": {},
   "outputs": [
    {
     "data": {
      "text/plain": [
       "organic-search_result_2a    8\n",
       "organic                     6\n",
       "organic-tweet_2             5\n",
       "organic-search_result_1a    2\n",
       "Name: category, dtype: int64"
      ]
     },
     "execution_count": 180,
     "metadata": {},
     "output_type": "execute_result"
    }
   ],
   "source": [
    "df = assay.element_metadata\n",
    "df[df.category.str.contains('organic')].category.value_counts()"
   ]
  },
  {
   "cell_type": "code",
   "execution_count": 165,
   "metadata": {},
   "outputs": [
    {
     "data": {
      "text/plain": [
       "'jsname,id,data-jiis,data-async-type,data-async-context-required,class'"
      ]
     },
     "execution_count": 165,
     "metadata": {},
     "output_type": "execute_result"
    }
   ],
   "source": [
    "','.join(df['element'].iloc[0].attrs.keys())"
   ]
  },
  {
   "cell_type": "code",
   "execution_count": 94,
   "metadata": {},
   "outputs": [],
   "source": [
    "def link_parser(body):\n",
    "    \"\"\"\n",
    "    Parses all a tags with `href` attributes. \n",
    "    Decides if the url is `organic`, or from a Google property\n",
    "    such as \"youtube\" or google ad services.\n",
    "    \"\"\"\n",
    "    data = []\n",
    "    for elm in body.find_all('a', href=True, \n",
    "                             attrs={'data-amp' : False}):\n",
    "        url = elm['href']\n",
    "        domain = get_domain(url)\n",
    "        category = 'link-google'\n",
    "        if url in javascript:\n",
    "            domain = 'google.com'\n",
    "            category = 'link-javascript'\n",
    "        \n",
    "        # links to Google Ad services...\n",
    "        elif domain[0] == '/':\n",
    "            if domain.split('?')[0] == '/aclk': # check this\n",
    "                category = 'ads-google_ad_services'\n",
    "            domain = 'google.com'\n",
    "\n",
    "        elif domain == 'googleadservices.com':\n",
    "            category = 'ads-google_ad_services'\n",
    "#             elm = elm.parent\n",
    "\n",
    "        elif domain == 'youtube.com':\n",
    "            category = 'link-youtube'\n",
    "                \n",
    "        # get the whole box for organic\n",
    "        elif domain not in google_domains + javascript:\n",
    "            category = 'organic'\n",
    "            if 'data-ved' not in elm.attrs:\n",
    "                # get the sibling of the parent of the link\n",
    "                elm_potential_text = elm.parent.find_next_sibling('div')\n",
    "                  \n",
    "                if elm_potential_text:\n",
    "                    if elm_potential_text.text:\n",
    "                        category = 'organic-search_result_2'\n",
    "                        elm = elm.parent.parent\n",
    "                else:\n",
    "                    elm_potential_text = elm.parent.parent.find_next_sibling('div')\n",
    "                    if elm_potential_text:\n",
    "                        if any(elm_potential_text.find_all('div', recursive=True,\n",
    "                                                         text = True,\n",
    "                                                         attrs={\"role\" : False,\n",
    "                                                                \"aria-level\" : False,\n",
    "                                                                \"jsname\" : False})):\n",
    "                            category = 'organic-search_result_1'\n",
    "                            elm = elm_potential_text\n",
    "                            \n",
    "                        elif any(elm_potential_text.find_all('span', recursive=True,\n",
    "                                                         text = True,\n",
    "                                                         attrs={\"role\" : False,\n",
    "                                                                \"aria-level\" : False})):\n",
    "                            category = 'organic-search_result_3'\n",
    "                            elm = elm.parent.parent.parent\n",
    "                # tweets\n",
    "                if 'gws-twitter-link' in elm.attrs.get('class', []):\n",
    "                    for _ in range(3):\n",
    "                        elm = elm.parent\n",
    "                    category = 'organic-tweet_1'\n",
    "                    \n",
    "        row = element_to_dict(elm, url=url, \n",
    "                              domain=domain, \n",
    "                              category=category)\n",
    "        data.append(row)  \n",
    "    \n",
    "    return data"
   ]
  },
  {
   "cell_type": "code",
   "execution_count": 76,
   "metadata": {},
   "outputs": [],
   "source": [
    "from bs4 import BeautifulSoup\n",
    "from urlexpander import get_domain\n",
    "import pandas as pd\n",
    "\n",
    "from utils.config import javascript, google_domains\n",
    "from utils.parsers import element_to_dict"
   ]
  },
  {
   "cell_type": "code",
   "execution_count": 88,
   "metadata": {},
   "outputs": [],
   "source": [
    "soup = BeautifulSoup(assay.driver.page_source)"
   ]
  },
  {
   "cell_type": "code",
   "execution_count": 95,
   "metadata": {},
   "outputs": [],
   "source": [
    "data = link_parser(soup)"
   ]
  },
  {
   "cell_type": "code",
   "execution_count": 96,
   "metadata": {},
   "outputs": [],
   "source": [
    "df = pd.DataFrame(data)"
   ]
  },
  {
   "cell_type": "code",
   "execution_count": 97,
   "metadata": {},
   "outputs": [
    {
     "data": {
      "text/plain": [
       "'/html/body/div[10]/div/div[6]/div/div[3]/div/div[3]/div/div/div[1]/div[1]/div[1]/div/div/div/div[1]/div/div/div/div/div/div/div/div[2]/div[3]/a'"
      ]
     },
     "execution_count": 97,
     "metadata": {},
     "output_type": "execute_result"
    }
   ],
   "source": [
    "df[df['domain'] == 'solutionsreview.com'].xpath.iloc[0]"
   ]
  },
  {
   "cell_type": "code",
   "execution_count": 98,
   "metadata": {},
   "outputs": [
    {
     "data": {
      "text/html": [
       "<div>\n",
       "<style scoped>\n",
       "    .dataframe tbody tr th:only-of-type {\n",
       "        vertical-align: middle;\n",
       "    }\n",
       "\n",
       "    .dataframe tbody tr th {\n",
       "        vertical-align: top;\n",
       "    }\n",
       "\n",
       "    .dataframe thead th {\n",
       "        text-align: right;\n",
       "    }\n",
       "</style>\n",
       "<table border=\"1\" class=\"dataframe\">\n",
       "  <thead>\n",
       "    <tr style=\"text-align: right;\">\n",
       "      <th></th>\n",
       "      <th>text</th>\n",
       "      <th>link</th>\n",
       "      <th>domain</th>\n",
       "      <th>xpath</th>\n",
       "      <th>element_class</th>\n",
       "      <th>category</th>\n",
       "      <th>element</th>\n",
       "      <th>tag</th>\n",
       "      <th>attrs</th>\n",
       "    </tr>\n",
       "  </thead>\n",
       "  <tbody>\n",
       "    <tr>\n",
       "      <td>50</td>\n",
       "      <td>Solutions Review › identity-managementThe Top ...</td>\n",
       "      <td>https://solutionsreview.com/identity-managemen...</td>\n",
       "      <td>solutionsreview.com</td>\n",
       "      <td>/html/body/div[10]/div/div[6]/div/div[3]/div/d...</td>\n",
       "      <td>fT6YYc</td>\n",
       "      <td>organic</td>\n",
       "      <td>[[[], [&lt;cite class=\"iUh30 bc\"&gt;Solutions Review...</td>\n",
       "      <td>a</td>\n",
       "      <td>{'class': ['fT6YYc'], 'href': 'https://solutio...</td>\n",
       "    </tr>\n",
       "  </tbody>\n",
       "</table>\n",
       "</div>"
      ],
      "text/plain": [
       "                                                 text  \\\n",
       "50  Solutions Review › identity-managementThe Top ...   \n",
       "\n",
       "                                                 link               domain  \\\n",
       "50  https://solutionsreview.com/identity-managemen...  solutionsreview.com   \n",
       "\n",
       "                                                xpath element_class category  \\\n",
       "50  /html/body/div[10]/div/div[6]/div/div[3]/div/d...        fT6YYc  organic   \n",
       "\n",
       "                                              element tag  \\\n",
       "50  [[[], [<cite class=\"iUh30 bc\">Solutions Review...   a   \n",
       "\n",
       "                                                attrs  \n",
       "50  {'class': ['fT6YYc'], 'href': 'https://solutio...  "
      ]
     },
     "execution_count": 98,
     "metadata": {},
     "output_type": "execute_result"
    }
   ],
   "source": [
    "df[df['domain'] == 'solutionsreview.com']"
   ]
  },
  {
   "cell_type": "code",
   "execution_count": null,
   "metadata": {},
   "outputs": [],
   "source": []
  },
  {
   "cell_type": "code",
   "execution_count": 546,
   "metadata": {},
   "outputs": [],
   "source": [
    "organic = df[df.category.str.contains('organic')]"
   ]
  },
  {
   "cell_type": "code",
   "execution_count": 547,
   "metadata": {},
   "outputs": [],
   "source": [
    "elm = organic.iloc[1]['element']"
   ]
  },
  {
   "cell_type": "code",
   "execution_count": 618,
   "metadata": {},
   "outputs": [
    {
     "data": {
      "text/plain": [
       "'div'"
      ]
     },
     "execution_count": 618,
     "metadata": {},
     "output_type": "execute_result"
    }
   ],
   "source": [
    "elm.name"
   ]
  },
  {
   "cell_type": "code",
   "execution_count": 601,
   "metadata": {},
   "outputs": [
    {
     "data": {
      "text/plain": [
       "'Medscape › reference › drug › eliqu...Web resultsEliquis (apixaban) dosing, indications, interactions, adverse effects ...Renal impairment (nonvalvular atrial fibrillation)  ... Serum creatinine ≥1.5 mg/dL: Decrease dose to 2.5 mg BID if patient has 1 additional characteristic of age ≥80 years or weight ≤60 kg.  ... Switching between apixaban and anticoagulants other than warfarin: Discontinue one being taken ...People also search for'"
      ]
     },
     "execution_count": 601,
     "metadata": {},
     "output_type": "execute_result"
    }
   ],
   "source": [
    "elm.get_text()"
   ]
  },
  {
   "cell_type": "code",
   "execution_count": 555,
   "metadata": {},
   "outputs": [
    {
     "data": {
      "text/plain": [
       "False"
      ]
     },
     "execution_count": 555,
     "metadata": {},
     "output_type": "execute_result"
    }
   ],
   "source": [
    "any([x in ','.join((elm.attrs.keys())) for x in ['data-', 'jsname']])"
   ]
  },
  {
   "cell_type": "code",
   "execution_count": 122,
   "metadata": {},
   "outputs": [],
   "source": [
    "from utils.analysis import xpath_prune"
   ]
  },
  {
   "cell_type": "code",
   "execution_count": 133,
   "metadata": {},
   "outputs": [
    {
     "data": {
      "text/plain": [
       "126"
      ]
     },
     "execution_count": 133,
     "metadata": {},
     "output_type": "execute_result"
    }
   ],
   "source": [
    "len(df)"
   ]
  },
  {
   "cell_type": "code",
   "execution_count": 124,
   "metadata": {},
   "outputs": [
    {
     "data": {
      "text/plain": [
       "125"
      ]
     },
     "execution_count": 124,
     "metadata": {},
     "output_type": "execute_result"
    }
   ],
   "source": [
    "len(xpath_prune(df))"
   ]
  },
  {
   "cell_type": "code",
   "execution_count": 131,
   "metadata": {},
   "outputs": [
    {
     "data": {
      "text/html": [
       "<div>\n",
       "<style scoped>\n",
       "    .dataframe tbody tr th:only-of-type {\n",
       "        vertical-align: middle;\n",
       "    }\n",
       "\n",
       "    .dataframe tbody tr th {\n",
       "        vertical-align: top;\n",
       "    }\n",
       "\n",
       "    .dataframe thead th {\n",
       "        text-align: right;\n",
       "    }\n",
       "</style>\n",
       "<table border=\"1\" class=\"dataframe\">\n",
       "  <thead>\n",
       "    <tr style=\"text-align: right;\">\n",
       "      <th></th>\n",
       "      <th>text</th>\n",
       "      <th>link</th>\n",
       "      <th>domain</th>\n",
       "      <th>xpath</th>\n",
       "      <th>element_class</th>\n",
       "      <th>category</th>\n",
       "      <th>element</th>\n",
       "      <th>tag</th>\n",
       "      <th>attrs</th>\n",
       "      <th>dimensions</th>\n",
       "      <th>location</th>\n",
       "      <th>area</th>\n",
       "      <th>area_page</th>\n",
       "      <th>fn_input</th>\n",
       "    </tr>\n",
       "  </thead>\n",
       "  <tbody>\n",
       "    <tr>\n",
       "      <td>121</td>\n",
       "      <td>I'm conscious that a little bit of harmonica g...</td>\n",
       "      <td>None</td>\n",
       "      <td>twitter.com</td>\n",
       "      <td>/html/body/div[10]/div/div[6]/div/div[3]/div/d...</td>\n",
       "      <td>EhKlzb|ttGZ5d|dHOsHb</td>\n",
       "      <td>organic-tweet</td>\n",
       "      <td>[[[m, &lt;div class=\"Brgz0 tw-res\" data-ved=\"2ahU...</td>\n",
       "      <td>div</td>\n",
       "      <td>{'class': ['EhKlzb', 'ttGZ5d', 'dHOsHb'], 'jsc...</td>\n",
       "      <td>{'height': 260.0, 'width': 232.0}</td>\n",
       "      <td>{'x': 24, 'y': 4374}</td>\n",
       "      <td>0.0</td>\n",
       "      <td>60320.0</td>\n",
       "      <td>None</td>\n",
       "    </tr>\n",
       "    <tr>\n",
       "      <td>122</td>\n",
       "      <td>“While We’re Young\" is a plucky pop rock tune ...</td>\n",
       "      <td>None</td>\n",
       "      <td>twitter.com</td>\n",
       "      <td>/html/body/div[10]/div/div[6]/div/div[3]/div/d...</td>\n",
       "      <td>EhKlzb|ttGZ5d|dHOsHb</td>\n",
       "      <td>organic-tweet</td>\n",
       "      <td>[[[m, &lt;div class=\"Brgz0 tw-res\" data-ved=\"2ahU...</td>\n",
       "      <td>div</td>\n",
       "      <td>{'class': ['EhKlzb', 'ttGZ5d', 'dHOsHb'], 'jsc...</td>\n",
       "      <td>{'height': 260.0, 'width': 232.0}</td>\n",
       "      <td>{'x': 264, 'y': 4374}</td>\n",
       "      <td>0.0</td>\n",
       "      <td>28860.0</td>\n",
       "      <td>None</td>\n",
       "    </tr>\n",
       "    <tr>\n",
       "      <td>123</td>\n",
       "      <td>From yesterday's New York Times Mini Crossword...</td>\n",
       "      <td>None</td>\n",
       "      <td>twitter.com</td>\n",
       "      <td>/html/body/div[10]/div/div[6]/div/div[3]/div/d...</td>\n",
       "      <td>EhKlzb|ttGZ5d|dHOsHb</td>\n",
       "      <td>organic-tweet</td>\n",
       "      <td>[[[m, &lt;div class=\"Brgz0 tw-res\" data-ved=\"2ahU...</td>\n",
       "      <td>div</td>\n",
       "      <td>{'class': ['EhKlzb', 'ttGZ5d', 'dHOsHb'], 'id'...</td>\n",
       "      <td>{'height': 260.0, 'width': 232.0}</td>\n",
       "      <td>{'x': 504, 'y': 4374}</td>\n",
       "      <td>0.0</td>\n",
       "      <td>0.0</td>\n",
       "      <td>None</td>\n",
       "    </tr>\n",
       "    <tr>\n",
       "      <td>124</td>\n",
       "      <td>On sale now at www.hueylewisandthen… Twitter ·...</td>\n",
       "      <td>None</td>\n",
       "      <td>twitter.com</td>\n",
       "      <td>/html/body/div[10]/div/div[6]/div/div[3]/div/d...</td>\n",
       "      <td>EhKlzb|ttGZ5d|dHOsHb</td>\n",
       "      <td>organic-tweet</td>\n",
       "      <td>[[[m, &lt;div class=\"Brgz0 tw-res\" data-ved=\"2ahU...</td>\n",
       "      <td>div</td>\n",
       "      <td>{'class': ['EhKlzb', 'ttGZ5d', 'dHOsHb'], 'id'...</td>\n",
       "      <td>{'height': 260.0, 'width': 232.0}</td>\n",
       "      <td>{'x': 744, 'y': 4374}</td>\n",
       "      <td>0.0</td>\n",
       "      <td>0.0</td>\n",
       "      <td>None</td>\n",
       "    </tr>\n",
       "    <tr>\n",
       "      <td>125</td>\n",
       "      <td>My dad was a drummer and he always had a set o...</td>\n",
       "      <td>None</td>\n",
       "      <td>twitter.com</td>\n",
       "      <td>/html/body/div[10]/div/div[6]/div/div[3]/div/d...</td>\n",
       "      <td>EhKlzb|ttGZ5d|dHOsHb</td>\n",
       "      <td>organic-tweet</td>\n",
       "      <td>[[[m, &lt;div class=\"Brgz0 tw-res\" data-ved=\"2ahU...</td>\n",
       "      <td>div</td>\n",
       "      <td>{'class': ['EhKlzb', 'ttGZ5d', 'dHOsHb'], 'id'...</td>\n",
       "      <td>{'height': 260.0, 'width': 232.0}</td>\n",
       "      <td>{'x': 984, 'y': 4374}</td>\n",
       "      <td>0.0</td>\n",
       "      <td>0.0</td>\n",
       "      <td>None</td>\n",
       "    </tr>\n",
       "  </tbody>\n",
       "</table>\n",
       "</div>"
      ],
      "text/plain": [
       "                                                  text  link       domain  \\\n",
       "121  I'm conscious that a little bit of harmonica g...  None  twitter.com   \n",
       "122  “While We’re Young\" is a plucky pop rock tune ...  None  twitter.com   \n",
       "123  From yesterday's New York Times Mini Crossword...  None  twitter.com   \n",
       "124  On sale now at www.hueylewisandthen… Twitter ·...  None  twitter.com   \n",
       "125  My dad was a drummer and he always had a set o...  None  twitter.com   \n",
       "\n",
       "                                                 xpath         element_class  \\\n",
       "121  /html/body/div[10]/div/div[6]/div/div[3]/div/d...  EhKlzb|ttGZ5d|dHOsHb   \n",
       "122  /html/body/div[10]/div/div[6]/div/div[3]/div/d...  EhKlzb|ttGZ5d|dHOsHb   \n",
       "123  /html/body/div[10]/div/div[6]/div/div[3]/div/d...  EhKlzb|ttGZ5d|dHOsHb   \n",
       "124  /html/body/div[10]/div/div[6]/div/div[3]/div/d...  EhKlzb|ttGZ5d|dHOsHb   \n",
       "125  /html/body/div[10]/div/div[6]/div/div[3]/div/d...  EhKlzb|ttGZ5d|dHOsHb   \n",
       "\n",
       "          category                                            element  tag  \\\n",
       "121  organic-tweet  [[[m, <div class=\"Brgz0 tw-res\" data-ved=\"2ahU...  div   \n",
       "122  organic-tweet  [[[m, <div class=\"Brgz0 tw-res\" data-ved=\"2ahU...  div   \n",
       "123  organic-tweet  [[[m, <div class=\"Brgz0 tw-res\" data-ved=\"2ahU...  div   \n",
       "124  organic-tweet  [[[m, <div class=\"Brgz0 tw-res\" data-ved=\"2ahU...  div   \n",
       "125  organic-tweet  [[[m, <div class=\"Brgz0 tw-res\" data-ved=\"2ahU...  div   \n",
       "\n",
       "                                                 attrs  \\\n",
       "121  {'class': ['EhKlzb', 'ttGZ5d', 'dHOsHb'], 'jsc...   \n",
       "122  {'class': ['EhKlzb', 'ttGZ5d', 'dHOsHb'], 'jsc...   \n",
       "123  {'class': ['EhKlzb', 'ttGZ5d', 'dHOsHb'], 'id'...   \n",
       "124  {'class': ['EhKlzb', 'ttGZ5d', 'dHOsHb'], 'id'...   \n",
       "125  {'class': ['EhKlzb', 'ttGZ5d', 'dHOsHb'], 'id'...   \n",
       "\n",
       "                            dimensions               location  area  \\\n",
       "121  {'height': 260.0, 'width': 232.0}   {'x': 24, 'y': 4374}   0.0   \n",
       "122  {'height': 260.0, 'width': 232.0}  {'x': 264, 'y': 4374}   0.0   \n",
       "123  {'height': 260.0, 'width': 232.0}  {'x': 504, 'y': 4374}   0.0   \n",
       "124  {'height': 260.0, 'width': 232.0}  {'x': 744, 'y': 4374}   0.0   \n",
       "125  {'height': 260.0, 'width': 232.0}  {'x': 984, 'y': 4374}   0.0   \n",
       "\n",
       "     area_page fn_input  \n",
       "121    60320.0     None  \n",
       "122    28860.0     None  \n",
       "123        0.0     None  \n",
       "124        0.0     None  \n",
       "125        0.0     None  "
      ]
     },
     "execution_count": 131,
     "metadata": {},
     "output_type": "execute_result"
    }
   ],
   "source": [
    "xpath_prune(df[df.category=='organic-tweet'])"
   ]
  },
  {
   "cell_type": "code",
   "execution_count": 132,
   "metadata": {},
   "outputs": [
    {
     "data": {
      "text/html": [
       "<div>\n",
       "<style scoped>\n",
       "    .dataframe tbody tr th:only-of-type {\n",
       "        vertical-align: middle;\n",
       "    }\n",
       "\n",
       "    .dataframe tbody tr th {\n",
       "        vertical-align: top;\n",
       "    }\n",
       "\n",
       "    .dataframe thead th {\n",
       "        text-align: right;\n",
       "    }\n",
       "</style>\n",
       "<table border=\"1\" class=\"dataframe\">\n",
       "  <thead>\n",
       "    <tr style=\"text-align: right;\">\n",
       "      <th></th>\n",
       "      <th>text</th>\n",
       "      <th>link</th>\n",
       "      <th>domain</th>\n",
       "      <th>xpath</th>\n",
       "      <th>element_class</th>\n",
       "      <th>category</th>\n",
       "      <th>element</th>\n",
       "      <th>tag</th>\n",
       "      <th>attrs</th>\n",
       "      <th>dimensions</th>\n",
       "      <th>location</th>\n",
       "      <th>area</th>\n",
       "      <th>area_page</th>\n",
       "      <th>fn_input</th>\n",
       "    </tr>\n",
       "  </thead>\n",
       "  <tbody>\n",
       "    <tr>\n",
       "      <td>121</td>\n",
       "      <td>I'm conscious that a little bit of harmonica g...</td>\n",
       "      <td>None</td>\n",
       "      <td>twitter.com</td>\n",
       "      <td>/html/body/div[10]/div/div[6]/div/div[3]/div/d...</td>\n",
       "      <td>EhKlzb|ttGZ5d|dHOsHb</td>\n",
       "      <td>organic-tweet</td>\n",
       "      <td>[[[m, &lt;div class=\"Brgz0 tw-res\" data-ved=\"2ahU...</td>\n",
       "      <td>div</td>\n",
       "      <td>{'class': ['EhKlzb', 'ttGZ5d', 'dHOsHb'], 'jsc...</td>\n",
       "      <td>{'height': 260.0, 'width': 232.0}</td>\n",
       "      <td>{'x': 24, 'y': 4374}</td>\n",
       "      <td>0.0</td>\n",
       "      <td>60320.0</td>\n",
       "      <td>None</td>\n",
       "    </tr>\n",
       "    <tr>\n",
       "      <td>122</td>\n",
       "      <td>“While We’re Young\" is a plucky pop rock tune ...</td>\n",
       "      <td>None</td>\n",
       "      <td>twitter.com</td>\n",
       "      <td>/html/body/div[10]/div/div[6]/div/div[3]/div/d...</td>\n",
       "      <td>EhKlzb|ttGZ5d|dHOsHb</td>\n",
       "      <td>organic-tweet</td>\n",
       "      <td>[[[m, &lt;div class=\"Brgz0 tw-res\" data-ved=\"2ahU...</td>\n",
       "      <td>div</td>\n",
       "      <td>{'class': ['EhKlzb', 'ttGZ5d', 'dHOsHb'], 'jsc...</td>\n",
       "      <td>{'height': 260.0, 'width': 232.0}</td>\n",
       "      <td>{'x': 264, 'y': 4374}</td>\n",
       "      <td>0.0</td>\n",
       "      <td>28860.0</td>\n",
       "      <td>None</td>\n",
       "    </tr>\n",
       "    <tr>\n",
       "      <td>123</td>\n",
       "      <td>From yesterday's New York Times Mini Crossword...</td>\n",
       "      <td>None</td>\n",
       "      <td>twitter.com</td>\n",
       "      <td>/html/body/div[10]/div/div[6]/div/div[3]/div/d...</td>\n",
       "      <td>EhKlzb|ttGZ5d|dHOsHb</td>\n",
       "      <td>organic-tweet</td>\n",
       "      <td>[[[m, &lt;div class=\"Brgz0 tw-res\" data-ved=\"2ahU...</td>\n",
       "      <td>div</td>\n",
       "      <td>{'class': ['EhKlzb', 'ttGZ5d', 'dHOsHb'], 'id'...</td>\n",
       "      <td>{'height': 260.0, 'width': 232.0}</td>\n",
       "      <td>{'x': 504, 'y': 4374}</td>\n",
       "      <td>0.0</td>\n",
       "      <td>0.0</td>\n",
       "      <td>None</td>\n",
       "    </tr>\n",
       "    <tr>\n",
       "      <td>124</td>\n",
       "      <td>On sale now at www.hueylewisandthen… Twitter ·...</td>\n",
       "      <td>None</td>\n",
       "      <td>twitter.com</td>\n",
       "      <td>/html/body/div[10]/div/div[6]/div/div[3]/div/d...</td>\n",
       "      <td>EhKlzb|ttGZ5d|dHOsHb</td>\n",
       "      <td>organic-tweet</td>\n",
       "      <td>[[[m, &lt;div class=\"Brgz0 tw-res\" data-ved=\"2ahU...</td>\n",
       "      <td>div</td>\n",
       "      <td>{'class': ['EhKlzb', 'ttGZ5d', 'dHOsHb'], 'id'...</td>\n",
       "      <td>{'height': 260.0, 'width': 232.0}</td>\n",
       "      <td>{'x': 744, 'y': 4374}</td>\n",
       "      <td>0.0</td>\n",
       "      <td>0.0</td>\n",
       "      <td>None</td>\n",
       "    </tr>\n",
       "    <tr>\n",
       "      <td>125</td>\n",
       "      <td>My dad was a drummer and he always had a set o...</td>\n",
       "      <td>None</td>\n",
       "      <td>twitter.com</td>\n",
       "      <td>/html/body/div[10]/div/div[6]/div/div[3]/div/d...</td>\n",
       "      <td>EhKlzb|ttGZ5d|dHOsHb</td>\n",
       "      <td>organic-tweet</td>\n",
       "      <td>[[[m, &lt;div class=\"Brgz0 tw-res\" data-ved=\"2ahU...</td>\n",
       "      <td>div</td>\n",
       "      <td>{'class': ['EhKlzb', 'ttGZ5d', 'dHOsHb'], 'id'...</td>\n",
       "      <td>{'height': 260.0, 'width': 232.0}</td>\n",
       "      <td>{'x': 984, 'y': 4374}</td>\n",
       "      <td>0.0</td>\n",
       "      <td>0.0</td>\n",
       "      <td>None</td>\n",
       "    </tr>\n",
       "  </tbody>\n",
       "</table>\n",
       "</div>"
      ],
      "text/plain": [
       "                                                  text  link       domain  \\\n",
       "121  I'm conscious that a little bit of harmonica g...  None  twitter.com   \n",
       "122  “While We’re Young\" is a plucky pop rock tune ...  None  twitter.com   \n",
       "123  From yesterday's New York Times Mini Crossword...  None  twitter.com   \n",
       "124  On sale now at www.hueylewisandthen… Twitter ·...  None  twitter.com   \n",
       "125  My dad was a drummer and he always had a set o...  None  twitter.com   \n",
       "\n",
       "                                                 xpath         element_class  \\\n",
       "121  /html/body/div[10]/div/div[6]/div/div[3]/div/d...  EhKlzb|ttGZ5d|dHOsHb   \n",
       "122  /html/body/div[10]/div/div[6]/div/div[3]/div/d...  EhKlzb|ttGZ5d|dHOsHb   \n",
       "123  /html/body/div[10]/div/div[6]/div/div[3]/div/d...  EhKlzb|ttGZ5d|dHOsHb   \n",
       "124  /html/body/div[10]/div/div[6]/div/div[3]/div/d...  EhKlzb|ttGZ5d|dHOsHb   \n",
       "125  /html/body/div[10]/div/div[6]/div/div[3]/div/d...  EhKlzb|ttGZ5d|dHOsHb   \n",
       "\n",
       "          category                                            element  tag  \\\n",
       "121  organic-tweet  [[[m, <div class=\"Brgz0 tw-res\" data-ved=\"2ahU...  div   \n",
       "122  organic-tweet  [[[m, <div class=\"Brgz0 tw-res\" data-ved=\"2ahU...  div   \n",
       "123  organic-tweet  [[[m, <div class=\"Brgz0 tw-res\" data-ved=\"2ahU...  div   \n",
       "124  organic-tweet  [[[m, <div class=\"Brgz0 tw-res\" data-ved=\"2ahU...  div   \n",
       "125  organic-tweet  [[[m, <div class=\"Brgz0 tw-res\" data-ved=\"2ahU...  div   \n",
       "\n",
       "                                                 attrs  \\\n",
       "121  {'class': ['EhKlzb', 'ttGZ5d', 'dHOsHb'], 'jsc...   \n",
       "122  {'class': ['EhKlzb', 'ttGZ5d', 'dHOsHb'], 'jsc...   \n",
       "123  {'class': ['EhKlzb', 'ttGZ5d', 'dHOsHb'], 'id'...   \n",
       "124  {'class': ['EhKlzb', 'ttGZ5d', 'dHOsHb'], 'id'...   \n",
       "125  {'class': ['EhKlzb', 'ttGZ5d', 'dHOsHb'], 'id'...   \n",
       "\n",
       "                            dimensions               location  area  \\\n",
       "121  {'height': 260.0, 'width': 232.0}   {'x': 24, 'y': 4374}   0.0   \n",
       "122  {'height': 260.0, 'width': 232.0}  {'x': 264, 'y': 4374}   0.0   \n",
       "123  {'height': 260.0, 'width': 232.0}  {'x': 504, 'y': 4374}   0.0   \n",
       "124  {'height': 260.0, 'width': 232.0}  {'x': 744, 'y': 4374}   0.0   \n",
       "125  {'height': 260.0, 'width': 232.0}  {'x': 984, 'y': 4374}   0.0   \n",
       "\n",
       "     area_page fn_input  \n",
       "121    60320.0     None  \n",
       "122    28860.0     None  \n",
       "123        0.0     None  \n",
       "124        0.0     None  \n",
       "125        0.0     None  "
      ]
     },
     "execution_count": 132,
     "metadata": {},
     "output_type": "execute_result"
    }
   ],
   "source": [
    "df[df.category=='organic-tweet']"
   ]
  },
  {
   "cell_type": "code",
   "execution_count": null,
   "metadata": {},
   "outputs": [],
   "source": [
    "# maybe get atext in"
   ]
  }
 ],
 "metadata": {
  "kernelspec": {
   "display_name": "Python 3",
   "language": "python",
   "name": "python3"
  },
  "language_info": {
   "codemirror_mode": {
    "name": "ipython",
    "version": 3
   },
   "file_extension": ".py",
   "mimetype": "text/x-python",
   "name": "python",
   "nbconvert_exporter": "python",
   "pygments_lexer": "ipython3",
   "version": "3.7.3"
  }
 },
 "nbformat": 4,
 "nbformat_minor": 4
}
