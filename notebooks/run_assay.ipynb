{
 "cells": [
  {
   "cell_type": "code",
   "execution_count": 1,
   "metadata": {},
   "outputs": [],
   "source": [
    "%load_ext autoreload\n",
    "%autoreload 2"
   ]
  },
  {
   "cell_type": "code",
   "execution_count": 2,
   "metadata": {},
   "outputs": [],
   "source": [
    "import os\n",
    "import sys\n",
    "import time\n",
    "import glob\n",
    "import inspect\n",
    "\n",
    "import pandas as pd\n",
    "from tqdm import tqdm\n",
    "\n",
    "sys.path.append('..')\n",
    "import utils.parsers as P\n",
    "from utils.config import cat2color, window_size, user_agent\n",
    "from utils.analysis import GoogleWebAssay, paint_abstract_representation"
   ]
  },
  {
   "cell_type": "code",
   "execution_count": 3,
   "metadata": {},
   "outputs": [
    {
     "data": {
      "text/plain": [
       "55"
      ]
     },
     "execution_count": 3,
     "metadata": {},
     "output_type": "execute_result"
    }
   ],
   "source": [
    "parser_functions = [\n",
    "    o[1] for o in inspect.getmembers(P)\n",
    "    if inspect.isfunction(o[1]) and\n",
    "    '_parser' in o[0]\n",
    "]\n",
    "len(parser_functions)"
   ]
  },
  {
   "cell_type": "code",
   "execution_count": 4,
   "metadata": {},
   "outputs": [],
   "source": [
    "assay = GoogleWebAssay(user_agent = user_agent,\n",
    "                       window_size = window_size,\n",
    "                       parser_functions = parser_functions,\n",
    "                       color_palette = cat2color,\n",
    "                       headless = True)"
   ]
  },
  {
   "cell_type": "code",
   "execution_count": 5,
   "metadata": {},
   "outputs": [],
   "source": [
    "data_dir_in  = '../data/input/google_searches/'\n",
    "data_dir_out = '../data/intermediary/google_searches/'\n",
    "fn_errors = '../data/intermediary/assay_errors.csv'"
   ]
  },
  {
   "cell_type": "code",
   "execution_count": 6,
   "metadata": {},
   "outputs": [
    {
     "data": {
      "text/plain": [
       "16808"
      ]
     },
     "execution_count": 6,
     "metadata": {},
     "output_type": "execute_result"
    }
   ],
   "source": [
    "files_input = glob.glob(os.path.join(\n",
    "    data_dir_in, 'iPhone-X/*/*/*/*/html/webpage_raw.html'))\n",
    "len(files_input)"
   ]
  },
  {
   "cell_type": "code",
   "execution_count": 7,
   "metadata": {},
   "outputs": [
    {
     "data": {
      "text/plain": [
       "15283"
      ]
     },
     "execution_count": 7,
     "metadata": {},
     "output_type": "execute_result"
    }
   ],
   "source": [
    "errors = pd.read_csv(fn_errors)\n",
    "files_input = [f for f in files_input if f not in errors.fn.tolist()]\n",
    "len(files_input)"
   ]
  },
  {
   "cell_type": "code",
   "execution_count": 8,
   "metadata": {},
   "outputs": [],
   "source": [
    "def get_context(fn):\n",
    "    '''\n",
    "    Get file paths for output files\n",
    "    '''\n",
    "    fn_metadata = fn.replace(data_dir_in, data_dir_out) \\\n",
    "                    .replace('.html', '.ndjson') \\\n",
    "                    .replace('webpage_raw', 'parsed_meta') \\\n",
    "                    .replace('html/', 'json/')\n",
    "    \n",
    "    fn_stained_html = fn.replace(data_dir_in, data_dir_out) \\\n",
    "                        .replace('webpage_raw', 'webpage_stained')\n",
    "    \n",
    "    fn_screenshot = fn.replace(data_dir_in, data_dir_out) \\\n",
    "                      .replace('.html', '.png') \\\n",
    "                      .replace('webpage_raw', 'screenshot') \\\n",
    "                      .replace('html/', 'png/')\n",
    "    \n",
    "    fn_abstract_img = fn_screenshot.replace('screenshot', \n",
    "                                            'abstract_painting')\n",
    "    \n",
    "    return fn_metadata, fn_stained_html, fn_screenshot, fn_abstract_img"
   ]
  },
  {
   "cell_type": "code",
   "execution_count": 9,
   "metadata": {},
   "outputs": [
    {
     "data": {
      "text/plain": [
       "('../data/intermediary/google_searches/iPhone-X/2019/11/28/Michelle-Pfeiffer/json/parsed_meta.ndjson',\n",
       " '../data/intermediary/google_searches/iPhone-X/2019/11/28/Michelle-Pfeiffer/html/webpage_stained.html',\n",
       " '../data/intermediary/google_searches/iPhone-X/2019/11/28/Michelle-Pfeiffer/png/screenshot.png',\n",
       " '../data/intermediary/google_searches/iPhone-X/2019/11/28/Michelle-Pfeiffer/png/abstract_painting.png')"
      ]
     },
     "execution_count": 9,
     "metadata": {},
     "output_type": "execute_result"
    }
   ],
   "source": [
    "get_context(files_input[0])"
   ]
  },
  {
   "cell_type": "code",
   "execution_count": 10,
   "metadata": {},
   "outputs": [
    {
     "data": {
      "text/plain": [
       "14153"
      ]
     },
     "execution_count": 10,
     "metadata": {},
     "output_type": "execute_result"
    }
   ],
   "source": [
    "metadata = glob.glob(data_dir_out + 'iPhone-X/*/*/*/*/json/*')\n",
    "len(metadata)"
   ]
  },
  {
   "cell_type": "code",
   "execution_count": null,
   "metadata": {},
   "outputs": [
    {
     "name": "stderr",
     "output_type": "stream",
     "text": [
      " 39%|███▉      | 5148/13283 [15:11<18:58:23,  8.40s/it]"
     ]
    }
   ],
   "source": [
    "for fn in tqdm(files_input):\n",
    "    fn_metadata, _, fn_screenshot, fn_abstract_img = get_context(fn)\n",
    "    for output in [fn_metadata, _, fn_screenshot]:\n",
    "        _dir = os.path.dirname(output)\n",
    "        os.makedirs(_dir, exist_ok=True)\n",
    "    if os.path.exists(fn_abstract_img):\n",
    "        continue\n",
    "    assay.open_local_html(fn)\n",
    "    assay.screenshot_full(fn_screenshot)\n",
    "    assay.driver.execute_script(\"window.scrollTo(0, 0);\")\n",
    "    time.sleep(.2)\n",
    "    assay.run(fn, fn_metadata=fn_metadata, stain=False)\n",
    "    if assay.element_metadata.empty:\n",
    "        continue\n",
    "    os.environ[\"DISPLAY\"] = \":1\"\n",
    "    paint_abstract_representation(fn_metadata=fn_metadata,\n",
    "                                  fn_out=fn_abstract_img.replace('.png', '_img.png'),\n",
    "                                  fn_img=fn_screenshot)\n",
    "    paint_abstract_representation(fn_metadata=fn_metadata,\n",
    "                                  fn_out=fn_abstract_img)\n"
   ]
  },
  {
   "cell_type": "code",
   "execution_count": null,
   "metadata": {},
   "outputs": [],
   "source": []
  }
 ],
 "metadata": {
  "kernelspec": {
   "display_name": "Python 3",
   "language": "python",
   "name": "python3"
  },
  "language_info": {
   "codemirror_mode": {
    "name": "ipython",
    "version": 3
   },
   "file_extension": ".py",
   "mimetype": "text/x-python",
   "name": "python",
   "nbconvert_exporter": "python",
   "pygments_lexer": "ipython3",
   "version": "3.7.3"
  }
 },
 "nbformat": 4,
 "nbformat_minor": 4
}
