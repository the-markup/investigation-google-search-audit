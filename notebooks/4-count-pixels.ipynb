{
 "cells": [
  {
   "cell_type": "code",
   "execution_count": 1,
   "metadata": {},
   "outputs": [],
   "source": [
    "import os\n",
    "import sys\n",
    "from collections import Counter\n",
    "from multiprocessing import Pool\n",
    "import glob\n",
    "\n",
    "import pandas as pd\n",
    "from PIL import Image\n",
    "from tqdm import tqdm\n",
    "\n",
    "sys.path.append('..')\n",
    "from utils.config import width, height"
   ]
  },
  {
   "cell_type": "code",
   "execution_count": 2,
   "metadata": {},
   "outputs": [],
   "source": [
    "data_dir_metadata = '../data/intermediary/google_search/'"
   ]
  },
  {
   "cell_type": "code",
   "execution_count": 3,
   "metadata": {},
   "outputs": [
    {
     "data": {
      "text/plain": [
       "15264"
      ]
     },
     "execution_count": 3,
     "metadata": {},
     "output_type": "execute_result"
    }
   ],
   "source": [
    "painted_files = glob.glob(os.path.join(\n",
    "    data_dir_metadata, \n",
    "    'iPhone-X/*/*/*/*/png/abstract_painting.png'\n",
    "))\n",
    "len(painted_files)"
   ]
  },
  {
   "cell_type": "code",
   "execution_count": 4,
   "metadata": {},
   "outputs": [],
   "source": [
    "# painted_files = painted_files[:30]"
   ]
  },
  {
   "cell_type": "code",
   "execution_count": 5,
   "metadata": {},
   "outputs": [],
   "source": [
    "boarder = (0, 0, width, height)"
   ]
  },
  {
   "cell_type": "code",
   "execution_count": 6,
   "metadata": {},
   "outputs": [],
   "source": [
    "def count_pixels(fn):\n",
    "    \"\"\"\n",
    "    Opens a file from s3, counts the color of all pixels for the full page and the first glance\n",
    "    \"\"\"\n",
    "    with Image.open(fn) as img:\n",
    "        colors_full = Counter()\n",
    "        colors_fg = Counter()\n",
    "\n",
    "        colors_full.update(img.getdata())\n",
    "        colors_fg.update(img.crop(boarder).getdata())\n",
    "        \n",
    "        width, height = img.size\n",
    "\n",
    "        row = {\n",
    "            'fn' : fn,\n",
    "            'pixels_fullpage' : dict(colors_full),\n",
    "            'pixels_firstglance' : dict(colors_fg),\n",
    "            'height' : height,\n",
    "            'width' :width\n",
    "        }\n",
    "        \n",
    "        return row"
   ]
  },
  {
   "cell_type": "code",
   "execution_count": 7,
   "metadata": {},
   "outputs": [
    {
     "name": "stderr",
     "output_type": "stream",
     "text": [
      "100%|██████████| 15264/15264 [09:17<00:00, 27.38it/s]\n"
     ]
    }
   ],
   "source": [
    "n_processes = 12\n",
    "\n",
    "data = []\n",
    "with Pool(n_processes) as pool:\n",
    "    for record in tqdm(pool.imap_unordered(count_pixels, \n",
    "                                           painted_files), \n",
    "                       total=len(painted_files)):\n",
    "        data.append(record)"
   ]
  },
  {
   "cell_type": "code",
   "execution_count": 8,
   "metadata": {},
   "outputs": [],
   "source": [
    "rgb2color = {\n",
    "    (255, 255, 255) : 'white',\n",
    "    (234, 67, 53) : 'ads',\n",
    "    (178, 178, 178) : 'organic',\n",
    "    (251, 188, 5) : 'links',\n",
    "    (52, 168, 83) : 'answers',\n",
    "    (108, 177, 238) : 'amp'  \n",
    "}"
   ]
  },
  {
   "cell_type": "code",
   "execution_count": 9,
   "metadata": {},
   "outputs": [
    {
     "data": {
      "text/plain": [
       "375"
      ]
     },
     "execution_count": 9,
     "metadata": {},
     "output_type": "execute_result"
    }
   ],
   "source": [
    "data[1]['width']"
   ]
  },
  {
   "cell_type": "code",
   "execution_count": 10,
   "metadata": {},
   "outputs": [
    {
     "name": "stderr",
     "output_type": "stream",
     "text": [
      "100%|██████████| 15264/15264 [00:00<00:00, 281092.27it/s]\n"
     ]
    }
   ],
   "source": [
    "records_full = []\n",
    "records_fg = []\n",
    "for record in tqdm(data):\n",
    "    fg = {rgb2color.get(k, k) : v for k, v in record['pixels_firstglance'].items()}\n",
    "    full = {rgb2color.get(k, k) : v for k, v in record['pixels_fullpage'].items()}\n",
    "\n",
    "    row = {'fn' : record['fn']}\n",
    "    records_fg.append({**row, **fg})\n",
    "    records_full.append({**row, **full})"
   ]
  },
  {
   "cell_type": "code",
   "execution_count": 11,
   "metadata": {},
   "outputs": [],
   "source": [
    "fg = pd.DataFrame(records_fg)"
   ]
  },
  {
   "cell_type": "code",
   "execution_count": 12,
   "metadata": {},
   "outputs": [],
   "source": [
    "full = pd.DataFrame(records_full)"
   ]
  },
  {
   "cell_type": "code",
   "execution_count": 13,
   "metadata": {},
   "outputs": [
    {
     "data": {
      "text/html": [
       "<div>\n",
       "<style scoped>\n",
       "    .dataframe tbody tr th:only-of-type {\n",
       "        vertical-align: middle;\n",
       "    }\n",
       "\n",
       "    .dataframe tbody tr th {\n",
       "        vertical-align: top;\n",
       "    }\n",
       "\n",
       "    .dataframe thead th {\n",
       "        text-align: right;\n",
       "    }\n",
       "</style>\n",
       "<table border=\"1\" class=\"dataframe\">\n",
       "  <thead>\n",
       "    <tr style=\"text-align: right;\">\n",
       "      <th></th>\n",
       "      <th>fn</th>\n",
       "      <th>white</th>\n",
       "      <th>ads</th>\n",
       "      <th>links</th>\n",
       "      <th>amp</th>\n",
       "      <th>organic</th>\n",
       "      <th>answers</th>\n",
       "      <th>(0, 0, 0)</th>\n",
       "      <th>(33, 13, 2)</th>\n",
       "      <th>(193, 96, 11)</th>\n",
       "      <th>...</th>\n",
       "      <th>(7, 0, 0)</th>\n",
       "      <th>(169, 64, 49)</th>\n",
       "      <th>(80, 253, 45)</th>\n",
       "      <th>(79, 29, 46)</th>\n",
       "      <th>(4, 136, 0)</th>\n",
       "      <th>(201, 65, 49)</th>\n",
       "      <th>(224, 64, 47)</th>\n",
       "      <th>(170, 64, 49)</th>\n",
       "      <th>(200, 44, 46)</th>\n",
       "      <th>(16, 45, 46)</th>\n",
       "    </tr>\n",
       "  </thead>\n",
       "  <tbody>\n",
       "    <tr>\n",
       "      <th>0</th>\n",
       "      <td>../data/intermediary/google_search/iPhone-X/20...</td>\n",
       "      <td>532902</td>\n",
       "      <td>123879.0</td>\n",
       "      <td>180250.0</td>\n",
       "      <td>284098.0</td>\n",
       "      <td>688383.0</td>\n",
       "      <td>186238.0</td>\n",
       "      <td>NaN</td>\n",
       "      <td>NaN</td>\n",
       "      <td>NaN</td>\n",
       "      <td>...</td>\n",
       "      <td>NaN</td>\n",
       "      <td>NaN</td>\n",
       "      <td>NaN</td>\n",
       "      <td>NaN</td>\n",
       "      <td>NaN</td>\n",
       "      <td>NaN</td>\n",
       "      <td>NaN</td>\n",
       "      <td>NaN</td>\n",
       "      <td>NaN</td>\n",
       "      <td>NaN</td>\n",
       "    </tr>\n",
       "    <tr>\n",
       "      <th>1</th>\n",
       "      <td>../data/intermediary/google_search/iPhone-X/20...</td>\n",
       "      <td>362214</td>\n",
       "      <td>NaN</td>\n",
       "      <td>214441.0</td>\n",
       "      <td>33659.0</td>\n",
       "      <td>705798.0</td>\n",
       "      <td>95013.0</td>\n",
       "      <td>NaN</td>\n",
       "      <td>NaN</td>\n",
       "      <td>NaN</td>\n",
       "      <td>...</td>\n",
       "      <td>NaN</td>\n",
       "      <td>NaN</td>\n",
       "      <td>NaN</td>\n",
       "      <td>NaN</td>\n",
       "      <td>NaN</td>\n",
       "      <td>NaN</td>\n",
       "      <td>NaN</td>\n",
       "      <td>NaN</td>\n",
       "      <td>NaN</td>\n",
       "      <td>NaN</td>\n",
       "    </tr>\n",
       "    <tr>\n",
       "      <th>2</th>\n",
       "      <td>../data/intermediary/google_search/iPhone-X/20...</td>\n",
       "      <td>480377</td>\n",
       "      <td>93675.0</td>\n",
       "      <td>156791.0</td>\n",
       "      <td>NaN</td>\n",
       "      <td>702156.0</td>\n",
       "      <td>617876.0</td>\n",
       "      <td>NaN</td>\n",
       "      <td>NaN</td>\n",
       "      <td>NaN</td>\n",
       "      <td>...</td>\n",
       "      <td>NaN</td>\n",
       "      <td>NaN</td>\n",
       "      <td>NaN</td>\n",
       "      <td>NaN</td>\n",
       "      <td>NaN</td>\n",
       "      <td>NaN</td>\n",
       "      <td>NaN</td>\n",
       "      <td>NaN</td>\n",
       "      <td>NaN</td>\n",
       "      <td>NaN</td>\n",
       "    </tr>\n",
       "    <tr>\n",
       "      <th>3</th>\n",
       "      <td>../data/intermediary/google_search/iPhone-X/20...</td>\n",
       "      <td>325053</td>\n",
       "      <td>NaN</td>\n",
       "      <td>202057.0</td>\n",
       "      <td>NaN</td>\n",
       "      <td>740151.0</td>\n",
       "      <td>125864.0</td>\n",
       "      <td>NaN</td>\n",
       "      <td>NaN</td>\n",
       "      <td>NaN</td>\n",
       "      <td>...</td>\n",
       "      <td>NaN</td>\n",
       "      <td>NaN</td>\n",
       "      <td>NaN</td>\n",
       "      <td>NaN</td>\n",
       "      <td>NaN</td>\n",
       "      <td>NaN</td>\n",
       "      <td>NaN</td>\n",
       "      <td>NaN</td>\n",
       "      <td>NaN</td>\n",
       "      <td>NaN</td>\n",
       "    </tr>\n",
       "    <tr>\n",
       "      <th>4</th>\n",
       "      <td>../data/intermediary/google_search/iPhone-X/20...</td>\n",
       "      <td>374547</td>\n",
       "      <td>85362.0</td>\n",
       "      <td>241263.0</td>\n",
       "      <td>108958.0</td>\n",
       "      <td>637786.0</td>\n",
       "      <td>158584.0</td>\n",
       "      <td>NaN</td>\n",
       "      <td>NaN</td>\n",
       "      <td>NaN</td>\n",
       "      <td>...</td>\n",
       "      <td>NaN</td>\n",
       "      <td>NaN</td>\n",
       "      <td>NaN</td>\n",
       "      <td>NaN</td>\n",
       "      <td>NaN</td>\n",
       "      <td>NaN</td>\n",
       "      <td>NaN</td>\n",
       "      <td>NaN</td>\n",
       "      <td>NaN</td>\n",
       "      <td>NaN</td>\n",
       "    </tr>\n",
       "    <tr>\n",
       "      <th>...</th>\n",
       "      <td>...</td>\n",
       "      <td>...</td>\n",
       "      <td>...</td>\n",
       "      <td>...</td>\n",
       "      <td>...</td>\n",
       "      <td>...</td>\n",
       "      <td>...</td>\n",
       "      <td>...</td>\n",
       "      <td>...</td>\n",
       "      <td>...</td>\n",
       "      <td>...</td>\n",
       "      <td>...</td>\n",
       "      <td>...</td>\n",
       "      <td>...</td>\n",
       "      <td>...</td>\n",
       "      <td>...</td>\n",
       "      <td>...</td>\n",
       "      <td>...</td>\n",
       "      <td>...</td>\n",
       "      <td>...</td>\n",
       "      <td>...</td>\n",
       "    </tr>\n",
       "    <tr>\n",
       "      <th>15259</th>\n",
       "      <td>../data/intermediary/google_search/iPhone-X/20...</td>\n",
       "      <td>637818</td>\n",
       "      <td>45804.0</td>\n",
       "      <td>407537.0</td>\n",
       "      <td>330169.0</td>\n",
       "      <td>485328.0</td>\n",
       "      <td>230469.0</td>\n",
       "      <td>NaN</td>\n",
       "      <td>NaN</td>\n",
       "      <td>NaN</td>\n",
       "      <td>...</td>\n",
       "      <td>NaN</td>\n",
       "      <td>NaN</td>\n",
       "      <td>NaN</td>\n",
       "      <td>NaN</td>\n",
       "      <td>NaN</td>\n",
       "      <td>NaN</td>\n",
       "      <td>NaN</td>\n",
       "      <td>NaN</td>\n",
       "      <td>NaN</td>\n",
       "      <td>NaN</td>\n",
       "    </tr>\n",
       "    <tr>\n",
       "      <th>15260</th>\n",
       "      <td>../data/intermediary/google_search/iPhone-X/20...</td>\n",
       "      <td>500306</td>\n",
       "      <td>NaN</td>\n",
       "      <td>211784.0</td>\n",
       "      <td>NaN</td>\n",
       "      <td>807529.0</td>\n",
       "      <td>310381.0</td>\n",
       "      <td>NaN</td>\n",
       "      <td>NaN</td>\n",
       "      <td>NaN</td>\n",
       "      <td>...</td>\n",
       "      <td>NaN</td>\n",
       "      <td>NaN</td>\n",
       "      <td>NaN</td>\n",
       "      <td>NaN</td>\n",
       "      <td>NaN</td>\n",
       "      <td>NaN</td>\n",
       "      <td>NaN</td>\n",
       "      <td>NaN</td>\n",
       "      <td>NaN</td>\n",
       "      <td>NaN</td>\n",
       "    </tr>\n",
       "    <tr>\n",
       "      <th>15261</th>\n",
       "      <td>../data/intermediary/google_search/iPhone-X/20...</td>\n",
       "      <td>531830</td>\n",
       "      <td>NaN</td>\n",
       "      <td>382588.0</td>\n",
       "      <td>362268.0</td>\n",
       "      <td>453563.0</td>\n",
       "      <td>171001.0</td>\n",
       "      <td>NaN</td>\n",
       "      <td>NaN</td>\n",
       "      <td>NaN</td>\n",
       "      <td>...</td>\n",
       "      <td>NaN</td>\n",
       "      <td>NaN</td>\n",
       "      <td>NaN</td>\n",
       "      <td>NaN</td>\n",
       "      <td>NaN</td>\n",
       "      <td>NaN</td>\n",
       "      <td>NaN</td>\n",
       "      <td>NaN</td>\n",
       "      <td>NaN</td>\n",
       "      <td>NaN</td>\n",
       "    </tr>\n",
       "    <tr>\n",
       "      <th>15262</th>\n",
       "      <td>../data/intermediary/google_search/iPhone-X/20...</td>\n",
       "      <td>415310</td>\n",
       "      <td>NaN</td>\n",
       "      <td>332261.0</td>\n",
       "      <td>260250.0</td>\n",
       "      <td>465030.0</td>\n",
       "      <td>154649.0</td>\n",
       "      <td>NaN</td>\n",
       "      <td>NaN</td>\n",
       "      <td>NaN</td>\n",
       "      <td>...</td>\n",
       "      <td>NaN</td>\n",
       "      <td>NaN</td>\n",
       "      <td>NaN</td>\n",
       "      <td>NaN</td>\n",
       "      <td>NaN</td>\n",
       "      <td>NaN</td>\n",
       "      <td>NaN</td>\n",
       "      <td>NaN</td>\n",
       "      <td>NaN</td>\n",
       "      <td>NaN</td>\n",
       "    </tr>\n",
       "    <tr>\n",
       "      <th>15263</th>\n",
       "      <td>../data/intermediary/google_search/iPhone-X/20...</td>\n",
       "      <td>552444</td>\n",
       "      <td>NaN</td>\n",
       "      <td>438955.0</td>\n",
       "      <td>75299.0</td>\n",
       "      <td>731129.0</td>\n",
       "      <td>319798.0</td>\n",
       "      <td>NaN</td>\n",
       "      <td>NaN</td>\n",
       "      <td>NaN</td>\n",
       "      <td>...</td>\n",
       "      <td>NaN</td>\n",
       "      <td>NaN</td>\n",
       "      <td>NaN</td>\n",
       "      <td>NaN</td>\n",
       "      <td>NaN</td>\n",
       "      <td>NaN</td>\n",
       "      <td>NaN</td>\n",
       "      <td>NaN</td>\n",
       "      <td>NaN</td>\n",
       "      <td>NaN</td>\n",
       "    </tr>\n",
       "  </tbody>\n",
       "</table>\n",
       "<p>15264 rows × 76 columns</p>\n",
       "</div>"
      ],
      "text/plain": [
       "                                                      fn   white       ads  \\\n",
       "0      ../data/intermediary/google_search/iPhone-X/20...  532902  123879.0   \n",
       "1      ../data/intermediary/google_search/iPhone-X/20...  362214       NaN   \n",
       "2      ../data/intermediary/google_search/iPhone-X/20...  480377   93675.0   \n",
       "3      ../data/intermediary/google_search/iPhone-X/20...  325053       NaN   \n",
       "4      ../data/intermediary/google_search/iPhone-X/20...  374547   85362.0   \n",
       "...                                                  ...     ...       ...   \n",
       "15259  ../data/intermediary/google_search/iPhone-X/20...  637818   45804.0   \n",
       "15260  ../data/intermediary/google_search/iPhone-X/20...  500306       NaN   \n",
       "15261  ../data/intermediary/google_search/iPhone-X/20...  531830       NaN   \n",
       "15262  ../data/intermediary/google_search/iPhone-X/20...  415310       NaN   \n",
       "15263  ../data/intermediary/google_search/iPhone-X/20...  552444       NaN   \n",
       "\n",
       "          links       amp   organic   answers  (0, 0, 0)  (33, 13, 2)  \\\n",
       "0      180250.0  284098.0  688383.0  186238.0        NaN          NaN   \n",
       "1      214441.0   33659.0  705798.0   95013.0        NaN          NaN   \n",
       "2      156791.0       NaN  702156.0  617876.0        NaN          NaN   \n",
       "3      202057.0       NaN  740151.0  125864.0        NaN          NaN   \n",
       "4      241263.0  108958.0  637786.0  158584.0        NaN          NaN   \n",
       "...         ...       ...       ...       ...        ...          ...   \n",
       "15259  407537.0  330169.0  485328.0  230469.0        NaN          NaN   \n",
       "15260  211784.0       NaN  807529.0  310381.0        NaN          NaN   \n",
       "15261  382588.0  362268.0  453563.0  171001.0        NaN          NaN   \n",
       "15262  332261.0  260250.0  465030.0  154649.0        NaN          NaN   \n",
       "15263  438955.0   75299.0  731129.0  319798.0        NaN          NaN   \n",
       "\n",
       "       (193, 96, 11)  ...  (7, 0, 0)  (169, 64, 49)  (80, 253, 45)  \\\n",
       "0                NaN  ...        NaN            NaN            NaN   \n",
       "1                NaN  ...        NaN            NaN            NaN   \n",
       "2                NaN  ...        NaN            NaN            NaN   \n",
       "3                NaN  ...        NaN            NaN            NaN   \n",
       "4                NaN  ...        NaN            NaN            NaN   \n",
       "...              ...  ...        ...            ...            ...   \n",
       "15259            NaN  ...        NaN            NaN            NaN   \n",
       "15260            NaN  ...        NaN            NaN            NaN   \n",
       "15261            NaN  ...        NaN            NaN            NaN   \n",
       "15262            NaN  ...        NaN            NaN            NaN   \n",
       "15263            NaN  ...        NaN            NaN            NaN   \n",
       "\n",
       "       (79, 29, 46)  (4, 136, 0)  (201, 65, 49)  (224, 64, 47)  (170, 64, 49)  \\\n",
       "0               NaN          NaN            NaN            NaN            NaN   \n",
       "1               NaN          NaN            NaN            NaN            NaN   \n",
       "2               NaN          NaN            NaN            NaN            NaN   \n",
       "3               NaN          NaN            NaN            NaN            NaN   \n",
       "4               NaN          NaN            NaN            NaN            NaN   \n",
       "...             ...          ...            ...            ...            ...   \n",
       "15259           NaN          NaN            NaN            NaN            NaN   \n",
       "15260           NaN          NaN            NaN            NaN            NaN   \n",
       "15261           NaN          NaN            NaN            NaN            NaN   \n",
       "15262           NaN          NaN            NaN            NaN            NaN   \n",
       "15263           NaN          NaN            NaN            NaN            NaN   \n",
       "\n",
       "       (200, 44, 46)  (16, 45, 46)  \n",
       "0                NaN           NaN  \n",
       "1                NaN           NaN  \n",
       "2                NaN           NaN  \n",
       "3                NaN           NaN  \n",
       "4                NaN           NaN  \n",
       "...              ...           ...  \n",
       "15259            NaN           NaN  \n",
       "15260            NaN           NaN  \n",
       "15261            NaN           NaN  \n",
       "15262            NaN           NaN  \n",
       "15263            NaN           NaN  \n",
       "\n",
       "[15264 rows x 76 columns]"
      ]
     },
     "execution_count": 13,
     "metadata": {},
     "output_type": "execute_result"
    }
   ],
   "source": [
    "full"
   ]
  },
  {
   "cell_type": "code",
   "execution_count": 14,
   "metadata": {},
   "outputs": [],
   "source": [
    "label2publabel = {\n",
    "    'link' : 'Google Product',\n",
    "    'answer' : 'Google Answer',\n",
    "    'organic' : 'Organic',\n",
    "    'amp' : 'AMP',\n",
    "    'ads' : 'Ads',\n",
    "    'white' : 'White Space'\n",
    "}"
   ]
  },
  {
   "cell_type": "code",
   "execution_count": 15,
   "metadata": {},
   "outputs": [],
   "source": [
    "def proportions(df):\n",
    "    link = df['links'].sum()\n",
    "    answer = df['answers'].sum()\n",
    "    ads = df['ads'].sum()\n",
    "    amp = df['amp'].sum()\n",
    "    o = df['organic'].sum()\n",
    "    w = df['white'].sum()\n",
    "    \n",
    "    d = link + answer + ads + amp + o\n",
    "    return {\n",
    "        'answer' : answer / d,\n",
    "        'link' : link /d,\n",
    "        'amp' : amp/d,\n",
    "        'organic' : o/d,\n",
    "        'ads' : ads/d,\n",
    "        'white' : w/d\n",
    "    }"
   ]
  },
  {
   "cell_type": "code",
   "execution_count": 16,
   "metadata": {},
   "outputs": [
    {
     "data": {
      "text/plain": [
       "{'answer': 0.2305323605154519,\n",
       " 'link': 0.386504202673016,\n",
       " 'amp': 0.12665836578795317,\n",
       " 'organic': 0.18960604746290644,\n",
       " 'ads': 0.06669902356067246,\n",
       " 'white': 0.9044230136068577}"
      ]
     },
     "execution_count": 16,
     "metadata": {},
     "output_type": "execute_result"
    }
   ],
   "source": [
    "proportions(fg)"
   ]
  },
  {
   "cell_type": "code",
   "execution_count": 17,
   "metadata": {},
   "outputs": [
    {
     "data": {
      "text/html": [
       "<div>\n",
       "<style scoped>\n",
       "    .dataframe tbody tr th:only-of-type {\n",
       "        vertical-align: middle;\n",
       "    }\n",
       "\n",
       "    .dataframe tbody tr th {\n",
       "        vertical-align: top;\n",
       "    }\n",
       "\n",
       "    .dataframe thead tr th {\n",
       "        text-align: left;\n",
       "    }\n",
       "</style>\n",
       "<table border=\"1\" class=\"dataframe\">\n",
       "  <thead>\n",
       "    <tr>\n",
       "      <th></th>\n",
       "      <th>Above the fold</th>\n",
       "      <th>First page</th>\n",
       "    </tr>\n",
       "    <tr>\n",
       "      <th></th>\n",
       "      <th>area</th>\n",
       "      <th>area</th>\n",
       "    </tr>\n",
       "  </thead>\n",
       "  <tbody>\n",
       "    <tr>\n",
       "      <th>Google Answer</th>\n",
       "      <td>0.230532</td>\n",
       "      <td>0.132736</td>\n",
       "    </tr>\n",
       "    <tr>\n",
       "      <th>Google Product</th>\n",
       "      <td>0.386504</td>\n",
       "      <td>0.276084</td>\n",
       "    </tr>\n",
       "    <tr>\n",
       "      <th>AMP</th>\n",
       "      <td>0.126658</td>\n",
       "      <td>0.133748</td>\n",
       "    </tr>\n",
       "    <tr>\n",
       "      <th>Organic</th>\n",
       "      <td>0.189606</td>\n",
       "      <td>0.447794</td>\n",
       "    </tr>\n",
       "    <tr>\n",
       "      <th>Ads</th>\n",
       "      <td>0.066699</td>\n",
       "      <td>0.009637</td>\n",
       "    </tr>\n",
       "    <tr>\n",
       "      <th>White Space</th>\n",
       "      <td>0.904423</td>\n",
       "      <td>0.403316</td>\n",
       "    </tr>\n",
       "  </tbody>\n",
       "</table>\n",
       "</div>"
      ],
      "text/plain": [
       "               Above the fold First page\n",
       "                         area       area\n",
       "Google Answer        0.230532   0.132736\n",
       "Google Product       0.386504   0.276084\n",
       "AMP                  0.126658   0.133748\n",
       "Organic              0.189606   0.447794\n",
       "Ads                  0.066699   0.009637\n",
       "White Space          0.904423   0.403316"
      ]
     },
     "execution_count": 17,
     "metadata": {},
     "output_type": "execute_result"
    }
   ],
   "source": [
    "results = pd.DataFrame([proportions(fg),\n",
    "                        proportions(full)])\n",
    "results.columns = [label2publabel.get(c) for c in results.columns]\n",
    "\n",
    "results = results.T\n",
    "results.columns = pd.MultiIndex.from_tuples([   \n",
    "    ('Above the fold', 'area'),\n",
    "    ('First page', 'area'),\n",
    "])\n",
    "\n",
    "results"
   ]
  },
  {
   "cell_type": "code",
   "execution_count": 18,
   "metadata": {},
   "outputs": [],
   "source": [
    "fn_cats = '../data/output/T1_area_freq_by_category.csv'\n",
    "breakdown = pd.read_csv(fn_cats, index_col=0, header=[0, 1])"
   ]
  },
  {
   "cell_type": "code",
   "execution_count": 19,
   "metadata": {},
   "outputs": [
    {
     "data": {
      "text/html": [
       "<div>\n",
       "<style scoped>\n",
       "    .dataframe tbody tr th:only-of-type {\n",
       "        vertical-align: middle;\n",
       "    }\n",
       "\n",
       "    .dataframe tbody tr th {\n",
       "        vertical-align: top;\n",
       "    }\n",
       "\n",
       "    .dataframe thead tr th {\n",
       "        text-align: left;\n",
       "    }\n",
       "</style>\n",
       "<table border=\"1\" class=\"dataframe\">\n",
       "  <thead>\n",
       "    <tr>\n",
       "      <th></th>\n",
       "      <th colspan=\"2\" halign=\"left\">Above the fold</th>\n",
       "      <th colspan=\"2\" halign=\"left\">First page</th>\n",
       "    </tr>\n",
       "    <tr>\n",
       "      <th></th>\n",
       "      <th>area</th>\n",
       "      <th>frequency</th>\n",
       "      <th>area</th>\n",
       "      <th>Frequency</th>\n",
       "    </tr>\n",
       "  </thead>\n",
       "  <tbody>\n",
       "    <tr>\n",
       "      <th>Ads</th>\n",
       "      <td>0.065125</td>\n",
       "      <td>0.078661</td>\n",
       "      <td>0.009570</td>\n",
       "      <td>0.095101</td>\n",
       "    </tr>\n",
       "    <tr>\n",
       "      <th>Google Product</th>\n",
       "      <td>0.395101</td>\n",
       "      <td>0.923566</td>\n",
       "      <td>0.277567</td>\n",
       "      <td>0.999935</td>\n",
       "    </tr>\n",
       "    <tr>\n",
       "      <th>Google Answer</th>\n",
       "      <td>0.230873</td>\n",
       "      <td>0.662890</td>\n",
       "      <td>0.133365</td>\n",
       "      <td>0.993516</td>\n",
       "    </tr>\n",
       "    <tr>\n",
       "      <th>Organic</th>\n",
       "      <td>0.184833</td>\n",
       "      <td>0.743123</td>\n",
       "      <td>0.443422</td>\n",
       "      <td>0.999738</td>\n",
       "    </tr>\n",
       "    <tr>\n",
       "      <th>AMP</th>\n",
       "      <td>0.124067</td>\n",
       "      <td>0.202450</td>\n",
       "      <td>0.136076</td>\n",
       "      <td>0.807113</td>\n",
       "    </tr>\n",
       "  </tbody>\n",
       "</table>\n",
       "</div>"
      ],
      "text/plain": [
       "               Above the fold           First page          \n",
       "                         area frequency       area Frequency\n",
       "Ads                  0.065125  0.078661   0.009570  0.095101\n",
       "Google Product       0.395101  0.923566   0.277567  0.999935\n",
       "Google Answer        0.230873  0.662890   0.133365  0.993516\n",
       "Organic              0.184833  0.743123   0.443422  0.999738\n",
       "AMP                  0.124067  0.202450   0.136076  0.807113"
      ]
     },
     "execution_count": 19,
     "metadata": {},
     "output_type": "execute_result"
    }
   ],
   "source": [
    "breakdown"
   ]
  },
  {
   "cell_type": "code",
   "execution_count": 20,
   "metadata": {},
   "outputs": [
    {
     "data": {
      "text/html": [
       "<div>\n",
       "<style scoped>\n",
       "    .dataframe tbody tr th:only-of-type {\n",
       "        vertical-align: middle;\n",
       "    }\n",
       "\n",
       "    .dataframe tbody tr th {\n",
       "        vertical-align: top;\n",
       "    }\n",
       "\n",
       "    .dataframe thead tr th {\n",
       "        text-align: left;\n",
       "    }\n",
       "</style>\n",
       "<table border=\"1\" class=\"dataframe\">\n",
       "  <thead>\n",
       "    <tr>\n",
       "      <th></th>\n",
       "      <th>Above the fold</th>\n",
       "      <th>First page</th>\n",
       "    </tr>\n",
       "    <tr>\n",
       "      <th></th>\n",
       "      <th>area</th>\n",
       "      <th>area</th>\n",
       "    </tr>\n",
       "  </thead>\n",
       "  <tbody>\n",
       "    <tr>\n",
       "      <th>AMP</th>\n",
       "      <td>-0.3%</td>\n",
       "      <td>0.2%</td>\n",
       "    </tr>\n",
       "    <tr>\n",
       "      <th>Ads</th>\n",
       "      <td>-0.2%</td>\n",
       "      <td>-0.0%</td>\n",
       "    </tr>\n",
       "    <tr>\n",
       "      <th>Google Answer</th>\n",
       "      <td>0.0%</td>\n",
       "      <td>0.1%</td>\n",
       "    </tr>\n",
       "    <tr>\n",
       "      <th>Google Product</th>\n",
       "      <td>0.9%</td>\n",
       "      <td>0.1%</td>\n",
       "    </tr>\n",
       "    <tr>\n",
       "      <th>Organic</th>\n",
       "      <td>-0.5%</td>\n",
       "      <td>-0.4%</td>\n",
       "    </tr>\n",
       "    <tr>\n",
       "      <th>White Space</th>\n",
       "      <td>nan%</td>\n",
       "      <td>nan%</td>\n",
       "    </tr>\n",
       "  </tbody>\n",
       "</table>\n",
       "</div>"
      ],
      "text/plain": [
       "               Above the fold First page\n",
       "                         area       area\n",
       "AMP                     -0.3%       0.2%\n",
       "Ads                     -0.2%      -0.0%\n",
       "Google Answer            0.0%       0.1%\n",
       "Google Product           0.9%       0.1%\n",
       "Organic                 -0.5%      -0.4%\n",
       "White Space              nan%       nan%"
      ]
     },
     "execution_count": 20,
     "metadata": {},
     "output_type": "execute_result"
    }
   ],
   "source": [
    "diff = ((breakdown[[('Above the fold', 'area'),\n",
    "           ('First page', 'area')]] - results) * 100).round(1).astype(str) + '%'\n",
    "diff"
   ]
  },
  {
   "cell_type": "code",
   "execution_count": 21,
   "metadata": {},
   "outputs": [
    {
     "name": "stdout",
     "output_type": "stream",
     "text": [
      "<table border=\"1\" class=\"dataframe\">\n",
      "  <thead>\n",
      "    <tr>\n",
      "      <th></th>\n",
      "      <th>Above the fold</th>\n",
      "      <th>First page</th>\n",
      "    </tr>\n",
      "    <tr>\n",
      "      <th></th>\n",
      "      <th>area</th>\n",
      "      <th>area</th>\n",
      "    </tr>\n",
      "  </thead>\n",
      "  <tbody>\n",
      "    <tr>\n",
      "      <th>AMP</th>\n",
      "      <td>-0.3%</td>\n",
      "      <td>0.2%</td>\n",
      "    </tr>\n",
      "    <tr>\n",
      "      <th>Ads</th>\n",
      "      <td>-0.2%</td>\n",
      "      <td>-0.0%</td>\n",
      "    </tr>\n",
      "    <tr>\n",
      "      <th>Google Answer</th>\n",
      "      <td>0.0%</td>\n",
      "      <td>0.1%</td>\n",
      "    </tr>\n",
      "    <tr>\n",
      "      <th>Google Product</th>\n",
      "      <td>0.9%</td>\n",
      "      <td>0.1%</td>\n",
      "    </tr>\n",
      "    <tr>\n",
      "      <th>Organic</th>\n",
      "      <td>-0.5%</td>\n",
      "      <td>-0.4%</td>\n",
      "    </tr>\n",
      "    <tr>\n",
      "      <th>White Space</th>\n",
      "      <td>nan%</td>\n",
      "      <td>nan%</td>\n",
      "    </tr>\n",
      "  </tbody>\n",
      "</table>\n"
     ]
    }
   ],
   "source": [
    "print(diff.to_html())"
   ]
  },
  {
   "cell_type": "code",
   "execution_count": 22,
   "metadata": {},
   "outputs": [],
   "source": [
    "import numpy as np"
   ]
  },
  {
   "cell_type": "code",
   "execution_count": 23,
   "metadata": {},
   "outputs": [
    {
     "data": {
      "text/plain": [
       "5182.824554507338"
      ]
     },
     "execution_count": 23,
     "metadata": {},
     "output_type": "execute_result"
    }
   ],
   "source": [
    "page_size = Counter()\n",
    "page_size.update([_['height'] for _ in data])\n",
    "heights = [_['height'] for _ in data]\n",
    "avg = sum(heights) / len(data)\n",
    "avg"
   ]
  },
  {
   "cell_type": "code",
   "execution_count": 24,
   "metadata": {},
   "outputs": [
    {
     "data": {
      "text/plain": [
       "1052.94662178225"
      ]
     },
     "execution_count": 24,
     "metadata": {},
     "output_type": "execute_result"
    }
   ],
   "source": [
    "np.std(heights)"
   ]
  },
  {
   "cell_type": "code",
   "execution_count": 25,
   "metadata": {},
   "outputs": [
    {
     "data": {
      "text/plain": [
       "0        375\n",
       "1        375\n",
       "2        375\n",
       "3        375\n",
       "4        375\n",
       "        ... \n",
       "15259    375\n",
       "15260    375\n",
       "15261    375\n",
       "15262    375\n",
       "15263    375\n",
       "Name: width, Length: 15264, dtype: int64"
      ]
     },
     "execution_count": 25,
     "metadata": {},
     "output_type": "execute_result"
    }
   ],
   "source": [
    "pd.DataFrame(data)['width']"
   ]
  },
  {
   "cell_type": "code",
   "execution_count": 26,
   "metadata": {},
   "outputs": [
    {
     "data": {
      "text/plain": [
       "<matplotlib.axes._subplots.AxesSubplot at 0x7f02ad00ca60>"
      ]
     },
     "execution_count": 26,
     "metadata": {},
     "output_type": "execute_result"
    },
    {
     "data": {
      "image/png": "[encoded data removed]",
      "text/plain": [
       "<Figure size 432x288 with 1 Axes>"
      ]
     },
     "metadata": {
      "needs_background": "light"
     },
     "output_type": "display_data"
    }
   ],
   "source": [
    "pd.DataFrame(data)['height'].plot(kind='kde', xlim=(360, 10000))"
   ]
  },
  {
   "cell_type": "code",
   "execution_count": 27,
   "metadata": {},
   "outputs": [
    {
     "data": {
      "text/plain": [
       "(1547, 9266)"
      ]
     },
     "execution_count": 27,
     "metadata": {},
     "output_type": "execute_result"
    }
   ],
   "source": [
    "min(heights), max(heights)"
   ]
  },
  {
   "cell_type": "code",
   "execution_count": 28,
   "metadata": {},
   "outputs": [
    {
     "data": {
      "text/plain": [
       "0"
      ]
     },
     "execution_count": 28,
     "metadata": {},
     "output_type": "execute_result"
    }
   ],
   "source": [
    "len([_ for _ in data if _['height'] <= 360 * 2])"
   ]
  },
  {
   "cell_type": "code",
   "execution_count": 29,
   "metadata": {},
   "outputs": [],
   "source": [
    "for fn in [_ for _ in data if _['height'] <= 360]:\n",
    "    os.remove(fn['fn'])"
   ]
  },
  {
   "cell_type": "code",
   "execution_count": 30,
   "metadata": {},
   "outputs": [],
   "source": [
    "header = 160\n",
    "footer = 230"
   ]
  },
  {
   "cell_type": "code",
   "execution_count": 31,
   "metadata": {},
   "outputs": [
    {
     "data": {
      "text/plain": [
       "4792.824554507338"
      ]
     },
     "execution_count": 31,
     "metadata": {},
     "output_type": "execute_result"
    }
   ],
   "source": [
    "avg - header - footer"
   ]
  },
  {
   "cell_type": "code",
   "execution_count": 32,
   "metadata": {},
   "outputs": [
    {
     "data": {
      "text/plain": [
       "1200.0"
      ]
     },
     "execution_count": 32,
     "metadata": {},
     "output_type": "execute_result"
    }
   ],
   "source": [
    "4800 / 4"
   ]
  },
  {
   "cell_type": "code",
   "execution_count": null,
   "metadata": {},
   "outputs": [],
   "source": []
  }
 ],
 "metadata": {
  "kernelspec": {
   "display_name": "Python 3",
   "language": "python",
   "name": "python3"
  },
  "language_info": {
   "codemirror_mode": {
    "name": "ipython",
    "version": 3
   },
   "file_extension": ".py",
   "mimetype": "text/x-python",
   "name": "python",
   "nbconvert_exporter": "python",
   "pygments_lexer": "ipython3",
   "version": "3.8.1"
  }
 },
 "nbformat": 4,
 "nbformat_minor": 4
}
