{
 "cells": [
  {
   "cell_type": "code",
   "execution_count": 1,
   "metadata": {},
   "outputs": [],
   "source": [
    "import os\n",
    "import sys\n",
    "from collections import Counter\n",
    "from multiprocessing import Pool\n",
    "import glob\n",
    "\n",
    "import pandas as pd\n",
    "from PIL import Image\n",
    "from tqdm import tqdm\n",
    "\n",
    "sys.path.append('..')\n",
    "from utils.config import width, height"
   ]
  },
  {
   "cell_type": "code",
   "execution_count": 4,
   "metadata": {},
   "outputs": [],
   "source": [
    "data_dir_metadata = '../data/intermediary/google_search/'"
   ]
  },
  {
   "cell_type": "code",
   "execution_count": 5,
   "metadata": {},
   "outputs": [
    {
     "data": {
      "text/plain": [
       "14976"
      ]
     },
     "execution_count": 5,
     "metadata": {},
     "output_type": "execute_result"
    }
   ],
   "source": [
    "painted_files = glob.glob(os.path.join(data_dir_metadata + 'iPhone-X/*/*/*/*/png/abstract_painting.png'))\n",
    "len(painted_files)"
   ]
  },
  {
   "cell_type": "code",
   "execution_count": 6,
   "metadata": {},
   "outputs": [],
   "source": [
    "boarder = (0, 0, width, height)"
   ]
  },
  {
   "cell_type": "code",
   "execution_count": 7,
   "metadata": {},
   "outputs": [],
   "source": [
    "def count_pixels(fn):\n",
    "    \"\"\"\n",
    "    Opens a file from s3, counts the color of all pixels for the full page and the first glance\n",
    "    \"\"\"\n",
    "    with Image.open(fn) as img:\n",
    "        colors_full = Counter()\n",
    "        colors_fg = Counter()\n",
    "\n",
    "        colors_full.update(img.getdata())\n",
    "        colors_fg.update(img.crop(boarder).getdata())\n",
    "\n",
    "        row = {\n",
    "            'fn' : fn,\n",
    "            'pixels_fullpage' : dict(colors_full),\n",
    "            'pixels_firstglance' : dict(colors_fg)\n",
    "        }\n",
    "        \n",
    "        return row"
   ]
  },
  {
   "cell_type": "code",
   "execution_count": 8,
   "metadata": {},
   "outputs": [
    {
     "name": "stderr",
     "output_type": "stream",
     "text": [
      "100%|██████████| 14976/14976 [09:55<00:00, 25.13it/s]\n"
     ]
    }
   ],
   "source": [
    "n_processes = 12\n",
    "\n",
    "data = []\n",
    "with Pool(n_processes) as pool:\n",
    "    for record in tqdm(pool.imap_unordered(count_pixels, painted_files), \n",
    "                       total=len(painted_files)):\n",
    "        data.append(record)"
   ]
  },
  {
   "cell_type": "code",
   "execution_count": 10,
   "metadata": {},
   "outputs": [],
   "source": [
    "rgb2color = {\n",
    "    (255, 255, 255) : 'white',\n",
    "    (234, 67, 53) : 'ads',\n",
    "    (178, 178, 178) : 'organic',\n",
    "    (251, 188, 5) : 'links',\n",
    "    (52, 168, 83) : 'answers',\n",
    "    (108, 177, 238) : 'amp'  \n",
    "}"
   ]
  },
  {
   "cell_type": "code",
   "execution_count": 11,
   "metadata": {},
   "outputs": [
    {
     "data": {
      "text/plain": [
       "{'fn': '../data/intermediary/google_search/iPhone-X/2019/11/28/Swollen-testicle/png/abstract_painting.png',\n",
       " 'pixels_fullpage': {(255, 255, 255): 325053,\n",
       "  (251, 188, 5): 202057,\n",
       "  (52, 168, 83): 125864,\n",
       "  (178, 178, 178): 740151},\n",
       " 'pixels_firstglance': {(255, 255, 255): 156001,\n",
       "  (251, 188, 5): 99919,\n",
       "  (52, 168, 83): 48580}}"
      ]
     },
     "execution_count": 11,
     "metadata": {},
     "output_type": "execute_result"
    }
   ],
   "source": [
    "data[1]"
   ]
  },
  {
   "cell_type": "code",
   "execution_count": 12,
   "metadata": {},
   "outputs": [],
   "source": [
    "record = data[0]"
   ]
  },
  {
   "cell_type": "code",
   "execution_count": 13,
   "metadata": {},
   "outputs": [
    {
     "name": "stderr",
     "output_type": "stream",
     "text": [
      "100%|██████████| 14976/14976 [00:00<00:00, 268574.33it/s]\n"
     ]
    }
   ],
   "source": [
    "records_full = []\n",
    "records_fg = []\n",
    "for record in tqdm(data):\n",
    "    fg = {rgb2color.get(k, k) : v for k, v in record['pixels_firstglance'].items()}\n",
    "    full = {rgb2color.get(k, k) : v for k, v in record['pixels_fullpage'].items()}\n",
    "\n",
    "    row = {'fn' : record['fn']}\n",
    "    records_fg.append({**row, **fg})\n",
    "    records_full.append({**row, **full})"
   ]
  },
  {
   "cell_type": "code",
   "execution_count": 14,
   "metadata": {},
   "outputs": [],
   "source": [
    "fg = pd.DataFrame(records_fg)"
   ]
  },
  {
   "cell_type": "code",
   "execution_count": 25,
   "metadata": {},
   "outputs": [],
   "source": [
    "full = pd.DataFrame(records_full)"
   ]
  },
  {
   "cell_type": "code",
   "execution_count": 47,
   "metadata": {},
   "outputs": [],
   "source": [
    "label2publabel = {\n",
    "    'link' : 'Google Product',\n",
    "    'answer' : 'Google Answer',\n",
    "    'organic' : 'Organic',\n",
    "    'amp' : 'AMP',\n",
    "    'ads' : 'Ads'\n",
    "}"
   ]
  },
  {
   "cell_type": "code",
   "execution_count": 52,
   "metadata": {},
   "outputs": [],
   "source": [
    "def proportions(df):\n",
    "    link = df['links'].sum()\n",
    "    answer = df['answers'].sum()\n",
    "    ads = df['ads'].sum()\n",
    "    amp = df['amp'].sum()\n",
    "    o = df['organic'].sum()\n",
    "    \n",
    "    d = link + answer + ads + amp + o\n",
    "    return {\n",
    "        'answer' : answer / d,\n",
    "        'link' : link /d,\n",
    "        'amp' : amp/d,\n",
    "        'organic' : o/d,\n",
    "        'ads' : ads/d\n",
    "    }"
   ]
  },
  {
   "cell_type": "code",
   "execution_count": 53,
   "metadata": {},
   "outputs": [
    {
     "data": {
      "text/plain": [
       "{'answer': 0.23109137685631306,\n",
       " 'link': 0.38575460372902404,\n",
       " 'amp': 0.12710702159197135,\n",
       " 'organic': 0.18918866281675353,\n",
       " 'ads': 0.066858335005938}"
      ]
     },
     "execution_count": 53,
     "metadata": {},
     "output_type": "execute_result"
    }
   ],
   "source": [
    "proportions(fg)"
   ]
  },
  {
   "cell_type": "code",
   "execution_count": 54,
   "metadata": {},
   "outputs": [
    {
     "data": {
      "text/html": [
       "<div>\n",
       "<style scoped>\n",
       "    .dataframe tbody tr th:only-of-type {\n",
       "        vertical-align: middle;\n",
       "    }\n",
       "\n",
       "    .dataframe tbody tr th {\n",
       "        vertical-align: top;\n",
       "    }\n",
       "\n",
       "    .dataframe thead tr th {\n",
       "        text-align: left;\n",
       "    }\n",
       "</style>\n",
       "<table border=\"1\" class=\"dataframe\">\n",
       "  <thead>\n",
       "    <tr>\n",
       "      <th></th>\n",
       "      <th>Above the fold</th>\n",
       "      <th>First page</th>\n",
       "    </tr>\n",
       "    <tr>\n",
       "      <th></th>\n",
       "      <th>area</th>\n",
       "      <th>area</th>\n",
       "    </tr>\n",
       "  </thead>\n",
       "  <tbody>\n",
       "    <tr>\n",
       "      <th>Google Answer</th>\n",
       "      <td>0.231091</td>\n",
       "      <td>0.132422</td>\n",
       "    </tr>\n",
       "    <tr>\n",
       "      <th>Google Product</th>\n",
       "      <td>0.385755</td>\n",
       "      <td>0.275515</td>\n",
       "    </tr>\n",
       "    <tr>\n",
       "      <th>AMP</th>\n",
       "      <td>0.127107</td>\n",
       "      <td>0.136800</td>\n",
       "    </tr>\n",
       "    <tr>\n",
       "      <th>Organic</th>\n",
       "      <td>0.189189</td>\n",
       "      <td>0.445628</td>\n",
       "    </tr>\n",
       "    <tr>\n",
       "      <th>Ads</th>\n",
       "      <td>0.066858</td>\n",
       "      <td>0.009634</td>\n",
       "    </tr>\n",
       "  </tbody>\n",
       "</table>\n",
       "</div>"
      ],
      "text/plain": [
       "               Above the fold First page\n",
       "                         area       area\n",
       "Google Answer        0.231091   0.132422\n",
       "Google Product       0.385755   0.275515\n",
       "AMP                  0.127107   0.136800\n",
       "Organic              0.189189   0.445628\n",
       "Ads                  0.066858   0.009634"
      ]
     },
     "execution_count": 54,
     "metadata": {},
     "output_type": "execute_result"
    }
   ],
   "source": [
    "results = pd.DataFrame([proportions(fg),\n",
    "                        proportions(full)])\n",
    "results.columns = [label2publabel.get(c) for c in results.columns]\n",
    "\n",
    "results = results.T\n",
    "results.columns = pd.MultiIndex.from_tuples([   \n",
    "    ('Above the fold', 'area'),\n",
    "    ('First page', 'area'),\n",
    "])\n",
    "\n",
    "results"
   ]
  },
  {
   "cell_type": "code",
   "execution_count": 61,
   "metadata": {},
   "outputs": [],
   "source": [
    "fn_cats = '../data/outputs/T1_area_freq_by_category.csv'\n",
    "breakdown = pd.read_csv(fn_cats, index_col=0, header=[0, 1])"
   ]
  },
  {
   "cell_type": "code",
   "execution_count": 66,
   "metadata": {},
   "outputs": [
    {
     "data": {
      "text/html": [
       "<div>\n",
       "<style scoped>\n",
       "    .dataframe tbody tr th:only-of-type {\n",
       "        vertical-align: middle;\n",
       "    }\n",
       "\n",
       "    .dataframe tbody tr th {\n",
       "        vertical-align: top;\n",
       "    }\n",
       "\n",
       "    .dataframe thead tr th {\n",
       "        text-align: left;\n",
       "    }\n",
       "</style>\n",
       "<table border=\"1\" class=\"dataframe\">\n",
       "  <thead>\n",
       "    <tr>\n",
       "      <th></th>\n",
       "      <th colspan=\"2\" halign=\"left\">Above the fold</th>\n",
       "      <th colspan=\"2\" halign=\"left\">First page</th>\n",
       "    </tr>\n",
       "    <tr>\n",
       "      <th></th>\n",
       "      <th>area</th>\n",
       "      <th>frequency</th>\n",
       "      <th>area</th>\n",
       "      <th>Frequency</th>\n",
       "    </tr>\n",
       "  </thead>\n",
       "  <tbody>\n",
       "    <tr>\n",
       "      <th>Google Answer</th>\n",
       "      <td>0.230870</td>\n",
       "      <td>0.664196</td>\n",
       "      <td>0.133166</td>\n",
       "      <td>0.993523</td>\n",
       "    </tr>\n",
       "    <tr>\n",
       "      <th>Google Product</th>\n",
       "      <td>0.394926</td>\n",
       "      <td>0.923945</td>\n",
       "      <td>0.277751</td>\n",
       "      <td>0.999933</td>\n",
       "    </tr>\n",
       "    <tr>\n",
       "      <th>AMP</th>\n",
       "      <td>0.124188</td>\n",
       "      <td>0.202925</td>\n",
       "      <td>0.136066</td>\n",
       "      <td>0.807225</td>\n",
       "    </tr>\n",
       "    <tr>\n",
       "      <th>Organic</th>\n",
       "      <td>0.184808</td>\n",
       "      <td>0.745393</td>\n",
       "      <td>0.443435</td>\n",
       "      <td>0.999733</td>\n",
       "    </tr>\n",
       "    <tr>\n",
       "      <th>Ads</th>\n",
       "      <td>0.065208</td>\n",
       "      <td>0.078592</td>\n",
       "      <td>0.009583</td>\n",
       "      <td>0.095152</td>\n",
       "    </tr>\n",
       "  </tbody>\n",
       "</table>\n",
       "</div>"
      ],
      "text/plain": [
       "               Above the fold           First page          \n",
       "                         area frequency       area Frequency\n",
       "Google Answer        0.230870  0.664196   0.133166  0.993523\n",
       "Google Product       0.394926  0.923945   0.277751  0.999933\n",
       "AMP                  0.124188  0.202925   0.136066  0.807225\n",
       "Organic              0.184808  0.745393   0.443435  0.999733\n",
       "Ads                  0.065208  0.078592   0.009583  0.095152"
      ]
     },
     "execution_count": 66,
     "metadata": {},
     "output_type": "execute_result"
    }
   ],
   "source": [
    "breakdown"
   ]
  },
  {
   "cell_type": "code",
   "execution_count": 75,
   "metadata": {},
   "outputs": [
    {
     "data": {
      "text/html": [
       "<div>\n",
       "<style scoped>\n",
       "    .dataframe tbody tr th:only-of-type {\n",
       "        vertical-align: middle;\n",
       "    }\n",
       "\n",
       "    .dataframe tbody tr th {\n",
       "        vertical-align: top;\n",
       "    }\n",
       "\n",
       "    .dataframe thead tr th {\n",
       "        text-align: left;\n",
       "    }\n",
       "</style>\n",
       "<table border=\"1\" class=\"dataframe\">\n",
       "  <thead>\n",
       "    <tr>\n",
       "      <th></th>\n",
       "      <th>Above the fold</th>\n",
       "      <th>First page</th>\n",
       "    </tr>\n",
       "    <tr>\n",
       "      <th></th>\n",
       "      <th>area</th>\n",
       "      <th>area</th>\n",
       "    </tr>\n",
       "  </thead>\n",
       "  <tbody>\n",
       "    <tr>\n",
       "      <th>Google Answer</th>\n",
       "      <td>-0.0%</td>\n",
       "      <td>0.1%</td>\n",
       "    </tr>\n",
       "    <tr>\n",
       "      <th>Google Product</th>\n",
       "      <td>0.9%</td>\n",
       "      <td>0.2%</td>\n",
       "    </tr>\n",
       "    <tr>\n",
       "      <th>AMP</th>\n",
       "      <td>-0.3%</td>\n",
       "      <td>-0.1%</td>\n",
       "    </tr>\n",
       "    <tr>\n",
       "      <th>Organic</th>\n",
       "      <td>-0.4%</td>\n",
       "      <td>-0.2%</td>\n",
       "    </tr>\n",
       "    <tr>\n",
       "      <th>Ads</th>\n",
       "      <td>-0.2%</td>\n",
       "      <td>-0.0%</td>\n",
       "    </tr>\n",
       "  </tbody>\n",
       "</table>\n",
       "</div>"
      ],
      "text/plain": [
       "               Above the fold First page\n",
       "                         area       area\n",
       "Google Answer           -0.0%       0.1%\n",
       "Google Product           0.9%       0.2%\n",
       "AMP                     -0.3%      -0.1%\n",
       "Organic                 -0.4%      -0.2%\n",
       "Ads                     -0.2%      -0.0%"
      ]
     },
     "execution_count": 75,
     "metadata": {},
     "output_type": "execute_result"
    }
   ],
   "source": [
    "diff = ((breakdown[[('Above the fold', 'area'),\n",
    "           ('First page', 'area')]] - results) * 100).round(1).astype(str) + '%'\n",
    "diff"
   ]
  },
  {
   "cell_type": "code",
   "execution_count": 77,
   "metadata": {},
   "outputs": [
    {
     "name": "stdout",
     "output_type": "stream",
     "text": [
      "<table border=\"1\" class=\"dataframe\">\n",
      "  <thead>\n",
      "    <tr>\n",
      "      <th></th>\n",
      "      <th>Above the fold</th>\n",
      "      <th>First page</th>\n",
      "    </tr>\n",
      "    <tr>\n",
      "      <th></th>\n",
      "      <th>area</th>\n",
      "      <th>area</th>\n",
      "    </tr>\n",
      "  </thead>\n",
      "  <tbody>\n",
      "    <tr>\n",
      "      <th>Google Answer</th>\n",
      "      <td>-0.0%</td>\n",
      "      <td>0.1%</td>\n",
      "    </tr>\n",
      "    <tr>\n",
      "      <th>Google Product</th>\n",
      "      <td>0.9%</td>\n",
      "      <td>0.2%</td>\n",
      "    </tr>\n",
      "    <tr>\n",
      "      <th>AMP</th>\n",
      "      <td>-0.3%</td>\n",
      "      <td>-0.1%</td>\n",
      "    </tr>\n",
      "    <tr>\n",
      "      <th>Organic</th>\n",
      "      <td>-0.4%</td>\n",
      "      <td>-0.2%</td>\n",
      "    </tr>\n",
      "    <tr>\n",
      "      <th>Ads</th>\n",
      "      <td>-0.2%</td>\n",
      "      <td>-0.0%</td>\n",
      "    </tr>\n",
      "  </tbody>\n",
      "</table>\n"
     ]
    }
   ],
   "source": [
    "print(diff.to_html())"
   ]
  },
  {
   "cell_type": "code",
   "execution_count": null,
   "metadata": {},
   "outputs": [],
   "source": []
  }
 ],
 "metadata": {
  "kernelspec": {
   "display_name": "Python 3",
   "language": "python",
   "name": "python3"
  },
  "language_info": {
   "codemirror_mode": {
    "name": "ipython",
    "version": 3
   },
   "file_extension": ".py",
   "mimetype": "text/x-python",
   "name": "python",
   "nbconvert_exporter": "python",
   "pygments_lexer": "ipython3",
   "version": "3.8.1"
  }
 },
 "nbformat": 4,
 "nbformat_minor": 4
}
