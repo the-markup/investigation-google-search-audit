{
 "cells": [
  {
   "cell_type": "code",
   "execution_count": 2,
   "metadata": {},
   "outputs": [],
   "source": [
    "import os\n",
    "import sys\n",
    "from collections import Counter\n",
    "from multiprocessing import Pool\n",
    "import glob\n",
    "\n",
    "import pandas as pd\n",
    "from PIL import Image\n",
    "from tqdm import tqdm\n",
    "\n",
    "sys.path.append('..')\n",
    "from utils.config import width, height"
   ]
  },
  {
   "cell_type": "code",
   "execution_count": 3,
   "metadata": {},
   "outputs": [],
   "source": [
    "data_dir_metadata = '../data/intermediary/google_search/'"
   ]
  },
  {
   "cell_type": "code",
   "execution_count": 43,
   "metadata": {},
   "outputs": [
    {
     "data": {
      "text/plain": [
       "15265"
      ]
     },
     "execution_count": 43,
     "metadata": {},
     "output_type": "execute_result"
    }
   ],
   "source": [
    "painted_files = glob.glob(os.path.join(\n",
    "    data_dir_metadata, \n",
    "    'iPhone-X/*/*/*/*/png/abstract_painting.png'\n",
    "))\n",
    "len(painted_files)"
   ]
  },
  {
   "cell_type": "code",
   "execution_count": 44,
   "metadata": {},
   "outputs": [],
   "source": [
    "boarder = (0, 0, width, height)"
   ]
  },
  {
   "cell_type": "code",
   "execution_count": 45,
   "metadata": {},
   "outputs": [],
   "source": [
    "def count_pixels(fn):\n",
    "    \"\"\"\n",
    "    Opens a file from s3, counts the color of all pixels for the full page and the first glance\n",
    "    \"\"\"\n",
    "    with Image.open(fn) as img:\n",
    "        colors_full = Counter()\n",
    "        colors_fg = Counter()\n",
    "\n",
    "        colors_full.update(img.getdata())\n",
    "        colors_fg.update(img.crop(boarder).getdata())\n",
    "        \n",
    "        width, height = img.size\n",
    "\n",
    "        row = {\n",
    "            'fn' : fn,\n",
    "            'pixels_fullpage' : dict(colors_full),\n",
    "            'pixels_firstglance' : dict(colors_fg),\n",
    "            'height' : height\n",
    "        }\n",
    "        \n",
    "        return row"
   ]
  },
  {
   "cell_type": "code",
   "execution_count": 46,
   "metadata": {},
   "outputs": [
    {
     "name": "stderr",
     "output_type": "stream",
     "text": [
      "100%|██████████| 15265/15265 [11:17<00:00, 22.53it/s]\n"
     ]
    }
   ],
   "source": [
    "n_processes = 12\n",
    "\n",
    "data = []\n",
    "with Pool(n_processes) as pool:\n",
    "    for record in tqdm(pool.imap_unordered(count_pixels, painted_files), \n",
    "                       total=len(painted_files)):\n",
    "        data.append(record)"
   ]
  },
  {
   "cell_type": "code",
   "execution_count": 47,
   "metadata": {},
   "outputs": [],
   "source": [
    "rgb2color = {\n",
    "    (255, 255, 255) : 'white',\n",
    "    (234, 67, 53) : 'ads',\n",
    "    (178, 178, 178) : 'organic',\n",
    "    (251, 188, 5) : 'links',\n",
    "    (52, 168, 83) : 'answers',\n",
    "    (108, 177, 238) : 'amp'  \n",
    "}"
   ]
  },
  {
   "cell_type": "code",
   "execution_count": 48,
   "metadata": {},
   "outputs": [
    {
     "data": {
      "text/plain": [
       "{'fn': '../data/intermediary/google_search/iPhone-X/2019/11/28/Cancer-Drugs-Fund/png/abstract_painting.png',\n",
       " 'pixels_fullpage': {(255, 255, 255): 362214,\n",
       "  (178, 178, 178): 705798,\n",
       "  (251, 188, 5): 214441,\n",
       "  (52, 168, 83): 95013,\n",
       "  (108, 177, 238): 33659},\n",
       " 'pixels_firstglance': {(255, 255, 255): 124500,\n",
       "  (178, 178, 178): 83627,\n",
       "  (251, 188, 5): 51328,\n",
       "  (52, 168, 83): 45045},\n",
       " 'height': 3763}"
      ]
     },
     "execution_count": 48,
     "metadata": {},
     "output_type": "execute_result"
    }
   ],
   "source": [
    "data[1]"
   ]
  },
  {
   "cell_type": "code",
   "execution_count": 10,
   "metadata": {},
   "outputs": [
    {
     "name": "stderr",
     "output_type": "stream",
     "text": [
      "100%|██████████| 15268/15268 [00:00<00:00, 247412.94it/s]\n"
     ]
    }
   ],
   "source": [
    "records_full = []\n",
    "records_fg = []\n",
    "for record in tqdm(data):\n",
    "    fg = {rgb2color.get(k, k) : v for k, v in record['pixels_firstglance'].items()}\n",
    "    full = {rgb2color.get(k, k) : v for k, v in record['pixels_fullpage'].items()}\n",
    "\n",
    "    row = {'fn' : record['fn']}\n",
    "    records_fg.append({**row, **fg})\n",
    "    records_full.append({**row, **full})"
   ]
  },
  {
   "cell_type": "code",
   "execution_count": 11,
   "metadata": {},
   "outputs": [],
   "source": [
    "fg = pd.DataFrame(records_fg)"
   ]
  },
  {
   "cell_type": "code",
   "execution_count": 12,
   "metadata": {},
   "outputs": [],
   "source": [
    "full = pd.DataFrame(records_full)"
   ]
  },
  {
   "cell_type": "code",
   "execution_count": 13,
   "metadata": {},
   "outputs": [
    {
     "data": {
      "text/html": [
       "<div>\n",
       "<style scoped>\n",
       "    .dataframe tbody tr th:only-of-type {\n",
       "        vertical-align: middle;\n",
       "    }\n",
       "\n",
       "    .dataframe tbody tr th {\n",
       "        vertical-align: top;\n",
       "    }\n",
       "\n",
       "    .dataframe thead th {\n",
       "        text-align: right;\n",
       "    }\n",
       "</style>\n",
       "<table border=\"1\" class=\"dataframe\">\n",
       "  <thead>\n",
       "    <tr style=\"text-align: right;\">\n",
       "      <th></th>\n",
       "      <th>fn</th>\n",
       "      <th>white</th>\n",
       "      <th>organic</th>\n",
       "      <th>links</th>\n",
       "      <th>answers</th>\n",
       "      <th>amp</th>\n",
       "      <th>ads</th>\n",
       "      <th>(0, 0, 0)</th>\n",
       "      <th>(81, 10, 2)</th>\n",
       "    </tr>\n",
       "  </thead>\n",
       "  <tbody>\n",
       "    <tr>\n",
       "      <th>0</th>\n",
       "      <td>../data/intermediary/google_search/iPhone-X/20...</td>\n",
       "      <td>424351.0</td>\n",
       "      <td>513476.0</td>\n",
       "      <td>256449.0</td>\n",
       "      <td>180764.0</td>\n",
       "      <td>105835.0</td>\n",
       "      <td>NaN</td>\n",
       "      <td>NaN</td>\n",
       "      <td>NaN</td>\n",
       "    </tr>\n",
       "    <tr>\n",
       "      <th>1</th>\n",
       "      <td>../data/intermediary/google_search/iPhone-X/20...</td>\n",
       "      <td>362214.0</td>\n",
       "      <td>705798.0</td>\n",
       "      <td>214441.0</td>\n",
       "      <td>95013.0</td>\n",
       "      <td>33659.0</td>\n",
       "      <td>NaN</td>\n",
       "      <td>NaN</td>\n",
       "      <td>NaN</td>\n",
       "    </tr>\n",
       "    <tr>\n",
       "      <th>2</th>\n",
       "      <td>../data/intermediary/google_search/iPhone-X/20...</td>\n",
       "      <td>325053.0</td>\n",
       "      <td>740151.0</td>\n",
       "      <td>202057.0</td>\n",
       "      <td>125864.0</td>\n",
       "      <td>NaN</td>\n",
       "      <td>NaN</td>\n",
       "      <td>NaN</td>\n",
       "      <td>NaN</td>\n",
       "    </tr>\n",
       "    <tr>\n",
       "      <th>3</th>\n",
       "      <td>../data/intermediary/google_search/iPhone-X/20...</td>\n",
       "      <td>374547.0</td>\n",
       "      <td>637786.0</td>\n",
       "      <td>241263.0</td>\n",
       "      <td>158584.0</td>\n",
       "      <td>108958.0</td>\n",
       "      <td>85362.0</td>\n",
       "      <td>NaN</td>\n",
       "      <td>NaN</td>\n",
       "    </tr>\n",
       "    <tr>\n",
       "      <th>4</th>\n",
       "      <td>../data/intermediary/google_search/iPhone-X/20...</td>\n",
       "      <td>500003.0</td>\n",
       "      <td>690465.0</td>\n",
       "      <td>536489.0</td>\n",
       "      <td>107244.0</td>\n",
       "      <td>75299.0</td>\n",
       "      <td>NaN</td>\n",
       "      <td>NaN</td>\n",
       "      <td>NaN</td>\n",
       "    </tr>\n",
       "    <tr>\n",
       "      <th>...</th>\n",
       "      <td>...</td>\n",
       "      <td>...</td>\n",
       "      <td>...</td>\n",
       "      <td>...</td>\n",
       "      <td>...</td>\n",
       "      <td>...</td>\n",
       "      <td>...</td>\n",
       "      <td>...</td>\n",
       "      <td>...</td>\n",
       "    </tr>\n",
       "    <tr>\n",
       "      <th>15263</th>\n",
       "      <td>../data/intermediary/google_search/iPhone-X/20...</td>\n",
       "      <td>500306.0</td>\n",
       "      <td>807529.0</td>\n",
       "      <td>211784.0</td>\n",
       "      <td>310381.0</td>\n",
       "      <td>NaN</td>\n",
       "      <td>NaN</td>\n",
       "      <td>NaN</td>\n",
       "      <td>NaN</td>\n",
       "    </tr>\n",
       "    <tr>\n",
       "      <th>15264</th>\n",
       "      <td>../data/intermediary/google_search/iPhone-X/20...</td>\n",
       "      <td>682950.0</td>\n",
       "      <td>623657.0</td>\n",
       "      <td>551093.0</td>\n",
       "      <td>157958.0</td>\n",
       "      <td>211842.0</td>\n",
       "      <td>NaN</td>\n",
       "      <td>NaN</td>\n",
       "      <td>NaN</td>\n",
       "    </tr>\n",
       "    <tr>\n",
       "      <th>15265</th>\n",
       "      <td>../data/intermediary/google_search/iPhone-X/20...</td>\n",
       "      <td>531830.0</td>\n",
       "      <td>453563.0</td>\n",
       "      <td>382588.0</td>\n",
       "      <td>171001.0</td>\n",
       "      <td>362268.0</td>\n",
       "      <td>NaN</td>\n",
       "      <td>NaN</td>\n",
       "      <td>NaN</td>\n",
       "    </tr>\n",
       "    <tr>\n",
       "      <th>15266</th>\n",
       "      <td>../data/intermediary/google_search/iPhone-X/20...</td>\n",
       "      <td>415310.0</td>\n",
       "      <td>465030.0</td>\n",
       "      <td>332261.0</td>\n",
       "      <td>154649.0</td>\n",
       "      <td>260250.0</td>\n",
       "      <td>NaN</td>\n",
       "      <td>NaN</td>\n",
       "      <td>NaN</td>\n",
       "    </tr>\n",
       "    <tr>\n",
       "      <th>15267</th>\n",
       "      <td>../data/intermediary/google_search/iPhone-X/20...</td>\n",
       "      <td>552444.0</td>\n",
       "      <td>731129.0</td>\n",
       "      <td>438955.0</td>\n",
       "      <td>319798.0</td>\n",
       "      <td>75299.0</td>\n",
       "      <td>NaN</td>\n",
       "      <td>NaN</td>\n",
       "      <td>NaN</td>\n",
       "    </tr>\n",
       "  </tbody>\n",
       "</table>\n",
       "<p>15268 rows × 9 columns</p>\n",
       "</div>"
      ],
      "text/plain": [
       "                                                      fn     white   organic  \\\n",
       "0      ../data/intermediary/google_search/iPhone-X/20...  424351.0  513476.0   \n",
       "1      ../data/intermediary/google_search/iPhone-X/20...  362214.0  705798.0   \n",
       "2      ../data/intermediary/google_search/iPhone-X/20...  325053.0  740151.0   \n",
       "3      ../data/intermediary/google_search/iPhone-X/20...  374547.0  637786.0   \n",
       "4      ../data/intermediary/google_search/iPhone-X/20...  500003.0  690465.0   \n",
       "...                                                  ...       ...       ...   \n",
       "15263  ../data/intermediary/google_search/iPhone-X/20...  500306.0  807529.0   \n",
       "15264  ../data/intermediary/google_search/iPhone-X/20...  682950.0  623657.0   \n",
       "15265  ../data/intermediary/google_search/iPhone-X/20...  531830.0  453563.0   \n",
       "15266  ../data/intermediary/google_search/iPhone-X/20...  415310.0  465030.0   \n",
       "15267  ../data/intermediary/google_search/iPhone-X/20...  552444.0  731129.0   \n",
       "\n",
       "          links   answers       amp      ads  (0, 0, 0)  (81, 10, 2)  \n",
       "0      256449.0  180764.0  105835.0      NaN        NaN          NaN  \n",
       "1      214441.0   95013.0   33659.0      NaN        NaN          NaN  \n",
       "2      202057.0  125864.0       NaN      NaN        NaN          NaN  \n",
       "3      241263.0  158584.0  108958.0  85362.0        NaN          NaN  \n",
       "4      536489.0  107244.0   75299.0      NaN        NaN          NaN  \n",
       "...         ...       ...       ...      ...        ...          ...  \n",
       "15263  211784.0  310381.0       NaN      NaN        NaN          NaN  \n",
       "15264  551093.0  157958.0  211842.0      NaN        NaN          NaN  \n",
       "15265  382588.0  171001.0  362268.0      NaN        NaN          NaN  \n",
       "15266  332261.0  154649.0  260250.0      NaN        NaN          NaN  \n",
       "15267  438955.0  319798.0   75299.0      NaN        NaN          NaN  \n",
       "\n",
       "[15268 rows x 9 columns]"
      ]
     },
     "execution_count": 13,
     "metadata": {},
     "output_type": "execute_result"
    }
   ],
   "source": [
    "full"
   ]
  },
  {
   "cell_type": "code",
   "execution_count": 14,
   "metadata": {},
   "outputs": [],
   "source": [
    "label2publabel = {\n",
    "    'link' : 'Google Product',\n",
    "    'answer' : 'Google Answer',\n",
    "    'organic' : 'Organic',\n",
    "    'amp' : 'AMP',\n",
    "    'ads' : 'Ads',\n",
    "    'white' : 'White Space'\n",
    "}"
   ]
  },
  {
   "cell_type": "code",
   "execution_count": 23,
   "metadata": {},
   "outputs": [],
   "source": [
    "def proportions(df):\n",
    "    link = df['links'].sum()\n",
    "    answer = df['answers'].sum()\n",
    "    ads = df['ads'].sum()\n",
    "    amp = df['amp'].sum()\n",
    "    o = df['organic'].sum()\n",
    "    w = df['white'].sum()\n",
    "    \n",
    "    d = link + answer + ads + amp + o\n",
    "    return {\n",
    "        'answer' : answer / d,\n",
    "        'link' : link /d,\n",
    "        'amp' : amp/d,\n",
    "        'organic' : o/d,\n",
    "        'ads' : ads/d,\n",
    "        'white' : w/d\n",
    "    }"
   ]
  },
  {
   "cell_type": "code",
   "execution_count": 24,
   "metadata": {},
   "outputs": [
    {
     "data": {
      "text/plain": [
       "{'answer': 0.23102168582693378,\n",
       " 'link': 0.38594462278198294,\n",
       " 'amp': 0.12701369006606292,\n",
       " 'organic': 0.189232440832218,\n",
       " 'ads': 0.06678756049280239,\n",
       " 'white': 0.903183486807882}"
      ]
     },
     "execution_count": 24,
     "metadata": {},
     "output_type": "execute_result"
    }
   ],
   "source": [
    "proportions(fg)"
   ]
  },
  {
   "cell_type": "code",
   "execution_count": 17,
   "metadata": {},
   "outputs": [
    {
     "data": {
      "text/html": [
       "<div>\n",
       "<style scoped>\n",
       "    .dataframe tbody tr th:only-of-type {\n",
       "        vertical-align: middle;\n",
       "    }\n",
       "\n",
       "    .dataframe tbody tr th {\n",
       "        vertical-align: top;\n",
       "    }\n",
       "\n",
       "    .dataframe thead tr th {\n",
       "        text-align: left;\n",
       "    }\n",
       "</style>\n",
       "<table border=\"1\" class=\"dataframe\">\n",
       "  <thead>\n",
       "    <tr>\n",
       "      <th></th>\n",
       "      <th>Above the fold</th>\n",
       "      <th>First page</th>\n",
       "    </tr>\n",
       "    <tr>\n",
       "      <th></th>\n",
       "      <th>area</th>\n",
       "      <th>area</th>\n",
       "    </tr>\n",
       "  </thead>\n",
       "  <tbody>\n",
       "    <tr>\n",
       "      <th>Google Answer</th>\n",
       "      <td>0.231022</td>\n",
       "      <td>0.132617</td>\n",
       "    </tr>\n",
       "    <tr>\n",
       "      <th>Google Product</th>\n",
       "      <td>0.385945</td>\n",
       "      <td>0.275323</td>\n",
       "    </tr>\n",
       "    <tr>\n",
       "      <th>AMP</th>\n",
       "      <td>0.127014</td>\n",
       "      <td>0.136812</td>\n",
       "    </tr>\n",
       "    <tr>\n",
       "      <th>Organic</th>\n",
       "      <td>0.189232</td>\n",
       "      <td>0.445623</td>\n",
       "    </tr>\n",
       "    <tr>\n",
       "      <th>Ads</th>\n",
       "      <td>0.066788</td>\n",
       "      <td>0.009625</td>\n",
       "    </tr>\n",
       "  </tbody>\n",
       "</table>\n",
       "</div>"
      ],
      "text/plain": [
       "               Above the fold First page\n",
       "                         area       area\n",
       "Google Answer        0.231022   0.132617\n",
       "Google Product       0.385945   0.275323\n",
       "AMP                  0.127014   0.136812\n",
       "Organic              0.189232   0.445623\n",
       "Ads                  0.066788   0.009625"
      ]
     },
     "execution_count": 17,
     "metadata": {},
     "output_type": "execute_result"
    }
   ],
   "source": [
    "results = pd.DataFrame([proportions(fg),\n",
    "                        proportions(full)])\n",
    "results.columns = [label2publabel.get(c) for c in results.columns]\n",
    "\n",
    "results = results.T\n",
    "results.columns = pd.MultiIndex.from_tuples([   \n",
    "    ('Above the fold', 'area'),\n",
    "    ('First page', 'area'),\n",
    "])\n",
    "\n",
    "results"
   ]
  },
  {
   "cell_type": "code",
   "execution_count": 20,
   "metadata": {},
   "outputs": [],
   "source": [
    "fn_cats = '../data/output/T1_area_freq_by_category.csv'\n",
    "breakdown = pd.read_csv(fn_cats, index_col=0, header=[0, 1])"
   ]
  },
  {
   "cell_type": "code",
   "execution_count": 21,
   "metadata": {},
   "outputs": [
    {
     "data": {
      "text/html": [
       "<div>\n",
       "<style scoped>\n",
       "    .dataframe tbody tr th:only-of-type {\n",
       "        vertical-align: middle;\n",
       "    }\n",
       "\n",
       "    .dataframe tbody tr th {\n",
       "        vertical-align: top;\n",
       "    }\n",
       "\n",
       "    .dataframe thead tr th {\n",
       "        text-align: left;\n",
       "    }\n",
       "</style>\n",
       "<table border=\"1\" class=\"dataframe\">\n",
       "  <thead>\n",
       "    <tr>\n",
       "      <th></th>\n",
       "      <th colspan=\"2\" halign=\"left\">Above the fold</th>\n",
       "      <th colspan=\"2\" halign=\"left\">First page</th>\n",
       "    </tr>\n",
       "    <tr>\n",
       "      <th></th>\n",
       "      <th>area</th>\n",
       "      <th>frequency</th>\n",
       "      <th>area</th>\n",
       "      <th>Frequency</th>\n",
       "    </tr>\n",
       "  </thead>\n",
       "  <tbody>\n",
       "    <tr>\n",
       "      <th>Google Answer</th>\n",
       "      <td>0.230870</td>\n",
       "      <td>0.664196</td>\n",
       "      <td>0.133166</td>\n",
       "      <td>0.993523</td>\n",
       "    </tr>\n",
       "    <tr>\n",
       "      <th>Google Product</th>\n",
       "      <td>0.394926</td>\n",
       "      <td>0.923945</td>\n",
       "      <td>0.277751</td>\n",
       "      <td>0.999933</td>\n",
       "    </tr>\n",
       "    <tr>\n",
       "      <th>AMP</th>\n",
       "      <td>0.124188</td>\n",
       "      <td>0.202925</td>\n",
       "      <td>0.136066</td>\n",
       "      <td>0.807225</td>\n",
       "    </tr>\n",
       "    <tr>\n",
       "      <th>Organic</th>\n",
       "      <td>0.184808</td>\n",
       "      <td>0.745393</td>\n",
       "      <td>0.443435</td>\n",
       "      <td>0.999733</td>\n",
       "    </tr>\n",
       "    <tr>\n",
       "      <th>Ads</th>\n",
       "      <td>0.065208</td>\n",
       "      <td>0.078592</td>\n",
       "      <td>0.009583</td>\n",
       "      <td>0.095152</td>\n",
       "    </tr>\n",
       "  </tbody>\n",
       "</table>\n",
       "</div>"
      ],
      "text/plain": [
       "               Above the fold           First page          \n",
       "                         area frequency       area Frequency\n",
       "Google Answer        0.230870  0.664196   0.133166  0.993523\n",
       "Google Product       0.394926  0.923945   0.277751  0.999933\n",
       "AMP                  0.124188  0.202925   0.136066  0.807225\n",
       "Organic              0.184808  0.745393   0.443435  0.999733\n",
       "Ads                  0.065208  0.078592   0.009583  0.095152"
      ]
     },
     "execution_count": 21,
     "metadata": {},
     "output_type": "execute_result"
    }
   ],
   "source": [
    "breakdown"
   ]
  },
  {
   "cell_type": "code",
   "execution_count": 22,
   "metadata": {},
   "outputs": [
    {
     "data": {
      "text/html": [
       "<div>\n",
       "<style scoped>\n",
       "    .dataframe tbody tr th:only-of-type {\n",
       "        vertical-align: middle;\n",
       "    }\n",
       "\n",
       "    .dataframe tbody tr th {\n",
       "        vertical-align: top;\n",
       "    }\n",
       "\n",
       "    .dataframe thead tr th {\n",
       "        text-align: left;\n",
       "    }\n",
       "</style>\n",
       "<table border=\"1\" class=\"dataframe\">\n",
       "  <thead>\n",
       "    <tr>\n",
       "      <th></th>\n",
       "      <th>Above the fold</th>\n",
       "      <th>First page</th>\n",
       "    </tr>\n",
       "    <tr>\n",
       "      <th></th>\n",
       "      <th>area</th>\n",
       "      <th>area</th>\n",
       "    </tr>\n",
       "  </thead>\n",
       "  <tbody>\n",
       "    <tr>\n",
       "      <th>Google Answer</th>\n",
       "      <td>-0.0%</td>\n",
       "      <td>0.1%</td>\n",
       "    </tr>\n",
       "    <tr>\n",
       "      <th>Google Product</th>\n",
       "      <td>0.9%</td>\n",
       "      <td>0.2%</td>\n",
       "    </tr>\n",
       "    <tr>\n",
       "      <th>AMP</th>\n",
       "      <td>-0.3%</td>\n",
       "      <td>-0.1%</td>\n",
       "    </tr>\n",
       "    <tr>\n",
       "      <th>Organic</th>\n",
       "      <td>-0.4%</td>\n",
       "      <td>-0.2%</td>\n",
       "    </tr>\n",
       "    <tr>\n",
       "      <th>Ads</th>\n",
       "      <td>-0.2%</td>\n",
       "      <td>-0.0%</td>\n",
       "    </tr>\n",
       "  </tbody>\n",
       "</table>\n",
       "</div>"
      ],
      "text/plain": [
       "               Above the fold First page\n",
       "                         area       area\n",
       "Google Answer           -0.0%       0.1%\n",
       "Google Product           0.9%       0.2%\n",
       "AMP                     -0.3%      -0.1%\n",
       "Organic                 -0.4%      -0.2%\n",
       "Ads                     -0.2%      -0.0%"
      ]
     },
     "execution_count": 22,
     "metadata": {},
     "output_type": "execute_result"
    }
   ],
   "source": [
    "diff = ((breakdown[[('Above the fold', 'area'),\n",
    "           ('First page', 'area')]] - results) * 100).round(1).astype(str) + '%'\n",
    "diff"
   ]
  },
  {
   "cell_type": "code",
   "execution_count": 77,
   "metadata": {},
   "outputs": [
    {
     "name": "stdout",
     "output_type": "stream",
     "text": [
      "<table border=\"1\" class=\"dataframe\">\n",
      "  <thead>\n",
      "    <tr>\n",
      "      <th></th>\n",
      "      <th>Above the fold</th>\n",
      "      <th>First page</th>\n",
      "    </tr>\n",
      "    <tr>\n",
      "      <th></th>\n",
      "      <th>area</th>\n",
      "      <th>area</th>\n",
      "    </tr>\n",
      "  </thead>\n",
      "  <tbody>\n",
      "    <tr>\n",
      "      <th>Google Answer</th>\n",
      "      <td>-0.0%</td>\n",
      "      <td>0.1%</td>\n",
      "    </tr>\n",
      "    <tr>\n",
      "      <th>Google Product</th>\n",
      "      <td>0.9%</td>\n",
      "      <td>0.2%</td>\n",
      "    </tr>\n",
      "    <tr>\n",
      "      <th>AMP</th>\n",
      "      <td>-0.3%</td>\n",
      "      <td>-0.1%</td>\n",
      "    </tr>\n",
      "    <tr>\n",
      "      <th>Organic</th>\n",
      "      <td>-0.4%</td>\n",
      "      <td>-0.2%</td>\n",
      "    </tr>\n",
      "    <tr>\n",
      "      <th>Ads</th>\n",
      "      <td>-0.2%</td>\n",
      "      <td>-0.0%</td>\n",
      "    </tr>\n",
      "  </tbody>\n",
      "</table>\n"
     ]
    }
   ],
   "source": [
    "print(diff.to_html())"
   ]
  },
  {
   "cell_type": "code",
   "execution_count": 38,
   "metadata": {},
   "outputs": [],
   "source": [
    "import numpy as np"
   ]
  },
  {
   "cell_type": "code",
   "execution_count": 71,
   "metadata": {},
   "outputs": [
    {
     "data": {
      "text/plain": [
       "5182.074549623321"
      ]
     },
     "execution_count": 71,
     "metadata": {},
     "output_type": "execute_result"
    }
   ],
   "source": [
    "page_size = Counter()\n",
    "page_size.update([_['height'] for _ in data])\n",
    "heights = [_['height'] for _ in data]\n",
    "avg = sum(heights) / len(data)\n",
    "avg"
   ]
  },
  {
   "cell_type": "code",
   "execution_count": 56,
   "metadata": {},
   "outputs": [
    {
     "data": {
      "text/plain": [
       "1053.4552566687314"
      ]
     },
     "execution_count": 56,
     "metadata": {},
     "output_type": "execute_result"
    }
   ],
   "source": [
    "np.std(heights)"
   ]
  },
  {
   "cell_type": "code",
   "execution_count": 63,
   "metadata": {},
   "outputs": [
    {
     "data": {
      "text/plain": [
       "<matplotlib.axes._subplots.AxesSubplot at 0x7f1959514340>"
      ]
     },
     "execution_count": 63,
     "metadata": {},
     "output_type": "execute_result"
    },
    {
     "data": {
      "image/png": "[encoded data removed]",
      "text/plain": [
       "<Figure size 432x288 with 1 Axes>"
      ]
     },
     "metadata": {
      "needs_background": "light"
     },
     "output_type": "display_data"
    }
   ],
   "source": [
    "pd.DataFrame(data)['height'].plot(kind='kde', xlim=(360, 10000))"
   ]
  },
  {
   "cell_type": "code",
   "execution_count": 55,
   "metadata": {},
   "outputs": [
    {
     "data": {
      "text/plain": [
       "(360, 9266)"
      ]
     },
     "execution_count": 55,
     "metadata": {},
     "output_type": "execute_result"
    }
   ],
   "source": [
    "min(heights), max(heights)"
   ]
  },
  {
   "cell_type": "code",
   "execution_count": 53,
   "metadata": {},
   "outputs": [
    {
     "data": {
      "text/plain": [
       "[{'fn': '../data/intermediary/google_search/iPhone-X/2020/01/01/Lance-Palmer/png/abstract_painting.png',\n",
       "  'pixels_fullpage': {(255, 255, 255): 108992, (251, 188, 5): 20608},\n",
       "  'pixels_firstglance': {(255, 255, 255): 108992,\n",
       "   (0, 0, 0): 174900,\n",
       "   (251, 188, 5): 20608},\n",
       "  'height': 360}]"
      ]
     },
     "execution_count": 53,
     "metadata": {},
     "output_type": "execute_result"
    }
   ],
   "source": [
    "[_ for _ in data if _['height'] == 360]"
   ]
  },
  {
   "cell_type": "code",
   "execution_count": 54,
   "metadata": {},
   "outputs": [],
   "source": [
    "for fn in [_ for _ in data if _['height'] == 360]:\n",
    "    os.remove(fn['fn'])"
   ]
  },
  {
   "cell_type": "code",
   "execution_count": 58,
   "metadata": {},
   "outputs": [
    {
     "data": {
      "text/plain": [
       "2"
      ]
     },
     "execution_count": 58,
     "metadata": {},
     "output_type": "execute_result"
    }
   ],
   "source": [
    "2"
   ]
  },
  {
   "cell_type": "code",
   "execution_count": null,
   "metadata": {},
   "outputs": [],
   "source": []
  },
  {
   "cell_type": "code",
   "execution_count": 66,
   "metadata": {},
   "outputs": [],
   "source": [
    "header = 160\n",
    "footer = 230"
   ]
  },
  {
   "cell_type": "code",
   "execution_count": 67,
   "metadata": {},
   "outputs": [
    {
     "data": {
      "text/plain": [
       "4792.074549623321"
      ]
     },
     "execution_count": 67,
     "metadata": {},
     "output_type": "execute_result"
    }
   ],
   "source": [
    "avg - header - footer"
   ]
  },
  {
   "cell_type": "code",
   "execution_count": 69,
   "metadata": {},
   "outputs": [
    {
     "data": {
      "text/plain": [
       "1200.0"
      ]
     },
     "execution_count": 69,
     "metadata": {},
     "output_type": "execute_result"
    }
   ],
   "source": [
    "4800 / 4"
   ]
  },
  {
   "cell_type": "code",
   "execution_count": null,
   "metadata": {},
   "outputs": [],
   "source": []
  }
 ],
 "metadata": {
  "kernelspec": {
   "display_name": "Python 3",
   "language": "python",
   "name": "python3"
  },
  "language_info": {
   "codemirror_mode": {
    "name": "ipython",
    "version": 3
   },
   "file_extension": ".py",
   "mimetype": "text/x-python",
   "name": "python",
   "nbconvert_exporter": "python",
   "pygments_lexer": "ipython3",
   "version": "3.8.1"
  }
 },
 "nbformat": 4,
 "nbformat_minor": 4
}
