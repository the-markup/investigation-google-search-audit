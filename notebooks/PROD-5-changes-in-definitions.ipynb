{
 "cells": [
  {
   "cell_type": "markdown",
   "metadata": {},
   "source": [
    "## Area Range Under Definition Changes\n",
    "How much does area coverage change when we tweak the changes for what is Google and non-Google?\n",
    "This section examines 6 scenarios\n",
    "\n",
    "We recalculate the area percentages from Table 1 under our baseline interpretation as well as several other interpretations."
   ]
  },
  {
   "cell_type": "code",
   "execution_count": 1,
   "metadata": {},
   "outputs": [],
   "source": [
    "import pandas as pd\n",
    "from tqdm import tqdm\n",
    "import matplotlib.pyplot as plt"
   ]
  },
  {
   "cell_type": "code",
   "execution_count": 2,
   "metadata": {},
   "outputs": [],
   "source": [
    "# variables\n",
    "subsample = True\n",
    "data_dir = '../data' if not subsample else '../data_subsample'"
   ]
  },
  {
   "cell_type": "code",
   "execution_count": 3,
   "metadata": {},
   "outputs": [],
   "source": [
    "# input\n",
    "fn_metadata = f'{data_dir}/intermediary/element_metadata.jsonl.gz'\n",
    "\n",
    "# output\n",
    "fn_plt = f'{data_dir}/output/figures/5-area-range.png'"
   ]
  },
  {
   "cell_type": "code",
   "execution_count": 4,
   "metadata": {},
   "outputs": [],
   "source": [
    "# we will isolate blue links and \"attributed answers\"\n",
    "attributed_answers = [\n",
    "    'answer-richtext',\n",
    "    'answer-feature_snippet_answer_short',\n",
    "    'answer-knowledge_panel_answer',\n",
    "    'answer-medical',\n",
    "    'answer-knowledge_health',\n",
    "    'answer-dictionary',\n",
    "]\n",
    "\n",
    "blue_link_categories = [\n",
    "    'organic-search_result',\n",
    "    'amp-search_result',\n",
    "    \"youtube-search-result\"\n",
    "]\n",
    "\n",
    "cols = [\n",
    "    'area_above_the_fold',\n",
    "    'area_page'\n",
    "]"
   ]
  },
  {
   "cell_type": "code",
   "execution_count": 5,
   "metadata": {},
   "outputs": [
    {
     "name": "stderr",
     "output_type": "stream",
     "text": [
      "4it [00:01,  2.40it/s]\n"
     ]
    }
   ],
   "source": [
    "pixels = {\n",
    "    col : {\n",
    "        'ad' : 0,\n",
    "        'bluelink' : 0,\n",
    "        'non-google-nbl' : 0,\n",
    "        'google-nbl' : 0,\n",
    "        'amp-nbl' : 0,\n",
    "        'non-google': 0,\n",
    "        'google' : 0,\n",
    "        'amp' : 0,\n",
    "        'attributed-answers' : 0,\n",
    "        'everything' : 0,\n",
    "        \n",
    "    } for col in cols\n",
    "}\n",
    "\n",
    "for df in tqdm(pd.read_json(fn_metadata, \n",
    "                            lines=True, \n",
    "                            chunksize=10000)):\n",
    "    for col in cols:\n",
    "        # baseline values\n",
    "        ad = df[df.label == 'ads'][col].sum()\n",
    "        g = df[(df.label == 'link') | (df.label == 'answer')][col].sum()\n",
    "        amp = df[df.label == 'amp'][col].sum()\n",
    "        o = df[df.label == 'organic'][col].sum()\n",
    "        \n",
    "        # isolating blue links\n",
    "        blue =  df[df.category_standard.isin(blue_link_categories)][col].sum()\n",
    "        o_nbl = df[(df.label == 'organic') & \n",
    "               (~df.category_standard.isin(blue_link_categories))][col].sum()\n",
    "        g_nbl = df[(df.label == 'link') | (df.label == 'answer') & \n",
    "                (~df.category_standard.isin(blue_link_categories))][col].sum()\n",
    "        amp_nbl = df[(df.label == 'amp') & \n",
    "                 (~df.category_standard.isin(blue_link_categories))][col].sum()\n",
    "        \n",
    "        # scraped answers with attribution links\n",
    "        aa = df[df.category.isin(attributed_answers)][col].sum()\n",
    "        \n",
    "        everything = df[col].sum()\n",
    "        \n",
    "        # append area of pixels to dictionary\n",
    "        pixels[col]['ad'] += ad\n",
    "        pixels[col]['bluelink'] += blue\n",
    "        pixels[col]['non-google-nbl'] += o_nbl\n",
    "        pixels[col]['google-nbl'] += g_nbl\n",
    "        pixels[col]['amp-nbl'] += amp_nbl\n",
    "        pixels[col]['non-google'] += o\n",
    "        pixels[col]['google'] += g\n",
    "        pixels[col]['amp'] += amp        \n",
    "        pixels[col]['attributed-answers'] += aa\n",
    "        pixels[col]['everything'] += everything\n",
    "   \n",
    "    del df"
   ]
  },
  {
   "cell_type": "code",
   "execution_count": 6,
   "metadata": {},
   "outputs": [
    {
     "data": {
      "text/plain": [
       "'area_above_the_fold'"
      ]
     },
     "execution_count": 6,
     "metadata": {},
     "output_type": "execute_result"
    }
   ],
   "source": [
    "# let's see this for above the fold:\n",
    "col = cols[0]\n",
    "col"
   ]
  },
  {
   "cell_type": "code",
   "execution_count": 7,
   "metadata": {},
   "outputs": [
    {
     "data": {
      "text/plain": [
       "(0.6209938070106924, 0.20059580494497176)"
      ]
     },
     "execution_count": 7,
     "metadata": {},
     "output_type": "execute_result"
    }
   ],
   "source": [
    "baseline_g =  pixels[col]['google'] / pixels[col]['everything']\n",
    "baseline_ng =pixels[col]['non-google'] / pixels[col]['everything']\n",
    "baseline_g, baseline_ng"
   ]
  },
  {
   "cell_type": "markdown",
   "metadata": {},
   "source": [
    "### Scenario 1\n",
    "Ads are part of Google"
   ]
  },
  {
   "cell_type": "code",
   "execution_count": 8,
   "metadata": {},
   "outputs": [],
   "source": [
    "s1_g = (pixels[col]['ad'] + pixels[col]['google']) / pixels[col]['everything']\n",
    "s1_ng = pixels[col]['non-google'] / pixels[col]['everything']"
   ]
  },
  {
   "cell_type": "markdown",
   "metadata": {},
   "source": [
    "### Scenario 2\n",
    "AMP is part of Google"
   ]
  },
  {
   "cell_type": "code",
   "execution_count": 9,
   "metadata": {},
   "outputs": [],
   "source": [
    "s2_g = (pixels[col]['amp'] + pixels[col]['google']) / pixels[col]['everything']\n",
    "s2_ng = pixels[col]['non-google'] / pixels[col]['everything']"
   ]
  },
  {
   "cell_type": "markdown",
   "metadata": {},
   "source": [
    "### Scenario 3\n",
    "AMP is part of non-Google"
   ]
  },
  {
   "cell_type": "code",
   "execution_count": 10,
   "metadata": {},
   "outputs": [],
   "source": [
    "s3_g = pixels[col]['google'] / pixels[col]['everything']\n",
    "s3_ng = (pixels[col]['non-google'] + pixels[col]['amp']) / pixels[col]['everything']"
   ]
  },
  {
   "cell_type": "markdown",
   "metadata": {},
   "source": [
    "### Scenario 4\n",
    "All answers with an outbound link are conisdered non-Google"
   ]
  },
  {
   "cell_type": "code",
   "execution_count": 11,
   "metadata": {},
   "outputs": [],
   "source": [
    "s4_g = (pixels[col]['google'] - \n",
    "        pixels[col]['attributed-answers']) / pixels[col]['everything']\n",
    "s4_ng = (pixels[col]['non-google'] + \n",
    "         pixels[col]['attributed-answers']) / pixels[col]['everything']"
   ]
  },
  {
   "cell_type": "markdown",
   "metadata": {},
   "source": [
    "### Scenario 5\n",
    "All blue links are folded into Non-Google"
   ]
  },
  {
   "cell_type": "code",
   "execution_count": 12,
   "metadata": {},
   "outputs": [],
   "source": [
    "s5_g = pixels[col]['google-nbl'] / pixels[col]['everything']\n",
    "\n",
    "s5_ng = (pixels[col]['bluelink'] + \n",
    " pixels[col]['non-google-nbl']\n",
    ") / pixels[col]['everything']"
   ]
  },
  {
   "cell_type": "markdown",
   "metadata": {},
   "source": [
    "### Scenario 6\n",
    "Blue links replace non-Google. Google is all modules that are not ads or bluelinks."
   ]
  },
  {
   "cell_type": "code",
   "execution_count": 13,
   "metadata": {},
   "outputs": [],
   "source": [
    "s6_g = (pixels[col]['google-nbl'] + \n",
    " pixels[col]['amp-nbl'] +\n",
    " pixels[col]['non-google-nbl']\n",
    ") / pixels[col]['everything']\n",
    "\n",
    "s6_ng = pixels[col]['bluelink'] / pixels[col]['everything']"
   ]
  },
  {
   "cell_type": "markdown",
   "metadata": {},
   "source": [
    "Let's get the range of these scenarios"
   ]
  },
  {
   "cell_type": "code",
   "execution_count": 14,
   "metadata": {},
   "outputs": [],
   "source": [
    "ng_range = [s1_ng, s2_ng, s3_ng, s4_ng, s5_ng, s6_ng] \n",
    "g_range =  [s1_g,  s2_g,  s3_g,  s4_g,  s5_g,  s6_g ]"
   ]
  },
  {
   "cell_type": "code",
   "execution_count": 15,
   "metadata": {},
   "outputs": [
    {
     "data": {
      "text/plain": [
       "[0.47424984176269347, 0.8127382640021609]"
      ]
     },
     "execution_count": 15,
     "metadata": {},
     "output_type": "execute_result"
    }
   ],
   "source": [
    "g = [min(g_range), \n",
    "     max(g_range)]\n",
    "g"
   ]
  },
  {
   "cell_type": "code",
   "execution_count": 16,
   "metadata": {},
   "outputs": [
    {
     "data": {
      "text/plain": [
       "[0.12442585661319605, 0.34733977019297074]"
      ]
     },
     "execution_count": 16,
     "metadata": {},
     "output_type": "execute_result"
    }
   ],
   "source": [
    "ng = [min(ng_range), \n",
    "      max(ng_range)]\n",
    "ng"
   ]
  },
  {
   "cell_type": "code",
   "execution_count": 17,
   "metadata": {},
   "outputs": [],
   "source": [
    "data = [{\n",
    "        'category' : 'Google',\n",
    "        'frame' : 'Top of Page',\n",
    "        'area' : baseline_g * 100,\n",
    "        'min' : g[0]* 100,\n",
    "        'max' : g[-1]* 100\n",
    "    },\n",
    "\n",
    "    {\n",
    "        'category' : 'non-Google',\n",
    "        'frame' : 'Top of Page',\n",
    "        'area' : baseline_ng* 100,\n",
    "        'min' : ng[0]* 100,\n",
    "        'max' : ng[-1]* 100\n",
    "    },\n",
    "]"
   ]
  },
  {
   "cell_type": "code",
   "execution_count": 18,
   "metadata": {},
   "outputs": [],
   "source": [
    "data = pd.DataFrame(data)"
   ]
  },
  {
   "cell_type": "code",
   "execution_count": 19,
   "metadata": {},
   "outputs": [],
   "source": [
    "data['name'] =  data['category']"
   ]
  },
  {
   "cell_type": "code",
   "execution_count": 20,
   "metadata": {},
   "outputs": [],
   "source": [
    "name2name = {\n",
    "    'Top of Page non-Google' : 'non-Google',\n",
    "    'First Page non-Google' : 'non-Google '\n",
    "}"
   ]
  },
  {
   "cell_type": "code",
   "execution_count": 21,
   "metadata": {},
   "outputs": [],
   "source": [
    "data = data[::-1]"
   ]
  },
  {
   "cell_type": "code",
   "execution_count": 22,
   "metadata": {},
   "outputs": [
    {
     "data": {
      "image/png": "[encoded data removed]",
      "text/plain": [
       "<Figure size 576x144 with 1 Axes>"
      ]
     },
     "metadata": {
      "needs_background": "light"
     },
     "output_type": "display_data"
    }
   ],
   "source": [
    "fig, ax = plt.subplots(figsize=(8, 2))\n",
    "plt.scatter(data.area, data.name, zorder=100, color='grey')\n",
    "\n",
    "plt.errorbar(data.area, 'name', \n",
    "             data=data,\n",
    "             xerr=[data['area'] -data['min'], \n",
    "                   data['max'] - data['area']], \n",
    "             ecolor='k', color='white',\n",
    "             capsize = 5,  fmt='o',\n",
    "             alpha=.9)\n",
    "\n",
    "plt.title(\"Area Range of Different Category Interpretations Top of the Page\",\n",
    "           x=0.48,\n",
    "           y=1.17,\n",
    "           size=15.5)\n",
    "\n",
    "ax.set_xlabel(\"Percentage of section covered by category\")\n",
    "\n",
    "\n",
    "# Hide the right and top spines\n",
    "ax.spines['right'].set_visible(False)\n",
    "ax.spines['top'].set_visible(False)\n",
    "\n",
    "# Only show ticks on the left and bottom spines\n",
    "ax.yaxis.set_ticks_position('left')\n",
    "ax.xaxis.set_ticks_position('bottom')\n",
    "\n",
    "plt.tick_params(axis='y', which='major', labelsize=12)\n",
    "ax.margins(y=0.6)\n",
    "\n",
    "plt.savefig(fn_plt)\n",
    "plt.show()"
   ]
  },
  {
   "cell_type": "code",
   "execution_count": null,
   "metadata": {},
   "outputs": [],
   "source": []
  }
 ],
 "metadata": {
  "kernelspec": {
   "display_name": "Python 3",
   "language": "python",
   "name": "python3"
  },
  "language_info": {
   "codemirror_mode": {
    "name": "ipython",
    "version": 3
   },
   "file_extension": ".py",
   "mimetype": "text/x-python",
   "name": "python",
   "nbconvert_exporter": "python",
   "pygments_lexer": "ipython3",
   "version": "3.8.1"
  }
 },
 "nbformat": 4,
 "nbformat_minor": 4
}
