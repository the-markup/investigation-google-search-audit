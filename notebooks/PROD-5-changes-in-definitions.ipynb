{
 "cells": [
  {
   "cell_type": "code",
   "execution_count": 10,
   "metadata": {},
   "outputs": [],
   "source": [
    "import pandas as pd\n",
    "from tqdm import tqdm\n",
    "import matplotlib.pyplot as plt"
   ]
  },
  {
   "cell_type": "markdown",
   "metadata": {},
   "source": [
    "variations"
   ]
  },
  {
   "cell_type": "code",
   "execution_count": 22,
   "metadata": {},
   "outputs": [],
   "source": [
    "attributed_answers = [\n",
    "    'answer-richtext',\n",
    "    'answer-feature_snippet_answer_short',\n",
    "    'answer-knowledge_panel_answer',\n",
    "    'answer-medical',\n",
    "    'answer-knowledge_health',\n",
    "    'answer-dictionary',\n",
    "]\n",
    "\n",
    "blue_link_categories = [\n",
    "    'organic-search_result',\n",
    "    'amp-search_result',\n",
    "    \"youtube-search-result\"\n",
    "]\n"
   ]
  },
  {
   "cell_type": "code",
   "execution_count": 34,
   "metadata": {},
   "outputs": [],
   "source": [
    "fn = '../data/output/tables/T1_area_freq_by_category.csv'"
   ]
  },
  {
   "cell_type": "code",
   "execution_count": 43,
   "metadata": {},
   "outputs": [],
   "source": [
    "df = pd.read_csv(fn, header=[0,1], index_col =0)"
   ]
  },
  {
   "cell_type": "code",
   "execution_count": 44,
   "metadata": {},
   "outputs": [
    {
     "data": {
      "text/html": [
       "<div>\n",
       "<style scoped>\n",
       "    .dataframe tbody tr th:only-of-type {\n",
       "        vertical-align: middle;\n",
       "    }\n",
       "\n",
       "    .dataframe tbody tr th {\n",
       "        vertical-align: top;\n",
       "    }\n",
       "\n",
       "    .dataframe thead tr th {\n",
       "        text-align: left;\n",
       "    }\n",
       "</style>\n",
       "<table border=\"1\" class=\"dataframe\">\n",
       "  <thead>\n",
       "    <tr>\n",
       "      <th></th>\n",
       "      <th colspan=\"2\" halign=\"left\">Top of page</th>\n",
       "      <th colspan=\"2\" halign=\"left\">First page</th>\n",
       "    </tr>\n",
       "    <tr>\n",
       "      <th></th>\n",
       "      <th>area</th>\n",
       "      <th>freq</th>\n",
       "      <th>area</th>\n",
       "      <th>freq</th>\n",
       "    </tr>\n",
       "  </thead>\n",
       "  <tbody>\n",
       "    <tr>\n",
       "      <th>Google Answer</th>\n",
       "      <td>0.241734</td>\n",
       "      <td>0.704761</td>\n",
       "      <td>0.134510</td>\n",
       "      <td>0.993516</td>\n",
       "    </tr>\n",
       "    <tr>\n",
       "      <th>Google Product</th>\n",
       "      <td>0.384758</td>\n",
       "      <td>0.923964</td>\n",
       "      <td>0.275221</td>\n",
       "      <td>1.000000</td>\n",
       "    </tr>\n",
       "    <tr>\n",
       "      <th>Non-Google</th>\n",
       "      <td>0.192248</td>\n",
       "      <td>0.800118</td>\n",
       "      <td>0.447533</td>\n",
       "      <td>0.999869</td>\n",
       "    </tr>\n",
       "    <tr>\n",
       "      <th>AMP</th>\n",
       "      <td>0.120642</td>\n",
       "      <td>0.225817</td>\n",
       "      <td>0.133110</td>\n",
       "      <td>0.807126</td>\n",
       "    </tr>\n",
       "    <tr>\n",
       "      <th>Ads</th>\n",
       "      <td>0.060618</td>\n",
       "      <td>0.080752</td>\n",
       "      <td>0.009626</td>\n",
       "      <td>0.095095</td>\n",
       "    </tr>\n",
       "  </tbody>\n",
       "</table>\n",
       "</div>"
      ],
      "text/plain": [
       "               Top of page           First page          \n",
       "                      area      freq       area      freq\n",
       "Google Answer     0.241734  0.704761   0.134510  0.993516\n",
       "Google Product    0.384758  0.923964   0.275221  1.000000\n",
       "Non-Google        0.192248  0.800118   0.447533  0.999869\n",
       "AMP               0.120642  0.225817   0.133110  0.807126\n",
       "Ads               0.060618  0.080752   0.009626  0.095095"
      ]
     },
     "execution_count": 44,
     "metadata": {},
     "output_type": "execute_result"
    }
   ],
   "source": [
    "df"
   ]
  },
  {
   "cell_type": "code",
   "execution_count": 1,
   "metadata": {},
   "outputs": [],
   "source": [
    "# input\n",
    "n_quantiles = 50\n",
    "fn_metadata = f'../data/intermediary/element_metadata_15k_{n_quantiles}_quantiles.jsonl.gz'"
   ]
  },
  {
   "cell_type": "code",
   "execution_count": 5,
   "metadata": {},
   "outputs": [],
   "source": [
    "cols = [\n",
    "    'area_above_the_fold',\n",
    "    'area_page'\n",
    "]"
   ]
  },
  {
   "cell_type": "code",
   "execution_count": 19,
   "metadata": {},
   "outputs": [],
   "source": []
  },
  {
   "cell_type": "code",
   "execution_count": 51,
   "metadata": {},
   "outputs": [
    {
     "name": "stderr",
     "output_type": "stream",
     "text": [
      "30it [01:17,  2.57s/it]\n"
     ]
    }
   ],
   "source": [
    "pixels = {\n",
    "    col : {\n",
    "        'ad' : 0,\n",
    "        'bluelink' : 0,\n",
    "        'non-google-nbl' : 0,\n",
    "        'google-nbl' : 0,\n",
    "        'amp-nbl' : 0,\n",
    "        'non-google': 0,\n",
    "        'google' : 0,\n",
    "        'amp' : 0,\n",
    "        'attributed-answers' : 0,\n",
    "        'everything' : 0,\n",
    "        \n",
    "    } for col in cols\n",
    "}\n",
    "\n",
    "for df in tqdm(pd.read_json(fn_metadata, \n",
    "                            lines=True, \n",
    "                            chunksize=40000)):\n",
    "    for col in cols:\n",
    "        ad = df[df.label == 'ads'][col].sum()\n",
    "        blue =  df[df.category_standard.isin(blue_link_categories)][col].sum()\n",
    "        \n",
    "        \n",
    "        o_nbl = df[(df.label == 'organic') & \n",
    "               (~df.category_standard.isin(blue_link_categories))][col].sum()\n",
    "        \n",
    "      \n",
    "        g_nbl = df[(df.label == 'link') | (df.label == 'answer') & \n",
    "                (~df.category_standard.isin(blue_link_categories))][col].sum()\n",
    "        \n",
    "        amp_nbl = df[(df.label == 'amp') & \n",
    "                 (~df.category_standard.isin(blue_link_categories))][col].sum()\n",
    "        \n",
    "        o = df[df.label == 'organic'][col].sum()\n",
    "        \n",
    "      \n",
    "        g = df[(df.label == 'link') | (df.label == 'answer')][col].sum()\n",
    "        \n",
    "        amp = df[df.label == 'amp'][col].sum()\n",
    "        \n",
    "        aa = df[df.category.isin(attributed_answers)][col].sum()\n",
    "        \n",
    "        everything = df[col].sum()\n",
    "        \n",
    "        pixels[col]['ad'] += ad\n",
    "        pixels[col]['bluelink'] += blue\n",
    "        pixels[col]['non-google-nbl'] += o_nbl\n",
    "        pixels[col]['google-nbl'] += g_nbl\n",
    "        pixels[col]['amp-nbl'] += amp_nbl\n",
    "        pixels[col]['non-google'] += o\n",
    "        pixels[col]['google'] += g\n",
    "        pixels[col]['amp'] += amp        \n",
    "        pixels[col]['attributed-answers'] += aa\n",
    "        pixels[col]['everything'] += everything\n",
    "   \n",
    "    del df"
   ]
  },
  {
   "cell_type": "code",
   "execution_count": 63,
   "metadata": {},
   "outputs": [],
   "source": [
    "col = cols[0]"
   ]
  },
  {
   "cell_type": "code",
   "execution_count": 76,
   "metadata": {},
   "outputs": [],
   "source": [
    "s1_g = (pixels[col]['ad'] + pixels[col]['google']) / pixels[col]['everything']\n",
    "s1_ng = pixels[col]['non-google'] / pixels[col]['everything']"
   ]
  },
  {
   "cell_type": "code",
   "execution_count": 89,
   "metadata": {},
   "outputs": [],
   "source": [
    "s2_g = (pixels[col]['amp'] + pixels[col]['google']) / pixels[col]['everything']\n",
    "s2_ng = pixels[col]['non-google'] / pixels[col]['everything']"
   ]
  },
  {
   "cell_type": "code",
   "execution_count": 90,
   "metadata": {},
   "outputs": [],
   "source": [
    "s3_g = pixels[col]['google'] / pixels[col]['everything']\n",
    "s3_ng = (pixels[col]['non-google'] + pixels[col]['amp']) / pixels[col]['everything']"
   ]
  },
  {
   "cell_type": "code",
   "execution_count": 91,
   "metadata": {},
   "outputs": [],
   "source": [
    "s4_g = (pixels[col]['google'] - \n",
    "        pixels[col]['attributed-answers']) / pixels[col]['everything']\n",
    "s4_ng = (pixels[col]['non-google'] + \n",
    "         pixels[col]['attributed-answers']) / pixels[col]['everything']"
   ]
  },
  {
   "cell_type": "code",
   "execution_count": 92,
   "metadata": {},
   "outputs": [],
   "source": [
    "s5_g = pixels[col]['google-nbl'] / pixels[col]['everything']\n",
    "\n",
    "s5_ng = (pixels[col]['bluelink'] + \n",
    " pixels[col]['non-google-nbl']\n",
    ") / pixels[col]['everything']"
   ]
  },
  {
   "cell_type": "code",
   "execution_count": 93,
   "metadata": {},
   "outputs": [],
   "source": [
    "s6_g = (pixels[col]['google-nbl'] + \n",
    " pixels[col]['amp-nbl'] +\n",
    " pixels[col]['non-google-nbl']\n",
    ") / pixels[col]['everything']\n",
    "\n",
    "s6_ng = pixels[col]['bluelink'] / pixels[col]['everything']"
   ]
  },
  {
   "cell_type": "code",
   "execution_count": 79,
   "metadata": {},
   "outputs": [
    {
     "data": {
      "text/plain": [
       "0.10795064691735486"
      ]
     },
     "execution_count": 79,
     "metadata": {},
     "output_type": "execute_result"
    }
   ],
   "source": [
    "s6_ng = pixels[col]['bluelink'] / pixels[col]['everything']\n",
    "s6_ng"
   ]
  },
  {
   "cell_type": "code",
   "execution_count": 94,
   "metadata": {},
   "outputs": [],
   "source": [
    "ng_range = [s1_ng, s2_ng, s3_ng, s4_ng, s5_ng, s6_ng] \n",
    "g_range = [s1_g, s2_g, s3_g, s4_g, s5_g, s6_g]"
   ]
  },
  {
   "cell_type": "code",
   "execution_count": 96,
   "metadata": {},
   "outputs": [
    {
     "data": {
      "text/plain": [
       "[48.68398938378843, 83.14310819989333]"
      ]
     },
     "execution_count": 96,
     "metadata": {},
     "output_type": "execute_result"
    }
   ],
   "source": [
    "g = [min(g_range) * 100, \n",
    "     max(g_range) * 100]\n",
    "g"
   ]
  },
  {
   "cell_type": "code",
   "execution_count": 97,
   "metadata": {},
   "outputs": [
    {
     "data": {
      "text/plain": [
       "[10.795064691735485, 33.19003122832934]"
      ]
     },
     "execution_count": 97,
     "metadata": {},
     "output_type": "execute_result"
    }
   ],
   "source": [
    "ng = [min(ng_range) * 100, \n",
    "      max(ng_range) * 100]\n",
    "ng"
   ]
  },
  {
   "cell_type": "code",
   "execution_count": 2,
   "metadata": {},
   "outputs": [],
   "source": [
    "g = [48.6, 83.1]\n",
    "ng = [10.8, 33.2]\n",
    "gf = [37.9, 52]\n",
    "ngf = [44.8, 55.8]"
   ]
  },
  {
   "cell_type": "code",
   "execution_count": 126,
   "metadata": {},
   "outputs": [],
   "source": [
    "data = [{\n",
    "        'category' : 'Google',\n",
    "        'frame' : 'Top of Page',\n",
    "        'area' : 62.6,\n",
    "        'min' : 48.6,\n",
    "        'max' : 83.1\n",
    "    },\n",
    "\n",
    "    {\n",
    "        'category' : 'non-Google',\n",
    "        'frame' : 'Top of Page',\n",
    "        'area' : 19.2,\n",
    "        'min' : 10.8,\n",
    "        'max' : 33.2\n",
    "    },\n",
    "\n",
    "#     {\n",
    "#         'category' : 'Google',\n",
    "#         'frame' : 'First Page',\n",
    "#         'area' : 41,\n",
    "#         'min' : 37.9,\n",
    "#         'max' : 52\n",
    "#     },\n",
    "\n",
    "#     {\n",
    "#         'category' : 'non-Google',\n",
    "#         'frame' : 'First Page',\n",
    "#         'area' : 44.8,\n",
    "#         'min' : 44.8,\n",
    "#         'max' : 55.8\n",
    "#     }\n",
    "]"
   ]
  },
  {
   "cell_type": "code",
   "execution_count": 127,
   "metadata": {},
   "outputs": [],
   "source": [
    "data = pd.DataFrame(data)"
   ]
  },
  {
   "cell_type": "code",
   "execution_count": 128,
   "metadata": {},
   "outputs": [],
   "source": [
    "# data['name'] =  data['frame'] + ' ' + data['category']"
   ]
  },
  {
   "cell_type": "code",
   "execution_count": 151,
   "metadata": {},
   "outputs": [],
   "source": [
    "data['name'] =  data['category']"
   ]
  },
  {
   "cell_type": "code",
   "execution_count": 130,
   "metadata": {},
   "outputs": [],
   "source": [
    "name2name = {\n",
    "    'Top of Page non-Google' : 'non-Google',\n",
    "    'First Page non-Google' : 'non-Google '\n",
    "}"
   ]
  },
  {
   "cell_type": "code",
   "execution_count": 131,
   "metadata": {},
   "outputs": [],
   "source": [
    "# data['name'] = data['name'].replace(name2name)"
   ]
  },
  {
   "cell_type": "code",
   "execution_count": 132,
   "metadata": {},
   "outputs": [],
   "source": [
    "data = data[::-1]"
   ]
  },
  {
   "cell_type": "code",
   "execution_count": 171,
   "metadata": {},
   "outputs": [
    {
     "data": {
      "image/png": "[encoded data removed]",
      "text/plain": [
       "<Figure size 576x144 with 1 Axes>"
      ]
     },
     "metadata": {
      "needs_background": "light"
     },
     "output_type": "display_data"
    }
   ],
   "source": [
    "fig, ax = plt.subplots(figsize=(8, 2))\n",
    "plt.scatter(data.area, data.name, zorder=100, color='grey')\n",
    "\n",
    "plt.errorbar(data.area, 'name', \n",
    "             data=data,\n",
    "             xerr=[data['area'] -data['min'], \n",
    "                   data['max'] - data['area']], \n",
    "             ecolor='k', color='white',\n",
    "             capsize = 5,  fmt='o',\n",
    "             alpha=.9)\n",
    "\n",
    "plt.title(\"Area Range of Different Category Interpretations Top of the Page\",\n",
    "           x=0.48,\n",
    "           y=1.17,\n",
    "           size=15.5)\n",
    "\n",
    "ax.set_xlabel(\"Percentage of section covered by category\")\n",
    "\n",
    "\n",
    "# Hide the right and top spines\n",
    "ax.spines['right'].set_visible(False)\n",
    "ax.spines['top'].set_visible(False)\n",
    "\n",
    "# Only show ticks on the left and bottom spines\n",
    "ax.yaxis.set_ticks_position('left')\n",
    "ax.xaxis.set_ticks_position('bottom')\n",
    "\n",
    "plt.tick_params(axis='y', which='major', labelsize=12)\n",
    "ax.margins(y=0.6)"
   ]
  },
  {
   "cell_type": "code",
   "execution_count": null,
   "metadata": {},
   "outputs": [],
   "source": []
  }
 ],
 "metadata": {
  "kernelspec": {
   "display_name": "Python 3",
   "language": "python",
   "name": "python3"
  },
  "language_info": {
   "codemirror_mode": {
    "name": "ipython",
    "version": 3
   },
   "file_extension": ".py",
   "mimetype": "text/x-python",
   "name": "python",
   "nbconvert_exporter": "python",
   "pygments_lexer": "ipython3",
   "version": "3.8.1"
  }
 },
 "nbformat": 4,
 "nbformat_minor": 4
}
