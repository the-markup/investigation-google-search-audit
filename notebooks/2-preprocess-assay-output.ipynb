{
 "cells": [
  {
   "cell_type": "markdown",
   "metadata": {},
   "source": [
    "# Data Preprocessing\n",
    "Leon Yin\n",
    "\n",
    "This notebook analyses the results of the element categorization and area estimations from the last notebook."
   ]
  },
  {
   "cell_type": "code",
   "execution_count": 1,
   "metadata": {},
   "outputs": [],
   "source": [
    "%load_ext autoreload\n",
    "%autoreload 2\n",
    "%matplotlib inline"
   ]
  },
  {
   "cell_type": "code",
   "execution_count": 2,
   "metadata": {},
   "outputs": [],
   "source": [
    "import os\n",
    "import sys\n",
    "import json\n",
    "import time\n",
    "import glob\n",
    "import tempfile\n",
    "import warnings\n",
    "import inspect\n",
    "from collections import Counter\n",
    "from multiprocessing import Pool\n",
    "warnings.filterwarnings('ignore')\n",
    "\n",
    "import numpy as np\n",
    "import pandas as pd\n",
    "import matplotlib.pyplot as plt\n",
    "from matplotlib.patches import Patch\n",
    "from bs4 import BeautifulSoup\n",
    "from tqdm import tqdm\n",
    "from IPython.display import display\n",
    "\n",
    "sys.path.append(\"..\")\n",
    "from utils.config import (\n",
    "    google_domains,\n",
    "    cat2color,\n",
    "    width\n",
    ")"
   ]
  },
  {
   "cell_type": "markdown",
   "metadata": {},
   "source": [
    "## Read the intermediates"
   ]
  },
  {
   "cell_type": "code",
   "execution_count": 3,
   "metadata": {},
   "outputs": [],
   "source": [
    "# inputs\n",
    "data_dir_metadata = '../data/intermediary/google_search/'\n",
    "metadata_pattern = os.path.join(data_dir_metadata, \n",
    "                                'iPhone-X/*/*/*/*/json/parsed_meta.ndjson')\n",
    "# output\n",
    "fn_metadata = '../data/intermediary/element_metadata_15k.jsonl.gz'"
   ]
  },
  {
   "cell_type": "code",
   "execution_count": 4,
   "metadata": {},
   "outputs": [
    {
     "data": {
      "text/plain": [
       "15281"
      ]
     },
     "execution_count": 4,
     "metadata": {},
     "output_type": "execute_result"
    }
   ],
   "source": [
    "metadata_files = glob.glob(metadata_pattern)\n",
    "len(metadata_files)"
   ]
  },
  {
   "cell_type": "code",
   "execution_count": 5,
   "metadata": {},
   "outputs": [],
   "source": [
    "header = 160"
   ]
  },
  {
   "cell_type": "code",
   "execution_count": 6,
   "metadata": {},
   "outputs": [],
   "source": [
    "def get_bottom(row):\n",
    "    \"\"\"Finds the bottom of the last element\"\"\"\n",
    "    return row['location']['y'] + row['dimensions']['height']"
   ]
  },
  {
   "cell_type": "code",
   "execution_count": 7,
   "metadata": {},
   "outputs": [],
   "source": [
    "def calc_area(location : dict,\n",
    "              rect : dict,\n",
    "              width : int = 1e6,\n",
    "              height_top : int = 0,\n",
    "              height_bottom : int = 1e6) -> float:\n",
    "        \"\"\"\n",
    "        Given a `rect` from selenium, \n",
    "        (see the `rect` module from selenium elements)\n",
    "        we're able to locate the coordinates of corners\n",
    "        of a rectangular element and calculate the area.\n",
    "\n",
    "        Set the `width` and `height` params to create boundries.\n",
    "        `np.clip` will restrict the given `h` and `w` to\n",
    "        the bounds of the screen.\n",
    "        \"\"\"\n",
    "        x = location.get('x')\n",
    "        \n",
    "        # take care of neg values\n",
    "        x = np.clip(x, a_min=0, a_max=1e6)\n",
    "        y = location.get('y')\n",
    "        h = rect.get('height')\n",
    "        w = rect.get('width')\n",
    "\n",
    "        # calculate the top left X coord, top right X coord\n",
    "        tl_x = np.clip(x,     0, width)\n",
    "        tr_x = np.clip(x + w, 0, width)\n",
    "        # and the top right Y coord and bottom right Y coord\n",
    "        tr_y = np.clip(y,     height_top, height_bottom)\n",
    "        br_y = np.clip(y + h, height_top, height_bottom)\n",
    "\n",
    "        # calculate the width and height (length) of the rectangle and the area.\n",
    "        rect_w = tr_x - tl_x \n",
    "        rect_h = br_y - tr_y\n",
    "        rect_a = rect_w * rect_h\n",
    "\n",
    "        return rect_a"
   ]
  },
  {
   "cell_type": "code",
   "execution_count": 8,
   "metadata": {},
   "outputs": [],
   "source": [
    "n_quantiles = 5"
   ]
  },
  {
   "cell_type": "code",
   "execution_count": 9,
   "metadata": {},
   "outputs": [],
   "source": [
    "def read_file(fn):\n",
    "    \"\"\"A json reader, this function allows parallelization\"\"\"\n",
    "    metadata = pd.read_json(fn, lines=True, \n",
    "                             orient='records')\n",
    "    \n",
    "    bottom_element = metadata.apply(get_bottom, \n",
    "                                    axis=1).max()\n",
    "    metadata.loc[:, \"position_last_element\"] = bottom_element\n",
    "    metadata.loc[:, \"fn_metadata\"] = fn\n",
    "    \n",
    "    # how long is each quartile?\n",
    "    interval = (bottom_element - header) / n_quantiles\n",
    "\n",
    "    # create boundaries for four equal-sized quartiles\n",
    "    quartiles = {}\n",
    "    for i in range(0, n_quantiles):\n",
    "        upper = (i * interval) + header\n",
    "        lower = ((i + 1) * interval) + header\n",
    "        quartiles[f'q{i + 1}'] = {\n",
    "            'upper_bound' : upper,\n",
    "            'lower_bound' : lower\n",
    "        }\n",
    "\n",
    "    # calculate the area of each element in each of the quartiles.\n",
    "    for k, v in quartiles.items():\n",
    "        metadata.loc[:, f\"{k}_area\"] = metadata.apply(\n",
    "            lambda row: calc_area(\n",
    "                rect= row['dimensions'],\n",
    "                location= row['location'],\n",
    "                width= width,\n",
    "                height_top= v['upper_bound'],\n",
    "                height_bottom= v['lower_bound']\n",
    "            ), axis=1\n",
    "        )\n",
    "        \n",
    "    return metadata.to_dict(orient='records')"
   ]
  },
  {
   "cell_type": "code",
   "execution_count": 10,
   "metadata": {},
   "outputs": [
    {
     "name": "stderr",
     "output_type": "stream",
     "text": [
      "100%|██████████| 15281/15281 [02:20<00:00, 108.51it/s]\n"
     ]
    }
   ],
   "source": [
    "# how many cores to use when reading and processing files\n",
    "n_processes = 12\n",
    "\n",
    "data = []\n",
    "with Pool(n_processes) as pool:\n",
    "    for record in tqdm(pool.imap_unordered(read_file, \n",
    "                                           metadata_files), \n",
    "                       total=len(metadata_files)):\n",
    "        data.extend(record)"
   ]
  },
  {
   "cell_type": "code",
   "execution_count": 11,
   "metadata": {},
   "outputs": [],
   "source": [
    "df = pd.DataFrame(data)"
   ]
  },
  {
   "cell_type": "code",
   "execution_count": 12,
   "metadata": {},
   "outputs": [],
   "source": [
    "df = df[[c for c in df.columns if c not in ['element', 'element_class']]]"
   ]
  },
  {
   "cell_type": "code",
   "execution_count": 13,
   "metadata": {},
   "outputs": [
    {
     "name": "stdout",
     "output_type": "stream",
     "text": [
      "{\n",
      "  \"text\": \"How a Car Works \\u203a basics \\u203a how-a-...How a diesel engine works | How a Car WorksTraditionally, diesel engines have always been seen as noisy, smelly and underpowered engines of little use other than in trucks, taxis and\\u00a0...\",\n",
      "  \"link\": \"https://www.howacarworks.com/basics/how-a-diesel-engine-works\",\n",
      "  \"domain\": \"howacarworks.com\",\n",
      "  \"xpath\": \"/html/body/div[10]/div/div[6]/div/div[3]/div/div[7]/div[2]/div\",\n",
      "  \"category\": \"organic-search_result_1a\",\n",
      "  \"tag\": \"div\",\n",
      "  \"attrs\": {\n",
      "    \"class\": [\n",
      "      \"mnr-c\",\n",
      "      \"xpd\",\n",
      "      \"O9g5cc\",\n",
      "      \"uUPGi\"\n",
      "    ]\n",
      "  },\n",
      "  \"dimensions\": {\n",
      "    \"height\": 197.0,\n",
      "    \"width\": 422.0\n",
      "  },\n",
      "  \"location\": {\n",
      "    \"x\": 8,\n",
      "    \"y\": 4417\n",
      "  },\n",
      "  \"area\": 0.0,\n",
      "  \"area_page\": 72299.0,\n",
      "  \"fn_input\": \"../data/input/google_search/iPhone-X/2020/01/02/Diesel-engine/html/webpage_raw.html\",\n",
      "  \"position_last_element\": 5481.0,\n",
      "  \"q1_area\": 0.0,\n",
      "  \"q2_area\": 0.0,\n",
      "  \"q3_area\": 0.0,\n",
      "  \"q4_area\": 0.0,\n",
      "  \"q5_area\": 72299.0\n",
      "}\n"
     ]
    }
   ],
   "source": [
    "print(json.dumps(df.iloc[-1].to_dict(), \n",
    "                 indent=2))"
   ]
  },
  {
   "cell_type": "code",
   "execution_count": 14,
   "metadata": {},
   "outputs": [],
   "source": [
    "def label_data(category : str):\n",
    "    \"\"\"Thae label is the first word of each category\"\"\"\n",
    "    label = category.split('-')[0]\n",
    "    return label"
   ]
  },
  {
   "cell_type": "code",
   "execution_count": 15,
   "metadata": {},
   "outputs": [],
   "source": [
    "df['label'] = df.category.apply(label_data)"
   ]
  },
  {
   "cell_type": "code",
   "execution_count": 16,
   "metadata": {},
   "outputs": [
    {
     "data": {
      "text/plain": [
       "link       645679\n",
       "answer     228590\n",
       "organic    223239\n",
       "amp         81450\n",
       "ads          4568\n",
       "Name: label, dtype: int64"
      ]
     },
     "execution_count": 16,
     "metadata": {},
     "output_type": "execute_result"
    }
   ],
   "source": [
    "df.label.value_counts()"
   ]
  },
  {
   "cell_type": "code",
   "execution_count": 17,
   "metadata": {},
   "outputs": [
    {
     "data": {
      "text/plain": [
       "1183526"
      ]
     },
     "execution_count": 17,
     "metadata": {},
     "output_type": "execute_result"
    }
   ],
   "source": [
    "len(df)"
   ]
  },
  {
   "cell_type": "markdown",
   "metadata": {},
   "source": [
    "## Standardizing categories to be more human readible"
   ]
  },
  {
   "cell_type": "code",
   "execution_count": 18,
   "metadata": {},
   "outputs": [],
   "source": [
    "cat2catstd = {\n",
    "    'organic-search_result_1a' : 'organic-search_result',\n",
    "    'organic-search_result_2a' : 'organic-search_result',\n",
    "    'organic-search_result_2c': 'organic-search_result',\n",
    "    'organic-search_result_1b' : 'organic-search_result',\n",
    "    'organic-search_result_2b': 'organic-search_result',\n",
    "    'amp-search_result_2' : 'amp-search_result',\n",
    "    'amp-search_result_1' : 'amp-search_result',\n",
    "    'organic-tweet_2 ': 'organic-tweet',\n",
    "    'answer-expand_1' : 'answer-expand',\n",
    "    'answer-expand_2' :'answer-expand',\n",
    "    'answer-expand_3' :'answer-expand',\n",
    "    'link-google_2' : 'link-google',\n",
    "    'organic-tweet_2' : 'organic-tweet',\n",
    "    'link-button_2' : 'link-button',\n",
    "    'answer-knowledge_panel_answer_1' : 'answer-knowledge_panel_answer',\n",
    "    'answer-knowledge_panel_answer_2' : 'answer-knowledge_panel_answer',\n",
    "    'answer-date_2' : 'answer-date',\n",
    "    'link-youtube_search_result_1a' : 'link-youtube_search_result',\n",
    "    'link-youtube_search_result_2a' : 'link-youtube_search_result',\n",
    "    'link-youtube_search_result_2b' : 'link-youtube_search_result',\n",
    "    'link-flights_1' : 'link-flights',\n",
    "    'link-google_map_2' : 'link-google_map'\n",
    "}"
   ]
  },
  {
   "cell_type": "code",
   "execution_count": 19,
   "metadata": {},
   "outputs": [],
   "source": [
    "df.category.replace(cat2catstd, \n",
    "                    inplace=True)"
   ]
  },
  {
   "cell_type": "code",
   "execution_count": 20,
   "metadata": {},
   "outputs": [
    {
     "data": {
      "text/plain": [
       "66"
      ]
     },
     "execution_count": 20,
     "metadata": {},
     "output_type": "execute_result"
    }
   ],
   "source": [
    "df.category.nunique()"
   ]
  },
  {
   "cell_type": "code",
   "execution_count": 21,
   "metadata": {},
   "outputs": [],
   "source": [
    "link2subcat = {\n",
    "    'link-site_search' : 'google-search',\n",
    "    'link-movie_trailer' : 'google-video',\n",
    "    'link-video_top_answer' : 'google-video',\n",
    "    'link-local_google_maps_results' : 'google-maps',\n",
    "    'link-google_map' : 'google-maps',\n",
    "    'link-img_reverse' : 'google-images',\n",
    "    'link-knowledge_panel_tab' : 'google-knowledge-panel-links',\n",
    "    'link-knowledge_panel_title' : 'google-knowledge-panel-links',\n",
    "    'link-youtube' : 'google-video'\n",
    "}"
   ]
  },
  {
   "cell_type": "code",
   "execution_count": 22,
   "metadata": {},
   "outputs": [],
   "source": [
    "def standardize_category(row):\n",
    "    '''Logic to assign a standardized category'''\n",
    "    category = row['category']\n",
    "    label = row['label']\n",
    "    \n",
    "    if label == 'amp':\n",
    "        subcat = category\n",
    "    elif label == 'link':\n",
    "        subcat = link2subcat.get(category, 'google-misc')\n",
    "    elif label == 'answer':\n",
    "        if 'expand' in category:\n",
    "            subcat = 'google-expandable-answer'\n",
    "        else:\n",
    "            subcat = 'google-answer'\n",
    "    elif label == 'organic':\n",
    "        subcat = category if category != 'organic-tweet' else 'organic'\n",
    "    if label in ['ads']:\n",
    "        subcat = label\n",
    "    return subcat"
   ]
  },
  {
   "cell_type": "code",
   "execution_count": 23,
   "metadata": {},
   "outputs": [],
   "source": [
    "df['category_standard'] = df.apply(standardize_category, \n",
    "                                   axis=1)"
   ]
  },
  {
   "cell_type": "code",
   "execution_count": 24,
   "metadata": {},
   "outputs": [],
   "source": [
    "# makethese google search\n",
    "df.loc[(df.link.str[:9] == '/search?q') &\n",
    "       (df.label == 'link'), \n",
    "       'category_standard'] = 'google-search'"
   ]
  },
  {
   "cell_type": "code",
   "execution_count": 25,
   "metadata": {},
   "outputs": [],
   "source": [
    "df.to_json(fn_metadata, orient='records', \n",
    "           lines=True, compression='gzip')"
   ]
  },
  {
   "cell_type": "code",
   "execution_count": 27,
   "metadata": {},
   "outputs": [],
   "source": [
    "lengths = df.drop_duplicates(subset='fn_input').position_last_element"
   ]
  },
  {
   "cell_type": "code",
   "execution_count": 29,
   "metadata": {},
   "outputs": [
    {
     "data": {
      "text/plain": [
       "count    15281.000000\n",
       "mean      5013.609155\n",
       "std       1039.281390\n",
       "min        716.000000\n",
       "25%       4264.000000\n",
       "50%       4971.000000\n",
       "75%       5716.000000\n",
       "max       9056.000000\n",
       "Name: position_last_element, dtype: float64"
      ]
     },
     "execution_count": 29,
     "metadata": {},
     "output_type": "execute_result"
    }
   ],
   "source": [
    "lengths.describe()"
   ]
  },
  {
   "cell_type": "code",
   "execution_count": 46,
   "metadata": {},
   "outputs": [],
   "source": [
    "import matplotlib.pyplot as plt"
   ]
  },
  {
   "cell_type": "code",
   "execution_count": 50,
   "metadata": {},
   "outputs": [
    {
     "data": {
      "image/png": "[encoded data removed]",
      "text/plain": [
       "<Figure size 432x288 with 1 Axes>"
      ]
     },
     "metadata": {
      "needs_background": "light"
     },
     "output_type": "display_data"
    },
    {
     "data": {
      "image/png": "[encoded data removed]",
      "text/plain": [
       "<Figure size 432x288 with 1 Axes>"
      ]
     },
     "metadata": {
      "needs_background": "light"
     },
     "output_type": "display_data"
    },
    {
     "data": {
      "image/png": "[encoded data removed]",
      "text/plain": [
       "<Figure size 432x288 with 1 Axes>"
      ]
     },
     "metadata": {
      "needs_background": "light"
     },
     "output_type": "display_data"
    },
    {
     "data": {
      "image/png": "[encoded data removed]",
      "text/plain": [
       "<Figure size 432x288 with 1 Axes>"
      ]
     },
     "metadata": {
      "needs_background": "light"
     },
     "output_type": "display_data"
    },
    {
     "data": {
      "image/png": "[encoded data removed]",
      "text/plain": [
       "<Figure size 432x288 with 1 Axes>"
      ]
     },
     "metadata": {
      "needs_background": "light"
     },
     "output_type": "display_data"
    }
   ],
   "source": [
    "for col in ['q1_area', 'q2_area', 'q3_area', 'q4_area', 'q5_area']:\n",
    "    df.groupby('fn_input')[col].sum().plot(kind='hist', bins=100)\n",
    "    plt.show();"
   ]
  }
 ],
 "metadata": {
  "kernelspec": {
   "display_name": "Python 3",
   "language": "python",
   "name": "python3"
  },
  "language_info": {
   "codemirror_mode": {
    "name": "ipython",
    "version": 3
   },
   "file_extension": ".py",
   "mimetype": "text/x-python",
   "name": "python",
   "nbconvert_exporter": "python",
   "pygments_lexer": "ipython3",
   "version": "3.8.1"
  }
 },
 "nbformat": 4,
 "nbformat_minor": 4
}
