{
 "cells": [
  {
   "cell_type": "markdown",
   "metadata": {},
   "source": [
    "# Analysis\n",
    "Author: Leon Yin<br>\n",
    "Date: 2020-2-03<br>\n",
    "\n",
    "This notebook analyses the results of the element categorization and area estimations from the last notebook."
   ]
  },
  {
   "cell_type": "code",
   "execution_count": 1,
   "metadata": {},
   "outputs": [],
   "source": [
    "%load_ext autoreload\n",
    "%autoreload 2\n",
    "%matplotlib inline"
   ]
  },
  {
   "cell_type": "code",
   "execution_count": 2,
   "metadata": {},
   "outputs": [],
   "source": [
    "import os\n",
    "import sys\n",
    "import json\n",
    "import time\n",
    "import glob\n",
    "import tempfile\n",
    "import warnings\n",
    "import inspect\n",
    "from collections import Counter\n",
    "from multiprocessing import Pool\n",
    "warnings.filterwarnings('ignore')\n",
    "\n",
    "import numpy as np\n",
    "import pandas as pd\n",
    "import matplotlib.pyplot as plt\n",
    "from matplotlib.patches import Patch\n",
    "from bs4 import BeautifulSoup\n",
    "from tqdm import tqdm\n",
    "from IPython.display import display\n",
    "\n",
    "sys.path.append(\"..\")\n",
    "from utils.config import (\n",
    "    google_domains,\n",
    "    cat2color\n",
    ")"
   ]
  },
  {
   "cell_type": "markdown",
   "metadata": {},
   "source": [
    "## Read the intermediates"
   ]
  },
  {
   "cell_type": "code",
   "execution_count": 3,
   "metadata": {},
   "outputs": [],
   "source": [
    "data_dir_metadata = '../data/intermediary/google_search_real//'"
   ]
  },
  {
   "cell_type": "code",
   "execution_count": 4,
   "metadata": {},
   "outputs": [
    {
     "data": {
      "text/plain": [
       "954"
      ]
     },
     "execution_count": 4,
     "metadata": {},
     "output_type": "execute_result"
    }
   ],
   "source": [
    "metadata_files = glob.glob(\n",
    "    os.path.join(data_dir_metadata, 'iPhone-X/*/*/*/*/json/parsed_meta.ndjson')\n",
    ")\n",
    "len(metadata_files)"
   ]
  },
  {
   "cell_type": "code",
   "execution_count": 5,
   "metadata": {},
   "outputs": [
    {
     "data": {
      "text/plain": [
       "1540"
      ]
     },
     "execution_count": 5,
     "metadata": {},
     "output_type": "execute_result"
    }
   ],
   "source": [
    "16808 - 15268"
   ]
  },
  {
   "cell_type": "code",
   "execution_count": 6,
   "metadata": {},
   "outputs": [
    {
     "data": {
      "text/plain": [
       "0.09162303664921466"
      ]
     },
     "execution_count": 6,
     "metadata": {},
     "output_type": "execute_result"
    }
   ],
   "source": [
    "1540 / 16808"
   ]
  },
  {
   "cell_type": "markdown",
   "metadata": {},
   "source": [
    "## Calculations"
   ]
  },
  {
   "cell_type": "code",
   "execution_count": 7,
   "metadata": {},
   "outputs": [
    {
     "data": {
      "application/javascript": [
       "MathJax.Hub.Config({\n",
       "    TeX: { equationNumbers: { autoNumber: \"AMS\" } }\n",
       "});\n"
      ],
      "text/plain": [
       "<IPython.core.display.Javascript object>"
      ]
     },
     "metadata": {},
     "output_type": "display_data"
    }
   ],
   "source": [
    "%%javascript\n",
    "MathJax.Hub.Config({\n",
    "    TeX: { equationNumbers: { autoNumber: \"AMS\" } }\n",
    "});"
   ]
  },
  {
   "cell_type": "markdown",
   "metadata": {},
   "source": [
    "\\begin{equation}\n",
    "X_{goog} = \\frac{g}{g + o}\n",
    "\\end{equation}\n",
    "\n",
    "\\begin{equation}\n",
    "X_{goog} = \\frac{g + ad}{g + o + ad}\n",
    "\\end{equation}\n",
    "\n",
    "\\begin{equation}\n",
    "X_{goog} = \\frac{g + amp}{g + o + amp}\n",
    "\\end{equation}\n",
    "\n",
    "\\begin{equation}\n",
    "X_{goog} = \\frac{g + amp + ad}{g + o + amp + ad}\n",
    "\\end{equation}\n",
    "\n",
    "\\begin{equation}\n",
    "X_{goog} = \\frac{g}{g + o + amp + ad}\n",
    "\\end{equation}\n",
    "\n",
    "\\begin{equation}\n",
    "X_{o} = \\frac{o}{g + o + amp + ad}\n",
    "\\end{equation}\n",
    "\n",
    "\n",
    "Where <br>\n",
    "&nbsp;&nbsp;&nbsp;&nbsp; $X_{goog}$: is the percentage of pixels that occupy Google elements.<br>\n",
    "&nbsp;&nbsp;&nbsp;&nbsp; $g$: is the total sum of visable pixels occupied by Google links and answers.<br>\n",
    "&nbsp;&nbsp;&nbsp;&nbsp; $o$: is the total sum of visable pixels occupied by Organic links.<br>\n",
    "&nbsp;&nbsp;&nbsp;&nbsp; $ad$: is the total sum of visable pixels occupied by ads.<br>\n",
    "&nbsp;&nbsp;&nbsp;&nbsp; $amp$: is the total sum of visable pixels occupied by AMP.<br>"
   ]
  },
  {
   "cell_type": "code",
   "execution_count": 5,
   "metadata": {},
   "outputs": [],
   "source": [
    "def read_file(fn):\n",
    "    \"\"\"A json reader, this function allows parallelization\"\"\"\n",
    "    df_merged = pd.read_json(fn, lines=True, orient='records')\n",
    "    return df_merged.to_dict(orient='records')"
   ]
  },
  {
   "cell_type": "code",
   "execution_count": 6,
   "metadata": {},
   "outputs": [
    {
     "name": "stderr",
     "output_type": "stream",
     "text": [
      "100%|██████████| 954/954 [00:02<00:00, 405.92it/s]\n"
     ]
    }
   ],
   "source": [
    "n_processes = 12\n",
    "\n",
    "data = []\n",
    "with Pool(n_processes) as pool:\n",
    "    for record in tqdm(pool.imap_unordered(read_file, \n",
    "                                           metadata_files), \n",
    "                       total=len(metadata_files)):\n",
    "        data.extend(record)"
   ]
  },
  {
   "cell_type": "code",
   "execution_count": 7,
   "metadata": {},
   "outputs": [],
   "source": [
    "df = pd.DataFrame(data)"
   ]
  },
  {
   "cell_type": "code",
   "execution_count": 11,
   "metadata": {},
   "outputs": [],
   "source": [
    "import json"
   ]
  },
  {
   "cell_type": "code",
   "execution_count": 12,
   "metadata": {},
   "outputs": [
    {
     "data": {
      "text/plain": [
       "0"
      ]
     },
     "execution_count": 12,
     "metadata": {},
     "output_type": "execute_result"
    }
   ],
   "source": [
    "len(df[~df.element.isnull()])"
   ]
  },
  {
   "cell_type": "code",
   "execution_count": 13,
   "metadata": {},
   "outputs": [
    {
     "name": "stdout",
     "output_type": "stream",
     "text": [
      "{\n",
      "  \"text\": \"How a Car Works \\u203a basics \\u203a how-a-...How a diesel engine works | How a Car WorksTraditionally, diesel engines have always been seen as noisy, smelly and underpowered engines of little use other than in trucks, taxis and\\u00a0...\",\n",
      "  \"link\": \"https://www.howacarworks.com/basics/how-a-diesel-engine-works\",\n",
      "  \"domain\": \"howacarworks.com\",\n",
      "  \"xpath\": \"/html/body/div[10]/div/div[6]/div/div[3]/div/div[7]/div[2]/div\",\n",
      "  \"element_class\": \"mnr-c|xpd|O9g5cc|uUPGi\",\n",
      "  \"category\": \"organic-search_result_1a\",\n",
      "  \"element\": NaN,\n",
      "  \"tag\": \"div\",\n",
      "  \"attrs\": {\n",
      "    \"class\": [\n",
      "      \"mnr-c\",\n",
      "      \"xpd\",\n",
      "      \"O9g5cc\",\n",
      "      \"uUPGi\"\n",
      "    ]\n",
      "  },\n",
      "  \"dimensions\": {\n",
      "    \"height\": 225.0,\n",
      "    \"width\": 347.0\n",
      "  },\n",
      "  \"location\": {\n",
      "    \"x\": 8,\n",
      "    \"y\": 4545\n",
      "  },\n",
      "  \"area\": 0.0,\n",
      "  \"area_page\": 78075.0,\n",
      "  \"fn_input\": \"../data/input/google_search/iPhone-X/2020/01/02/Diesel-engine/html/webpage_raw.html\"\n",
      "}\n"
     ]
    }
   ],
   "source": [
    "print(json.dumps(df.iloc[-1].to_dict(), indent=2))"
   ]
  },
  {
   "cell_type": "code",
   "execution_count": 8,
   "metadata": {},
   "outputs": [],
   "source": [
    "def label_data(category : str):\n",
    "    \"\"\"The label is the first word of each category\"\"\"\n",
    "    label = category.split('-')[0]\n",
    "    return label"
   ]
  },
  {
   "cell_type": "code",
   "execution_count": 9,
   "metadata": {},
   "outputs": [],
   "source": [
    "df['label'] = df.category.apply(label_data)"
   ]
  },
  {
   "cell_type": "code",
   "execution_count": 10,
   "metadata": {},
   "outputs": [
    {
     "data": {
      "text/plain": [
       "link       22499\n",
       "organic     9443\n",
       "answer      6322\n",
       "amp         2783\n",
       "ads          215\n",
       "Name: label, dtype: int64"
      ]
     },
     "execution_count": 10,
     "metadata": {},
     "output_type": "execute_result"
    }
   ],
   "source": [
    "df.label.value_counts()"
   ]
  },
  {
   "cell_type": "code",
   "execution_count": 17,
   "metadata": {},
   "outputs": [
    {
     "data": {
      "text/plain": [
       "1182797"
      ]
     },
     "execution_count": 17,
     "metadata": {},
     "output_type": "execute_result"
    }
   ],
   "source": [
    "len(df)"
   ]
  },
  {
   "cell_type": "markdown",
   "metadata": {},
   "source": [
    "## Standardizing categories to be more human readible"
   ]
  },
  {
   "cell_type": "code",
   "execution_count": 11,
   "metadata": {},
   "outputs": [],
   "source": [
    "cat2catstd = {\n",
    "    'organic-search_result_1a' : 'organic-search_result',\n",
    "     'organic-search_result_2a' : 'organic-search_result',\n",
    "    'organic-search_result_2c': 'organic-search_result',\n",
    "    'organic-search_result_1b' : 'organic-search_result',\n",
    "    'organic-search_result_2b': 'organic-search_result',\n",
    "    'amp-search_result_2' : 'amp-search_result',\n",
    "    'amp-search_result_1' : 'amp-search_result',\n",
    "    'organic-tweet_2 ': 'organic-tweet',\n",
    "    'answer-expand_1' : 'answer-expand',\n",
    "    'answer-expand_2' :'answer-expand',\n",
    "    'answer-expand_3' :'answer-expand',\n",
    "    'link-google_2' : 'link-google',\n",
    "    'organic-tweet_2' : 'organic-tweet',\n",
    "    'link-button_2' : 'link-button',\n",
    "    'answer-knowledge_panel_answer_1' : 'answer-knowledge_panel_answer',\n",
    "    'answer-knowledge_panel_answer_2' : 'answer-knowledge_panel_answer',\n",
    "    'answer-date_2' : 'answer-date'\n",
    "    \n",
    "}"
   ]
  },
  {
   "cell_type": "code",
   "execution_count": 12,
   "metadata": {},
   "outputs": [],
   "source": [
    "df.category.replace(cat2catstd, inplace=True)"
   ]
  },
  {
   "cell_type": "code",
   "execution_count": 13,
   "metadata": {},
   "outputs": [
    {
     "data": {
      "text/plain": [
       "link-google                            13185\n",
       "organic-search_result                   6349\n",
       "link-img_reverse                        3505\n",
       "answer-expand                           3430\n",
       "organic                                 2682\n",
       "answer-knowledge_graph_factoid          2362\n",
       "link-youtube                            1933\n",
       "link-button                             1709\n",
       "amp-search_result                       1704\n",
       "link-knowledge_panel_tab                1308\n",
       "amp-card                                1056\n",
       "organic-tweet                            412\n",
       "answer-knowledge_panel_answer            350\n",
       "link-load_more                           293\n",
       "link-local_people_also_search            234\n",
       "ads-google_ad_services                    89\n",
       "link-google_map                           49\n",
       "answer-ugc                                44\n",
       "link-filter                               42\n",
       "ads-merchant                              40\n",
       "link-watchlist                            40\n",
       "ads-product                               39\n",
       "link-google_alt                           39\n",
       "link-knowledge_panel_title                36\n",
       "ads-general                               31\n",
       "link-topic                                29\n",
       "link-local_questions                      24\n",
       "amp-visual_stories                        23\n",
       "answer-local_hours_expand                 22\n",
       "link-filter_product_refinement            18\n",
       "answer-date                               16\n",
       "link-site_search                          15\n",
       "answer-dictionary                         14\n",
       "ads-aria                                  14\n",
       "answer-finance_stocks                     14\n",
       "answer-knowledge_health                   12\n",
       "answer-local_popular_times                11\n",
       "link-knowlege_panel_owner_post            11\n",
       "answer-medical                            10\n",
       "answer-local_description                   9\n",
       "link-filter_refinement                     8\n",
       "answer-quote                               7\n",
       "link-fullpage                              6\n",
       "link-local_menu                            5\n",
       "answer-courses                             5\n",
       "answer-tv_episodes                         4\n",
       "answer-lyrics                              4\n",
       "answer-unit_converter                      3\n",
       "link-load_see_all                          3\n",
       "answer-feature_snippet_answer_short        3\n",
       "Name: category, dtype: int64"
      ]
     },
     "execution_count": 13,
     "metadata": {},
     "output_type": "execute_result"
    }
   ],
   "source": [
    "df.category.value_counts().head(50)"
   ]
  },
  {
   "cell_type": "code",
   "execution_count": 14,
   "metadata": {},
   "outputs": [],
   "source": [
    "link2subcat = {\n",
    "    'link-site_search' : 'google-search',\n",
    "    'link-movie_trailer' : 'google-video',\n",
    "    'link-video_top_answer' : 'google-video',\n",
    "    'link-local_google_maps_results' : 'google-maps',\n",
    "    'link-google_map' : 'google-maps',\n",
    "    'link-img_reverse' : 'google-images',\n",
    "    'link-knowledge_panel_tab' : 'google-knowledge-panel-links',\n",
    "    'link-knowledge_panel_title' : 'google-knowledge-panel-links',\n",
    "    'link-youtube' : 'google-video'\n",
    "}"
   ]
  },
  {
   "cell_type": "code",
   "execution_count": 15,
   "metadata": {},
   "outputs": [],
   "source": [
    "def standardize_category(row):\n",
    "    '''Logic to assign a standardized category'''\n",
    "    category = row['category']\n",
    "    label = row['label']\n",
    "    \n",
    "    if label == 'amp':\n",
    "        subcat = category\n",
    "    elif label == 'link':\n",
    "        subcat = link2subcat.get(category, 'google-misc')\n",
    "    elif label == 'answer':\n",
    "        if 'expand' in category:\n",
    "            subcat = 'google-exapandable-answer'\n",
    "        else:\n",
    "            subcat = 'google-answer'\n",
    "    if label in ['organic', 'ads']:\n",
    "        subcat = label\n",
    "    return subcat"
   ]
  },
  {
   "cell_type": "code",
   "execution_count": 16,
   "metadata": {},
   "outputs": [],
   "source": [
    "df['category_standard'] = df.apply(standardize_category, axis=1)"
   ]
  },
  {
   "cell_type": "code",
   "execution_count": 17,
   "metadata": {},
   "outputs": [],
   "source": [
    "# makethese google search\n",
    "df.loc[(df.link.str[:9] == '/search?q') &\n",
    "       (df.label == 'link'), 'category_standard'] = 'google-search'"
   ]
  },
  {
   "cell_type": "code",
   "execution_count": 47,
   "metadata": {},
   "outputs": [],
   "source": [
    "df.to_json('../data/intermediary/element_metadata_15k.jsonl',\n",
    "           orient='records', lines=True)"
   ]
  }
 ],
 "metadata": {
  "kernelspec": {
   "display_name": "Python 3",
   "language": "python",
   "name": "python3"
  },
  "language_info": {
   "codemirror_mode": {
    "name": "ipython",
    "version": 3
   },
   "file_extension": ".py",
   "mimetype": "text/x-python",
   "name": "python",
   "nbconvert_exporter": "python",
   "pygments_lexer": "ipython3",
   "version": "3.8.1"
  }
 },
 "nbformat": 4,
 "nbformat_minor": 4
}
